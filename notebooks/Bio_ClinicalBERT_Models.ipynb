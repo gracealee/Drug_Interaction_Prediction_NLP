{
 "cells": [
  {
   "cell_type": "markdown",
   "metadata": {
    "id": "WJBcLN0Pbhb-"
   },
   "source": [
    "# Bio-ClinicalBert Model Training\n"
   ]
  },
  {
   "cell_type": "markdown",
   "metadata": {
    "id": "xXRFpxN6az7l"
   },
   "source": [
    "## Set Up"
   ]
  },
  {
   "cell_type": "code",
   "execution_count": 1,
   "metadata": {
    "colab": {
     "base_uri": "https://localhost:8080/"
    },
    "id": "Bzze1tEbzyZ0",
    "outputId": "4bfdc40d-4ad6-4fa1-b950-6281a13fe217"
   },
   "outputs": [
    {
     "name": "stdout",
     "output_type": "stream",
     "text": [
      "Collecting transformers\n",
      "  Downloading transformers-4.30.2-py3-none-any.whl (7.2 MB)\n",
      "\u001B[2K     \u001B[90m━━━━━━━━━━━━━━━━━━━━━━━━━━━━━━━━━━━━━━━━\u001B[0m \u001B[32m7.2/7.2 MB\u001B[0m \u001B[31m29.3 MB/s\u001B[0m eta \u001B[36m0:00:00\u001B[0m:00:01\u001B[0m00:01\u001B[0m\n",
      "\u001B[?25hCollecting datasets\n",
      "  Downloading datasets-2.13.1-py3-none-any.whl (486 kB)\n",
      "\u001B[2K     \u001B[90m━━━━━━━━━━━━━━━━━━━━━━━━━━━━━━━━━━━━━━\u001B[0m \u001B[32m486.2/486.2 kB\u001B[0m \u001B[31m73.0 MB/s\u001B[0m eta \u001B[36m0:00:00\u001B[0m\n",
      "\u001B[?25hCollecting accelerate\n",
      "  Downloading accelerate-0.20.3-py3-none-any.whl (227 kB)\n",
      "\u001B[2K     \u001B[90m━━━━━━━━━━━━━━━━━━━━━━━━━━━━━━━━━━━━━━━\u001B[0m \u001B[32m227.6/227.6 kB\u001B[0m \u001B[31m2.5 MB/s\u001B[0m eta \u001B[36m0:00:00\u001B[0m00:01\u001B[0m\n",
      "\u001B[?25hCollecting evaluate\n",
      "  Downloading evaluate-0.4.0-py3-none-any.whl (81 kB)\n",
      "\u001B[2K     \u001B[90m━━━━━━━━━━━━━━━━━━━━━━━━━━━━━━━━━━━━━━━━\u001B[0m \u001B[32m81.4/81.4 kB\u001B[0m \u001B[31m18.6 MB/s\u001B[0m eta \u001B[36m0:00:00\u001B[0m\n",
      "\u001B[?25hRequirement already satisfied: filelock in /opt/conda/envs/pytorch/lib/python3.10/site-packages (from transformers) (3.12.2)\n",
      "Collecting huggingface-hub<1.0,>=0.14.1 (from transformers)\n",
      "  Downloading huggingface_hub-0.15.1-py3-none-any.whl (236 kB)\n",
      "\u001B[2K     \u001B[90m━━━━━━━━━━━━━━━━━━━━━━━━━━━━━━━━━━━━━━\u001B[0m \u001B[32m236.8/236.8 kB\u001B[0m \u001B[31m42.8 MB/s\u001B[0m eta \u001B[36m0:00:00\u001B[0m\n",
      "\u001B[?25hRequirement already satisfied: numpy>=1.17 in /opt/conda/envs/pytorch/lib/python3.10/site-packages (from transformers) (1.24.4)\n",
      "Requirement already satisfied: packaging>=20.0 in /opt/conda/envs/pytorch/lib/python3.10/site-packages (from transformers) (21.3)\n",
      "Requirement already satisfied: pyyaml>=5.1 in /opt/conda/envs/pytorch/lib/python3.10/site-packages (from transformers) (6.0)\n",
      "Collecting regex!=2019.12.17 (from transformers)\n",
      "  Downloading regex-2023.6.3-cp310-cp310-manylinux_2_17_x86_64.manylinux2014_x86_64.whl (770 kB)\n",
      "\u001B[2K     \u001B[90m━━━━━━━━━━━━━━━━━━━━━━━━━━━━━━━━━━━━━━━\u001B[0m \u001B[32m770.4/770.4 kB\u001B[0m \u001B[31m9.4 MB/s\u001B[0m eta \u001B[36m0:00:00\u001B[0m00:01\u001B[0m\n",
      "\u001B[?25hRequirement already satisfied: requests in /opt/conda/envs/pytorch/lib/python3.10/site-packages (from transformers) (2.31.0)\n",
      "Collecting tokenizers!=0.11.3,<0.14,>=0.11.1 (from transformers)\n",
      "  Downloading tokenizers-0.13.3-cp310-cp310-manylinux_2_17_x86_64.manylinux2014_x86_64.whl (7.8 MB)\n",
      "\u001B[2K     \u001B[90m━━━━━━━━━━━━━━━━━━━━━━━━━━━━━━━━━━━━━━━━\u001B[0m \u001B[32m7.8/7.8 MB\u001B[0m \u001B[31m29.5 MB/s\u001B[0m eta \u001B[36m0:00:00\u001B[0m:00:01\u001B[0m00:01\u001B[0m\n",
      "\u001B[?25hCollecting safetensors>=0.3.1 (from transformers)\n",
      "  Downloading safetensors-0.3.1-cp310-cp310-manylinux_2_17_x86_64.manylinux2014_x86_64.whl (1.3 MB)\n",
      "\u001B[2K     \u001B[90m━━━━━━━━━━━━━━━━━━━━━━━━━━━━━━━━━━━━━━━━\u001B[0m \u001B[32m1.3/1.3 MB\u001B[0m \u001B[31m14.0 MB/s\u001B[0m eta \u001B[36m0:00:00\u001B[0m:00:01\u001B[0m\n",
      "\u001B[?25hRequirement already satisfied: tqdm>=4.27 in /opt/conda/envs/pytorch/lib/python3.10/site-packages (from transformers) (4.65.0)\n",
      "Requirement already satisfied: pyarrow>=8.0.0 in /opt/conda/envs/pytorch/lib/python3.10/site-packages (from datasets) (12.0.1)\n",
      "Requirement already satisfied: dill<0.3.7,>=0.3.0 in /opt/conda/envs/pytorch/lib/python3.10/site-packages (from datasets) (0.3.6)\n",
      "Requirement already satisfied: pandas in /opt/conda/envs/pytorch/lib/python3.10/site-packages (from datasets) (2.0.2)\n",
      "Collecting xxhash (from datasets)\n",
      "  Downloading xxhash-3.2.0-cp310-cp310-manylinux_2_17_x86_64.manylinux2014_x86_64.whl (212 kB)\n",
      "\u001B[2K     \u001B[90m━━━━━━━━━━━━━━━━━━━━━━━━━━━━━━━━━━━━━━━\u001B[0m \u001B[32m212.5/212.5 kB\u001B[0m \u001B[31m1.6 MB/s\u001B[0m eta \u001B[36m0:00:00\u001B[0ma \u001B[36m0:00:01\u001B[0m\n",
      "\u001B[?25hRequirement already satisfied: multiprocess in /opt/conda/envs/pytorch/lib/python3.10/site-packages (from datasets) (0.70.14)\n",
      "Requirement already satisfied: fsspec[http]>=2021.11.1 in /opt/conda/envs/pytorch/lib/python3.10/site-packages (from datasets) (2023.6.0)\n",
      "Collecting aiohttp (from datasets)\n",
      "  Downloading aiohttp-3.8.4-cp310-cp310-manylinux_2_17_x86_64.manylinux2014_x86_64.whl (1.0 MB)\n",
      "\u001B[2K     \u001B[90m━━━━━━━━━━━━━━━━━━━━━━━━━━━━━━━━━━━━━━━━\u001B[0m \u001B[32m1.0/1.0 MB\u001B[0m \u001B[31m8.0 MB/s\u001B[0m eta \u001B[36m0:00:00\u001B[0m0:00:01\u001B[0m\n",
      "\u001B[?25hRequirement already satisfied: psutil in /opt/conda/envs/pytorch/lib/python3.10/site-packages (from accelerate) (5.9.5)\n",
      "Requirement already satisfied: torch>=1.6.0 in /opt/conda/envs/pytorch/lib/python3.10/site-packages (from accelerate) (2.0.1)\n",
      "Collecting responses<0.19 (from evaluate)\n",
      "  Downloading responses-0.18.0-py3-none-any.whl (38 kB)\n",
      "Requirement already satisfied: attrs>=17.3.0 in /opt/conda/envs/pytorch/lib/python3.10/site-packages (from aiohttp->datasets) (23.1.0)\n",
      "Requirement already satisfied: charset-normalizer<4.0,>=2.0 in /opt/conda/envs/pytorch/lib/python3.10/site-packages (from aiohttp->datasets) (3.1.0)\n",
      "Collecting multidict<7.0,>=4.5 (from aiohttp->datasets)\n",
      "  Downloading multidict-6.0.4-cp310-cp310-manylinux_2_17_x86_64.manylinux2014_x86_64.whl (114 kB)\n",
      "\u001B[2K     \u001B[90m━━━━━━━━━━━━━━━━━━━━━━━━━━━━━━━━━━━━━━\u001B[0m \u001B[32m114.5/114.5 kB\u001B[0m \u001B[31m26.4 MB/s\u001B[0m eta \u001B[36m0:00:00\u001B[0m\n",
      "\u001B[?25hCollecting async-timeout<5.0,>=4.0.0a3 (from aiohttp->datasets)\n",
      "  Downloading async_timeout-4.0.2-py3-none-any.whl (5.8 kB)\n",
      "Collecting yarl<2.0,>=1.0 (from aiohttp->datasets)\n",
      "  Downloading yarl-1.9.2-cp310-cp310-manylinux_2_17_x86_64.manylinux2014_x86_64.whl (268 kB)\n",
      "\u001B[2K     \u001B[90m━━━━━━━━━━━━━━━━━━━━━━━━━━━━━━━━━━━━━━━\u001B[0m \u001B[32m268.8/268.8 kB\u001B[0m \u001B[31m2.5 MB/s\u001B[0m eta \u001B[36m0:00:00\u001B[0m00:01\u001B[0m\n",
      "\u001B[?25hCollecting frozenlist>=1.1.1 (from aiohttp->datasets)\n",
      "  Downloading frozenlist-1.3.3-cp310-cp310-manylinux_2_5_x86_64.manylinux1_x86_64.manylinux_2_17_x86_64.manylinux2014_x86_64.whl (149 kB)\n",
      "\u001B[2K     \u001B[90m━━━━━━━━━━━━━━━━━━━━━━━━━━━━━━━━━━━━━━\u001B[0m \u001B[32m149.6/149.6 kB\u001B[0m \u001B[31m28.4 MB/s\u001B[0m eta \u001B[36m0:00:00\u001B[0m\n",
      "\u001B[?25hCollecting aiosignal>=1.1.2 (from aiohttp->datasets)\n",
      "  Downloading aiosignal-1.3.1-py3-none-any.whl (7.6 kB)\n",
      "Requirement already satisfied: typing-extensions>=3.7.4.3 in /opt/conda/envs/pytorch/lib/python3.10/site-packages (from huggingface-hub<1.0,>=0.14.1->transformers) (4.6.3)\n",
      "Requirement already satisfied: pyparsing!=3.0.5,>=2.0.2 in /opt/conda/envs/pytorch/lib/python3.10/site-packages (from packaging>=20.0->transformers) (3.1.0)\n",
      "Requirement already satisfied: idna<4,>=2.5 in /opt/conda/envs/pytorch/lib/python3.10/site-packages (from requests->transformers) (3.4)\n",
      "Requirement already satisfied: urllib3<3,>=1.21.1 in /opt/conda/envs/pytorch/lib/python3.10/site-packages (from requests->transformers) (1.26.15)\n",
      "Requirement already satisfied: certifi>=2017.4.17 in /opt/conda/envs/pytorch/lib/python3.10/site-packages (from requests->transformers) (2023.5.7)\n",
      "Requirement already satisfied: sympy in /opt/conda/envs/pytorch/lib/python3.10/site-packages (from torch>=1.6.0->accelerate) (1.12)\n",
      "Requirement already satisfied: networkx in /opt/conda/envs/pytorch/lib/python3.10/site-packages (from torch>=1.6.0->accelerate) (3.1)\n",
      "Requirement already satisfied: jinja2 in /opt/conda/envs/pytorch/lib/python3.10/site-packages (from torch>=1.6.0->accelerate) (3.1.2)\n",
      "Requirement already satisfied: python-dateutil>=2.8.2 in /opt/conda/envs/pytorch/lib/python3.10/site-packages (from pandas->datasets) (2.8.2)\n",
      "Requirement already satisfied: pytz>=2020.1 in /opt/conda/envs/pytorch/lib/python3.10/site-packages (from pandas->datasets) (2023.3)\n",
      "Requirement already satisfied: tzdata>=2022.1 in /opt/conda/envs/pytorch/lib/python3.10/site-packages (from pandas->datasets) (2023.3)\n",
      "Requirement already satisfied: six>=1.5 in /opt/conda/envs/pytorch/lib/python3.10/site-packages (from python-dateutil>=2.8.2->pandas->datasets) (1.16.0)\n",
      "Requirement already satisfied: MarkupSafe>=2.0 in /opt/conda/envs/pytorch/lib/python3.10/site-packages (from jinja2->torch>=1.6.0->accelerate) (2.1.3)\n",
      "Requirement already satisfied: mpmath>=0.19 in /opt/conda/envs/pytorch/lib/python3.10/site-packages (from sympy->torch>=1.6.0->accelerate) (1.3.0)\n",
      "Installing collected packages: tokenizers, safetensors, xxhash, regex, multidict, frozenlist, async-timeout, yarl, responses, huggingface-hub, aiosignal, transformers, aiohttp, accelerate, datasets, evaluate\n",
      "Successfully installed accelerate-0.20.3 aiohttp-3.8.4 aiosignal-1.3.1 async-timeout-4.0.2 datasets-2.13.1 evaluate-0.4.0 frozenlist-1.3.3 huggingface-hub-0.15.1 multidict-6.0.4 regex-2023.6.3 responses-0.18.0 safetensors-0.3.1 tokenizers-0.13.3 transformers-4.30.2 xxhash-3.2.0 yarl-1.9.2\n"
     ]
    }
   ],
   "source": [
    "!pip install transformers datasets accelerate evaluate"
   ]
  },
  {
   "cell_type": "code",
   "execution_count": 2,
   "metadata": {
    "colab": {
     "base_uri": "https://localhost:8080/"
    },
    "id": "GFoFGOtwnw4l",
    "outputId": "84152a8b-de3b-48d8-b4d5-9c68c53c0060"
   },
   "outputs": [
    {
     "name": "stdout",
     "output_type": "stream",
     "text": [
      "Mounted at /content/drive\n"
     ]
    }
   ],
   "source": [
    "# from google.colab import drive\n",
    "# drive.mount('/content/drive', force_remount=True)"
   ]
  },
  {
   "cell_type": "code",
   "execution_count": 1,
   "metadata": {
    "colab": {
     "base_uri": "https://localhost:8080/"
    },
    "id": "LdyR8ebgBvHH",
    "outputId": "1648ad36-2eef-4367-cc9f-ed844720088f"
   },
   "outputs": [
    {
     "name": "stdout",
     "output_type": "stream",
     "text": [
      "/home/ubuntu/capstone-project/notebooks\n"
     ]
    }
   ],
   "source": [
    "!pwd"
   ]
  },
  {
   "cell_type": "code",
   "execution_count": 2,
   "metadata": {
    "colab": {
     "base_uri": "https://localhost:8080/"
    },
    "id": "oPctZrfioRL2",
    "outputId": "a93f746f-6db7-4606-83d4-6ce59fc0737d"
   },
   "outputs": [
    {
     "name": "stdout",
     "output_type": "stream",
     "text": [
      "/home/ubuntu/capstone-project\n"
     ]
    }
   ],
   "source": [
    "# cd drive/MyDrive/w210_Capstone/\n",
    "%cd .."
   ]
  },
  {
   "cell_type": "code",
   "execution_count": 3,
   "metadata": {
    "id": "tTc68Jv4qX-Z"
   },
   "outputs": [],
   "source": [
    "import torch\n",
    "import torch.nn as nn\n",
    "# import torch.nn.functional as F\n",
    "from torch.utils.data import Dataset, DataLoader, RandomSampler, SequentialSampler, TensorDataset\n",
    "import torch.backends.cudnn as cudnn\n",
    "import torch.optim as optim\n",
    "\n",
    "from transformers import AutoTokenizer, AutoModel, Trainer, TrainingArguments\n",
    "from transformers import AdamW, get_cosine_schedule_with_warmup\n",
    "from datasets import load_metric, load_dataset\n",
    "\n",
    "import re\n",
    "import random\n",
    "import pandas as pd\n",
    "import seaborn as sns\n",
    "import numpy as np\n",
    "import matplotlib.pyplot as plt\n",
    "import pprint\n",
    "import os\n",
    "import shutil\n",
    "import time\n",
    "import datetime\n",
    "\n",
    "from sklearn import metrics\n",
    "from sklearn.metrics import confusion_matrix, classification_report\n",
    "from sklearn.metrics import precision_recall_curve, average_precision_score, auc\n",
    "\n",
    "from logging import warning\n",
    "import warnings\n",
    "warnings.filterwarnings('ignore')"
   ]
  },
  {
   "cell_type": "code",
   "execution_count": 4,
   "metadata": {
    "colab": {
     "base_uri": "https://localhost:8080/"
    },
    "id": "T3R6Dk4z4aFV",
    "outputId": "69cf9163-496a-4314-f1bf-668ed0788719"
   },
   "outputs": [
    {
     "name": "stdout",
     "output_type": "stream",
     "text": [
      "Number of GPU(s) available: 1\n",
      "GPU device name: NVIDIA A10G\n"
     ]
    }
   ],
   "source": [
    "\n",
    "if torch.cuda.is_available():\n",
    "    # device = torch.device(\"cuda\")\n",
    "    device = \"cuda\"\n",
    "    print('Number of GPU(s) available:', torch.cuda.device_count())\n",
    "    print('GPU device name:', torch.cuda.get_device_name(0))\n",
    "\n",
    "else:\n",
    "    print('No GPU available')\n",
    "    # device = torch.device(\"cpu\")\n",
    "    device = \"cpu\""
   ]
  },
  {
   "cell_type": "markdown",
   "metadata": {
    "id": "u_tC-YTn5dPf"
   },
   "source": [
    "## Test Embedding with Bio-ClinicalBERT"
   ]
  },
  {
   "cell_type": "code",
   "execution_count": 6,
   "metadata": {
    "colab": {
     "base_uri": "https://localhost:8080/"
    },
    "id": "o5-NcZQS2G5Z",
    "outputId": "364135df-0100-4056-8165-6920d1f212f8"
   },
   "outputs": [
    {
     "data": {
      "application/vnd.jupyter.widget-view+json": {
       "model_id": "e8930b4236c34fb5b2ddc5b3fca7048a",
       "version_major": 2,
       "version_minor": 0
      },
      "text/plain": [
       "Downloading (…)lve/main/config.json:   0%|          | 0.00/385 [00:00<?, ?B/s]"
      ]
     },
     "metadata": {},
     "output_type": "display_data"
    },
    {
     "data": {
      "application/vnd.jupyter.widget-view+json": {
       "model_id": "b0e14bd9966a46308eb56bf1c7cbc1c9",
       "version_major": 2,
       "version_minor": 0
      },
      "text/plain": [
       "Downloading (…)solve/main/vocab.txt:   0%|          | 0.00/213k [00:00<?, ?B/s]"
      ]
     },
     "metadata": {},
     "output_type": "display_data"
    },
    {
     "data": {
      "application/vnd.jupyter.widget-view+json": {
       "model_id": "fad1fee7d1d54e3fa5a5e1a9a5664df7",
       "version_major": 2,
       "version_minor": 0
      },
      "text/plain": [
       "Downloading pytorch_model.bin:   0%|          | 0.00/436M [00:00<?, ?B/s]"
      ]
     },
     "metadata": {},
     "output_type": "display_data"
    },
    {
     "name": "stderr",
     "output_type": "stream",
     "text": [
      "Some weights of the model checkpoint at emilyalsentzer/Bio_ClinicalBERT were not used when initializing BertModel: ['cls.seq_relationship.weight', 'cls.predictions.bias', 'cls.predictions.transform.dense.weight', 'cls.seq_relationship.bias', 'cls.predictions.transform.dense.bias', 'cls.predictions.transform.LayerNorm.bias', 'cls.predictions.transform.LayerNorm.weight', 'cls.predictions.decoder.weight']\n",
      "- This IS expected if you are initializing BertModel from the checkpoint of a model trained on another task or with another architecture (e.g. initializing a BertForSequenceClassification model from a BertForPreTraining model).\n",
      "- This IS NOT expected if you are initializing BertModel from the checkpoint of a model that you expect to be exactly identical (initializing a BertForSequenceClassification model from a BertForSequenceClassification model).\n"
     ]
    }
   ],
   "source": [
    "#import the transformers module\n",
    "\n",
    "\n",
    "#load the pre-trained BioBERT model and tokenizer\n",
    "# tokenizer = AutoTokenizer.from_pretrained(\"dmis-lab/biobert-base-cased-v1.1\")\n",
    "tokenizer = AutoTokenizer.from_pretrained('emilyalsentzer/Bio_ClinicalBERT')\n",
    "\n",
    "# model = AutoModel.from_pretrained(\"dmis-lab/biobert-base-cased-v1.1\")\n",
    "model = AutoModel.from_pretrained(\"emilyalsentzer/Bio_ClinicalBERT\")\n"
   ]
  },
  {
   "cell_type": "code",
   "execution_count": 18,
   "metadata": {
    "colab": {
     "base_uri": "https://localhost:8080/"
    },
    "id": "ymIHA5BqtFX8",
    "outputId": "a6ba0756-5ed9-4c9e-dca1-b11e561c59a9"
   },
   "outputs": [
    {
     "name": "stdout",
     "output_type": "stream",
     "text": [
      "['[', 'h', ']', '[', 'c', '@', ']', '12', '##cc', '[', 'c', '@', ']', '3', '(']\n",
      "[')', 'o', '##2', ')', '[', 'c', '@', '@', 'h', ']', '(', 'c', ')', 'o', '##1']\n"
     ]
    }
   ],
   "source": [
    "# Test Tokenizer\n",
    "test_smiles1 = \"[H][C@]12CC[C@]3([H])[C@]([H])(C[C@@H](O)[C@]4(C)[C@H](CC[C@]34O)C3=CC(=O)OC3)[C@@]1(C)CC[C@@H](C2)O[C@H]1C[C@H](O)[C@H](O[C@H]2C[C@H](O)[C@H](O[C@H]3C[C@H](O)[C@H](O)[C@@H](C)O3)[C@@H](C)O2)[C@@H](C)O1\"\n",
    "print(tokenizer.tokenize(test_smiles1)[:15])\n",
    "print(tokenizer.tokenize(test_smiles1)[-15:])"
   ]
  },
  {
   "cell_type": "code",
   "execution_count": 8,
   "metadata": {
    "colab": {
     "base_uri": "https://localhost:8080/"
    },
    "id": "6ibD4DvV3VE3",
    "outputId": "4264a3e2-0cb0-44c0-ab7b-4b4530239861"
   },
   "outputs": [
    {
     "name": "stdout",
     "output_type": "stream",
     "text": [
      "torch.Size([1, 768])\n",
      "tensor([ 0.0166,  0.1456,  0.4483, -0.9992,  0.9963], grad_fn=<SliceBackward0>)\n"
     ]
    }
   ],
   "source": [
    "# Test Model Output\n",
    "#get the input ids and attention mask for SMILES\n",
    "inputs1 = tokenizer(test_smiles1, return_tensors='pt')\n",
    "input_ids1 = inputs1[\"input_ids\"]\n",
    "attention_mask1 = inputs1[\"attention_mask\"]\n",
    "\n",
    "#get the output of the model\n",
    "outputs1 = model(input_ids1, attention_mask=attention_mask1)\n",
    "\n",
    "# Get the last hidden state of the model\n",
    "# Get the vector for the drug nameby averaging the vectors of each token\n",
    "# vector1 = outputs1[0].mean(dim=1)\n",
    "# Get pooler token\n",
    "vector1 = outputs1[1]\n",
    "\n",
    "#print the vector\n",
    "print(vector1.size())\n",
    "print(vector1[0][:5])"
   ]
  },
  {
   "cell_type": "code",
   "execution_count": 9,
   "metadata": {
    "colab": {
     "base_uri": "https://localhost:8080/"
    },
    "id": "snF-09Gf-Cea",
    "outputId": "c3bc62f1-9c88-4cbf-95ce-6153831816fb"
   },
   "outputs": [
    {
     "name": "stdout",
     "output_type": "stream",
     "text": [
      "tensor([[  101,   164,   177,   166,   164,   172,   137,   166,  1367, 19515,\n",
      "           164,   172,   137,   166,   124,   113,   164,   177,   166,   114,\n",
      "           164,   172,   137,   166,   113,   164,   177,   166,   114,   113,\n",
      "           172,   164,   172,   137,   137,   177,   166,   113,   184,   114,\n",
      "           164,   172,   137,   166,   125,   113,   172,   114,   164,   172,\n",
      "           137,   177,   166,   113, 14402,   164,   172,   137,   166,  3236,\n",
      "          1186,   114,   172,  1495,   134, 14402,   113,   134,   184,   114,\n",
      "           184,  1665,  1495,   114,   164,   172,   137,   137,   166,   122,\n",
      "           113,   172,   114, 14402,   164,   172,   137,   137,   177,   166,\n",
      "           113,   172,  1477,   114,   184,   164,   172,   137,   177,   166,\n",
      "           122,  1665,   164,   172,   137,   177,   166,   113,   184,   114,\n",
      "           164,   172,   137,   177,   166,   113,   184,   164,   172,   137,\n",
      "           177,   166,   123,  1665,   164,   172,   137,   177,   166,   113,\n",
      "           184,   114,   164,   172,   137,   177,   166,   113,   184,   164,\n",
      "           172,   137,   177,   166,   124,  1665,   164,   172,   137,   177,\n",
      "           166,   113,   184,   114,   164,   172,   137,   177,   166,   113,\n",
      "           184,   114,   164,   172,   137,   137,   177,   166,   113,   172,\n",
      "           114,   184,  1495,   114,   164,   172,   137,   137,   177,   166,\n",
      "           113,   172,   114,   184,  1477,   114,   164,   172,   137,   137,\n",
      "           177,   166,   113,   172,   114,   184,  1475,   102]])\n"
     ]
    }
   ],
   "source": [
    "print(input_ids1)"
   ]
  },
  {
   "cell_type": "code",
   "execution_count": 10,
   "metadata": {
    "colab": {
     "base_uri": "https://localhost:8080/"
    },
    "id": "ocY9SlyU84D4",
    "outputId": "e4037839-9865-4d85-be1d-799fa1edbd9d"
   },
   "outputs": [
    {
     "name": "stdout",
     "output_type": "stream",
     "text": [
      "['[', 'c', '##l', '-', ']', '.', '[', 'c', '##l', '-', ']', '.', '[', '223', '##ra']\n",
      "['-', ']', '.', '[', 'c', '##l', '-', ']', '.', '[', '223', '##ra', '+', '+', ']']\n"
     ]
    }
   ],
   "source": [
    "# Test Tokenizer\n",
    "test_smiles2 = \"[Cl-].[Cl-].[223Ra++]\"\n",
    "print(tokenizer.tokenize(test_smiles2)[:15])\n",
    "print(tokenizer.tokenize(test_smiles2)[-15:])"
   ]
  },
  {
   "cell_type": "code",
   "execution_count": 11,
   "metadata": {
    "colab": {
     "base_uri": "https://localhost:8080/"
    },
    "id": "a7d0x_RsZZum",
    "outputId": "e6c64884-9a76-4916-ca02-692b77525676"
   },
   "outputs": [
    {
     "name": "stdout",
     "output_type": "stream",
     "text": [
      "torch.Size([1, 768])\n",
      "tensor([ 0.1216, -0.0793,  0.9990, -1.0000,  0.9999], grad_fn=<SliceBackward0>)\n",
      "tensor([[  101,   164,   172,  1233,   118,   166,   119,   164,   172,  1233,\n",
      "           118,   166,   119,   164, 22803,  1611,   116,   116,   166,   102]])\n"
     ]
    }
   ],
   "source": [
    "# Test Model Output\n",
    "#get the input ids and attention mask for SMILES\n",
    "inputs2 = tokenizer(test_smiles2, return_tensors='pt')\n",
    "input_ids2 = inputs2[\"input_ids\"]\n",
    "attention_mask2 = inputs2[\"attention_mask\"]\n",
    "\n",
    "#get the output of the model\n",
    "outputs2 = model(input_ids2, attention_mask=attention_mask2)\n",
    "\n",
    "# Get the last hidden state of the model\n",
    "# Get the vector for the drug nameby averaging the vectors of each token\n",
    "# vector1 = outputs1[0].mean(dim=1)\n",
    "# Get pooler token\n",
    "vector2 = outputs2[1]\n",
    "\n",
    "#print the vector\n",
    "print(vector2.size())\n",
    "print(vector2[0][:5])\n",
    "print(input_ids2)"
   ]
  },
  {
   "cell_type": "code",
   "execution_count": 12,
   "metadata": {
    "colab": {
     "base_uri": "https://localhost:8080/"
    },
    "id": "UYL7jV6wCBY_",
    "outputId": "a16d7dc8-c2ee-4e0c-e24f-ae67329d000a"
   },
   "outputs": [
    {
     "name": "stdout",
     "output_type": "stream",
     "text": [
      "torch.Size([1, 768])\n",
      "tensor([ 0.0973,  0.0879, -0.2874, -0.9987,  0.9968], grad_fn=<SliceBackward0>)\n"
     ]
    }
   ],
   "source": [
    "### COMBINE TWO SMILES TOGETHER\n",
    "two_smiles = \"[CLS]\" + test_smiles1 + \"[SEP]\" + test_smiles2 + \"[SEP]\"\n",
    "inputs = tokenizer(two_smiles, return_tensors='pt')\n",
    "input_ids = inputs[\"input_ids\"]\n",
    "attention_mask = inputs[\"attention_mask\"]\n",
    "\n",
    "#get the output of the model\n",
    "outputs = model(input_ids, attention_mask=attention_mask)\n",
    "\n",
    "# Get the last hidden state of the model\n",
    "# Get the vector for the drug nameby averaging the vectors of each token\n",
    "# vector1 = outputs1[0].mean(dim=1)\n",
    "# Get pooler token\n",
    "vector = outputs[1]\n",
    "\n",
    "#print the vector\n",
    "print(vector.size())\n",
    "print(vector[0][:5])"
   ]
  },
  {
   "cell_type": "code",
   "execution_count": 13,
   "metadata": {
    "colab": {
     "base_uri": "https://localhost:8080/"
    },
    "id": "2bFcsPn_CcpK",
    "outputId": "5d018de3-828e-4ee1-c057-de86b55af51d"
   },
   "outputs": [
    {
     "name": "stdout",
     "output_type": "stream",
     "text": [
      "tensor([[  101,   101,   164,   177,   166,   164,   172,   137,   166,  1367,\n",
      "         19515,   164,   172,   137,   166,   124,   113,   164,   177,   166,\n",
      "           114,   164,   172,   137,   166,   113,   164,   177,   166,   114,\n",
      "           113,   172,   164,   172,   137,   137,   177,   166,   113,   184,\n",
      "           114,   164,   172,   137,   166,   125,   113,   172,   114,   164,\n",
      "           172,   137,   177,   166,   113, 14402,   164,   172,   137,   166,\n",
      "          3236,  1186,   114,   172,  1495,   134, 14402,   113,   134,   184,\n",
      "           114,   184,  1665,  1495,   114,   164,   172,   137,   137,   166,\n",
      "           122,   113,   172,   114, 14402,   164,   172,   137,   137,   177,\n",
      "           166,   113,   172,  1477,   114,   184,   164,   172,   137,   177,\n",
      "           166,   122,  1665,   164,   172,   137,   177,   166,   113,   184,\n",
      "           114,   164,   172,   137,   177,   166,   113,   184,   164,   172,\n",
      "           137,   177,   166,   123,  1665,   164,   172,   137,   177,   166,\n",
      "           113,   184,   114,   164,   172,   137,   177,   166,   113,   184,\n",
      "           164,   172,   137,   177,   166,   124,  1665,   164,   172,   137,\n",
      "           177,   166,   113,   184,   114,   164,   172,   137,   177,   166,\n",
      "           113,   184,   114,   164,   172,   137,   137,   177,   166,   113,\n",
      "           172,   114,   184,  1495,   114,   164,   172,   137,   137,   177,\n",
      "           166,   113,   172,   114,   184,  1477,   114,   164,   172,   137,\n",
      "           137,   177,   166,   113,   172,   114,   184,  1475,   102,   164,\n",
      "           172,  1233,   118,   166,   119,   164,   172,  1233,   118,   166,\n",
      "           119,   164, 22803,  1611,   116,   116,   166,   102,   102]])\n"
     ]
    }
   ],
   "source": [
    "print(input_ids)"
   ]
  },
  {
   "cell_type": "markdown",
   "metadata": {
    "id": "OFFMQfFsaNfa"
   },
   "source": [
    "## Training Bio-ClinicalBERT with Trainer"
   ]
  },
  {
   "cell_type": "markdown",
   "metadata": {
    "id": "ha7MK613sVtZ"
   },
   "source": [
    "### Build DataSet"
   ]
  },
  {
   "cell_type": "code",
   "execution_count": 14,
   "metadata": {
    "colab": {
     "base_uri": "https://localhost:8080/",
     "height": 87,
     "referenced_widgets": [
      "76ae6df4a5f846dc8d3871bc4b695b3a",
      "820536d02b474b34a0c14e26ae0129db",
      "99e02af33a854247ba87458257c55488",
      "196df6ab8c19433cb69b87303bfabb61",
      "f7210c082d0145bfbb9937861c4766be",
      "9a8e91550af74c2fbc753aed53708ba6",
      "a72fa699908a41f9b4036ec26515afd2",
      "db110dfbde7d4bdf87c0200fc93fa44d",
      "2d1e06c7c1a143d0886f43f3bf63dbe6",
      "a36d87bc8b034bf889bb6867eda2761e",
      "f0074a44d3a4499881c56f89b6f68223"
     ]
    },
    "id": "M5Z9Y31ZaaNW",
    "outputId": "6d338a6b-a2f0-4e67-a51c-f64092acaf58"
   },
   "outputs": [
    {
     "name": "stdout",
     "output_type": "stream",
     "text": [
      "Downloading and preparing dataset csv/default to /home/ubuntu/.cache/huggingface/datasets/csv/default-fd2bda542645dd82/0.0.0/eea64c71ca8b46dd3f537ed218fc9bf495d5707789152eb2764f5c78fa66d59d...\n"
     ]
    },
    {
     "data": {
      "application/vnd.jupyter.widget-view+json": {
       "model_id": "28e4a5300fde4e17b34f478464b22d00",
       "version_major": 2,
       "version_minor": 0
      },
      "text/plain": [
       "Downloading data files:   0%|          | 0/3 [00:00<?, ?it/s]"
      ]
     },
     "metadata": {},
     "output_type": "display_data"
    },
    {
     "data": {
      "application/vnd.jupyter.widget-view+json": {
       "model_id": "ebf9e1c3f32a42eebed501dc2b986fb6",
       "version_major": 2,
       "version_minor": 0
      },
      "text/plain": [
       "Extracting data files:   0%|          | 0/3 [00:00<?, ?it/s]"
      ]
     },
     "metadata": {},
     "output_type": "display_data"
    },
    {
     "data": {
      "application/vnd.jupyter.widget-view+json": {
       "model_id": "",
       "version_major": 2,
       "version_minor": 0
      },
      "text/plain": [
       "Generating train split: 0 examples [00:00, ? examples/s]"
      ]
     },
     "metadata": {},
     "output_type": "display_data"
    },
    {
     "data": {
      "application/vnd.jupyter.widget-view+json": {
       "model_id": "",
       "version_major": 2,
       "version_minor": 0
      },
      "text/plain": [
       "Generating validation split: 0 examples [00:00, ? examples/s]"
      ]
     },
     "metadata": {},
     "output_type": "display_data"
    },
    {
     "data": {
      "application/vnd.jupyter.widget-view+json": {
       "model_id": "",
       "version_major": 2,
       "version_minor": 0
      },
      "text/plain": [
       "Generating test split: 0 examples [00:00, ? examples/s]"
      ]
     },
     "metadata": {},
     "output_type": "display_data"
    },
    {
     "name": "stdout",
     "output_type": "stream",
     "text": [
      "Dataset csv downloaded and prepared to /home/ubuntu/.cache/huggingface/datasets/csv/default-fd2bda542645dd82/0.0.0/eea64c71ca8b46dd3f537ed218fc9bf495d5707789152eb2764f5c78fa66d59d. Subsequent calls will reuse this data.\n"
     ]
    },
    {
     "data": {
      "application/vnd.jupyter.widget-view+json": {
       "model_id": "1c16691567d741fcba867d2642f087a0",
       "version_major": 2,
       "version_minor": 0
      },
      "text/plain": [
       "  0%|          | 0/3 [00:00<?, ?it/s]"
      ]
     },
     "metadata": {},
     "output_type": "display_data"
    }
   ],
   "source": [
    "# Import data\n",
    "train_file = 'data/binary_ddi/ddi_train_balanced_150k.csv'\n",
    "dev_file = 'data/binary_ddi/ddi_val_binary.csv'\n",
    "test_file = 'data/binary_ddi/ddi_test_binary.csv'\n",
    "\n",
    "dataset = load_dataset('csv',\n",
    "                       sep=\"\\t\",\n",
    "                       data_files={'train': train_file, 'validation': dev_file,'test': test_file})"
   ]
  },
  {
   "cell_type": "code",
   "execution_count": 15,
   "metadata": {
    "colab": {
     "base_uri": "https://localhost:8080/"
    },
    "id": "-y5M5LKoicUv",
    "outputId": "668220e4-b264-433e-ef6d-1b29f7d2877f"
   },
   "outputs": [
    {
     "data": {
      "text/plain": [
       "DatasetDict({\n",
       "    train: Dataset({\n",
       "        features: ['d1', 'd2', 'd1_name', 'd2_name', 'interaction', 'interaction_type', 'severity', 'smiles1', 'smiles2'],\n",
       "        num_rows: 300000\n",
       "    })\n",
       "    validation: Dataset({\n",
       "        features: ['d1', 'd2', 'd1_name', 'd2_name', 'interaction', 'interaction_type', 'severity', 'smiles1', 'smiles2'],\n",
       "        num_rows: 238072\n",
       "    })\n",
       "    test: Dataset({\n",
       "        features: ['d1', 'd2', 'd1_name', 'd2_name', 'interaction', 'interaction_type', 'severity', 'smiles1', 'smiles2'],\n",
       "        num_rows: 186753\n",
       "    })\n",
       "})"
      ]
     },
     "execution_count": 15,
     "metadata": {},
     "output_type": "execute_result"
    }
   ],
   "source": [
    "dataset"
   ]
  },
  {
   "cell_type": "code",
   "execution_count": 16,
   "metadata": {
    "colab": {
     "base_uri": "https://localhost:8080/"
    },
    "id": "Xee1rWQnk9k_",
    "outputId": "dfed798d-5321-456c-bac3-fdfea6350d87"
   },
   "outputs": [
    {
     "name": "stdout",
     "output_type": "stream",
     "text": [
      "mean length of smiles1: 62.479706666666665\n",
      "min length of smiles1: 2\n",
      "max length of smiles1: 748\n",
      "mean length of smiles2: 62.77145\n",
      "min length of smiles2: 3\n",
      "max length of smiles2: 748\n",
      "Value Counts of Labels in Train Set:\n"
     ]
    },
    {
     "data": {
      "text/plain": [
       "interaction_type\n",
       "1    150000\n",
       "0    150000\n",
       "Name: count, dtype: int64"
      ]
     },
     "execution_count": 16,
     "metadata": {},
     "output_type": "execute_result"
    }
   ],
   "source": [
    "df_train = pd.read_csv(train_file, sep='\\t')\n",
    "df_dev = pd.read_csv(dev_file, sep='\\t')\n",
    "df_test = pd.read_csv(test_file, sep='\\t')\n",
    "print(f'''mean length of smiles1: {df_train['smiles1'].map(len).mean()}''')\n",
    "print(f'''min length of smiles1: {df_train['smiles1'].map(len).min()}''')\n",
    "print(f'''max length of smiles1: {df_train['smiles1'].map(len).max()}''')\n",
    "print(f'''mean length of smiles2: {df_train['smiles2'].map(len).mean()}''')\n",
    "print(f'''min length of smiles2: {df_train['smiles2'].map(len).min()}''')\n",
    "print(f'''max length of smiles2: {df_train['smiles2'].map(len).max()}''')\n",
    "print('Value Counts of Labels in Train Set:')\n",
    "df_train.interaction_type.value_counts()"
   ]
  },
  {
   "cell_type": "code",
   "execution_count": 29,
   "metadata": {},
   "outputs": [
    {
     "data": {
      "text/plain": [
       "'[H][C@]12CC[C@]3([H])[C@]([H])(C[C@@H](O)[C@]4(C)[C@H](CC[C@]34O)C3=CC(=O)OC3)[C@@]1(C)CC[C@@H](C2)O[C@H]1C[C@H](O)[C@H](O[C@H]2C[C@H](O)[C@H](O[C@H]3C[C@H](O)[C@H](O)[C@@H](C)O3)[C@@H](C)O2)[C@@H](C)O1'"
      ]
     },
     "execution_count": 29,
     "metadata": {},
     "output_type": "execute_result"
    }
   ],
   "source": [
    "test_smiles1[:256]"
   ]
  },
  {
   "cell_type": "code",
   "execution_count": 30,
   "metadata": {
    "id": "LLoQ-3MNiqbg"
   },
   "outputs": [],
   "source": [
    "# Create Combined SMILES column, seperated by [SEP] token between SMILES1 & SMILES2\n",
    "prefix = \"[CLS]\"\n",
    "seperator = \"[SEP]\"\n",
    "max_input_length = 512\n",
    "\n",
    "\n",
    "def preprocess_data(examples):\n",
    "    source_inputs = []\n",
    "    for sm1, sm2 in zip(examples['smiles1'], examples['smiles2']):\n",
    "        # Ensure feeding both smile 1 & smiles 2 into input by truncating if the smiles are too loong\n",
    "        source_input = prefix + sm1[:256] + seperator + sm2 + seperator\n",
    "        source_inputs.append(source_input)\n",
    "    model_inputs = tokenizer(source_inputs,\n",
    "                             max_length=max_input_length,\n",
    "                             padding=\"max_length\",\n",
    "                             truncation=True,\n",
    "                             return_token_type_ids=False,\n",
    "                             return_tensors='pt'\n",
    "                             )\n",
    "\n",
    "    model_inputs[\"labels\"] = torch.tensor(examples['interaction_type'], dtype=torch.long)\n",
    "\n",
    "    return model_inputs"
   ]
  },
  {
   "cell_type": "code",
   "execution_count": 31,
   "metadata": {
    "colab": {
     "base_uri": "https://localhost:8080/",
     "height": 17,
     "referenced_widgets": [
      "5818bab97ad94b5c93e774e6c9c545d8",
      "097ef633e83343e1a40a0b860b0279b4",
      "98a98588193948c38b3727d35a1ee0bf",
      "e0cc1cf6d0a942c3987f5ca2de7bf910",
      "6dba82586eeb4cd193f857706bf21dbd",
      "898055f1e82d4188abb75beac211ff3b",
      "007b1fb1d03d433387c5f394485d75cd",
      "f07d75c06b9e4ba7a445bed142643e94",
      "757c7f1330184e7d95008950c805ccb0",
      "b2a19d1ba5e54048884adee46a58ed80",
      "d518b869420e45849a9c21840efae484",
      "404bfceb697342a3a2f90db43fc79aac",
      "20c0885b542d4592bc82f9dbc95f2967",
      "6ed68724fa3443f0a01911b77fd76c17",
      "8bb576c1c5444ebb8eb1390468720f9d",
      "c54d39bf63a44ca8a7b0c0d00bd8deb5",
      "56a0098d47674ae09cb4c412345a4468",
      "c76764720a6f44dcb967ecce4c151faf",
      "137bb4b8f3fb41c8a6b7f4dac3c5472b",
      "eeac483e4beb4e3896af7caea41c674d",
      "c650b3b8ba514f0b9709bfdf9545ddca",
      "c9f2f317092848ed9585601925c7ecb5",
      "f15fd9aeb5fd4178bd0af9c55ee28750",
      "36ea4a3c568f4831905834e5c5b0d03a",
      "96f62dc6ed08480ab0758377d003a0a3",
      "dfec57bc90384adcb9e122edb0bccebc",
      "35b2002728b9472d869a90b58b064bcf",
      "1c613814b0ce4d348f8d4c5d4f547324",
      "af8e311a99774dbe9f814aa242772264",
      "6050f464fa194b3b9f44b9fb1d563c6f",
      "03b91f9d7549487f8a108585a6a45a24",
      "22d025d278634f8585ac8227e752d177",
      "60499b5778ba4f6590d11beaf10de5e8"
     ]
    },
    "id": "7oIAe5EBjiaX",
    "outputId": "b158da6c-4bee-4a16-df56-c755694b2c19"
   },
   "outputs": [
    {
     "data": {
      "application/vnd.jupyter.widget-view+json": {
       "model_id": "",
       "version_major": 2,
       "version_minor": 0
      },
      "text/plain": [
       "Map:   0%|          | 0/300000 [00:00<?, ? examples/s]"
      ]
     },
     "metadata": {},
     "output_type": "display_data"
    },
    {
     "data": {
      "application/vnd.jupyter.widget-view+json": {
       "model_id": "",
       "version_major": 2,
       "version_minor": 0
      },
      "text/plain": [
       "Map:   0%|          | 0/238072 [00:00<?, ? examples/s]"
      ]
     },
     "metadata": {},
     "output_type": "display_data"
    },
    {
     "data": {
      "application/vnd.jupyter.widget-view+json": {
       "model_id": "",
       "version_major": 2,
       "version_minor": 0
      },
      "text/plain": [
       "Map:   0%|          | 0/186753 [00:00<?, ? examples/s]"
      ]
     },
     "metadata": {},
     "output_type": "display_data"
    }
   ],
   "source": [
    "encoded_train_ds = dataset['train'].map(preprocess_data, batched=True, remove_columns=dataset['train'].column_names)\n",
    "encoded_val_ds = dataset['validation'].map(preprocess_data, batched=True, remove_columns=dataset['validation'].column_names)\n",
    "encoded_test_ds = dataset['test'].map(preprocess_data, batched=True, remove_columns=dataset['test'].column_names)"
   ]
  },
  {
   "cell_type": "code",
   "execution_count": 32,
   "metadata": {
    "colab": {
     "base_uri": "https://localhost:8080/"
    },
    "id": "7GT-XgWvkkob",
    "outputId": "1dcbf56d-2192-4c25-c1f3-751fe544bfbf"
   },
   "outputs": [
    {
     "data": {
      "text/plain": [
       "Dataset({\n",
       "    features: ['input_ids', 'attention_mask', 'labels'],\n",
       "    num_rows: 300000\n",
       "})"
      ]
     },
     "execution_count": 32,
     "metadata": {},
     "output_type": "execute_result"
    }
   ],
   "source": [
    "encoded_train_ds"
   ]
  },
  {
   "cell_type": "code",
   "execution_count": 33,
   "metadata": {
    "colab": {
     "base_uri": "https://localhost:8080/"
    },
    "id": "6gWSwSPrFmWV",
    "outputId": "e9f5f5e4-d2e8-448e-e13f-dfbffbb59862"
   },
   "outputs": [
    {
     "data": {
      "text/plain": [
       "Dataset({\n",
       "    features: ['input_ids', 'attention_mask', 'labels'],\n",
       "    num_rows: 30000\n",
       "})"
      ]
     },
     "execution_count": 33,
     "metadata": {},
     "output_type": "execute_result"
    }
   ],
   "source": [
    "# Smaller subset of validation set used for faster training\n",
    "encoded_val_ds_small = encoded_val_ds.select(indices=range(30000))\n",
    "encoded_val_ds_small"
   ]
  },
  {
   "cell_type": "markdown",
   "metadata": {
    "id": "Xy16VEjasbQP"
   },
   "source": [
    "### Build Model, Set up Trainer"
   ]
  },
  {
   "cell_type": "code",
   "execution_count": 34,
   "metadata": {
    "id": "31jV6ksxreLS"
   },
   "outputs": [],
   "source": [
    "# BERT Model\n",
    "class BioBertClassification(nn.Module):\n",
    "    def __init__(self,output_dim=1, hidden_size=68, hidden_size2=54, hidden_size3=40, dropout=0.1, unfreeze=False):\n",
    "        super(BioBertClassification, self).__init__()\n",
    "        self.bert_model = AutoModel.from_pretrained(\"emilyalsentzer/Bio_ClinicalBERT\")\n",
    "\n",
    "        # Unfreeze the last DistilBERT transformer layer\n",
    "        if unfreeze == \"last layer\":\n",
    "            for name, param in self.bert_model.named_parameters():\n",
    "                if 'transformer.layer.5.' in name:\n",
    "                    param.requires_grad = True\n",
    "                else:\n",
    "                    param.requires_grad = False\n",
    "        if unfreeze == \"all layers\":\n",
    "            for name, param in self.bert_model.named_parameters():\n",
    "                param.requires_grad = True\n",
    "\n",
    "        self.bert_hidden_size = self.bert_model.config.hidden_size\n",
    "        self.hidden_size = hidden_size\n",
    "        self.hidden_size2 = hidden_size2\n",
    "        self.hidden_size3 = hidden_size3\n",
    "        self.hidden_layer = nn.Linear(self.bert_hidden_size, self.hidden_size)\n",
    "        self.hidden_layer2 = nn.Linear(self.hidden_size, self.hidden_size2)\n",
    "        self.hidden_layer3 = nn.Linear(self.hidden_size2, self.hidden_size3)\n",
    "\n",
    "        self.drop_out = nn.Dropout(dropout)\n",
    "\n",
    "        self.classification = nn.Linear(self.hidden_size3, output_dim)\n",
    "\n",
    "        self.GeLU = nn.GELU()\n",
    "        self.Sigmoid = nn.Sigmoid()\n",
    "\n",
    "    def forward(self, input_ids, attention_mask):\n",
    "        bert_output = self.bert_model(input_ids=input_ids,\n",
    "                                      attention_mask=attention_mask)\n",
    "\n",
    "        # hidden_state = bert_output[0]\n",
    "        pooler_token = bert_output[1]\n",
    "\n",
    "        hidden_ouput = self.GeLU(self.hidden_layer(pooler_token))\n",
    "        hidden_ouput = self.drop_out(hidden_ouput)\n",
    "        hidden_ouput = self.GeLU(self.hidden_layer2(hidden_ouput))\n",
    "        hidden_ouput = self.drop_out(hidden_ouput)\n",
    "        hidden_ouput = self.GeLU(self.hidden_layer3(hidden_ouput))\n",
    "        hidden_ouput = self.drop_out(hidden_ouput)\n",
    "\n",
    "        output = self.Sigmoid(self.classification(hidden_ouput))\n",
    "        output = output.flatten()\n",
    "\n",
    "        return output"
   ]
  },
  {
   "cell_type": "code",
   "execution_count": 35,
   "metadata": {
    "id": "Az-jeYTBxBST"
   },
   "outputs": [],
   "source": [
    "# Define hyperparameters\n",
    "BATCH_SIZE = 24\n",
    "EPOCHS = 1\n",
    "LEARNING_RATE = 0.01\n",
    "MOMENTUM = 0.9\n",
    "WEIGHT_DECAY = 1e-4"
   ]
  },
  {
   "cell_type": "code",
   "execution_count": 36,
   "metadata": {
    "colab": {
     "base_uri": "https://localhost:8080/"
    },
    "id": "sdVLCLOBzgdO",
    "outputId": "9fefd8b5-95c2-4dc4-8477-1cfcab1aa389"
   },
   "outputs": [
    {
     "data": {
      "application/vnd.jupyter.widget-view+json": {
       "model_id": "c700c3fb640644558a8b50fb78d776bc",
       "version_major": 2,
       "version_minor": 0
      },
      "text/plain": [
       "Downloading builder script:   0%|          | 0.00/1.84k [00:00<?, ?B/s]"
      ]
     },
     "metadata": {},
     "output_type": "display_data"
    },
    {
     "data": {
      "text/plain": [
       "Metric(name: \"glue\", features: {'predictions': Value(dtype='int64', id=None), 'references': Value(dtype='int64', id=None)}, usage: \"\"\"\n",
       "Compute GLUE evaluation metric associated to each GLUE dataset.\n",
       "Args:\n",
       "    predictions: list of predictions to score.\n",
       "        Each translation should be tokenized into a list of tokens.\n",
       "    references: list of lists of references for each translation.\n",
       "        Each reference should be tokenized into a list of tokens.\n",
       "Returns: depending on the GLUE subset, one or several of:\n",
       "    \"accuracy\": Accuracy\n",
       "    \"f1\": F1 score\n",
       "    \"pearson\": Pearson Correlation\n",
       "    \"spearmanr\": Spearman Correlation\n",
       "    \"matthews_correlation\": Matthew Correlation\n",
       "Examples:\n",
       "\n",
       "    >>> glue_metric = datasets.load_metric('glue', 'sst2')  # 'sst2' or any of [\"mnli\", \"mnli_mismatched\", \"mnli_matched\", \"qnli\", \"rte\", \"wnli\", \"hans\"]\n",
       "    >>> references = [0, 1]\n",
       "    >>> predictions = [0, 1]\n",
       "    >>> results = glue_metric.compute(predictions=predictions, references=references)\n",
       "    >>> print(results)\n",
       "    {'accuracy': 1.0}\n",
       "\n",
       "    >>> glue_metric = datasets.load_metric('glue', 'mrpc')  # 'mrpc' or 'qqp'\n",
       "    >>> references = [0, 1]\n",
       "    >>> predictions = [0, 1]\n",
       "    >>> results = glue_metric.compute(predictions=predictions, references=references)\n",
       "    >>> print(results)\n",
       "    {'accuracy': 1.0, 'f1': 1.0}\n",
       "\n",
       "    >>> glue_metric = datasets.load_metric('glue', 'stsb')\n",
       "    >>> references = [0., 1., 2., 3., 4., 5.]\n",
       "    >>> predictions = [0., 1., 2., 3., 4., 5.]\n",
       "    >>> results = glue_metric.compute(predictions=predictions, references=references)\n",
       "    >>> print({\"pearson\": round(results[\"pearson\"], 2), \"spearmanr\": round(results[\"spearmanr\"], 2)})\n",
       "    {'pearson': 1.0, 'spearmanr': 1.0}\n",
       "\n",
       "    >>> glue_metric = datasets.load_metric('glue', 'cola')\n",
       "    >>> references = [0, 1]\n",
       "    >>> predictions = [0, 1]\n",
       "    >>> results = glue_metric.compute(predictions=predictions, references=references)\n",
       "    >>> print(results)\n",
       "    {'matthews_correlation': 1.0}\n",
       "\"\"\", stored examples: 0)"
      ]
     },
     "execution_count": 36,
     "metadata": {},
     "output_type": "execute_result"
    }
   ],
   "source": [
    "# Load Metric\n",
    "metric = load_metric('glue', 'mrpc')\n",
    "metric"
   ]
  },
  {
   "cell_type": "code",
   "execution_count": 37,
   "metadata": {
    "colab": {
     "base_uri": "https://localhost:8080/"
    },
    "id": "qT2dFzLK12bl",
    "outputId": "226669f4-7c34-4b22-ac25-f615ae402c92"
   },
   "outputs": [
    {
     "data": {
      "text/plain": [
       "{'accuracy': 0.484375, 'f1': 0.4}"
      ]
     },
     "execution_count": 37,
     "metadata": {},
     "output_type": "execute_result"
    }
   ],
   "source": [
    "# Test metric calculation\n",
    "fake_preds = np.random.randint(0, 2, size=(64,))\n",
    "fake_labels = np.random.randint(0, 2, size=(64,))\n",
    "metric.compute(predictions=fake_preds, references=fake_labels)"
   ]
  },
  {
   "cell_type": "code",
   "execution_count": 15,
   "metadata": {
    "id": "vw0Iw6Ln4RSA"
   },
   "outputs": [],
   "source": [
    "# def compute_metrics(eval_pred):\n",
    "#     prob_predictions, labels = eval_pred\n",
    "\n",
    "#     # Convert probability to label\n",
    "#     labels = np.array(labels)\n",
    "#     predictions = (np.array(prob_predictions) >= 0.5).astype(int)\n",
    "\n",
    "#     return metric.compute(predictions=predictions, references=labels)"
   ]
  },
  {
   "cell_type": "code",
   "execution_count": 38,
   "metadata": {
    "id": "NMkn-i1jIIoh"
   },
   "outputs": [],
   "source": [
    "def compute_metrics(eval_pred):\n",
    "    prob_predictions, labels = eval_pred\n",
    "\n",
    "    # Convert probability to label\n",
    "    labels = np.array(labels)\n",
    "    predictions = (np.array(prob_predictions) >= 0.5).astype(int)\n",
    "\n",
    "    result = metric.compute(predictions=predictions, references=labels)\n",
    "\n",
    "    # Add F2 Score\n",
    "    f2 =  metrics.fbeta_score(labels, predictions, average=\"binary\", pos_label=1, beta=2)\n",
    "    result[\"f2\"] = f2\n",
    "\n",
    "    return {k: round(v, 4) for k, v in result.items()}"
   ]
  },
  {
   "cell_type": "code",
   "execution_count": 40,
   "metadata": {
    "id": "NuIuh85eGQ1D"
   },
   "outputs": [],
   "source": [
    "# Clear out cuda before training\n",
    "torch.cuda.empty_cache()"
   ]
  },
  {
   "cell_type": "code",
   "execution_count": 41,
   "metadata": {
    "colab": {
     "base_uri": "https://localhost:8080/"
    },
    "id": "udBZi20U5TCz",
    "outputId": "491c340e-92ae-4296-bcea-b58d835e4d34"
   },
   "outputs": [
    {
     "name": "stderr",
     "output_type": "stream",
     "text": [
      "Some weights of the model checkpoint at emilyalsentzer/Bio_ClinicalBERT were not used when initializing BertModel: ['cls.seq_relationship.weight', 'cls.predictions.bias', 'cls.predictions.transform.dense.weight', 'cls.seq_relationship.bias', 'cls.predictions.transform.dense.bias', 'cls.predictions.transform.LayerNorm.bias', 'cls.predictions.transform.LayerNorm.weight', 'cls.predictions.decoder.weight']\n",
      "- This IS expected if you are initializing BertModel from the checkpoint of a model trained on another task or with another architecture (e.g. initializing a BertForSequenceClassification model from a BertForPreTraining model).\n",
      "- This IS NOT expected if you are initializing BertModel from the checkpoint of a model that you expect to be exactly identical (initializing a BertForSequenceClassification model from a BertForSequenceClassification model).\n"
     ]
    }
   ],
   "source": [
    "# Model Initializationg\n",
    "model = BioBertClassification(hidden_size=68, hidden_size2=54, hidden_size3=40, dropout=0.1, unfreeze=False)\n",
    "model = model.to(device)\n",
    "\n",
    "optimizer = AdamW(model.parameters(), lr=LEARNING_RATE, weight_decay=WEIGHT_DECAY)\n",
    "scheduler = get_cosine_schedule_with_warmup(optimizer, num_warmup_steps=10, num_training_steps=10000)"
   ]
  },
  {
   "cell_type": "markdown",
   "metadata": {
    "id": "SK4dmr6bAQ_l"
   },
   "source": [
    "### Training with Trainer (ERROR)"
   ]
  },
  {
   "cell_type": "code",
   "execution_count": 42,
   "metadata": {
    "id": "QJjQAs32vvaN"
   },
   "outputs": [],
   "source": [
    "# Training Arguments\n",
    "model_name = \"Bio-ClinicalBERT/bert-frozen-smiles-only\"\n",
    "model_dir = f\"models/{model_name}\"\n",
    "\n",
    "args = TrainingArguments(\n",
    "    output_dir=model_dir,\n",
    "    overwrite_output_dir=True,\n",
    "    do_train=True,\n",
    "    # evaluation_strategy=\"epoch\",\n",
    "    # logging_strategy=\"epoch\",\n",
    "    evaluation_strategy=\"steps\",\n",
    "    eval_steps=200,\n",
    "    logging_strategy=\"steps\",\n",
    "    logging_steps=200,\n",
    "    save_strategy=\"epoch\",\n",
    "    learning_rate=LEARNING_RATE,\n",
    "    per_device_train_batch_size=BATCH_SIZE,\n",
    "    per_device_eval_batch_size=BATCH_SIZE,\n",
    "    weight_decay=WEIGHT_DECAY,\n",
    "    num_train_epochs=EPOCHS,\n",
    "    # load_best_model_at_end=True,\n",
    "    metric_for_best_model=\"f1\",\n",
    "    remove_unused_columns=True\n",
    ")"
   ]
  },
  {
   "cell_type": "code",
   "execution_count": 46,
   "metadata": {
    "colab": {
     "base_uri": "https://localhost:8080/",
     "height": 247
    },
    "id": "-UK3fmzNchrk",
    "outputId": "74a144ee-90e1-4efc-8090-d7b39a8b475a"
   },
   "outputs": [],
   "source": [
    "# class CustomTrainer(Trainer):\n",
    "#     def compute_loss(self, model, inputs, return_outputs=False):\n",
    "#         label = inputs.get(\"label\")\n",
    "#         # forward pass\n",
    "#         output = model(**inputs)\n",
    "#         # logits = outputs.get(\"logits\")\n",
    "#         # compute binary crossentropy\n",
    "#         criterion = nn.BCELoss()\n",
    "#         # loss = loss_fct(logits.view(-1, self.model.config.num_labels), labels.view(-1))\n",
    "#         loss = criterion(output, label)\n",
    "#         return (loss, output) if return_outputs else loss\n",
    "\n",
    "# custom_trainer = CustomTrainer()"
   ]
  },
  {
   "cell_type": "code",
   "execution_count": 44,
   "metadata": {
    "id": "s_VoRJsF6e2A"
   },
   "outputs": [],
   "source": [
    "trainer = Trainer(\n",
    "    model=model,\n",
    "    args=args,\n",
    "    train_dataset=encoded_train_ds,\n",
    "    eval_dataset=encoded_val_ds_small,\n",
    "    optimizers=(optimizer, scheduler),\n",
    "    compute_metrics=compute_metrics\n",
    ")"
   ]
  },
  {
   "cell_type": "code",
   "execution_count": 81,
   "metadata": {
    "colab": {
     "base_uri": "https://localhost:8080/",
     "height": 907
    },
    "id": "ZjDRxNmC_-wL",
    "outputId": "1a60180c-50f4-49da-9f8a-2d40aa58fddc"
   },
   "outputs": [],
   "source": [
    "trainer.train()"
   ]
  },
  {
   "cell_type": "code",
   "execution_count": null,
   "metadata": {
    "id": "fWFn2oQqAfd5"
   },
   "outputs": [],
   "source": [
    "# save training weights\n",
    "# trainer.save_model('models/Bio-ClinicalBERT/bert-frozen-smiles-best')\n",
    "# torch.save(model.state_dict(), 'models/Bio-ClinicalBERT/bert-frozen-smiles.pth')"
   ]
  },
  {
   "cell_type": "markdown",
   "metadata": {},
   "source": [
    "## Training Manually - Frozen All Layers"
   ]
  },
  {
   "cell_type": "markdown",
   "metadata": {},
   "source": [
    "### Build Model"
   ]
  },
  {
   "cell_type": "code",
   "execution_count": 43,
   "metadata": {},
   "outputs": [],
   "source": [
    "# Define hyperparameters\n",
    "BATCH_SIZE = 24\n",
    "EPOCHS = 4\n",
    "LEARNING_RATE = 0.0963\n",
    "# MOMENTUM = 0.9\n",
    "WEIGHT_DECAY = 1e-4"
   ]
  },
  {
   "cell_type": "code",
   "execution_count": 44,
   "metadata": {},
   "outputs": [],
   "source": [
    "# Clear out cuda before training\n",
    "torch.cuda.empty_cache()"
   ]
  },
  {
   "cell_type": "code",
   "execution_count": 45,
   "metadata": {},
   "outputs": [],
   "source": [
    "# BERT Model\n",
    "class BioBertClassification(nn.Module):\n",
    "    def __init__(self,output_dim=1, hidden_size=68, hidden_size2=54, hidden_size3=40, dropout=0.1, unfreeze=False):\n",
    "        super(BioBertClassification, self).__init__()\n",
    "        self.bert_model = AutoModel.from_pretrained(\"emilyalsentzer/Bio_ClinicalBERT\")\n",
    "\n",
    "        # Unfreeze the last DistilBERT transformer layer\n",
    "        if unfreeze == \"last layer\":\n",
    "            for name, param in self.bert_model.named_parameters():\n",
    "                if 'transformer.layer.5.' in name:\n",
    "                    param.requires_grad = True\n",
    "                else:\n",
    "                    param.requires_grad = False\n",
    "        if unfreeze == \"all layers\":\n",
    "            for name, param in self.bert_model.named_parameters():\n",
    "                param.requires_grad = True\n",
    "\n",
    "        self.bert_hidden_size = self.bert_model.config.hidden_size\n",
    "        self.hidden_size = hidden_size\n",
    "        self.hidden_size2 = hidden_size2\n",
    "        self.hidden_size3 = hidden_size3\n",
    "        self.hidden_layer = nn.Linear(self.bert_hidden_size, self.hidden_size)\n",
    "        self.hidden_layer2 = nn.Linear(self.hidden_size, self.hidden_size2)\n",
    "        self.hidden_layer3 = nn.Linear(self.hidden_size2, self.hidden_size3)\n",
    "\n",
    "        self.drop_out = nn.Dropout(dropout)\n",
    "\n",
    "        self.classification = nn.Linear(self.hidden_size3, output_dim)\n",
    "\n",
    "        self.GeLU = nn.GELU()\n",
    "        self.Sigmoid = nn.Sigmoid()\n",
    "\n",
    "    def forward(self, input_ids, attention_mask):\n",
    "        bert_output = self.bert_model(input_ids=input_ids,\n",
    "                                      attention_mask=attention_mask)\n",
    "\n",
    "        # hidden_state = bert_output[0]\n",
    "        pooler_token = bert_output[1]\n",
    "\n",
    "        hidden_ouput = self.GeLU(self.hidden_layer(pooler_token))\n",
    "        hidden_ouput = self.drop_out(hidden_ouput)\n",
    "        hidden_ouput = self.GeLU(self.hidden_layer2(hidden_ouput))\n",
    "        hidden_ouput = self.drop_out(hidden_ouput)\n",
    "        hidden_ouput = self.GeLU(self.hidden_layer3(hidden_ouput))\n",
    "        hidden_ouput = self.drop_out(hidden_ouput)\n",
    "\n",
    "        output = self.Sigmoid(self.classification(hidden_ouput))\n",
    "        output = output.flatten()\n",
    "\n",
    "        return output"
   ]
  },
  {
   "cell_type": "code",
   "execution_count": 46,
   "metadata": {},
   "outputs": [
    {
     "name": "stderr",
     "output_type": "stream",
     "text": [
      "Some weights of the model checkpoint at emilyalsentzer/Bio_ClinicalBERT were not used when initializing BertModel: ['cls.predictions.transform.dense.bias', 'cls.predictions.decoder.weight', 'cls.seq_relationship.weight', 'cls.predictions.transform.LayerNorm.weight', 'cls.predictions.transform.dense.weight', 'cls.predictions.transform.LayerNorm.bias', 'cls.seq_relationship.bias', 'cls.predictions.bias']\n",
      "- This IS expected if you are initializing BertModel from the checkpoint of a model trained on another task or with another architecture (e.g. initializing a BertForSequenceClassification model from a BertForPreTraining model).\n",
      "- This IS NOT expected if you are initializing BertModel from the checkpoint of a model that you expect to be exactly identical (initializing a BertForSequenceClassification model from a BertForSequenceClassification model).\n"
     ]
    }
   ],
   "source": [
    "# Initialize model\n",
    "model = BioBertClassification()\n",
    "model = model.to(device)\n",
    "\n",
    "#load the pre-trained BioBERT model and tokenizer\n",
    "# tokenizer = AutoTokenizer.from_pretrained(\"dmis-lab/biobert-base-cased-v1.1\")\n",
    "tokenizer = AutoTokenizer.from_pretrained('emilyalsentzer/Bio_ClinicalBERT')\n"
   ]
  },
  {
   "cell_type": "markdown",
   "metadata": {},
   "source": [
    "### Build DataLoader"
   ]
  },
  {
   "cell_type": "code",
   "execution_count": 47,
   "metadata": {},
   "outputs": [
    {
     "name": "stdout",
     "output_type": "stream",
     "text": [
      "mean length of smiles1: 62.479706666666665\n",
      "min length of smiles1: 2\n",
      "max length of smiles1: 748\n",
      "mean length of smiles2: 62.77145\n",
      "min length of smiles2: 3\n",
      "max length of smiles2: 748\n",
      "Value Counts of Labels in Train Set:\n"
     ]
    },
    {
     "data": {
      "text/plain": [
       "interaction_type\n",
       "1    150000\n",
       "0    150000\n",
       "Name: count, dtype: int64"
      ]
     },
     "execution_count": 47,
     "metadata": {},
     "output_type": "execute_result"
    }
   ],
   "source": [
    "# Import data\n",
    "train_file = 'data/binary_ddi/ddi_train_balanced_150k.csv'\n",
    "dev_file = 'data/binary_ddi/ddi_val_binary.csv'\n",
    "test_file = 'data/binary_ddi/ddi_test_binary.csv'\n",
    "\n",
    "df_train = pd.read_csv(train_file, sep='\\t')\n",
    "df_val= pd.read_csv(dev_file, sep='\\t')\n",
    "df_test = pd.read_csv(test_file, sep='\\t')\n",
    "\n",
    "print(f'''mean length of smiles1: {df_train['smiles1'].map(len).mean()}''')\n",
    "print(f'''min length of smiles1: {df_train['smiles1'].map(len).min()}''')\n",
    "print(f'''max length of smiles1: {df_train['smiles1'].map(len).max()}''')\n",
    "print(f'''mean length of smiles2: {df_train['smiles2'].map(len).mean()}''')\n",
    "print(f'''min length of smiles2: {df_train['smiles2'].map(len).min()}''')\n",
    "print(f'''max length of smiles2: {df_train['smiles2'].map(len).max()}''')\n",
    "print('Value Counts of Labels in Train Set:')\n",
    "df_train.interaction_type.value_counts()"
   ]
  },
  {
   "cell_type": "code",
   "execution_count": 12,
   "metadata": {},
   "outputs": [
    {
     "name": "stdout",
     "output_type": "stream",
     "text": [
      "(30000, 9)\n"
     ]
    },
    {
     "data": {
      "text/html": [
       "<div>\n",
       "<style scoped>\n",
       "    .dataframe tbody tr th:only-of-type {\n",
       "        vertical-align: middle;\n",
       "    }\n",
       "\n",
       "    .dataframe tbody tr th {\n",
       "        vertical-align: top;\n",
       "    }\n",
       "\n",
       "    .dataframe thead th {\n",
       "        text-align: right;\n",
       "    }\n",
       "</style>\n",
       "<table border=\"1\" class=\"dataframe\">\n",
       "  <thead>\n",
       "    <tr style=\"text-align: right;\">\n",
       "      <th></th>\n",
       "      <th>d1</th>\n",
       "      <th>d2</th>\n",
       "      <th>d1_name</th>\n",
       "      <th>d2_name</th>\n",
       "      <th>interaction</th>\n",
       "      <th>interaction_type</th>\n",
       "      <th>severity</th>\n",
       "      <th>smiles1</th>\n",
       "      <th>smiles2</th>\n",
       "    </tr>\n",
       "  </thead>\n",
       "  <tbody>\n",
       "    <tr>\n",
       "      <th>92216</th>\n",
       "      <td>DB01045</td>\n",
       "      <td>DB01207</td>\n",
       "      <td>Rifampicin</td>\n",
       "      <td>Ridogrel</td>\n",
       "      <td>Unknown</td>\n",
       "      <td>0</td>\n",
       "      <td>unknown</td>\n",
       "      <td>CO[C@H]1\\C=C\\O[C@@]2(C)OC3=C(C2=O)C2=C(O)C(\\C=...</td>\n",
       "      <td>OC(=O)CCCCO\\N=C(\\C1=CN=CC=C1)C1=CC(=CC=C1)C(F)...</td>\n",
       "    </tr>\n",
       "    <tr>\n",
       "      <th>154483</th>\n",
       "      <td>DB12086</td>\n",
       "      <td>DB01288</td>\n",
       "      <td>Oxitropium</td>\n",
       "      <td>Fenoterol</td>\n",
       "      <td>The risk or severity of adverse effects can be...</td>\n",
       "      <td>1</td>\n",
       "      <td>high</td>\n",
       "      <td>CC[N+]1(C)[C@H]2C[C@@H](C[C@@H]1[C@H]1O[C@@H]2...</td>\n",
       "      <td>CC(CC1=CC=C(O)C=C1)NCC(O)C1=CC(O)=CC(O)=C1</td>\n",
       "    </tr>\n",
       "  </tbody>\n",
       "</table>\n",
       "</div>"
      ],
      "text/plain": [
       "             d1       d2     d1_name    d2_name  \\\n",
       "92216   DB01045  DB01207  Rifampicin   Ridogrel   \n",
       "154483  DB12086  DB01288  Oxitropium  Fenoterol   \n",
       "\n",
       "                                              interaction  interaction_type  \\\n",
       "92216                                             Unknown                 0   \n",
       "154483  The risk or severity of adverse effects can be...                 1   \n",
       "\n",
       "       severity                                            smiles1  \\\n",
       "92216   unknown  CO[C@H]1\\C=C\\O[C@@]2(C)OC3=C(C2=O)C2=C(O)C(\\C=...   \n",
       "154483     high  CC[N+]1(C)[C@H]2C[C@@H](C[C@@H]1[C@H]1O[C@@H]2...   \n",
       "\n",
       "                                                  smiles2  \n",
       "92216   OC(=O)CCCCO\\N=C(\\C1=CN=CC=C1)C1=CC(=CC=C1)C(F)...  \n",
       "154483         CC(CC1=CC=C(O)C=C1)NCC(O)C1=CC(O)=CC(O)=C1  "
      ]
     },
     "execution_count": 12,
     "metadata": {},
     "output_type": "execute_result"
    }
   ],
   "source": [
    "from sklearn.utils import resample\n",
    "\n",
    "# Choose a smaller subset of val data for faster training\n",
    "df_val_small = resample(df_val,\n",
    "                        replace=False,     # sample without replacement\n",
    "                        n_samples=30000,\n",
    "                        random_state=42) \n",
    "print(df_val_small.shape)\n",
    "df_val_small.head(2)"
   ]
  },
  {
   "cell_type": "code",
   "execution_count": 15,
   "metadata": {},
   "outputs": [
    {
     "data": {
      "text/plain": [
       "{'input_ids': tensor([[  101,  1884,   164,  ...,     0,     0,     0],\n",
       "        [  101, 14402,   164,  ...,     0,     0,     0],\n",
       "        [  101, 14402,  1475,  ...,     0,     0,     0],\n",
       "        ...,\n",
       "        [  101, 14402,   164,  ...,     0,     0,     0],\n",
       "        [  101, 14402, 13335,  ...,     0,     0,     0],\n",
       "        [  101,   164,   177,  ...,     0,     0,     0]]), 'attention_mask': tensor([[1, 1, 1,  ..., 0, 0, 0],\n",
       "        [1, 1, 1,  ..., 0, 0, 0],\n",
       "        [1, 1, 1,  ..., 0, 0, 0],\n",
       "        ...,\n",
       "        [1, 1, 1,  ..., 0, 0, 0],\n",
       "        [1, 1, 1,  ..., 0, 0, 0],\n",
       "        [1, 1, 1,  ..., 0, 0, 0]])}"
      ]
     },
     "execution_count": 15,
     "metadata": {},
     "output_type": "execute_result"
    }
   ],
   "source": [
    "## TEST BLOCK - TEST TOKENIZER\n",
    "# Add features column which is a combination of smiles1 & smiles2\n",
    "# Truncate each smiles to 254 tokens max, leaving min 3 tokens for CLS & SEP token\n",
    "seperator = \" [SEP] \"\n",
    "max_length = 512\n",
    "df_val_small[\"features\"] = df_val_small[\"smiles1\"].str[:254] + seperator + ' ' + df_val_small[\"smiles2\"].str[:254]\n",
    "X_val = df_val_small[\"features\"]\n",
    "y_val = df_val_small[\"interaction_type\"]\n",
    "\n",
    "# Tokenize\n",
    "_encodings = tokenizer(\n",
    "    list(X_val.values), \n",
    "    max_length=max_length,\n",
    "    truncation=True,\n",
    "    pad_to_max_length=True, \n",
    "    return_token_type_ids=False,\n",
    "    return_tensors='pt'\n",
    ")\n",
    "\n",
    "_encodings"
   ]
  },
  {
   "cell_type": "code",
   "execution_count": 17,
   "metadata": {},
   "outputs": [
    {
     "data": {
      "text/html": [
       "<div>\n",
       "<style scoped>\n",
       "    .dataframe tbody tr th:only-of-type {\n",
       "        vertical-align: middle;\n",
       "    }\n",
       "\n",
       "    .dataframe tbody tr th {\n",
       "        vertical-align: top;\n",
       "    }\n",
       "\n",
       "    .dataframe thead th {\n",
       "        text-align: right;\n",
       "    }\n",
       "</style>\n",
       "<table border=\"1\" class=\"dataframe\">\n",
       "  <thead>\n",
       "    <tr style=\"text-align: right;\">\n",
       "      <th></th>\n",
       "      <th>d1</th>\n",
       "      <th>d2</th>\n",
       "      <th>d1_name</th>\n",
       "      <th>d2_name</th>\n",
       "      <th>interaction</th>\n",
       "      <th>interaction_type</th>\n",
       "      <th>severity</th>\n",
       "      <th>smiles1</th>\n",
       "      <th>smiles2</th>\n",
       "      <th>features</th>\n",
       "    </tr>\n",
       "  </thead>\n",
       "  <tbody>\n",
       "  </tbody>\n",
       "</table>\n",
       "</div>"
      ],
      "text/plain": [
       "Empty DataFrame\n",
       "Columns: [d1, d2, d1_name, d2_name, interaction, interaction_type, severity, smiles1, smiles2, features]\n",
       "Index: []"
      ]
     },
     "execution_count": 17,
     "metadata": {},
     "output_type": "execute_result"
    }
   ],
   "source": [
    "df_val_small[df_val_small[\"features\"].isnull()]"
   ]
  },
  {
   "cell_type": "code",
   "execution_count": 40,
   "metadata": {},
   "outputs": [],
   "source": [
    "# prefix = \"[CLS] \"\n",
    "seperator = \" [SEP] \"\n",
    "max_length = 512\n",
    "\n",
    "def build_data_loader(df, shuffle=True):\n",
    "    # Combine SMILES1 & SMILE2 Together, using [SEP] token to distingush between drug1 & drug2\n",
    "    df[\"features\"] = df[\"smiles1\"].str[:254] + seperator + df[\"smiles2\"].str[:254]\n",
    "    X = df[\"features\"]\n",
    "    y = df[\"interaction_type\"]\n",
    "\n",
    "    # Tokenize\n",
    "    _encodings = tokenizer(\n",
    "        list(X.values), \n",
    "        max_length=max_length,\n",
    "        truncation=True,\n",
    "        pad_to_max_length=True, \n",
    "        return_token_type_ids=False,\n",
    "        return_tensors='pt'\n",
    "    )\n",
    "\n",
    "    _ids = _encodings.input_ids\n",
    "    _mask = _encodings.attention_mask\n",
    "    _labels = torch.tensor(y.values)\n",
    "\n",
    "    _dataset = TensorDataset(_ids, _mask, _labels)\n",
    "    _loader = DataLoader(_dataset, batch_size=BATCH_SIZE, shuffle=shuffle, num_workers=WORKERS)\n",
    "\n",
    "    return _loader"
   ]
  },
  {
   "cell_type": "code",
   "execution_count": 49,
   "metadata": {},
   "outputs": [],
   "source": [
    "## Data Loader\n",
    "# train_loader = DataLoader(encoded_train_ds, batch_size=BATCH_SIZE, shuffle=True, num_workers=WORKERS)\n",
    "train_loader = build_data_loader(df_train)\n",
    "\n",
    "# val_loader = DataLoader(encoded_val_ds_small, batch_size=BATCH_SIZE, shuffle=True, num_workers=WORKERS)\n",
    "# val_loader_full = DataLoader(encoded_val_ds, batch_size=BATCH_SIZE, shuffle=False, num_workers=WORKERS)\n",
    "val_loader = build_data_loader(df_val_small)\n",
    "val_loader_full = build_data_loader(df_val, shuffle=False)\n",
    "\n",
    "# test_loader = DataLoader(encoded_test_ds, batch_size=BATCH_SIZE, shuffle=False, num_workers=WORKERS)\n",
    "test_loader = build_data_loader(df_test, shuffle=False)"
   ]
  },
  {
   "cell_type": "code",
   "execution_count": 50,
   "metadata": {},
   "outputs": [
    {
     "name": "stdout",
     "output_type": "stream",
     "text": [
      "Train batches: 12500\n",
      "Val subset batches: 1250\n",
      "Val Full batches: 9920\n",
      "Test batches: 7782\n"
     ]
    }
   ],
   "source": [
    "print('Train batches:', len(train_loader))\n",
    "print('Val subset batches:', len(val_loader))\n",
    "print('Val Full batches:', len(val_loader_full))\n",
    "print('Test batches:', len(test_loader))"
   ]
  },
  {
   "cell_type": "markdown",
   "metadata": {},
   "source": [
    "### Training"
   ]
  },
  {
   "cell_type": "code",
   "execution_count": 51,
   "metadata": {},
   "outputs": [],
   "source": [
    "# Initiate loss to Binary Cross Entropy\n",
    "criterion = nn.BCELoss()\n",
    "\n",
    "# Optimizer\n",
    "optimizer = optim.Adadelta(model.parameters(), lr=LEARNING_RATE, weight_decay=WEIGHT_DECAY)\n",
    "\n",
    "# Create learning rate scheduler.\n",
    "T_max = EPOCHS*len(train_loader)\n",
    "scheduler = optim.lr_scheduler.CosineAnnealingLR(optimizer, T_max=T_max)"
   ]
  },
  {
   "cell_type": "code",
   "execution_count": 52,
   "metadata": {},
   "outputs": [],
   "source": [
    "def format_time(seconds):\n",
    "    return str(datetime.timedelta(seconds=int(round(seconds))))"
   ]
  },
  {
   "cell_type": "code",
   "execution_count": 53,
   "metadata": {},
   "outputs": [],
   "source": [
    "## Define train function\n",
    "def train(train_loader, model, criterion, optimizer, verbose=True):  \n",
    "    # reset total loss for each epoch\n",
    "    total_loss = 0\n",
    "\n",
    "    # switch model to train mode\n",
    "    model.train()\n",
    "\n",
    "    # start time\n",
    "    t0 = time.time()\n",
    "\n",
    "    for step, data in enumerate(train_loader): \n",
    "        # send the data to cuda device\n",
    "        ids = data[0].to(device, dtype = torch.long)\n",
    "        mask = data[1].to(device, dtype = torch.long)\n",
    "        target = data[2].float().to(device)\n",
    "    \n",
    "        # compute output\n",
    "        output = model(input_ids=ids, \n",
    "                      attention_mask=mask)\n",
    "\n",
    "        # compute loss \n",
    "        loss = criterion(output, target)\n",
    "\n",
    "        # Accumulate the training loss over all of the batches \n",
    "        total_loss += loss.item()\n",
    "\n",
    "        # zero out gradients in the optimizer each step\n",
    "        optimizer.zero_grad()\n",
    "\n",
    "        # Report progress every 200 batches\n",
    "        if step % 1000 == 0 and not step == 0 and verbose==True:\n",
    "            print('Batch {:>5,}  of  {:>5,}.  Loss {:0.4f}  Elapsed: {:}.'.format(\n",
    "                 step, \n",
    "                 len(train_loader),\n",
    "                 loss.item(),\n",
    "                 format_time(time.time() - t0))) \n",
    "        \n",
    "        # compute gradient and do SGD\n",
    "        # backprop!\n",
    "        loss.backward()\n",
    "        \n",
    "        # update the weights!\n",
    "        optimizer.step()\n",
    "\n",
    "        # update learning rate\n",
    "        scheduler.step()\n",
    "\n",
    "    avg_train_loss = total_loss / len(train_loader) \n",
    "    elapsed_time = time.time() - t0\n",
    "    if verbose:\n",
    "      print (\"\\nAvg Training Loss {:0.4f}, Completed in {:} \\n\".format(\n",
    "          avg_train_loss,\n",
    "          format_time(elapsed_time)\n",
    "            ))\n",
    "    \n",
    "    # return model, avg_train_loss, elapsed_time\n",
    "    return avg_train_loss, elapsed_time"
   ]
  },
  {
   "cell_type": "code",
   "execution_count": 55,
   "metadata": {},
   "outputs": [],
   "source": [
    "## Define validate function\n",
    "def validate(val_loader, model, criterion, verbose=True):\n",
    "    # Initialize\n",
    "    targets=[]\n",
    "    outputs=[]\n",
    "    t0 = time.time()\n",
    "    total_val_loss = 0\n",
    "\n",
    "    # switch to evaluate mode\n",
    "    model.eval()\n",
    "\n",
    "    with torch.no_grad():\n",
    "        for step, data in enumerate(val_loader):\n",
    "            \n",
    "            # send the data to cuda device\n",
    "            ids = data[0].to(device, dtype = torch.long)\n",
    "            mask = data[1].to(device, dtype = torch.long)\n",
    "            target = data[2].float().to(device)\n",
    "\n",
    "            # compute output\n",
    "            output = model(input_ids=ids,\n",
    "                           attention_mask=mask)\n",
    "\n",
    "            # compute loss\n",
    "            loss = criterion(output, target)\n",
    "\n",
    "            # Accumulate the validation loss over all of the batches to calculate average loss\n",
    "            total_val_loss += loss.item()\n",
    "\n",
    "            targets.extend(target.cpu().detach().numpy().tolist())\n",
    "            outputs.extend(output.cpu().detach().numpy().tolist())\n",
    "\n",
    "            if step % 1000 == 0 and not step == 0 and verbose==True:\n",
    "                print('Batch {:>5,}  of  {:>5,}.  Loss {:0.4f}  Elapsed: {:}.'.format(\n",
    "                    step, \n",
    "                    len(val_loader),\n",
    "                    loss.item(),\n",
    "                    format_time(time.time() - t0)))        \n",
    "\n",
    "    avg_val_loss = total_val_loss / len(val_loader)\n",
    "    elapsed_time = time.time() - t0\n",
    "    if verbose:\n",
    "      print (\"\\nAvg Validation Loss {:0.4f}, Completed in {:}\".format(\n",
    "          avg_val_loss,\n",
    "          format_time(elapsed_time)\n",
    "            ))\n",
    "    \n",
    "    return outputs, targets, avg_val_loss, elapsed_time\n"
   ]
  },
  {
   "cell_type": "code",
   "execution_count": 56,
   "metadata": {},
   "outputs": [],
   "source": [
    "# calculate the F1 score, auc, accuracy of our predictions vs labels\n",
    "def compute_metrics(outputs, targets, prefix=\"Training\"):\n",
    "    y_pred = (np.array(outputs) >= 0.5).astype(float)\n",
    "    y_score = np.array(outputs)\n",
    "    y_true = np.array(targets)\n",
    "\n",
    "    f2 =  metrics.fbeta_score(y_true, y_pred, average=\"binary\", pos_label=1, beta=2)\n",
    "    print(f\"{prefix} F2-score: {round(f2,4)}\")\n",
    "\n",
    "    mcc = metrics.matthews_corrcoef(y_true, y_pred)\n",
    "    print(f\"{prefix} Matthew Correlation Coefficient: {round(mcc,4)}\")\n",
    "\n",
    "    recall_macro = metrics.recall_score(y_true, y_pred, average=\"binary\", pos_label=1)\n",
    "    print(f\"{prefix} Recall: {round(recall_macro,4)}\")\n",
    "\n",
    "    precision_macro = metrics.precision_score(y_true, y_pred, average=\"binary\", pos_label=1)\n",
    "    print(f\"{prefix} Precision: {round(precision_macro,4)}\")\n",
    "\n",
    "    accuracy_macro = metrics.accuracy_score(y_true, y_pred)\n",
    "    print(f\"{prefix} Accuracy: {round(accuracy_macro,4)}\")\n",
    "    \n",
    "    return y_true, y_score, y_pred"
   ]
  },
  {
   "cell_type": "code",
   "execution_count": 58,
   "metadata": {},
   "outputs": [],
   "source": [
    "os.environ[\"TOKENIZERS_PARALLELISM\"] = \"TRUE\""
   ]
  },
  {
   "cell_type": "code",
   "execution_count": 59,
   "metadata": {},
   "outputs": [
    {
     "name": "stdout",
     "output_type": "stream",
     "text": [
      "######  Epoch 1/4 ######\n",
      "-----  Training -----\n",
      "Batch 1,000  of  12,500.  Loss 0.7810  Elapsed: 0:10:24.\n",
      "Batch 2,000  of  12,500.  Loss 0.6619  Elapsed: 0:20:46.\n",
      "Batch 3,000  of  12,500.  Loss 0.4640  Elapsed: 0:31:07.\n",
      "Batch 4,000  of  12,500.  Loss 0.5987  Elapsed: 0:41:29.\n",
      "Batch 5,000  of  12,500.  Loss 0.5049  Elapsed: 0:51:50.\n",
      "Batch 6,000  of  12,500.  Loss 0.5078  Elapsed: 1:02:11.\n",
      "Batch 7,000  of  12,500.  Loss 0.6071  Elapsed: 1:12:33.\n",
      "Batch 8,000  of  12,500.  Loss 0.6607  Elapsed: 1:22:54.\n",
      "Batch 9,000  of  12,500.  Loss 0.6055  Elapsed: 1:33:16.\n",
      "Batch 10,000  of  12,500.  Loss 0.3581  Elapsed: 1:43:37.\n",
      "Batch 11,000  of  12,500.  Loss 0.4553  Elapsed: 1:53:59.\n",
      "Batch 12,000  of  12,500.  Loss 0.5041  Elapsed: 2:04:20.\n",
      "\n",
      "Avg Training Loss 0.5594, Completed in 2:09:34 \n",
      "\n",
      "-----  Validation -----\n",
      "Batch 1,000  of  1,250.  Loss 0.6517  Elapsed: 0:03:32.\n",
      "\n",
      "Avg Validation Loss 0.7264, Completed in 0:04:28\n",
      "Validation F2-score: 0.731\n",
      "Validation Matthew Correlation Coefficient: 0.2466\n",
      "Validation Recall: 0.7542\n",
      "Validation Precision: 0.6509\n",
      "Validation Accuracy: 0.6351\n",
      "######  Epoch 2/4 ######\n",
      "-----  Training -----\n",
      "Batch 1,000  of  12,500.  Loss 0.5256  Elapsed: 0:10:24.\n",
      "Batch 2,000  of  12,500.  Loss 0.4034  Elapsed: 0:20:45.\n",
      "Batch 3,000  of  12,500.  Loss 0.6917  Elapsed: 0:31:06.\n",
      "Batch 4,000  of  12,500.  Loss 0.3188  Elapsed: 0:41:28.\n",
      "Batch 5,000  of  12,500.  Loss 0.2719  Elapsed: 0:51:49.\n",
      "Batch 6,000  of  12,500.  Loss 0.3540  Elapsed: 1:02:10.\n",
      "Batch 7,000  of  12,500.  Loss 0.5334  Elapsed: 1:12:31.\n",
      "Batch 8,000  of  12,500.  Loss 0.4164  Elapsed: 1:22:52.\n",
      "Batch 9,000  of  12,500.  Loss 0.4870  Elapsed: 1:33:13.\n",
      "Batch 10,000  of  12,500.  Loss 0.4039  Elapsed: 1:43:34.\n",
      "Batch 11,000  of  12,500.  Loss 0.4449  Elapsed: 1:53:56.\n",
      "Batch 12,000  of  12,500.  Loss 0.3780  Elapsed: 2:04:17.\n",
      "\n",
      "Avg Training Loss 0.4006, Completed in 2:09:31 \n",
      "\n",
      "-----  Validation -----\n",
      "Batch 1,000  of  1,250.  Loss 1.2574  Elapsed: 0:03:33.\n",
      "\n",
      "Avg Validation Loss 0.8219, Completed in 0:04:28\n",
      "Validation F2-score: 0.7939\n",
      "Validation Matthew Correlation Coefficient: 0.3388\n",
      "Validation Recall: 0.8313\n",
      "Validation Precision: 0.673\n",
      "Validation Accuracy: 0.6787\n",
      "######  Epoch 3/4 ######\n",
      "-----  Training -----\n",
      "Batch 1,000  of  12,500.  Loss 0.2557  Elapsed: 0:10:24.\n",
      "Batch 2,000  of  12,500.  Loss 0.1960  Elapsed: 0:20:45.\n",
      "Batch 3,000  of  12,500.  Loss 0.4372  Elapsed: 0:31:06.\n",
      "Batch 4,000  of  12,500.  Loss 0.5003  Elapsed: 0:41:27.\n",
      "Batch 5,000  of  12,500.  Loss 0.2825  Elapsed: 0:51:48.\n",
      "Batch 6,000  of  12,500.  Loss 0.2407  Elapsed: 1:02:09.\n",
      "Batch 7,000  of  12,500.  Loss 0.1938  Elapsed: 1:12:30.\n",
      "Batch 8,000  of  12,500.  Loss 0.2384  Elapsed: 1:22:51.\n",
      "Batch 9,000  of  12,500.  Loss 0.5680  Elapsed: 1:33:13.\n",
      "Batch 10,000  of  12,500.  Loss 0.3104  Elapsed: 1:43:36.\n",
      "Batch 11,000  of  12,500.  Loss 0.1632  Elapsed: 1:53:58.\n",
      "Batch 12,000  of  12,500.  Loss 0.4100  Elapsed: 2:04:20.\n",
      "\n",
      "Avg Training Loss 0.2966, Completed in 2:09:34 \n",
      "\n",
      "-----  Validation -----\n",
      "Batch 1,000  of  1,250.  Loss 0.9949  Elapsed: 0:03:32.\n",
      "\n",
      "Avg Validation Loss 1.0793, Completed in 0:04:28\n",
      "Validation F2-score: 0.7754\n",
      "Validation Matthew Correlation Coefficient: 0.3387\n",
      "Validation Recall: 0.8031\n",
      "Validation Precision: 0.6814\n",
      "Validation Accuracy: 0.6788\n",
      "######  Epoch 4/4 ######\n",
      "-----  Training -----\n",
      "Batch 1,000  of  12,500.  Loss 0.1610  Elapsed: 0:10:25.\n",
      "Batch 2,000  of  12,500.  Loss 0.1724  Elapsed: 0:20:47.\n",
      "Batch 3,000  of  12,500.  Loss 0.1942  Elapsed: 0:31:09.\n",
      "Batch 4,000  of  12,500.  Loss 0.2495  Elapsed: 0:41:31.\n",
      "Batch 5,000  of  12,500.  Loss 0.2036  Elapsed: 0:51:53.\n",
      "Batch 6,000  of  12,500.  Loss 0.3043  Elapsed: 1:02:14.\n",
      "Batch 7,000  of  12,500.  Loss 0.1659  Elapsed: 1:12:36.\n",
      "Batch 8,000  of  12,500.  Loss 0.4064  Elapsed: 1:22:58.\n",
      "Batch 9,000  of  12,500.  Loss 0.1816  Elapsed: 1:33:20.\n",
      "Batch 10,000  of  12,500.  Loss 0.2371  Elapsed: 1:43:42.\n",
      "Batch 11,000  of  12,500.  Loss 0.1878  Elapsed: 1:54:04.\n",
      "Batch 12,000  of  12,500.  Loss 0.2478  Elapsed: 2:04:26.\n",
      "\n",
      "Avg Training Loss 0.2328, Completed in 2:09:40 \n",
      "\n",
      "-----  Validation -----\n",
      "Batch 1,000  of  1,250.  Loss 1.0702  Elapsed: 0:03:32.\n",
      "\n",
      "Avg Validation Loss 1.1697, Completed in 0:04:28\n",
      "Validation F2-score: 0.7743\n",
      "Validation Matthew Correlation Coefficient: 0.3422\n",
      "Validation Recall: 0.8009\n",
      "Validation Precision: 0.6837\n",
      "Validation Accuracy: 0.6804\n"
     ]
    }
   ],
   "source": [
    "# Store the average loss after each epoch so we can plot them.\n",
    "train_loss_values = []\n",
    "val_loss_values = []\n",
    "\n",
    "for epoch in range(EPOCHS):\n",
    "    print ('######  Epoch {}/{} ######'.format(epoch+1, EPOCHS))\n",
    "    print ('-----  Training -----')\n",
    "    train_loss, train_time = train(train_loader, model, criterion, optimizer)\n",
    "    train_loss_values.append(train_loss)\n",
    "\n",
    "    print ('-----  Validation -----')\n",
    "    val_outputs, val_targets, val_loss, val_time = validate(val_loader, model, criterion)\n",
    "    val_loss_values.append(val_loss)\n",
    "    y_val_true, y_val_score, y_val_pred = compute_metrics(val_outputs, val_targets, prefix=\"Validation\")"
   ]
  },
  {
   "cell_type": "code",
   "execution_count": 61,
   "metadata": {},
   "outputs": [
    {
     "data": {
      "image/png": "[encoded data removed]",
      "text/plain": [
       "<Figure size 1000x600 with 1 Axes>"
      ]
     },
     "metadata": {},
     "output_type": "display_data"
    }
   ],
   "source": [
    "### Plot Training & Validation Loss\n",
    "data = {'Epoch': range(1, 5), 'Training Loss': train_loss_values, 'Validation Loss': val_loss_values}\n",
    "df = pd.DataFrame(data)\n",
    "\n",
    "fig, ax = plt.subplots(figsize=(10, 6))\n",
    "sns.set_style('whitegrid')\n",
    "sns.set(font_scale=1.5)\n",
    "\n",
    "# Plot train & val loss\n",
    "sns.lineplot(data=df, x=\"Epoch\", y=\"Training Loss\", label=\"Training Loss\", marker='o')\n",
    "sns.lineplot(data=df, x=\"Epoch\", y=\"Validation Loss\", label=\"Validation Loss\", marker='o')\n",
    "\n",
    "# set the axis labels and title\n",
    "ax.set(xlabel='Epoch', ylabel='Loss')\n",
    "ax.set_title('Training and Validation Loss', fontsize=18)\n",
    "\n",
    "# set the legend and adjust its position\n",
    "plt.legend(fontsize=14)\n",
    "\n",
    "# set the ticks fontsize\n",
    "ax.tick_params(axis='both', which='major', labelsize=14)"
   ]
  },
  {
   "cell_type": "code",
   "execution_count": 62,
   "metadata": {
    "id": "iQDSVwgdAiIc"
   },
   "outputs": [],
   "source": [
    "torch.save(model.state_dict(), 'models/BioClinicalBertFrozen.pth')"
   ]
  },
  {
   "cell_type": "markdown",
   "metadata": {
    "id": "OGDGA3AYKNSi"
   },
   "source": [
    "### Evaluation"
   ]
  },
  {
   "cell_type": "code",
   "execution_count": 63,
   "metadata": {
    "id": "5Rv-OvFkAaKp"
   },
   "outputs": [
    {
     "name": "stdout",
     "output_type": "stream",
     "text": [
      "\n",
      "Evaluation metrics for Test Set:\n",
      "Testing F2-score: 0.8071\n",
      "Testing Matthew Correlation Coefficient: 0.4002\n",
      "Testing Recall: 0.8092\n",
      "Testing Precision: 0.7986\n",
      "Testing Accuracy: 0.736\n"
     ]
    }
   ],
   "source": [
    "# Predicting with Test Set\n",
    "print('\\nEvaluation metrics for Test Set:')\n",
    "test_outputs, test_targets, test_loss, test_time = validate(test_loader, model, criterion, verbose=False)\n",
    "y_test_true, y_test_score, y_test_pred = compute_metrics(test_outputs, test_targets, prefix=\"Testing\")"
   ]
  },
  {
   "cell_type": "code",
   "execution_count": 72,
   "metadata": {},
   "outputs": [
    {
     "data": {
      "image/png": "[encoded data removed]",
      "text/plain": [
       "<Figure size 800x800 with 1 Axes>"
      ]
     },
     "metadata": {},
     "output_type": "display_data"
    }
   ],
   "source": [
    "# Extract AUPRC & AP\n",
    "def plot_AUPRC(y_true, y_score, title='Area Under Precision Recall Curve'):\n",
    "    sns.set_style('white')\n",
    "    plt.figure(figsize=(8,8))\n",
    "\n",
    "    # Compute precision-recall pairs\n",
    "    precision, recall, thresholds = precision_recall_curve(y_true, y_score)\n",
    "    # Compute AUPRC\n",
    "    auprc = auc(recall, precision)\n",
    "    plt.plot(recall, precision, color=\"#663399\", lw=2, alpha=0.9,\n",
    "             label=f'AUPRC = {round(auprc, 3)})'\n",
    "             )\n",
    "    plt.xlabel('Recall', fontsize=14)\n",
    "    plt.ylabel('Precision', fontsize=14)\n",
    "    plt.ylim(bottom=0)\n",
    "    plt.title(title, fontsize=16)\n",
    "    plt.legend()\n",
    "    plt.show()\n",
    "\n",
    "plot_AUPRC(y_test_true, y_test_score)"
   ]
  },
  {
   "cell_type": "code",
   "execution_count": 65,
   "metadata": {
    "id": "v1s-IIn7J-mR"
   },
   "outputs": [
    {
     "name": "stdout",
     "output_type": "stream",
     "text": [
      "Validation Set - Classification Report:\n",
      "              precision    recall  f1-score   support\n",
      "\n",
      "     class 0       0.60      0.59      0.60     61872\n",
      "     class 1       0.80      0.81      0.80    124881\n",
      "\n",
      "    accuracy                           0.74    186753\n",
      "   macro avg       0.70      0.70      0.70    186753\n",
      "weighted avg       0.73      0.74      0.74    186753\n",
      "\n"
     ]
    }
   ],
   "source": [
    "target_names = ['class ' + str(x) for x in range(2)]\n",
    "val_classification_report = classification_report(y_test_true, y_test_pred, target_names=target_names)\n",
    "print(\"Validation Set - Classification Report:\")\n",
    "print(val_classification_report)"
   ]
  },
  {
   "cell_type": "code",
   "execution_count": 66,
   "metadata": {
    "id": "_nKsz6FeVbCr"
   },
   "outputs": [
    {
     "data": {
      "text/plain": [
       "array([[58.82305405, 41.17694595],\n",
       "       [19.08136546, 80.91863454]])"
      ]
     },
     "execution_count": 66,
     "metadata": {},
     "output_type": "execute_result"
    }
   ],
   "source": [
    "conf_matrix = confusion_matrix(y_test_true, y_test_pred)\n",
    "conf_matrix = conf_matrix/conf_matrix.sum(axis=1, keepdims=True) * 100 #Convert to percentage\n",
    "conf_matrix"
   ]
  },
  {
   "cell_type": "code",
   "execution_count": 71,
   "metadata": {},
   "outputs": [
    {
     "data": {
      "image/png": "[encoded data removed]",
      "text/plain": [
       "<Figure size 600x600 with 2 Axes>"
      ]
     },
     "metadata": {},
     "output_type": "display_data"
    }
   ],
   "source": [
    "def plot_conf_matrix_high(conf_matrix):\n",
    "    \"\"\"Plot confusion matrix\"\"\"\n",
    "    fig, ax = plt.subplots(figsize=(6, 6))\n",
    "    sns.heatmap(\n",
    "        conf_matrix, annot=True,\n",
    "        cmap=sns.cubehelix_palette(as_cmap=True),\n",
    "        xticklabels= ['Negative', 'Positive'],\n",
    "        yticklabels= ['Negative', 'Positive'],\n",
    "        fmt='.1f'\n",
    "    )\n",
    "    ax.set_xlabel(\"Predicted Label\", fontsize=16)\n",
    "    ax.set_ylabel(\"True Label\", fontsize=16)\n",
    "    ax.set_title(\"Confusion Matrix - Interaction Prediction %\", fontsize=18)\n",
    "    plt.show()\n",
    "\n",
    "plot_conf_matrix_high(conf_matrix)"
   ]
  }
 ],
 "metadata": {
  "accelerator": "GPU",
  "colab": {
   "gpuType": "T4",
   "provenance": [],
   "toc_visible": true
  },
  "kernelspec": {
   "display_name": "Python 3 (ipykernel)",
   "language": "python",
   "name": "python3"
  },
  "language_info": {
   "codemirror_mode": {
    "name": "ipython",
    "version": 3
   },
   "file_extension": ".py",
   "mimetype": "text/x-python",
   "name": "python",
   "nbconvert_exporter": "python",
   "pygments_lexer": "ipython3",
   "version": "3.10.12"
  },
  "widgets": {
   "application/vnd.jupyter.widget-state+json": {
    "007b1fb1d03d433387c5f394485d75cd": {
     "model_module": "@jupyter-widgets/controls",
     "model_module_version": "1.5.0",
     "model_name": "DescriptionStyleModel",
     "state": {
      "_model_module": "@jupyter-widgets/controls",
      "_model_module_version": "1.5.0",
      "_model_name": "DescriptionStyleModel",
      "_view_count": null,
      "_view_module": "@jupyter-widgets/base",
      "_view_module_version": "1.2.0",
      "_view_name": "StyleView",
      "description_width": ""
     }
    },
    "03b91f9d7549487f8a108585a6a45a24": {
     "model_module": "@jupyter-widgets/controls",
     "model_module_version": "1.5.0",
     "model_name": "ProgressStyleModel",
     "state": {
      "_model_module": "@jupyter-widgets/controls",
      "_model_module_version": "1.5.0",
      "_model_name": "ProgressStyleModel",
      "_view_count": null,
      "_view_module": "@jupyter-widgets/base",
      "_view_module_version": "1.2.0",
      "_view_name": "StyleView",
      "bar_color": null,
      "description_width": ""
     }
    },
    "097ef633e83343e1a40a0b860b0279b4": {
     "model_module": "@jupyter-widgets/controls",
     "model_module_version": "1.5.0",
     "model_name": "HTMLModel",
     "state": {
      "_dom_classes": [],
      "_model_module": "@jupyter-widgets/controls",
      "_model_module_version": "1.5.0",
      "_model_name": "HTMLModel",
      "_view_count": null,
      "_view_module": "@jupyter-widgets/controls",
      "_view_module_version": "1.5.0",
      "_view_name": "HTMLView",
      "description": "",
      "description_tooltip": null,
      "layout": "IPY_MODEL_898055f1e82d4188abb75beac211ff3b",
      "placeholder": "​",
      "style": "IPY_MODEL_007b1fb1d03d433387c5f394485d75cd",
      "value": "Map: 100%"
     }
    },
    "137bb4b8f3fb41c8a6b7f4dac3c5472b": {
     "model_module": "@jupyter-widgets/base",
     "model_module_version": "1.2.0",
     "model_name": "LayoutModel",
     "state": {
      "_model_module": "@jupyter-widgets/base",
      "_model_module_version": "1.2.0",
      "_model_name": "LayoutModel",
      "_view_count": null,
      "_view_module": "@jupyter-widgets/base",
      "_view_module_version": "1.2.0",
      "_view_name": "LayoutView",
      "align_content": null,
      "align_items": null,
      "align_self": null,
      "border": null,
      "bottom": null,
      "display": null,
      "flex": null,
      "flex_flow": null,
      "grid_area": null,
      "grid_auto_columns": null,
      "grid_auto_flow": null,
      "grid_auto_rows": null,
      "grid_column": null,
      "grid_gap": null,
      "grid_row": null,
      "grid_template_areas": null,
      "grid_template_columns": null,
      "grid_template_rows": null,
      "height": null,
      "justify_content": null,
      "justify_items": null,
      "left": null,
      "margin": null,
      "max_height": null,
      "max_width": null,
      "min_height": null,
      "min_width": null,
      "object_fit": null,
      "object_position": null,
      "order": null,
      "overflow": null,
      "overflow_x": null,
      "overflow_y": null,
      "padding": null,
      "right": null,
      "top": null,
      "visibility": null,
      "width": null
     }
    },
    "196df6ab8c19433cb69b87303bfabb61": {
     "model_module": "@jupyter-widgets/controls",
     "model_module_version": "1.5.0",
     "model_name": "HTMLModel",
     "state": {
      "_dom_classes": [],
      "_model_module": "@jupyter-widgets/controls",
      "_model_module_version": "1.5.0",
      "_model_name": "HTMLModel",
      "_view_count": null,
      "_view_module": "@jupyter-widgets/controls",
      "_view_module_version": "1.5.0",
      "_view_name": "HTMLView",
      "description": "",
      "description_tooltip": null,
      "layout": "IPY_MODEL_a36d87bc8b034bf889bb6867eda2761e",
      "placeholder": "​",
      "style": "IPY_MODEL_f0074a44d3a4499881c56f89b6f68223",
      "value": " 3/3 [00:00&lt;00:00, 41.69it/s]"
     }
    },
    "1c613814b0ce4d348f8d4c5d4f547324": {
     "model_module": "@jupyter-widgets/base",
     "model_module_version": "1.2.0",
     "model_name": "LayoutModel",
     "state": {
      "_model_module": "@jupyter-widgets/base",
      "_model_module_version": "1.2.0",
      "_model_name": "LayoutModel",
      "_view_count": null,
      "_view_module": "@jupyter-widgets/base",
      "_view_module_version": "1.2.0",
      "_view_name": "LayoutView",
      "align_content": null,
      "align_items": null,
      "align_self": null,
      "border": null,
      "bottom": null,
      "display": null,
      "flex": null,
      "flex_flow": null,
      "grid_area": null,
      "grid_auto_columns": null,
      "grid_auto_flow": null,
      "grid_auto_rows": null,
      "grid_column": null,
      "grid_gap": null,
      "grid_row": null,
      "grid_template_areas": null,
      "grid_template_columns": null,
      "grid_template_rows": null,
      "height": null,
      "justify_content": null,
      "justify_items": null,
      "left": null,
      "margin": null,
      "max_height": null,
      "max_width": null,
      "min_height": null,
      "min_width": null,
      "object_fit": null,
      "object_position": null,
      "order": null,
      "overflow": null,
      "overflow_x": null,
      "overflow_y": null,
      "padding": null,
      "right": null,
      "top": null,
      "visibility": null,
      "width": null
     }
    },
    "20c0885b542d4592bc82f9dbc95f2967": {
     "model_module": "@jupyter-widgets/controls",
     "model_module_version": "1.5.0",
     "model_name": "HTMLModel",
     "state": {
      "_dom_classes": [],
      "_model_module": "@jupyter-widgets/controls",
      "_model_module_version": "1.5.0",
      "_model_name": "HTMLModel",
      "_view_count": null,
      "_view_module": "@jupyter-widgets/controls",
      "_view_module_version": "1.5.0",
      "_view_name": "HTMLView",
      "description": "",
      "description_tooltip": null,
      "layout": "IPY_MODEL_56a0098d47674ae09cb4c412345a4468",
      "placeholder": "​",
      "style": "IPY_MODEL_c76764720a6f44dcb967ecce4c151faf",
      "value": "Map: 100%"
     }
    },
    "22d025d278634f8585ac8227e752d177": {
     "model_module": "@jupyter-widgets/base",
     "model_module_version": "1.2.0",
     "model_name": "LayoutModel",
     "state": {
      "_model_module": "@jupyter-widgets/base",
      "_model_module_version": "1.2.0",
      "_model_name": "LayoutModel",
      "_view_count": null,
      "_view_module": "@jupyter-widgets/base",
      "_view_module_version": "1.2.0",
      "_view_name": "LayoutView",
      "align_content": null,
      "align_items": null,
      "align_self": null,
      "border": null,
      "bottom": null,
      "display": null,
      "flex": null,
      "flex_flow": null,
      "grid_area": null,
      "grid_auto_columns": null,
      "grid_auto_flow": null,
      "grid_auto_rows": null,
      "grid_column": null,
      "grid_gap": null,
      "grid_row": null,
      "grid_template_areas": null,
      "grid_template_columns": null,
      "grid_template_rows": null,
      "height": null,
      "justify_content": null,
      "justify_items": null,
      "left": null,
      "margin": null,
      "max_height": null,
      "max_width": null,
      "min_height": null,
      "min_width": null,
      "object_fit": null,
      "object_position": null,
      "order": null,
      "overflow": null,
      "overflow_x": null,
      "overflow_y": null,
      "padding": null,
      "right": null,
      "top": null,
      "visibility": null,
      "width": null
     }
    },
    "2d1e06c7c1a143d0886f43f3bf63dbe6": {
     "model_module": "@jupyter-widgets/controls",
     "model_module_version": "1.5.0",
     "model_name": "ProgressStyleModel",
     "state": {
      "_model_module": "@jupyter-widgets/controls",
      "_model_module_version": "1.5.0",
      "_model_name": "ProgressStyleModel",
      "_view_count": null,
      "_view_module": "@jupyter-widgets/base",
      "_view_module_version": "1.2.0",
      "_view_name": "StyleView",
      "bar_color": null,
      "description_width": ""
     }
    },
    "35b2002728b9472d869a90b58b064bcf": {
     "model_module": "@jupyter-widgets/base",
     "model_module_version": "1.2.0",
     "model_name": "LayoutModel",
     "state": {
      "_model_module": "@jupyter-widgets/base",
      "_model_module_version": "1.2.0",
      "_model_name": "LayoutModel",
      "_view_count": null,
      "_view_module": "@jupyter-widgets/base",
      "_view_module_version": "1.2.0",
      "_view_name": "LayoutView",
      "align_content": null,
      "align_items": null,
      "align_self": null,
      "border": null,
      "bottom": null,
      "display": null,
      "flex": null,
      "flex_flow": null,
      "grid_area": null,
      "grid_auto_columns": null,
      "grid_auto_flow": null,
      "grid_auto_rows": null,
      "grid_column": null,
      "grid_gap": null,
      "grid_row": null,
      "grid_template_areas": null,
      "grid_template_columns": null,
      "grid_template_rows": null,
      "height": null,
      "justify_content": null,
      "justify_items": null,
      "left": null,
      "margin": null,
      "max_height": null,
      "max_width": null,
      "min_height": null,
      "min_width": null,
      "object_fit": null,
      "object_position": null,
      "order": null,
      "overflow": null,
      "overflow_x": null,
      "overflow_y": null,
      "padding": null,
      "right": null,
      "top": null,
      "visibility": "hidden",
      "width": null
     }
    },
    "36ea4a3c568f4831905834e5c5b0d03a": {
     "model_module": "@jupyter-widgets/controls",
     "model_module_version": "1.5.0",
     "model_name": "HTMLModel",
     "state": {
      "_dom_classes": [],
      "_model_module": "@jupyter-widgets/controls",
      "_model_module_version": "1.5.0",
      "_model_name": "HTMLModel",
      "_view_count": null,
      "_view_module": "@jupyter-widgets/controls",
      "_view_module_version": "1.5.0",
      "_view_name": "HTMLView",
      "description": "",
      "description_tooltip": null,
      "layout": "IPY_MODEL_1c613814b0ce4d348f8d4c5d4f547324",
      "placeholder": "​",
      "style": "IPY_MODEL_af8e311a99774dbe9f814aa242772264",
      "value": "Map: 100%"
     }
    },
    "404bfceb697342a3a2f90db43fc79aac": {
     "model_module": "@jupyter-widgets/controls",
     "model_module_version": "1.5.0",
     "model_name": "HBoxModel",
     "state": {
      "_dom_classes": [],
      "_model_module": "@jupyter-widgets/controls",
      "_model_module_version": "1.5.0",
      "_model_name": "HBoxModel",
      "_view_count": null,
      "_view_module": "@jupyter-widgets/controls",
      "_view_module_version": "1.5.0",
      "_view_name": "HBoxView",
      "box_style": "",
      "children": [
       "IPY_MODEL_20c0885b542d4592bc82f9dbc95f2967",
       "IPY_MODEL_6ed68724fa3443f0a01911b77fd76c17",
       "IPY_MODEL_8bb576c1c5444ebb8eb1390468720f9d"
      ],
      "layout": "IPY_MODEL_c54d39bf63a44ca8a7b0c0d00bd8deb5"
     }
    },
    "56a0098d47674ae09cb4c412345a4468": {
     "model_module": "@jupyter-widgets/base",
     "model_module_version": "1.2.0",
     "model_name": "LayoutModel",
     "state": {
      "_model_module": "@jupyter-widgets/base",
      "_model_module_version": "1.2.0",
      "_model_name": "LayoutModel",
      "_view_count": null,
      "_view_module": "@jupyter-widgets/base",
      "_view_module_version": "1.2.0",
      "_view_name": "LayoutView",
      "align_content": null,
      "align_items": null,
      "align_self": null,
      "border": null,
      "bottom": null,
      "display": null,
      "flex": null,
      "flex_flow": null,
      "grid_area": null,
      "grid_auto_columns": null,
      "grid_auto_flow": null,
      "grid_auto_rows": null,
      "grid_column": null,
      "grid_gap": null,
      "grid_row": null,
      "grid_template_areas": null,
      "grid_template_columns": null,
      "grid_template_rows": null,
      "height": null,
      "justify_content": null,
      "justify_items": null,
      "left": null,
      "margin": null,
      "max_height": null,
      "max_width": null,
      "min_height": null,
      "min_width": null,
      "object_fit": null,
      "object_position": null,
      "order": null,
      "overflow": null,
      "overflow_x": null,
      "overflow_y": null,
      "padding": null,
      "right": null,
      "top": null,
      "visibility": null,
      "width": null
     }
    },
    "5818bab97ad94b5c93e774e6c9c545d8": {
     "model_module": "@jupyter-widgets/controls",
     "model_module_version": "1.5.0",
     "model_name": "HBoxModel",
     "state": {
      "_dom_classes": [],
      "_model_module": "@jupyter-widgets/controls",
      "_model_module_version": "1.5.0",
      "_model_name": "HBoxModel",
      "_view_count": null,
      "_view_module": "@jupyter-widgets/controls",
      "_view_module_version": "1.5.0",
      "_view_name": "HBoxView",
      "box_style": "",
      "children": [
       "IPY_MODEL_097ef633e83343e1a40a0b860b0279b4",
       "IPY_MODEL_98a98588193948c38b3727d35a1ee0bf",
       "IPY_MODEL_e0cc1cf6d0a942c3987f5ca2de7bf910"
      ],
      "layout": "IPY_MODEL_6dba82586eeb4cd193f857706bf21dbd"
     }
    },
    "60499b5778ba4f6590d11beaf10de5e8": {
     "model_module": "@jupyter-widgets/controls",
     "model_module_version": "1.5.0",
     "model_name": "DescriptionStyleModel",
     "state": {
      "_model_module": "@jupyter-widgets/controls",
      "_model_module_version": "1.5.0",
      "_model_name": "DescriptionStyleModel",
      "_view_count": null,
      "_view_module": "@jupyter-widgets/base",
      "_view_module_version": "1.2.0",
      "_view_name": "StyleView",
      "description_width": ""
     }
    },
    "6050f464fa194b3b9f44b9fb1d563c6f": {
     "model_module": "@jupyter-widgets/base",
     "model_module_version": "1.2.0",
     "model_name": "LayoutModel",
     "state": {
      "_model_module": "@jupyter-widgets/base",
      "_model_module_version": "1.2.0",
      "_model_name": "LayoutModel",
      "_view_count": null,
      "_view_module": "@jupyter-widgets/base",
      "_view_module_version": "1.2.0",
      "_view_name": "LayoutView",
      "align_content": null,
      "align_items": null,
      "align_self": null,
      "border": null,
      "bottom": null,
      "display": null,
      "flex": null,
      "flex_flow": null,
      "grid_area": null,
      "grid_auto_columns": null,
      "grid_auto_flow": null,
      "grid_auto_rows": null,
      "grid_column": null,
      "grid_gap": null,
      "grid_row": null,
      "grid_template_areas": null,
      "grid_template_columns": null,
      "grid_template_rows": null,
      "height": null,
      "justify_content": null,
      "justify_items": null,
      "left": null,
      "margin": null,
      "max_height": null,
      "max_width": null,
      "min_height": null,
      "min_width": null,
      "object_fit": null,
      "object_position": null,
      "order": null,
      "overflow": null,
      "overflow_x": null,
      "overflow_y": null,
      "padding": null,
      "right": null,
      "top": null,
      "visibility": null,
      "width": null
     }
    },
    "6dba82586eeb4cd193f857706bf21dbd": {
     "model_module": "@jupyter-widgets/base",
     "model_module_version": "1.2.0",
     "model_name": "LayoutModel",
     "state": {
      "_model_module": "@jupyter-widgets/base",
      "_model_module_version": "1.2.0",
      "_model_name": "LayoutModel",
      "_view_count": null,
      "_view_module": "@jupyter-widgets/base",
      "_view_module_version": "1.2.0",
      "_view_name": "LayoutView",
      "align_content": null,
      "align_items": null,
      "align_self": null,
      "border": null,
      "bottom": null,
      "display": null,
      "flex": null,
      "flex_flow": null,
      "grid_area": null,
      "grid_auto_columns": null,
      "grid_auto_flow": null,
      "grid_auto_rows": null,
      "grid_column": null,
      "grid_gap": null,
      "grid_row": null,
      "grid_template_areas": null,
      "grid_template_columns": null,
      "grid_template_rows": null,
      "height": null,
      "justify_content": null,
      "justify_items": null,
      "left": null,
      "margin": null,
      "max_height": null,
      "max_width": null,
      "min_height": null,
      "min_width": null,
      "object_fit": null,
      "object_position": null,
      "order": null,
      "overflow": null,
      "overflow_x": null,
      "overflow_y": null,
      "padding": null,
      "right": null,
      "top": null,
      "visibility": "hidden",
      "width": null
     }
    },
    "6ed68724fa3443f0a01911b77fd76c17": {
     "model_module": "@jupyter-widgets/controls",
     "model_module_version": "1.5.0",
     "model_name": "FloatProgressModel",
     "state": {
      "_dom_classes": [],
      "_model_module": "@jupyter-widgets/controls",
      "_model_module_version": "1.5.0",
      "_model_name": "FloatProgressModel",
      "_view_count": null,
      "_view_module": "@jupyter-widgets/controls",
      "_view_module_version": "1.5.0",
      "_view_name": "ProgressView",
      "bar_style": "",
      "description": "",
      "description_tooltip": null,
      "layout": "IPY_MODEL_137bb4b8f3fb41c8a6b7f4dac3c5472b",
      "max": 238072,
      "min": 0,
      "orientation": "horizontal",
      "style": "IPY_MODEL_eeac483e4beb4e3896af7caea41c674d",
      "value": 238072
     }
    },
    "757c7f1330184e7d95008950c805ccb0": {
     "model_module": "@jupyter-widgets/controls",
     "model_module_version": "1.5.0",
     "model_name": "ProgressStyleModel",
     "state": {
      "_model_module": "@jupyter-widgets/controls",
      "_model_module_version": "1.5.0",
      "_model_name": "ProgressStyleModel",
      "_view_count": null,
      "_view_module": "@jupyter-widgets/base",
      "_view_module_version": "1.2.0",
      "_view_name": "StyleView",
      "bar_color": null,
      "description_width": ""
     }
    },
    "76ae6df4a5f846dc8d3871bc4b695b3a": {
     "model_module": "@jupyter-widgets/controls",
     "model_module_version": "1.5.0",
     "model_name": "HBoxModel",
     "state": {
      "_dom_classes": [],
      "_model_module": "@jupyter-widgets/controls",
      "_model_module_version": "1.5.0",
      "_model_name": "HBoxModel",
      "_view_count": null,
      "_view_module": "@jupyter-widgets/controls",
      "_view_module_version": "1.5.0",
      "_view_name": "HBoxView",
      "box_style": "",
      "children": [
       "IPY_MODEL_820536d02b474b34a0c14e26ae0129db",
       "IPY_MODEL_99e02af33a854247ba87458257c55488",
       "IPY_MODEL_196df6ab8c19433cb69b87303bfabb61"
      ],
      "layout": "IPY_MODEL_f7210c082d0145bfbb9937861c4766be"
     }
    },
    "820536d02b474b34a0c14e26ae0129db": {
     "model_module": "@jupyter-widgets/controls",
     "model_module_version": "1.5.0",
     "model_name": "HTMLModel",
     "state": {
      "_dom_classes": [],
      "_model_module": "@jupyter-widgets/controls",
      "_model_module_version": "1.5.0",
      "_model_name": "HTMLModel",
      "_view_count": null,
      "_view_module": "@jupyter-widgets/controls",
      "_view_module_version": "1.5.0",
      "_view_name": "HTMLView",
      "description": "",
      "description_tooltip": null,
      "layout": "IPY_MODEL_9a8e91550af74c2fbc753aed53708ba6",
      "placeholder": "​",
      "style": "IPY_MODEL_a72fa699908a41f9b4036ec26515afd2",
      "value": "100%"
     }
    },
    "898055f1e82d4188abb75beac211ff3b": {
     "model_module": "@jupyter-widgets/base",
     "model_module_version": "1.2.0",
     "model_name": "LayoutModel",
     "state": {
      "_model_module": "@jupyter-widgets/base",
      "_model_module_version": "1.2.0",
      "_model_name": "LayoutModel",
      "_view_count": null,
      "_view_module": "@jupyter-widgets/base",
      "_view_module_version": "1.2.0",
      "_view_name": "LayoutView",
      "align_content": null,
      "align_items": null,
      "align_self": null,
      "border": null,
      "bottom": null,
      "display": null,
      "flex": null,
      "flex_flow": null,
      "grid_area": null,
      "grid_auto_columns": null,
      "grid_auto_flow": null,
      "grid_auto_rows": null,
      "grid_column": null,
      "grid_gap": null,
      "grid_row": null,
      "grid_template_areas": null,
      "grid_template_columns": null,
      "grid_template_rows": null,
      "height": null,
      "justify_content": null,
      "justify_items": null,
      "left": null,
      "margin": null,
      "max_height": null,
      "max_width": null,
      "min_height": null,
      "min_width": null,
      "object_fit": null,
      "object_position": null,
      "order": null,
      "overflow": null,
      "overflow_x": null,
      "overflow_y": null,
      "padding": null,
      "right": null,
      "top": null,
      "visibility": null,
      "width": null
     }
    },
    "8bb576c1c5444ebb8eb1390468720f9d": {
     "model_module": "@jupyter-widgets/controls",
     "model_module_version": "1.5.0",
     "model_name": "HTMLModel",
     "state": {
      "_dom_classes": [],
      "_model_module": "@jupyter-widgets/controls",
      "_model_module_version": "1.5.0",
      "_model_name": "HTMLModel",
      "_view_count": null,
      "_view_module": "@jupyter-widgets/controls",
      "_view_module_version": "1.5.0",
      "_view_name": "HTMLView",
      "description": "",
      "description_tooltip": null,
      "layout": "IPY_MODEL_c650b3b8ba514f0b9709bfdf9545ddca",
      "placeholder": "​",
      "style": "IPY_MODEL_c9f2f317092848ed9585601925c7ecb5",
      "value": " 238000/238072 [01:54&lt;00:00, 2407.19 examples/s]"
     }
    },
    "96f62dc6ed08480ab0758377d003a0a3": {
     "model_module": "@jupyter-widgets/controls",
     "model_module_version": "1.5.0",
     "model_name": "FloatProgressModel",
     "state": {
      "_dom_classes": [],
      "_model_module": "@jupyter-widgets/controls",
      "_model_module_version": "1.5.0",
      "_model_name": "FloatProgressModel",
      "_view_count": null,
      "_view_module": "@jupyter-widgets/controls",
      "_view_module_version": "1.5.0",
      "_view_name": "ProgressView",
      "bar_style": "",
      "description": "",
      "description_tooltip": null,
      "layout": "IPY_MODEL_6050f464fa194b3b9f44b9fb1d563c6f",
      "max": 186753,
      "min": 0,
      "orientation": "horizontal",
      "style": "IPY_MODEL_03b91f9d7549487f8a108585a6a45a24",
      "value": 186753
     }
    },
    "98a98588193948c38b3727d35a1ee0bf": {
     "model_module": "@jupyter-widgets/controls",
     "model_module_version": "1.5.0",
     "model_name": "FloatProgressModel",
     "state": {
      "_dom_classes": [],
      "_model_module": "@jupyter-widgets/controls",
      "_model_module_version": "1.5.0",
      "_model_name": "FloatProgressModel",
      "_view_count": null,
      "_view_module": "@jupyter-widgets/controls",
      "_view_module_version": "1.5.0",
      "_view_name": "ProgressView",
      "bar_style": "",
      "description": "",
      "description_tooltip": null,
      "layout": "IPY_MODEL_f07d75c06b9e4ba7a445bed142643e94",
      "max": 300000,
      "min": 0,
      "orientation": "horizontal",
      "style": "IPY_MODEL_757c7f1330184e7d95008950c805ccb0",
      "value": 300000
     }
    },
    "99e02af33a854247ba87458257c55488": {
     "model_module": "@jupyter-widgets/controls",
     "model_module_version": "1.5.0",
     "model_name": "FloatProgressModel",
     "state": {
      "_dom_classes": [],
      "_model_module": "@jupyter-widgets/controls",
      "_model_module_version": "1.5.0",
      "_model_name": "FloatProgressModel",
      "_view_count": null,
      "_view_module": "@jupyter-widgets/controls",
      "_view_module_version": "1.5.0",
      "_view_name": "ProgressView",
      "bar_style": "success",
      "description": "",
      "description_tooltip": null,
      "layout": "IPY_MODEL_db110dfbde7d4bdf87c0200fc93fa44d",
      "max": 3,
      "min": 0,
      "orientation": "horizontal",
      "style": "IPY_MODEL_2d1e06c7c1a143d0886f43f3bf63dbe6",
      "value": 3
     }
    },
    "9a8e91550af74c2fbc753aed53708ba6": {
     "model_module": "@jupyter-widgets/base",
     "model_module_version": "1.2.0",
     "model_name": "LayoutModel",
     "state": {
      "_model_module": "@jupyter-widgets/base",
      "_model_module_version": "1.2.0",
      "_model_name": "LayoutModel",
      "_view_count": null,
      "_view_module": "@jupyter-widgets/base",
      "_view_module_version": "1.2.0",
      "_view_name": "LayoutView",
      "align_content": null,
      "align_items": null,
      "align_self": null,
      "border": null,
      "bottom": null,
      "display": null,
      "flex": null,
      "flex_flow": null,
      "grid_area": null,
      "grid_auto_columns": null,
      "grid_auto_flow": null,
      "grid_auto_rows": null,
      "grid_column": null,
      "grid_gap": null,
      "grid_row": null,
      "grid_template_areas": null,
      "grid_template_columns": null,
      "grid_template_rows": null,
      "height": null,
      "justify_content": null,
      "justify_items": null,
      "left": null,
      "margin": null,
      "max_height": null,
      "max_width": null,
      "min_height": null,
      "min_width": null,
      "object_fit": null,
      "object_position": null,
      "order": null,
      "overflow": null,
      "overflow_x": null,
      "overflow_y": null,
      "padding": null,
      "right": null,
      "top": null,
      "visibility": null,
      "width": null
     }
    },
    "a36d87bc8b034bf889bb6867eda2761e": {
     "model_module": "@jupyter-widgets/base",
     "model_module_version": "1.2.0",
     "model_name": "LayoutModel",
     "state": {
      "_model_module": "@jupyter-widgets/base",
      "_model_module_version": "1.2.0",
      "_model_name": "LayoutModel",
      "_view_count": null,
      "_view_module": "@jupyter-widgets/base",
      "_view_module_version": "1.2.0",
      "_view_name": "LayoutView",
      "align_content": null,
      "align_items": null,
      "align_self": null,
      "border": null,
      "bottom": null,
      "display": null,
      "flex": null,
      "flex_flow": null,
      "grid_area": null,
      "grid_auto_columns": null,
      "grid_auto_flow": null,
      "grid_auto_rows": null,
      "grid_column": null,
      "grid_gap": null,
      "grid_row": null,
      "grid_template_areas": null,
      "grid_template_columns": null,
      "grid_template_rows": null,
      "height": null,
      "justify_content": null,
      "justify_items": null,
      "left": null,
      "margin": null,
      "max_height": null,
      "max_width": null,
      "min_height": null,
      "min_width": null,
      "object_fit": null,
      "object_position": null,
      "order": null,
      "overflow": null,
      "overflow_x": null,
      "overflow_y": null,
      "padding": null,
      "right": null,
      "top": null,
      "visibility": null,
      "width": null
     }
    },
    "a72fa699908a41f9b4036ec26515afd2": {
     "model_module": "@jupyter-widgets/controls",
     "model_module_version": "1.5.0",
     "model_name": "DescriptionStyleModel",
     "state": {
      "_model_module": "@jupyter-widgets/controls",
      "_model_module_version": "1.5.0",
      "_model_name": "DescriptionStyleModel",
      "_view_count": null,
      "_view_module": "@jupyter-widgets/base",
      "_view_module_version": "1.2.0",
      "_view_name": "StyleView",
      "description_width": ""
     }
    },
    "af8e311a99774dbe9f814aa242772264": {
     "model_module": "@jupyter-widgets/controls",
     "model_module_version": "1.5.0",
     "model_name": "DescriptionStyleModel",
     "state": {
      "_model_module": "@jupyter-widgets/controls",
      "_model_module_version": "1.5.0",
      "_model_name": "DescriptionStyleModel",
      "_view_count": null,
      "_view_module": "@jupyter-widgets/base",
      "_view_module_version": "1.2.0",
      "_view_name": "StyleView",
      "description_width": ""
     }
    },
    "b2a19d1ba5e54048884adee46a58ed80": {
     "model_module": "@jupyter-widgets/base",
     "model_module_version": "1.2.0",
     "model_name": "LayoutModel",
     "state": {
      "_model_module": "@jupyter-widgets/base",
      "_model_module_version": "1.2.0",
      "_model_name": "LayoutModel",
      "_view_count": null,
      "_view_module": "@jupyter-widgets/base",
      "_view_module_version": "1.2.0",
      "_view_name": "LayoutView",
      "align_content": null,
      "align_items": null,
      "align_self": null,
      "border": null,
      "bottom": null,
      "display": null,
      "flex": null,
      "flex_flow": null,
      "grid_area": null,
      "grid_auto_columns": null,
      "grid_auto_flow": null,
      "grid_auto_rows": null,
      "grid_column": null,
      "grid_gap": null,
      "grid_row": null,
      "grid_template_areas": null,
      "grid_template_columns": null,
      "grid_template_rows": null,
      "height": null,
      "justify_content": null,
      "justify_items": null,
      "left": null,
      "margin": null,
      "max_height": null,
      "max_width": null,
      "min_height": null,
      "min_width": null,
      "object_fit": null,
      "object_position": null,
      "order": null,
      "overflow": null,
      "overflow_x": null,
      "overflow_y": null,
      "padding": null,
      "right": null,
      "top": null,
      "visibility": null,
      "width": null
     }
    },
    "c54d39bf63a44ca8a7b0c0d00bd8deb5": {
     "model_module": "@jupyter-widgets/base",
     "model_module_version": "1.2.0",
     "model_name": "LayoutModel",
     "state": {
      "_model_module": "@jupyter-widgets/base",
      "_model_module_version": "1.2.0",
      "_model_name": "LayoutModel",
      "_view_count": null,
      "_view_module": "@jupyter-widgets/base",
      "_view_module_version": "1.2.0",
      "_view_name": "LayoutView",
      "align_content": null,
      "align_items": null,
      "align_self": null,
      "border": null,
      "bottom": null,
      "display": null,
      "flex": null,
      "flex_flow": null,
      "grid_area": null,
      "grid_auto_columns": null,
      "grid_auto_flow": null,
      "grid_auto_rows": null,
      "grid_column": null,
      "grid_gap": null,
      "grid_row": null,
      "grid_template_areas": null,
      "grid_template_columns": null,
      "grid_template_rows": null,
      "height": null,
      "justify_content": null,
      "justify_items": null,
      "left": null,
      "margin": null,
      "max_height": null,
      "max_width": null,
      "min_height": null,
      "min_width": null,
      "object_fit": null,
      "object_position": null,
      "order": null,
      "overflow": null,
      "overflow_x": null,
      "overflow_y": null,
      "padding": null,
      "right": null,
      "top": null,
      "visibility": "hidden",
      "width": null
     }
    },
    "c650b3b8ba514f0b9709bfdf9545ddca": {
     "model_module": "@jupyter-widgets/base",
     "model_module_version": "1.2.0",
     "model_name": "LayoutModel",
     "state": {
      "_model_module": "@jupyter-widgets/base",
      "_model_module_version": "1.2.0",
      "_model_name": "LayoutModel",
      "_view_count": null,
      "_view_module": "@jupyter-widgets/base",
      "_view_module_version": "1.2.0",
      "_view_name": "LayoutView",
      "align_content": null,
      "align_items": null,
      "align_self": null,
      "border": null,
      "bottom": null,
      "display": null,
      "flex": null,
      "flex_flow": null,
      "grid_area": null,
      "grid_auto_columns": null,
      "grid_auto_flow": null,
      "grid_auto_rows": null,
      "grid_column": null,
      "grid_gap": null,
      "grid_row": null,
      "grid_template_areas": null,
      "grid_template_columns": null,
      "grid_template_rows": null,
      "height": null,
      "justify_content": null,
      "justify_items": null,
      "left": null,
      "margin": null,
      "max_height": null,
      "max_width": null,
      "min_height": null,
      "min_width": null,
      "object_fit": null,
      "object_position": null,
      "order": null,
      "overflow": null,
      "overflow_x": null,
      "overflow_y": null,
      "padding": null,
      "right": null,
      "top": null,
      "visibility": null,
      "width": null
     }
    },
    "c76764720a6f44dcb967ecce4c151faf": {
     "model_module": "@jupyter-widgets/controls",
     "model_module_version": "1.5.0",
     "model_name": "DescriptionStyleModel",
     "state": {
      "_model_module": "@jupyter-widgets/controls",
      "_model_module_version": "1.5.0",
      "_model_name": "DescriptionStyleModel",
      "_view_count": null,
      "_view_module": "@jupyter-widgets/base",
      "_view_module_version": "1.2.0",
      "_view_name": "StyleView",
      "description_width": ""
     }
    },
    "c9f2f317092848ed9585601925c7ecb5": {
     "model_module": "@jupyter-widgets/controls",
     "model_module_version": "1.5.0",
     "model_name": "DescriptionStyleModel",
     "state": {
      "_model_module": "@jupyter-widgets/controls",
      "_model_module_version": "1.5.0",
      "_model_name": "DescriptionStyleModel",
      "_view_count": null,
      "_view_module": "@jupyter-widgets/base",
      "_view_module_version": "1.2.0",
      "_view_name": "StyleView",
      "description_width": ""
     }
    },
    "d518b869420e45849a9c21840efae484": {
     "model_module": "@jupyter-widgets/controls",
     "model_module_version": "1.5.0",
     "model_name": "DescriptionStyleModel",
     "state": {
      "_model_module": "@jupyter-widgets/controls",
      "_model_module_version": "1.5.0",
      "_model_name": "DescriptionStyleModel",
      "_view_count": null,
      "_view_module": "@jupyter-widgets/base",
      "_view_module_version": "1.2.0",
      "_view_name": "StyleView",
      "description_width": ""
     }
    },
    "db110dfbde7d4bdf87c0200fc93fa44d": {
     "model_module": "@jupyter-widgets/base",
     "model_module_version": "1.2.0",
     "model_name": "LayoutModel",
     "state": {
      "_model_module": "@jupyter-widgets/base",
      "_model_module_version": "1.2.0",
      "_model_name": "LayoutModel",
      "_view_count": null,
      "_view_module": "@jupyter-widgets/base",
      "_view_module_version": "1.2.0",
      "_view_name": "LayoutView",
      "align_content": null,
      "align_items": null,
      "align_self": null,
      "border": null,
      "bottom": null,
      "display": null,
      "flex": null,
      "flex_flow": null,
      "grid_area": null,
      "grid_auto_columns": null,
      "grid_auto_flow": null,
      "grid_auto_rows": null,
      "grid_column": null,
      "grid_gap": null,
      "grid_row": null,
      "grid_template_areas": null,
      "grid_template_columns": null,
      "grid_template_rows": null,
      "height": null,
      "justify_content": null,
      "justify_items": null,
      "left": null,
      "margin": null,
      "max_height": null,
      "max_width": null,
      "min_height": null,
      "min_width": null,
      "object_fit": null,
      "object_position": null,
      "order": null,
      "overflow": null,
      "overflow_x": null,
      "overflow_y": null,
      "padding": null,
      "right": null,
      "top": null,
      "visibility": null,
      "width": null
     }
    },
    "dfec57bc90384adcb9e122edb0bccebc": {
     "model_module": "@jupyter-widgets/controls",
     "model_module_version": "1.5.0",
     "model_name": "HTMLModel",
     "state": {
      "_dom_classes": [],
      "_model_module": "@jupyter-widgets/controls",
      "_model_module_version": "1.5.0",
      "_model_name": "HTMLModel",
      "_view_count": null,
      "_view_module": "@jupyter-widgets/controls",
      "_view_module_version": "1.5.0",
      "_view_name": "HTMLView",
      "description": "",
      "description_tooltip": null,
      "layout": "IPY_MODEL_22d025d278634f8585ac8227e752d177",
      "placeholder": "​",
      "style": "IPY_MODEL_60499b5778ba4f6590d11beaf10de5e8",
      "value": " 186753/186753 [01:34&lt;00:00, 1428.48 examples/s]"
     }
    },
    "e0cc1cf6d0a942c3987f5ca2de7bf910": {
     "model_module": "@jupyter-widgets/controls",
     "model_module_version": "1.5.0",
     "model_name": "HTMLModel",
     "state": {
      "_dom_classes": [],
      "_model_module": "@jupyter-widgets/controls",
      "_model_module_version": "1.5.0",
      "_model_name": "HTMLModel",
      "_view_count": null,
      "_view_module": "@jupyter-widgets/controls",
      "_view_module_version": "1.5.0",
      "_view_name": "HTMLView",
      "description": "",
      "description_tooltip": null,
      "layout": "IPY_MODEL_b2a19d1ba5e54048884adee46a58ed80",
      "placeholder": "​",
      "style": "IPY_MODEL_d518b869420e45849a9c21840efae484",
      "value": " 300000/300000 [02:30&lt;00:00, 2392.64 examples/s]"
     }
    },
    "eeac483e4beb4e3896af7caea41c674d": {
     "model_module": "@jupyter-widgets/controls",
     "model_module_version": "1.5.0",
     "model_name": "ProgressStyleModel",
     "state": {
      "_model_module": "@jupyter-widgets/controls",
      "_model_module_version": "1.5.0",
      "_model_name": "ProgressStyleModel",
      "_view_count": null,
      "_view_module": "@jupyter-widgets/base",
      "_view_module_version": "1.2.0",
      "_view_name": "StyleView",
      "bar_color": null,
      "description_width": ""
     }
    },
    "f0074a44d3a4499881c56f89b6f68223": {
     "model_module": "@jupyter-widgets/controls",
     "model_module_version": "1.5.0",
     "model_name": "DescriptionStyleModel",
     "state": {
      "_model_module": "@jupyter-widgets/controls",
      "_model_module_version": "1.5.0",
      "_model_name": "DescriptionStyleModel",
      "_view_count": null,
      "_view_module": "@jupyter-widgets/base",
      "_view_module_version": "1.2.0",
      "_view_name": "StyleView",
      "description_width": ""
     }
    },
    "f07d75c06b9e4ba7a445bed142643e94": {
     "model_module": "@jupyter-widgets/base",
     "model_module_version": "1.2.0",
     "model_name": "LayoutModel",
     "state": {
      "_model_module": "@jupyter-widgets/base",
      "_model_module_version": "1.2.0",
      "_model_name": "LayoutModel",
      "_view_count": null,
      "_view_module": "@jupyter-widgets/base",
      "_view_module_version": "1.2.0",
      "_view_name": "LayoutView",
      "align_content": null,
      "align_items": null,
      "align_self": null,
      "border": null,
      "bottom": null,
      "display": null,
      "flex": null,
      "flex_flow": null,
      "grid_area": null,
      "grid_auto_columns": null,
      "grid_auto_flow": null,
      "grid_auto_rows": null,
      "grid_column": null,
      "grid_gap": null,
      "grid_row": null,
      "grid_template_areas": null,
      "grid_template_columns": null,
      "grid_template_rows": null,
      "height": null,
      "justify_content": null,
      "justify_items": null,
      "left": null,
      "margin": null,
      "max_height": null,
      "max_width": null,
      "min_height": null,
      "min_width": null,
      "object_fit": null,
      "object_position": null,
      "order": null,
      "overflow": null,
      "overflow_x": null,
      "overflow_y": null,
      "padding": null,
      "right": null,
      "top": null,
      "visibility": null,
      "width": null
     }
    },
    "f15fd9aeb5fd4178bd0af9c55ee28750": {
     "model_module": "@jupyter-widgets/controls",
     "model_module_version": "1.5.0",
     "model_name": "HBoxModel",
     "state": {
      "_dom_classes": [],
      "_model_module": "@jupyter-widgets/controls",
      "_model_module_version": "1.5.0",
      "_model_name": "HBoxModel",
      "_view_count": null,
      "_view_module": "@jupyter-widgets/controls",
      "_view_module_version": "1.5.0",
      "_view_name": "HBoxView",
      "box_style": "",
      "children": [
       "IPY_MODEL_36ea4a3c568f4831905834e5c5b0d03a",
       "IPY_MODEL_96f62dc6ed08480ab0758377d003a0a3",
       "IPY_MODEL_dfec57bc90384adcb9e122edb0bccebc"
      ],
      "layout": "IPY_MODEL_35b2002728b9472d869a90b58b064bcf"
     }
    },
    "f7210c082d0145bfbb9937861c4766be": {
     "model_module": "@jupyter-widgets/base",
     "model_module_version": "1.2.0",
     "model_name": "LayoutModel",
     "state": {
      "_model_module": "@jupyter-widgets/base",
      "_model_module_version": "1.2.0",
      "_model_name": "LayoutModel",
      "_view_count": null,
      "_view_module": "@jupyter-widgets/base",
      "_view_module_version": "1.2.0",
      "_view_name": "LayoutView",
      "align_content": null,
      "align_items": null,
      "align_self": null,
      "border": null,
      "bottom": null,
      "display": null,
      "flex": null,
      "flex_flow": null,
      "grid_area": null,
      "grid_auto_columns": null,
      "grid_auto_flow": null,
      "grid_auto_rows": null,
      "grid_column": null,
      "grid_gap": null,
      "grid_row": null,
      "grid_template_areas": null,
      "grid_template_columns": null,
      "grid_template_rows": null,
      "height": null,
      "justify_content": null,
      "justify_items": null,
      "left": null,
      "margin": null,
      "max_height": null,
      "max_width": null,
      "min_height": null,
      "min_width": null,
      "object_fit": null,
      "object_position": null,
      "order": null,
      "overflow": null,
      "overflow_x": null,
      "overflow_y": null,
      "padding": null,
      "right": null,
      "top": null,
      "visibility": null,
      "width": null
     }
    }
   }
  }
 },
 "nbformat": 4,
 "nbformat_minor": 4
}
