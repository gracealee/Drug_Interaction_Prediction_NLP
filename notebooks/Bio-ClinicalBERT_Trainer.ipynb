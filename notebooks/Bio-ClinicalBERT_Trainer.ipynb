{
 "cells": [
  {
   "cell_type": "markdown",
   "metadata": {
    "id": "WJBcLN0Pbhb-"
   },
   "source": [
    "# Bio-BERT Transformer Trainer\n"
   ]
  },
  {
   "cell_type": "markdown",
   "metadata": {
    "id": "xXRFpxN6az7l"
   },
   "source": [
    "## Set Up"
   ]
  },
  {
   "cell_type": "code",
   "execution_count": 1,
   "metadata": {
    "colab": {
     "base_uri": "https://localhost:8080/"
    },
    "id": "Bzze1tEbzyZ0",
    "outputId": "4bfdc40d-4ad6-4fa1-b950-6281a13fe217"
   },
   "outputs": [],
   "source": [
    "# !pip install transformers datasets accelerate evaluate"
   ]
  },
  {
   "cell_type": "code",
   "execution_count": 2,
   "metadata": {
    "colab": {
     "base_uri": "https://localhost:8080/"
    },
    "id": "GFoFGOtwnw4l",
    "outputId": "84152a8b-de3b-48d8-b4d5-9c68c53c0060"
   },
   "outputs": [],
   "source": [
    "# from google.colab import drive\n",
    "# drive.mount('/content/drive', force_remount=True)"
   ]
  },
  {
   "cell_type": "code",
   "execution_count": 1,
   "metadata": {
    "colab": {
     "base_uri": "https://localhost:8080/"
    },
    "id": "oPctZrfioRL2",
    "outputId": "a93f746f-6db7-4606-83d4-6ce59fc0737d"
   },
   "outputs": [
    {
     "name": "stdout",
     "output_type": "stream",
     "text": [
      "/home/ubuntu/capstone-project\n"
     ]
    }
   ],
   "source": [
    "# cd drive/MyDrive/w210_Capstone/\n",
    "%cd .."
   ]
  },
  {
   "cell_type": "code",
   "execution_count": 2,
   "metadata": {
    "id": "tTc68Jv4qX-Z"
   },
   "outputs": [],
   "source": [
    "import torch\n",
    "import torch.nn as nn\n",
    "from torch.utils.data import Dataset, DataLoader, TensorDataset\n",
    "import torch.backends.cudnn as cudnn\n",
    "import torch.optim as optim\n",
    "\n",
    "from transformers import AutoTokenizer, AutoModel, Trainer, TrainingArguments, AutoConfig\n",
    "from transformers import AdamW, get_cosine_schedule_with_warmup\n",
    "from transformers import BertConfig, BertModel\n",
    "from datasets import load_metric, load_dataset\n",
    "\n",
    "import re\n",
    "import random\n",
    "import pandas as pd\n",
    "import seaborn as sns\n",
    "import numpy as np\n",
    "import matplotlib.pyplot as plt\n",
    "import pprint\n",
    "import os\n",
    "import shutil\n",
    "import time\n",
    "import datetime\n",
    "\n",
    "from sklearn import metrics\n",
    "from sklearn.metrics import confusion_matrix, classification_report\n",
    "from sklearn.metrics import precision_recall_curve, average_precision_score, auc\n",
    "\n",
    "# from logging import warning\n",
    "import warnings\n",
    "warnings.filterwarnings('ignore')"
   ]
  },
  {
   "cell_type": "code",
   "execution_count": 3,
   "metadata": {
    "colab": {
     "base_uri": "https://localhost:8080/"
    },
    "id": "T3R6Dk4z4aFV",
    "outputId": "69cf9163-496a-4314-f1bf-668ed0788719"
   },
   "outputs": [
    {
     "name": "stdout",
     "output_type": "stream",
     "text": [
      "Number of GPU(s) available: 1\n",
      "GPU device name: NVIDIA A10G\n"
     ]
    }
   ],
   "source": [
    "if torch.cuda.is_available():\n",
    "    device = \"cuda\"\n",
    "    print('Number of GPU(s) available:', torch.cuda.device_count())\n",
    "    print('GPU device name:', torch.cuda.get_device_name(0))\n",
    "\n",
    "else:\n",
    "    print('No GPU available')\n",
    "    device = \"cpu\""
   ]
  },
  {
   "cell_type": "code",
   "execution_count": 4,
   "metadata": {},
   "outputs": [
    {
     "data": {
      "application/vnd.jupyter.widget-view+json": {
       "model_id": "8aff6d3d65b14df09c3ed988a6a01d69",
       "version_major": 2,
       "version_minor": 0
      },
      "text/plain": [
       "VBox(children=(HTML(value='<center> <img\\nsrc=https://huggingface.co/front/assets/huggingface_logo-noborder.sv…"
      ]
     },
     "metadata": {},
     "output_type": "display_data"
    }
   ],
   "source": [
    "from huggingface_hub import notebook_login\n",
    "\n",
    "notebook_login()"
   ]
  },
  {
   "cell_type": "markdown",
   "metadata": {
    "id": "OFFMQfFsaNfa"
   },
   "source": [
    "## Training Bio-BERT with Trainer & Hugging Face"
   ]
  },
  {
   "cell_type": "markdown",
   "metadata": {
    "id": "ha7MK613sVtZ"
   },
   "source": [
    "### Build DataSet"
   ]
  },
  {
   "cell_type": "code",
   "execution_count": 5,
   "metadata": {},
   "outputs": [],
   "source": [
    "## Define hyperparameters\n",
    "BATCH_SIZE = 128\n",
    "EPOCHS = 2\n",
    "LEARNING_RATE = 6.28e-4\n",
    "# LEARNING_RATE = 0.0963\n",
    "# WEIGHT_DECAY = 1e-4\n",
    "WEIGHT_DECAY = 0.1\n",
    "WORKERS = int(os.cpu_count())"
   ]
  },
  {
   "cell_type": "code",
   "execution_count": 6,
   "metadata": {
    "colab": {
     "base_uri": "https://localhost:8080/",
     "height": 87,
     "referenced_widgets": [
      "76ae6df4a5f846dc8d3871bc4b695b3a",
      "820536d02b474b34a0c14e26ae0129db",
      "99e02af33a854247ba87458257c55488",
      "196df6ab8c19433cb69b87303bfabb61",
      "f7210c082d0145bfbb9937861c4766be",
      "9a8e91550af74c2fbc753aed53708ba6",
      "a72fa699908a41f9b4036ec26515afd2",
      "db110dfbde7d4bdf87c0200fc93fa44d",
      "2d1e06c7c1a143d0886f43f3bf63dbe6",
      "a36d87bc8b034bf889bb6867eda2761e",
      "f0074a44d3a4499881c56f89b6f68223"
     ]
    },
    "id": "M5Z9Y31ZaaNW",
    "outputId": "6d338a6b-a2f0-4e67-a51c-f64092acaf58"
   },
   "outputs": [
    {
     "name": "stderr",
     "output_type": "stream",
     "text": [
      "Found cached dataset csv (/home/ubuntu/.cache/huggingface/datasets/csv/default-7c7fda65b4fd85b3/0.0.0/eea64c71ca8b46dd3f537ed218fc9bf495d5707789152eb2764f5c78fa66d59d)\n"
     ]
    },
    {
     "data": {
      "application/vnd.jupyter.widget-view+json": {
       "model_id": "18efc34a3f6c41349750034b19f3ad51",
       "version_major": 2,
       "version_minor": 0
      },
      "text/plain": [
       "  0%|          | 0/3 [00:00<?, ?it/s]"
      ]
     },
     "metadata": {},
     "output_type": "display_data"
    }
   ],
   "source": [
    "# Import data\n",
    "train_file = 'data/binary_ddi/ddi_train_balanced_150k.csv'\n",
    "dev_file = 'data/binary_ddi/ddi_val_binary.csv'\n",
    "test_file = 'data/binary_ddi/ddi_test_binary.csv'\n",
    "\n",
    "dataset = load_dataset('csv',\n",
    "                       sep=\"\\t\",\n",
    "                       data_files={'train': train_file, 'validation': dev_file,'test': test_file})"
   ]
  },
  {
   "cell_type": "code",
   "execution_count": 7,
   "metadata": {
    "colab": {
     "base_uri": "https://localhost:8080/"
    },
    "id": "-y5M5LKoicUv",
    "outputId": "668220e4-b264-433e-ef6d-1b29f7d2877f"
   },
   "outputs": [
    {
     "data": {
      "text/plain": [
       "DatasetDict({\n",
       "    train: Dataset({\n",
       "        features: ['d1', 'd2', 'd1_name', 'd2_name', 'interaction', 'interaction_type', 'severity', 'smiles1', 'smiles2'],\n",
       "        num_rows: 300000\n",
       "    })\n",
       "    validation: Dataset({\n",
       "        features: ['d1', 'd2', 'd1_name', 'd2_name', 'interaction', 'interaction_type', 'severity', 'smiles1', 'smiles2'],\n",
       "        num_rows: 238072\n",
       "    })\n",
       "    test: Dataset({\n",
       "        features: ['d1', 'd2', 'd1_name', 'd2_name', 'interaction', 'interaction_type', 'severity', 'smiles1', 'smiles2'],\n",
       "        num_rows: 186753\n",
       "    })\n",
       "})"
      ]
     },
     "execution_count": 7,
     "metadata": {},
     "output_type": "execute_result"
    }
   ],
   "source": [
    "dataset"
   ]
  },
  {
   "cell_type": "code",
   "execution_count": 10,
   "metadata": {
    "colab": {
     "base_uri": "https://localhost:8080/"
    },
    "id": "Xee1rWQnk9k_",
    "outputId": "dfed798d-5321-456c-bac3-fdfea6350d87"
   },
   "outputs": [
    {
     "name": "stdout",
     "output_type": "stream",
     "text": [
      "mean length of smiles1: 62.479706666666665\n",
      "min length of smiles1: 2\n",
      "max length of smiles1: 748\n",
      "mean length of smiles2: 62.77145\n",
      "min length of smiles2: 3\n",
      "max length of smiles2: 748\n",
      "Value Counts of Labels in Train Set:\n"
     ]
    },
    {
     "data": {
      "text/plain": [
       "interaction_type\n",
       "1    150000\n",
       "0    150000\n",
       "Name: count, dtype: int64"
      ]
     },
     "execution_count": 10,
     "metadata": {},
     "output_type": "execute_result"
    }
   ],
   "source": [
    "df_train = pd.read_csv(train_file, sep='\\t')\n",
    "df_dev = pd.read_csv(dev_file, sep='\\t')\n",
    "df_test = pd.read_csv(test_file, sep='\\t')\n",
    "print(f'''mean length of smiles1: {df_train['smiles1'].map(len).mean()}''')\n",
    "print(f'''min length of smiles1: {df_train['smiles1'].map(len).min()}''')\n",
    "print(f'''max length of smiles1: {df_train['smiles1'].map(len).max()}''')\n",
    "print(f'''mean length of smiles2: {df_train['smiles2'].map(len).mean()}''')\n",
    "print(f'''min length of smiles2: {df_train['smiles2'].map(len).min()}''')\n",
    "print(f'''max length of smiles2: {df_train['smiles2'].map(len).max()}''')\n",
    "print('Value Counts of Labels in Train Set:')\n",
    "df_train.interaction_type.value_counts()"
   ]
  },
  {
   "cell_type": "code",
   "execution_count": 8,
   "metadata": {},
   "outputs": [],
   "source": [
    "## Load the pre-trained BioBERT tokenizer\n",
    "# model_checkpoint = \"dmis-lab/biobert-base-cased-v1.1\"\n",
    "model_checkpoint = \"emilyalsentzer/Bio_ClinicalBERT\"\n",
    "\n",
    "# Tokenize & Pre-process Data\n",
    "tokenizer = AutoTokenizer.from_pretrained(model_checkpoint)"
   ]
  },
  {
   "cell_type": "code",
   "execution_count": 9,
   "metadata": {},
   "outputs": [],
   "source": [
    "from transformers import PretrainedConfig\n",
    "\n",
    "class BioClinicalBertConfig(PretrainedConfig):\n",
    "    model_type = \"bert\"\n",
    "    def __init__(\n",
    "            self,\n",
    "            hidden_size1: int = 68,\n",
    "            hidden_size2: int = 54,\n",
    "            hidden_size3: int = 40,\n",
    "            hidden3_dropout: float = 0.1,\n",
    "            unfreeze: bool = False,\n",
    "            layer_norm_eps: float = 1e-12,\n",
    "            pad_token_id: int = 0,\n",
    "            position_embedding_type: str = \"absolute\",\n",
    "            use_cache: bool = True,\n",
    "            **kwargs,\n",
    "    ):\n",
    "        self.hidden_size1 = hidden_size1\n",
    "        self.hidden_size2 = hidden_size2\n",
    "        self.hidden_size3 = hidden_size3\n",
    "        self.hidden3_dropout = hidden3_dropout\n",
    "        self.unfreeze = unfreeze\n",
    "        self.layer_norm_eps = layer_norm_eps\n",
    "        self.pad_token_id = pad_token_id\n",
    "        self.position_embedding_type = position_embedding_type\n",
    "        self.use_cache = use_cache\n",
    "        super().__init__(**kwargs)\n",
    "\n",
    "config = BioClinicalBertConfig.from_pretrained(\n",
    "    model_checkpoint,\n",
    ")"
   ]
  },
  {
   "cell_type": "code",
   "execution_count": 10,
   "metadata": {},
   "outputs": [
    {
     "name": "stdout",
     "output_type": "stream",
     "text": [
      "BioClinicalBertConfig {\n",
      "  \"attention_probs_dropout_prob\": 0.1,\n",
      "  \"hidden3_dropout\": 0.1,\n",
      "  \"hidden_act\": \"gelu\",\n",
      "  \"hidden_dropout_prob\": 0.1,\n",
      "  \"hidden_size\": 768,\n",
      "  \"hidden_size1\": 68,\n",
      "  \"hidden_size2\": 54,\n",
      "  \"hidden_size3\": 40,\n",
      "  \"initializer_range\": 0.02,\n",
      "  \"intermediate_size\": 3072,\n",
      "  \"layer_norm_eps\": 1e-12,\n",
      "  \"max_position_embeddings\": 512,\n",
      "  \"model_type\": \"bert\",\n",
      "  \"num_attention_heads\": 12,\n",
      "  \"num_hidden_layers\": 12,\n",
      "  \"position_embedding_type\": \"absolute\",\n",
      "  \"transformers_version\": \"4.30.2\",\n",
      "  \"type_vocab_size\": 2,\n",
      "  \"unfreeze\": false,\n",
      "  \"use_cache\": true,\n",
      "  \"vocab_size\": 28996\n",
      "}\n",
      "\n"
     ]
    }
   ],
   "source": [
    "print(config)"
   ]
  },
  {
   "cell_type": "code",
   "execution_count": 11,
   "metadata": {
    "id": "LLoQ-3MNiqbg"
   },
   "outputs": [],
   "source": [
    "# Create Combined SMILES column, seperated by [SEP] token between SMILES1 & SMILES2\n",
    "def preprocess_data(examples):\n",
    "    source_inputs = []\n",
    "    for sm1, sm2 in zip(examples['smiles1'], examples['smiles2']):\n",
    "        # Ensure feeding both smile 1 & smiles 2 into input by truncating if the smiles are too loong\n",
    "        source_input = \"[CLS]\" + sm1[:250] + \"[SEP]\" + sm2[:250] + \"[SEP]\"\n",
    "        source_inputs.append(source_input)\n",
    "    model_inputs = tokenizer(source_inputs,\n",
    "                             max_length=512,\n",
    "                             padding=\"max_length\",\n",
    "                             truncation=True,\n",
    "                             return_token_type_ids=False,\n",
    "                             return_tensors='pt'\n",
    "                             )\n",
    "\n",
    "    model_inputs[\"labels\"] = examples['interaction_type']\n",
    "\n",
    "    return model_inputs"
   ]
  },
  {
   "cell_type": "code",
   "execution_count": 12,
   "metadata": {
    "colab": {
     "base_uri": "https://localhost:8080/",
     "height": 17,
     "referenced_widgets": [
      "5818bab97ad94b5c93e774e6c9c545d8",
      "097ef633e83343e1a40a0b860b0279b4",
      "98a98588193948c38b3727d35a1ee0bf",
      "e0cc1cf6d0a942c3987f5ca2de7bf910",
      "6dba82586eeb4cd193f857706bf21dbd",
      "898055f1e82d4188abb75beac211ff3b",
      "007b1fb1d03d433387c5f394485d75cd",
      "f07d75c06b9e4ba7a445bed142643e94",
      "757c7f1330184e7d95008950c805ccb0",
      "b2a19d1ba5e54048884adee46a58ed80",
      "d518b869420e45849a9c21840efae484",
      "404bfceb697342a3a2f90db43fc79aac",
      "20c0885b542d4592bc82f9dbc95f2967",
      "6ed68724fa3443f0a01911b77fd76c17",
      "8bb576c1c5444ebb8eb1390468720f9d",
      "c54d39bf63a44ca8a7b0c0d00bd8deb5",
      "56a0098d47674ae09cb4c412345a4468",
      "c76764720a6f44dcb967ecce4c151faf",
      "137bb4b8f3fb41c8a6b7f4dac3c5472b",
      "eeac483e4beb4e3896af7caea41c674d",
      "c650b3b8ba514f0b9709bfdf9545ddca",
      "c9f2f317092848ed9585601925c7ecb5",
      "f15fd9aeb5fd4178bd0af9c55ee28750",
      "36ea4a3c568f4831905834e5c5b0d03a",
      "96f62dc6ed08480ab0758377d003a0a3",
      "dfec57bc90384adcb9e122edb0bccebc",
      "35b2002728b9472d869a90b58b064bcf",
      "1c613814b0ce4d348f8d4c5d4f547324",
      "af8e311a99774dbe9f814aa242772264",
      "6050f464fa194b3b9f44b9fb1d563c6f",
      "03b91f9d7549487f8a108585a6a45a24",
      "22d025d278634f8585ac8227e752d177",
      "60499b5778ba4f6590d11beaf10de5e8"
     ]
    },
    "id": "7oIAe5EBjiaX",
    "outputId": "b158da6c-4bee-4a16-df56-c755694b2c19"
   },
   "outputs": [
    {
     "name": "stderr",
     "output_type": "stream",
     "text": [
      "Loading cached processed dataset at /home/ubuntu/.cache/huggingface/datasets/csv/default-7c7fda65b4fd85b3/0.0.0/eea64c71ca8b46dd3f537ed218fc9bf495d5707789152eb2764f5c78fa66d59d/cache-302195fe960a0721.arrow\n",
      "Loading cached processed dataset at /home/ubuntu/.cache/huggingface/datasets/csv/default-7c7fda65b4fd85b3/0.0.0/eea64c71ca8b46dd3f537ed218fc9bf495d5707789152eb2764f5c78fa66d59d/cache-662aa695b906c621.arrow\n"
     ]
    },
    {
     "data": {
      "application/vnd.jupyter.widget-view+json": {
       "model_id": "",
       "version_major": 2,
       "version_minor": 0
      },
      "text/plain": [
       "Map:   0%|          | 0/186753 [00:00<?, ? examples/s]"
      ]
     },
     "metadata": {},
     "output_type": "display_data"
    },
    {
     "data": {
      "text/plain": [
       "Dataset({\n",
       "    features: ['input_ids', 'attention_mask', 'labels'],\n",
       "    num_rows: 30000\n",
       "})"
      ]
     },
     "execution_count": 12,
     "metadata": {},
     "output_type": "execute_result"
    }
   ],
   "source": [
    "encoded_train_ds = dataset['train'].map(preprocess_data, batched=True, remove_columns=dataset['train'].column_names)\n",
    "encoded_val_ds_full = dataset['validation'].map(preprocess_data, batched=True, remove_columns=dataset['validation'].column_names)\n",
    "encoded_val_ds = encoded_val_ds_full.select(indices=range(30000))  # Subset to smaller valset for faster training\n",
    "encoded_test_ds = dataset['test'].map(preprocess_data, batched=True, remove_columns=dataset['test'].column_names)\n",
    "\n",
    "encoded_val_ds"
   ]
  },
  {
   "cell_type": "code",
   "execution_count": 13,
   "metadata": {},
   "outputs": [
    {
     "data": {
      "text/plain": [
       "1"
      ]
     },
     "execution_count": 13,
     "metadata": {},
     "output_type": "execute_result"
    }
   ],
   "source": [
    "encoded_val_ds[0]['labels']"
   ]
  },
  {
   "cell_type": "code",
   "execution_count": 14,
   "metadata": {},
   "outputs": [
    {
     "data": {
      "text/plain": [
       "2343.75"
      ]
     },
     "execution_count": 14,
     "metadata": {},
     "output_type": "execute_result"
    }
   ],
   "source": [
    "len(encoded_train_ds)/BATCH_SIZE"
   ]
  },
  {
   "cell_type": "markdown",
   "metadata": {
    "id": "Xy16VEjasbQP"
   },
   "source": [
    "### Build Model, Set up Trainer"
   ]
  },
  {
   "cell_type": "code",
   "execution_count": 15,
   "metadata": {
    "id": "31jV6ksxreLS"
   },
   "outputs": [],
   "source": [
    "from transformers import BertPreTrainedModel, BertModel\n",
    "\n",
    "class BioClinicalBertClassification(BertPreTrainedModel):\n",
    "    config_class = BioClinicalBertConfig\n",
    "\n",
    "    def __init__(self, config=config, num_labels=2):\n",
    "        super(BioClinicalBertClassification, self).__init__(config)\n",
    "        self.bert_model = BertModel(config=config)\n",
    "\n",
    "        self.num_labels = num_labels\n",
    "\n",
    "        # Unfreeze the last BERT transformer layer\n",
    "        if config.unfreeze == \"last layer\":\n",
    "            for name, param in self.bert_model.named_parameters():\n",
    "                if 'bert_model.encoder.layer.11' in name:\n",
    "                    param.requires_grad = True\n",
    "                else:\n",
    "                    param.requires_grad = False\n",
    "        if config.unfreeze == \"all layers\":\n",
    "            for name, param in self.bert_model.named_parameters():\n",
    "                param.requires_grad = True\n",
    "        else:\n",
    "            for name, param in self.bert_model.named_parameters():\n",
    "                param.requires_grad = False\n",
    "\n",
    "        self.bert_hidden_size = self.bert_model.config.hidden_size\n",
    "        self.hidden_layer = nn.Linear(self.bert_hidden_size, config.hidden_size1)\n",
    "        self.hidden_layer2 = nn.Linear(config.hidden_size1, config.hidden_size2)\n",
    "        self.hidden_layer3 = nn.Linear(config.hidden_size2, config.hidden_size3)\n",
    "\n",
    "        self.drop_out = nn.Dropout(config.hidden3_dropout)\n",
    "\n",
    "        if self.num_labels > 2:\n",
    "            self.classification = nn.Linear(config.hidden_size3, self.num_labels)\n",
    "        else:\n",
    "            self.classification = nn.Linear(config.hidden_size3, 1)\n",
    "\n",
    "        self.GeLU = nn.GELU()\n",
    "        self.Sigmoid = nn.Sigmoid()\n",
    "\n",
    "    def forward(self, input_ids=None, attention_mask=None, labels=None):\n",
    "        bert_output = self.bert_model(input_ids=input_ids,\n",
    "                                      attention_mask=attention_mask)\n",
    "\n",
    "        # hidden_state = bert_output[0]\n",
    "        pooler_token = bert_output[1]\n",
    "\n",
    "        hidden_ouput = self.GeLU(self.hidden_layer(pooler_token))\n",
    "        hidden_ouput = self.drop_out(hidden_ouput)\n",
    "        hidden_ouput = self.GeLU(self.hidden_layer2(hidden_ouput))\n",
    "        hidden_ouput = self.drop_out(hidden_ouput)\n",
    "        hidden_ouput = self.GeLU(self.hidden_layer3(hidden_ouput))\n",
    "        hidden_ouput = self.drop_out(hidden_ouput)\n",
    "\n",
    "        if self.num_labels > 2:\n",
    "            logits = self.classification(hidden_ouput)\n",
    "\n",
    "        else:\n",
    "            logits = self.Sigmoid(self.classification(hidden_ouput))\n",
    "            logits = logits.flatten()\n",
    "\n",
    "        if self.num_labels == 2 and labels is not None:\n",
    "            loss_fct = nn.BCELoss()\n",
    "            loss = loss_fct(logits, labels.float())\n",
    "            return {\"loss\": loss, \"logits\": logits}\n",
    "\n",
    "        if self.num_labels > 2 and labels is not None:\n",
    "            loss_fct = nn.CrossEntropyLoss()\n",
    "            loss = loss_fct(logits.view(-1, self.num_labels), labels.view(-1))\n",
    "            return {\"loss\": loss, \"logits\": logits}\n",
    "\n",
    "        return {\"logits\": logits}"
   ]
  },
  {
   "cell_type": "code",
   "execution_count": 16,
   "metadata": {},
   "outputs": [],
   "source": [
    "BioClinicalBertConfig.register_for_auto_class()\n",
    "BioClinicalBertClassification.register_for_auto_class(\"AutoModel\")"
   ]
  },
  {
   "cell_type": "code",
   "execution_count": 17,
   "metadata": {
    "colab": {
     "base_uri": "https://localhost:8080/"
    },
    "id": "sdVLCLOBzgdO",
    "outputId": "9fefd8b5-95c2-4dc4-8477-1cfcab1aa389"
   },
   "outputs": [
    {
     "data": {
      "text/plain": [
       "Metric(name: \"glue\", features: {'predictions': Value(dtype='int64', id=None), 'references': Value(dtype='int64', id=None)}, usage: \"\"\"\n",
       "Compute GLUE evaluation metric associated to each GLUE dataset.\n",
       "Args:\n",
       "    predictions: list of predictions to score.\n",
       "        Each translation should be tokenized into a list of tokens.\n",
       "    references: list of lists of references for each translation.\n",
       "        Each reference should be tokenized into a list of tokens.\n",
       "Returns: depending on the GLUE subset, one or several of:\n",
       "    \"accuracy\": Accuracy\n",
       "    \"f1\": F1 score\n",
       "    \"pearson\": Pearson Correlation\n",
       "    \"spearmanr\": Spearman Correlation\n",
       "    \"matthews_correlation\": Matthew Correlation\n",
       "Examples:\n",
       "\n",
       "    >>> glue_metric = datasets.load_metric('glue', 'sst2')  # 'sst2' or any of [\"mnli\", \"mnli_mismatched\", \"mnli_matched\", \"qnli\", \"rte\", \"wnli\", \"hans\"]\n",
       "    >>> references = [0, 1]\n",
       "    >>> predictions = [0, 1]\n",
       "    >>> results = glue_metric.compute(predictions=predictions, references=references)\n",
       "    >>> print(results)\n",
       "    {'accuracy': 1.0}\n",
       "\n",
       "    >>> glue_metric = datasets.load_metric('glue', 'mrpc')  # 'mrpc' or 'qqp'\n",
       "    >>> references = [0, 1]\n",
       "    >>> predictions = [0, 1]\n",
       "    >>> results = glue_metric.compute(predictions=predictions, references=references)\n",
       "    >>> print(results)\n",
       "    {'accuracy': 1.0, 'f1': 1.0}\n",
       "\n",
       "    >>> glue_metric = datasets.load_metric('glue', 'stsb')\n",
       "    >>> references = [0., 1., 2., 3., 4., 5.]\n",
       "    >>> predictions = [0., 1., 2., 3., 4., 5.]\n",
       "    >>> results = glue_metric.compute(predictions=predictions, references=references)\n",
       "    >>> print({\"pearson\": round(results[\"pearson\"], 2), \"spearmanr\": round(results[\"spearmanr\"], 2)})\n",
       "    {'pearson': 1.0, 'spearmanr': 1.0}\n",
       "\n",
       "    >>> glue_metric = datasets.load_metric('glue', 'cola')\n",
       "    >>> references = [0, 1]\n",
       "    >>> predictions = [0, 1]\n",
       "    >>> results = glue_metric.compute(predictions=predictions, references=references)\n",
       "    >>> print(results)\n",
       "    {'matthews_correlation': 1.0}\n",
       "\"\"\", stored examples: 0)"
      ]
     },
     "execution_count": 17,
     "metadata": {},
     "output_type": "execute_result"
    }
   ],
   "source": [
    "# Load Metric\n",
    "metric = load_metric('glue', 'sst2')\n",
    "metric"
   ]
  },
  {
   "cell_type": "code",
   "execution_count": 18,
   "metadata": {
    "colab": {
     "base_uri": "https://localhost:8080/"
    },
    "id": "qT2dFzLK12bl",
    "outputId": "226669f4-7c34-4b22-ac25-f615ae402c92"
   },
   "outputs": [
    {
     "data": {
      "text/plain": [
       "{'accuracy': 0.484375}"
      ]
     },
     "execution_count": 18,
     "metadata": {},
     "output_type": "execute_result"
    }
   ],
   "source": [
    "# Test metric calculation\n",
    "fake_preds = np.random.randint(0, 2, size=(64,))\n",
    "fake_labels = np.random.randint(0, 2, size=(64,))\n",
    "metric.compute(predictions=fake_preds, references=fake_labels)"
   ]
  },
  {
   "cell_type": "code",
   "execution_count": 19,
   "metadata": {},
   "outputs": [],
   "source": [
    "def compute_metrics(eval_pred, num_labels=2):\n",
    "    predictions, labels = eval_pred\n",
    "        \n",
    "    if num_labels > 2:\n",
    "        # probability\n",
    "        # softmax = np.exp(predictions) / np.sum(np.exp(predictions), axis=1, keepdims=True)\n",
    "        # scores = softmax[:, 1]\n",
    "        predictions = np.argmax(predictions, axis=1)\n",
    "    else:\n",
    "        predictions =(np.array(predictions) >= 0.5).astype(float)\n",
    "        # scores = np.array(predictions)\n",
    "\n",
    "    # Accuracy\n",
    "    result = metric.compute(predictions=predictions, references=labels)\n",
    "\n",
    "    # Add F2 Score\n",
    "    result[\"f2\"] = metrics.fbeta_score(labels, predictions, average=\"binary\", pos_label=1, beta=2)\n",
    "\n",
    "    # Add Recall\n",
    "    result[\"recall\"] = metrics.recall_score(labels, predictions, average=\"binary\", pos_label=1)\n",
    "\n",
    "    # Add Precision\n",
    "    result[\"precision\"] = metrics.precision_score(labels, predictions, average=\"binary\", pos_label=1)\n",
    "\n",
    "    # Matthew Correlation\n",
    "    result[\"mcc\"] = metrics.matthews_corrcoef(labels, predictions)\n",
    "\n",
    "    # Area Under Precision, Recall Curve\n",
    "    # precisions, recalls, thresholds = precision_recall_curve(labels, scores)\n",
    "    # result[\"AUPRC\"] = auc(precisions, recalls)\n",
    "    \n",
    "\n",
    "    return {k: round(v, 4) for k, v in result.items()}"
   ]
  },
  {
   "cell_type": "code",
   "execution_count": 20,
   "metadata": {
    "id": "NuIuh85eGQ1D"
   },
   "outputs": [],
   "source": [
    "# Clear out cuda before training\n",
    "torch.cuda.empty_cache()"
   ]
  },
  {
   "cell_type": "code",
   "execution_count": 44,
   "metadata": {
    "colab": {
     "base_uri": "https://localhost:8080/"
    },
    "id": "udBZi20U5TCz",
    "outputId": "491c340e-92ae-4296-bcea-b58d835e4d34"
   },
   "outputs": [
    {
     "name": "stderr",
     "output_type": "stream",
     "text": [
      "Some weights of the model checkpoint at emilyalsentzer/Bio_ClinicalBERT were not used when initializing BertModel: ['cls.predictions.transform.LayerNorm.bias', 'cls.seq_relationship.bias', 'cls.seq_relationship.weight', 'cls.predictions.transform.dense.bias', 'cls.predictions.transform.dense.weight', 'cls.predictions.decoder.weight', 'cls.predictions.transform.LayerNorm.weight', 'cls.predictions.bias']\n",
      "- This IS expected if you are initializing BertModel from the checkpoint of a model trained on another task or with another architecture (e.g. initializing a BertForSequenceClassification model from a BertForPreTraining model).\n",
      "- This IS NOT expected if you are initializing BertModel from the checkpoint of a model that you expect to be exactly identical (initializing a BertForSequenceClassification model from a BertForSequenceClassification model).\n"
     ]
    },
    {
     "name": "stdout",
     "output_type": "stream",
     "text": [
      "bert_model.encoder.layer.10.output.dense.weight          (768, 3072)\n",
      "bert_model.encoder.layer.10.output.dense.bias                 (768,)\n",
      "bert_model.encoder.layer.10.output.LayerNorm.weight           (768,)\n",
      "bert_model.encoder.layer.10.output.LayerNorm.bias             (768,)\n",
      "bert_model.encoder.layer.11.attention.self.query.weight   (768, 768)\n",
      "bert_model.encoder.layer.11.attention.self.query.bias         (768,)\n",
      "bert_model.encoder.layer.11.attention.self.key.weight     (768, 768)\n",
      "bert_model.encoder.layer.11.attention.self.key.bias           (768,)\n",
      "bert_model.encoder.layer.11.attention.self.value.weight   (768, 768)\n",
      "bert_model.encoder.layer.11.attention.self.value.bias         (768,)\n",
      "bert_model.encoder.layer.11.attention.output.dense.weight   (768, 768)\n",
      "bert_model.encoder.layer.11.attention.output.dense.bias       (768,)\n",
      "bert_model.encoder.layer.11.attention.output.LayerNorm.weight       (768,)\n",
      "bert_model.encoder.layer.11.attention.output.LayerNorm.bias       (768,)\n",
      "bert_model.encoder.layer.11.intermediate.dense.weight    (3072, 768)\n",
      "bert_model.encoder.layer.11.intermediate.dense.bias          (3072,)\n",
      "bert_model.encoder.layer.11.output.dense.weight          (768, 3072)\n",
      "bert_model.encoder.layer.11.output.dense.bias                 (768,)\n",
      "bert_model.encoder.layer.11.output.LayerNorm.weight           (768,)\n",
      "bert_model.encoder.layer.11.output.LayerNorm.bias             (768,)\n",
      "bert_model.pooler.dense.weight                            (768, 768)\n",
      "bert_model.pooler.dense.bias                                  (768,)\n",
      "hidden_layer.weight                                        (68, 768)\n",
      "hidden_layer.bias                                              (68,)\n",
      "hidden_layer2.weight                                        (54, 68)\n",
      "hidden_layer2.bias                                             (54,)\n",
      "hidden_layer3.weight                                        (40, 54)\n",
      "hidden_layer3.bias                                             (40,)\n",
      "classification.weight                                        (1, 40)\n",
      "classification.bias                                             (1,)\n",
      "Number of steps: 4688\n"
     ]
    }
   ],
   "source": [
    "# Model Initilization\n",
    "model = BioClinicalBertClassification(config)\n",
    "# model = model.to(\"cpu\")\n",
    "\n",
    "# # Pretrain model weights\n",
    "model_checkpoint = \"emilyalsentzer/Bio_ClinicalBERT\"\n",
    "pretrained_model = AutoModel.from_pretrained(model_checkpoint)\n",
    "# # Load pre-train weights to BioBert model\n",
    "model.bert_model.load_state_dict(pretrained_model.state_dict())\n",
    "\n",
    "# Load training weights, for continue training\n",
    "# pretrained_weights = torch.load('models/BioBERTFrozen.pth')\n",
    "pretrained_weights = torch.load('models/BioClinicalBertFrozen.pth')\n",
    "model.load_state_dict(pretrained_weights )\n",
    "\n",
    "\n",
    "\n",
    "# from transformers import AutoModelForSequenceClassification\n",
    "# model = AutoModelForSequenceClassification.from_pretrained(\n",
    "#     model_checkpoint, config=config\n",
    "# )\n",
    "\n",
    "# Print out models params for checking\n",
    "params = list(model.named_parameters())\n",
    "for p in params[-30:]:\n",
    "    print(\"{:<55} {:>12}\".format(p[0], str(tuple(p[1].size()))))\n",
    "\n",
    "# Optimizer & Schedular\n",
    "# optimizer = AdamW(model.parameters(), lr=LEARNING_RATE, \n",
    "#                   weight_decay=WEIGHT_DECAY)\n",
    "# scheduler = get_cosine_schedule_with_warmup(optimizer,\n",
    "#                                             num_warmup_steps=10,\n",
    "#                                             num_training_steps=30000)\n",
    "\n",
    "# Optimizer\n",
    "# optimizer = optim.Adadelta(model.parameters(), lr=LEARNING_RATE, weight_decay=WEIGHT_DECAY)\n",
    "optimizer = optim.AdamW(model.parameters(), lr=LEARNING_RATE, weight_decay=WEIGHT_DECAY)\n",
    "\n",
    "# Create learning rate scheduler.\n",
    "T_max = round(EPOCHS*len(encoded_train_ds)/BATCH_SIZE)\n",
    "print('Number of steps:', T_max)\n",
    "scheduler = optim.lr_scheduler.CosineAnnealingLR(optimizer, T_max=T_max)"
   ]
  },
  {
   "cell_type": "markdown",
   "metadata": {
    "id": "SK4dmr6bAQ_l"
   },
   "source": [
    "### Training with Trainer"
   ]
  },
  {
   "cell_type": "code",
   "execution_count": 38,
   "metadata": {
    "id": "QJjQAs32vvaN"
   },
   "outputs": [],
   "source": [
    "# Training Arguments\n",
    "model_dir = \"morgan-embed-bio-clinical-bert-ddi\"\n",
    "\n",
    "args = TrainingArguments(\n",
    "    output_dir=model_dir,\n",
    "    overwrite_output_dir=True,\n",
    "    do_train=True,\n",
    "    evaluation_strategy=\"epoch\",\n",
    "    # save_strategy=\"steps\",\n",
    "    # save_steps=200,\n",
    "    # evaluation_strategy=\"steps\",\n",
    "    # eval_steps=200,\n",
    "    # logging_strategy=\"steps\",\n",
    "    # logging_steps=200,\n",
    "    learning_rate=LEARNING_RATE,\n",
    "    per_device_train_batch_size=BATCH_SIZE,\n",
    "    per_device_eval_batch_size=BATCH_SIZE,\n",
    "    weight_decay=WEIGHT_DECAY,\n",
    "    num_train_epochs=1,\n",
    "    num_train_epochs=EPOCHS,\n",
    "    load_best_model_at_end=True,\n",
    "    metric_for_best_model=\"accuracy\",\n",
    "    remove_unused_columns=True,\n",
    "    push_to_hub=True,\n",
    ")"
   ]
  },
  {
   "cell_type": "code",
   "execution_count": 39,
   "metadata": {
    "id": "s_VoRJsF6e2A"
   },
   "outputs": [
    {
     "name": "stderr",
     "output_type": "stream",
     "text": [
      "/home/ubuntu/capstone-project/morgan-embed-bio-clinical-bert-ddi is already a clone of https://huggingface.co/ltmai/morgan-embed-bio-clinical-bert-ddi. Make sure you pull the latest changes with `repo.git_pull()`.\n"
     ]
    }
   ],
   "source": [
    "trainer = Trainer(\n",
    "    model,\n",
    "    args,\n",
    "    train_dataset=encoded_train_ds,\n",
    "    eval_dataset=encoded_val_ds,\n",
    "    tokenizer=tokenizer,\n",
    "    optimizers=(optimizer, scheduler),\n",
    "    compute_metrics=compute_metrics,\n",
    ")"
   ]
  },
  {
   "cell_type": "code",
   "execution_count": 45,
   "metadata": {},
   "outputs": [],
   "source": [
    "# filename = 'models/bioclinicalbertcheckpoint.pth.tar'\n",
    "\n",
    "# def save_checkpoint(state, filename=filename):\n",
    "#     # save the model state!\n",
    "#     torch.save(state, filename)\n",
    "\n",
    "# save_checkpoint({'state_dict': model.state_dict()})"
   ]
  },
  {
   "cell_type": "code",
   "execution_count": 24,
   "metadata": {},
   "outputs": [
    {
     "name": "stderr",
     "output_type": "stream",
     "text": [
      "You're using a BertTokenizerFast tokenizer. Please note that with a fast tokenizer, using the `__call__` method is faster than using a method to encode the text followed by a call to the `pad` method to get a padded encoding.\n"
     ]
    },
    {
     "data": {
      "text/html": [
       "\n",
       "    <div>\n",
       "      \n",
       "      <progress value='470' max='235' style='width:300px; height:20px; vertical-align: middle;'></progress>\n",
       "      [235/235 1:05:05]\n",
       "    </div>\n",
       "    "
      ],
      "text/plain": [
       "<IPython.core.display.HTML object>"
      ]
     },
     "metadata": {},
     "output_type": "display_data"
    },
    {
     "data": {
      "text/plain": [
       "{'eval_loss': 1.245300054550171,\n",
       " 'eval_accuracy': 0.663,\n",
       " 'eval_f2': 0.7672,\n",
       " 'eval_recall': 0.7967,\n",
       " 'eval_precision': 0.6682,\n",
       " 'eval_mcc': 0.3038,\n",
       " 'eval_runtime': 255.6916,\n",
       " 'eval_samples_per_second': 117.329,\n",
       " 'eval_steps_per_second': 0.919}"
      ]
     },
     "execution_count": 24,
     "metadata": {},
     "output_type": "execute_result"
    }
   ],
   "source": [
    "# Starting metrics from last checkpoint training\n",
    "trainer.evaluate()"
   ]
  },
  {
   "cell_type": "code",
   "execution_count": 25,
   "metadata": {
    "colab": {
     "base_uri": "https://localhost:8080/",
     "height": 907
    },
    "id": "ZjDRxNmC_-wL",
    "outputId": "1a60180c-50f4-49da-9f8a-2d40aa58fddc",
    "scrolled": true
   },
   "outputs": [
    {
     "data": {
      "text/html": [
       "\n",
       "    <div>\n",
       "      \n",
       "      <progress value='4688' max='4688' style='width:300px; height:20px; vertical-align: middle;'></progress>\n",
       "      [4688/4688 1:48:38, Epoch 2/2]\n",
       "    </div>\n",
       "    <table border=\"1\" class=\"dataframe\">\n",
       "  <thead>\n",
       " <tr style=\"text-align: left;\">\n",
       "      <th>Epoch</th>\n",
       "      <th>Training Loss</th>\n",
       "      <th>Validation Loss</th>\n",
       "      <th>Accuracy</th>\n",
       "      <th>F2</th>\n",
       "      <th>Recall</th>\n",
       "      <th>Precision</th>\n",
       "      <th>Mcc</th>\n",
       "    </tr>\n",
       "  </thead>\n",
       "  <tbody>\n",
       "    <tr>\n",
       "      <td>1</td>\n",
       "      <td>0.292200</td>\n",
       "      <td>0.992172</td>\n",
       "      <td>0.662500</td>\n",
       "      <td>0.754600</td>\n",
       "      <td>0.778100</td>\n",
       "      <td>0.673100</td>\n",
       "      <td>0.303800</td>\n",
       "    </tr>\n",
       "    <tr>\n",
       "      <td>2</td>\n",
       "      <td>0.291200</td>\n",
       "      <td>0.975614</td>\n",
       "      <td>0.662500</td>\n",
       "      <td>0.752600</td>\n",
       "      <td>0.775300</td>\n",
       "      <td>0.673900</td>\n",
       "      <td>0.303900</td>\n",
       "    </tr>\n",
       "  </tbody>\n",
       "</table><p>"
      ],
      "text/plain": [
       "<IPython.core.display.HTML object>"
      ]
     },
     "metadata": {},
     "output_type": "display_data"
    },
    {
     "name": "stderr",
     "output_type": "stream",
     "text": [
      "We can't save the code defining BioClinicalBertClassification(\n",
      "  (bert_model): BertModel(\n",
      "    (embeddings): BertEmbeddings(\n",
      "      (word_embeddings): Embedding(28996, 768)\n",
      "      (position_embeddings): Embedding(512, 768)\n",
      "      (token_type_embeddings): Embedding(2, 768)\n",
      "      (LayerNorm): LayerNorm((768,), eps=1e-12, elementwise_affine=True)\n",
      "      (dropout): Dropout(p=0.1, inplace=False)\n",
      "    )\n",
      "    (encoder): BertEncoder(\n",
      "      (layer): ModuleList(\n",
      "        (0-11): 12 x BertLayer(\n",
      "          (attention): BertAttention(\n",
      "            (self): BertSelfAttention(\n",
      "              (query): Linear(in_features=768, out_features=768, bias=True)\n",
      "              (key): Linear(in_features=768, out_features=768, bias=True)\n",
      "              (value): Linear(in_features=768, out_features=768, bias=True)\n",
      "              (dropout): Dropout(p=0.1, inplace=False)\n",
      "            )\n",
      "            (output): BertSelfOutput(\n",
      "              (dense): Linear(in_features=768, out_features=768, bias=True)\n",
      "              (LayerNorm): LayerNorm((768,), eps=1e-12, elementwise_affine=True)\n",
      "              (dropout): Dropout(p=0.1, inplace=False)\n",
      "            )\n",
      "          )\n",
      "          (intermediate): BertIntermediate(\n",
      "            (dense): Linear(in_features=768, out_features=3072, bias=True)\n",
      "            (intermediate_act_fn): GELUActivation()\n",
      "          )\n",
      "          (output): BertOutput(\n",
      "            (dense): Linear(in_features=3072, out_features=768, bias=True)\n",
      "            (LayerNorm): LayerNorm((768,), eps=1e-12, elementwise_affine=True)\n",
      "            (dropout): Dropout(p=0.1, inplace=False)\n",
      "          )\n",
      "        )\n",
      "      )\n",
      "    )\n",
      "    (pooler): BertPooler(\n",
      "      (dense): Linear(in_features=768, out_features=768, bias=True)\n",
      "      (activation): Tanh()\n",
      "    )\n",
      "  )\n",
      "  (hidden_layer): Linear(in_features=768, out_features=68, bias=True)\n",
      "  (hidden_layer2): Linear(in_features=68, out_features=54, bias=True)\n",
      "  (hidden_layer3): Linear(in_features=54, out_features=40, bias=True)\n",
      "  (drop_out): Dropout(p=0.1, inplace=False)\n",
      "  (classification): Linear(in_features=40, out_features=1, bias=True)\n",
      "  (GeLU): GELU(approximate='none')\n",
      "  (Sigmoid): Sigmoid()\n",
      ") in morgan-embed-bio-clinical-bert-ddi/checkpoint-2344 as it's been defined in __main__. You should put this code in a separate module so we can include it in the saved folder and make it easier to share via the Hub.\n",
      "We can't save the code defining BioClinicalBertConfig {\n",
      "  \"architectures\": [\n",
      "    \"BioClinicalBertClassification\"\n",
      "  ],\n",
      "  \"attention_probs_dropout_prob\": 0.1,\n",
      "  \"hidden3_dropout\": 0.1,\n",
      "  \"hidden_act\": \"gelu\",\n",
      "  \"hidden_dropout_prob\": 0.1,\n",
      "  \"hidden_size\": 768,\n",
      "  \"hidden_size1\": 68,\n",
      "  \"hidden_size2\": 54,\n",
      "  \"hidden_size3\": 40,\n",
      "  \"initializer_range\": 0.02,\n",
      "  \"intermediate_size\": 3072,\n",
      "  \"layer_norm_eps\": 1e-12,\n",
      "  \"max_position_embeddings\": 512,\n",
      "  \"model_type\": \"bert\",\n",
      "  \"num_attention_heads\": 12,\n",
      "  \"num_hidden_layers\": 12,\n",
      "  \"position_embedding_type\": \"absolute\",\n",
      "  \"torch_dtype\": \"float32\",\n",
      "  \"transformers_version\": \"4.30.2\",\n",
      "  \"type_vocab_size\": 2,\n",
      "  \"unfreeze\": false,\n",
      "  \"use_cache\": true,\n",
      "  \"vocab_size\": 28996\n",
      "}\n",
      " in morgan-embed-bio-clinical-bert-ddi/checkpoint-2344 as it's been defined in __main__. You should put this code in a separate module so we can include it in the saved folder and make it easier to share via the Hub.\n",
      "We can't save the code defining BioClinicalBertClassification(\n",
      "  (bert_model): BertModel(\n",
      "    (embeddings): BertEmbeddings(\n",
      "      (word_embeddings): Embedding(28996, 768)\n",
      "      (position_embeddings): Embedding(512, 768)\n",
      "      (token_type_embeddings): Embedding(2, 768)\n",
      "      (LayerNorm): LayerNorm((768,), eps=1e-12, elementwise_affine=True)\n",
      "      (dropout): Dropout(p=0.1, inplace=False)\n",
      "    )\n",
      "    (encoder): BertEncoder(\n",
      "      (layer): ModuleList(\n",
      "        (0-11): 12 x BertLayer(\n",
      "          (attention): BertAttention(\n",
      "            (self): BertSelfAttention(\n",
      "              (query): Linear(in_features=768, out_features=768, bias=True)\n",
      "              (key): Linear(in_features=768, out_features=768, bias=True)\n",
      "              (value): Linear(in_features=768, out_features=768, bias=True)\n",
      "              (dropout): Dropout(p=0.1, inplace=False)\n",
      "            )\n",
      "            (output): BertSelfOutput(\n",
      "              (dense): Linear(in_features=768, out_features=768, bias=True)\n",
      "              (LayerNorm): LayerNorm((768,), eps=1e-12, elementwise_affine=True)\n",
      "              (dropout): Dropout(p=0.1, inplace=False)\n",
      "            )\n",
      "          )\n",
      "          (intermediate): BertIntermediate(\n",
      "            (dense): Linear(in_features=768, out_features=3072, bias=True)\n",
      "            (intermediate_act_fn): GELUActivation()\n",
      "          )\n",
      "          (output): BertOutput(\n",
      "            (dense): Linear(in_features=3072, out_features=768, bias=True)\n",
      "            (LayerNorm): LayerNorm((768,), eps=1e-12, elementwise_affine=True)\n",
      "            (dropout): Dropout(p=0.1, inplace=False)\n",
      "          )\n",
      "        )\n",
      "      )\n",
      "    )\n",
      "    (pooler): BertPooler(\n",
      "      (dense): Linear(in_features=768, out_features=768, bias=True)\n",
      "      (activation): Tanh()\n",
      "    )\n",
      "  )\n",
      "  (hidden_layer): Linear(in_features=768, out_features=68, bias=True)\n",
      "  (hidden_layer2): Linear(in_features=68, out_features=54, bias=True)\n",
      "  (hidden_layer3): Linear(in_features=54, out_features=40, bias=True)\n",
      "  (drop_out): Dropout(p=0.1, inplace=False)\n",
      "  (classification): Linear(in_features=40, out_features=1, bias=True)\n",
      "  (GeLU): GELU(approximate='none')\n",
      "  (Sigmoid): Sigmoid()\n",
      ") in morgan-embed-bio-clinical-bert-ddi/checkpoint-4688 as it's been defined in __main__. You should put this code in a separate module so we can include it in the saved folder and make it easier to share via the Hub.\n",
      "We can't save the code defining BioClinicalBertConfig {\n",
      "  \"architectures\": [\n",
      "    \"BioClinicalBertClassification\"\n",
      "  ],\n",
      "  \"attention_probs_dropout_prob\": 0.1,\n",
      "  \"hidden3_dropout\": 0.1,\n",
      "  \"hidden_act\": \"gelu\",\n",
      "  \"hidden_dropout_prob\": 0.1,\n",
      "  \"hidden_size\": 768,\n",
      "  \"hidden_size1\": 68,\n",
      "  \"hidden_size2\": 54,\n",
      "  \"hidden_size3\": 40,\n",
      "  \"initializer_range\": 0.02,\n",
      "  \"intermediate_size\": 3072,\n",
      "  \"layer_norm_eps\": 1e-12,\n",
      "  \"max_position_embeddings\": 512,\n",
      "  \"model_type\": \"bert\",\n",
      "  \"num_attention_heads\": 12,\n",
      "  \"num_hidden_layers\": 12,\n",
      "  \"position_embedding_type\": \"absolute\",\n",
      "  \"torch_dtype\": \"float32\",\n",
      "  \"transformers_version\": \"4.30.2\",\n",
      "  \"type_vocab_size\": 2,\n",
      "  \"unfreeze\": false,\n",
      "  \"use_cache\": true,\n",
      "  \"vocab_size\": 28996\n",
      "}\n",
      " in morgan-embed-bio-clinical-bert-ddi/checkpoint-4688 as it's been defined in __main__. You should put this code in a separate module so we can include it in the saved folder and make it easier to share via the Hub.\n"
     ]
    },
    {
     "data": {
      "text/plain": [
       "TrainOutput(global_step=4688, training_loss=0.2908523701156772, metrics={'train_runtime': 6519.7179, 'train_samples_per_second': 92.029, 'train_steps_per_second': 0.719, 'total_flos': 1.579711813632e+17, 'train_loss': 0.2908523701156772, 'epoch': 2.0})"
      ]
     },
     "execution_count": 25,
     "metadata": {},
     "output_type": "execute_result"
    }
   ],
   "source": [
    "trainer.train()"
   ]
  },
  {
   "cell_type": "markdown",
   "metadata": {},
   "source": [
    "### Evaluation"
   ]
  },
  {
   "cell_type": "code",
   "execution_count": 26,
   "metadata": {},
   "outputs": [
    {
     "data": {
      "text/html": [
       "\n",
       "    <div>\n",
       "      \n",
       "      <progress value='1460' max='1460' style='width:300px; height:20px; vertical-align: middle;'></progress>\n",
       "      [1460/1460 26:32]\n",
       "    </div>\n",
       "    "
      ],
      "text/plain": [
       "<IPython.core.display.HTML object>"
      ]
     },
     "metadata": {},
     "output_type": "display_data"
    },
    {
     "data": {
      "text/plain": [
       "{'eval_loss': 0.7759733200073242,\n",
       " 'eval_accuracy': 0.7217,\n",
       " 'eval_f2': 0.7929,\n",
       " 'eval_recall': 0.7933,\n",
       " 'eval_precision': 0.7911,\n",
       " 'eval_mcc': 0.3709,\n",
       " 'eval_runtime': 1593.1254,\n",
       " 'eval_samples_per_second': 117.224,\n",
       " 'eval_steps_per_second': 0.916,\n",
       " 'epoch': 2.0}"
      ]
     },
     "execution_count": 26,
     "metadata": {},
     "output_type": "execute_result"
    }
   ],
   "source": [
    "trainer.evaluate(encoded_test_ds)"
   ]
  },
  {
   "cell_type": "code",
   "execution_count": 40,
   "metadata": {
    "scrolled": true
   },
   "outputs": [
    {
     "name": "stderr",
     "output_type": "stream",
     "text": [
      "We can't save the code defining BioClinicalBertClassification(\n",
      "  (bert_model): BertModel(\n",
      "    (embeddings): BertEmbeddings(\n",
      "      (word_embeddings): Embedding(28996, 768)\n",
      "      (position_embeddings): Embedding(512, 768)\n",
      "      (token_type_embeddings): Embedding(2, 768)\n",
      "      (LayerNorm): LayerNorm((768,), eps=1e-12, elementwise_affine=True)\n",
      "      (dropout): Dropout(p=0.1, inplace=False)\n",
      "    )\n",
      "    (encoder): BertEncoder(\n",
      "      (layer): ModuleList(\n",
      "        (0-11): 12 x BertLayer(\n",
      "          (attention): BertAttention(\n",
      "            (self): BertSelfAttention(\n",
      "              (query): Linear(in_features=768, out_features=768, bias=True)\n",
      "              (key): Linear(in_features=768, out_features=768, bias=True)\n",
      "              (value): Linear(in_features=768, out_features=768, bias=True)\n",
      "              (dropout): Dropout(p=0.1, inplace=False)\n",
      "            )\n",
      "            (output): BertSelfOutput(\n",
      "              (dense): Linear(in_features=768, out_features=768, bias=True)\n",
      "              (LayerNorm): LayerNorm((768,), eps=1e-12, elementwise_affine=True)\n",
      "              (dropout): Dropout(p=0.1, inplace=False)\n",
      "            )\n",
      "          )\n",
      "          (intermediate): BertIntermediate(\n",
      "            (dense): Linear(in_features=768, out_features=3072, bias=True)\n",
      "            (intermediate_act_fn): GELUActivation()\n",
      "          )\n",
      "          (output): BertOutput(\n",
      "            (dense): Linear(in_features=3072, out_features=768, bias=True)\n",
      "            (LayerNorm): LayerNorm((768,), eps=1e-12, elementwise_affine=True)\n",
      "            (dropout): Dropout(p=0.1, inplace=False)\n",
      "          )\n",
      "        )\n",
      "      )\n",
      "    )\n",
      "    (pooler): BertPooler(\n",
      "      (dense): Linear(in_features=768, out_features=768, bias=True)\n",
      "      (activation): Tanh()\n",
      "    )\n",
      "  )\n",
      "  (hidden_layer): Linear(in_features=768, out_features=68, bias=True)\n",
      "  (hidden_layer2): Linear(in_features=68, out_features=54, bias=True)\n",
      "  (hidden_layer3): Linear(in_features=54, out_features=40, bias=True)\n",
      "  (drop_out): Dropout(p=0.1, inplace=False)\n",
      "  (classification): Linear(in_features=40, out_features=1, bias=True)\n",
      "  (GeLU): GELU(approximate='none')\n",
      "  (Sigmoid): Sigmoid()\n",
      ") in morgan-embed-bio-clinical-bert-ddi as it's been defined in __main__. You should put this code in a separate module so we can include it in the saved folder and make it easier to share via the Hub.\n",
      "We can't save the code defining BioClinicalBertConfig {\n",
      "  \"architectures\": [\n",
      "    \"BioClinicalBertClassification\"\n",
      "  ],\n",
      "  \"attention_probs_dropout_prob\": 0.1,\n",
      "  \"hidden3_dropout\": 0.1,\n",
      "  \"hidden_act\": \"gelu\",\n",
      "  \"hidden_dropout_prob\": 0.1,\n",
      "  \"hidden_size\": 768,\n",
      "  \"hidden_size1\": 68,\n",
      "  \"hidden_size2\": 54,\n",
      "  \"hidden_size3\": 40,\n",
      "  \"initializer_range\": 0.02,\n",
      "  \"intermediate_size\": 3072,\n",
      "  \"layer_norm_eps\": 1e-12,\n",
      "  \"max_position_embeddings\": 512,\n",
      "  \"model_type\": \"bert\",\n",
      "  \"num_attention_heads\": 12,\n",
      "  \"num_hidden_layers\": 12,\n",
      "  \"position_embedding_type\": \"absolute\",\n",
      "  \"torch_dtype\": \"float32\",\n",
      "  \"transformers_version\": \"4.30.2\",\n",
      "  \"type_vocab_size\": 2,\n",
      "  \"unfreeze\": false,\n",
      "  \"use_cache\": true,\n",
      "  \"vocab_size\": 28996\n",
      "}\n",
      " in morgan-embed-bio-clinical-bert-ddi as it's been defined in __main__. You should put this code in a separate module so we can include it in the saved folder and make it easier to share via the Hub.\n"
     ]
    },
    {
     "data": {
      "application/vnd.jupyter.widget-view+json": {
       "model_id": "f031f047b569459e84cde5233ac05792",
       "version_major": 2,
       "version_minor": 0
      },
      "text/plain": [
       "Upload file training_args.bin:   0%|          | 1.00/3.87k [00:00<?, ?B/s]"
      ]
     },
     "metadata": {},
     "output_type": "display_data"
    },
    {
     "name": "stderr",
     "output_type": "stream",
     "text": [
      "To https://huggingface.co/ltmai/morgan-embed-bio-clinical-bert-ddi\n",
      "   05ac07c..d647a41  main -> main\n",
      "\n",
      "To https://huggingface.co/ltmai/morgan-embed-bio-clinical-bert-ddi\n",
      "   d647a41..a30e76d  main -> main\n",
      "\n"
     ]
    },
    {
     "data": {
      "text/plain": [
       "'https://huggingface.co/ltmai/morgan-embed-bio-clinical-bert-ddi/commit/d647a4163b22f585484084be15bc1a34d9991e27'"
      ]
     },
     "execution_count": 40,
     "metadata": {},
     "output_type": "execute_result"
    }
   ],
   "source": [
    "trainer.push_to_hub()\n",
    "#model.push_to_hub()"
   ]
  },
  {
   "cell_type": "code",
   "execution_count": 41,
   "metadata": {
    "id": "fWFn2oQqAfd5"
   },
   "outputs": [
    {
     "name": "stderr",
     "output_type": "stream",
     "text": [
      "We can't save the code defining BioClinicalBertClassification(\n",
      "  (bert_model): BertModel(\n",
      "    (embeddings): BertEmbeddings(\n",
      "      (word_embeddings): Embedding(28996, 768)\n",
      "      (position_embeddings): Embedding(512, 768)\n",
      "      (token_type_embeddings): Embedding(2, 768)\n",
      "      (LayerNorm): LayerNorm((768,), eps=1e-12, elementwise_affine=True)\n",
      "      (dropout): Dropout(p=0.1, inplace=False)\n",
      "    )\n",
      "    (encoder): BertEncoder(\n",
      "      (layer): ModuleList(\n",
      "        (0-11): 12 x BertLayer(\n",
      "          (attention): BertAttention(\n",
      "            (self): BertSelfAttention(\n",
      "              (query): Linear(in_features=768, out_features=768, bias=True)\n",
      "              (key): Linear(in_features=768, out_features=768, bias=True)\n",
      "              (value): Linear(in_features=768, out_features=768, bias=True)\n",
      "              (dropout): Dropout(p=0.1, inplace=False)\n",
      "            )\n",
      "            (output): BertSelfOutput(\n",
      "              (dense): Linear(in_features=768, out_features=768, bias=True)\n",
      "              (LayerNorm): LayerNorm((768,), eps=1e-12, elementwise_affine=True)\n",
      "              (dropout): Dropout(p=0.1, inplace=False)\n",
      "            )\n",
      "          )\n",
      "          (intermediate): BertIntermediate(\n",
      "            (dense): Linear(in_features=768, out_features=3072, bias=True)\n",
      "            (intermediate_act_fn): GELUActivation()\n",
      "          )\n",
      "          (output): BertOutput(\n",
      "            (dense): Linear(in_features=3072, out_features=768, bias=True)\n",
      "            (LayerNorm): LayerNorm((768,), eps=1e-12, elementwise_affine=True)\n",
      "            (dropout): Dropout(p=0.1, inplace=False)\n",
      "          )\n",
      "        )\n",
      "      )\n",
      "    )\n",
      "    (pooler): BertPooler(\n",
      "      (dense): Linear(in_features=768, out_features=768, bias=True)\n",
      "      (activation): Tanh()\n",
      "    )\n",
      "  )\n",
      "  (hidden_layer): Linear(in_features=768, out_features=68, bias=True)\n",
      "  (hidden_layer2): Linear(in_features=68, out_features=54, bias=True)\n",
      "  (hidden_layer3): Linear(in_features=54, out_features=40, bias=True)\n",
      "  (drop_out): Dropout(p=0.1, inplace=False)\n",
      "  (classification): Linear(in_features=40, out_features=1, bias=True)\n",
      "  (GeLU): GELU(approximate='none')\n",
      "  (Sigmoid): Sigmoid()\n",
      ") in morgan-embed-bio-clinical-bert-ddi as it's been defined in __main__. You should put this code in a separate module so we can include it in the saved folder and make it easier to share via the Hub.\n",
      "We can't save the code defining BioClinicalBertConfig {\n",
      "  \"architectures\": [\n",
      "    \"BioClinicalBertClassification\"\n",
      "  ],\n",
      "  \"attention_probs_dropout_prob\": 0.1,\n",
      "  \"hidden3_dropout\": 0.1,\n",
      "  \"hidden_act\": \"gelu\",\n",
      "  \"hidden_dropout_prob\": 0.1,\n",
      "  \"hidden_size\": 768,\n",
      "  \"hidden_size1\": 68,\n",
      "  \"hidden_size2\": 54,\n",
      "  \"hidden_size3\": 40,\n",
      "  \"initializer_range\": 0.02,\n",
      "  \"intermediate_size\": 3072,\n",
      "  \"layer_norm_eps\": 1e-12,\n",
      "  \"max_position_embeddings\": 512,\n",
      "  \"model_type\": \"bert\",\n",
      "  \"num_attention_heads\": 12,\n",
      "  \"num_hidden_layers\": 12,\n",
      "  \"position_embedding_type\": \"absolute\",\n",
      "  \"torch_dtype\": \"float32\",\n",
      "  \"transformers_version\": \"4.30.2\",\n",
      "  \"type_vocab_size\": 2,\n",
      "  \"unfreeze\": false,\n",
      "  \"use_cache\": true,\n",
      "  \"vocab_size\": 28996\n",
      "}\n",
      " in morgan-embed-bio-clinical-bert-ddi as it's been defined in __main__. You should put this code in a separate module so we can include it in the saved folder and make it easier to share via the Hub.\n",
      "We can't save the code defining BioClinicalBertClassification(\n",
      "  (bert_model): BertModel(\n",
      "    (embeddings): BertEmbeddings(\n",
      "      (word_embeddings): Embedding(28996, 768)\n",
      "      (position_embeddings): Embedding(512, 768)\n",
      "      (token_type_embeddings): Embedding(2, 768)\n",
      "      (LayerNorm): LayerNorm((768,), eps=1e-12, elementwise_affine=True)\n",
      "      (dropout): Dropout(p=0.1, inplace=False)\n",
      "    )\n",
      "    (encoder): BertEncoder(\n",
      "      (layer): ModuleList(\n",
      "        (0-11): 12 x BertLayer(\n",
      "          (attention): BertAttention(\n",
      "            (self): BertSelfAttention(\n",
      "              (query): Linear(in_features=768, out_features=768, bias=True)\n",
      "              (key): Linear(in_features=768, out_features=768, bias=True)\n",
      "              (value): Linear(in_features=768, out_features=768, bias=True)\n",
      "              (dropout): Dropout(p=0.1, inplace=False)\n",
      "            )\n",
      "            (output): BertSelfOutput(\n",
      "              (dense): Linear(in_features=768, out_features=768, bias=True)\n",
      "              (LayerNorm): LayerNorm((768,), eps=1e-12, elementwise_affine=True)\n",
      "              (dropout): Dropout(p=0.1, inplace=False)\n",
      "            )\n",
      "          )\n",
      "          (intermediate): BertIntermediate(\n",
      "            (dense): Linear(in_features=768, out_features=3072, bias=True)\n",
      "            (intermediate_act_fn): GELUActivation()\n",
      "          )\n",
      "          (output): BertOutput(\n",
      "            (dense): Linear(in_features=3072, out_features=768, bias=True)\n",
      "            (LayerNorm): LayerNorm((768,), eps=1e-12, elementwise_affine=True)\n",
      "            (dropout): Dropout(p=0.1, inplace=False)\n",
      "          )\n",
      "        )\n",
      "      )\n",
      "    )\n",
      "    (pooler): BertPooler(\n",
      "      (dense): Linear(in_features=768, out_features=768, bias=True)\n",
      "      (activation): Tanh()\n",
      "    )\n",
      "  )\n",
      "  (hidden_layer): Linear(in_features=768, out_features=68, bias=True)\n",
      "  (hidden_layer2): Linear(in_features=68, out_features=54, bias=True)\n",
      "  (hidden_layer3): Linear(in_features=54, out_features=40, bias=True)\n",
      "  (drop_out): Dropout(p=0.1, inplace=False)\n",
      "  (classification): Linear(in_features=40, out_features=1, bias=True)\n",
      "  (GeLU): GELU(approximate='none')\n",
      "  (Sigmoid): Sigmoid()\n",
      ") in morgan-embed-bio-clinical-bert-ddi as it's been defined in __main__. You should put this code in a separate module so we can include it in the saved folder and make it easier to share via the Hub.\n",
      "We can't save the code defining BioClinicalBertConfig {\n",
      "  \"architectures\": [\n",
      "    \"BioClinicalBertClassification\"\n",
      "  ],\n",
      "  \"attention_probs_dropout_prob\": 0.1,\n",
      "  \"hidden3_dropout\": 0.1,\n",
      "  \"hidden_act\": \"gelu\",\n",
      "  \"hidden_dropout_prob\": 0.1,\n",
      "  \"hidden_size\": 768,\n",
      "  \"hidden_size1\": 68,\n",
      "  \"hidden_size2\": 54,\n",
      "  \"hidden_size3\": 40,\n",
      "  \"initializer_range\": 0.02,\n",
      "  \"intermediate_size\": 3072,\n",
      "  \"layer_norm_eps\": 1e-12,\n",
      "  \"max_position_embeddings\": 512,\n",
      "  \"model_type\": \"bert\",\n",
      "  \"num_attention_heads\": 12,\n",
      "  \"num_hidden_layers\": 12,\n",
      "  \"position_embedding_type\": \"absolute\",\n",
      "  \"torch_dtype\": \"float32\",\n",
      "  \"transformers_version\": \"4.30.2\",\n",
      "  \"type_vocab_size\": 2,\n",
      "  \"unfreeze\": false,\n",
      "  \"use_cache\": true,\n",
      "  \"vocab_size\": 28996\n",
      "}\n",
      " in morgan-embed-bio-clinical-bert-ddi as it's been defined in __main__. You should put this code in a separate module so we can include it in the saved folder and make it easier to share via the Hub.\n"
     ]
    }
   ],
   "source": [
    "# save training weights\n",
    "trainer.save_model('morgan-embed-bio-clinical-bert-ddi')\n",
    "# torch.save(model.state_dict(), 'models/Bio_ClinicalBERT_DDI_finetuned_small.pth')"
   ]
  },
  {
   "cell_type": "markdown",
   "metadata": {},
   "source": [
    "## Training Manually - Frozen All Layers"
   ]
  },
  {
   "cell_type": "markdown",
   "metadata": {},
   "source": [
    "### Build Model"
   ]
  },
  {
   "cell_type": "code",
   "execution_count": 5,
   "metadata": {},
   "outputs": [],
   "source": [
    "# Define hyperparameters\n",
    "BATCH_SIZE = 24\n",
    "EPOCHS = 4\n",
    "LEARNING_RATE = 0.0963\n",
    "# MOMENTUM = 0.9\n",
    "WEIGHT_DECAY = 1e-4\n",
    "WORKERS = 16"
   ]
  },
  {
   "cell_type": "code",
   "execution_count": 6,
   "metadata": {},
   "outputs": [],
   "source": [
    "# Clear out cuda before training\n",
    "torch.cuda.empty_cache()"
   ]
  },
  {
   "cell_type": "code",
   "execution_count": 7,
   "metadata": {},
   "outputs": [],
   "source": [
    "# BERT Model\n",
    "class BioBertClassification(nn.Module):\n",
    "    def __init__(self,output_dim=1, hidden_size=256, hidden_size2=32, hidden_size3=16, dropout=0.2, unfreeze=False):\n",
    "        super(BioBertClassification, self).__init__()\n",
    "        self.bert_model = AutoModel.from_pretrained(\"emilyalsentzer/Bio_ClinicalBERT\")\n",
    "\n",
    "        # Unfreeze the last DistilBERT transformer layer\n",
    "        if unfreeze == \"last layer\":\n",
    "            for name, param in self.bert_model.named_parameters():\n",
    "                if 'transformer.layer.5.' in name:\n",
    "                    param.requires_grad = True\n",
    "                else:\n",
    "                    param.requires_grad = False\n",
    "        if unfreeze == \"all layers\":\n",
    "            for name, param in self.bert_model.named_parameters():\n",
    "                param.requires_grad = True\n",
    "\n",
    "        self.bert_hidden_size = self.bert_model.config.hidden_size\n",
    "        self.hidden_size = hidden_size\n",
    "        self.hidden_size2 = hidden_size2\n",
    "        self.hidden_size3 = hidden_size3\n",
    "        self.hidden_layer = nn.Linear(self.bert_hidden_size, self.hidden_size)\n",
    "        self.hidden_layer2 = nn.Linear(self.hidden_size, self.hidden_size2)\n",
    "        self.hidden_layer3 = nn.Linear(self.hidden_size2, self.hidden_size3)\n",
    "\n",
    "        self.drop_out = nn.Dropout(dropout)\n",
    "\n",
    "        self.classification = nn.Linear(self.hidden_size3, output_dim)\n",
    "\n",
    "        self.GeLU = nn.GELU()\n",
    "        self.Sigmoid = nn.Sigmoid()\n",
    "\n",
    "    def forward(self, input_ids, attention_mask):\n",
    "        bert_output = self.bert_model(input_ids=input_ids,\n",
    "                                      attention_mask=attention_mask)\n",
    "\n",
    "        # hidden_state = bert_output[0]\n",
    "        pooler_token = bert_output[1]\n",
    "\n",
    "        hidden_ouput = self.GeLU(self.hidden_layer(pooler_token))\n",
    "        hidden_ouput = self.drop_out(hidden_ouput)\n",
    "        hidden_ouput = self.GeLU(self.hidden_layer2(hidden_ouput))\n",
    "        hidden_ouput = self.drop_out(hidden_ouput)\n",
    "        hidden_ouput = self.GeLU(self.hidden_layer3(hidden_ouput))\n",
    "        hidden_ouput = self.drop_out(hidden_ouput)\n",
    "\n",
    "        output = self.Sigmoid(self.classification(hidden_ouput))\n",
    "        output = output.flatten()\n",
    "\n",
    "        return output"
   ]
  },
  {
   "cell_type": "code",
   "execution_count": 8,
   "metadata": {},
   "outputs": [
    {
     "name": "stderr",
     "output_type": "stream",
     "text": [
      "Some weights of the model checkpoint at emilyalsentzer/Bio_ClinicalBERT were not used when initializing BertModel: ['cls.predictions.transform.LayerNorm.bias', 'cls.predictions.transform.dense.weight', 'cls.seq_relationship.bias', 'cls.predictions.transform.LayerNorm.weight', 'cls.seq_relationship.weight', 'cls.predictions.decoder.weight', 'cls.predictions.bias', 'cls.predictions.transform.dense.bias']\n",
      "- This IS expected if you are initializing BertModel from the checkpoint of a model trained on another task or with another architecture (e.g. initializing a BertForSequenceClassification model from a BertForPreTraining model).\n",
      "- This IS NOT expected if you are initializing BertModel from the checkpoint of a model that you expect to be exactly identical (initializing a BertForSequenceClassification model from a BertForSequenceClassification model).\n"
     ]
    }
   ],
   "source": [
    "# Initialize model\n",
    "model = BioBertClassification()\n",
    "model = model.to(device)\n",
    "\n",
    "#load the pre-trained Bio-ClinicalBERT model and tokenizer\n",
    "tokenizer = AutoTokenizer.from_pretrained('emilyalsentzer/Bio_ClinicalBERT')\n"
   ]
  },
  {
   "cell_type": "markdown",
   "metadata": {},
   "source": [
    "### Build DataLoader"
   ]
  },
  {
   "cell_type": "code",
   "execution_count": 9,
   "metadata": {},
   "outputs": [
    {
     "name": "stdout",
     "output_type": "stream",
     "text": [
      "mean length of smiles1: 62.479706666666665\n",
      "min length of smiles1: 2\n",
      "max length of smiles1: 748\n",
      "mean length of smiles2: 62.77145\n",
      "min length of smiles2: 3\n",
      "max length of smiles2: 748\n",
      "Value Counts of Labels in Train Set:\n"
     ]
    },
    {
     "data": {
      "text/plain": [
       "interaction_type\n",
       "1    150000\n",
       "0    150000\n",
       "Name: count, dtype: int64"
      ]
     },
     "execution_count": 9,
     "metadata": {},
     "output_type": "execute_result"
    }
   ],
   "source": [
    "# Import data\n",
    "train_file = 'data/binary_ddi/ddi_train_balanced_150k.csv'\n",
    "dev_file = 'data/binary_ddi/ddi_val_binary.csv'\n",
    "test_file = 'data/binary_ddi/ddi_test_binary.csv'\n",
    "\n",
    "df_train = pd.read_csv(train_file, sep='\\t')\n",
    "df_val= pd.read_csv(dev_file, sep='\\t')\n",
    "df_test = pd.read_csv(test_file, sep='\\t')\n",
    "\n",
    "print(f'''mean length of smiles1: {df_train['smiles1'].map(len).mean()}''')\n",
    "print(f'''min length of smiles1: {df_train['smiles1'].map(len).min()}''')\n",
    "print(f'''max length of smiles1: {df_train['smiles1'].map(len).max()}''')\n",
    "print(f'''mean length of smiles2: {df_train['smiles2'].map(len).mean()}''')\n",
    "print(f'''min length of smiles2: {df_train['smiles2'].map(len).min()}''')\n",
    "print(f'''max length of smiles2: {df_train['smiles2'].map(len).max()}''')\n",
    "print('Value Counts of Labels in Train Set:')\n",
    "df_train.interaction_type.value_counts()"
   ]
  },
  {
   "cell_type": "code",
   "execution_count": 10,
   "metadata": {},
   "outputs": [
    {
     "name": "stdout",
     "output_type": "stream",
     "text": [
      "(30000, 9)\n"
     ]
    },
    {
     "data": {
      "text/html": [
       "<div>\n",
       "<style scoped>\n",
       "    .dataframe tbody tr th:only-of-type {\n",
       "        vertical-align: middle;\n",
       "    }\n",
       "\n",
       "    .dataframe tbody tr th {\n",
       "        vertical-align: top;\n",
       "    }\n",
       "\n",
       "    .dataframe thead th {\n",
       "        text-align: right;\n",
       "    }\n",
       "</style>\n",
       "<table border=\"1\" class=\"dataframe\">\n",
       "  <thead>\n",
       "    <tr style=\"text-align: right;\">\n",
       "      <th></th>\n",
       "      <th>d1</th>\n",
       "      <th>d2</th>\n",
       "      <th>d1_name</th>\n",
       "      <th>d2_name</th>\n",
       "      <th>interaction</th>\n",
       "      <th>interaction_type</th>\n",
       "      <th>severity</th>\n",
       "      <th>smiles1</th>\n",
       "      <th>smiles2</th>\n",
       "    </tr>\n",
       "  </thead>\n",
       "  <tbody>\n",
       "    <tr>\n",
       "      <th>49666</th>\n",
       "      <td>DB00351</td>\n",
       "      <td>DB00463</td>\n",
       "      <td>Megestrol acetate</td>\n",
       "      <td>Metharbital</td>\n",
       "      <td>The metabolism of #Drug1 can be increased when...</td>\n",
       "      <td>1</td>\n",
       "      <td>unknown</td>\n",
       "      <td>[H][C@@]12CC[C@](OC(C)=O)(C(C)=O)[C@@]1(C)CC[C...</td>\n",
       "      <td>CCC1(CC)C(=O)NC(=O)N(C)C1=O</td>\n",
       "    </tr>\n",
       "    <tr>\n",
       "      <th>103450</th>\n",
       "      <td>DB01349</td>\n",
       "      <td>DB00615</td>\n",
       "      <td>Tasosartan</td>\n",
       "      <td>Rifabutin</td>\n",
       "      <td>Unknown</td>\n",
       "      <td>0</td>\n",
       "      <td>unknown</td>\n",
       "      <td>CC1=NC(C)=C2CCC(=O)N(CC3=CC=C(C=C3)C3=CC=CC=C3...</td>\n",
       "      <td>CO[C@H]1\\C=C\\O[C@@]2(C)OC3=C(C2=O)C2=C(C(O)=C3...</td>\n",
       "    </tr>\n",
       "  </tbody>\n",
       "</table>\n",
       "</div>"
      ],
      "text/plain": [
       "             d1       d2            d1_name      d2_name  \\\n",
       "49666   DB00351  DB00463  Megestrol acetate  Metharbital   \n",
       "103450  DB01349  DB00615         Tasosartan    Rifabutin   \n",
       "\n",
       "                                              interaction  interaction_type  \\\n",
       "49666   The metabolism of #Drug1 can be increased when...                 1   \n",
       "103450                                            Unknown                 0   \n",
       "\n",
       "       severity                                            smiles1  \\\n",
       "49666   unknown  [H][C@@]12CC[C@](OC(C)=O)(C(C)=O)[C@@]1(C)CC[C...   \n",
       "103450  unknown  CC1=NC(C)=C2CCC(=O)N(CC3=CC=C(C=C3)C3=CC=CC=C3...   \n",
       "\n",
       "                                                  smiles2  \n",
       "49666                         CCC1(CC)C(=O)NC(=O)N(C)C1=O  \n",
       "103450  CO[C@H]1\\C=C\\O[C@@]2(C)OC3=C(C2=O)C2=C(C(O)=C3...  "
      ]
     },
     "execution_count": 10,
     "metadata": {},
     "output_type": "execute_result"
    }
   ],
   "source": [
    "from sklearn.utils import resample\n",
    "\n",
    "# Choose a smaller subset of val data for faster training\n",
    "df_val_small = resample(df_val,\n",
    "                        replace=False,     # sample without replacement\n",
    "                        n_samples=30000,\n",
    "                        # random_state=42\n",
    "                       ) \n",
    "print(df_val_small.shape)\n",
    "df_val_small.head(2)"
   ]
  },
  {
   "cell_type": "code",
   "execution_count": 15,
   "metadata": {},
   "outputs": [
    {
     "data": {
      "text/plain": [
       "{'input_ids': tensor([[  101,  1884,   164,  ...,     0,     0,     0],\n",
       "        [  101, 14402,   164,  ...,     0,     0,     0],\n",
       "        [  101, 14402,  1475,  ...,     0,     0,     0],\n",
       "        ...,\n",
       "        [  101, 14402,   164,  ...,     0,     0,     0],\n",
       "        [  101, 14402, 13335,  ...,     0,     0,     0],\n",
       "        [  101,   164,   177,  ...,     0,     0,     0]]), 'attention_mask': tensor([[1, 1, 1,  ..., 0, 0, 0],\n",
       "        [1, 1, 1,  ..., 0, 0, 0],\n",
       "        [1, 1, 1,  ..., 0, 0, 0],\n",
       "        ...,\n",
       "        [1, 1, 1,  ..., 0, 0, 0],\n",
       "        [1, 1, 1,  ..., 0, 0, 0],\n",
       "        [1, 1, 1,  ..., 0, 0, 0]])}"
      ]
     },
     "execution_count": 15,
     "metadata": {},
     "output_type": "execute_result"
    }
   ],
   "source": [
    "## TEST BLOCK - TEST TOKENIZER\n",
    "# Add features column which is a combination of smiles1 & smiles2\n",
    "# Truncate each smiles to 254 tokens max, leaving min 3 tokens for CLS & SEP token\n",
    "seperator = \" [SEP] \"\n",
    "max_length = 512\n",
    "df_val_small[\"features\"] = df_val_small[\"smiles1\"].str[:254] + seperator + df_val_small[\"smiles2\"].str[:254]\n",
    "X_val = df_val_small[\"features\"]\n",
    "y_val = df_val_small[\"interaction_type\"]\n",
    "\n",
    "# Tokenize\n",
    "_encodings = tokenizer(\n",
    "    list(X_val.values), \n",
    "    max_length=max_length,\n",
    "    truncation=True,\n",
    "    pad_to_max_length=True, \n",
    "    return_token_type_ids=False,\n",
    "    return_tensors='pt'\n",
    ")\n",
    "\n",
    "_encodings"
   ]
  },
  {
   "cell_type": "code",
   "execution_count": 17,
   "metadata": {},
   "outputs": [
    {
     "data": {
      "text/html": [
       "<div>\n",
       "<style scoped>\n",
       "    .dataframe tbody tr th:only-of-type {\n",
       "        vertical-align: middle;\n",
       "    }\n",
       "\n",
       "    .dataframe tbody tr th {\n",
       "        vertical-align: top;\n",
       "    }\n",
       "\n",
       "    .dataframe thead th {\n",
       "        text-align: right;\n",
       "    }\n",
       "</style>\n",
       "<table border=\"1\" class=\"dataframe\">\n",
       "  <thead>\n",
       "    <tr style=\"text-align: right;\">\n",
       "      <th></th>\n",
       "      <th>d1</th>\n",
       "      <th>d2</th>\n",
       "      <th>d1_name</th>\n",
       "      <th>d2_name</th>\n",
       "      <th>interaction</th>\n",
       "      <th>interaction_type</th>\n",
       "      <th>severity</th>\n",
       "      <th>smiles1</th>\n",
       "      <th>smiles2</th>\n",
       "      <th>features</th>\n",
       "    </tr>\n",
       "  </thead>\n",
       "  <tbody>\n",
       "  </tbody>\n",
       "</table>\n",
       "</div>"
      ],
      "text/plain": [
       "Empty DataFrame\n",
       "Columns: [d1, d2, d1_name, d2_name, interaction, interaction_type, severity, smiles1, smiles2, features]\n",
       "Index: []"
      ]
     },
     "execution_count": 17,
     "metadata": {},
     "output_type": "execute_result"
    }
   ],
   "source": [
    "df_val_small[df_val_small[\"features\"].isnull()]"
   ]
  },
  {
   "cell_type": "code",
   "execution_count": 11,
   "metadata": {},
   "outputs": [],
   "source": [
    "# prefix = \"[CLS] \"\n",
    "seperator = \" [SEP] \"\n",
    "max_length = 512\n",
    "\n",
    "def build_data_loader(df, shuffle=True):\n",
    "    # Combine SMILES1 & SMILE2 Together, using [SEP] token to distingush between drug1 & drug2\n",
    "    df[\"features\"] = df[\"smiles1\"].str[:254] + seperator + df[\"smiles2\"].str[:254]\n",
    "    X = df[\"features\"]\n",
    "    y = df[\"interaction_type\"]\n",
    "\n",
    "    # Tokenize\n",
    "    _encodings = tokenizer(\n",
    "        list(X.values), \n",
    "        max_length=max_length,\n",
    "        truncation=True,\n",
    "        pad_to_max_length=True, \n",
    "        return_token_type_ids=False,\n",
    "        return_tensors='pt'\n",
    "    )\n",
    "\n",
    "    _ids = _encodings.input_ids\n",
    "    _mask = _encodings.attention_mask\n",
    "    _labels = torch.tensor(y.values)\n",
    "\n",
    "    _dataset = TensorDataset(_ids, _mask, _labels)\n",
    "    _loader = DataLoader(_dataset, batch_size=BATCH_SIZE, shuffle=shuffle, num_workers=WORKERS)\n",
    "\n",
    "    return _loader"
   ]
  },
  {
   "cell_type": "code",
   "execution_count": 12,
   "metadata": {},
   "outputs": [],
   "source": [
    "## Data Loader\n",
    "# train_loader = DataLoader(encoded_train_ds, batch_size=BATCH_SIZE, shuffle=True, num_workers=WORKERS)\n",
    "train_loader = build_data_loader(df_train)\n",
    "\n",
    "# val_loader = DataLoader(encoded_val_ds_small, batch_size=BATCH_SIZE, shuffle=True, num_workers=WORKERS)\n",
    "# val_loader_full = DataLoader(encoded_val_ds, batch_size=BATCH_SIZE, shuffle=False, num_workers=WORKERS)\n",
    "val_loader = build_data_loader(df_val_small)\n",
    "val_loader_full = build_data_loader(df_val, shuffle=False)\n",
    "\n",
    "# test_loader = DataLoader(encoded_test_ds, batch_size=BATCH_SIZE, shuffle=False, num_workers=WORKERS)\n",
    "test_loader = build_data_loader(df_test, shuffle=False)"
   ]
  },
  {
   "cell_type": "code",
   "execution_count": 13,
   "metadata": {},
   "outputs": [
    {
     "name": "stdout",
     "output_type": "stream",
     "text": [
      "Train batches: 12500\n",
      "Val subset batches: 1250\n",
      "Val Full batches: 9920\n",
      "Test batches: 7782\n"
     ]
    }
   ],
   "source": [
    "print('Train batches:', len(train_loader))\n",
    "print('Val subset batches:', len(val_loader))\n",
    "print('Val Full batches:', len(val_loader_full))\n",
    "print('Test batches:', len(test_loader))"
   ]
  },
  {
   "cell_type": "markdown",
   "metadata": {},
   "source": [
    "### Training"
   ]
  },
  {
   "cell_type": "code",
   "execution_count": 14,
   "metadata": {},
   "outputs": [],
   "source": [
    "# Initiate loss to Binary Cross Entropy\n",
    "criterion = nn.BCELoss()\n",
    "\n",
    "# Optimizer\n",
    "optimizer = optim.Adadelta(model.parameters(), lr=LEARNING_RATE, weight_decay=WEIGHT_DECAY)\n",
    "\n",
    "# Create learning rate scheduler.\n",
    "T_max = EPOCHS*len(train_loader)\n",
    "scheduler = optim.lr_scheduler.CosineAnnealingLR(optimizer, T_max=T_max)"
   ]
  },
  {
   "cell_type": "code",
   "execution_count": 15,
   "metadata": {},
   "outputs": [],
   "source": [
    "def format_time(seconds):\n",
    "    return str(datetime.timedelta(seconds=int(round(seconds))))"
   ]
  },
  {
   "cell_type": "code",
   "execution_count": 16,
   "metadata": {},
   "outputs": [],
   "source": [
    "## Define train function\n",
    "def train(train_loader, model, criterion, optimizer, verbose=True):  \n",
    "    # reset total loss for each epoch\n",
    "    total_loss = 0\n",
    "\n",
    "    # switch model to train mode\n",
    "    model.train()\n",
    "\n",
    "    # start time\n",
    "    t0 = time.time()\n",
    "\n",
    "    for step, data in enumerate(train_loader): \n",
    "        # send the data to cuda device\n",
    "        ids = data[0].to(device, dtype = torch.long)\n",
    "        mask = data[1].to(device, dtype = torch.long)\n",
    "        target = data[2].float().to(device)\n",
    "    \n",
    "        # compute output\n",
    "        output = model(input_ids=ids, \n",
    "                      attention_mask=mask)\n",
    "\n",
    "        # compute loss \n",
    "        loss = criterion(output, target)\n",
    "\n",
    "        # Accumulate the training loss over all of the batches \n",
    "        total_loss += loss.item()\n",
    "\n",
    "        # zero out gradients in the optimizer each step\n",
    "        optimizer.zero_grad()\n",
    "\n",
    "        # Report progress every 200 batches\n",
    "        if step % 1000 == 0 and not step == 0 and verbose==True:\n",
    "            print('Batch {:>5,}  of  {:>5,}.  Loss {:0.4f}  Elapsed: {:}.'.format(\n",
    "                 step, \n",
    "                 len(train_loader),\n",
    "                 loss.item(),\n",
    "                 format_time(time.time() - t0))) \n",
    "        \n",
    "        # compute gradient and do SGD\n",
    "        # backprop!\n",
    "        loss.backward()\n",
    "        \n",
    "        # update the weights!\n",
    "        optimizer.step()\n",
    "\n",
    "        # update learning rate\n",
    "        scheduler.step()\n",
    "\n",
    "    avg_train_loss = total_loss / len(train_loader) \n",
    "    elapsed_time = time.time() - t0\n",
    "    if verbose:\n",
    "      print (\"\\nAvg Training Loss {:0.4f}, Completed in {:} \\n\".format(\n",
    "          avg_train_loss,\n",
    "          format_time(elapsed_time)\n",
    "            ))\n",
    "    \n",
    "    # return model, avg_train_loss, elapsed_time\n",
    "    return avg_train_loss, elapsed_time"
   ]
  },
  {
   "cell_type": "code",
   "execution_count": 17,
   "metadata": {},
   "outputs": [],
   "source": [
    "## Define validate function\n",
    "def validate(val_loader, model, criterion, verbose=True):\n",
    "    # Initialize\n",
    "    targets=[]\n",
    "    outputs=[]\n",
    "    t0 = time.time()\n",
    "    total_val_loss = 0\n",
    "\n",
    "    # switch to evaluate mode\n",
    "    model.eval()\n",
    "\n",
    "    with torch.no_grad():\n",
    "        for step, data in enumerate(val_loader):\n",
    "            \n",
    "            # send the data to cuda device\n",
    "            ids = data[0].to(device, dtype = torch.long)\n",
    "            mask = data[1].to(device, dtype = torch.long)\n",
    "            target = data[2].float().to(device)\n",
    "\n",
    "            # compute output\n",
    "            output = model(input_ids=ids,\n",
    "                           attention_mask=mask)\n",
    "\n",
    "            # compute loss\n",
    "            loss = criterion(output, target)\n",
    "\n",
    "            # Accumulate the validation loss over all of the batches to calculate average loss\n",
    "            total_val_loss += loss.item()\n",
    "\n",
    "            targets.extend(target.cpu().detach().numpy().tolist())\n",
    "            outputs.extend(output.cpu().detach().numpy().tolist())\n",
    "\n",
    "            if step % 1000 == 0 and not step == 0 and verbose==True:\n",
    "                print('Batch {:>5,}  of  {:>5,}.  Loss {:0.4f}  Elapsed: {:}.'.format(\n",
    "                    step, \n",
    "                    len(val_loader),\n",
    "                    loss.item(),\n",
    "                    format_time(time.time() - t0)))        \n",
    "\n",
    "    avg_val_loss = total_val_loss / len(val_loader)\n",
    "    elapsed_time = time.time() - t0\n",
    "    if verbose:\n",
    "      print (\"\\nAvg Validation Loss {:0.4f}, Completed in {:}\".format(\n",
    "          avg_val_loss,\n",
    "          format_time(elapsed_time)\n",
    "            ))\n",
    "    \n",
    "    return outputs, targets, avg_val_loss, elapsed_time\n"
   ]
  },
  {
   "cell_type": "code",
   "execution_count": 18,
   "metadata": {},
   "outputs": [],
   "source": [
    "# calculate the F1 score, auc, accuracy of our predictions vs labels\n",
    "def compute_metrics(outputs, targets, prefix=\"Training\"):\n",
    "    y_pred = (np.array(outputs) >= 0.5).astype(float)\n",
    "    y_score = np.array(outputs)\n",
    "    y_true = np.array(targets)\n",
    "\n",
    "    f2 =  metrics.fbeta_score(y_true, y_pred, average=\"binary\", pos_label=1, beta=2)\n",
    "    print(f\"{prefix} F2-score: {round(f2,4)}\")\n",
    "\n",
    "    mcc = metrics.matthews_corrcoef(y_true, y_pred)\n",
    "    print(f\"{prefix} Matthew Correlation Coefficient: {round(mcc,4)}\")\n",
    "\n",
    "    recall_macro = metrics.recall_score(y_true, y_pred, average=\"binary\", pos_label=1)\n",
    "    print(f\"{prefix} Recall: {round(recall_macro,4)}\")\n",
    "\n",
    "    precision_macro = metrics.precision_score(y_true, y_pred, average=\"binary\", pos_label=1)\n",
    "    print(f\"{prefix} Precision: {round(precision_macro,4)}\")\n",
    "\n",
    "    accuracy_macro = metrics.accuracy_score(y_true, y_pred)\n",
    "    print(f\"{prefix} Accuracy: {round(accuracy_macro,4)}\")\n",
    "    \n",
    "    return y_true, y_score, y_pred"
   ]
  },
  {
   "cell_type": "code",
   "execution_count": 19,
   "metadata": {},
   "outputs": [],
   "source": [
    "os.environ[\"TOKENIZERS_PARALLELISM\"] = \"TRUE\""
   ]
  },
  {
   "cell_type": "code",
   "execution_count": 20,
   "metadata": {},
   "outputs": [
    {
     "name": "stdout",
     "output_type": "stream",
     "text": [
      "######  Epoch 1/4 ######\n",
      "-----  Training -----\n",
      "Batch 1,000  of  12,500.  Loss 0.7584  Elapsed: 0:10:24.\n",
      "Batch 2,000  of  12,500.  Loss 0.6987  Elapsed: 0:20:44.\n",
      "Batch 3,000  of  12,500.  Loss 0.6091  Elapsed: 0:31:06.\n",
      "Batch 4,000  of  12,500.  Loss 0.5214  Elapsed: 0:41:29.\n",
      "Batch 5,000  of  12,500.  Loss 0.7336  Elapsed: 0:51:52.\n",
      "Batch 6,000  of  12,500.  Loss 0.5808  Elapsed: 1:02:13.\n",
      "Batch 7,000  of  12,500.  Loss 0.6673  Elapsed: 1:12:36.\n",
      "Batch 8,000  of  12,500.  Loss 0.5963  Elapsed: 1:22:59.\n",
      "Batch 9,000  of  12,500.  Loss 0.5611  Elapsed: 1:33:21.\n",
      "Batch 10,000  of  12,500.  Loss 0.6003  Elapsed: 1:43:44.\n",
      "Batch 11,000  of  12,500.  Loss 0.6762  Elapsed: 1:54:06.\n",
      "Batch 12,000  of  12,500.  Loss 0.7215  Elapsed: 2:04:28.\n",
      "\n",
      "Avg Training Loss 0.6068, Completed in 2:09:42 \n",
      "\n",
      "-----  Validation -----\n",
      "Batch 1,000  of  1,250.  Loss 1.0195  Elapsed: 0:03:33.\n",
      "\n",
      "Avg Validation Loss 0.7061, Completed in 0:04:28\n",
      "Validation F2-score: 0.6508\n",
      "Validation Matthew Correlation Coefficient: 0.2514\n",
      "Validation Recall: 0.6444\n",
      "Validation Precision: 0.6778\n",
      "Validation Accuracy: 0.6286\n",
      "######  Epoch 2/4 ######\n",
      "-----  Training -----\n",
      "Batch 1,000  of  12,500.  Loss 0.4672  Elapsed: 0:10:23.\n",
      "Batch 2,000  of  12,500.  Loss 0.7830  Elapsed: 0:20:44.\n",
      "Batch 3,000  of  12,500.  Loss 0.4523  Elapsed: 0:31:03.\n",
      "Batch 4,000  of  12,500.  Loss 0.4175  Elapsed: 0:41:24.\n",
      "Batch 5,000  of  12,500.  Loss 0.4048  Elapsed: 0:51:45.\n",
      "Batch 6,000  of  12,500.  Loss 0.6881  Elapsed: 1:02:04.\n",
      "Batch 7,000  of  12,500.  Loss 0.4559  Elapsed: 1:12:25.\n",
      "Batch 8,000  of  12,500.  Loss 0.6771  Elapsed: 1:22:43.\n",
      "Batch 9,000  of  12,500.  Loss 0.3202  Elapsed: 1:33:03.\n",
      "Batch 10,000  of  12,500.  Loss 0.3790  Elapsed: 1:43:23.\n",
      "Batch 11,000  of  12,500.  Loss 0.4023  Elapsed: 1:53:44.\n",
      "Batch 12,000  of  12,500.  Loss 0.3023  Elapsed: 2:04:05.\n",
      "\n",
      "Avg Training Loss 0.4529, Completed in 2:09:18 \n",
      "\n",
      "-----  Validation -----\n",
      "Batch 1,000  of  1,250.  Loss 1.2247  Elapsed: 0:03:31.\n",
      "\n",
      "Avg Validation Loss 0.8334, Completed in 0:04:26\n",
      "Validation F2-score: 0.7555\n",
      "Validation Matthew Correlation Coefficient: 0.3451\n",
      "Validation Recall: 0.7727\n",
      "Validation Precision: 0.6938\n",
      "Validation Accuracy: 0.6811\n",
      "######  Epoch 3/4 ######\n",
      "-----  Training -----\n",
      "Batch 1,000  of  12,500.  Loss 0.1665  Elapsed: 0:10:22.\n",
      "Batch 2,000  of  12,500.  Loss 0.3465  Elapsed: 0:20:42.\n",
      "Batch 3,000  of  12,500.  Loss 0.4284  Elapsed: 0:31:02.\n",
      "Batch 4,000  of  12,500.  Loss 0.3625  Elapsed: 0:41:21.\n",
      "Batch 5,000  of  12,500.  Loss 0.3695  Elapsed: 0:51:40.\n",
      "Batch 6,000  of  12,500.  Loss 0.3076  Elapsed: 1:02:00.\n",
      "Batch 7,000  of  12,500.  Loss 0.3268  Elapsed: 1:12:20.\n",
      "Batch 8,000  of  12,500.  Loss 0.5055  Elapsed: 1:22:40.\n",
      "Batch 9,000  of  12,500.  Loss 0.2480  Elapsed: 1:33:00.\n",
      "Batch 10,000  of  12,500.  Loss 0.4093  Elapsed: 1:43:20.\n",
      "Batch 11,000  of  12,500.  Loss 0.3459  Elapsed: 1:53:41.\n",
      "Batch 12,000  of  12,500.  Loss 0.2479  Elapsed: 2:04:02.\n",
      "\n",
      "Avg Training Loss 0.3375, Completed in 2:09:15 \n",
      "\n",
      "-----  Validation -----\n",
      "Batch 1,000  of  1,250.  Loss 0.4811  Elapsed: 0:03:31.\n",
      "\n",
      "Avg Validation Loss 0.9582, Completed in 0:04:26\n",
      "Validation F2-score: 0.7636\n",
      "Validation Matthew Correlation Coefficient: 0.3474\n",
      "Validation Recall: 0.784\n",
      "Validation Precision: 0.6915\n",
      "Validation Accuracy: 0.6825\n",
      "######  Epoch 4/4 ######\n",
      "-----  Training -----\n",
      "Batch 1,000  of  12,500.  Loss 0.1770  Elapsed: 0:10:21.\n",
      "Batch 2,000  of  12,500.  Loss 0.2387  Elapsed: 0:20:41.\n",
      "Batch 3,000  of  12,500.  Loss 0.4283  Elapsed: 0:31:00.\n",
      "Batch 4,000  of  12,500.  Loss 0.3479  Elapsed: 0:41:20.\n",
      "Batch 5,000  of  12,500.  Loss 0.2101  Elapsed: 0:51:38.\n",
      "Batch 6,000  of  12,500.  Loss 0.2496  Elapsed: 1:01:58.\n",
      "Batch 7,000  of  12,500.  Loss 0.2070  Elapsed: 1:12:16.\n",
      "Batch 8,000  of  12,500.  Loss 0.1272  Elapsed: 1:22:35.\n",
      "Batch 9,000  of  12,500.  Loss 0.3021  Elapsed: 1:32:55.\n",
      "Batch 10,000  of  12,500.  Loss 0.5245  Elapsed: 1:43:14.\n",
      "Batch 11,000  of  12,500.  Loss 0.0933  Elapsed: 1:53:33.\n",
      "Batch 12,000  of  12,500.  Loss 0.2320  Elapsed: 2:03:52.\n",
      "\n",
      "Avg Training Loss 0.2624, Completed in 2:09:05 \n",
      "\n",
      "-----  Validation -----\n",
      "Batch 1,000  of  1,250.  Loss 1.4074  Elapsed: 0:03:32.\n",
      "\n",
      "Avg Validation Loss 1.2588, Completed in 0:04:27\n",
      "Validation F2-score: 0.777\n",
      "Validation Matthew Correlation Coefficient: 0.3654\n",
      "Validation Recall: 0.8004\n",
      "Validation Precision: 0.6954\n",
      "Validation Accuracy: 0.6913\n"
     ]
    }
   ],
   "source": [
    "# Store the average loss after each epoch so we can plot them.\n",
    "train_loss_values = []\n",
    "val_loss_values = []\n",
    "\n",
    "for epoch in range(EPOCHS):\n",
    "    print ('######  Epoch {}/{} ######'.format(epoch+1, EPOCHS))\n",
    "    print ('-----  Training -----')\n",
    "    train_loss, train_time = train(train_loader, model, criterion, optimizer)\n",
    "    train_loss_values.append(train_loss)\n",
    "\n",
    "    print ('-----  Validation -----')\n",
    "    val_outputs, val_targets, val_loss, val_time = validate(val_loader, model, criterion)\n",
    "    val_loss_values.append(val_loss)\n",
    "    y_val_true, y_val_score, y_val_pred = compute_metrics(val_outputs, val_targets, prefix=\"Validation\")"
   ]
  },
  {
   "cell_type": "code",
   "execution_count": 1,
   "metadata": {},
   "outputs": [
    {
     "ename": "NameError",
     "evalue": "name 'train_loss_values' is not defined",
     "output_type": "error",
     "traceback": [
      "\u001B[0;31m---------------------------------------------------------------------------\u001B[0m",
      "\u001B[0;31mNameError\u001B[0m                                 Traceback (most recent call last)",
      "Cell \u001B[0;32mIn[1], line 2\u001B[0m\n\u001B[1;32m      1\u001B[0m \u001B[38;5;66;03m### Plot Training & Validation Loss\u001B[39;00m\n\u001B[0;32m----> 2\u001B[0m data \u001B[38;5;241m=\u001B[39m {\u001B[38;5;124m'\u001B[39m\u001B[38;5;124mEpoch\u001B[39m\u001B[38;5;124m'\u001B[39m: \u001B[38;5;28mrange\u001B[39m(\u001B[38;5;241m1\u001B[39m, \u001B[38;5;241m5\u001B[39m), \u001B[38;5;124m'\u001B[39m\u001B[38;5;124mTraining Loss\u001B[39m\u001B[38;5;124m'\u001B[39m: \u001B[43mtrain_loss_values\u001B[49m, \u001B[38;5;124m'\u001B[39m\u001B[38;5;124mValidation Loss\u001B[39m\u001B[38;5;124m'\u001B[39m: val_loss_values}\n\u001B[1;32m      3\u001B[0m df \u001B[38;5;241m=\u001B[39m pd\u001B[38;5;241m.\u001B[39mDataFrame(data)\n\u001B[1;32m      5\u001B[0m fig, ax \u001B[38;5;241m=\u001B[39m plt\u001B[38;5;241m.\u001B[39msubplots(figsize\u001B[38;5;241m=\u001B[39m(\u001B[38;5;241m10\u001B[39m, \u001B[38;5;241m6\u001B[39m))\n",
      "\u001B[0;31mNameError\u001B[0m: name 'train_loss_values' is not defined"
     ]
    }
   ],
   "source": [
    "### Plot Training & Validation Loss\n",
    "data = {'Epoch': range(1, 5), 'Training Loss': train_loss_values, 'Validation Loss': val_loss_values}\n",
    "df = pd.DataFrame(data)\n",
    "\n",
    "fig, ax = plt.subplots(figsize=(10, 6))\n",
    "sns.set_style('whitegrid')\n",
    "sns.set(font_scale=1.5)\n",
    "\n",
    "# Plot train & val loss\n",
    "sns.lineplot(data=df, x=\"Epoch\", y=\"Training Loss\", label=\"Training Loss\", marker='o')\n",
    "sns.lineplot(data=df, x=\"Epoch\", y=\"Validation Loss\", label=\"Validation Loss\", marker='o')\n",
    "\n",
    "# set the axis labels and title\n",
    "ax.set(xlabel='Epoch', ylabel='Loss')\n",
    "ax.set_title('Training and Validation Loss', fontsize=18)\n",
    "\n",
    "# set the legend and adjust its position\n",
    "plt.legend(fontsize=14)\n",
    "\n",
    "# set the ticks fontsize\n",
    "ax.tick_params(axis='both', which='major', labelsize=14)"
   ]
  },
  {
   "cell_type": "code",
   "execution_count": 22,
   "metadata": {
    "id": "iQDSVwgdAiIc"
   },
   "outputs": [],
   "source": [
    "torch.save(model.state_dict(), 'models/BioClinicalBert_Frozen_Large.pth')"
   ]
  },
  {
   "cell_type": "markdown",
   "metadata": {
    "id": "OGDGA3AYKNSi"
   },
   "source": [
    "### Evaluation"
   ]
  },
  {
   "cell_type": "code",
   "execution_count": 23,
   "metadata": {
    "id": "5Rv-OvFkAaKp"
   },
   "outputs": [
    {
     "name": "stdout",
     "output_type": "stream",
     "text": [
      "\n",
      "Evaluation metrics for Test Set:\n",
      "Testing F2-score: 0.7872\n",
      "Testing Matthew Correlation Coefficient: 0.3779\n",
      "Testing Recall: 0.7849\n",
      "Testing Precision: 0.7967\n",
      "Testing Accuracy: 0.7222\n"
     ]
    }
   ],
   "source": [
    "# Predicting with Test Set\n",
    "print('\\nEvaluation metrics for Test Set:')\n",
    "test_outputs, test_targets, test_loss, test_time = validate(test_loader, model, criterion, verbose=False)\n",
    "y_test_true, y_test_score, y_test_pred = compute_metrics(test_outputs, test_targets, prefix=\"Testing\")"
   ]
  },
  {
   "cell_type": "code",
   "execution_count": 24,
   "metadata": {},
   "outputs": [
    {
     "data": {
      "image/png": "[encoded data removed]",
      "text/plain": [
       "<Figure size 800x800 with 1 Axes>"
      ]
     },
     "metadata": {},
     "output_type": "display_data"
    }
   ],
   "source": [
    "# Extract AUPRC & AP\n",
    "def plot_AUPRC(y_true, y_score, title='Area Under Precision Recall Curve'):\n",
    "    sns.set_style('white')\n",
    "    plt.figure(figsize=(8,8))\n",
    "\n",
    "    # Compute precision-recall pairs\n",
    "    precision, recall, thresholds = precision_recall_curve(y_true, y_score)\n",
    "    # Compute AUPRC\n",
    "    auprc = auc(recall, precision)\n",
    "    plt.plot(recall, precision, color=\"#663399\", lw=2, alpha=0.9,\n",
    "             label=f'AUPRC = {round(auprc, 3)})'\n",
    "             )\n",
    "    plt.xlabel('Recall', fontsize=14)\n",
    "    plt.ylabel('Precision', fontsize=14)\n",
    "    plt.ylim(bottom=0)\n",
    "    plt.title(title, fontsize=16)\n",
    "    plt.legend()\n",
    "    plt.show()\n",
    "\n",
    "plot_AUPRC(y_test_true, y_test_score)"
   ]
  },
  {
   "cell_type": "code",
   "execution_count": 25,
   "metadata": {
    "id": "v1s-IIn7J-mR"
   },
   "outputs": [
    {
     "name": "stdout",
     "output_type": "stream",
     "text": [
      "Validation Set - Classification Report:\n",
      "              precision    recall  f1-score   support\n",
      "\n",
      "     class 0       0.58      0.60      0.59     61872\n",
      "     class 1       0.80      0.78      0.79    124881\n",
      "\n",
      "    accuracy                           0.72    186753\n",
      "   macro avg       0.69      0.69      0.69    186753\n",
      "weighted avg       0.72      0.72      0.72    186753\n",
      "\n"
     ]
    }
   ],
   "source": [
    "target_names = ['class ' + str(x) for x in range(2)]\n",
    "val_classification_report = classification_report(y_test_true, y_test_pred, target_names=target_names)\n",
    "print(\"Validation Set - Classification Report:\")\n",
    "print(val_classification_report)"
   ]
  },
  {
   "cell_type": "code",
   "execution_count": 26,
   "metadata": {
    "id": "_nKsz6FeVbCr"
   },
   "outputs": [
    {
     "data": {
      "text/plain": [
       "array([[59.56975692, 40.43024308],\n",
       "       [21.50767531, 78.49232469]])"
      ]
     },
     "execution_count": 26,
     "metadata": {},
     "output_type": "execute_result"
    }
   ],
   "source": [
    "conf_matrix = confusion_matrix(y_test_true, y_test_pred)\n",
    "conf_matrix = conf_matrix/conf_matrix.sum(axis=1, keepdims=True) * 100 #Convert to percentage\n",
    "conf_matrix"
   ]
  },
  {
   "cell_type": "code",
   "execution_count": 27,
   "metadata": {},
   "outputs": [
    {
     "data": {
      "image/png": "[encoded data removed]",
      "text/plain": [
       "<Figure size 600x600 with 2 Axes>"
      ]
     },
     "metadata": {},
     "output_type": "display_data"
    }
   ],
   "source": [
    "def plot_conf_matrix_high(conf_matrix):\n",
    "    \"\"\"Plot confusion matrix\"\"\"\n",
    "    fig, ax = plt.subplots(figsize=(6, 6))\n",
    "    sns.heatmap(\n",
    "        conf_matrix, annot=True,\n",
    "        cmap=sns.cubehelix_palette(as_cmap=True),\n",
    "        xticklabels= ['Negative', 'Positive'],\n",
    "        yticklabels= ['Negative', 'Positive'],\n",
    "        fmt='.1f'\n",
    "    )\n",
    "    ax.set_xlabel(\"Predicted Label\", fontsize=16)\n",
    "    ax.set_ylabel(\"True Label\", fontsize=16)\n",
    "    ax.set_title(\"Confusion Matrix - Interaction Prediction %\", fontsize=18)\n",
    "    plt.show()\n",
    "\n",
    "plot_conf_matrix_high(conf_matrix)"
   ]
  }
 ],
 "metadata": {
  "accelerator": "GPU",
  "colab": {
   "gpuType": "T4",
   "provenance": [],
   "toc_visible": true
  },
  "kernelspec": {
   "display_name": "Python 3 (ipykernel)",
   "language": "python",
   "name": "python3"
  },
  "language_info": {
   "codemirror_mode": {
    "name": "ipython",
    "version": 3
   },
   "file_extension": ".py",
   "mimetype": "text/x-python",
   "name": "python",
   "nbconvert_exporter": "python",
   "pygments_lexer": "ipython3",
   "version": "3.10.12"
  },
  "widgets": {
   "application/vnd.jupyter.widget-state+json": {
    "007b1fb1d03d433387c5f394485d75cd": {
     "model_module": "@jupyter-widgets/controls",
     "model_module_version": "1.5.0",
     "model_name": "DescriptionStyleModel",
     "state": {
      "_model_module": "@jupyter-widgets/controls",
      "_model_module_version": "1.5.0",
      "_model_name": "DescriptionStyleModel",
      "_view_count": null,
      "_view_module": "@jupyter-widgets/base",
      "_view_module_version": "1.2.0",
      "_view_name": "StyleView",
      "description_width": ""
     }
    },
    "03b91f9d7549487f8a108585a6a45a24": {
     "model_module": "@jupyter-widgets/controls",
     "model_module_version": "1.5.0",
     "model_name": "ProgressStyleModel",
     "state": {
      "_model_module": "@jupyter-widgets/controls",
      "_model_module_version": "1.5.0",
      "_model_name": "ProgressStyleModel",
      "_view_count": null,
      "_view_module": "@jupyter-widgets/base",
      "_view_module_version": "1.2.0",
      "_view_name": "StyleView",
      "bar_color": null,
      "description_width": ""
     }
    },
    "097ef633e83343e1a40a0b860b0279b4": {
     "model_module": "@jupyter-widgets/controls",
     "model_module_version": "1.5.0",
     "model_name": "HTMLModel",
     "state": {
      "_dom_classes": [],
      "_model_module": "@jupyter-widgets/controls",
      "_model_module_version": "1.5.0",
      "_model_name": "HTMLModel",
      "_view_count": null,
      "_view_module": "@jupyter-widgets/controls",
      "_view_module_version": "1.5.0",
      "_view_name": "HTMLView",
      "description": "",
      "description_tooltip": null,
      "layout": "IPY_MODEL_898055f1e82d4188abb75beac211ff3b",
      "placeholder": "​",
      "style": "IPY_MODEL_007b1fb1d03d433387c5f394485d75cd",
      "value": "Map: 100%"
     }
    },
    "137bb4b8f3fb41c8a6b7f4dac3c5472b": {
     "model_module": "@jupyter-widgets/base",
     "model_module_version": "1.2.0",
     "model_name": "LayoutModel",
     "state": {
      "_model_module": "@jupyter-widgets/base",
      "_model_module_version": "1.2.0",
      "_model_name": "LayoutModel",
      "_view_count": null,
      "_view_module": "@jupyter-widgets/base",
      "_view_module_version": "1.2.0",
      "_view_name": "LayoutView",
      "align_content": null,
      "align_items": null,
      "align_self": null,
      "border": null,
      "bottom": null,
      "display": null,
      "flex": null,
      "flex_flow": null,
      "grid_area": null,
      "grid_auto_columns": null,
      "grid_auto_flow": null,
      "grid_auto_rows": null,
      "grid_column": null,
      "grid_gap": null,
      "grid_row": null,
      "grid_template_areas": null,
      "grid_template_columns": null,
      "grid_template_rows": null,
      "height": null,
      "justify_content": null,
      "justify_items": null,
      "left": null,
      "margin": null,
      "max_height": null,
      "max_width": null,
      "min_height": null,
      "min_width": null,
      "object_fit": null,
      "object_position": null,
      "order": null,
      "overflow": null,
      "overflow_x": null,
      "overflow_y": null,
      "padding": null,
      "right": null,
      "top": null,
      "visibility": null,
      "width": null
     }
    },
    "196df6ab8c19433cb69b87303bfabb61": {
     "model_module": "@jupyter-widgets/controls",
     "model_module_version": "1.5.0",
     "model_name": "HTMLModel",
     "state": {
      "_dom_classes": [],
      "_model_module": "@jupyter-widgets/controls",
      "_model_module_version": "1.5.0",
      "_model_name": "HTMLModel",
      "_view_count": null,
      "_view_module": "@jupyter-widgets/controls",
      "_view_module_version": "1.5.0",
      "_view_name": "HTMLView",
      "description": "",
      "description_tooltip": null,
      "layout": "IPY_MODEL_a36d87bc8b034bf889bb6867eda2761e",
      "placeholder": "​",
      "style": "IPY_MODEL_f0074a44d3a4499881c56f89b6f68223",
      "value": " 3/3 [00:00&lt;00:00, 41.69it/s]"
     }
    },
    "1c613814b0ce4d348f8d4c5d4f547324": {
     "model_module": "@jupyter-widgets/base",
     "model_module_version": "1.2.0",
     "model_name": "LayoutModel",
     "state": {
      "_model_module": "@jupyter-widgets/base",
      "_model_module_version": "1.2.0",
      "_model_name": "LayoutModel",
      "_view_count": null,
      "_view_module": "@jupyter-widgets/base",
      "_view_module_version": "1.2.0",
      "_view_name": "LayoutView",
      "align_content": null,
      "align_items": null,
      "align_self": null,
      "border": null,
      "bottom": null,
      "display": null,
      "flex": null,
      "flex_flow": null,
      "grid_area": null,
      "grid_auto_columns": null,
      "grid_auto_flow": null,
      "grid_auto_rows": null,
      "grid_column": null,
      "grid_gap": null,
      "grid_row": null,
      "grid_template_areas": null,
      "grid_template_columns": null,
      "grid_template_rows": null,
      "height": null,
      "justify_content": null,
      "justify_items": null,
      "left": null,
      "margin": null,
      "max_height": null,
      "max_width": null,
      "min_height": null,
      "min_width": null,
      "object_fit": null,
      "object_position": null,
      "order": null,
      "overflow": null,
      "overflow_x": null,
      "overflow_y": null,
      "padding": null,
      "right": null,
      "top": null,
      "visibility": null,
      "width": null
     }
    },
    "20c0885b542d4592bc82f9dbc95f2967": {
     "model_module": "@jupyter-widgets/controls",
     "model_module_version": "1.5.0",
     "model_name": "HTMLModel",
     "state": {
      "_dom_classes": [],
      "_model_module": "@jupyter-widgets/controls",
      "_model_module_version": "1.5.0",
      "_model_name": "HTMLModel",
      "_view_count": null,
      "_view_module": "@jupyter-widgets/controls",
      "_view_module_version": "1.5.0",
      "_view_name": "HTMLView",
      "description": "",
      "description_tooltip": null,
      "layout": "IPY_MODEL_56a0098d47674ae09cb4c412345a4468",
      "placeholder": "​",
      "style": "IPY_MODEL_c76764720a6f44dcb967ecce4c151faf",
      "value": "Map: 100%"
     }
    },
    "22d025d278634f8585ac8227e752d177": {
     "model_module": "@jupyter-widgets/base",
     "model_module_version": "1.2.0",
     "model_name": "LayoutModel",
     "state": {
      "_model_module": "@jupyter-widgets/base",
      "_model_module_version": "1.2.0",
      "_model_name": "LayoutModel",
      "_view_count": null,
      "_view_module": "@jupyter-widgets/base",
      "_view_module_version": "1.2.0",
      "_view_name": "LayoutView",
      "align_content": null,
      "align_items": null,
      "align_self": null,
      "border": null,
      "bottom": null,
      "display": null,
      "flex": null,
      "flex_flow": null,
      "grid_area": null,
      "grid_auto_columns": null,
      "grid_auto_flow": null,
      "grid_auto_rows": null,
      "grid_column": null,
      "grid_gap": null,
      "grid_row": null,
      "grid_template_areas": null,
      "grid_template_columns": null,
      "grid_template_rows": null,
      "height": null,
      "justify_content": null,
      "justify_items": null,
      "left": null,
      "margin": null,
      "max_height": null,
      "max_width": null,
      "min_height": null,
      "min_width": null,
      "object_fit": null,
      "object_position": null,
      "order": null,
      "overflow": null,
      "overflow_x": null,
      "overflow_y": null,
      "padding": null,
      "right": null,
      "top": null,
      "visibility": null,
      "width": null
     }
    },
    "2d1e06c7c1a143d0886f43f3bf63dbe6": {
     "model_module": "@jupyter-widgets/controls",
     "model_module_version": "1.5.0",
     "model_name": "ProgressStyleModel",
     "state": {
      "_model_module": "@jupyter-widgets/controls",
      "_model_module_version": "1.5.0",
      "_model_name": "ProgressStyleModel",
      "_view_count": null,
      "_view_module": "@jupyter-widgets/base",
      "_view_module_version": "1.2.0",
      "_view_name": "StyleView",
      "bar_color": null,
      "description_width": ""
     }
    },
    "35b2002728b9472d869a90b58b064bcf": {
     "model_module": "@jupyter-widgets/base",
     "model_module_version": "1.2.0",
     "model_name": "LayoutModel",
     "state": {
      "_model_module": "@jupyter-widgets/base",
      "_model_module_version": "1.2.0",
      "_model_name": "LayoutModel",
      "_view_count": null,
      "_view_module": "@jupyter-widgets/base",
      "_view_module_version": "1.2.0",
      "_view_name": "LayoutView",
      "align_content": null,
      "align_items": null,
      "align_self": null,
      "border": null,
      "bottom": null,
      "display": null,
      "flex": null,
      "flex_flow": null,
      "grid_area": null,
      "grid_auto_columns": null,
      "grid_auto_flow": null,
      "grid_auto_rows": null,
      "grid_column": null,
      "grid_gap": null,
      "grid_row": null,
      "grid_template_areas": null,
      "grid_template_columns": null,
      "grid_template_rows": null,
      "height": null,
      "justify_content": null,
      "justify_items": null,
      "left": null,
      "margin": null,
      "max_height": null,
      "max_width": null,
      "min_height": null,
      "min_width": null,
      "object_fit": null,
      "object_position": null,
      "order": null,
      "overflow": null,
      "overflow_x": null,
      "overflow_y": null,
      "padding": null,
      "right": null,
      "top": null,
      "visibility": "hidden",
      "width": null
     }
    },
    "36ea4a3c568f4831905834e5c5b0d03a": {
     "model_module": "@jupyter-widgets/controls",
     "model_module_version": "1.5.0",
     "model_name": "HTMLModel",
     "state": {
      "_dom_classes": [],
      "_model_module": "@jupyter-widgets/controls",
      "_model_module_version": "1.5.0",
      "_model_name": "HTMLModel",
      "_view_count": null,
      "_view_module": "@jupyter-widgets/controls",
      "_view_module_version": "1.5.0",
      "_view_name": "HTMLView",
      "description": "",
      "description_tooltip": null,
      "layout": "IPY_MODEL_1c613814b0ce4d348f8d4c5d4f547324",
      "placeholder": "​",
      "style": "IPY_MODEL_af8e311a99774dbe9f814aa242772264",
      "value": "Map: 100%"
     }
    },
    "404bfceb697342a3a2f90db43fc79aac": {
     "model_module": "@jupyter-widgets/controls",
     "model_module_version": "1.5.0",
     "model_name": "HBoxModel",
     "state": {
      "_dom_classes": [],
      "_model_module": "@jupyter-widgets/controls",
      "_model_module_version": "1.5.0",
      "_model_name": "HBoxModel",
      "_view_count": null,
      "_view_module": "@jupyter-widgets/controls",
      "_view_module_version": "1.5.0",
      "_view_name": "HBoxView",
      "box_style": "",
      "children": [
       "IPY_MODEL_20c0885b542d4592bc82f9dbc95f2967",
       "IPY_MODEL_6ed68724fa3443f0a01911b77fd76c17",
       "IPY_MODEL_8bb576c1c5444ebb8eb1390468720f9d"
      ],
      "layout": "IPY_MODEL_c54d39bf63a44ca8a7b0c0d00bd8deb5"
     }
    },
    "56a0098d47674ae09cb4c412345a4468": {
     "model_module": "@jupyter-widgets/base",
     "model_module_version": "1.2.0",
     "model_name": "LayoutModel",
     "state": {
      "_model_module": "@jupyter-widgets/base",
      "_model_module_version": "1.2.0",
      "_model_name": "LayoutModel",
      "_view_count": null,
      "_view_module": "@jupyter-widgets/base",
      "_view_module_version": "1.2.0",
      "_view_name": "LayoutView",
      "align_content": null,
      "align_items": null,
      "align_self": null,
      "border": null,
      "bottom": null,
      "display": null,
      "flex": null,
      "flex_flow": null,
      "grid_area": null,
      "grid_auto_columns": null,
      "grid_auto_flow": null,
      "grid_auto_rows": null,
      "grid_column": null,
      "grid_gap": null,
      "grid_row": null,
      "grid_template_areas": null,
      "grid_template_columns": null,
      "grid_template_rows": null,
      "height": null,
      "justify_content": null,
      "justify_items": null,
      "left": null,
      "margin": null,
      "max_height": null,
      "max_width": null,
      "min_height": null,
      "min_width": null,
      "object_fit": null,
      "object_position": null,
      "order": null,
      "overflow": null,
      "overflow_x": null,
      "overflow_y": null,
      "padding": null,
      "right": null,
      "top": null,
      "visibility": null,
      "width": null
     }
    },
    "5818bab97ad94b5c93e774e6c9c545d8": {
     "model_module": "@jupyter-widgets/controls",
     "model_module_version": "1.5.0",
     "model_name": "HBoxModel",
     "state": {
      "_dom_classes": [],
      "_model_module": "@jupyter-widgets/controls",
      "_model_module_version": "1.5.0",
      "_model_name": "HBoxModel",
      "_view_count": null,
      "_view_module": "@jupyter-widgets/controls",
      "_view_module_version": "1.5.0",
      "_view_name": "HBoxView",
      "box_style": "",
      "children": [
       "IPY_MODEL_097ef633e83343e1a40a0b860b0279b4",
       "IPY_MODEL_98a98588193948c38b3727d35a1ee0bf",
       "IPY_MODEL_e0cc1cf6d0a942c3987f5ca2de7bf910"
      ],
      "layout": "IPY_MODEL_6dba82586eeb4cd193f857706bf21dbd"
     }
    },
    "60499b5778ba4f6590d11beaf10de5e8": {
     "model_module": "@jupyter-widgets/controls",
     "model_module_version": "1.5.0",
     "model_name": "DescriptionStyleModel",
     "state": {
      "_model_module": "@jupyter-widgets/controls",
      "_model_module_version": "1.5.0",
      "_model_name": "DescriptionStyleModel",
      "_view_count": null,
      "_view_module": "@jupyter-widgets/base",
      "_view_module_version": "1.2.0",
      "_view_name": "StyleView",
      "description_width": ""
     }
    },
    "6050f464fa194b3b9f44b9fb1d563c6f": {
     "model_module": "@jupyter-widgets/base",
     "model_module_version": "1.2.0",
     "model_name": "LayoutModel",
     "state": {
      "_model_module": "@jupyter-widgets/base",
      "_model_module_version": "1.2.0",
      "_model_name": "LayoutModel",
      "_view_count": null,
      "_view_module": "@jupyter-widgets/base",
      "_view_module_version": "1.2.0",
      "_view_name": "LayoutView",
      "align_content": null,
      "align_items": null,
      "align_self": null,
      "border": null,
      "bottom": null,
      "display": null,
      "flex": null,
      "flex_flow": null,
      "grid_area": null,
      "grid_auto_columns": null,
      "grid_auto_flow": null,
      "grid_auto_rows": null,
      "grid_column": null,
      "grid_gap": null,
      "grid_row": null,
      "grid_template_areas": null,
      "grid_template_columns": null,
      "grid_template_rows": null,
      "height": null,
      "justify_content": null,
      "justify_items": null,
      "left": null,
      "margin": null,
      "max_height": null,
      "max_width": null,
      "min_height": null,
      "min_width": null,
      "object_fit": null,
      "object_position": null,
      "order": null,
      "overflow": null,
      "overflow_x": null,
      "overflow_y": null,
      "padding": null,
      "right": null,
      "top": null,
      "visibility": null,
      "width": null
     }
    },
    "6dba82586eeb4cd193f857706bf21dbd": {
     "model_module": "@jupyter-widgets/base",
     "model_module_version": "1.2.0",
     "model_name": "LayoutModel",
     "state": {
      "_model_module": "@jupyter-widgets/base",
      "_model_module_version": "1.2.0",
      "_model_name": "LayoutModel",
      "_view_count": null,
      "_view_module": "@jupyter-widgets/base",
      "_view_module_version": "1.2.0",
      "_view_name": "LayoutView",
      "align_content": null,
      "align_items": null,
      "align_self": null,
      "border": null,
      "bottom": null,
      "display": null,
      "flex": null,
      "flex_flow": null,
      "grid_area": null,
      "grid_auto_columns": null,
      "grid_auto_flow": null,
      "grid_auto_rows": null,
      "grid_column": null,
      "grid_gap": null,
      "grid_row": null,
      "grid_template_areas": null,
      "grid_template_columns": null,
      "grid_template_rows": null,
      "height": null,
      "justify_content": null,
      "justify_items": null,
      "left": null,
      "margin": null,
      "max_height": null,
      "max_width": null,
      "min_height": null,
      "min_width": null,
      "object_fit": null,
      "object_position": null,
      "order": null,
      "overflow": null,
      "overflow_x": null,
      "overflow_y": null,
      "padding": null,
      "right": null,
      "top": null,
      "visibility": "hidden",
      "width": null
     }
    },
    "6ed68724fa3443f0a01911b77fd76c17": {
     "model_module": "@jupyter-widgets/controls",
     "model_module_version": "1.5.0",
     "model_name": "FloatProgressModel",
     "state": {
      "_dom_classes": [],
      "_model_module": "@jupyter-widgets/controls",
      "_model_module_version": "1.5.0",
      "_model_name": "FloatProgressModel",
      "_view_count": null,
      "_view_module": "@jupyter-widgets/controls",
      "_view_module_version": "1.5.0",
      "_view_name": "ProgressView",
      "bar_style": "",
      "description": "",
      "description_tooltip": null,
      "layout": "IPY_MODEL_137bb4b8f3fb41c8a6b7f4dac3c5472b",
      "max": 238072,
      "min": 0,
      "orientation": "horizontal",
      "style": "IPY_MODEL_eeac483e4beb4e3896af7caea41c674d",
      "value": 238072
     }
    },
    "757c7f1330184e7d95008950c805ccb0": {
     "model_module": "@jupyter-widgets/controls",
     "model_module_version": "1.5.0",
     "model_name": "ProgressStyleModel",
     "state": {
      "_model_module": "@jupyter-widgets/controls",
      "_model_module_version": "1.5.0",
      "_model_name": "ProgressStyleModel",
      "_view_count": null,
      "_view_module": "@jupyter-widgets/base",
      "_view_module_version": "1.2.0",
      "_view_name": "StyleView",
      "bar_color": null,
      "description_width": ""
     }
    },
    "76ae6df4a5f846dc8d3871bc4b695b3a": {
     "model_module": "@jupyter-widgets/controls",
     "model_module_version": "1.5.0",
     "model_name": "HBoxModel",
     "state": {
      "_dom_classes": [],
      "_model_module": "@jupyter-widgets/controls",
      "_model_module_version": "1.5.0",
      "_model_name": "HBoxModel",
      "_view_count": null,
      "_view_module": "@jupyter-widgets/controls",
      "_view_module_version": "1.5.0",
      "_view_name": "HBoxView",
      "box_style": "",
      "children": [
       "IPY_MODEL_820536d02b474b34a0c14e26ae0129db",
       "IPY_MODEL_99e02af33a854247ba87458257c55488",
       "IPY_MODEL_196df6ab8c19433cb69b87303bfabb61"
      ],
      "layout": "IPY_MODEL_f7210c082d0145bfbb9937861c4766be"
     }
    },
    "820536d02b474b34a0c14e26ae0129db": {
     "model_module": "@jupyter-widgets/controls",
     "model_module_version": "1.5.0",
     "model_name": "HTMLModel",
     "state": {
      "_dom_classes": [],
      "_model_module": "@jupyter-widgets/controls",
      "_model_module_version": "1.5.0",
      "_model_name": "HTMLModel",
      "_view_count": null,
      "_view_module": "@jupyter-widgets/controls",
      "_view_module_version": "1.5.0",
      "_view_name": "HTMLView",
      "description": "",
      "description_tooltip": null,
      "layout": "IPY_MODEL_9a8e91550af74c2fbc753aed53708ba6",
      "placeholder": "​",
      "style": "IPY_MODEL_a72fa699908a41f9b4036ec26515afd2",
      "value": "100%"
     }
    },
    "898055f1e82d4188abb75beac211ff3b": {
     "model_module": "@jupyter-widgets/base",
     "model_module_version": "1.2.0",
     "model_name": "LayoutModel",
     "state": {
      "_model_module": "@jupyter-widgets/base",
      "_model_module_version": "1.2.0",
      "_model_name": "LayoutModel",
      "_view_count": null,
      "_view_module": "@jupyter-widgets/base",
      "_view_module_version": "1.2.0",
      "_view_name": "LayoutView",
      "align_content": null,
      "align_items": null,
      "align_self": null,
      "border": null,
      "bottom": null,
      "display": null,
      "flex": null,
      "flex_flow": null,
      "grid_area": null,
      "grid_auto_columns": null,
      "grid_auto_flow": null,
      "grid_auto_rows": null,
      "grid_column": null,
      "grid_gap": null,
      "grid_row": null,
      "grid_template_areas": null,
      "grid_template_columns": null,
      "grid_template_rows": null,
      "height": null,
      "justify_content": null,
      "justify_items": null,
      "left": null,
      "margin": null,
      "max_height": null,
      "max_width": null,
      "min_height": null,
      "min_width": null,
      "object_fit": null,
      "object_position": null,
      "order": null,
      "overflow": null,
      "overflow_x": null,
      "overflow_y": null,
      "padding": null,
      "right": null,
      "top": null,
      "visibility": null,
      "width": null
     }
    },
    "8bb576c1c5444ebb8eb1390468720f9d": {
     "model_module": "@jupyter-widgets/controls",
     "model_module_version": "1.5.0",
     "model_name": "HTMLModel",
     "state": {
      "_dom_classes": [],
      "_model_module": "@jupyter-widgets/controls",
      "_model_module_version": "1.5.0",
      "_model_name": "HTMLModel",
      "_view_count": null,
      "_view_module": "@jupyter-widgets/controls",
      "_view_module_version": "1.5.0",
      "_view_name": "HTMLView",
      "description": "",
      "description_tooltip": null,
      "layout": "IPY_MODEL_c650b3b8ba514f0b9709bfdf9545ddca",
      "placeholder": "​",
      "style": "IPY_MODEL_c9f2f317092848ed9585601925c7ecb5",
      "value": " 238000/238072 [01:54&lt;00:00, 2407.19 examples/s]"
     }
    },
    "96f62dc6ed08480ab0758377d003a0a3": {
     "model_module": "@jupyter-widgets/controls",
     "model_module_version": "1.5.0",
     "model_name": "FloatProgressModel",
     "state": {
      "_dom_classes": [],
      "_model_module": "@jupyter-widgets/controls",
      "_model_module_version": "1.5.0",
      "_model_name": "FloatProgressModel",
      "_view_count": null,
      "_view_module": "@jupyter-widgets/controls",
      "_view_module_version": "1.5.0",
      "_view_name": "ProgressView",
      "bar_style": "",
      "description": "",
      "description_tooltip": null,
      "layout": "IPY_MODEL_6050f464fa194b3b9f44b9fb1d563c6f",
      "max": 186753,
      "min": 0,
      "orientation": "horizontal",
      "style": "IPY_MODEL_03b91f9d7549487f8a108585a6a45a24",
      "value": 186753
     }
    },
    "98a98588193948c38b3727d35a1ee0bf": {
     "model_module": "@jupyter-widgets/controls",
     "model_module_version": "1.5.0",
     "model_name": "FloatProgressModel",
     "state": {
      "_dom_classes": [],
      "_model_module": "@jupyter-widgets/controls",
      "_model_module_version": "1.5.0",
      "_model_name": "FloatProgressModel",
      "_view_count": null,
      "_view_module": "@jupyter-widgets/controls",
      "_view_module_version": "1.5.0",
      "_view_name": "ProgressView",
      "bar_style": "",
      "description": "",
      "description_tooltip": null,
      "layout": "IPY_MODEL_f07d75c06b9e4ba7a445bed142643e94",
      "max": 300000,
      "min": 0,
      "orientation": "horizontal",
      "style": "IPY_MODEL_757c7f1330184e7d95008950c805ccb0",
      "value": 300000
     }
    },
    "99e02af33a854247ba87458257c55488": {
     "model_module": "@jupyter-widgets/controls",
     "model_module_version": "1.5.0",
     "model_name": "FloatProgressModel",
     "state": {
      "_dom_classes": [],
      "_model_module": "@jupyter-widgets/controls",
      "_model_module_version": "1.5.0",
      "_model_name": "FloatProgressModel",
      "_view_count": null,
      "_view_module": "@jupyter-widgets/controls",
      "_view_module_version": "1.5.0",
      "_view_name": "ProgressView",
      "bar_style": "success",
      "description": "",
      "description_tooltip": null,
      "layout": "IPY_MODEL_db110dfbde7d4bdf87c0200fc93fa44d",
      "max": 3,
      "min": 0,
      "orientation": "horizontal",
      "style": "IPY_MODEL_2d1e06c7c1a143d0886f43f3bf63dbe6",
      "value": 3
     }
    },
    "9a8e91550af74c2fbc753aed53708ba6": {
     "model_module": "@jupyter-widgets/base",
     "model_module_version": "1.2.0",
     "model_name": "LayoutModel",
     "state": {
      "_model_module": "@jupyter-widgets/base",
      "_model_module_version": "1.2.0",
      "_model_name": "LayoutModel",
      "_view_count": null,
      "_view_module": "@jupyter-widgets/base",
      "_view_module_version": "1.2.0",
      "_view_name": "LayoutView",
      "align_content": null,
      "align_items": null,
      "align_self": null,
      "border": null,
      "bottom": null,
      "display": null,
      "flex": null,
      "flex_flow": null,
      "grid_area": null,
      "grid_auto_columns": null,
      "grid_auto_flow": null,
      "grid_auto_rows": null,
      "grid_column": null,
      "grid_gap": null,
      "grid_row": null,
      "grid_template_areas": null,
      "grid_template_columns": null,
      "grid_template_rows": null,
      "height": null,
      "justify_content": null,
      "justify_items": null,
      "left": null,
      "margin": null,
      "max_height": null,
      "max_width": null,
      "min_height": null,
      "min_width": null,
      "object_fit": null,
      "object_position": null,
      "order": null,
      "overflow": null,
      "overflow_x": null,
      "overflow_y": null,
      "padding": null,
      "right": null,
      "top": null,
      "visibility": null,
      "width": null
     }
    },
    "a36d87bc8b034bf889bb6867eda2761e": {
     "model_module": "@jupyter-widgets/base",
     "model_module_version": "1.2.0",
     "model_name": "LayoutModel",
     "state": {
      "_model_module": "@jupyter-widgets/base",
      "_model_module_version": "1.2.0",
      "_model_name": "LayoutModel",
      "_view_count": null,
      "_view_module": "@jupyter-widgets/base",
      "_view_module_version": "1.2.0",
      "_view_name": "LayoutView",
      "align_content": null,
      "align_items": null,
      "align_self": null,
      "border": null,
      "bottom": null,
      "display": null,
      "flex": null,
      "flex_flow": null,
      "grid_area": null,
      "grid_auto_columns": null,
      "grid_auto_flow": null,
      "grid_auto_rows": null,
      "grid_column": null,
      "grid_gap": null,
      "grid_row": null,
      "grid_template_areas": null,
      "grid_template_columns": null,
      "grid_template_rows": null,
      "height": null,
      "justify_content": null,
      "justify_items": null,
      "left": null,
      "margin": null,
      "max_height": null,
      "max_width": null,
      "min_height": null,
      "min_width": null,
      "object_fit": null,
      "object_position": null,
      "order": null,
      "overflow": null,
      "overflow_x": null,
      "overflow_y": null,
      "padding": null,
      "right": null,
      "top": null,
      "visibility": null,
      "width": null
     }
    },
    "a72fa699908a41f9b4036ec26515afd2": {
     "model_module": "@jupyter-widgets/controls",
     "model_module_version": "1.5.0",
     "model_name": "DescriptionStyleModel",
     "state": {
      "_model_module": "@jupyter-widgets/controls",
      "_model_module_version": "1.5.0",
      "_model_name": "DescriptionStyleModel",
      "_view_count": null,
      "_view_module": "@jupyter-widgets/base",
      "_view_module_version": "1.2.0",
      "_view_name": "StyleView",
      "description_width": ""
     }
    },
    "af8e311a99774dbe9f814aa242772264": {
     "model_module": "@jupyter-widgets/controls",
     "model_module_version": "1.5.0",
     "model_name": "DescriptionStyleModel",
     "state": {
      "_model_module": "@jupyter-widgets/controls",
      "_model_module_version": "1.5.0",
      "_model_name": "DescriptionStyleModel",
      "_view_count": null,
      "_view_module": "@jupyter-widgets/base",
      "_view_module_version": "1.2.0",
      "_view_name": "StyleView",
      "description_width": ""
     }
    },
    "b2a19d1ba5e54048884adee46a58ed80": {
     "model_module": "@jupyter-widgets/base",
     "model_module_version": "1.2.0",
     "model_name": "LayoutModel",
     "state": {
      "_model_module": "@jupyter-widgets/base",
      "_model_module_version": "1.2.0",
      "_model_name": "LayoutModel",
      "_view_count": null,
      "_view_module": "@jupyter-widgets/base",
      "_view_module_version": "1.2.0",
      "_view_name": "LayoutView",
      "align_content": null,
      "align_items": null,
      "align_self": null,
      "border": null,
      "bottom": null,
      "display": null,
      "flex": null,
      "flex_flow": null,
      "grid_area": null,
      "grid_auto_columns": null,
      "grid_auto_flow": null,
      "grid_auto_rows": null,
      "grid_column": null,
      "grid_gap": null,
      "grid_row": null,
      "grid_template_areas": null,
      "grid_template_columns": null,
      "grid_template_rows": null,
      "height": null,
      "justify_content": null,
      "justify_items": null,
      "left": null,
      "margin": null,
      "max_height": null,
      "max_width": null,
      "min_height": null,
      "min_width": null,
      "object_fit": null,
      "object_position": null,
      "order": null,
      "overflow": null,
      "overflow_x": null,
      "overflow_y": null,
      "padding": null,
      "right": null,
      "top": null,
      "visibility": null,
      "width": null
     }
    },
    "c54d39bf63a44ca8a7b0c0d00bd8deb5": {
     "model_module": "@jupyter-widgets/base",
     "model_module_version": "1.2.0",
     "model_name": "LayoutModel",
     "state": {
      "_model_module": "@jupyter-widgets/base",
      "_model_module_version": "1.2.0",
      "_model_name": "LayoutModel",
      "_view_count": null,
      "_view_module": "@jupyter-widgets/base",
      "_view_module_version": "1.2.0",
      "_view_name": "LayoutView",
      "align_content": null,
      "align_items": null,
      "align_self": null,
      "border": null,
      "bottom": null,
      "display": null,
      "flex": null,
      "flex_flow": null,
      "grid_area": null,
      "grid_auto_columns": null,
      "grid_auto_flow": null,
      "grid_auto_rows": null,
      "grid_column": null,
      "grid_gap": null,
      "grid_row": null,
      "grid_template_areas": null,
      "grid_template_columns": null,
      "grid_template_rows": null,
      "height": null,
      "justify_content": null,
      "justify_items": null,
      "left": null,
      "margin": null,
      "max_height": null,
      "max_width": null,
      "min_height": null,
      "min_width": null,
      "object_fit": null,
      "object_position": null,
      "order": null,
      "overflow": null,
      "overflow_x": null,
      "overflow_y": null,
      "padding": null,
      "right": null,
      "top": null,
      "visibility": "hidden",
      "width": null
     }
    },
    "c650b3b8ba514f0b9709bfdf9545ddca": {
     "model_module": "@jupyter-widgets/base",
     "model_module_version": "1.2.0",
     "model_name": "LayoutModel",
     "state": {
      "_model_module": "@jupyter-widgets/base",
      "_model_module_version": "1.2.0",
      "_model_name": "LayoutModel",
      "_view_count": null,
      "_view_module": "@jupyter-widgets/base",
      "_view_module_version": "1.2.0",
      "_view_name": "LayoutView",
      "align_content": null,
      "align_items": null,
      "align_self": null,
      "border": null,
      "bottom": null,
      "display": null,
      "flex": null,
      "flex_flow": null,
      "grid_area": null,
      "grid_auto_columns": null,
      "grid_auto_flow": null,
      "grid_auto_rows": null,
      "grid_column": null,
      "grid_gap": null,
      "grid_row": null,
      "grid_template_areas": null,
      "grid_template_columns": null,
      "grid_template_rows": null,
      "height": null,
      "justify_content": null,
      "justify_items": null,
      "left": null,
      "margin": null,
      "max_height": null,
      "max_width": null,
      "min_height": null,
      "min_width": null,
      "object_fit": null,
      "object_position": null,
      "order": null,
      "overflow": null,
      "overflow_x": null,
      "overflow_y": null,
      "padding": null,
      "right": null,
      "top": null,
      "visibility": null,
      "width": null
     }
    },
    "c76764720a6f44dcb967ecce4c151faf": {
     "model_module": "@jupyter-widgets/controls",
     "model_module_version": "1.5.0",
     "model_name": "DescriptionStyleModel",
     "state": {
      "_model_module": "@jupyter-widgets/controls",
      "_model_module_version": "1.5.0",
      "_model_name": "DescriptionStyleModel",
      "_view_count": null,
      "_view_module": "@jupyter-widgets/base",
      "_view_module_version": "1.2.0",
      "_view_name": "StyleView",
      "description_width": ""
     }
    },
    "c9f2f317092848ed9585601925c7ecb5": {
     "model_module": "@jupyter-widgets/controls",
     "model_module_version": "1.5.0",
     "model_name": "DescriptionStyleModel",
     "state": {
      "_model_module": "@jupyter-widgets/controls",
      "_model_module_version": "1.5.0",
      "_model_name": "DescriptionStyleModel",
      "_view_count": null,
      "_view_module": "@jupyter-widgets/base",
      "_view_module_version": "1.2.0",
      "_view_name": "StyleView",
      "description_width": ""
     }
    },
    "d518b869420e45849a9c21840efae484": {
     "model_module": "@jupyter-widgets/controls",
     "model_module_version": "1.5.0",
     "model_name": "DescriptionStyleModel",
     "state": {
      "_model_module": "@jupyter-widgets/controls",
      "_model_module_version": "1.5.0",
      "_model_name": "DescriptionStyleModel",
      "_view_count": null,
      "_view_module": "@jupyter-widgets/base",
      "_view_module_version": "1.2.0",
      "_view_name": "StyleView",
      "description_width": ""
     }
    },
    "db110dfbde7d4bdf87c0200fc93fa44d": {
     "model_module": "@jupyter-widgets/base",
     "model_module_version": "1.2.0",
     "model_name": "LayoutModel",
     "state": {
      "_model_module": "@jupyter-widgets/base",
      "_model_module_version": "1.2.0",
      "_model_name": "LayoutModel",
      "_view_count": null,
      "_view_module": "@jupyter-widgets/base",
      "_view_module_version": "1.2.0",
      "_view_name": "LayoutView",
      "align_content": null,
      "align_items": null,
      "align_self": null,
      "border": null,
      "bottom": null,
      "display": null,
      "flex": null,
      "flex_flow": null,
      "grid_area": null,
      "grid_auto_columns": null,
      "grid_auto_flow": null,
      "grid_auto_rows": null,
      "grid_column": null,
      "grid_gap": null,
      "grid_row": null,
      "grid_template_areas": null,
      "grid_template_columns": null,
      "grid_template_rows": null,
      "height": null,
      "justify_content": null,
      "justify_items": null,
      "left": null,
      "margin": null,
      "max_height": null,
      "max_width": null,
      "min_height": null,
      "min_width": null,
      "object_fit": null,
      "object_position": null,
      "order": null,
      "overflow": null,
      "overflow_x": null,
      "overflow_y": null,
      "padding": null,
      "right": null,
      "top": null,
      "visibility": null,
      "width": null
     }
    },
    "dfec57bc90384adcb9e122edb0bccebc": {
     "model_module": "@jupyter-widgets/controls",
     "model_module_version": "1.5.0",
     "model_name": "HTMLModel",
     "state": {
      "_dom_classes": [],
      "_model_module": "@jupyter-widgets/controls",
      "_model_module_version": "1.5.0",
      "_model_name": "HTMLModel",
      "_view_count": null,
      "_view_module": "@jupyter-widgets/controls",
      "_view_module_version": "1.5.0",
      "_view_name": "HTMLView",
      "description": "",
      "description_tooltip": null,
      "layout": "IPY_MODEL_22d025d278634f8585ac8227e752d177",
      "placeholder": "​",
      "style": "IPY_MODEL_60499b5778ba4f6590d11beaf10de5e8",
      "value": " 186753/186753 [01:34&lt;00:00, 1428.48 examples/s]"
     }
    },
    "e0cc1cf6d0a942c3987f5ca2de7bf910": {
     "model_module": "@jupyter-widgets/controls",
     "model_module_version": "1.5.0",
     "model_name": "HTMLModel",
     "state": {
      "_dom_classes": [],
      "_model_module": "@jupyter-widgets/controls",
      "_model_module_version": "1.5.0",
      "_model_name": "HTMLModel",
      "_view_count": null,
      "_view_module": "@jupyter-widgets/controls",
      "_view_module_version": "1.5.0",
      "_view_name": "HTMLView",
      "description": "",
      "description_tooltip": null,
      "layout": "IPY_MODEL_b2a19d1ba5e54048884adee46a58ed80",
      "placeholder": "​",
      "style": "IPY_MODEL_d518b869420e45849a9c21840efae484",
      "value": " 300000/300000 [02:30&lt;00:00, 2392.64 examples/s]"
     }
    },
    "eeac483e4beb4e3896af7caea41c674d": {
     "model_module": "@jupyter-widgets/controls",
     "model_module_version": "1.5.0",
     "model_name": "ProgressStyleModel",
     "state": {
      "_model_module": "@jupyter-widgets/controls",
      "_model_module_version": "1.5.0",
      "_model_name": "ProgressStyleModel",
      "_view_count": null,
      "_view_module": "@jupyter-widgets/base",
      "_view_module_version": "1.2.0",
      "_view_name": "StyleView",
      "bar_color": null,
      "description_width": ""
     }
    },
    "f0074a44d3a4499881c56f89b6f68223": {
     "model_module": "@jupyter-widgets/controls",
     "model_module_version": "1.5.0",
     "model_name": "DescriptionStyleModel",
     "state": {
      "_model_module": "@jupyter-widgets/controls",
      "_model_module_version": "1.5.0",
      "_model_name": "DescriptionStyleModel",
      "_view_count": null,
      "_view_module": "@jupyter-widgets/base",
      "_view_module_version": "1.2.0",
      "_view_name": "StyleView",
      "description_width": ""
     }
    },
    "f07d75c06b9e4ba7a445bed142643e94": {
     "model_module": "@jupyter-widgets/base",
     "model_module_version": "1.2.0",
     "model_name": "LayoutModel",
     "state": {
      "_model_module": "@jupyter-widgets/base",
      "_model_module_version": "1.2.0",
      "_model_name": "LayoutModel",
      "_view_count": null,
      "_view_module": "@jupyter-widgets/base",
      "_view_module_version": "1.2.0",
      "_view_name": "LayoutView",
      "align_content": null,
      "align_items": null,
      "align_self": null,
      "border": null,
      "bottom": null,
      "display": null,
      "flex": null,
      "flex_flow": null,
      "grid_area": null,
      "grid_auto_columns": null,
      "grid_auto_flow": null,
      "grid_auto_rows": null,
      "grid_column": null,
      "grid_gap": null,
      "grid_row": null,
      "grid_template_areas": null,
      "grid_template_columns": null,
      "grid_template_rows": null,
      "height": null,
      "justify_content": null,
      "justify_items": null,
      "left": null,
      "margin": null,
      "max_height": null,
      "max_width": null,
      "min_height": null,
      "min_width": null,
      "object_fit": null,
      "object_position": null,
      "order": null,
      "overflow": null,
      "overflow_x": null,
      "overflow_y": null,
      "padding": null,
      "right": null,
      "top": null,
      "visibility": null,
      "width": null
     }
    },
    "f15fd9aeb5fd4178bd0af9c55ee28750": {
     "model_module": "@jupyter-widgets/controls",
     "model_module_version": "1.5.0",
     "model_name": "HBoxModel",
     "state": {
      "_dom_classes": [],
      "_model_module": "@jupyter-widgets/controls",
      "_model_module_version": "1.5.0",
      "_model_name": "HBoxModel",
      "_view_count": null,
      "_view_module": "@jupyter-widgets/controls",
      "_view_module_version": "1.5.0",
      "_view_name": "HBoxView",
      "box_style": "",
      "children": [
       "IPY_MODEL_36ea4a3c568f4831905834e5c5b0d03a",
       "IPY_MODEL_96f62dc6ed08480ab0758377d003a0a3",
       "IPY_MODEL_dfec57bc90384adcb9e122edb0bccebc"
      ],
      "layout": "IPY_MODEL_35b2002728b9472d869a90b58b064bcf"
     }
    },
    "f7210c082d0145bfbb9937861c4766be": {
     "model_module": "@jupyter-widgets/base",
     "model_module_version": "1.2.0",
     "model_name": "LayoutModel",
     "state": {
      "_model_module": "@jupyter-widgets/base",
      "_model_module_version": "1.2.0",
      "_model_name": "LayoutModel",
      "_view_count": null,
      "_view_module": "@jupyter-widgets/base",
      "_view_module_version": "1.2.0",
      "_view_name": "LayoutView",
      "align_content": null,
      "align_items": null,
      "align_self": null,
      "border": null,
      "bottom": null,
      "display": null,
      "flex": null,
      "flex_flow": null,
      "grid_area": null,
      "grid_auto_columns": null,
      "grid_auto_flow": null,
      "grid_auto_rows": null,
      "grid_column": null,
      "grid_gap": null,
      "grid_row": null,
      "grid_template_areas": null,
      "grid_template_columns": null,
      "grid_template_rows": null,
      "height": null,
      "justify_content": null,
      "justify_items": null,
      "left": null,
      "margin": null,
      "max_height": null,
      "max_width": null,
      "min_height": null,
      "min_width": null,
      "object_fit": null,
      "object_position": null,
      "order": null,
      "overflow": null,
      "overflow_x": null,
      "overflow_y": null,
      "padding": null,
      "right": null,
      "top": null,
      "visibility": null,
      "width": null
     }
    }
   }
  }
 },
 "nbformat": 4,
 "nbformat_minor": 4
}
