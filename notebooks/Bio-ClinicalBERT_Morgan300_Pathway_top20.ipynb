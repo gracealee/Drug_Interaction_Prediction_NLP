{
 "cells": [
  {
   "cell_type": "markdown",
   "metadata": {
    "id": "WJBcLN0Pbhb-"
   },
   "source": [
    "# Bio-BERT Transformer Trainer\n"
   ]
  },
  {
   "cell_type": "markdown",
   "metadata": {
    "id": "xXRFpxN6az7l"
   },
   "source": [
    "## Set Up"
   ]
  },
  {
   "cell_type": "code",
   "execution_count": 1,
   "metadata": {
    "colab": {
     "base_uri": "https://localhost:8080/"
    },
    "id": "Bzze1tEbzyZ0",
    "outputId": "4bfdc40d-4ad6-4fa1-b950-6281a13fe217"
   },
   "outputs": [],
   "source": [
    "# !pip install transformers datasets accelerate evaluate gensim==4.2.0 numpy==1.22.4 rdkit==2023.3.1"
   ]
  },
  {
   "cell_type": "code",
   "execution_count": 1,
   "metadata": {},
   "outputs": [
    {
     "name": "stdout",
     "output_type": "stream",
     "text": [
      "/home/ubuntu/capstone-project/notebooks\n"
     ]
    }
   ],
   "source": [
    "!pwd"
   ]
  },
  {
   "cell_type": "code",
   "execution_count": 3,
   "metadata": {
    "colab": {
     "base_uri": "https://localhost:8080/"
    },
    "id": "oPctZrfioRL2",
    "outputId": "a93f746f-6db7-4606-83d4-6ce59fc0737d"
   },
   "outputs": [
    {
     "name": "stdout",
     "output_type": "stream",
     "text": [
      "/home/ubuntu/capstone-project\n"
     ]
    }
   ],
   "source": [
    "# from google.colab import drive\n",
    "# drive.mount('/content/drive', force_remount=True)\n",
    "# cd drive/MyDrive/w210_Capstone/\n",
    "%cd .."
   ]
  },
  {
   "cell_type": "code",
   "execution_count": 4,
   "metadata": {
    "id": "tTc68Jv4qX-Z"
   },
   "outputs": [],
   "source": [
    "import torch\n",
    "import torch.nn as nn\n",
    "from torch.utils.data import Dataset, DataLoader, TensorDataset\n",
    "import torch.backends.cudnn as cudnn\n",
    "import torch.optim as optim\n",
    "\n",
    "from transformers import AutoTokenizer, AutoModel, Trainer, TrainingArguments, AutoConfig\n",
    "from transformers import AdamW, get_cosine_schedule_with_warmup\n",
    "from transformers import BertConfig, BertModel\n",
    "from datasets import load_metric, load_dataset\n",
    "\n",
    "import gensim\n",
    "import re\n",
    "import random\n",
    "import pandas as pd\n",
    "import seaborn as sns\n",
    "import numpy as np\n",
    "import matplotlib.pyplot as plt\n",
    "import pprint\n",
    "import os\n",
    "import shutil\n",
    "import time\n",
    "import datetime\n",
    "\n",
    "from sklearn import metrics\n",
    "from sklearn.metrics import confusion_matrix, classification_report\n",
    "from sklearn.metrics import precision_recall_curve, average_precision_score, auc\n",
    "\n",
    "# from logging import warning\n",
    "import warnings\n",
    "warnings.filterwarnings('ignore')"
   ]
  },
  {
   "cell_type": "code",
   "execution_count": 5,
   "metadata": {
    "colab": {
     "base_uri": "https://localhost:8080/"
    },
    "id": "T3R6Dk4z4aFV",
    "outputId": "69cf9163-496a-4314-f1bf-668ed0788719"
   },
   "outputs": [
    {
     "name": "stdout",
     "output_type": "stream",
     "text": [
      "Number of GPU(s) available: 1\n",
      "GPU device name: NVIDIA A10G\n"
     ]
    }
   ],
   "source": [
    "if torch.cuda.is_available():\n",
    "    device = \"cuda\"\n",
    "    print('Number of GPU(s) available:', torch.cuda.device_count())\n",
    "    print('GPU device name:', torch.cuda.get_device_name(0))\n",
    "\n",
    "else:\n",
    "    print('No GPU available')\n",
    "    device = \"cpu\""
   ]
  },
  {
   "cell_type": "code",
   "execution_count": 4,
   "metadata": {},
   "outputs": [
    {
     "data": {
      "application/vnd.jupyter.widget-view+json": {
       "model_id": "59e2d74cf26e4ff78145dcd5862e0e4d",
       "version_major": 2,
       "version_minor": 0
      },
      "text/plain": [
       "VBox(children=(HTML(value='<center> <img\\nsrc=https://huggingface.co/front/assets/huggingface_logo-noborder.sv…"
      ]
     },
     "metadata": {},
     "output_type": "display_data"
    }
   ],
   "source": [
    "from huggingface_hub import notebook_login\n",
    "\n",
    "notebook_login()"
   ]
  },
  {
   "cell_type": "code",
   "execution_count": 6,
   "metadata": {},
   "outputs": [],
   "source": [
    "RANDOM_SEED = 42\n",
    "np.random.seed(RANDOM_SEED)\n",
    "torch.manual_seed(RANDOM_SEED)\n",
    "torch.cuda.manual_seed_all(RANDOM_SEED)"
   ]
  },
  {
   "cell_type": "markdown",
   "metadata": {
    "id": "OFFMQfFsaNfa"
   },
   "source": [
    "## Bio-BERT with Trainer & Hugging Face"
   ]
  },
  {
   "cell_type": "markdown",
   "metadata": {
    "id": "ha7MK613sVtZ"
   },
   "source": [
    "### Build DataSet"
   ]
  },
  {
   "cell_type": "code",
   "execution_count": 6,
   "metadata": {},
   "outputs": [],
   "source": [
    "## Define hyperparameters\n",
    "BATCH_SIZE = 32\n",
    "EPOCHS = 4\n",
    "# LEARNING_RATE = 1e-3\n",
    "LEARNING_RATE = 0.01\n",
    "# LEARNING_RATE = 0.0963\n",
    "WEIGHT_DECAY = 1e-4\n",
    "# WEIGHT_DECAY = 0.01\n",
    "WORKERS = int(os.cpu_count())"
   ]
  },
  {
   "cell_type": "code",
   "execution_count": 7,
   "metadata": {
    "colab": {
     "base_uri": "https://localhost:8080/",
     "height": 87,
     "referenced_widgets": [
      "76ae6df4a5f846dc8d3871bc4b695b3a",
      "820536d02b474b34a0c14e26ae0129db",
      "99e02af33a854247ba87458257c55488",
      "196df6ab8c19433cb69b87303bfabb61",
      "f7210c082d0145bfbb9937861c4766be",
      "9a8e91550af74c2fbc753aed53708ba6",
      "a72fa699908a41f9b4036ec26515afd2",
      "db110dfbde7d4bdf87c0200fc93fa44d",
      "2d1e06c7c1a143d0886f43f3bf63dbe6",
      "a36d87bc8b034bf889bb6867eda2761e",
      "f0074a44d3a4499881c56f89b6f68223"
     ]
    },
    "id": "M5Z9Y31ZaaNW",
    "outputId": "6d338a6b-a2f0-4e67-a51c-f64092acaf58"
   },
   "outputs": [
    {
     "name": "stderr",
     "output_type": "stream",
     "text": [
      "Found cached dataset csv (/home/ubuntu/.cache/huggingface/datasets/csv/default-7c7fda65b4fd85b3/0.0.0/eea64c71ca8b46dd3f537ed218fc9bf495d5707789152eb2764f5c78fa66d59d)\n"
     ]
    },
    {
     "data": {
      "application/vnd.jupyter.widget-view+json": {
       "model_id": "0502cd00a4a947b499c66f0b497339f6",
       "version_major": 2,
       "version_minor": 0
      },
      "text/plain": [
       "  0%|          | 0/3 [00:00<?, ?it/s]"
      ]
     },
     "metadata": {},
     "output_type": "display_data"
    }
   ],
   "source": [
    "# Import data\n",
    "train_file = 'data/binary_ddi/ddi_train_balanced_150k.csv'\n",
    "dev_file = 'data/binary_ddi/ddi_val_binary.csv'\n",
    "test_file = 'data/binary_ddi/ddi_test_binary.csv'\n",
    "\n",
    "dataset = load_dataset('csv',\n",
    "                       sep=\"\\t\",\n",
    "                       data_files={'train': train_file, 'validation': dev_file,'test': test_file})"
   ]
  },
  {
   "cell_type": "code",
   "execution_count": 8,
   "metadata": {
    "colab": {
     "base_uri": "https://localhost:8080/"
    },
    "id": "-y5M5LKoicUv",
    "outputId": "668220e4-b264-433e-ef6d-1b29f7d2877f"
   },
   "outputs": [
    {
     "data": {
      "text/plain": [
       "DatasetDict({\n",
       "    train: Dataset({\n",
       "        features: ['d1', 'd2', 'd1_name', 'd2_name', 'interaction', 'interaction_type', 'severity', 'smiles1', 'smiles2'],\n",
       "        num_rows: 300000\n",
       "    })\n",
       "    validation: Dataset({\n",
       "        features: ['d1', 'd2', 'd1_name', 'd2_name', 'interaction', 'interaction_type', 'severity', 'smiles1', 'smiles2'],\n",
       "        num_rows: 238072\n",
       "    })\n",
       "    test: Dataset({\n",
       "        features: ['d1', 'd2', 'd1_name', 'd2_name', 'interaction', 'interaction_type', 'severity', 'smiles1', 'smiles2'],\n",
       "        num_rows: 186753\n",
       "    })\n",
       "})"
      ]
     },
     "execution_count": 8,
     "metadata": {},
     "output_type": "execute_result"
    }
   ],
   "source": [
    "dataset"
   ]
  },
  {
   "cell_type": "code",
   "execution_count": 10,
   "metadata": {
    "colab": {
     "base_uri": "https://localhost:8080/"
    },
    "id": "Xee1rWQnk9k_",
    "outputId": "dfed798d-5321-456c-bac3-fdfea6350d87"
   },
   "outputs": [
    {
     "name": "stdout",
     "output_type": "stream",
     "text": [
      "mean length of smiles1: 62.479706666666665\n",
      "min length of smiles1: 2\n",
      "max length of smiles1: 748\n",
      "mean length of smiles2: 62.77145\n",
      "min length of smiles2: 3\n",
      "max length of smiles2: 748\n",
      "Value Counts of Labels in Train Set:\n"
     ]
    },
    {
     "data": {
      "text/plain": [
       "interaction_type\n",
       "1    150000\n",
       "0    150000\n",
       "Name: count, dtype: int64"
      ]
     },
     "execution_count": 10,
     "metadata": {},
     "output_type": "execute_result"
    }
   ],
   "source": [
    "df_train = pd.read_csv(train_file, sep='\\t')\n",
    "df_dev = pd.read_csv(dev_file, sep='\\t')\n",
    "df_test = pd.read_csv(test_file, sep='\\t')\n",
    "print(f'''mean length of smiles1: {df_train['smiles1'].map(len).mean()}''')\n",
    "print(f'''min length of smiles1: {df_train['smiles1'].map(len).min()}''')\n",
    "print(f'''max length of smiles1: {df_train['smiles1'].map(len).max()}''')\n",
    "print(f'''mean length of smiles2: {df_train['smiles2'].map(len).mean()}''')\n",
    "print(f'''min length of smiles2: {df_train['smiles2'].map(len).min()}''')\n",
    "print(f'''max length of smiles2: {df_train['smiles2'].map(len).max()}''')\n",
    "print('Value Counts of Labels in Train Set:')\n",
    "df_train.interaction_type.value_counts()"
   ]
  },
  {
   "cell_type": "code",
   "execution_count": 8,
   "metadata": {},
   "outputs": [],
   "source": [
    "## Load the pre-trained BioBERT tokenizer\n",
    "# model_checkpoint = \"dmis-lab/biobert-base-cased-v1.1\"\n",
    "model_checkpoint = \"emilyalsentzer/Bio_ClinicalBERT\"\n",
    "\n",
    "# Tokenize & Pre-process Data\n",
    "tokenizer = AutoTokenizer.from_pretrained(model_checkpoint)"
   ]
  },
  {
   "cell_type": "code",
   "execution_count": 9,
   "metadata": {},
   "outputs": [],
   "source": [
    "from transformers import PretrainedConfig\n",
    "\n",
    "class BioClinicalBertConfig(PretrainedConfig):\n",
    "    model_type = \"bert\"\n",
    "\n",
    "    def __init__(\n",
    "        self,\n",
    "        hidden_size1: int = 68, \n",
    "        hidden_size2: int = 54, \n",
    "        hidden_size3: int = 40, \n",
    "        hidden3_dropout: float = 0.1, \n",
    "        unfreeze: bool = False,\n",
    "        layer_norm_eps: float = 1e-12,\n",
    "        pad_token_id: int = 0,\n",
    "        position_embedding_type: str = \"absolute\",\n",
    "        use_cache: bool = True,\n",
    "        **kwargs,\n",
    "    ):\n",
    "        self.hidden_size1 = hidden_size1\n",
    "        self.hidden_size2 = hidden_size2\n",
    "        self.hidden_size3 = hidden_size3\n",
    "        self.hidden3_dropout = hidden3_dropout\n",
    "        self.unfreeze = unfreeze\n",
    "        self.layer_norm_eps = layer_norm_eps\n",
    "        self.pad_token_id = pad_token_id\n",
    "        self.position_embedding_type = position_embedding_type\n",
    "        self.use_cache = use_cache\n",
    "        super().__init__(**kwargs)\n",
    "\n",
    "config = BioClinicalBertConfig.from_pretrained(\n",
    "    model_checkpoint,\n",
    "    label2id={\"NEGATIVE\": 0, \"POSITIVE\": 1},\n",
    "    id2label={0: \"NEGATIVE\", 1: \"POSITIVE\"},\n",
    "    unfreeze=False,\n",
    "    \n",
    ")"
   ]
  },
  {
   "cell_type": "code",
   "execution_count": 10,
   "metadata": {},
   "outputs": [
    {
     "name": "stdout",
     "output_type": "stream",
     "text": [
      "BioClinicalBertConfig {\n",
      "  \"attention_probs_dropout_prob\": 0.1,\n",
      "  \"hidden3_dropout\": 0.1,\n",
      "  \"hidden_act\": \"gelu\",\n",
      "  \"hidden_dropout_prob\": 0.1,\n",
      "  \"hidden_size\": 768,\n",
      "  \"hidden_size1\": 68,\n",
      "  \"hidden_size2\": 54,\n",
      "  \"hidden_size3\": 40,\n",
      "  \"id2label\": {\n",
      "    \"0\": \"NEGATIVE\",\n",
      "    \"1\": \"POSITIVE\"\n",
      "  },\n",
      "  \"initializer_range\": 0.02,\n",
      "  \"intermediate_size\": 3072,\n",
      "  \"label2id\": {\n",
      "    \"NEGATIVE\": 0,\n",
      "    \"POSITIVE\": 1\n",
      "  },\n",
      "  \"layer_norm_eps\": 1e-12,\n",
      "  \"max_position_embeddings\": 512,\n",
      "  \"model_type\": \"bert\",\n",
      "  \"num_attention_heads\": 12,\n",
      "  \"num_hidden_layers\": 12,\n",
      "  \"position_embedding_type\": \"absolute\",\n",
      "  \"transformers_version\": \"4.30.2\",\n",
      "  \"type_vocab_size\": 2,\n",
      "  \"unfreeze\": false,\n",
      "  \"use_cache\": true,\n",
      "  \"vocab_size\": 28996\n",
      "}\n",
      "\n"
     ]
    }
   ],
   "source": [
    "print(config)"
   ]
  },
  {
   "cell_type": "code",
   "execution_count": 11,
   "metadata": {
    "id": "LLoQ-3MNiqbg"
   },
   "outputs": [],
   "source": [
    "# Create Combined SMILES column, seperated by [SEP] token between SMILES1 & SMILES2\n",
    "def preprocess_data(examples):\n",
    "    source_inputs = []\n",
    "    for sm1, sm2 in zip(examples['smiles1'], examples['smiles2']):\n",
    "        # Ensure feeding both smile 1 & smiles 2 into input by truncating if the smiles are too loong\n",
    "        source_input = \"[CLS]\" + sm1[:250] + \"[SEP]\" + sm2[:250] + \"[SEP]\"\n",
    "        source_inputs.append(source_input)\n",
    "    model_inputs = tokenizer(source_inputs,\n",
    "                             max_length=512,\n",
    "                             padding=\"max_length\",\n",
    "                             truncation=True,\n",
    "                             return_token_type_ids=False,\n",
    "                             return_tensors='pt'\n",
    "                             )\n",
    "\n",
    "    model_inputs[\"labels\"] = examples['interaction_type']\n",
    "\n",
    "    return model_inputs"
   ]
  },
  {
   "cell_type": "code",
   "execution_count": 12,
   "metadata": {
    "colab": {
     "base_uri": "https://localhost:8080/",
     "height": 17,
     "referenced_widgets": [
      "5818bab97ad94b5c93e774e6c9c545d8",
      "097ef633e83343e1a40a0b860b0279b4",
      "98a98588193948c38b3727d35a1ee0bf",
      "e0cc1cf6d0a942c3987f5ca2de7bf910",
      "6dba82586eeb4cd193f857706bf21dbd",
      "898055f1e82d4188abb75beac211ff3b",
      "007b1fb1d03d433387c5f394485d75cd",
      "f07d75c06b9e4ba7a445bed142643e94",
      "757c7f1330184e7d95008950c805ccb0",
      "b2a19d1ba5e54048884adee46a58ed80",
      "d518b869420e45849a9c21840efae484",
      "404bfceb697342a3a2f90db43fc79aac",
      "20c0885b542d4592bc82f9dbc95f2967",
      "6ed68724fa3443f0a01911b77fd76c17",
      "8bb576c1c5444ebb8eb1390468720f9d",
      "c54d39bf63a44ca8a7b0c0d00bd8deb5",
      "56a0098d47674ae09cb4c412345a4468",
      "c76764720a6f44dcb967ecce4c151faf",
      "137bb4b8f3fb41c8a6b7f4dac3c5472b",
      "eeac483e4beb4e3896af7caea41c674d",
      "c650b3b8ba514f0b9709bfdf9545ddca",
      "c9f2f317092848ed9585601925c7ecb5",
      "f15fd9aeb5fd4178bd0af9c55ee28750",
      "36ea4a3c568f4831905834e5c5b0d03a",
      "96f62dc6ed08480ab0758377d003a0a3",
      "dfec57bc90384adcb9e122edb0bccebc",
      "35b2002728b9472d869a90b58b064bcf",
      "1c613814b0ce4d348f8d4c5d4f547324",
      "af8e311a99774dbe9f814aa242772264",
      "6050f464fa194b3b9f44b9fb1d563c6f",
      "03b91f9d7549487f8a108585a6a45a24",
      "22d025d278634f8585ac8227e752d177",
      "60499b5778ba4f6590d11beaf10de5e8"
     ]
    },
    "id": "7oIAe5EBjiaX",
    "outputId": "b158da6c-4bee-4a16-df56-c755694b2c19"
   },
   "outputs": [
    {
     "name": "stderr",
     "output_type": "stream",
     "text": [
      "Loading cached processed dataset at /home/ubuntu/.cache/huggingface/datasets/csv/default-7c7fda65b4fd85b3/0.0.0/eea64c71ca8b46dd3f537ed218fc9bf495d5707789152eb2764f5c78fa66d59d/cache-302195fe960a0721.arrow\n"
     ]
    },
    {
     "data": {
      "application/vnd.jupyter.widget-view+json": {
       "model_id": "",
       "version_major": 2,
       "version_minor": 0
      },
      "text/plain": [
       "Map:   0%|          | 0/238072 [00:00<?, ? examples/s]"
      ]
     },
     "metadata": {},
     "output_type": "display_data"
    },
    {
     "name": "stderr",
     "output_type": "stream",
     "text": [
      "Loading cached processed dataset at /home/ubuntu/.cache/huggingface/datasets/csv/default-7c7fda65b4fd85b3/0.0.0/eea64c71ca8b46dd3f537ed218fc9bf495d5707789152eb2764f5c78fa66d59d/cache-88c4a77060bf653b.arrow\n"
     ]
    },
    {
     "data": {
      "text/plain": [
       "Dataset({\n",
       "    features: ['input_ids', 'attention_mask', 'labels'],\n",
       "    num_rows: 30000\n",
       "})"
      ]
     },
     "execution_count": 12,
     "metadata": {},
     "output_type": "execute_result"
    }
   ],
   "source": [
    "encoded_train_ds = dataset['train'].map(preprocess_data, batched=True, remove_columns=dataset['train'].column_names)\n",
    "encoded_val_ds_full = dataset['validation'].map(preprocess_data, batched=True, remove_columns=dataset['validation'].column_names)\n",
    "encoded_val_ds = encoded_val_ds_full.select(indices=range(30000))  # Subset to smaller valset for faster training\n",
    "encoded_test_ds = dataset['test'].map(preprocess_data, batched=True, remove_columns=dataset['test'].column_names)\n",
    "\n",
    "encoded_val_ds"
   ]
  },
  {
   "cell_type": "code",
   "execution_count": 13,
   "metadata": {},
   "outputs": [
    {
     "data": {
      "text/plain": [
       "1"
      ]
     },
     "execution_count": 13,
     "metadata": {},
     "output_type": "execute_result"
    }
   ],
   "source": [
    "encoded_val_ds[0]['labels']"
   ]
  },
  {
   "cell_type": "code",
   "execution_count": 15,
   "metadata": {},
   "outputs": [
    {
     "data": {
      "text/plain": [
       "2343.75"
      ]
     },
     "execution_count": 15,
     "metadata": {},
     "output_type": "execute_result"
    }
   ],
   "source": [
    "len(encoded_train_ds)/BATCH_SIZE"
   ]
  },
  {
   "cell_type": "markdown",
   "metadata": {
    "id": "Xy16VEjasbQP"
   },
   "source": [
    "### Build Model, Set up Trainer"
   ]
  },
  {
   "cell_type": "code",
   "execution_count": 13,
   "metadata": {
    "id": "31jV6ksxreLS"
   },
   "outputs": [],
   "source": [
    "from transformers import BertPreTrainedModel, BertModel\n",
    "\n",
    "class BioClinicalBertClassification(BertPreTrainedModel):\n",
    "    config_class = BioClinicalBertConfig\n",
    "    \n",
    "    def __init__(self, config, num_labels=2):\n",
    "        super(BioClinicalBertClassification, self).__init__(config)\n",
    "        self.bert_model = BertModel(config=config)\n",
    "        self.num_labels = num_labels\n",
    "\n",
    "        # Unfreeze the last BERT transformer layer\n",
    "        if config.unfreeze == \"last layer\":\n",
    "            for name, param in self.bert_model.named_parameters():\n",
    "                if 'bert_model.encoder.layer.11' in name:\n",
    "                    param.requires_grad = True\n",
    "                else:\n",
    "                    param.requires_grad = False\n",
    "        if config.unfreeze == \"all layers\":\n",
    "            for name, param in self.bert_model.named_parameters():\n",
    "                param.requires_grad = True\n",
    "        else:\n",
    "            for name, param in self.bert_model.named_parameters():\n",
    "                param.requires_grad = False\n",
    "\n",
    "        self.bert_hidden_size = self.bert_model.config.hidden_size\n",
    "        self.hidden_layer = nn.Linear(self.bert_hidden_size, config.hidden_size1)\n",
    "        self.hidden_layer2 = nn.Linear(config.hidden_size1, config.hidden_size2)\n",
    "        self.hidden_layer3 = nn.Linear(config.hidden_size2, config.hidden_size3)\n",
    "\n",
    "        self.drop_out = nn.Dropout(config.hidden3_dropout)\n",
    "\n",
    "        if self.num_labels >= 2:\n",
    "            self.classification = nn.Linear(config.hidden_size3, self.num_labels)\n",
    "        else:\n",
    "            self.classification = nn.Linear(config.hidden_size3, 1)\n",
    "            \n",
    "        self.GeLU = nn.GELU()\n",
    "        self.Sigmoid = nn.Sigmoid()\n",
    "\n",
    "    def forward(self, input_ids=None, attention_mask=None, labels=None):\n",
    "        bert_output = self.bert_model(input_ids=input_ids,\n",
    "                                      attention_mask=attention_mask)\n",
    "        \n",
    "        # pooler_token = bert_output[1]\n",
    "        pooler_token = bert_output[0][:,0]\n",
    "\n",
    "        hidden_ouput = self.GeLU(self.hidden_layer(pooler_token))\n",
    "        hidden_ouput = self.drop_out(hidden_ouput)\n",
    "        hidden_ouput = self.GeLU(self.hidden_layer2(hidden_ouput))\n",
    "        hidden_ouput = self.drop_out(hidden_ouput)\n",
    "        hidden_ouput = self.GeLU(self.hidden_layer3(hidden_ouput))\n",
    "        hidden_ouput = self.drop_out(hidden_ouput)      \n",
    "\n",
    "        if self.num_labels >= 2:\n",
    "            logits = self.classification(hidden_ouput)\n",
    "\n",
    "        else:           \n",
    "            logits = self.Sigmoid(self.classification(hidden_ouput))\n",
    "            logits = logits.flatten()\n",
    "        \n",
    "        if self.num_labels == 1 and labels is not None:\n",
    "            loss_fct = nn.BCELoss()\n",
    "            loss = loss_fct(logits, labels.float())\n",
    "            return {\"loss\": loss, \"logits\": logits}\n",
    "        \n",
    "        if self.num_labels >= 2 and labels is not None:\n",
    "            loss_fct = nn.CrossEntropyLoss()\n",
    "            loss = loss_fct(logits.view(-1, self.num_labels), labels.view(-1))\n",
    "            return {\"loss\": loss, \"logits\": logits}\n",
    "\n",
    "        return {\"logits\": logits}"
   ]
  },
  {
   "cell_type": "code",
   "execution_count": 14,
   "metadata": {},
   "outputs": [],
   "source": [
    "BioClinicalBertConfig.register_for_auto_class()\n",
    "BioClinicalBertClassification.register_for_auto_class(\"AutoModelForSequenceClassification\")"
   ]
  },
  {
   "cell_type": "code",
   "execution_count": 15,
   "metadata": {
    "colab": {
     "base_uri": "https://localhost:8080/"
    },
    "id": "sdVLCLOBzgdO",
    "outputId": "9fefd8b5-95c2-4dc4-8477-1cfcab1aa389"
   },
   "outputs": [
    {
     "data": {
      "text/plain": [
       "Metric(name: \"glue\", features: {'predictions': Value(dtype='int64', id=None), 'references': Value(dtype='int64', id=None)}, usage: \"\"\"\n",
       "Compute GLUE evaluation metric associated to each GLUE dataset.\n",
       "Args:\n",
       "    predictions: list of predictions to score.\n",
       "        Each translation should be tokenized into a list of tokens.\n",
       "    references: list of lists of references for each translation.\n",
       "        Each reference should be tokenized into a list of tokens.\n",
       "Returns: depending on the GLUE subset, one or several of:\n",
       "    \"accuracy\": Accuracy\n",
       "    \"f1\": F1 score\n",
       "    \"pearson\": Pearson Correlation\n",
       "    \"spearmanr\": Spearman Correlation\n",
       "    \"matthews_correlation\": Matthew Correlation\n",
       "Examples:\n",
       "\n",
       "    >>> glue_metric = datasets.load_metric('glue', 'sst2')  # 'sst2' or any of [\"mnli\", \"mnli_mismatched\", \"mnli_matched\", \"qnli\", \"rte\", \"wnli\", \"hans\"]\n",
       "    >>> references = [0, 1]\n",
       "    >>> predictions = [0, 1]\n",
       "    >>> results = glue_metric.compute(predictions=predictions, references=references)\n",
       "    >>> print(results)\n",
       "    {'accuracy': 1.0}\n",
       "\n",
       "    >>> glue_metric = datasets.load_metric('glue', 'mrpc')  # 'mrpc' or 'qqp'\n",
       "    >>> references = [0, 1]\n",
       "    >>> predictions = [0, 1]\n",
       "    >>> results = glue_metric.compute(predictions=predictions, references=references)\n",
       "    >>> print(results)\n",
       "    {'accuracy': 1.0, 'f1': 1.0}\n",
       "\n",
       "    >>> glue_metric = datasets.load_metric('glue', 'stsb')\n",
       "    >>> references = [0., 1., 2., 3., 4., 5.]\n",
       "    >>> predictions = [0., 1., 2., 3., 4., 5.]\n",
       "    >>> results = glue_metric.compute(predictions=predictions, references=references)\n",
       "    >>> print({\"pearson\": round(results[\"pearson\"], 2), \"spearmanr\": round(results[\"spearmanr\"], 2)})\n",
       "    {'pearson': 1.0, 'spearmanr': 1.0}\n",
       "\n",
       "    >>> glue_metric = datasets.load_metric('glue', 'cola')\n",
       "    >>> references = [0, 1]\n",
       "    >>> predictions = [0, 1]\n",
       "    >>> results = glue_metric.compute(predictions=predictions, references=references)\n",
       "    >>> print(results)\n",
       "    {'matthews_correlation': 1.0}\n",
       "\"\"\", stored examples: 0)"
      ]
     },
     "execution_count": 15,
     "metadata": {},
     "output_type": "execute_result"
    }
   ],
   "source": [
    "# Load Metric\n",
    "metric = load_metric('glue', 'sst2')\n",
    "metric"
   ]
  },
  {
   "cell_type": "code",
   "execution_count": 16,
   "metadata": {
    "colab": {
     "base_uri": "https://localhost:8080/"
    },
    "id": "qT2dFzLK12bl",
    "outputId": "226669f4-7c34-4b22-ac25-f615ae402c92"
   },
   "outputs": [
    {
     "data": {
      "text/plain": [
       "{'accuracy': 0.53125}"
      ]
     },
     "execution_count": 16,
     "metadata": {},
     "output_type": "execute_result"
    }
   ],
   "source": [
    "# Test metric calculation\n",
    "fake_preds = np.random.randint(0, 2, size=(64,))\n",
    "fake_labels = np.random.randint(0, 2, size=(64,))\n",
    "metric.compute(predictions=fake_preds, references=fake_labels)"
   ]
  },
  {
   "cell_type": "code",
   "execution_count": 17,
   "metadata": {},
   "outputs": [],
   "source": [
    "def compute_metrics(eval_pred, num_labels=2):\n",
    "    predictions, labels = eval_pred\n",
    "        \n",
    "    if num_labels >= 2:\n",
    "        # probability\n",
    "        # softmax = np.exp(predictions) / np.sum(np.exp(predictions), axis=1, keepdims=True)\n",
    "        # scores = softmax[:, 1]\n",
    "        predictions = np.argmax(predictions, axis=1)\n",
    "    else:\n",
    "        predictions =(np.array(predictions) >= 0.5).astype(float)\n",
    "        # scores = np.array(predictions)\n",
    "\n",
    "    # Accuracy\n",
    "    result = metric.compute(predictions=predictions, references=labels)\n",
    "\n",
    "    # Add F2 Score\n",
    "    result[\"f2\"] = metrics.fbeta_score(labels, predictions, average=\"binary\", pos_label=1, beta=2)\n",
    "\n",
    "    # Add Recall\n",
    "    result[\"recall\"] = metrics.recall_score(labels, predictions, average=\"binary\", pos_label=1)\n",
    "\n",
    "    # Add Precision\n",
    "    result[\"precision\"] = metrics.precision_score(labels, predictions, average=\"binary\", pos_label=1)\n",
    "\n",
    "    # Matthew Correlation\n",
    "    result[\"mcc\"] = metrics.matthews_corrcoef(labels, predictions)\n",
    "\n",
    "    # Area Under Precision, Recall Curve\n",
    "    # precisions, recalls, thresholds = precision_recall_curve(labels, scores)\n",
    "    # result[\"AUPRC\"] = auc(precisions, recalls)\n",
    "    \n",
    "    return {k: round(v, 4) for k, v in result.items()}"
   ]
  },
  {
   "cell_type": "code",
   "execution_count": 18,
   "metadata": {
    "id": "NuIuh85eGQ1D"
   },
   "outputs": [],
   "source": [
    "# Clear out cuda before training\n",
    "torch.cuda.empty_cache()"
   ]
  },
  {
   "cell_type": "code",
   "execution_count": 19,
   "metadata": {
    "colab": {
     "base_uri": "https://localhost:8080/"
    },
    "id": "udBZi20U5TCz",
    "outputId": "491c340e-92ae-4296-bcea-b58d835e4d34"
   },
   "outputs": [
    {
     "name": "stdout",
     "output_type": "stream",
     "text": [
      "bert_model.encoder.layer.11.attention.output.dense.weight   (768, 768)\n",
      "bert_model.encoder.layer.11.attention.output.dense.bias       (768,)\n",
      "bert_model.encoder.layer.11.attention.output.LayerNorm.weight       (768,)\n",
      "bert_model.encoder.layer.11.attention.output.LayerNorm.bias       (768,)\n",
      "bert_model.encoder.layer.11.intermediate.dense.weight    (3072, 768)\n",
      "bert_model.encoder.layer.11.intermediate.dense.bias          (3072,)\n",
      "bert_model.encoder.layer.11.output.dense.weight          (768, 3072)\n",
      "bert_model.encoder.layer.11.output.dense.bias                 (768,)\n",
      "bert_model.encoder.layer.11.output.LayerNorm.weight           (768,)\n",
      "bert_model.encoder.layer.11.output.LayerNorm.bias             (768,)\n",
      "bert_model.pooler.dense.weight                            (768, 768)\n",
      "bert_model.pooler.dense.bias                                  (768,)\n",
      "hidden_layer.weight                                        (68, 768)\n",
      "hidden_layer.bias                                              (68,)\n",
      "hidden_layer2.weight                                        (54, 68)\n",
      "hidden_layer2.bias                                             (54,)\n",
      "hidden_layer3.weight                                        (40, 54)\n",
      "hidden_layer3.bias                                             (40,)\n",
      "classification.weight                                        (2, 40)\n",
      "classification.bias                                             (2,)\n",
      "Number of steps: 37500\n"
     ]
    }
   ],
   "source": [
    "# Model Initilization\n",
    "model = BioClinicalBertClassification(config)\n",
    "\n",
    "# # Pretrain model weights\n",
    "# pretrained_model = AutoModel.from_pretrained(model_checkpoint)\n",
    "# # Load pre-train weights to BioBert model\n",
    "# model.bert_model.load_state_dict(pretrained_model.state_dict())\n",
    "\n",
    "# Load training weights checkpoint, for continue training\n",
    "# pretrained_weights = torch.load('models/BioBERTFrozen.pth')\n",
    "pretrained_weights = torch.load('models/Bio_ClinicalBERT_DDI_2heads2.pth')\n",
    "model.load_state_dict(pretrained_weights )\n",
    "\n",
    "\n",
    "\n",
    "# from transformers import AutoModelForSequenceClassification\n",
    "# model = AutoModelForSequenceClassification.from_pretrained(\n",
    "#     model_checkpoint, config=config\n",
    "# )\n",
    "\n",
    "# Print out models params for checking\n",
    "params = list(model.named_parameters())\n",
    "for p in params[-20:]:\n",
    "    print(\"{:<55} {:>12}\".format(p[0], str(tuple(p[1].size()))))\n",
    "\n",
    "# Optimizer & Schedular\n",
    "# optimizer = AdamW(model.parameters(), lr=LEARNING_RATE, \n",
    "#                   weight_decay=WEIGHT_DECAY)\n",
    "# scheduler = get_cosine_schedule_with_warmup(optimizer,\n",
    "#                                             num_warmup_steps=10,\n",
    "#                                             num_training_steps=30000)\n",
    "\n",
    "# Optimizer\n",
    "optimizer = optim.Adadelta(model.parameters(), lr=LEARNING_RATE, weight_decay=WEIGHT_DECAY)\n",
    "\n",
    "# Create learning rate scheduler.\n",
    "T_max = round(EPOCHS*len(encoded_train_ds)/BATCH_SIZE)\n",
    "print('Number of steps:', T_max)\n",
    "scheduler = optim.lr_scheduler.CosineAnnealingLR(optimizer, T_max=T_max)"
   ]
  },
  {
   "cell_type": "markdown",
   "metadata": {
    "id": "SK4dmr6bAQ_l"
   },
   "source": [
    "### Training with Trainer"
   ]
  },
  {
   "cell_type": "code",
   "execution_count": 20,
   "metadata": {
    "id": "QJjQAs32vvaN"
   },
   "outputs": [],
   "source": [
    "# Training Arguments\n",
    "model_dir = \"Bio_ClinicalBERT_DDI_finetuned\"\n",
    "\n",
    "args = TrainingArguments(\n",
    "    output_dir=model_dir,\n",
    "    overwrite_output_dir=True,\n",
    "    do_train=True,\n",
    "    evaluation_strategy=\"epoch\",\n",
    "    save_strategy=\"epoch\",\n",
    "    # evaluation_strategy=\"steps\",\n",
    "    # eval_steps=1000,\n",
    "    # logging_strategy=\"steps\",\n",
    "    # logging_steps=1000,\n",
    "    learning_rate=LEARNING_RATE,\n",
    "    per_device_train_batch_size=BATCH_SIZE,\n",
    "    per_device_eval_batch_size=BATCH_SIZE,\n",
    "    weight_decay=WEIGHT_DECAY,\n",
    "    num_train_epochs=EPOCHS,\n",
    "    load_best_model_at_end=True,\n",
    "    metric_for_best_model=\"accuracy\",\n",
    "    remove_unused_columns=True,\n",
    "    push_to_hub=True,\n",
    ")"
   ]
  },
  {
   "cell_type": "code",
   "execution_count": 21,
   "metadata": {
    "id": "s_VoRJsF6e2A"
   },
   "outputs": [
    {
     "name": "stderr",
     "output_type": "stream",
     "text": [
      "/home/ubuntu/capstone-project/Bio_ClinicalBERT_DDI_finetuned is already a clone of https://huggingface.co/ltmai/Bio_ClinicalBERT_DDI_finetuned. Make sure you pull the latest changes with `repo.git_pull()`.\n"
     ]
    }
   ],
   "source": [
    "trainer = Trainer(\n",
    "    model,\n",
    "    args,\n",
    "    train_dataset=encoded_train_ds,\n",
    "    eval_dataset=encoded_val_ds,\n",
    "    tokenizer=tokenizer,\n",
    "    optimizers=(optimizer, scheduler),\n",
    "    compute_metrics=compute_metrics,\n",
    ")"
   ]
  },
  {
   "cell_type": "code",
   "execution_count": 27,
   "metadata": {},
   "outputs": [
    {
     "name": "stderr",
     "output_type": "stream",
     "text": [
      "You're using a BertTokenizerFast tokenizer. Please note that with a fast tokenizer, using the `__call__` method is faster than using a method to encode the text followed by a call to the `pad` method to get a padded encoding.\n"
     ]
    },
    {
     "data": {
      "text/html": [
       "\n",
       "    <div>\n",
       "      \n",
       "      <progress value='469' max='469' style='width:300px; height:20px; vertical-align: middle;'></progress>\n",
       "      [469/469 04:32]\n",
       "    </div>\n",
       "    "
      ],
      "text/plain": [
       "<IPython.core.display.HTML object>"
      ]
     },
     "metadata": {},
     "output_type": "display_data"
    },
    {
     "data": {
      "text/plain": [
       "{'eval_loss': 0.683655321598053,\n",
       " 'eval_accuracy': 0.5625,\n",
       " 'eval_f2': 0.8649,\n",
       " 'eval_recall': 0.9991,\n",
       " 'eval_precision': 0.5626,\n",
       " 'eval_mcc': -0.0005,\n",
       " 'eval_runtime': 274.3033,\n",
       " 'eval_samples_per_second': 109.368,\n",
       " 'eval_steps_per_second': 1.71}"
      ]
     },
     "execution_count": 27,
     "metadata": {},
     "output_type": "execute_result"
    }
   ],
   "source": [
    "# Starting metrics from last checkpoint training\n",
    "# EVALUATION BEFORE TRAINING\n",
    "trainer.evaluate()"
   ]
  },
  {
   "cell_type": "code",
   "execution_count": 22,
   "metadata": {
    "colab": {
     "base_uri": "https://localhost:8080/",
     "height": 907
    },
    "id": "ZjDRxNmC_-wL",
    "outputId": "1a60180c-50f4-49da-9f8a-2d40aa58fddc",
    "scrolled": true
   },
   "outputs": [
    {
     "name": "stderr",
     "output_type": "stream",
     "text": [
      "You're using a BertTokenizerFast tokenizer. Please note that with a fast tokenizer, using the `__call__` method is faster than using a method to encode the text followed by a call to the `pad` method to get a padded encoding.\n"
     ]
    },
    {
     "data": {
      "text/html": [
       "\n",
       "    <div>\n",
       "      \n",
       "      <progress value='37500' max='37500' style='width:300px; height:20px; vertical-align: middle;'></progress>\n",
       "      [37500/37500 3:42:04, Epoch 4/4]\n",
       "    </div>\n",
       "    <table border=\"1\" class=\"dataframe\">\n",
       "  <thead>\n",
       " <tr style=\"text-align: left;\">\n",
       "      <th>Epoch</th>\n",
       "      <th>Training Loss</th>\n",
       "      <th>Validation Loss</th>\n",
       "      <th>Accuracy</th>\n",
       "      <th>F2</th>\n",
       "      <th>Recall</th>\n",
       "      <th>Precision</th>\n",
       "      <th>Mcc</th>\n",
       "    </tr>\n",
       "  </thead>\n",
       "  <tbody>\n",
       "    <tr>\n",
       "      <td>1</td>\n",
       "      <td>0.678500</td>\n",
       "      <td>0.685292</td>\n",
       "      <td>0.555000</td>\n",
       "      <td>0.717400</td>\n",
       "      <td>0.762900</td>\n",
       "      <td>0.579400</td>\n",
       "      <td>0.057200</td>\n",
       "    </tr>\n",
       "    <tr>\n",
       "      <td>2</td>\n",
       "      <td>0.676800</td>\n",
       "      <td>0.686711</td>\n",
       "      <td>0.551900</td>\n",
       "      <td>0.688000</td>\n",
       "      <td>0.720800</td>\n",
       "      <td>0.582200</td>\n",
       "      <td>0.059800</td>\n",
       "    </tr>\n",
       "    <tr>\n",
       "      <td>3</td>\n",
       "      <td>0.677700</td>\n",
       "      <td>0.687498</td>\n",
       "      <td>0.550100</td>\n",
       "      <td>0.670300</td>\n",
       "      <td>0.696100</td>\n",
       "      <td>0.584000</td>\n",
       "      <td>0.061600</td>\n",
       "    </tr>\n",
       "    <tr>\n",
       "      <td>4</td>\n",
       "      <td>0.679000</td>\n",
       "      <td>0.687751</td>\n",
       "      <td>0.548200</td>\n",
       "      <td>0.658300</td>\n",
       "      <td>0.679800</td>\n",
       "      <td>0.584700</td>\n",
       "      <td>0.061200</td>\n",
       "    </tr>\n",
       "  </tbody>\n",
       "</table><p>"
      ],
      "text/plain": [
       "<IPython.core.display.HTML object>"
      ]
     },
     "metadata": {},
     "output_type": "display_data"
    },
    {
     "name": "stderr",
     "output_type": "stream",
     "text": [
      "We can't save the code defining BioClinicalBertClassification(\n",
      "  (bert_model): BertModel(\n",
      "    (embeddings): BertEmbeddings(\n",
      "      (word_embeddings): Embedding(28996, 768)\n",
      "      (position_embeddings): Embedding(512, 768)\n",
      "      (token_type_embeddings): Embedding(2, 768)\n",
      "      (LayerNorm): LayerNorm((768,), eps=1e-12, elementwise_affine=True)\n",
      "      (dropout): Dropout(p=0.1, inplace=False)\n",
      "    )\n",
      "    (encoder): BertEncoder(\n",
      "      (layer): ModuleList(\n",
      "        (0-11): 12 x BertLayer(\n",
      "          (attention): BertAttention(\n",
      "            (self): BertSelfAttention(\n",
      "              (query): Linear(in_features=768, out_features=768, bias=True)\n",
      "              (key): Linear(in_features=768, out_features=768, bias=True)\n",
      "              (value): Linear(in_features=768, out_features=768, bias=True)\n",
      "              (dropout): Dropout(p=0.1, inplace=False)\n",
      "            )\n",
      "            (output): BertSelfOutput(\n",
      "              (dense): Linear(in_features=768, out_features=768, bias=True)\n",
      "              (LayerNorm): LayerNorm((768,), eps=1e-12, elementwise_affine=True)\n",
      "              (dropout): Dropout(p=0.1, inplace=False)\n",
      "            )\n",
      "          )\n",
      "          (intermediate): BertIntermediate(\n",
      "            (dense): Linear(in_features=768, out_features=3072, bias=True)\n",
      "            (intermediate_act_fn): GELUActivation()\n",
      "          )\n",
      "          (output): BertOutput(\n",
      "            (dense): Linear(in_features=3072, out_features=768, bias=True)\n",
      "            (LayerNorm): LayerNorm((768,), eps=1e-12, elementwise_affine=True)\n",
      "            (dropout): Dropout(p=0.1, inplace=False)\n",
      "          )\n",
      "        )\n",
      "      )\n",
      "    )\n",
      "    (pooler): BertPooler(\n",
      "      (dense): Linear(in_features=768, out_features=768, bias=True)\n",
      "      (activation): Tanh()\n",
      "    )\n",
      "  )\n",
      "  (hidden_layer): Linear(in_features=768, out_features=68, bias=True)\n",
      "  (hidden_layer2): Linear(in_features=68, out_features=54, bias=True)\n",
      "  (hidden_layer3): Linear(in_features=54, out_features=40, bias=True)\n",
      "  (drop_out): Dropout(p=0.1, inplace=False)\n",
      "  (classification): Linear(in_features=40, out_features=2, bias=True)\n",
      "  (GeLU): GELU(approximate='none')\n",
      "  (Sigmoid): Sigmoid()\n",
      ") in Bio_ClinicalBERT_DDI_finetuned/checkpoint-9375 as it's been defined in __main__. You should put this code in a separate module so we can include it in the saved folder and make it easier to share via the Hub.\n",
      "We can't save the code defining BioClinicalBertConfig {\n",
      "  \"architectures\": [\n",
      "    \"BioClinicalBertClassification\"\n",
      "  ],\n",
      "  \"attention_probs_dropout_prob\": 0.1,\n",
      "  \"hidden3_dropout\": 0.1,\n",
      "  \"hidden_act\": \"gelu\",\n",
      "  \"hidden_dropout_prob\": 0.1,\n",
      "  \"hidden_size\": 768,\n",
      "  \"hidden_size1\": 68,\n",
      "  \"hidden_size2\": 54,\n",
      "  \"hidden_size3\": 40,\n",
      "  \"id2label\": {\n",
      "    \"0\": \"NEGATIVE\",\n",
      "    \"1\": \"POSITIVE\"\n",
      "  },\n",
      "  \"initializer_range\": 0.02,\n",
      "  \"intermediate_size\": 3072,\n",
      "  \"label2id\": {\n",
      "    \"NEGATIVE\": 0,\n",
      "    \"POSITIVE\": 1\n",
      "  },\n",
      "  \"layer_norm_eps\": 1e-12,\n",
      "  \"max_position_embeddings\": 512,\n",
      "  \"model_type\": \"bert\",\n",
      "  \"num_attention_heads\": 12,\n",
      "  \"num_hidden_layers\": 12,\n",
      "  \"position_embedding_type\": \"absolute\",\n",
      "  \"torch_dtype\": \"float32\",\n",
      "  \"transformers_version\": \"4.30.2\",\n",
      "  \"type_vocab_size\": 2,\n",
      "  \"unfreeze\": false,\n",
      "  \"use_cache\": true,\n",
      "  \"vocab_size\": 28996\n",
      "}\n",
      " in Bio_ClinicalBERT_DDI_finetuned/checkpoint-9375 as it's been defined in __main__. You should put this code in a separate module so we can include it in the saved folder and make it easier to share via the Hub.\n",
      "We can't save the code defining BioClinicalBertClassification(\n",
      "  (bert_model): BertModel(\n",
      "    (embeddings): BertEmbeddings(\n",
      "      (word_embeddings): Embedding(28996, 768)\n",
      "      (position_embeddings): Embedding(512, 768)\n",
      "      (token_type_embeddings): Embedding(2, 768)\n",
      "      (LayerNorm): LayerNorm((768,), eps=1e-12, elementwise_affine=True)\n",
      "      (dropout): Dropout(p=0.1, inplace=False)\n",
      "    )\n",
      "    (encoder): BertEncoder(\n",
      "      (layer): ModuleList(\n",
      "        (0-11): 12 x BertLayer(\n",
      "          (attention): BertAttention(\n",
      "            (self): BertSelfAttention(\n",
      "              (query): Linear(in_features=768, out_features=768, bias=True)\n",
      "              (key): Linear(in_features=768, out_features=768, bias=True)\n",
      "              (value): Linear(in_features=768, out_features=768, bias=True)\n",
      "              (dropout): Dropout(p=0.1, inplace=False)\n",
      "            )\n",
      "            (output): BertSelfOutput(\n",
      "              (dense): Linear(in_features=768, out_features=768, bias=True)\n",
      "              (LayerNorm): LayerNorm((768,), eps=1e-12, elementwise_affine=True)\n",
      "              (dropout): Dropout(p=0.1, inplace=False)\n",
      "            )\n",
      "          )\n",
      "          (intermediate): BertIntermediate(\n",
      "            (dense): Linear(in_features=768, out_features=3072, bias=True)\n",
      "            (intermediate_act_fn): GELUActivation()\n",
      "          )\n",
      "          (output): BertOutput(\n",
      "            (dense): Linear(in_features=3072, out_features=768, bias=True)\n",
      "            (LayerNorm): LayerNorm((768,), eps=1e-12, elementwise_affine=True)\n",
      "            (dropout): Dropout(p=0.1, inplace=False)\n",
      "          )\n",
      "        )\n",
      "      )\n",
      "    )\n",
      "    (pooler): BertPooler(\n",
      "      (dense): Linear(in_features=768, out_features=768, bias=True)\n",
      "      (activation): Tanh()\n",
      "    )\n",
      "  )\n",
      "  (hidden_layer): Linear(in_features=768, out_features=68, bias=True)\n",
      "  (hidden_layer2): Linear(in_features=68, out_features=54, bias=True)\n",
      "  (hidden_layer3): Linear(in_features=54, out_features=40, bias=True)\n",
      "  (drop_out): Dropout(p=0.1, inplace=False)\n",
      "  (classification): Linear(in_features=40, out_features=2, bias=True)\n",
      "  (GeLU): GELU(approximate='none')\n",
      "  (Sigmoid): Sigmoid()\n",
      ") in Bio_ClinicalBERT_DDI_finetuned/checkpoint-18750 as it's been defined in __main__. You should put this code in a separate module so we can include it in the saved folder and make it easier to share via the Hub.\n",
      "We can't save the code defining BioClinicalBertConfig {\n",
      "  \"architectures\": [\n",
      "    \"BioClinicalBertClassification\"\n",
      "  ],\n",
      "  \"attention_probs_dropout_prob\": 0.1,\n",
      "  \"hidden3_dropout\": 0.1,\n",
      "  \"hidden_act\": \"gelu\",\n",
      "  \"hidden_dropout_prob\": 0.1,\n",
      "  \"hidden_size\": 768,\n",
      "  \"hidden_size1\": 68,\n",
      "  \"hidden_size2\": 54,\n",
      "  \"hidden_size3\": 40,\n",
      "  \"id2label\": {\n",
      "    \"0\": \"NEGATIVE\",\n",
      "    \"1\": \"POSITIVE\"\n",
      "  },\n",
      "  \"initializer_range\": 0.02,\n",
      "  \"intermediate_size\": 3072,\n",
      "  \"label2id\": {\n",
      "    \"NEGATIVE\": 0,\n",
      "    \"POSITIVE\": 1\n",
      "  },\n",
      "  \"layer_norm_eps\": 1e-12,\n",
      "  \"max_position_embeddings\": 512,\n",
      "  \"model_type\": \"bert\",\n",
      "  \"num_attention_heads\": 12,\n",
      "  \"num_hidden_layers\": 12,\n",
      "  \"position_embedding_type\": \"absolute\",\n",
      "  \"torch_dtype\": \"float32\",\n",
      "  \"transformers_version\": \"4.30.2\",\n",
      "  \"type_vocab_size\": 2,\n",
      "  \"unfreeze\": false,\n",
      "  \"use_cache\": true,\n",
      "  \"vocab_size\": 28996\n",
      "}\n",
      " in Bio_ClinicalBERT_DDI_finetuned/checkpoint-18750 as it's been defined in __main__. You should put this code in a separate module so we can include it in the saved folder and make it easier to share via the Hub.\n",
      "We can't save the code defining BioClinicalBertClassification(\n",
      "  (bert_model): BertModel(\n",
      "    (embeddings): BertEmbeddings(\n",
      "      (word_embeddings): Embedding(28996, 768)\n",
      "      (position_embeddings): Embedding(512, 768)\n",
      "      (token_type_embeddings): Embedding(2, 768)\n",
      "      (LayerNorm): LayerNorm((768,), eps=1e-12, elementwise_affine=True)\n",
      "      (dropout): Dropout(p=0.1, inplace=False)\n",
      "    )\n",
      "    (encoder): BertEncoder(\n",
      "      (layer): ModuleList(\n",
      "        (0-11): 12 x BertLayer(\n",
      "          (attention): BertAttention(\n",
      "            (self): BertSelfAttention(\n",
      "              (query): Linear(in_features=768, out_features=768, bias=True)\n",
      "              (key): Linear(in_features=768, out_features=768, bias=True)\n",
      "              (value): Linear(in_features=768, out_features=768, bias=True)\n",
      "              (dropout): Dropout(p=0.1, inplace=False)\n",
      "            )\n",
      "            (output): BertSelfOutput(\n",
      "              (dense): Linear(in_features=768, out_features=768, bias=True)\n",
      "              (LayerNorm): LayerNorm((768,), eps=1e-12, elementwise_affine=True)\n",
      "              (dropout): Dropout(p=0.1, inplace=False)\n",
      "            )\n",
      "          )\n",
      "          (intermediate): BertIntermediate(\n",
      "            (dense): Linear(in_features=768, out_features=3072, bias=True)\n",
      "            (intermediate_act_fn): GELUActivation()\n",
      "          )\n",
      "          (output): BertOutput(\n",
      "            (dense): Linear(in_features=3072, out_features=768, bias=True)\n",
      "            (LayerNorm): LayerNorm((768,), eps=1e-12, elementwise_affine=True)\n",
      "            (dropout): Dropout(p=0.1, inplace=False)\n",
      "          )\n",
      "        )\n",
      "      )\n",
      "    )\n",
      "    (pooler): BertPooler(\n",
      "      (dense): Linear(in_features=768, out_features=768, bias=True)\n",
      "      (activation): Tanh()\n",
      "    )\n",
      "  )\n",
      "  (hidden_layer): Linear(in_features=768, out_features=68, bias=True)\n",
      "  (hidden_layer2): Linear(in_features=68, out_features=54, bias=True)\n",
      "  (hidden_layer3): Linear(in_features=54, out_features=40, bias=True)\n",
      "  (drop_out): Dropout(p=0.1, inplace=False)\n",
      "  (classification): Linear(in_features=40, out_features=2, bias=True)\n",
      "  (GeLU): GELU(approximate='none')\n",
      "  (Sigmoid): Sigmoid()\n",
      ") in Bio_ClinicalBERT_DDI_finetuned/checkpoint-28125 as it's been defined in __main__. You should put this code in a separate module so we can include it in the saved folder and make it easier to share via the Hub.\n",
      "We can't save the code defining BioClinicalBertConfig {\n",
      "  \"architectures\": [\n",
      "    \"BioClinicalBertClassification\"\n",
      "  ],\n",
      "  \"attention_probs_dropout_prob\": 0.1,\n",
      "  \"hidden3_dropout\": 0.1,\n",
      "  \"hidden_act\": \"gelu\",\n",
      "  \"hidden_dropout_prob\": 0.1,\n",
      "  \"hidden_size\": 768,\n",
      "  \"hidden_size1\": 68,\n",
      "  \"hidden_size2\": 54,\n",
      "  \"hidden_size3\": 40,\n",
      "  \"id2label\": {\n",
      "    \"0\": \"NEGATIVE\",\n",
      "    \"1\": \"POSITIVE\"\n",
      "  },\n",
      "  \"initializer_range\": 0.02,\n",
      "  \"intermediate_size\": 3072,\n",
      "  \"label2id\": {\n",
      "    \"NEGATIVE\": 0,\n",
      "    \"POSITIVE\": 1\n",
      "  },\n",
      "  \"layer_norm_eps\": 1e-12,\n",
      "  \"max_position_embeddings\": 512,\n",
      "  \"model_type\": \"bert\",\n",
      "  \"num_attention_heads\": 12,\n",
      "  \"num_hidden_layers\": 12,\n",
      "  \"position_embedding_type\": \"absolute\",\n",
      "  \"torch_dtype\": \"float32\",\n",
      "  \"transformers_version\": \"4.30.2\",\n",
      "  \"type_vocab_size\": 2,\n",
      "  \"unfreeze\": false,\n",
      "  \"use_cache\": true,\n",
      "  \"vocab_size\": 28996\n",
      "}\n",
      " in Bio_ClinicalBERT_DDI_finetuned/checkpoint-28125 as it's been defined in __main__. You should put this code in a separate module so we can include it in the saved folder and make it easier to share via the Hub.\n",
      "We can't save the code defining BioClinicalBertClassification(\n",
      "  (bert_model): BertModel(\n",
      "    (embeddings): BertEmbeddings(\n",
      "      (word_embeddings): Embedding(28996, 768)\n",
      "      (position_embeddings): Embedding(512, 768)\n",
      "      (token_type_embeddings): Embedding(2, 768)\n",
      "      (LayerNorm): LayerNorm((768,), eps=1e-12, elementwise_affine=True)\n",
      "      (dropout): Dropout(p=0.1, inplace=False)\n",
      "    )\n",
      "    (encoder): BertEncoder(\n",
      "      (layer): ModuleList(\n",
      "        (0-11): 12 x BertLayer(\n",
      "          (attention): BertAttention(\n",
      "            (self): BertSelfAttention(\n",
      "              (query): Linear(in_features=768, out_features=768, bias=True)\n",
      "              (key): Linear(in_features=768, out_features=768, bias=True)\n",
      "              (value): Linear(in_features=768, out_features=768, bias=True)\n",
      "              (dropout): Dropout(p=0.1, inplace=False)\n",
      "            )\n",
      "            (output): BertSelfOutput(\n",
      "              (dense): Linear(in_features=768, out_features=768, bias=True)\n",
      "              (LayerNorm): LayerNorm((768,), eps=1e-12, elementwise_affine=True)\n",
      "              (dropout): Dropout(p=0.1, inplace=False)\n",
      "            )\n",
      "          )\n",
      "          (intermediate): BertIntermediate(\n",
      "            (dense): Linear(in_features=768, out_features=3072, bias=True)\n",
      "            (intermediate_act_fn): GELUActivation()\n",
      "          )\n",
      "          (output): BertOutput(\n",
      "            (dense): Linear(in_features=3072, out_features=768, bias=True)\n",
      "            (LayerNorm): LayerNorm((768,), eps=1e-12, elementwise_affine=True)\n",
      "            (dropout): Dropout(p=0.1, inplace=False)\n",
      "          )\n",
      "        )\n",
      "      )\n",
      "    )\n",
      "    (pooler): BertPooler(\n",
      "      (dense): Linear(in_features=768, out_features=768, bias=True)\n",
      "      (activation): Tanh()\n",
      "    )\n",
      "  )\n",
      "  (hidden_layer): Linear(in_features=768, out_features=68, bias=True)\n",
      "  (hidden_layer2): Linear(in_features=68, out_features=54, bias=True)\n",
      "  (hidden_layer3): Linear(in_features=54, out_features=40, bias=True)\n",
      "  (drop_out): Dropout(p=0.1, inplace=False)\n",
      "  (classification): Linear(in_features=40, out_features=2, bias=True)\n",
      "  (GeLU): GELU(approximate='none')\n",
      "  (Sigmoid): Sigmoid()\n",
      ") in Bio_ClinicalBERT_DDI_finetuned/checkpoint-37500 as it's been defined in __main__. You should put this code in a separate module so we can include it in the saved folder and make it easier to share via the Hub.\n",
      "We can't save the code defining BioClinicalBertConfig {\n",
      "  \"architectures\": [\n",
      "    \"BioClinicalBertClassification\"\n",
      "  ],\n",
      "  \"attention_probs_dropout_prob\": 0.1,\n",
      "  \"hidden3_dropout\": 0.1,\n",
      "  \"hidden_act\": \"gelu\",\n",
      "  \"hidden_dropout_prob\": 0.1,\n",
      "  \"hidden_size\": 768,\n",
      "  \"hidden_size1\": 68,\n",
      "  \"hidden_size2\": 54,\n",
      "  \"hidden_size3\": 40,\n",
      "  \"id2label\": {\n",
      "    \"0\": \"NEGATIVE\",\n",
      "    \"1\": \"POSITIVE\"\n",
      "  },\n",
      "  \"initializer_range\": 0.02,\n",
      "  \"intermediate_size\": 3072,\n",
      "  \"label2id\": {\n",
      "    \"NEGATIVE\": 0,\n",
      "    \"POSITIVE\": 1\n",
      "  },\n",
      "  \"layer_norm_eps\": 1e-12,\n",
      "  \"max_position_embeddings\": 512,\n",
      "  \"model_type\": \"bert\",\n",
      "  \"num_attention_heads\": 12,\n",
      "  \"num_hidden_layers\": 12,\n",
      "  \"position_embedding_type\": \"absolute\",\n",
      "  \"torch_dtype\": \"float32\",\n",
      "  \"transformers_version\": \"4.30.2\",\n",
      "  \"type_vocab_size\": 2,\n",
      "  \"unfreeze\": false,\n",
      "  \"use_cache\": true,\n",
      "  \"vocab_size\": 28996\n",
      "}\n",
      " in Bio_ClinicalBERT_DDI_finetuned/checkpoint-37500 as it's been defined in __main__. You should put this code in a separate module so we can include it in the saved folder and make it easier to share via the Hub.\n"
     ]
    },
    {
     "data": {
      "text/plain": [
       "TrainOutput(global_step=37500, training_loss=0.6782601220703125, metrics={'train_runtime': 13325.0567, 'train_samples_per_second': 90.056, 'train_steps_per_second': 2.814, 'total_flos': 3.159425138688e+17, 'train_loss': 0.6782601220703125, 'epoch': 4.0})"
      ]
     },
     "execution_count": 22,
     "metadata": {},
     "output_type": "execute_result"
    }
   ],
   "source": [
    "# TRANING\n",
    "trainer.train()"
   ]
  },
  {
   "cell_type": "markdown",
   "metadata": {},
   "source": [
    "### Evaluation"
   ]
  },
  {
   "cell_type": "code",
   "execution_count": 23,
   "metadata": {},
   "outputs": [
    {
     "data": {
      "text/html": [
       "\n",
       "    <div>\n",
       "      \n",
       "      <progress value='5837' max='5837' style='width:300px; height:20px; vertical-align: middle;'></progress>\n",
       "      [5837/5837 28:22]\n",
       "    </div>\n",
       "    "
      ],
      "text/plain": [
       "<IPython.core.display.HTML object>"
      ]
     },
     "metadata": {},
     "output_type": "display_data"
    },
    {
     "data": {
      "text/plain": [
       "{'eval_loss': 0.6686776280403137,\n",
       " 'eval_accuracy': 0.592,\n",
       " 'eval_f2': 0.7169,\n",
       " 'eval_recall': 0.7257,\n",
       " 'eval_precision': 0.6836,\n",
       " 'eval_mcc': 0.0495,\n",
       " 'eval_runtime': 1703.9991,\n",
       " 'eval_samples_per_second': 109.597,\n",
       " 'eval_steps_per_second': 3.425,\n",
       " 'epoch': 4.0}"
      ]
     },
     "execution_count": 23,
     "metadata": {},
     "output_type": "execute_result"
    }
   ],
   "source": [
    "# EVALUATION AFTER TRAINING\n",
    "trainer.evaluate(encoded_test_ds)"
   ]
  },
  {
   "cell_type": "code",
   "execution_count": 24,
   "metadata": {
    "scrolled": true
   },
   "outputs": [
    {
     "name": "stderr",
     "output_type": "stream",
     "text": [
      "We can't save the code defining BioClinicalBertClassification(\n",
      "  (bert_model): BertModel(\n",
      "    (embeddings): BertEmbeddings(\n",
      "      (word_embeddings): Embedding(28996, 768)\n",
      "      (position_embeddings): Embedding(512, 768)\n",
      "      (token_type_embeddings): Embedding(2, 768)\n",
      "      (LayerNorm): LayerNorm((768,), eps=1e-12, elementwise_affine=True)\n",
      "      (dropout): Dropout(p=0.1, inplace=False)\n",
      "    )\n",
      "    (encoder): BertEncoder(\n",
      "      (layer): ModuleList(\n",
      "        (0-11): 12 x BertLayer(\n",
      "          (attention): BertAttention(\n",
      "            (self): BertSelfAttention(\n",
      "              (query): Linear(in_features=768, out_features=768, bias=True)\n",
      "              (key): Linear(in_features=768, out_features=768, bias=True)\n",
      "              (value): Linear(in_features=768, out_features=768, bias=True)\n",
      "              (dropout): Dropout(p=0.1, inplace=False)\n",
      "            )\n",
      "            (output): BertSelfOutput(\n",
      "              (dense): Linear(in_features=768, out_features=768, bias=True)\n",
      "              (LayerNorm): LayerNorm((768,), eps=1e-12, elementwise_affine=True)\n",
      "              (dropout): Dropout(p=0.1, inplace=False)\n",
      "            )\n",
      "          )\n",
      "          (intermediate): BertIntermediate(\n",
      "            (dense): Linear(in_features=768, out_features=3072, bias=True)\n",
      "            (intermediate_act_fn): GELUActivation()\n",
      "          )\n",
      "          (output): BertOutput(\n",
      "            (dense): Linear(in_features=3072, out_features=768, bias=True)\n",
      "            (LayerNorm): LayerNorm((768,), eps=1e-12, elementwise_affine=True)\n",
      "            (dropout): Dropout(p=0.1, inplace=False)\n",
      "          )\n",
      "        )\n",
      "      )\n",
      "    )\n",
      "    (pooler): BertPooler(\n",
      "      (dense): Linear(in_features=768, out_features=768, bias=True)\n",
      "      (activation): Tanh()\n",
      "    )\n",
      "  )\n",
      "  (hidden_layer): Linear(in_features=768, out_features=68, bias=True)\n",
      "  (hidden_layer2): Linear(in_features=68, out_features=54, bias=True)\n",
      "  (hidden_layer3): Linear(in_features=54, out_features=40, bias=True)\n",
      "  (drop_out): Dropout(p=0.1, inplace=False)\n",
      "  (classification): Linear(in_features=40, out_features=2, bias=True)\n",
      "  (GeLU): GELU(approximate='none')\n",
      "  (Sigmoid): Sigmoid()\n",
      ") in Bio_ClinicalBERT_DDI_finetuned as it's been defined in __main__. You should put this code in a separate module so we can include it in the saved folder and make it easier to share via the Hub.\n",
      "We can't save the code defining BioClinicalBertConfig {\n",
      "  \"architectures\": [\n",
      "    \"BioClinicalBertClassification\"\n",
      "  ],\n",
      "  \"attention_probs_dropout_prob\": 0.1,\n",
      "  \"hidden3_dropout\": 0.1,\n",
      "  \"hidden_act\": \"gelu\",\n",
      "  \"hidden_dropout_prob\": 0.1,\n",
      "  \"hidden_size\": 768,\n",
      "  \"hidden_size1\": 68,\n",
      "  \"hidden_size2\": 54,\n",
      "  \"hidden_size3\": 40,\n",
      "  \"id2label\": {\n",
      "    \"0\": \"NEGATIVE\",\n",
      "    \"1\": \"POSITIVE\"\n",
      "  },\n",
      "  \"initializer_range\": 0.02,\n",
      "  \"intermediate_size\": 3072,\n",
      "  \"label2id\": {\n",
      "    \"NEGATIVE\": 0,\n",
      "    \"POSITIVE\": 1\n",
      "  },\n",
      "  \"layer_norm_eps\": 1e-12,\n",
      "  \"max_position_embeddings\": 512,\n",
      "  \"model_type\": \"bert\",\n",
      "  \"num_attention_heads\": 12,\n",
      "  \"num_hidden_layers\": 12,\n",
      "  \"position_embedding_type\": \"absolute\",\n",
      "  \"torch_dtype\": \"float32\",\n",
      "  \"transformers_version\": \"4.30.2\",\n",
      "  \"type_vocab_size\": 2,\n",
      "  \"unfreeze\": false,\n",
      "  \"use_cache\": true,\n",
      "  \"vocab_size\": 28996\n",
      "}\n",
      " in Bio_ClinicalBERT_DDI_finetuned as it's been defined in __main__. You should put this code in a separate module so we can include it in the saved folder and make it easier to share via the Hub.\n",
      "To https://huggingface.co/ltmai/Bio_ClinicalBERT_DDI_finetuned\n",
      "   5c3c426..18c5dee  main -> main\n",
      "\n",
      "To https://huggingface.co/ltmai/Bio_ClinicalBERT_DDI_finetuned\n",
      "   18c5dee..de11cf9  main -> main\n",
      "\n"
     ]
    },
    {
     "data": {
      "text/plain": [
       "'https://huggingface.co/ltmai/Bio_ClinicalBERT_DDI_finetuned/commit/18c5deeab17f9dcb4f1e422f1f1f76a077e69617'"
      ]
     },
     "execution_count": 24,
     "metadata": {},
     "output_type": "execute_result"
    }
   ],
   "source": [
    "trainer.push_to_hub()\n",
    "#model.push_to_hub()"
   ]
  },
  {
   "cell_type": "code",
   "execution_count": null,
   "metadata": {
    "id": "fWFn2oQqAfd5"
   },
   "outputs": [],
   "source": [
    "# save training weights\n",
    "# trainer.save_pretrain('Bio_ClinicalBERT_DDI_finetuned')\n",
    "torch.save(model.state_dict(), 'models/Bio_ClinicalBERT_DDI_2heads3.pth')"
   ]
  },
  {
   "cell_type": "markdown",
   "metadata": {
    "collapsed": false,
    "jupyter": {
     "outputs_hidden": false
    }
   },
   "source": [
    "## Morgan300 & BioClinicalBERT SMILES & PATHWAY"
   ]
  },
  {
   "cell_type": "markdown",
   "metadata": {
    "collapsed": false,
    "jupyter": {
     "outputs_hidden": false
    }
   },
   "source": [
    "### Build Model"
   ]
  },
  {
   "cell_type": "code",
   "execution_count": 7,
   "metadata": {
    "collapsed": false,
    "jupyter": {
     "outputs_hidden": false
    }
   },
   "outputs": [],
   "source": [
    "# Define hyperparameters\n",
    "BATCH_SIZE = 24\n",
    "EPOCHS = 60\n",
    "LEARNING_RATE = 0.0006\n",
    "# MOMENTUM = 0.9\n",
    "WEIGHT_DECAY = 0.01\n",
    "WORKERS = int(os.cpu_count())"
   ]
  },
  {
   "cell_type": "code",
   "execution_count": 53,
   "metadata": {
    "collapsed": false,
    "jupyter": {
     "outputs_hidden": false
    }
   },
   "outputs": [],
   "source": [
    "# BERT Model\n",
    "class MorganBioBertClassification(nn.Module):\n",
    "    def __init__(self, num_labels=21,\n",
    "                 hidden_size=68, hidden_size2=54, hidden_size3=40,\n",
    "                 dropout=0.1, unfreeze=False):\n",
    "        super(MorganBioBertClassification, self).__init__()\n",
    "        self.bert_model = AutoModel.from_pretrained(\"emilyalsentzer/Bio_ClinicalBERT\")\n",
    "        self.num_labels = num_labels\n",
    "\n",
    "        # Unfreeze the last BERT transformer layer\n",
    "        if unfreeze == \"last layer\":\n",
    "            for name, param in self.bert_model.named_parameters():\n",
    "                if 'bert_model.encoder.layer.11' in name:\n",
    "                    param.requires_grad = True\n",
    "                else:\n",
    "                    param.requires_grad = False\n",
    "        if unfreeze == \"last two\":\n",
    "            for name, param in self.bert_model.named_parameters():\n",
    "                if 'bert_model.encoder.layer.11' in name or 'bert_model.encoder.layer.10' in name:\n",
    "                    param.requires_grad = True\n",
    "                else:\n",
    "                    param.requires_grad = False\n",
    "        if unfreeze == \"all layers\":\n",
    "            for name, param in self.bert_model.named_parameters():\n",
    "                param.requires_grad = True\n",
    "        else:\n",
    "            for name, param in self.bert_model.named_parameters():\n",
    "                param.requires_grad = False\n",
    "\n",
    "        self.bert_hidden_size = self.bert_model.config.hidden_size\n",
    "        self.hidden_size = hidden_size\n",
    "        self.hidden_size2 = hidden_size2\n",
    "        self.hidden_size3 = hidden_size3\n",
    "        self.hidden_layer = nn.Linear(self.bert_hidden_size, self.hidden_size)\n",
    "        self.hidden_layer2 = nn.Linear(self.hidden_size, self.hidden_size2)\n",
    "        self.hidden_layer3 = nn.Linear(self.hidden_size2, self.hidden_size3)\n",
    "\n",
    "        # Morgan Embedding First hidden layer\n",
    "        self.hidden_layer_morgan = nn.Linear(600, self.hidden_size)\n",
    "        self.hidden_layer2_morgan = nn.Linear(self.hidden_size, self.hidden_size2)\n",
    "        self.hidden_layer3_morgan = nn.Linear(self.hidden_size2, self.hidden_size3)\n",
    "\n",
    "        # One hidden Layer after combining both branches\n",
    "        self.hidden_layer_combine = nn.Linear(2*self.hidden_size3, hidden_size3)\n",
    "\n",
    "        self.drop_out = nn.Dropout(dropout)\n",
    "\n",
    "        self.classification = nn.Linear(hidden_size3, self.num_labels)\n",
    "\n",
    "        self.GeLU = nn.GELU()\n",
    "        # self.Sigmoid = nn.Sigmoid()\n",
    "\n",
    "    def forward(self, input_ids, attention_mask, morgan_embedding, labels):\n",
    "        # Output for target data\n",
    "        bert_output = self.bert_model(input_ids=input_ids,\n",
    "                                      attention_mask=attention_mask)\n",
    "\n",
    "        pooler_token = bert_output[1]\n",
    "\n",
    "        hidden_ouput = self.GeLU(self.hidden_layer(pooler_token))\n",
    "        hidden_ouput = self.drop_out(hidden_ouput)\n",
    "        hidden_ouput = self.GeLU(self.hidden_layer2(hidden_ouput))\n",
    "        hidden_ouput = self.drop_out(hidden_ouput)\n",
    "        hidden_ouput = self.GeLU(self.hidden_layer3(hidden_ouput))\n",
    "        hidden_ouput = self.drop_out(hidden_ouput)\n",
    "\n",
    "        # Output for SMILES Morgan Embedding\n",
    "        hidden_morgan_output = self.GeLU(self.hidden_layer_morgan(morgan_embedding))\n",
    "        hidden_morgan_output = self.drop_out(hidden_morgan_output)\n",
    "        hidden_morgan_output = self.GeLU(self.hidden_layer2_morgan(hidden_morgan_output))\n",
    "        hidden_morgan_output = self.drop_out(hidden_morgan_output)\n",
    "        hidden_morgan_output = self.GeLU(self.hidden_layer3_morgan(hidden_morgan_output))\n",
    "        hidden_morgan_output = self.drop_out(hidden_morgan_output)\n",
    "\n",
    "        # Concatenate hidden_output and morgan_output\n",
    "        concat_output = torch.cat((hidden_morgan_output, hidden_ouput), 1)\n",
    "        hidden_concat_output = self.GeLU(self.hidden_layer_combine(concat_output))\n",
    "        hidden_concat_output = self.drop_out(hidden_concat_output)\n",
    "\n",
    "        ## Binary\n",
    "        # output = self.Sigmoid(self.classification(hidden_concat_output))\n",
    "        # output = output.flatten()\n",
    "        # return output\n",
    "\n",
    "        ## Multiclasses\n",
    "        logits = self.classification(hidden_concat_output)\n",
    "        if labels is not None:\n",
    "            loss_fct = nn.CrossEntropyLoss()\n",
    "            loss = loss_fct(logits.view(-1, self.num_labels), labels.view(-1))\n",
    "            return {\"loss\": loss, \"logits\": logits}\n",
    "\n",
    "        return logits\n"
   ]
  },
  {
   "cell_type": "code",
   "execution_count": 54,
   "metadata": {
    "collapsed": false,
    "jupyter": {
     "outputs_hidden": false
    }
   },
   "outputs": [
    {
     "name": "stderr",
     "output_type": "stream",
     "text": [
      "Some weights of the model checkpoint at emilyalsentzer/Bio_ClinicalBERT were not used when initializing BertModel: ['cls.predictions.bias', 'cls.predictions.transform.dense.weight', 'cls.predictions.decoder.weight', 'cls.seq_relationship.weight', 'cls.predictions.transform.LayerNorm.bias', 'cls.predictions.transform.LayerNorm.weight', 'cls.seq_relationship.bias', 'cls.predictions.transform.dense.bias']\n",
      "- This IS expected if you are initializing BertModel from the checkpoint of a model trained on another task or with another architecture (e.g. initializing a BertForSequenceClassification model from a BertForPreTraining model).\n",
      "- This IS NOT expected if you are initializing BertModel from the checkpoint of a model that you expect to be exactly identical (initializing a BertForSequenceClassification model from a BertForSequenceClassification model).\n"
     ]
    },
    {
     "name": "stdout",
     "output_type": "stream",
     "text": [
      "bert_model.encoder.layer.11.attention.self.value.weight   (768, 768)\n",
      "bert_model.encoder.layer.11.attention.self.value.bias         (768,)\n",
      "bert_model.encoder.layer.11.attention.output.dense.weight   (768, 768)\n",
      "bert_model.encoder.layer.11.attention.output.dense.bias       (768,)\n",
      "bert_model.encoder.layer.11.attention.output.LayerNorm.weight       (768,)\n",
      "bert_model.encoder.layer.11.attention.output.LayerNorm.bias       (768,)\n",
      "bert_model.encoder.layer.11.intermediate.dense.weight    (3072, 768)\n",
      "bert_model.encoder.layer.11.intermediate.dense.bias          (3072,)\n",
      "bert_model.encoder.layer.11.output.dense.weight          (768, 3072)\n",
      "bert_model.encoder.layer.11.output.dense.bias                 (768,)\n",
      "bert_model.encoder.layer.11.output.LayerNorm.weight           (768,)\n",
      "bert_model.encoder.layer.11.output.LayerNorm.bias             (768,)\n",
      "bert_model.pooler.dense.weight                            (768, 768)\n",
      "bert_model.pooler.dense.bias                                  (768,)\n",
      "hidden_layer.weight                                        (68, 768)\n",
      "hidden_layer.bias                                              (68,)\n",
      "hidden_layer2.weight                                        (54, 68)\n",
      "hidden_layer2.bias                                             (54,)\n",
      "hidden_layer3.weight                                        (40, 54)\n",
      "hidden_layer3.bias                                             (40,)\n",
      "hidden_layer_morgan.weight                                 (68, 600)\n",
      "hidden_layer_morgan.bias                                       (68,)\n",
      "hidden_layer2_morgan.weight                                 (54, 68)\n",
      "hidden_layer2_morgan.bias                                      (54,)\n",
      "hidden_layer3_morgan.weight                                 (40, 54)\n",
      "hidden_layer3_morgan.bias                                      (40,)\n",
      "hidden_layer_combine.weight                                 (40, 80)\n",
      "hidden_layer_combine.bias                                      (40,)\n",
      "classification.weight                                       (21, 40)\n",
      "classification.bias                                            (21,)\n"
     ]
    }
   ],
   "source": [
    "# Initialize model\n",
    "model = MorganBioBertClassification()\n",
    "model = model.to(device)\n",
    "\n",
    "#load the pre-trained Bio-ClinicalBERT model and tokenizer\n",
    "tokenizer = AutoTokenizer.from_pretrained('emilyalsentzer/Bio_ClinicalBERT')\n",
    "\n",
    "# Print out models params for checking\n",
    "params = list(model.named_parameters())\n",
    "for p in params[-30:]:\n",
    "    print(\"{:<55} {:>12}\".format(p[0], str(tuple(p[1].size()))))"
   ]
  },
  {
   "cell_type": "markdown",
   "metadata": {
    "collapsed": false,
    "jupyter": {
     "outputs_hidden": false
    }
   },
   "source": [
    "### Build DataLoader"
   ]
  },
  {
   "cell_type": "code",
   "execution_count": 11,
   "metadata": {
    "collapsed": false,
    "jupyter": {
     "outputs_hidden": false
    }
   },
   "outputs": [
    {
     "name": "stdout",
     "output_type": "stream",
     "text": [
      "mean length of smiles1: 60.71659682539683\n",
      "min length of smiles1: 2\n",
      "max length of smiles1: 748\n",
      "mean length of smiles2: 60.26487619047619\n",
      "min length of smiles2: 3\n",
      "max length of smiles2: 748\n",
      "Value Counts of Labels in Train Set:\n"
     ]
    },
    {
     "data": {
      "text/html": [
       "<div>\n",
       "<style scoped>\n",
       "    .dataframe tbody tr th:only-of-type {\n",
       "        vertical-align: middle;\n",
       "    }\n",
       "\n",
       "    .dataframe tbody tr th {\n",
       "        vertical-align: top;\n",
       "    }\n",
       "\n",
       "    .dataframe thead th {\n",
       "        text-align: right;\n",
       "    }\n",
       "</style>\n",
       "<table border=\"1\" class=\"dataframe\">\n",
       "  <thead>\n",
       "    <tr style=\"text-align: right;\">\n",
       "      <th></th>\n",
       "      <th>d1</th>\n",
       "      <th>d2</th>\n",
       "      <th>smiles1</th>\n",
       "      <th>smiles2</th>\n",
       "      <th>smiles_pathway_features</th>\n",
       "      <th>interaction_type</th>\n",
       "      <th>severity</th>\n",
       "    </tr>\n",
       "  </thead>\n",
       "  <tbody>\n",
       "    <tr>\n",
       "      <th>0</th>\n",
       "      <td>DB00468</td>\n",
       "      <td>DB01246</td>\n",
       "      <td>[H][C@]1(C[C@@H]2CC[N@]1C[C@@H]2C=C)[C@H](O)C1...</td>\n",
       "      <td>CC(CN(C)C)CN1C2=CC=CC=C2SC2=CC=CC=C12</td>\n",
       "      <td>[H][C@]1(C[C@@H]2CC[N@]1C[C@@H]2C=C)[C@H](O)C1...</td>\n",
       "      <td>7</td>\n",
       "      <td>NaN</td>\n",
       "    </tr>\n",
       "    <tr>\n",
       "      <th>1</th>\n",
       "      <td>DB09135</td>\n",
       "      <td>DB09281</td>\n",
       "      <td>CC(=O)N(CC(O)CO)C1=C(I)C(C(=O)NCC(O)CO)=C(I)C(...</td>\n",
       "      <td>[Mg++].[Mg++].[O-][Si](=O)O[Si]([O-])([O-])O[S...</td>\n",
       "      <td>CC(=O)N(CC(O)CO)C1=C(I)C(C(=O)NCC(O)CO)=C(I)C(...</td>\n",
       "      <td>6</td>\n",
       "      <td>NaN</td>\n",
       "    </tr>\n",
       "  </tbody>\n",
       "</table>\n",
       "</div>"
      ],
      "text/plain": [
       "        d1       d2                                            smiles1  \\\n",
       "0  DB00468  DB01246  [H][C@]1(C[C@@H]2CC[N@]1C[C@@H]2C=C)[C@H](O)C1...   \n",
       "1  DB09135  DB09281  CC(=O)N(CC(O)CO)C1=C(I)C(C(=O)NCC(O)CO)=C(I)C(...   \n",
       "\n",
       "                                             smiles2  \\\n",
       "0              CC(CN(C)C)CN1C2=CC=CC=C2SC2=CC=CC=C12   \n",
       "1  [Mg++].[Mg++].[O-][Si](=O)O[Si]([O-])([O-])O[S...   \n",
       "\n",
       "                             smiles_pathway_features  interaction_type  \\\n",
       "0  [H][C@]1(C[C@@H]2CC[N@]1C[C@@H]2C=C)[C@H](O)C1...                 7   \n",
       "1  CC(=O)N(CC(O)CO)C1=C(I)C(C(=O)NCC(O)CO)=C(I)C(...                 6   \n",
       "\n",
       "  severity  \n",
       "0      NaN  \n",
       "1      NaN  "
      ]
     },
     "execution_count": 11,
     "metadata": {},
     "output_type": "execute_result"
    }
   ],
   "source": [
    "# Import data\n",
    "train_file = 'data/top20_ddi/ddi_train_top20_balanced_15k.csv'\n",
    "dev_file = 'data/top20_ddi/ddi_val_top20.csv'\n",
    "test_file = 'data/top20_ddi/ddi_test_top20.csv'\n",
    "\n",
    "df_train = pd.read_csv(train_file, sep='\\t')\n",
    "df_val= pd.read_csv(dev_file, sep='\\t')\n",
    "df_test = pd.read_csv(test_file, sep='\\t')\n",
    "\n",
    "print(f'''mean length of smiles1: {df_train['smiles1'].map(len).mean()}''')\n",
    "print(f'''min length of smiles1: {df_train['smiles1'].map(len).min()}''')\n",
    "print(f'''max length of smiles1: {df_train['smiles1'].map(len).max()}''')\n",
    "print(f'''mean length of smiles2: {df_train['smiles2'].map(len).mean()}''')\n",
    "print(f'''min length of smiles2: {df_train['smiles2'].map(len).min()}''')\n",
    "print(f'''max length of smiles2: {df_train['smiles2'].map(len).max()}''')\n",
    "print('Value Counts of Labels in Train Set:')\n",
    "df_train.interaction_type.value_counts()\n",
    "df_train.head(2)"
   ]
  },
  {
   "cell_type": "code",
   "execution_count": 34,
   "metadata": {},
   "outputs": [
    {
     "data": {
      "text/plain": [
       "dtype('int64')"
      ]
     },
     "execution_count": 34,
     "metadata": {},
     "output_type": "execute_result"
    }
   ],
   "source": [
    "df_train.interaction_type.dtype"
   ]
  },
  {
   "cell_type": "code",
   "execution_count": 12,
   "metadata": {
    "collapsed": false,
    "jupyter": {
     "outputs_hidden": false
    }
   },
   "outputs": [
    {
     "name": "stdout",
     "output_type": "stream",
     "text": [
      "(30000, 7)\n"
     ]
    },
    {
     "data": {
      "text/html": [
       "<div>\n",
       "<style scoped>\n",
       "    .dataframe tbody tr th:only-of-type {\n",
       "        vertical-align: middle;\n",
       "    }\n",
       "\n",
       "    .dataframe tbody tr th {\n",
       "        vertical-align: top;\n",
       "    }\n",
       "\n",
       "    .dataframe thead th {\n",
       "        text-align: right;\n",
       "    }\n",
       "</style>\n",
       "<table border=\"1\" class=\"dataframe\">\n",
       "  <thead>\n",
       "    <tr style=\"text-align: right;\">\n",
       "      <th></th>\n",
       "      <th>d1</th>\n",
       "      <th>d2</th>\n",
       "      <th>smiles1</th>\n",
       "      <th>smiles2</th>\n",
       "      <th>smiles_pathway_features</th>\n",
       "      <th>interaction_type</th>\n",
       "      <th>severity</th>\n",
       "    </tr>\n",
       "  </thead>\n",
       "  <tbody>\n",
       "    <tr>\n",
       "      <th>33553</th>\n",
       "      <td>DB12492</td>\n",
       "      <td>DB13738</td>\n",
       "      <td>NC(=O)C1(CCN(CCC(C#N)(C2=CC=CC=C2)C2=CC=CC=C2)...</td>\n",
       "      <td>CCN(CC)CCNC(C(=O)OCCC(C)C)C1=CC=CC=C1</td>\n",
       "      <td>NC(=O)C1(CCN(CCC(C#N)(C2=CC=CC=C2)C2=CC=CC=C2)...</td>\n",
       "      <td>3</td>\n",
       "      <td>NaN</td>\n",
       "    </tr>\n",
       "    <tr>\n",
       "      <th>9427</th>\n",
       "      <td>DB11770</td>\n",
       "      <td>DB01359</td>\n",
       "      <td>CC(C)(C)NCC(O)COC1=CC=C(NC(=O)NC2CCCCC2)C=C1</td>\n",
       "      <td>CC(C)(C)NC[C@H](O)COC1=CC=CC=C1C1CCCC1</td>\n",
       "      <td>CC(C)(C)NCC(O)COC1=CC=C(NC(=O)NC2CCCCC2)C=C1 n...</td>\n",
       "      <td>0</td>\n",
       "      <td>NaN</td>\n",
       "    </tr>\n",
       "  </tbody>\n",
       "</table>\n",
       "</div>"
      ],
      "text/plain": [
       "            d1       d2                                            smiles1  \\\n",
       "33553  DB12492  DB13738  NC(=O)C1(CCN(CCC(C#N)(C2=CC=CC=C2)C2=CC=CC=C2)...   \n",
       "9427   DB11770  DB01359       CC(C)(C)NCC(O)COC1=CC=C(NC(=O)NC2CCCCC2)C=C1   \n",
       "\n",
       "                                      smiles2  \\\n",
       "33553   CCN(CC)CCNC(C(=O)OCCC(C)C)C1=CC=CC=C1   \n",
       "9427   CC(C)(C)NC[C@H](O)COC1=CC=CC=C1C1CCCC1   \n",
       "\n",
       "                                 smiles_pathway_features  interaction_type  \\\n",
       "33553  NC(=O)C1(CCN(CCC(C#N)(C2=CC=CC=C2)C2=CC=CC=C2)...                 3   \n",
       "9427   CC(C)(C)NCC(O)COC1=CC=C(NC(=O)NC2CCCCC2)C=C1 n...                 0   \n",
       "\n",
       "      severity  \n",
       "33553      NaN  \n",
       "9427       NaN  "
      ]
     },
     "execution_count": 12,
     "metadata": {},
     "output_type": "execute_result"
    }
   ],
   "source": [
    "from sklearn.utils import resample\n",
    "\n",
    "# Choose a smaller subset of val data for faster training\n",
    "df_val_small = resample(df_val,\n",
    "                        replace=False,     # sample without replacement\n",
    "                        n_samples=30000,\n",
    "                        # random_state=1\n",
    "                        )\n",
    "print(df_val_small.shape)\n",
    "df_val_small.head(2)"
   ]
  },
  {
   "cell_type": "code",
   "execution_count": 13,
   "metadata": {
    "collapsed": false,
    "jupyter": {
     "outputs_hidden": false
    }
   },
   "outputs": [
    {
     "name": "stdout",
     "output_type": "stream",
     "text": [
      "Number of drugs available: 2563\n",
      "Example - top 10 keys: ['DB00006', 'DB00007', 'DB00014', 'DB00027', 'DB00035', 'DB00067', 'DB00080', 'DB00091', 'DB00115', 'DB00118']\n",
      "Embedding dimension: 300\n"
     ]
    }
   ],
   "source": [
    "# Import Drug2Vec Embedding - Morgan Fingerprints, Cosine Similarity\n",
    "# drug2vec_model = gensim.models.KeyedVectors.load_word2vec_format(fname=f\"data/binary_ddi/drug2vec_300clusters_morgan_cosine.txt\", binary=False)\n",
    "# Import Drug2Vec Embedding - Morgan Fingerprints, Tanimoto Similarity, 768 clusters\n",
    "drug2vec_model = gensim.models.KeyedVectors.load_word2vec_format(fname=f\"data/binary_ddi/drug2vec_300clusters_morgan_tanimoto.txt\", binary=False)\n",
    "\n",
    "print('Number of drugs available:', len(drug2vec_model.index_to_key))\n",
    "print('Example - top 10 keys:', drug2vec_model.index_to_key[:10])\n",
    "print('Embedding dimension:', len(drug2vec_model[drug2vec_model.index_to_key[0]]))"
   ]
  },
  {
   "cell_type": "code",
   "execution_count": 14,
   "metadata": {
    "collapsed": false,
    "jupyter": {
     "outputs_hidden": false
    }
   },
   "outputs": [],
   "source": [
    "def build_data_loader(df, shuffle=True, verbose=False):\n",
    "    # Extract Morgan Fingerprint Embedding\n",
    "    # Remove the 4 SMILES causing error, only include SMILES in drug2vec.txt\n",
    "    valid_smiles = drug2vec_model.index_to_key\n",
    "    df = df[df['d1'].isin(valid_smiles) & df['d2'].isin(valid_smiles)]\n",
    "\n",
    "    # Extract embedding\n",
    "    df['d1_embedding'] = df['d1'].apply(lambda x: drug2vec_model[x])\n",
    "    df['d2_embedding'] = df['d2'].apply(lambda x: drug2vec_model[x])\n",
    "\n",
    "    # Drop all records that could not extract embedding (SMILES errors)\n",
    "    df = df.dropna(subset=['d1_embedding', 'd2_embedding'], how='any')\n",
    "    d1_embed = np.array(df['d1_embedding'].tolist())\n",
    "    d2_embed = np.array(df['d2_embedding'].tolist())\n",
    "    X_smiles = np.hstack((d1_embed, d2_embed))\n",
    "    morgan_embedding = torch.from_numpy(X_smiles)\n",
    "    if verbose:\n",
    "        print('Drug1 Embedding Dimension:',d1_embed.shape)\n",
    "        print('Drug2 Embedding Dimension:',d2_embed.shape)\n",
    "        print('Drug 1 Concatenate with Drug 2 Embedding Dimension:', X_smiles.shape)\n",
    "        print('Torch tensor Embedding Dimension:', morgan_embedding.shape)\n",
    "\n",
    "    # Using the Combined SMILES & PATHWAY, ACTION Features\n",
    "    X = df[\"smiles_pathway_features\"]\n",
    "    y = df[\"interaction_type\"]\n",
    "\n",
    "    # Tokenize Target\n",
    "    _encodings = tokenizer(\n",
    "        list(X.values),\n",
    "        max_length=512,\n",
    "        truncation=True,\n",
    "        pad_to_max_length=True,\n",
    "        return_token_type_ids=False,\n",
    "        return_tensors='pt'\n",
    "    )\n",
    "\n",
    "    _ids = _encodings.input_ids\n",
    "    _mask = _encodings.attention_mask\n",
    "    _labels = torch.tensor(y.values)\n",
    "    if verbose:\n",
    "        print('Torch tensor target_ids Dimension:', _ids.shape)\n",
    "        print('Torch tensor labels Dimension:', _labels.shape)\n",
    "\n",
    "    _dataset = TensorDataset(_ids, _mask, _labels, morgan_embedding)\n",
    "    _loader = DataLoader(_dataset, batch_size=BATCH_SIZE, shuffle=shuffle, num_workers=WORKERS)\n",
    "\n",
    "    return _loader"
   ]
  },
  {
   "cell_type": "code",
   "execution_count": 15,
   "metadata": {
    "collapsed": false,
    "jupyter": {
     "outputs_hidden": false
    }
   },
   "outputs": [
    {
     "name": "stdout",
     "output_type": "stream",
     "text": [
      "Validation Data Loader:\n",
      "Drug1 Embedding Dimension: (29957, 300)\n",
      "Drug2 Embedding Dimension: (29957, 300)\n",
      "Drug 1 Concatenate with Drug 2 Embedding Dimension: (29957, 600)\n",
      "Torch tensor Embedding Dimension: torch.Size([29957, 600])\n",
      "Torch tensor target_ids Dimension: torch.Size([29957, 512])\n",
      "Torch tensor labels Dimension: torch.Size([29957])\n"
     ]
    }
   ],
   "source": [
    "# Val Data Loader\n",
    "print('Validation Data Loader:')\n",
    "val_loader = build_data_loader(df_val_small, shuffle=False, verbose=True)"
   ]
  },
  {
   "cell_type": "code",
   "execution_count": 16,
   "metadata": {
    "collapsed": false,
    "jupyter": {
     "outputs_hidden": false
    }
   },
   "outputs": [
    {
     "name": "stdout",
     "output_type": "stream",
     "text": [
      "Testing Data Loader:\n",
      "Drug1 Embedding Dimension: (208238, 300)\n",
      "Drug2 Embedding Dimension: (208238, 300)\n",
      "Drug 1 Concatenate with Drug 2 Embedding Dimension: (208238, 600)\n",
      "Torch tensor Embedding Dimension: torch.Size([208238, 600])\n",
      "Torch tensor target_ids Dimension: torch.Size([208238, 512])\n",
      "Torch tensor labels Dimension: torch.Size([208238])\n"
     ]
    }
   ],
   "source": [
    "# Train Data Loader\n",
    "print('Testing Data Loader:')\n",
    "test_loader = build_data_loader(df_test, verbose=True)"
   ]
  },
  {
   "cell_type": "code",
   "execution_count": 17,
   "metadata": {
    "collapsed": false,
    "jupyter": {
     "outputs_hidden": false
    }
   },
   "outputs": [
    {
     "name": "stdout",
     "output_type": "stream",
     "text": [
      "Training Data Loader:\n",
      "Drug1 Embedding Dimension: (313691, 300)\n",
      "Drug2 Embedding Dimension: (313691, 300)\n",
      "Drug 1 Concatenate with Drug 2 Embedding Dimension: (313691, 600)\n",
      "Torch tensor Embedding Dimension: torch.Size([313691, 600])\n",
      "Torch tensor target_ids Dimension: torch.Size([313691, 512])\n",
      "Torch tensor labels Dimension: torch.Size([313691])\n"
     ]
    }
   ],
   "source": [
    "# Train Data Loader\n",
    "print('Training Data Loader:')\n",
    "train_loader = build_data_loader(df_train, verbose=True)"
   ]
  },
  {
   "cell_type": "code",
   "execution_count": 18,
   "metadata": {},
   "outputs": [
    {
     "name": "stdout",
     "output_type": "stream",
     "text": [
      "Train batches: 13071\n",
      "Val subset batches: 1249\n",
      "Test batches: 8677\n"
     ]
    }
   ],
   "source": [
    "print('Train batches:', len(train_loader))\n",
    "print('Val subset batches:', len(val_loader))\n",
    "print('Test batches:', len(test_loader))"
   ]
  },
  {
   "cell_type": "markdown",
   "metadata": {
    "collapsed": false,
    "jupyter": {
     "outputs_hidden": false
    }
   },
   "source": [
    "### Training\n",
    "#### Learning Rate Finder"
   ]
  },
  {
   "cell_type": "code",
   "execution_count": 55,
   "metadata": {
    "collapsed": false,
    "jupyter": {
     "outputs_hidden": false
    }
   },
   "outputs": [
    {
     "name": "stderr",
     "output_type": "stream",
     "text": [
      "Some weights of the model checkpoint at emilyalsentzer/Bio_ClinicalBERT were not used when initializing BertModel: ['cls.predictions.bias', 'cls.predictions.transform.dense.weight', 'cls.predictions.decoder.weight', 'cls.seq_relationship.weight', 'cls.predictions.transform.LayerNorm.bias', 'cls.predictions.transform.LayerNorm.weight', 'cls.seq_relationship.bias', 'cls.predictions.transform.dense.bias']\n",
      "- This IS expected if you are initializing BertModel from the checkpoint of a model trained on another task or with another architecture (e.g. initializing a BertForSequenceClassification model from a BertForPreTraining model).\n",
      "- This IS NOT expected if you are initializing BertModel from the checkpoint of a model that you expect to be exactly identical (initializing a BertForSequenceClassification model from a BertForSequenceClassification model).\n"
     ]
    }
   ],
   "source": [
    "model = MorganBioBertClassification()\n",
    "model = model.to(device)\n",
    "\n",
    "# Initiate loss to Binary Cross Entropy\n",
    "# criterion = nn.BCELoss()\n",
    "# criterion = nn.CrossEntropyLoss()\n",
    "\n",
    "# Optimizer\n",
    "# optimizer = optim.Adadelta(model.parameters(), lr=1e-7, weight_decay=1e-2)\n",
    "optimizer = optim.AdamW(model.parameters(), lr=1e-7, weight_decay=1e-2)"
   ]
  },
  {
   "cell_type": "code",
   "execution_count": 49,
   "metadata": {
    "collapsed": false,
    "jupyter": {
     "outputs_hidden": false
    }
   },
   "outputs": [
    {
     "data": {
      "text/plain": [
       "array([1.00000000e-07, 1.17681195e-07, 1.38488637e-07, 1.62975083e-07,\n",
       "       1.91791026e-07, 2.25701972e-07, 2.65608778e-07, 3.12571585e-07,\n",
       "       3.67837977e-07, 4.32876128e-07, 5.09413801e-07, 5.99484250e-07,\n",
       "       7.05480231e-07, 8.30217568e-07, 9.77009957e-07, 1.14975700e-06,\n",
       "       1.35304777e-06, 1.59228279e-06, 1.87381742e-06, 2.20513074e-06,\n",
       "       2.59502421e-06, 3.05385551e-06, 3.59381366e-06, 4.22924287e-06,\n",
       "       4.97702356e-06, 5.85702082e-06, 6.89261210e-06, 8.11130831e-06,\n",
       "       9.54548457e-06, 1.12332403e-05, 1.32194115e-05, 1.55567614e-05,\n",
       "       1.83073828e-05, 2.15443469e-05, 2.53536449e-05, 2.98364724e-05,\n",
       "       3.51119173e-05, 4.13201240e-05, 4.86260158e-05, 5.72236766e-05,\n",
       "       6.73415066e-05, 7.92482898e-05, 9.32603347e-05, 1.09749877e-04,\n",
       "       1.29154967e-04, 1.51991108e-04, 1.78864953e-04, 2.10490414e-04,\n",
       "       2.47707636e-04, 2.91505306e-04, 3.43046929e-04, 4.03701726e-04,\n",
       "       4.75081016e-04, 5.59081018e-04, 6.57933225e-04, 7.74263683e-04,\n",
       "       9.11162756e-04, 1.07226722e-03, 1.26185688e-03, 1.48496826e-03,\n",
       "       1.74752840e-03, 2.05651231e-03, 2.42012826e-03, 2.84803587e-03,\n",
       "       3.35160265e-03, 3.94420606e-03, 4.64158883e-03, 5.46227722e-03,\n",
       "       6.42807312e-03, 7.56463328e-03, 8.90215085e-03, 1.04761575e-02,\n",
       "       1.23284674e-02, 1.45082878e-02, 1.70735265e-02, 2.00923300e-02,\n",
       "       2.36448941e-02, 2.78255940e-02, 3.27454916e-02, 3.85352859e-02,\n",
       "       4.53487851e-02, 5.33669923e-02, 6.28029144e-02, 7.39072203e-02,\n",
       "       8.69749003e-02, 1.02353102e-01, 1.20450354e-01, 1.41747416e-01,\n",
       "       1.66810054e-01, 1.96304065e-01, 2.31012970e-01, 2.71858824e-01,\n",
       "       3.19926714e-01, 3.76493581e-01, 4.43062146e-01, 5.21400829e-01,\n",
       "       6.13590727e-01, 7.22080902e-01, 8.49753436e-01, 1.00000000e+00])"
      ]
     },
     "execution_count": 49,
     "metadata": {},
     "output_type": "execute_result"
    }
   ],
   "source": [
    "# Function to adjust the Learning Rate manually for Finding a good learning rate\n",
    "# Increase LR from 1e-7 to 10 in exponential manner\n",
    "n_step_lr = 100\n",
    "learning_rates = np.logspace(-7, 0, n_step_lr)\n",
    "\n",
    "def adjust_learning_rate(optimizer, step):\n",
    "    \"\"\"This function is for testing different learning rate in an epoch to find the best LR range\"\"\"\n",
    "    for param_group in optimizer.param_groups:\n",
    "        param_group['lr'] = learning_rates[step]\n",
    "\n",
    "learning_rates"
   ]
  },
  {
   "cell_type": "code",
   "execution_count": 21,
   "metadata": {
    "collapsed": false,
    "jupyter": {
     "outputs_hidden": false
    }
   },
   "outputs": [],
   "source": [
    "def format_time(seconds):\n",
    "    return str(datetime.timedelta(seconds=int(round(seconds))))"
   ]
  },
  {
   "cell_type": "code",
   "execution_count": 56,
   "metadata": {
    "collapsed": false,
    "jupyter": {
     "outputs_hidden": false
    }
   },
   "outputs": [],
   "source": [
    "import math\n",
    "\n",
    "## Define Learning Rate Finding fuction\n",
    "def train_LRFinder(train_loader, model, criterion, optimizer, verbose=True):\n",
    "    # reset total loss for each epoch\n",
    "    total_loss = 0\n",
    "\n",
    "    # LR Finding initialization\n",
    "    losses = []\n",
    "    lrs = []\n",
    "    loss_100iters = 0\n",
    "\n",
    "\n",
    "    # switch model to train mode\n",
    "    model.train()\n",
    "\n",
    "    # start time\n",
    "    t0 = time.time()\n",
    "\n",
    "    for step, data in enumerate(train_loader):\n",
    "        # zero out gradients in the optimizer each step\n",
    "        optimizer.zero_grad()\n",
    "\n",
    "        # send the data to cuda device\n",
    "        ids = data[0].to(device, dtype = torch.long)\n",
    "        mask = data[1].to(device, dtype = torch.long)\n",
    "        target = data[2].to(device)\n",
    "        morgan_embedding = data[3].to(device)\n",
    "    \n",
    "        # compute output\n",
    "        output = model(input_ids=ids, \n",
    "                       attention_mask=mask,\n",
    "                       morgan_embedding=morgan_embedding,\n",
    "                       # labels=target\n",
    "                      )\n",
    "\n",
    "        # compute loss\n",
    "        loss = criterion(output, target)\n",
    "        # loss = output['loss']\n",
    "\n",
    "        # Accumulate the training loss over all of the batches\n",
    "        total_loss += loss.item()\n",
    "        loss_100iters += loss.item()\n",
    "\n",
    "        # compute gradient\n",
    "        # backprop!\n",
    "        loss.backward()\n",
    "\n",
    "        # update the weights!\n",
    "        optimizer.step()\n",
    "\n",
    "        # Report progress\n",
    "        update_lr_step = int(math.ceil(len(train_loader)/n_step_lr))  #step = 131\n",
    "        if step % update_lr_step == 0 and not step == 0 and verbose==True:\n",
    "            n_iter_lr = int(step//update_lr_step)\n",
    "            # Average loss for the current LR\n",
    "            loss_100iters = loss_100iters / update_lr_step\n",
    "            lr = learning_rates[n_iter_lr]\n",
    "\n",
    "            print('Batch {:>5,}  of  {:>5,}.   Step Loss {:0.4f}   Avg Loss {:0.4f}   Learning Rate {:}    Elapsed: {:}.'.format(\n",
    "                step,\n",
    "                len(train_loader),\n",
    "                loss.item(),\n",
    "                loss_100iters,\n",
    "                lr,\n",
    "                format_time(time.time() - t0)))\n",
    "\n",
    "            # Add loss & lr to list for ploting later\n",
    "            losses.append(loss_100iters)\n",
    "            lrs.append(lr)\n",
    "\n",
    "            # update learning rate\n",
    "            # scheduler.step()\n",
    "            adjust_learning_rate(optimizer, n_iter_lr)\n",
    "\n",
    "            # Reset loss for next lr\n",
    "            loss_100iters = 0\n",
    "\n",
    "    # Last iteration\n",
    "    resid = len(train_loader) - update_lr_step*(n_step_lr-1)\n",
    "    loss_100iters = loss_100iters / resid\n",
    "    # Add loss & lr to list for ploting later\n",
    "    losses.append(loss_100iters)\n",
    "    lrs.append(learning_rates[-1])\n",
    "\n",
    "    avg_train_loss = total_loss / len(train_loader)\n",
    "    elapsed_time = time.time() - t0\n",
    "    if verbose:\n",
    "        print (\"\\nAvg Training Loss {:0.4f}, Completed in {:} \\n\".format(\n",
    "            avg_train_loss,\n",
    "            format_time(elapsed_time)\n",
    "        ))\n",
    "\n",
    "    # return model, avg_train_loss, elapsed_time\n",
    "    return losses, lrs"
   ]
  },
  {
   "cell_type": "code",
   "execution_count": 25,
   "metadata": {},
   "outputs": [
    {
     "data": {
      "text/plain": [
       "102"
      ]
     },
     "execution_count": 25,
     "metadata": {},
     "output_type": "execute_result"
    }
   ],
   "source": [
    "len(train_loader) - 131*(n_step_lr-1)\n",
    "# math.ceil(len(train_loader)/n_step_lr)"
   ]
  },
  {
   "cell_type": "code",
   "execution_count": 51,
   "metadata": {},
   "outputs": [],
   "source": [
    "os.environ[\"TOKENIZERS_PARALLELISM\"] = \"TRUE\""
   ]
  },
  {
   "cell_type": "code",
   "execution_count": 57,
   "metadata": {
    "collapsed": false,
    "jupyter": {
     "outputs_hidden": false
    }
   },
   "outputs": [
    {
     "name": "stdout",
     "output_type": "stream",
     "text": [
      "-----  Learning Rate Finder -----\n",
      "Batch   131  of  13,071.   Step Loss 3.0775   Avg Loss 3.0717   Learning Rate 1.1768119524349991e-07    Elapsed: 0:00:34.\n",
      "Batch   262  of  13,071.   Step Loss 3.0589   Avg Loss 3.0475   Learning Rate 1.3848863713938718e-07    Elapsed: 0:01:04.\n",
      "Batch   393  of  13,071.   Step Loss 3.0426   Avg Loss 3.0512   Learning Rate 1.6297508346206436e-07    Elapsed: 0:01:34.\n",
      "Batch   524  of  13,071.   Step Loss 3.0654   Avg Loss 3.0487   Learning Rate 1.9179102616724887e-07    Elapsed: 0:02:04.\n",
      "Batch   655  of  13,071.   Step Loss 3.0450   Avg Loss 3.0490   Learning Rate 2.2570197196339216e-07    Elapsed: 0:02:34.\n",
      "Batch   786  of  13,071.   Step Loss 3.0735   Avg Loss 3.0497   Learning Rate 2.656087782946684e-07    Elapsed: 0:03:04.\n",
      "Batch   917  of  13,071.   Step Loss 3.0589   Avg Loss 3.0484   Learning Rate 3.125715849688235e-07    Elapsed: 0:03:35.\n",
      "Batch 1,048  of  13,071.   Step Loss 3.0546   Avg Loss 3.0482   Learning Rate 3.678379771828634e-07    Elapsed: 0:04:05.\n",
      "Batch 1,179  of  13,071.   Step Loss 3.0376   Avg Loss 3.0527   Learning Rate 4.3287612810830616e-07    Elapsed: 0:04:35.\n",
      "Batch 1,310  of  13,071.   Step Loss 3.0803   Avg Loss 3.0531   Learning Rate 5.094138014816375e-07    Elapsed: 0:05:05.\n",
      "Batch 1,441  of  13,071.   Step Loss 3.0485   Avg Loss 3.0479   Learning Rate 5.994842503189409e-07    Elapsed: 0:05:36.\n",
      "Batch 1,572  of  13,071.   Step Loss 3.0634   Avg Loss 3.0477   Learning Rate 7.054802310718645e-07    Elapsed: 0:06:06.\n",
      "Batch 1,703  of  13,071.   Step Loss 3.0820   Avg Loss 3.0473   Learning Rate 8.302175681319736e-07    Elapsed: 0:06:36.\n",
      "Batch 1,834  of  13,071.   Step Loss 3.0221   Avg Loss 3.0480   Learning Rate 9.770099572992247e-07    Elapsed: 0:07:07.\n",
      "Batch 1,965  of  13,071.   Step Loss 3.0298   Avg Loss 3.0481   Learning Rate 1.1497569953977357e-06    Elapsed: 0:07:37.\n",
      "Batch 2,096  of  13,071.   Step Loss 3.0377   Avg Loss 3.0510   Learning Rate 1.3530477745798075e-06    Elapsed: 0:08:07.\n",
      "Batch 2,227  of  13,071.   Step Loss 3.0480   Avg Loss 3.0510   Learning Rate 1.592282793341094e-06    Elapsed: 0:08:38.\n",
      "Batch 2,358  of  13,071.   Step Loss 3.0674   Avg Loss 3.0485   Learning Rate 1.873817422860383e-06    Elapsed: 0:09:08.\n",
      "Batch 2,489  of  13,071.   Step Loss 3.0577   Avg Loss 3.0482   Learning Rate 2.2051307399030456e-06    Elapsed: 0:09:38.\n",
      "Batch 2,620  of  13,071.   Step Loss 3.0851   Avg Loss 3.0459   Learning Rate 2.5950242113997373e-06    Elapsed: 0:10:09.\n",
      "Batch 2,751  of  13,071.   Step Loss 3.0483   Avg Loss 3.0492   Learning Rate 3.0538555088334123e-06    Elapsed: 0:10:39.\n",
      "Batch 2,882  of  13,071.   Step Loss 3.0568   Avg Loss 3.0521   Learning Rate 3.5938136638046257e-06    Elapsed: 0:11:09.\n",
      "Batch 3,013  of  13,071.   Step Loss 3.0775   Avg Loss 3.0499   Learning Rate 4.229242874389499e-06    Elapsed: 0:11:39.\n",
      "Batch 3,144  of  13,071.   Step Loss 3.0288   Avg Loss 3.0492   Learning Rate 4.977023564332114e-06    Elapsed: 0:12:10.\n",
      "Batch 3,275  of  13,071.   Step Loss 3.0700   Avg Loss 3.0497   Learning Rate 5.857020818056661e-06    Elapsed: 0:12:40.\n",
      "Batch 3,406  of  13,071.   Step Loss 3.0530   Avg Loss 3.0481   Learning Rate 6.892612104349695e-06    Elapsed: 0:13:10.\n",
      "Batch 3,537  of  13,071.   Step Loss 3.0786   Avg Loss 3.0485   Learning Rate 8.111308307896873e-06    Elapsed: 0:13:40.\n",
      "Batch 3,668  of  13,071.   Step Loss 3.0625   Avg Loss 3.0499   Learning Rate 9.545484566618328e-06    Elapsed: 0:14:10.\n",
      "Batch 3,799  of  13,071.   Step Loss 3.0520   Avg Loss 3.0486   Learning Rate 1.1233240329780266e-05    Elapsed: 0:14:40.\n",
      "Batch 3,930  of  13,071.   Step Loss 3.0324   Avg Loss 3.0493   Learning Rate 1.3219411484660286e-05    Elapsed: 0:15:11.\n",
      "Batch 4,061  of  13,071.   Step Loss 3.0663   Avg Loss 3.0487   Learning Rate 1.5556761439304724e-05    Elapsed: 0:15:41.\n",
      "Batch 4,192  of  13,071.   Step Loss 3.0301   Avg Loss 3.0480   Learning Rate 1.8307382802953696e-05    Elapsed: 0:16:11.\n",
      "Batch 4,323  of  13,071.   Step Loss 3.0340   Avg Loss 3.0485   Learning Rate 2.1544346900318823e-05    Elapsed: 0:16:42.\n",
      "Batch 4,454  of  13,071.   Step Loss 3.0524   Avg Loss 3.0460   Learning Rate 2.5353644939701114e-05    Elapsed: 0:17:12.\n",
      "Batch 4,585  of  13,071.   Step Loss 3.0765   Avg Loss 3.0439   Learning Rate 2.9836472402833343e-05    Elapsed: 0:17:42.\n",
      "Batch 4,716  of  13,071.   Step Loss 3.0400   Avg Loss 3.0464   Learning Rate 3.511191734215127e-05    Elapsed: 0:18:13.\n",
      "Batch 4,847  of  13,071.   Step Loss 3.0533   Avg Loss 3.0433   Learning Rate 4.1320124001153344e-05    Elapsed: 0:18:43.\n",
      "Batch 4,978  of  13,071.   Step Loss 3.0286   Avg Loss 3.0453   Learning Rate 4.8626015800653536e-05    Elapsed: 0:19:13.\n",
      "Batch 5,109  of  13,071.   Step Loss 3.0283   Avg Loss 3.0430   Learning Rate 5.72236765935022e-05    Elapsed: 0:19:44.\n",
      "Batch 5,240  of  13,071.   Step Loss 3.0488   Avg Loss 3.0419   Learning Rate 6.734150657750829e-05    Elapsed: 0:20:14.\n",
      "Batch 5,371  of  13,071.   Step Loss 3.0368   Avg Loss 3.0393   Learning Rate 7.92482898353917e-05    Elapsed: 0:20:44.\n",
      "Batch 5,502  of  13,071.   Step Loss 3.0228   Avg Loss 3.0386   Learning Rate 9.326033468832199e-05    Elapsed: 0:21:14.\n",
      "Batch 5,633  of  13,071.   Step Loss 3.0410   Avg Loss 3.0333   Learning Rate 0.00010974987654930556    Elapsed: 0:21:45.\n",
      "Batch 5,764  of  13,071.   Step Loss 2.9605   Avg Loss 3.0143   Learning Rate 0.0001291549665014884    Elapsed: 0:22:15.\n",
      "Batch 5,895  of  13,071.   Step Loss 2.9317   Avg Loss 2.9836   Learning Rate 0.0001519911082952933    Elapsed: 0:22:45.\n",
      "Batch 6,026  of  13,071.   Step Loss 2.9962   Avg Loss 2.9566   Learning Rate 0.0001788649529057435    Elapsed: 0:23:16.\n",
      "Batch 6,157  of  13,071.   Step Loss 3.0493   Avg Loss 2.9391   Learning Rate 0.00021049041445120198    Elapsed: 0:23:46.\n",
      "Batch 6,288  of  13,071.   Step Loss 2.9440   Avg Loss 2.9106   Learning Rate 0.0002477076355991709    Elapsed: 0:24:16.\n",
      "Batch 6,419  of  13,071.   Step Loss 2.6602   Avg Loss 2.8980   Learning Rate 0.0002915053062825176    Elapsed: 0:24:47.\n",
      "Batch 6,550  of  13,071.   Step Loss 2.7598   Avg Loss 2.8825   Learning Rate 0.0003430469286314916    Elapsed: 0:25:17.\n",
      "Batch 6,681  of  13,071.   Step Loss 2.9746   Avg Loss 2.8519   Learning Rate 0.0004037017258596554    Elapsed: 0:25:47.\n",
      "Batch 6,812  of  13,071.   Step Loss 3.0235   Avg Loss 2.8188   Learning Rate 0.00047508101621027935    Elapsed: 0:26:18.\n",
      "Batch 6,943  of  13,071.   Step Loss 2.7817   Avg Loss 2.8322   Learning Rate 0.0005590810182512223    Elapsed: 0:26:48.\n",
      "Batch 7,074  of  13,071.   Step Loss 2.7677   Avg Loss 2.7977   Learning Rate 0.0006579332246575676    Elapsed: 0:27:18.\n",
      "Batch 7,205  of  13,071.   Step Loss 2.7490   Avg Loss 2.8062   Learning Rate 0.000774263682681127    Elapsed: 0:27:49.\n",
      "Batch 7,336  of  13,071.   Step Loss 2.7781   Avg Loss 2.7722   Learning Rate 0.0009111627561154887    Elapsed: 0:28:19.\n",
      "Batch 7,467  of  13,071.   Step Loss 2.4195   Avg Loss 2.7266   Learning Rate 0.0010722672220103231    Elapsed: 0:28:49.\n",
      "Batch 7,598  of  13,071.   Step Loss 2.6616   Avg Loss 2.7463   Learning Rate 0.0012618568830660211    Elapsed: 0:29:20.\n",
      "Batch 7,729  of  13,071.   Step Loss 2.8095   Avg Loss 2.6886   Learning Rate 0.0014849682622544635    Elapsed: 0:29:50.\n",
      "Batch 7,860  of  13,071.   Step Loss 2.6832   Avg Loss 2.7250   Learning Rate 0.001747528400007683    Elapsed: 0:30:20.\n",
      "Batch 7,991  of  13,071.   Step Loss 2.5735   Avg Loss 2.6739   Learning Rate 0.0020565123083486517    Elapsed: 0:30:51.\n",
      "Batch 8,122  of  13,071.   Step Loss 2.4120   Avg Loss 2.7047   Learning Rate 0.0024201282647943836    Elapsed: 0:31:21.\n",
      "Batch 8,253  of  13,071.   Step Loss 2.6612   Avg Loss 2.6777   Learning Rate 0.002848035868435799    Elapsed: 0:31:51.\n",
      "Batch 8,384  of  13,071.   Step Loss 2.7043   Avg Loss 2.6829   Learning Rate 0.003351602650938841    Elapsed: 0:32:22.\n",
      "Batch 8,515  of  13,071.   Step Loss 2.7142   Avg Loss 2.7310   Learning Rate 0.003944206059437656    Elapsed: 0:32:52.\n",
      "Batch 8,646  of  13,071.   Step Loss 2.6993   Avg Loss 2.7275   Learning Rate 0.004641588833612773    Elapsed: 0:33:23.\n",
      "Batch 8,777  of  13,071.   Step Loss 2.6562   Avg Loss 2.7805   Learning Rate 0.005462277217684337    Elapsed: 0:33:53.\n",
      "Batch 8,908  of  13,071.   Step Loss 2.9108   Avg Loss 2.7954   Learning Rate 0.006428073117284319    Elapsed: 0:34:23.\n",
      "Batch 9,039  of  13,071.   Step Loss 3.0629   Avg Loss 2.8461   Learning Rate 0.007564633275546291    Elapsed: 0:34:54.\n",
      "Batch 9,170  of  13,071.   Step Loss 2.7716   Avg Loss 2.8613   Learning Rate 0.008902150854450374    Elapsed: 0:35:24.\n",
      "Batch 9,301  of  13,071.   Step Loss 3.0261   Avg Loss 2.9022   Learning Rate 0.010476157527896641    Elapsed: 0:35:54.\n",
      "Batch 9,432  of  13,071.   Step Loss 2.9045   Avg Loss 2.9270   Learning Rate 0.012328467394420659    Elapsed: 0:36:25.\n",
      "Batch 9,563  of  13,071.   Step Loss 3.0443   Avg Loss 3.0295   Learning Rate 0.014508287784959401    Elapsed: 0:36:55.\n",
      "Batch 9,694  of  13,071.   Step Loss 3.0494   Avg Loss 3.0444   Learning Rate 0.017073526474706887    Elapsed: 0:37:25.\n",
      "Batch 9,825  of  13,071.   Step Loss 3.0380   Avg Loss 3.0455   Learning Rate 0.02009233002565046    Elapsed: 0:37:56.\n",
      "Batch 9,956  of  13,071.   Step Loss 3.0251   Avg Loss 3.0555   Learning Rate 0.023644894126454073    Elapsed: 0:38:26.\n",
      "Batch 10,087  of  13,071.   Step Loss 3.0576   Avg Loss 3.0490   Learning Rate 0.02782559402207126    Elapsed: 0:38:56.\n",
      "Batch 10,218  of  13,071.   Step Loss 3.0119   Avg Loss 3.0553   Learning Rate 0.03274549162877725    Elapsed: 0:39:27.\n",
      "Batch 10,349  of  13,071.   Step Loss 3.0530   Avg Loss 3.0553   Learning Rate 0.03853528593710527    Elapsed: 0:39:57.\n",
      "Batch 10,480  of  13,071.   Step Loss 3.1369   Avg Loss 3.0675   Learning Rate 0.04534878508128582    Elapsed: 0:40:28.\n",
      "Batch 10,611  of  13,071.   Step Loss 3.0224   Avg Loss 3.0592   Learning Rate 0.053366992312063016    Elapsed: 0:40:58.\n",
      "Batch 10,742  of  13,071.   Step Loss 3.0713   Avg Loss 3.0580   Learning Rate 0.06280291441834246    Elapsed: 0:41:28.\n",
      "Batch 10,873  of  13,071.   Step Loss 3.0185   Avg Loss 3.0580   Learning Rate 0.07390722033525775    Elapsed: 0:41:58.\n",
      "Batch 11,004  of  13,071.   Step Loss 3.0447   Avg Loss 3.0609   Learning Rate 0.08697490026177834    Elapsed: 0:42:29.\n",
      "Batch 11,135  of  13,071.   Step Loss 3.0960   Avg Loss 3.0631   Learning Rate 0.10235310218990247    Elapsed: 0:42:59.\n",
      "Batch 11,266  of  13,071.   Step Loss 3.1223   Avg Loss 96.2787   Learning Rate 0.12045035402587811    Elapsed: 0:43:29.\n",
      "Batch 11,397  of  13,071.   Step Loss 3.1181   Avg Loss 6.0771   Learning Rate 0.14174741629268048    Elapsed: 0:43:59.\n",
      "Batch 11,528  of  13,071.   Step Loss 2.9924   Avg Loss 3.1335   Learning Rate 0.1668100537200059    Elapsed: 0:44:30.\n",
      "Batch 11,659  of  13,071.   Step Loss 3.1123   Avg Loss 3.0798   Learning Rate 0.19630406500402683    Elapsed: 0:45:00.\n",
      "Batch 11,790  of  13,071.   Step Loss 3.0814   Avg Loss 3.0827   Learning Rate 0.2310129700083158    Elapsed: 0:45:31.\n",
      "Batch 11,921  of  13,071.   Step Loss 3.1112   Avg Loss 3.0863   Learning Rate 0.271858824273294    Elapsed: 0:46:01.\n",
      "Batch 12,052  of  13,071.   Step Loss 3.1805   Avg Loss 3.1118   Learning Rate 0.31992671377973847    Elapsed: 0:46:31.\n",
      "Batch 12,183  of  13,071.   Step Loss 3.1082   Avg Loss 3.1129   Learning Rate 0.3764935806792464    Elapsed: 0:47:02.\n",
      "Batch 12,314  of  13,071.   Step Loss 3.1992   Avg Loss 19390.6969   Learning Rate 0.44306214575838776    Elapsed: 0:47:32.\n",
      "Batch 12,445  of  13,071.   Step Loss 3.0989   Avg Loss 1615.5266   Learning Rate 0.5214008287999684    Elapsed: 0:48:02.\n",
      "Batch 12,576  of  13,071.   Step Loss 3.1446   Avg Loss 94.6776   Learning Rate 0.6135907273413164    Elapsed: 0:48:33.\n",
      "Batch 12,707  of  13,071.   Step Loss 3.2254   Avg Loss 44052.1599   Learning Rate 0.7220809018385457    Elapsed: 0:49:03.\n",
      "Batch 12,838  of  13,071.   Step Loss 2.9637   Avg Loss 12.0341   Learning Rate 0.8497534359086438    Elapsed: 0:49:33.\n",
      "Batch 12,969  of  13,071.   Step Loss 3.2657   Avg Loss 3.1965   Learning Rate 1.0    Elapsed: 0:50:04.\n",
      "\n",
      "Avg Training Loss 656.8960, Completed in 0:50:31 \n",
      "\n",
      "Losses Dim: 100\n",
      "LR Dim: 100\n"
     ]
    }
   ],
   "source": [
    "print ('-----  Learning Rate Finder -----')\n",
    "losses, lrs = train_LRFinder(train_loader, model, criterion, optimizer)\n",
    "print('Losses Dim:', len(losses))\n",
    "print('LR Dim:', len(lrs))"
   ]
  },
  {
   "cell_type": "code",
   "execution_count": 60,
   "metadata": {
    "collapsed": false,
    "jupyter": {
     "outputs_hidden": false
    }
   },
   "outputs": [
    {
     "data": {
      "image/png": "[encoded data removed]",
      "text/plain": [
       "<Figure size 640x480 with 1 Axes>"
      ]
     },
     "metadata": {},
     "output_type": "display_data"
    }
   ],
   "source": [
    "plt.title(\"Learning Rate Finder\")\n",
    "plt.ylabel(\"Loss\")\n",
    "plt.xlabel(\"Learning Rate (log scale)\")\n",
    "plt.plot(lrs[:100], losses[:100])\n",
    "plt.xscale('log')"
   ]
  },
  {
   "cell_type": "code",
   "execution_count": 61,
   "metadata": {},
   "outputs": [
    {
     "data": {
      "image/png": "[encoded data removed]",
      "text/plain": [
       "<Figure size 640x480 with 1 Axes>"
      ]
     },
     "metadata": {},
     "output_type": "display_data"
    }
   ],
   "source": [
    "plt.title(\"Learning Rate Finder - Zoomed In\")\n",
    "plt.ylabel(\"Loss\")\n",
    "plt.xlabel(\"Learning Rate (log scale)\")\n",
    "plt.plot(lrs[:85], losses[:85])\n",
    "plt.xscale('log')"
   ]
  },
  {
   "cell_type": "markdown",
   "metadata": {
    "collapsed": false,
    "jupyter": {
     "outputs_hidden": false
    }
   },
   "source": [
    "#### Training with Best LR"
   ]
  },
  {
   "cell_type": "code",
   "execution_count": 68,
   "metadata": {
    "collapsed": false,
    "jupyter": {
     "outputs_hidden": false
    }
   },
   "outputs": [],
   "source": [
    "# Define hyperparameters\n",
    "BATCH_SIZE = 24\n",
    "EPOCHS = 90\n",
    "LEARNING_RATE = 0.00335\n",
    "WEIGHT_DECAY = 1e-2\n",
    "WORKERS = int(os.cpu_count())"
   ]
  },
  {
   "cell_type": "code",
   "execution_count": 69,
   "metadata": {},
   "outputs": [],
   "source": [
    "# BERT Model\n",
    "class MorganBioBertClassification(nn.Module):\n",
    "    def __init__(self, num_labels=21,\n",
    "                 hidden_size=68, hidden_size2=54, hidden_size3=40,\n",
    "                 dropout=0.1, unfreeze=False):\n",
    "        super(MorganBioBertClassification, self).__init__()\n",
    "        self.bert_model = AutoModel.from_pretrained(\"emilyalsentzer/Bio_ClinicalBERT\")\n",
    "        self.num_labels = num_labels\n",
    "\n",
    "        # Unfreeze the last BERT transformer layer\n",
    "        if unfreeze == \"last layer\":\n",
    "            for name, param in self.bert_model.named_parameters():\n",
    "                if 'bert_model.encoder.layer.11' in name:\n",
    "                    param.requires_grad = True\n",
    "                else:\n",
    "                    param.requires_grad = False\n",
    "        if unfreeze == \"last two\":\n",
    "            for name, param in self.bert_model.named_parameters():\n",
    "                if 'bert_model.encoder.layer.11' in name or 'bert_model.encoder.layer.10' in name:\n",
    "                    param.requires_grad = True\n",
    "                else:\n",
    "                    param.requires_grad = False\n",
    "        if unfreeze == \"all layers\":\n",
    "            for name, param in self.bert_model.named_parameters():\n",
    "                param.requires_grad = True\n",
    "        else:\n",
    "            for name, param in self.bert_model.named_parameters():\n",
    "                param.requires_grad = False\n",
    "\n",
    "        self.bert_hidden_size = self.bert_model.config.hidden_size\n",
    "        self.hidden_size = hidden_size\n",
    "        self.hidden_size2 = hidden_size2\n",
    "        self.hidden_size3 = hidden_size3\n",
    "        self.hidden_layer = nn.Linear(self.bert_hidden_size, self.hidden_size)\n",
    "        self.hidden_layer2 = nn.Linear(self.hidden_size, self.hidden_size2)\n",
    "        self.hidden_layer3 = nn.Linear(self.hidden_size2, self.hidden_size3)\n",
    "\n",
    "        # Morgan Embedding First hidden layer\n",
    "        self.hidden_layer_morgan = nn.Linear(600, self.hidden_size)\n",
    "        self.hidden_layer2_morgan = nn.Linear(self.hidden_size, self.hidden_size2)\n",
    "        self.hidden_layer3_morgan = nn.Linear(self.hidden_size2, self.hidden_size3)\n",
    "\n",
    "        # One hidden Layer after combining both branches\n",
    "        self.hidden_layer_combine = nn.Linear(2*self.hidden_size3, hidden_size3)\n",
    "\n",
    "        self.drop_out = nn.Dropout(dropout)\n",
    "\n",
    "        self.classification = nn.Linear(hidden_size3, self.num_labels)\n",
    "\n",
    "        self.GeLU = nn.GELU()\n",
    "        # self.Sigmoid = nn.Sigmoid()\n",
    "\n",
    "    def forward(self, input_ids, attention_mask, morgan_embedding, labels=None):\n",
    "        # Output for target data\n",
    "        bert_output = self.bert_model(input_ids=input_ids,\n",
    "                                      attention_mask=attention_mask)\n",
    "\n",
    "        pooler_token = bert_output[1]\n",
    "\n",
    "        hidden_ouput = self.GeLU(self.hidden_layer(pooler_token))\n",
    "        hidden_ouput = self.drop_out(hidden_ouput)\n",
    "        hidden_ouput = self.GeLU(self.hidden_layer2(hidden_ouput))\n",
    "        hidden_ouput = self.drop_out(hidden_ouput)\n",
    "        hidden_ouput = self.GeLU(self.hidden_layer3(hidden_ouput))\n",
    "        hidden_ouput = self.drop_out(hidden_ouput)\n",
    "\n",
    "        # Output for SMILES Morgan Embedding\n",
    "        hidden_morgan_output = self.GeLU(self.hidden_layer_morgan(morgan_embedding))\n",
    "        hidden_morgan_output = self.drop_out(hidden_morgan_output)\n",
    "        hidden_morgan_output = self.GeLU(self.hidden_layer2_morgan(hidden_morgan_output))\n",
    "        hidden_morgan_output = self.drop_out(hidden_morgan_output)\n",
    "        hidden_morgan_output = self.GeLU(self.hidden_layer3_morgan(hidden_morgan_output))\n",
    "        hidden_morgan_output = self.drop_out(hidden_morgan_output)\n",
    "\n",
    "        # Concatenate hidden_output and morgan_output\n",
    "        concat_output = torch.cat((hidden_morgan_output, hidden_ouput), 1)\n",
    "        hidden_concat_output = self.GeLU(self.hidden_layer_combine(concat_output))\n",
    "        hidden_concat_output = self.drop_out(hidden_concat_output)\n",
    "\n",
    "        ## Binary\n",
    "        # output = self.Sigmoid(self.classification(hidden_concat_output))\n",
    "        # output = output.flatten()\n",
    "        # return output\n",
    "\n",
    "        ## Multiclasses\n",
    "        logits = self.classification(hidden_concat_output)\n",
    "        if labels:\n",
    "            loss_fct = nn.CrossEntropyLoss()\n",
    "            loss = loss_fct(logits.view(-1, self.num_labels), labels.view(-1))\n",
    "            return {\"loss\": loss, \"logits\": logits}\n",
    "\n",
    "        return logits\n"
   ]
  },
  {
   "cell_type": "code",
   "execution_count": 70,
   "metadata": {
    "collapsed": false,
    "jupyter": {
     "outputs_hidden": false
    }
   },
   "outputs": [
    {
     "name": "stderr",
     "output_type": "stream",
     "text": [
      "Some weights of the model checkpoint at emilyalsentzer/Bio_ClinicalBERT were not used when initializing BertModel: ['cls.predictions.bias', 'cls.predictions.transform.dense.weight', 'cls.predictions.decoder.weight', 'cls.seq_relationship.weight', 'cls.predictions.transform.LayerNorm.bias', 'cls.predictions.transform.LayerNorm.weight', 'cls.seq_relationship.bias', 'cls.predictions.transform.dense.bias']\n",
      "- This IS expected if you are initializing BertModel from the checkpoint of a model trained on another task or with another architecture (e.g. initializing a BertForSequenceClassification model from a BertForPreTraining model).\n",
      "- This IS NOT expected if you are initializing BertModel from the checkpoint of a model that you expect to be exactly identical (initializing a BertForSequenceClassification model from a BertForSequenceClassification model).\n"
     ]
    }
   ],
   "source": [
    "# from transformers import get_linear_schedule_with_warmup\n",
    "# Initialize Model\n",
    "model = MorganBioBertClassification(unfreeze=False)\n",
    "\n",
    "# Continue training\n",
    "model = model.to(device)\n",
    "# checkpoint = torch.load(\"models/checkpoint.pth.tar\")\n",
    "# model.load_state_dict(checkpoint['state_dict'])\n",
    "\n",
    "# Initiate loss Function\n",
    "# criterion = nn.BCELoss()\n",
    "criterion = nn.CrossEntropyLoss().to(device)\n",
    "\n",
    "# Optimizer\n",
    "# optimizer = optim.Adadelta(model.parameters(), lr=LEARNING_RATE, weight_decay=WEIGHT_DECAY)\n",
    "optimizer = optim.AdamW(model.parameters(), lr=LEARNING_RATE, weight_decay=WEIGHT_DECAY)\n",
    "\n",
    "# Create learning rate scheduler.\n",
    "T_max = EPOCHS*len(train_loader)\n",
    "scheduler = optim.lr_scheduler.CosineAnnealingLR(optimizer, T_max=T_max, eta_min = 5e-6)\n",
    "# scheduler = get_linear_schedule_with_warmup(optimizer, num_warmup_steps=0.1*T_max, num_training_steps=T_max)"
   ]
  },
  {
   "cell_type": "code",
   "execution_count": 79,
   "metadata": {
    "collapsed": false,
    "jupyter": {
     "outputs_hidden": false
    }
   },
   "outputs": [],
   "source": [
    "## Define train function\n",
    "def train(train_loader, model, criterion, optimizer, verbose=True):\n",
    "    # reset total loss for each epoch\n",
    "    total_loss = 0\n",
    "\n",
    "    # switch model to train mode\n",
    "    model.train()\n",
    "\n",
    "    # start time\n",
    "    t0 = time.time()\n",
    "\n",
    "    for step, data in enumerate(train_loader):\n",
    "        # zero out gradients in the optimizer each step\n",
    "        optimizer.zero_grad()\n",
    "\n",
    "        # send the data to cuda device\n",
    "        ids = data[0].to(device, dtype = torch.long)\n",
    "        mask = data[1].to(device, dtype = torch.long)\n",
    "        # target = data[2].float().to(device)   # 1 head\n",
    "        target = data[2].to(device, dtype = torch.long)   # multilabels\n",
    "        morgan_embedding = data[3].to(device)\n",
    "    \n",
    "        # compute output\n",
    "        output = model(input_ids=ids, \n",
    "                       attention_mask=mask,\n",
    "                       morgan_embedding=morgan_embedding\n",
    "                      )\n",
    "\n",
    "        # compute loss\n",
    "        loss = criterion(output, target)\n",
    "        # loss = output['loss']\n",
    "\n",
    "        # Accumulate the training loss over all of the batches\n",
    "        total_loss += loss.item()\n",
    "\n",
    "        # Report progress every 200 batches\n",
    "        if step % 2000 == 0 and not step == 0 and verbose==True:\n",
    "            print('Batch {:>5,}  of  {:>5,}.  Loss {:0.4f}  Elapsed: {:}.'.format(\n",
    "                step,\n",
    "                len(train_loader),\n",
    "                loss.item(),\n",
    "                format_time(time.time() - t0)))\n",
    "\n",
    "        # compute gradient and do SGD\n",
    "        # backprop!\n",
    "        loss.backward()\n",
    "\n",
    "        # update the weights!\n",
    "        optimizer.step()\n",
    "\n",
    "        # update learning rate with scheduler\n",
    "        scheduler.step()\n",
    "\n",
    "    avg_train_loss = total_loss / len(train_loader)\n",
    "    elapsed_time = time.time() - t0\n",
    "    if verbose:\n",
    "        print (\"\\nAvg Training Loss {:0.4f}, Completed in {:} \\n\".format(\n",
    "            avg_train_loss,\n",
    "            format_time(elapsed_time)\n",
    "        ))\n",
    "\n",
    "    # return model, avg_train_loss, elapsed_time\n",
    "    return avg_train_loss, elapsed_time"
   ]
  },
  {
   "cell_type": "code",
   "execution_count": 80,
   "metadata": {
    "collapsed": false,
    "jupyter": {
     "outputs_hidden": false
    }
   },
   "outputs": [],
   "source": [
    "## Define validate function\n",
    "def validate(val_loader, model, criterion, verbose=True):\n",
    "    # Initialize\n",
    "    targets=[]\n",
    "    outputs=[]\n",
    "    t0 = time.time()\n",
    "    total_val_loss = 0\n",
    "\n",
    "    # switch to evaluate mode\n",
    "    model.eval()\n",
    "\n",
    "    with torch.no_grad():\n",
    "        for step, data in enumerate(val_loader):\n",
    "\n",
    "            # send the data to cuda device\n",
    "            ids = data[0].to(device, dtype = torch.long)\n",
    "            mask = data[1].to(device, dtype = torch.long)\n",
    "            # target = data[2].float().to(device) # 1 head\n",
    "            target = data[2].to(device, dtype = torch.long)   # multilabels\n",
    "            morgan_embedding = data[3].to(device)\n",
    "        \n",
    "            # compute output\n",
    "            output = model(input_ids=ids, \n",
    "                           attention_mask=mask,\n",
    "                           morgan_embedding=morgan_embedding\n",
    "                          )\n",
    "\n",
    "            # compute loss\n",
    "            loss = criterion(output, target)\n",
    "            # loss = output['loss']\n",
    "\n",
    "            # Accumulate the validation loss over all of the batches to calculate average loss\n",
    "            total_val_loss += loss.item()\n",
    "\n",
    "            targets.extend(target.cpu().detach().numpy().tolist())\n",
    "            outputs.extend(output.cpu().detach().numpy().tolist())\n",
    "\n",
    "            if step % 1000 == 0 and not step == 0 and verbose==True:\n",
    "                print('Batch {:>5,}  of  {:>5,}.  Loss {:0.4f}  Elapsed: {:}.'.format(\n",
    "                    step,\n",
    "                    len(val_loader),\n",
    "                    loss.item(),\n",
    "                    format_time(time.time() - t0)))\n",
    "\n",
    "    avg_val_loss = total_val_loss / len(val_loader)\n",
    "    elapsed_time = time.time() - t0\n",
    "    if verbose:\n",
    "        print (\"\\nAvg Validation Loss {:0.4f}, Completed in {:}\".format(\n",
    "            avg_val_loss,\n",
    "            format_time(elapsed_time)\n",
    "        ))\n",
    "\n",
    "    return outputs, targets, avg_val_loss, elapsed_time\n"
   ]
  },
  {
   "cell_type": "code",
   "execution_count": 75,
   "metadata": {
    "collapsed": false,
    "jupyter": {
     "outputs_hidden": false
    }
   },
   "outputs": [],
   "source": [
    "# calculate the F1 score, auc, accuracy of our predictions vs labels\n",
    "def compute_metrics(outputs, targets, prefix=\"Training\"):\n",
    "    # y_pred = (np.array(outputs) >= 0.5).astype(float)\n",
    "    # y_score = np.array(outputs)\n",
    "    y_pred = np.argmax(outputs, axis=1)\n",
    "    y_score = np.exp(outputs) / np.sum(np.exp(outputs), axis=1, keepdims=True)\n",
    "    # y_score = softmax[:, 1]\n",
    "    \n",
    "    y_true = np.array(targets)\n",
    "\n",
    "    f2 =  metrics.fbeta_score(y_true, y_pred, average=\"macro\", beta=2)\n",
    "    print(f\"{prefix} F2-score: {round(f2,4)}\")\n",
    "\n",
    "    mcc = metrics.matthews_corrcoef(y_true, y_pred)\n",
    "    print(f\"{prefix} Matthew Correlation Coefficient: {round(mcc,4)}\")\n",
    "\n",
    "    recall_macro = metrics.recall_score(y_true, y_pred, average=\"macro\")\n",
    "    print(f\"{prefix} Recall: {round(recall_macro,4)}\")\n",
    "\n",
    "    precision_macro = metrics.precision_score(y_true, y_pred, average=\"macro\")\n",
    "    print(f\"{prefix} Precision: {round(precision_macro,4)}\")\n",
    "\n",
    "    accuracy_macro = metrics.accuracy_score(y_true, y_pred)\n",
    "    print(f\"{prefix} Accuracy: {round(accuracy_macro,4)}\")\n",
    "\n",
    "    return y_true, y_score, y_pred, accuracy_macro"
   ]
  },
  {
   "cell_type": "code",
   "execution_count": 76,
   "metadata": {
    "collapsed": false,
    "jupyter": {
     "outputs_hidden": false
    }
   },
   "outputs": [],
   "source": [
    "os.environ[\"TOKENIZERS_PARALLELISM\"] = \"TRUE\""
   ]
  },
  {
   "cell_type": "code",
   "execution_count": 77,
   "metadata": {
    "collapsed": false,
    "jupyter": {
     "outputs_hidden": false
    }
   },
   "outputs": [],
   "source": [
    "filename = \"models/checkpoint.pth.tar\"\n",
    "\n",
    "def save_checkpoint(state, is_best, filename=filename):\n",
    "    torch.save(state, filename)\n",
    "\n",
    "    if is_best:\n",
    "        shutil.copyfile(filename, 'models/model_best.pth.tar')\n"
   ]
  },
  {
   "cell_type": "code",
   "execution_count": 81,
   "metadata": {
    "collapsed": false,
    "jupyter": {
     "outputs_hidden": false
    },
    "scrolled": true
   },
   "outputs": [
    {
     "name": "stdout",
     "output_type": "stream",
     "text": [
      "######  Epoch 1/90 ######\n",
      "Learning rate: 0.0033499884439024824\n",
      "\n",
      "-----  Training -----\n",
      "Batch 2,000  of  13,071.  Loss 2.4004  Elapsed: 0:07:47.\n",
      "Batch 4,000  of  13,071.  Loss 2.2821  Elapsed: 0:15:32.\n",
      "Batch 6,000  of  13,071.  Loss 2.0231  Elapsed: 0:23:16.\n",
      "Batch 8,000  of  13,071.  Loss 2.3589  Elapsed: 0:31:00.\n",
      "Batch 10,000  of  13,071.  Loss 2.4032  Elapsed: 0:38:45.\n",
      "Batch 12,000  of  13,071.  Loss 2.5665  Elapsed: 0:46:29.\n",
      "\n",
      "Avg Training Loss 2.5369, Completed in 0:50:40 \n",
      "\n",
      "-----  Validation -----\n",
      "Batch 1,000  of  1,249.  Loss 2.6870  Elapsed: 0:03:33.\n",
      "\n",
      "Avg Validation Loss 2.6599, Completed in 0:04:30\n",
      "Validation F2-score: 0.1782\n",
      "Validation Matthew Correlation Coefficient: 0.1218\n",
      "Validation Recall: 0.2514\n",
      "Validation Precision: 0.1917\n",
      "Validation Accuracy: 0.1357\n",
      "\n",
      "######  Epoch 2/90 ######\n",
      "Learning rate: 0.003348752627947931\n",
      "\n",
      "-----  Training -----\n",
      "Batch 2,000  of  13,071.  Loss 2.4224  Elapsed: 0:07:48.\n",
      "Batch 4,000  of  13,071.  Loss 2.3757  Elapsed: 0:15:33.\n",
      "Batch 6,000  of  13,071.  Loss 2.2705  Elapsed: 0:23:17.\n",
      "Batch 8,000  of  13,071.  Loss 2.2054  Elapsed: 0:31:02.\n",
      "Batch 10,000  of  13,071.  Loss 2.1708  Elapsed: 0:38:47.\n",
      "Batch 12,000  of  13,071.  Loss 2.3038  Elapsed: 0:46:32.\n",
      "\n",
      "Avg Training Loss 2.3950, Completed in 0:50:45 \n",
      "\n",
      "-----  Validation -----\n",
      "Batch 1,000  of  1,249.  Loss 2.4771  Elapsed: 0:03:32.\n",
      "\n",
      "Avg Validation Loss 2.6717, Completed in 0:04:28\n",
      "Validation F2-score: 0.2084\n",
      "Validation Matthew Correlation Coefficient: 0.1404\n",
      "Validation Recall: 0.2906\n",
      "Validation Precision: 0.2036\n",
      "Validation Accuracy: 0.1519\n",
      "\n",
      "######  Epoch 3/90 ######\n",
      "Learning rate: 0.0033454806481029724\n",
      "\n",
      "-----  Training -----\n",
      "Batch 2,000  of  13,071.  Loss 2.7307  Elapsed: 0:07:48.\n",
      "Batch 4,000  of  13,071.  Loss 2.3120  Elapsed: 0:15:33.\n",
      "Batch 6,000  of  13,071.  Loss 2.4062  Elapsed: 0:23:18.\n",
      "Batch 8,000  of  13,071.  Loss 2.5563  Elapsed: 0:31:04.\n",
      "Batch 10,000  of  13,071.  Loss 2.3389  Elapsed: 0:38:49.\n",
      "Batch 12,000  of  13,071.  Loss 2.2785  Elapsed: 0:46:34.\n",
      "\n",
      "Avg Training Loss 2.3890, Completed in 0:50:47 \n",
      "\n",
      "-----  Validation -----\n",
      "Batch 1,000  of  1,249.  Loss 2.6644  Elapsed: 0:03:33.\n",
      "\n",
      "Avg Validation Loss 2.6529, Completed in 0:04:29\n",
      "Validation F2-score: 0.2001\n",
      "Validation Matthew Correlation Coefficient: 0.1386\n",
      "Validation Recall: 0.2914\n",
      "Validation Precision: 0.1798\n",
      "Validation Accuracy: 0.1515\n",
      "\n",
      "######  Epoch 4/90 ######\n",
      "Learning rate: 0.0033401764907710066\n",
      "\n",
      "-----  Training -----\n",
      "Batch 2,000  of  13,071.  Loss 2.1971  Elapsed: 0:07:46.\n",
      "Batch 4,000  of  13,071.  Loss 2.3472  Elapsed: 0:15:29.\n",
      "Batch 6,000  of  13,071.  Loss 2.2984  Elapsed: 0:23:12.\n",
      "Batch 8,000  of  13,071.  Loss 1.9628  Elapsed: 0:30:56.\n",
      "Batch 10,000  of  13,071.  Loss 2.6589  Elapsed: 0:38:40.\n",
      "Batch 12,000  of  13,071.  Loss 2.5356  Elapsed: 0:46:22.\n",
      "\n",
      "Avg Training Loss 2.4099, Completed in 0:50:35 \n",
      "\n",
      "-----  Validation -----\n",
      "Batch 1,000  of  1,249.  Loss 2.8620  Elapsed: 0:03:32.\n",
      "\n",
      "Avg Validation Loss 2.6823, Completed in 0:04:29\n",
      "Validation F2-score: 0.1739\n",
      "Validation Matthew Correlation Coefficient: 0.1163\n",
      "Validation Recall: 0.2511\n",
      "Validation Precision: 0.1367\n",
      "Validation Accuracy: 0.1319\n",
      "\n",
      "######  Epoch 5/90 ######\n",
      "Learning rate: 0.003332846618250725\n",
      "\n",
      "-----  Training -----\n",
      "Batch 2,000  of  13,071.  Loss 2.5775  Elapsed: 0:07:47.\n",
      "Batch 4,000  of  13,071.  Loss 2.4482  Elapsed: 0:15:29.\n",
      "Batch 6,000  of  13,071.  Loss 2.6393  Elapsed: 0:23:13.\n",
      "Batch 8,000  of  13,071.  Loss 2.2319  Elapsed: 0:30:58.\n",
      "Batch 10,000  of  13,071.  Loss 2.2104  Elapsed: 0:38:44.\n",
      "Batch 12,000  of  13,071.  Loss 2.6578  Elapsed: 0:46:29.\n",
      "\n",
      "Avg Training Loss 2.4280, Completed in 0:50:42 \n",
      "\n",
      "-----  Validation -----\n",
      "Batch 1,000  of  1,249.  Loss 2.7157  Elapsed: 0:03:34.\n",
      "\n",
      "Avg Validation Loss 2.7555, Completed in 0:04:30\n",
      "Validation F2-score: 0.1131\n",
      "Validation Matthew Correlation Coefficient: 0.0744\n",
      "Validation Recall: 0.1853\n",
      "Validation Precision: 0.1381\n",
      "Validation Accuracy: 0.0869\n",
      "\n",
      "######  Epoch 6/90 ######\n",
      "Learning rate: 0.0033234999608627133\n",
      "\n",
      "-----  Training -----\n",
      "Batch 2,000  of  13,071.  Loss 2.3625  Elapsed: 0:07:49.\n",
      "Batch 4,000  of  13,071.  Loss 2.1889  Elapsed: 0:15:34.\n",
      "Batch 6,000  of  13,071.  Loss 2.4485  Elapsed: 0:23:19.\n",
      "Batch 8,000  of  13,071.  Loss 2.2403  Elapsed: 0:31:05.\n",
      "Batch 10,000  of  13,071.  Loss 2.2712  Elapsed: 0:38:50.\n",
      "Batch 12,000  of  13,071.  Loss 2.5322  Elapsed: 0:46:35.\n",
      "\n",
      "Avg Training Loss 2.4210, Completed in 0:50:48 \n",
      "\n",
      "-----  Validation -----\n",
      "Batch 1,000  of  1,249.  Loss 2.6425  Elapsed: 0:03:33.\n",
      "\n",
      "Avg Validation Loss 2.7103, Completed in 0:04:29\n",
      "Validation F2-score: 0.1831\n",
      "Validation Matthew Correlation Coefficient: 0.1191\n",
      "Validation Recall: 0.2567\n",
      "Validation Precision: 0.1321\n",
      "Validation Accuracy: 0.1349\n",
      "\n",
      "######  Epoch 7/90 ######\n",
      "Learning rate: 0.0033121479060692297\n",
      "\n",
      "-----  Training -----\n",
      "Batch 2,000  of  13,071.  Loss 2.1185  Elapsed: 0:07:48.\n",
      "Batch 4,000  of  13,071.  Loss 2.4613  Elapsed: 0:15:33.\n",
      "Batch 6,000  of  13,071.  Loss 2.6617  Elapsed: 0:23:18.\n",
      "Batch 8,000  of  13,071.  Loss 2.3908  Elapsed: 0:31:02.\n",
      "Batch 10,000  of  13,071.  Loss 2.5986  Elapsed: 0:38:47.\n",
      "Batch 12,000  of  13,071.  Loss 2.4224  Elapsed: 0:46:32.\n",
      "\n",
      "Avg Training Loss 2.4174, Completed in 0:50:44 \n",
      "\n",
      "-----  Validation -----\n",
      "Batch 1,000  of  1,249.  Loss 2.7258  Elapsed: 0:03:34.\n",
      "\n",
      "Avg Validation Loss 2.8442, Completed in 0:04:30\n",
      "Validation F2-score: 0.1632\n",
      "Validation Matthew Correlation Coefficient: 0.0985\n",
      "Validation Recall: 0.2337\n",
      "Validation Precision: 0.1503\n",
      "Validation Accuracy: 0.1141\n",
      "\n",
      "######  Epoch 8/90 ######\n",
      "Learning rate: 0.0032988042846004225\n",
      "\n",
      "-----  Training -----\n",
      "Batch 2,000  of  13,071.  Loss 2.4251  Elapsed: 0:07:48.\n",
      "Batch 4,000  of  13,071.  Loss 2.4190  Elapsed: 0:15:33.\n",
      "Batch 6,000  of  13,071.  Loss 2.7177  Elapsed: 0:23:17.\n",
      "Batch 8,000  of  13,071.  Loss 2.3721  Elapsed: 0:31:02.\n",
      "Batch 10,000  of  13,071.  Loss 2.3462  Elapsed: 0:38:46.\n",
      "Batch 12,000  of  13,071.  Loss 2.5510  Elapsed: 0:46:30.\n",
      "\n",
      "Avg Training Loss 2.4141, Completed in 0:50:42 \n",
      "\n",
      "-----  Validation -----\n",
      "Batch 1,000  of  1,249.  Loss 2.6590  Elapsed: 0:03:33.\n",
      "\n",
      "Avg Validation Loss 2.6777, Completed in 0:04:29\n",
      "Validation F2-score: 0.1356\n",
      "Validation Matthew Correlation Coefficient: 0.0923\n",
      "Validation Recall: 0.2214\n",
      "Validation Precision: 0.1412\n",
      "Validation Accuracy: 0.1048\n",
      "\n",
      "######  Epoch 9/90 ######\n",
      "Learning rate: 0.0032834853536036043\n",
      "\n",
      "-----  Training -----\n",
      "Batch 2,000  of  13,071.  Loss 2.4966  Elapsed: 0:07:48.\n"
     ]
    },
    {
     "ename": "KeyboardInterrupt",
     "evalue": "",
     "output_type": "error",
     "traceback": [
      "\u001b[0;31m---------------------------------------------------------------------------\u001b[0m",
      "\u001b[0;31mKeyboardInterrupt\u001b[0m                         Traceback (most recent call last)",
      "Cell \u001b[0;32mIn[81], line 15\u001b[0m\n\u001b[1;32m     12\u001b[0m learning_rates\u001b[38;5;241m.\u001b[39mappend(scheduler\u001b[38;5;241m.\u001b[39mget_last_lr())\n\u001b[1;32m     14\u001b[0m \u001b[38;5;28mprint\u001b[39m (\u001b[38;5;124m'\u001b[39m\u001b[38;5;124m-----  Training -----\u001b[39m\u001b[38;5;124m'\u001b[39m)\n\u001b[0;32m---> 15\u001b[0m train_loss, train_time \u001b[38;5;241m=\u001b[39m \u001b[43mtrain\u001b[49m\u001b[43m(\u001b[49m\u001b[43mtrain_loader\u001b[49m\u001b[43m,\u001b[49m\u001b[43m \u001b[49m\u001b[43mmodel\u001b[49m\u001b[43m,\u001b[49m\u001b[43m \u001b[49m\u001b[43mcriterion\u001b[49m\u001b[43m,\u001b[49m\u001b[43m \u001b[49m\u001b[43moptimizer\u001b[49m\u001b[43m)\u001b[49m\n\u001b[1;32m     16\u001b[0m train_loss_values\u001b[38;5;241m.\u001b[39mappend(train_loss)\n\u001b[1;32m     18\u001b[0m \u001b[38;5;28mprint\u001b[39m (\u001b[38;5;124m'\u001b[39m\u001b[38;5;124m-----  Validation -----\u001b[39m\u001b[38;5;124m'\u001b[39m)\n",
      "Cell \u001b[0;32mIn[79], line 34\u001b[0m, in \u001b[0;36mtrain\u001b[0;34m(train_loader, model, criterion, optimizer, verbose)\u001b[0m\n\u001b[1;32m     30\u001b[0m loss \u001b[38;5;241m=\u001b[39m criterion(output, target)\n\u001b[1;32m     31\u001b[0m \u001b[38;5;66;03m# loss = output['loss']\u001b[39;00m\n\u001b[1;32m     32\u001b[0m \n\u001b[1;32m     33\u001b[0m \u001b[38;5;66;03m# Accumulate the training loss over all of the batches\u001b[39;00m\n\u001b[0;32m---> 34\u001b[0m total_loss \u001b[38;5;241m+\u001b[39m\u001b[38;5;241m=\u001b[39m \u001b[43mloss\u001b[49m\u001b[38;5;241;43m.\u001b[39;49m\u001b[43mitem\u001b[49m\u001b[43m(\u001b[49m\u001b[43m)\u001b[49m\n\u001b[1;32m     36\u001b[0m \u001b[38;5;66;03m# Report progress every 200 batches\u001b[39;00m\n\u001b[1;32m     37\u001b[0m \u001b[38;5;28;01mif\u001b[39;00m step \u001b[38;5;241m%\u001b[39m \u001b[38;5;241m2000\u001b[39m \u001b[38;5;241m==\u001b[39m \u001b[38;5;241m0\u001b[39m \u001b[38;5;129;01mand\u001b[39;00m \u001b[38;5;129;01mnot\u001b[39;00m step \u001b[38;5;241m==\u001b[39m \u001b[38;5;241m0\u001b[39m \u001b[38;5;129;01mand\u001b[39;00m verbose\u001b[38;5;241m==\u001b[39m\u001b[38;5;28;01mTrue\u001b[39;00m:\n",
      "\u001b[0;31mKeyboardInterrupt\u001b[0m: "
     ]
    }
   ],
   "source": [
    "# Test LR = 6e-4, Optim = AdamW. Start Training\n",
    "# Store the average loss after each epoch so we can plot them.\n",
    "best_accuracy = 0\n",
    "train_loss_values = []\n",
    "val_loss_values = []\n",
    "learning_rates = []\n",
    "\n",
    "for epoch in range(EPOCHS):\n",
    "    print ('######  Epoch {}/{} ######'.format(epoch+1, EPOCHS))\n",
    "    print('Learning rate:', str(scheduler.get_last_lr()[0]))\n",
    "    print()\n",
    "    learning_rates.append(scheduler.get_last_lr())\n",
    "\n",
    "    print ('-----  Training -----')\n",
    "    train_loss, train_time = train(train_loader, model, criterion, optimizer)\n",
    "    train_loss_values.append(train_loss)\n",
    "\n",
    "    print ('-----  Validation -----')\n",
    "    val_outputs, val_targets, val_loss, val_time = validate(val_loader, model, criterion)\n",
    "    val_loss_values.append(val_loss)\n",
    "    y_val_true, y_val_score, y_val_pred, val_accuracy = compute_metrics(val_outputs, val_targets, prefix=\"Validation\")\n",
    "    print()\n",
    "\n",
    "    # Get the best loss\n",
    "    is_best = val_accuracy > best_accuracy\n",
    "    best_accuracy = max(val_accuracy, best_accuracy)\n",
    "\n",
    "    # Save Checkpoint\n",
    "    save_checkpoint(\n",
    "        {'epoch': epoch+1,\n",
    "         'state_dict': model.state_dict(),\n",
    "         'best_accuracy': best_accuracy,\n",
    "         'optimizer': optimizer.state_dict()\n",
    "         },\n",
    "        is_best\n",
    "    )\n",
    "\n",
    "    if train_loss < 0.2:\n",
    "        break"
   ]
  },
  {
   "cell_type": "markdown",
   "metadata": {},
   "source": [
    "### Evaluation"
   ]
  },
  {
   "cell_type": "code",
   "execution_count": 82,
   "metadata": {},
   "outputs": [
    {
     "data": {
      "image/png": "[encoded data removed]",
      "text/plain": [
       "<Figure size 1000x600 with 1 Axes>"
      ]
     },
     "metadata": {},
     "output_type": "display_data"
    }
   ],
   "source": [
    "### Plot Training & Validation Loss\n",
    "data = {'Epoch': range(1, 9), 'Training Loss': train_loss_values[:8], 'Validation Loss': val_loss_values[:8]}\n",
    "df = pd.DataFrame(data)\n",
    "\n",
    "fig, ax = plt.subplots(figsize=(10, 6))\n",
    "sns.set_style('whitegrid')\n",
    "sns.set(font_scale=1.5)\n",
    "\n",
    "# Plot train & val loss\n",
    "sns.lineplot(data=df, x=\"Epoch\", y=\"Training Loss\", label=\"Training Loss\", marker='o')\n",
    "sns.lineplot(data=df, x=\"Epoch\", y=\"Validation Loss\", label=\"Validation Loss\", marker='o')\n",
    "\n",
    "# set the axis labels and title\n",
    "ax.set(xlabel='Epoch', ylabel='Loss')\n",
    "ax.set_title('Training and Validation Loss', fontsize=18)\n",
    "ax.set_ylim(0)\n",
    "\n",
    "# set the legend and adjust its position\n",
    "plt.legend(fontsize=14)\n",
    "\n",
    "# set the ticks fontsize\n",
    "ax.tick_params(axis='both', which='major', labelsize=14)"
   ]
  },
  {
   "cell_type": "code",
   "execution_count": 83,
   "metadata": {},
   "outputs": [
    {
     "name": "stdout",
     "output_type": "stream",
     "text": [
      "Evaluation metrics for Test Set:\n"
     ]
    },
    {
     "name": "stderr",
     "output_type": "stream",
     "text": [
      "Exception ignored in: <function _MultiProcessingDataLoaderIter.__del__ at 0x7fe7011016c0>\n",
      "Traceback (most recent call last):\n",
      "  File \"/opt/conda/envs/pytorch/lib/python3.10/site-packages/torch/utils/data/dataloader.py\", line 1478, in __del__\n",
      "    self._shutdown_workers()\n",
      "  File \"/opt/conda/envs/pytorch/lib/python3.10/site-packages/torch/utils/data/dataloader.py\", line 1442, in _shutdown_workers\n",
      "    w.join(timeout=_utils.MP_STATUS_CHECK_INTERVAL)\n",
      "  File \"/opt/conda/envs/pytorch/lib/python3.10/multiprocessing/process.py\", line 149, in join\n",
      "    res = self._popen.wait(timeout)\n",
      "  File \"/opt/conda/envs/pytorch/lib/python3.10/multiprocessing/popen_fork.py\", line 40, in wait\n",
      "    if not wait([self.sentinel], timeout):\n",
      "  File \"/opt/conda/envs/pytorch/lib/python3.10/multiprocessing/connection.py\", line 931, in wait\n",
      "    ready = selector.select(timeout)\n",
      "  File \"/opt/conda/envs/pytorch/lib/python3.10/selectors.py\", line 416, in select\n",
      "    fd_event_list = self._selector.poll(timeout)\n",
      "KeyboardInterrupt: \n"
     ]
    },
    {
     "ename": "KeyboardInterrupt",
     "evalue": "",
     "output_type": "error",
     "traceback": [
      "\u001b[0;31m---------------------------------------------------------------------------\u001b[0m",
      "\u001b[0;31mKeyboardInterrupt\u001b[0m                         Traceback (most recent call last)",
      "Cell \u001b[0;32mIn[83], line 6\u001b[0m\n\u001b[1;32m      3\u001b[0m model\u001b[38;5;241m.\u001b[39mload_state_dict(checkpoint[\u001b[38;5;124m'\u001b[39m\u001b[38;5;124mstate_dict\u001b[39m\u001b[38;5;124m'\u001b[39m])\n\u001b[1;32m      5\u001b[0m \u001b[38;5;28mprint\u001b[39m(\u001b[38;5;124m'\u001b[39m\u001b[38;5;124mEvaluation metrics for Test Set:\u001b[39m\u001b[38;5;124m'\u001b[39m)\n\u001b[0;32m----> 6\u001b[0m test_outputs, test_targets, test_loss, test_time \u001b[38;5;241m=\u001b[39m \u001b[43mvalidate\u001b[49m\u001b[43m(\u001b[49m\u001b[43mtest_loader\u001b[49m\u001b[43m,\u001b[49m\u001b[43m \u001b[49m\u001b[43mmodel\u001b[49m\u001b[43m,\u001b[49m\u001b[43m \u001b[49m\u001b[43mcriterion\u001b[49m\u001b[43m,\u001b[49m\u001b[43m \u001b[49m\u001b[43mverbose\u001b[49m\u001b[38;5;241;43m=\u001b[39;49m\u001b[38;5;28;43;01mTrue\u001b[39;49;00m\u001b[43m)\u001b[49m\n\u001b[1;32m      7\u001b[0m \u001b[38;5;28mprint\u001b[39m()\n\u001b[1;32m      8\u001b[0m y_test_true, y_test_score, y_test_pred, test_accuracy \u001b[38;5;241m=\u001b[39m compute_metrics(test_outputs, test_targets, prefix\u001b[38;5;241m=\u001b[39m\u001b[38;5;124m\"\u001b[39m\u001b[38;5;124mTesting\u001b[39m\u001b[38;5;124m\"\u001b[39m)\n",
      "Cell \u001b[0;32mIn[80], line 33\u001b[0m, in \u001b[0;36mvalidate\u001b[0;34m(val_loader, model, criterion, verbose)\u001b[0m\n\u001b[1;32m     29\u001b[0m loss \u001b[38;5;241m=\u001b[39m criterion(output, target)\n\u001b[1;32m     30\u001b[0m \u001b[38;5;66;03m# loss = output['loss']\u001b[39;00m\n\u001b[1;32m     31\u001b[0m \n\u001b[1;32m     32\u001b[0m \u001b[38;5;66;03m# Accumulate the validation loss over all of the batches to calculate average loss\u001b[39;00m\n\u001b[0;32m---> 33\u001b[0m total_val_loss \u001b[38;5;241m+\u001b[39m\u001b[38;5;241m=\u001b[39m \u001b[43mloss\u001b[49m\u001b[38;5;241;43m.\u001b[39;49m\u001b[43mitem\u001b[49m\u001b[43m(\u001b[49m\u001b[43m)\u001b[49m\n\u001b[1;32m     35\u001b[0m targets\u001b[38;5;241m.\u001b[39mextend(target\u001b[38;5;241m.\u001b[39mcpu()\u001b[38;5;241m.\u001b[39mdetach()\u001b[38;5;241m.\u001b[39mnumpy()\u001b[38;5;241m.\u001b[39mtolist())\n\u001b[1;32m     36\u001b[0m outputs\u001b[38;5;241m.\u001b[39mextend(output\u001b[38;5;241m.\u001b[39mcpu()\u001b[38;5;241m.\u001b[39mdetach()\u001b[38;5;241m.\u001b[39mnumpy()\u001b[38;5;241m.\u001b[39mtolist())\n",
      "\u001b[0;31mKeyboardInterrupt\u001b[0m: "
     ]
    }
   ],
   "source": [
    "# Predicting with Test Set # Epoch Current ??? >47\n",
    "checkpoint = torch.load(\"models/model_best.pth.tar\")\n",
    "model.load_state_dict(checkpoint['state_dict'])\n",
    "\n",
    "print('Evaluation metrics for Test Set:')\n",
    "test_outputs, test_targets, test_loss, test_time = validate(test_loader, model, criterion, verbose=True)\n",
    "print()\n",
    "y_test_true, y_test_score, y_test_pred, test_accuracy = compute_metrics(test_outputs, test_targets, prefix=\"Testing\")"
   ]
  }
 ],
 "metadata": {
  "accelerator": "GPU",
  "colab": {
   "gpuType": "T4",
   "provenance": [],
   "toc_visible": true
  },
  "kernelspec": {
   "display_name": "Python 3 (ipykernel)",
   "language": "python",
   "name": "python3"
  },
  "language_info": {
   "codemirror_mode": {
    "name": "ipython",
    "version": 3
   },
   "file_extension": ".py",
   "mimetype": "text/x-python",
   "name": "python",
   "nbconvert_exporter": "python",
   "pygments_lexer": "ipython3",
   "version": "3.10.12"
  },
  "widgets": {
   "application/vnd.jupyter.widget-state+json": {
    "007b1fb1d03d433387c5f394485d75cd": {
     "model_module": "@jupyter-widgets/controls",
     "model_module_version": "1.5.0",
     "model_name": "DescriptionStyleModel",
     "state": {
      "_model_module": "@jupyter-widgets/controls",
      "_model_module_version": "1.5.0",
      "_model_name": "DescriptionStyleModel",
      "_view_count": null,
      "_view_module": "@jupyter-widgets/base",
      "_view_module_version": "1.2.0",
      "_view_name": "StyleView",
      "description_width": ""
     }
    },
    "03b91f9d7549487f8a108585a6a45a24": {
     "model_module": "@jupyter-widgets/controls",
     "model_module_version": "1.5.0",
     "model_name": "ProgressStyleModel",
     "state": {
      "_model_module": "@jupyter-widgets/controls",
      "_model_module_version": "1.5.0",
      "_model_name": "ProgressStyleModel",
      "_view_count": null,
      "_view_module": "@jupyter-widgets/base",
      "_view_module_version": "1.2.0",
      "_view_name": "StyleView",
      "bar_color": null,
      "description_width": ""
     }
    },
    "097ef633e83343e1a40a0b860b0279b4": {
     "model_module": "@jupyter-widgets/controls",
     "model_module_version": "1.5.0",
     "model_name": "HTMLModel",
     "state": {
      "_dom_classes": [],
      "_model_module": "@jupyter-widgets/controls",
      "_model_module_version": "1.5.0",
      "_model_name": "HTMLModel",
      "_view_count": null,
      "_view_module": "@jupyter-widgets/controls",
      "_view_module_version": "1.5.0",
      "_view_name": "HTMLView",
      "description": "",
      "description_tooltip": null,
      "layout": "IPY_MODEL_898055f1e82d4188abb75beac211ff3b",
      "placeholder": "​",
      "style": "IPY_MODEL_007b1fb1d03d433387c5f394485d75cd",
      "value": "Map: 100%"
     }
    },
    "137bb4b8f3fb41c8a6b7f4dac3c5472b": {
     "model_module": "@jupyter-widgets/base",
     "model_module_version": "1.2.0",
     "model_name": "LayoutModel",
     "state": {
      "_model_module": "@jupyter-widgets/base",
      "_model_module_version": "1.2.0",
      "_model_name": "LayoutModel",
      "_view_count": null,
      "_view_module": "@jupyter-widgets/base",
      "_view_module_version": "1.2.0",
      "_view_name": "LayoutView",
      "align_content": null,
      "align_items": null,
      "align_self": null,
      "border": null,
      "bottom": null,
      "display": null,
      "flex": null,
      "flex_flow": null,
      "grid_area": null,
      "grid_auto_columns": null,
      "grid_auto_flow": null,
      "grid_auto_rows": null,
      "grid_column": null,
      "grid_gap": null,
      "grid_row": null,
      "grid_template_areas": null,
      "grid_template_columns": null,
      "grid_template_rows": null,
      "height": null,
      "justify_content": null,
      "justify_items": null,
      "left": null,
      "margin": null,
      "max_height": null,
      "max_width": null,
      "min_height": null,
      "min_width": null,
      "object_fit": null,
      "object_position": null,
      "order": null,
      "overflow": null,
      "overflow_x": null,
      "overflow_y": null,
      "padding": null,
      "right": null,
      "top": null,
      "visibility": null,
      "width": null
     }
    },
    "196df6ab8c19433cb69b87303bfabb61": {
     "model_module": "@jupyter-widgets/controls",
     "model_module_version": "1.5.0",
     "model_name": "HTMLModel",
     "state": {
      "_dom_classes": [],
      "_model_module": "@jupyter-widgets/controls",
      "_model_module_version": "1.5.0",
      "_model_name": "HTMLModel",
      "_view_count": null,
      "_view_module": "@jupyter-widgets/controls",
      "_view_module_version": "1.5.0",
      "_view_name": "HTMLView",
      "description": "",
      "description_tooltip": null,
      "layout": "IPY_MODEL_a36d87bc8b034bf889bb6867eda2761e",
      "placeholder": "​",
      "style": "IPY_MODEL_f0074a44d3a4499881c56f89b6f68223",
      "value": " 3/3 [00:00&lt;00:00, 41.69it/s]"
     }
    },
    "1c613814b0ce4d348f8d4c5d4f547324": {
     "model_module": "@jupyter-widgets/base",
     "model_module_version": "1.2.0",
     "model_name": "LayoutModel",
     "state": {
      "_model_module": "@jupyter-widgets/base",
      "_model_module_version": "1.2.0",
      "_model_name": "LayoutModel",
      "_view_count": null,
      "_view_module": "@jupyter-widgets/base",
      "_view_module_version": "1.2.0",
      "_view_name": "LayoutView",
      "align_content": null,
      "align_items": null,
      "align_self": null,
      "border": null,
      "bottom": null,
      "display": null,
      "flex": null,
      "flex_flow": null,
      "grid_area": null,
      "grid_auto_columns": null,
      "grid_auto_flow": null,
      "grid_auto_rows": null,
      "grid_column": null,
      "grid_gap": null,
      "grid_row": null,
      "grid_template_areas": null,
      "grid_template_columns": null,
      "grid_template_rows": null,
      "height": null,
      "justify_content": null,
      "justify_items": null,
      "left": null,
      "margin": null,
      "max_height": null,
      "max_width": null,
      "min_height": null,
      "min_width": null,
      "object_fit": null,
      "object_position": null,
      "order": null,
      "overflow": null,
      "overflow_x": null,
      "overflow_y": null,
      "padding": null,
      "right": null,
      "top": null,
      "visibility": null,
      "width": null
     }
    },
    "20c0885b542d4592bc82f9dbc95f2967": {
     "model_module": "@jupyter-widgets/controls",
     "model_module_version": "1.5.0",
     "model_name": "HTMLModel",
     "state": {
      "_dom_classes": [],
      "_model_module": "@jupyter-widgets/controls",
      "_model_module_version": "1.5.0",
      "_model_name": "HTMLModel",
      "_view_count": null,
      "_view_module": "@jupyter-widgets/controls",
      "_view_module_version": "1.5.0",
      "_view_name": "HTMLView",
      "description": "",
      "description_tooltip": null,
      "layout": "IPY_MODEL_56a0098d47674ae09cb4c412345a4468",
      "placeholder": "​",
      "style": "IPY_MODEL_c76764720a6f44dcb967ecce4c151faf",
      "value": "Map: 100%"
     }
    },
    "22d025d278634f8585ac8227e752d177": {
     "model_module": "@jupyter-widgets/base",
     "model_module_version": "1.2.0",
     "model_name": "LayoutModel",
     "state": {
      "_model_module": "@jupyter-widgets/base",
      "_model_module_version": "1.2.0",
      "_model_name": "LayoutModel",
      "_view_count": null,
      "_view_module": "@jupyter-widgets/base",
      "_view_module_version": "1.2.0",
      "_view_name": "LayoutView",
      "align_content": null,
      "align_items": null,
      "align_self": null,
      "border": null,
      "bottom": null,
      "display": null,
      "flex": null,
      "flex_flow": null,
      "grid_area": null,
      "grid_auto_columns": null,
      "grid_auto_flow": null,
      "grid_auto_rows": null,
      "grid_column": null,
      "grid_gap": null,
      "grid_row": null,
      "grid_template_areas": null,
      "grid_template_columns": null,
      "grid_template_rows": null,
      "height": null,
      "justify_content": null,
      "justify_items": null,
      "left": null,
      "margin": null,
      "max_height": null,
      "max_width": null,
      "min_height": null,
      "min_width": null,
      "object_fit": null,
      "object_position": null,
      "order": null,
      "overflow": null,
      "overflow_x": null,
      "overflow_y": null,
      "padding": null,
      "right": null,
      "top": null,
      "visibility": null,
      "width": null
     }
    },
    "2d1e06c7c1a143d0886f43f3bf63dbe6": {
     "model_module": "@jupyter-widgets/controls",
     "model_module_version": "1.5.0",
     "model_name": "ProgressStyleModel",
     "state": {
      "_model_module": "@jupyter-widgets/controls",
      "_model_module_version": "1.5.0",
      "_model_name": "ProgressStyleModel",
      "_view_count": null,
      "_view_module": "@jupyter-widgets/base",
      "_view_module_version": "1.2.0",
      "_view_name": "StyleView",
      "bar_color": null,
      "description_width": ""
     }
    },
    "35b2002728b9472d869a90b58b064bcf": {
     "model_module": "@jupyter-widgets/base",
     "model_module_version": "1.2.0",
     "model_name": "LayoutModel",
     "state": {
      "_model_module": "@jupyter-widgets/base",
      "_model_module_version": "1.2.0",
      "_model_name": "LayoutModel",
      "_view_count": null,
      "_view_module": "@jupyter-widgets/base",
      "_view_module_version": "1.2.0",
      "_view_name": "LayoutView",
      "align_content": null,
      "align_items": null,
      "align_self": null,
      "border": null,
      "bottom": null,
      "display": null,
      "flex": null,
      "flex_flow": null,
      "grid_area": null,
      "grid_auto_columns": null,
      "grid_auto_flow": null,
      "grid_auto_rows": null,
      "grid_column": null,
      "grid_gap": null,
      "grid_row": null,
      "grid_template_areas": null,
      "grid_template_columns": null,
      "grid_template_rows": null,
      "height": null,
      "justify_content": null,
      "justify_items": null,
      "left": null,
      "margin": null,
      "max_height": null,
      "max_width": null,
      "min_height": null,
      "min_width": null,
      "object_fit": null,
      "object_position": null,
      "order": null,
      "overflow": null,
      "overflow_x": null,
      "overflow_y": null,
      "padding": null,
      "right": null,
      "top": null,
      "visibility": "hidden",
      "width": null
     }
    },
    "36ea4a3c568f4831905834e5c5b0d03a": {
     "model_module": "@jupyter-widgets/controls",
     "model_module_version": "1.5.0",
     "model_name": "HTMLModel",
     "state": {
      "_dom_classes": [],
      "_model_module": "@jupyter-widgets/controls",
      "_model_module_version": "1.5.0",
      "_model_name": "HTMLModel",
      "_view_count": null,
      "_view_module": "@jupyter-widgets/controls",
      "_view_module_version": "1.5.0",
      "_view_name": "HTMLView",
      "description": "",
      "description_tooltip": null,
      "layout": "IPY_MODEL_1c613814b0ce4d348f8d4c5d4f547324",
      "placeholder": "​",
      "style": "IPY_MODEL_af8e311a99774dbe9f814aa242772264",
      "value": "Map: 100%"
     }
    },
    "404bfceb697342a3a2f90db43fc79aac": {
     "model_module": "@jupyter-widgets/controls",
     "model_module_version": "1.5.0",
     "model_name": "HBoxModel",
     "state": {
      "_dom_classes": [],
      "_model_module": "@jupyter-widgets/controls",
      "_model_module_version": "1.5.0",
      "_model_name": "HBoxModel",
      "_view_count": null,
      "_view_module": "@jupyter-widgets/controls",
      "_view_module_version": "1.5.0",
      "_view_name": "HBoxView",
      "box_style": "",
      "children": [
       "IPY_MODEL_20c0885b542d4592bc82f9dbc95f2967",
       "IPY_MODEL_6ed68724fa3443f0a01911b77fd76c17",
       "IPY_MODEL_8bb576c1c5444ebb8eb1390468720f9d"
      ],
      "layout": "IPY_MODEL_c54d39bf63a44ca8a7b0c0d00bd8deb5"
     }
    },
    "56a0098d47674ae09cb4c412345a4468": {
     "model_module": "@jupyter-widgets/base",
     "model_module_version": "1.2.0",
     "model_name": "LayoutModel",
     "state": {
      "_model_module": "@jupyter-widgets/base",
      "_model_module_version": "1.2.0",
      "_model_name": "LayoutModel",
      "_view_count": null,
      "_view_module": "@jupyter-widgets/base",
      "_view_module_version": "1.2.0",
      "_view_name": "LayoutView",
      "align_content": null,
      "align_items": null,
      "align_self": null,
      "border": null,
      "bottom": null,
      "display": null,
      "flex": null,
      "flex_flow": null,
      "grid_area": null,
      "grid_auto_columns": null,
      "grid_auto_flow": null,
      "grid_auto_rows": null,
      "grid_column": null,
      "grid_gap": null,
      "grid_row": null,
      "grid_template_areas": null,
      "grid_template_columns": null,
      "grid_template_rows": null,
      "height": null,
      "justify_content": null,
      "justify_items": null,
      "left": null,
      "margin": null,
      "max_height": null,
      "max_width": null,
      "min_height": null,
      "min_width": null,
      "object_fit": null,
      "object_position": null,
      "order": null,
      "overflow": null,
      "overflow_x": null,
      "overflow_y": null,
      "padding": null,
      "right": null,
      "top": null,
      "visibility": null,
      "width": null
     }
    },
    "5818bab97ad94b5c93e774e6c9c545d8": {
     "model_module": "@jupyter-widgets/controls",
     "model_module_version": "1.5.0",
     "model_name": "HBoxModel",
     "state": {
      "_dom_classes": [],
      "_model_module": "@jupyter-widgets/controls",
      "_model_module_version": "1.5.0",
      "_model_name": "HBoxModel",
      "_view_count": null,
      "_view_module": "@jupyter-widgets/controls",
      "_view_module_version": "1.5.0",
      "_view_name": "HBoxView",
      "box_style": "",
      "children": [
       "IPY_MODEL_097ef633e83343e1a40a0b860b0279b4",
       "IPY_MODEL_98a98588193948c38b3727d35a1ee0bf",
       "IPY_MODEL_e0cc1cf6d0a942c3987f5ca2de7bf910"
      ],
      "layout": "IPY_MODEL_6dba82586eeb4cd193f857706bf21dbd"
     }
    },
    "60499b5778ba4f6590d11beaf10de5e8": {
     "model_module": "@jupyter-widgets/controls",
     "model_module_version": "1.5.0",
     "model_name": "DescriptionStyleModel",
     "state": {
      "_model_module": "@jupyter-widgets/controls",
      "_model_module_version": "1.5.0",
      "_model_name": "DescriptionStyleModel",
      "_view_count": null,
      "_view_module": "@jupyter-widgets/base",
      "_view_module_version": "1.2.0",
      "_view_name": "StyleView",
      "description_width": ""
     }
    },
    "6050f464fa194b3b9f44b9fb1d563c6f": {
     "model_module": "@jupyter-widgets/base",
     "model_module_version": "1.2.0",
     "model_name": "LayoutModel",
     "state": {
      "_model_module": "@jupyter-widgets/base",
      "_model_module_version": "1.2.0",
      "_model_name": "LayoutModel",
      "_view_count": null,
      "_view_module": "@jupyter-widgets/base",
      "_view_module_version": "1.2.0",
      "_view_name": "LayoutView",
      "align_content": null,
      "align_items": null,
      "align_self": null,
      "border": null,
      "bottom": null,
      "display": null,
      "flex": null,
      "flex_flow": null,
      "grid_area": null,
      "grid_auto_columns": null,
      "grid_auto_flow": null,
      "grid_auto_rows": null,
      "grid_column": null,
      "grid_gap": null,
      "grid_row": null,
      "grid_template_areas": null,
      "grid_template_columns": null,
      "grid_template_rows": null,
      "height": null,
      "justify_content": null,
      "justify_items": null,
      "left": null,
      "margin": null,
      "max_height": null,
      "max_width": null,
      "min_height": null,
      "min_width": null,
      "object_fit": null,
      "object_position": null,
      "order": null,
      "overflow": null,
      "overflow_x": null,
      "overflow_y": null,
      "padding": null,
      "right": null,
      "top": null,
      "visibility": null,
      "width": null
     }
    },
    "6dba82586eeb4cd193f857706bf21dbd": {
     "model_module": "@jupyter-widgets/base",
     "model_module_version": "1.2.0",
     "model_name": "LayoutModel",
     "state": {
      "_model_module": "@jupyter-widgets/base",
      "_model_module_version": "1.2.0",
      "_model_name": "LayoutModel",
      "_view_count": null,
      "_view_module": "@jupyter-widgets/base",
      "_view_module_version": "1.2.0",
      "_view_name": "LayoutView",
      "align_content": null,
      "align_items": null,
      "align_self": null,
      "border": null,
      "bottom": null,
      "display": null,
      "flex": null,
      "flex_flow": null,
      "grid_area": null,
      "grid_auto_columns": null,
      "grid_auto_flow": null,
      "grid_auto_rows": null,
      "grid_column": null,
      "grid_gap": null,
      "grid_row": null,
      "grid_template_areas": null,
      "grid_template_columns": null,
      "grid_template_rows": null,
      "height": null,
      "justify_content": null,
      "justify_items": null,
      "left": null,
      "margin": null,
      "max_height": null,
      "max_width": null,
      "min_height": null,
      "min_width": null,
      "object_fit": null,
      "object_position": null,
      "order": null,
      "overflow": null,
      "overflow_x": null,
      "overflow_y": null,
      "padding": null,
      "right": null,
      "top": null,
      "visibility": "hidden",
      "width": null
     }
    },
    "6ed68724fa3443f0a01911b77fd76c17": {
     "model_module": "@jupyter-widgets/controls",
     "model_module_version": "1.5.0",
     "model_name": "FloatProgressModel",
     "state": {
      "_dom_classes": [],
      "_model_module": "@jupyter-widgets/controls",
      "_model_module_version": "1.5.0",
      "_model_name": "FloatProgressModel",
      "_view_count": null,
      "_view_module": "@jupyter-widgets/controls",
      "_view_module_version": "1.5.0",
      "_view_name": "ProgressView",
      "bar_style": "",
      "description": "",
      "description_tooltip": null,
      "layout": "IPY_MODEL_137bb4b8f3fb41c8a6b7f4dac3c5472b",
      "max": 238072,
      "min": 0,
      "orientation": "horizontal",
      "style": "IPY_MODEL_eeac483e4beb4e3896af7caea41c674d",
      "value": 238072
     }
    },
    "757c7f1330184e7d95008950c805ccb0": {
     "model_module": "@jupyter-widgets/controls",
     "model_module_version": "1.5.0",
     "model_name": "ProgressStyleModel",
     "state": {
      "_model_module": "@jupyter-widgets/controls",
      "_model_module_version": "1.5.0",
      "_model_name": "ProgressStyleModel",
      "_view_count": null,
      "_view_module": "@jupyter-widgets/base",
      "_view_module_version": "1.2.0",
      "_view_name": "StyleView",
      "bar_color": null,
      "description_width": ""
     }
    },
    "76ae6df4a5f846dc8d3871bc4b695b3a": {
     "model_module": "@jupyter-widgets/controls",
     "model_module_version": "1.5.0",
     "model_name": "HBoxModel",
     "state": {
      "_dom_classes": [],
      "_model_module": "@jupyter-widgets/controls",
      "_model_module_version": "1.5.0",
      "_model_name": "HBoxModel",
      "_view_count": null,
      "_view_module": "@jupyter-widgets/controls",
      "_view_module_version": "1.5.0",
      "_view_name": "HBoxView",
      "box_style": "",
      "children": [
       "IPY_MODEL_820536d02b474b34a0c14e26ae0129db",
       "IPY_MODEL_99e02af33a854247ba87458257c55488",
       "IPY_MODEL_196df6ab8c19433cb69b87303bfabb61"
      ],
      "layout": "IPY_MODEL_f7210c082d0145bfbb9937861c4766be"
     }
    },
    "820536d02b474b34a0c14e26ae0129db": {
     "model_module": "@jupyter-widgets/controls",
     "model_module_version": "1.5.0",
     "model_name": "HTMLModel",
     "state": {
      "_dom_classes": [],
      "_model_module": "@jupyter-widgets/controls",
      "_model_module_version": "1.5.0",
      "_model_name": "HTMLModel",
      "_view_count": null,
      "_view_module": "@jupyter-widgets/controls",
      "_view_module_version": "1.5.0",
      "_view_name": "HTMLView",
      "description": "",
      "description_tooltip": null,
      "layout": "IPY_MODEL_9a8e91550af74c2fbc753aed53708ba6",
      "placeholder": "​",
      "style": "IPY_MODEL_a72fa699908a41f9b4036ec26515afd2",
      "value": "100%"
     }
    },
    "898055f1e82d4188abb75beac211ff3b": {
     "model_module": "@jupyter-widgets/base",
     "model_module_version": "1.2.0",
     "model_name": "LayoutModel",
     "state": {
      "_model_module": "@jupyter-widgets/base",
      "_model_module_version": "1.2.0",
      "_model_name": "LayoutModel",
      "_view_count": null,
      "_view_module": "@jupyter-widgets/base",
      "_view_module_version": "1.2.0",
      "_view_name": "LayoutView",
      "align_content": null,
      "align_items": null,
      "align_self": null,
      "border": null,
      "bottom": null,
      "display": null,
      "flex": null,
      "flex_flow": null,
      "grid_area": null,
      "grid_auto_columns": null,
      "grid_auto_flow": null,
      "grid_auto_rows": null,
      "grid_column": null,
      "grid_gap": null,
      "grid_row": null,
      "grid_template_areas": null,
      "grid_template_columns": null,
      "grid_template_rows": null,
      "height": null,
      "justify_content": null,
      "justify_items": null,
      "left": null,
      "margin": null,
      "max_height": null,
      "max_width": null,
      "min_height": null,
      "min_width": null,
      "object_fit": null,
      "object_position": null,
      "order": null,
      "overflow": null,
      "overflow_x": null,
      "overflow_y": null,
      "padding": null,
      "right": null,
      "top": null,
      "visibility": null,
      "width": null
     }
    },
    "8bb576c1c5444ebb8eb1390468720f9d": {
     "model_module": "@jupyter-widgets/controls",
     "model_module_version": "1.5.0",
     "model_name": "HTMLModel",
     "state": {
      "_dom_classes": [],
      "_model_module": "@jupyter-widgets/controls",
      "_model_module_version": "1.5.0",
      "_model_name": "HTMLModel",
      "_view_count": null,
      "_view_module": "@jupyter-widgets/controls",
      "_view_module_version": "1.5.0",
      "_view_name": "HTMLView",
      "description": "",
      "description_tooltip": null,
      "layout": "IPY_MODEL_c650b3b8ba514f0b9709bfdf9545ddca",
      "placeholder": "​",
      "style": "IPY_MODEL_c9f2f317092848ed9585601925c7ecb5",
      "value": " 238000/238072 [01:54&lt;00:00, 2407.19 examples/s]"
     }
    },
    "96f62dc6ed08480ab0758377d003a0a3": {
     "model_module": "@jupyter-widgets/controls",
     "model_module_version": "1.5.0",
     "model_name": "FloatProgressModel",
     "state": {
      "_dom_classes": [],
      "_model_module": "@jupyter-widgets/controls",
      "_model_module_version": "1.5.0",
      "_model_name": "FloatProgressModel",
      "_view_count": null,
      "_view_module": "@jupyter-widgets/controls",
      "_view_module_version": "1.5.0",
      "_view_name": "ProgressView",
      "bar_style": "",
      "description": "",
      "description_tooltip": null,
      "layout": "IPY_MODEL_6050f464fa194b3b9f44b9fb1d563c6f",
      "max": 186753,
      "min": 0,
      "orientation": "horizontal",
      "style": "IPY_MODEL_03b91f9d7549487f8a108585a6a45a24",
      "value": 186753
     }
    },
    "98a98588193948c38b3727d35a1ee0bf": {
     "model_module": "@jupyter-widgets/controls",
     "model_module_version": "1.5.0",
     "model_name": "FloatProgressModel",
     "state": {
      "_dom_classes": [],
      "_model_module": "@jupyter-widgets/controls",
      "_model_module_version": "1.5.0",
      "_model_name": "FloatProgressModel",
      "_view_count": null,
      "_view_module": "@jupyter-widgets/controls",
      "_view_module_version": "1.5.0",
      "_view_name": "ProgressView",
      "bar_style": "",
      "description": "",
      "description_tooltip": null,
      "layout": "IPY_MODEL_f07d75c06b9e4ba7a445bed142643e94",
      "max": 300000,
      "min": 0,
      "orientation": "horizontal",
      "style": "IPY_MODEL_757c7f1330184e7d95008950c805ccb0",
      "value": 300000
     }
    },
    "99e02af33a854247ba87458257c55488": {
     "model_module": "@jupyter-widgets/controls",
     "model_module_version": "1.5.0",
     "model_name": "FloatProgressModel",
     "state": {
      "_dom_classes": [],
      "_model_module": "@jupyter-widgets/controls",
      "_model_module_version": "1.5.0",
      "_model_name": "FloatProgressModel",
      "_view_count": null,
      "_view_module": "@jupyter-widgets/controls",
      "_view_module_version": "1.5.0",
      "_view_name": "ProgressView",
      "bar_style": "success",
      "description": "",
      "description_tooltip": null,
      "layout": "IPY_MODEL_db110dfbde7d4bdf87c0200fc93fa44d",
      "max": 3,
      "min": 0,
      "orientation": "horizontal",
      "style": "IPY_MODEL_2d1e06c7c1a143d0886f43f3bf63dbe6",
      "value": 3
     }
    },
    "9a8e91550af74c2fbc753aed53708ba6": {
     "model_module": "@jupyter-widgets/base",
     "model_module_version": "1.2.0",
     "model_name": "LayoutModel",
     "state": {
      "_model_module": "@jupyter-widgets/base",
      "_model_module_version": "1.2.0",
      "_model_name": "LayoutModel",
      "_view_count": null,
      "_view_module": "@jupyter-widgets/base",
      "_view_module_version": "1.2.0",
      "_view_name": "LayoutView",
      "align_content": null,
      "align_items": null,
      "align_self": null,
      "border": null,
      "bottom": null,
      "display": null,
      "flex": null,
      "flex_flow": null,
      "grid_area": null,
      "grid_auto_columns": null,
      "grid_auto_flow": null,
      "grid_auto_rows": null,
      "grid_column": null,
      "grid_gap": null,
      "grid_row": null,
      "grid_template_areas": null,
      "grid_template_columns": null,
      "grid_template_rows": null,
      "height": null,
      "justify_content": null,
      "justify_items": null,
      "left": null,
      "margin": null,
      "max_height": null,
      "max_width": null,
      "min_height": null,
      "min_width": null,
      "object_fit": null,
      "object_position": null,
      "order": null,
      "overflow": null,
      "overflow_x": null,
      "overflow_y": null,
      "padding": null,
      "right": null,
      "top": null,
      "visibility": null,
      "width": null
     }
    },
    "a36d87bc8b034bf889bb6867eda2761e": {
     "model_module": "@jupyter-widgets/base",
     "model_module_version": "1.2.0",
     "model_name": "LayoutModel",
     "state": {
      "_model_module": "@jupyter-widgets/base",
      "_model_module_version": "1.2.0",
      "_model_name": "LayoutModel",
      "_view_count": null,
      "_view_module": "@jupyter-widgets/base",
      "_view_module_version": "1.2.0",
      "_view_name": "LayoutView",
      "align_content": null,
      "align_items": null,
      "align_self": null,
      "border": null,
      "bottom": null,
      "display": null,
      "flex": null,
      "flex_flow": null,
      "grid_area": null,
      "grid_auto_columns": null,
      "grid_auto_flow": null,
      "grid_auto_rows": null,
      "grid_column": null,
      "grid_gap": null,
      "grid_row": null,
      "grid_template_areas": null,
      "grid_template_columns": null,
      "grid_template_rows": null,
      "height": null,
      "justify_content": null,
      "justify_items": null,
      "left": null,
      "margin": null,
      "max_height": null,
      "max_width": null,
      "min_height": null,
      "min_width": null,
      "object_fit": null,
      "object_position": null,
      "order": null,
      "overflow": null,
      "overflow_x": null,
      "overflow_y": null,
      "padding": null,
      "right": null,
      "top": null,
      "visibility": null,
      "width": null
     }
    },
    "a72fa699908a41f9b4036ec26515afd2": {
     "model_module": "@jupyter-widgets/controls",
     "model_module_version": "1.5.0",
     "model_name": "DescriptionStyleModel",
     "state": {
      "_model_module": "@jupyter-widgets/controls",
      "_model_module_version": "1.5.0",
      "_model_name": "DescriptionStyleModel",
      "_view_count": null,
      "_view_module": "@jupyter-widgets/base",
      "_view_module_version": "1.2.0",
      "_view_name": "StyleView",
      "description_width": ""
     }
    },
    "af8e311a99774dbe9f814aa242772264": {
     "model_module": "@jupyter-widgets/controls",
     "model_module_version": "1.5.0",
     "model_name": "DescriptionStyleModel",
     "state": {
      "_model_module": "@jupyter-widgets/controls",
      "_model_module_version": "1.5.0",
      "_model_name": "DescriptionStyleModel",
      "_view_count": null,
      "_view_module": "@jupyter-widgets/base",
      "_view_module_version": "1.2.0",
      "_view_name": "StyleView",
      "description_width": ""
     }
    },
    "b2a19d1ba5e54048884adee46a58ed80": {
     "model_module": "@jupyter-widgets/base",
     "model_module_version": "1.2.0",
     "model_name": "LayoutModel",
     "state": {
      "_model_module": "@jupyter-widgets/base",
      "_model_module_version": "1.2.0",
      "_model_name": "LayoutModel",
      "_view_count": null,
      "_view_module": "@jupyter-widgets/base",
      "_view_module_version": "1.2.0",
      "_view_name": "LayoutView",
      "align_content": null,
      "align_items": null,
      "align_self": null,
      "border": null,
      "bottom": null,
      "display": null,
      "flex": null,
      "flex_flow": null,
      "grid_area": null,
      "grid_auto_columns": null,
      "grid_auto_flow": null,
      "grid_auto_rows": null,
      "grid_column": null,
      "grid_gap": null,
      "grid_row": null,
      "grid_template_areas": null,
      "grid_template_columns": null,
      "grid_template_rows": null,
      "height": null,
      "justify_content": null,
      "justify_items": null,
      "left": null,
      "margin": null,
      "max_height": null,
      "max_width": null,
      "min_height": null,
      "min_width": null,
      "object_fit": null,
      "object_position": null,
      "order": null,
      "overflow": null,
      "overflow_x": null,
      "overflow_y": null,
      "padding": null,
      "right": null,
      "top": null,
      "visibility": null,
      "width": null
     }
    },
    "c54d39bf63a44ca8a7b0c0d00bd8deb5": {
     "model_module": "@jupyter-widgets/base",
     "model_module_version": "1.2.0",
     "model_name": "LayoutModel",
     "state": {
      "_model_module": "@jupyter-widgets/base",
      "_model_module_version": "1.2.0",
      "_model_name": "LayoutModel",
      "_view_count": null,
      "_view_module": "@jupyter-widgets/base",
      "_view_module_version": "1.2.0",
      "_view_name": "LayoutView",
      "align_content": null,
      "align_items": null,
      "align_self": null,
      "border": null,
      "bottom": null,
      "display": null,
      "flex": null,
      "flex_flow": null,
      "grid_area": null,
      "grid_auto_columns": null,
      "grid_auto_flow": null,
      "grid_auto_rows": null,
      "grid_column": null,
      "grid_gap": null,
      "grid_row": null,
      "grid_template_areas": null,
      "grid_template_columns": null,
      "grid_template_rows": null,
      "height": null,
      "justify_content": null,
      "justify_items": null,
      "left": null,
      "margin": null,
      "max_height": null,
      "max_width": null,
      "min_height": null,
      "min_width": null,
      "object_fit": null,
      "object_position": null,
      "order": null,
      "overflow": null,
      "overflow_x": null,
      "overflow_y": null,
      "padding": null,
      "right": null,
      "top": null,
      "visibility": "hidden",
      "width": null
     }
    },
    "c650b3b8ba514f0b9709bfdf9545ddca": {
     "model_module": "@jupyter-widgets/base",
     "model_module_version": "1.2.0",
     "model_name": "LayoutModel",
     "state": {
      "_model_module": "@jupyter-widgets/base",
      "_model_module_version": "1.2.0",
      "_model_name": "LayoutModel",
      "_view_count": null,
      "_view_module": "@jupyter-widgets/base",
      "_view_module_version": "1.2.0",
      "_view_name": "LayoutView",
      "align_content": null,
      "align_items": null,
      "align_self": null,
      "border": null,
      "bottom": null,
      "display": null,
      "flex": null,
      "flex_flow": null,
      "grid_area": null,
      "grid_auto_columns": null,
      "grid_auto_flow": null,
      "grid_auto_rows": null,
      "grid_column": null,
      "grid_gap": null,
      "grid_row": null,
      "grid_template_areas": null,
      "grid_template_columns": null,
      "grid_template_rows": null,
      "height": null,
      "justify_content": null,
      "justify_items": null,
      "left": null,
      "margin": null,
      "max_height": null,
      "max_width": null,
      "min_height": null,
      "min_width": null,
      "object_fit": null,
      "object_position": null,
      "order": null,
      "overflow": null,
      "overflow_x": null,
      "overflow_y": null,
      "padding": null,
      "right": null,
      "top": null,
      "visibility": null,
      "width": null
     }
    },
    "c76764720a6f44dcb967ecce4c151faf": {
     "model_module": "@jupyter-widgets/controls",
     "model_module_version": "1.5.0",
     "model_name": "DescriptionStyleModel",
     "state": {
      "_model_module": "@jupyter-widgets/controls",
      "_model_module_version": "1.5.0",
      "_model_name": "DescriptionStyleModel",
      "_view_count": null,
      "_view_module": "@jupyter-widgets/base",
      "_view_module_version": "1.2.0",
      "_view_name": "StyleView",
      "description_width": ""
     }
    },
    "c9f2f317092848ed9585601925c7ecb5": {
     "model_module": "@jupyter-widgets/controls",
     "model_module_version": "1.5.0",
     "model_name": "DescriptionStyleModel",
     "state": {
      "_model_module": "@jupyter-widgets/controls",
      "_model_module_version": "1.5.0",
      "_model_name": "DescriptionStyleModel",
      "_view_count": null,
      "_view_module": "@jupyter-widgets/base",
      "_view_module_version": "1.2.0",
      "_view_name": "StyleView",
      "description_width": ""
     }
    },
    "d518b869420e45849a9c21840efae484": {
     "model_module": "@jupyter-widgets/controls",
     "model_module_version": "1.5.0",
     "model_name": "DescriptionStyleModel",
     "state": {
      "_model_module": "@jupyter-widgets/controls",
      "_model_module_version": "1.5.0",
      "_model_name": "DescriptionStyleModel",
      "_view_count": null,
      "_view_module": "@jupyter-widgets/base",
      "_view_module_version": "1.2.0",
      "_view_name": "StyleView",
      "description_width": ""
     }
    },
    "db110dfbde7d4bdf87c0200fc93fa44d": {
     "model_module": "@jupyter-widgets/base",
     "model_module_version": "1.2.0",
     "model_name": "LayoutModel",
     "state": {
      "_model_module": "@jupyter-widgets/base",
      "_model_module_version": "1.2.0",
      "_model_name": "LayoutModel",
      "_view_count": null,
      "_view_module": "@jupyter-widgets/base",
      "_view_module_version": "1.2.0",
      "_view_name": "LayoutView",
      "align_content": null,
      "align_items": null,
      "align_self": null,
      "border": null,
      "bottom": null,
      "display": null,
      "flex": null,
      "flex_flow": null,
      "grid_area": null,
      "grid_auto_columns": null,
      "grid_auto_flow": null,
      "grid_auto_rows": null,
      "grid_column": null,
      "grid_gap": null,
      "grid_row": null,
      "grid_template_areas": null,
      "grid_template_columns": null,
      "grid_template_rows": null,
      "height": null,
      "justify_content": null,
      "justify_items": null,
      "left": null,
      "margin": null,
      "max_height": null,
      "max_width": null,
      "min_height": null,
      "min_width": null,
      "object_fit": null,
      "object_position": null,
      "order": null,
      "overflow": null,
      "overflow_x": null,
      "overflow_y": null,
      "padding": null,
      "right": null,
      "top": null,
      "visibility": null,
      "width": null
     }
    },
    "dfec57bc90384adcb9e122edb0bccebc": {
     "model_module": "@jupyter-widgets/controls",
     "model_module_version": "1.5.0",
     "model_name": "HTMLModel",
     "state": {
      "_dom_classes": [],
      "_model_module": "@jupyter-widgets/controls",
      "_model_module_version": "1.5.0",
      "_model_name": "HTMLModel",
      "_view_count": null,
      "_view_module": "@jupyter-widgets/controls",
      "_view_module_version": "1.5.0",
      "_view_name": "HTMLView",
      "description": "",
      "description_tooltip": null,
      "layout": "IPY_MODEL_22d025d278634f8585ac8227e752d177",
      "placeholder": "​",
      "style": "IPY_MODEL_60499b5778ba4f6590d11beaf10de5e8",
      "value": " 186753/186753 [01:34&lt;00:00, 1428.48 examples/s]"
     }
    },
    "e0cc1cf6d0a942c3987f5ca2de7bf910": {
     "model_module": "@jupyter-widgets/controls",
     "model_module_version": "1.5.0",
     "model_name": "HTMLModel",
     "state": {
      "_dom_classes": [],
      "_model_module": "@jupyter-widgets/controls",
      "_model_module_version": "1.5.0",
      "_model_name": "HTMLModel",
      "_view_count": null,
      "_view_module": "@jupyter-widgets/controls",
      "_view_module_version": "1.5.0",
      "_view_name": "HTMLView",
      "description": "",
      "description_tooltip": null,
      "layout": "IPY_MODEL_b2a19d1ba5e54048884adee46a58ed80",
      "placeholder": "​",
      "style": "IPY_MODEL_d518b869420e45849a9c21840efae484",
      "value": " 300000/300000 [02:30&lt;00:00, 2392.64 examples/s]"
     }
    },
    "eeac483e4beb4e3896af7caea41c674d": {
     "model_module": "@jupyter-widgets/controls",
     "model_module_version": "1.5.0",
     "model_name": "ProgressStyleModel",
     "state": {
      "_model_module": "@jupyter-widgets/controls",
      "_model_module_version": "1.5.0",
      "_model_name": "ProgressStyleModel",
      "_view_count": null,
      "_view_module": "@jupyter-widgets/base",
      "_view_module_version": "1.2.0",
      "_view_name": "StyleView",
      "bar_color": null,
      "description_width": ""
     }
    },
    "f0074a44d3a4499881c56f89b6f68223": {
     "model_module": "@jupyter-widgets/controls",
     "model_module_version": "1.5.0",
     "model_name": "DescriptionStyleModel",
     "state": {
      "_model_module": "@jupyter-widgets/controls",
      "_model_module_version": "1.5.0",
      "_model_name": "DescriptionStyleModel",
      "_view_count": null,
      "_view_module": "@jupyter-widgets/base",
      "_view_module_version": "1.2.0",
      "_view_name": "StyleView",
      "description_width": ""
     }
    },
    "f07d75c06b9e4ba7a445bed142643e94": {
     "model_module": "@jupyter-widgets/base",
     "model_module_version": "1.2.0",
     "model_name": "LayoutModel",
     "state": {
      "_model_module": "@jupyter-widgets/base",
      "_model_module_version": "1.2.0",
      "_model_name": "LayoutModel",
      "_view_count": null,
      "_view_module": "@jupyter-widgets/base",
      "_view_module_version": "1.2.0",
      "_view_name": "LayoutView",
      "align_content": null,
      "align_items": null,
      "align_self": null,
      "border": null,
      "bottom": null,
      "display": null,
      "flex": null,
      "flex_flow": null,
      "grid_area": null,
      "grid_auto_columns": null,
      "grid_auto_flow": null,
      "grid_auto_rows": null,
      "grid_column": null,
      "grid_gap": null,
      "grid_row": null,
      "grid_template_areas": null,
      "grid_template_columns": null,
      "grid_template_rows": null,
      "height": null,
      "justify_content": null,
      "justify_items": null,
      "left": null,
      "margin": null,
      "max_height": null,
      "max_width": null,
      "min_height": null,
      "min_width": null,
      "object_fit": null,
      "object_position": null,
      "order": null,
      "overflow": null,
      "overflow_x": null,
      "overflow_y": null,
      "padding": null,
      "right": null,
      "top": null,
      "visibility": null,
      "width": null
     }
    },
    "f15fd9aeb5fd4178bd0af9c55ee28750": {
     "model_module": "@jupyter-widgets/controls",
     "model_module_version": "1.5.0",
     "model_name": "HBoxModel",
     "state": {
      "_dom_classes": [],
      "_model_module": "@jupyter-widgets/controls",
      "_model_module_version": "1.5.0",
      "_model_name": "HBoxModel",
      "_view_count": null,
      "_view_module": "@jupyter-widgets/controls",
      "_view_module_version": "1.5.0",
      "_view_name": "HBoxView",
      "box_style": "",
      "children": [
       "IPY_MODEL_36ea4a3c568f4831905834e5c5b0d03a",
       "IPY_MODEL_96f62dc6ed08480ab0758377d003a0a3",
       "IPY_MODEL_dfec57bc90384adcb9e122edb0bccebc"
      ],
      "layout": "IPY_MODEL_35b2002728b9472d869a90b58b064bcf"
     }
    },
    "f7210c082d0145bfbb9937861c4766be": {
     "model_module": "@jupyter-widgets/base",
     "model_module_version": "1.2.0",
     "model_name": "LayoutModel",
     "state": {
      "_model_module": "@jupyter-widgets/base",
      "_model_module_version": "1.2.0",
      "_model_name": "LayoutModel",
      "_view_count": null,
      "_view_module": "@jupyter-widgets/base",
      "_view_module_version": "1.2.0",
      "_view_name": "LayoutView",
      "align_content": null,
      "align_items": null,
      "align_self": null,
      "border": null,
      "bottom": null,
      "display": null,
      "flex": null,
      "flex_flow": null,
      "grid_area": null,
      "grid_auto_columns": null,
      "grid_auto_flow": null,
      "grid_auto_rows": null,
      "grid_column": null,
      "grid_gap": null,
      "grid_row": null,
      "grid_template_areas": null,
      "grid_template_columns": null,
      "grid_template_rows": null,
      "height": null,
      "justify_content": null,
      "justify_items": null,
      "left": null,
      "margin": null,
      "max_height": null,
      "max_width": null,
      "min_height": null,
      "min_width": null,
      "object_fit": null,
      "object_position": null,
      "order": null,
      "overflow": null,
      "overflow_x": null,
      "overflow_y": null,
      "padding": null,
      "right": null,
      "top": null,
      "visibility": null,
      "width": null
     }
    }
   }
  }
 },
 "nbformat": 4,
 "nbformat_minor": 4
}
