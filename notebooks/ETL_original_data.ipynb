{
 "cells": [
  {
   "cell_type": "markdown",
   "source": [
    "## Adjust DDI"
   ],
   "metadata": {
    "collapsed": false
   }
  },
  {
   "cell_type": "code",
   "execution_count": 3,
   "outputs": [
    {
     "name": "stdout",
     "output_type": "stream",
     "text": [
      "D:\\OneDrive\\w210\\capstone-project\n"
     ]
    }
   ],
   "source": [
    "%cd ..\n",
    "# %cd media/capstone-project"
   ],
   "metadata": {
    "collapsed": false,
    "ExecuteTime": {
     "end_time": "2023-06-25T16:26:20.042565600Z",
     "start_time": "2023-06-25T16:26:19.995006600Z"
    }
   }
  },
  {
   "cell_type": "code",
   "execution_count": 1,
   "metadata": {
    "collapsed": true,
    "ExecuteTime": {
     "end_time": "2023-06-25T16:21:31.728126300Z",
     "start_time": "2023-06-25T16:21:31.685098Z"
    }
   },
   "outputs": [],
   "source": [
    "import random\n",
    "import pandas as pd\n",
    "import seaborn as sns\n",
    "import numpy as np\n",
    "import matplotlib.pyplot as plt\n",
    "import itertools\n",
    "import re\n",
    "\n",
    "%matplotlib inline\n",
    "sns.set_theme(color_codes=True)\n",
    "\n",
    "pd.set_option('display.max_rows', 50)\n",
    "pd.set_option('display.max_columns', None)\n",
    "pd.set_option('display.max_colwidth', 200)"
   ]
  },
  {
   "cell_type": "code",
   "execution_count": 4,
   "outputs": [
    {
     "name": "stdout",
     "output_type": "stream",
     "text": [
      "Raw Train data dimension: (115185, 10)\n",
      "Number of distinct drugs in d1: 1545\n",
      "Number of distinct drugs in d2: 1553\n",
      "Number of distinct d1-d2 sequence: 115064\n",
      "Number of distinct drug-pair: 115044\n"
     ]
    },
    {
     "data": {
      "text/plain": "   Unnamed: 0.1  Unnamed: 0       d1       d2  type     split  \\\n0             0           0  DB04571  DB00460    74  training   \n1             1           1  DB00855  DB00460    74  training   \n2             2           2  DB09536  DB00460    74  training   \n3             7           8  DB01878  DB00460    74  training   \n4             8           9  DB00140  DB00460    74  training   \n\n                                                              smiles1  \\\n0                                 CC1=CC2=CC3=C(OC(=O)C=C3C)C(C)=C2O1   \n1                                                     NCC(=O)CCC(O)=O   \n2                                                            O=[Ti]=O   \n3                                         O=C(C1=CC=CC=C1)C1=CC=CC=C1   \n4  CC1=C(C)C=C2N(C[C@H](O)[C@H](O)[C@H](O)CO)C3=NC(=O)NC(=O)C3=NC2=C1   \n\n                                                                                                                        smiles2  \\\n0  COC(=O)CCC1=C2NC(\\C=C3/N=C(/C=C4\\N\\C(=C/C5=N/C(=C\\2)/C(CCC(O)=O)=C5C)C(C=C)=C4C)C2=CC=C([C@@H](C(=O)OC)[C@@]32C)C(=O)OC)=C1C   \n1  COC(=O)CCC1=C2NC(\\C=C3/N=C(/C=C4\\N\\C(=C/C5=N/C(=C\\2)/C(CCC(O)=O)=C5C)C(C=C)=C4C)C2=CC=C([C@@H](C(=O)OC)[C@@]32C)C(=O)OC)=C1C   \n2  COC(=O)CCC1=C2NC(\\C=C3/N=C(/C=C4\\N\\C(=C/C5=N/C(=C\\2)/C(CCC(O)=O)=C5C)C(C=C)=C4C)C2=CC=C([C@@H](C(=O)OC)[C@@]32C)C(=O)OC)=C1C   \n3  COC(=O)CCC1=C2NC(\\C=C3/N=C(/C=C4\\N\\C(=C/C5=N/C(=C\\2)/C(CCC(O)=O)=C5C)C(C=C)=C4C)C2=CC=C([C@@H](C(=O)OC)[C@@]32C)C(=O)OC)=C1C   \n4  COC(=O)CCC1=C2NC(\\C=C3/N=C(/C=C4\\N\\C(=C/C5=N/C(=C\\2)/C(CCC(O)=O)=C5C)C(C=C)=C4C)C2=CC=C([C@@H](C(=O)OC)[C@@]32C)C(=O)OC)=C1C   \n\n                    d1_d2               drug_pair  \n0  ['DB04571', 'DB00460']  {'DB00460', 'DB04571'}  \n1  ['DB00855', 'DB00460']  {'DB00460', 'DB00855'}  \n2  ['DB09536', 'DB00460']  {'DB00460', 'DB09536'}  \n3  ['DB01878', 'DB00460']  {'DB01878', 'DB00460'}  \n4  ['DB00140', 'DB00460']  {'DB00140', 'DB00460'}  ",
      "text/html": "<div>\n<style scoped>\n    .dataframe tbody tr th:only-of-type {\n        vertical-align: middle;\n    }\n\n    .dataframe tbody tr th {\n        vertical-align: top;\n    }\n\n    .dataframe thead th {\n        text-align: right;\n    }\n</style>\n<table border=\"1\" class=\"dataframe\">\n  <thead>\n    <tr style=\"text-align: right;\">\n      <th></th>\n      <th>Unnamed: 0.1</th>\n      <th>Unnamed: 0</th>\n      <th>d1</th>\n      <th>d2</th>\n      <th>type</th>\n      <th>split</th>\n      <th>smiles1</th>\n      <th>smiles2</th>\n      <th>d1_d2</th>\n      <th>drug_pair</th>\n    </tr>\n  </thead>\n  <tbody>\n    <tr>\n      <th>0</th>\n      <td>0</td>\n      <td>0</td>\n      <td>DB04571</td>\n      <td>DB00460</td>\n      <td>74</td>\n      <td>training</td>\n      <td>CC1=CC2=CC3=C(OC(=O)C=C3C)C(C)=C2O1</td>\n      <td>COC(=O)CCC1=C2NC(\\C=C3/N=C(/C=C4\\N\\C(=C/C5=N/C(=C\\2)/C(CCC(O)=O)=C5C)C(C=C)=C4C)C2=CC=C([C@@H](C(=O)OC)[C@@]32C)C(=O)OC)=C1C</td>\n      <td>['DB04571', 'DB00460']</td>\n      <td>{'DB00460', 'DB04571'}</td>\n    </tr>\n    <tr>\n      <th>1</th>\n      <td>1</td>\n      <td>1</td>\n      <td>DB00855</td>\n      <td>DB00460</td>\n      <td>74</td>\n      <td>training</td>\n      <td>NCC(=O)CCC(O)=O</td>\n      <td>COC(=O)CCC1=C2NC(\\C=C3/N=C(/C=C4\\N\\C(=C/C5=N/C(=C\\2)/C(CCC(O)=O)=C5C)C(C=C)=C4C)C2=CC=C([C@@H](C(=O)OC)[C@@]32C)C(=O)OC)=C1C</td>\n      <td>['DB00855', 'DB00460']</td>\n      <td>{'DB00460', 'DB00855'}</td>\n    </tr>\n    <tr>\n      <th>2</th>\n      <td>2</td>\n      <td>2</td>\n      <td>DB09536</td>\n      <td>DB00460</td>\n      <td>74</td>\n      <td>training</td>\n      <td>O=[Ti]=O</td>\n      <td>COC(=O)CCC1=C2NC(\\C=C3/N=C(/C=C4\\N\\C(=C/C5=N/C(=C\\2)/C(CCC(O)=O)=C5C)C(C=C)=C4C)C2=CC=C([C@@H](C(=O)OC)[C@@]32C)C(=O)OC)=C1C</td>\n      <td>['DB09536', 'DB00460']</td>\n      <td>{'DB00460', 'DB09536'}</td>\n    </tr>\n    <tr>\n      <th>3</th>\n      <td>7</td>\n      <td>8</td>\n      <td>DB01878</td>\n      <td>DB00460</td>\n      <td>74</td>\n      <td>training</td>\n      <td>O=C(C1=CC=CC=C1)C1=CC=CC=C1</td>\n      <td>COC(=O)CCC1=C2NC(\\C=C3/N=C(/C=C4\\N\\C(=C/C5=N/C(=C\\2)/C(CCC(O)=O)=C5C)C(C=C)=C4C)C2=CC=C([C@@H](C(=O)OC)[C@@]32C)C(=O)OC)=C1C</td>\n      <td>['DB01878', 'DB00460']</td>\n      <td>{'DB01878', 'DB00460'}</td>\n    </tr>\n    <tr>\n      <th>4</th>\n      <td>8</td>\n      <td>9</td>\n      <td>DB00140</td>\n      <td>DB00460</td>\n      <td>74</td>\n      <td>training</td>\n      <td>CC1=C(C)C=C2N(C[C@H](O)[C@H](O)[C@H](O)CO)C3=NC(=O)NC(=O)C3=NC2=C1</td>\n      <td>COC(=O)CCC1=C2NC(\\C=C3/N=C(/C=C4\\N\\C(=C/C5=N/C(=C\\2)/C(CCC(O)=O)=C5C)C(C=C)=C4C)C2=CC=C([C@@H](C(=O)OC)[C@@]32C)C(=O)OC)=C1C</td>\n      <td>['DB00140', 'DB00460']</td>\n      <td>{'DB00140', 'DB00460'}</td>\n    </tr>\n  </tbody>\n</table>\n</div>"
     },
     "execution_count": 4,
     "metadata": {},
     "output_type": "execute_result"
    }
   ],
   "source": [
    "raw_train = pd.read_csv('data/archive/ddi_training.csv')\n",
    "# Add a drug-pair column\n",
    "raw_train['d1_d2'] = raw_train.apply(lambda x: str([x['d1'], x['d2']]), axis=1)\n",
    "raw_train['drug_pair'] = raw_train.apply(lambda x: str(set(sorted([x['d1'], x['d2']]))), axis=1)\n",
    "\n",
    "print('Raw Train data dimension:', raw_train.shape)\n",
    "print('Number of distinct drugs in d1:', len(raw_train['d1'].unique()))\n",
    "print('Number of distinct drugs in d2:', len(raw_train['d2'].unique()))\n",
    "print('Number of distinct d1-d2 sequence:', len(raw_train['d1_d2'].unique()))\n",
    "print('Number of distinct drug-pair:', len(raw_train['drug_pair'].unique()))\n",
    "raw_train.head()"
   ],
   "metadata": {
    "collapsed": false,
    "ExecuteTime": {
     "end_time": "2023-06-25T16:26:27.593349600Z",
     "start_time": "2023-06-25T16:26:24.600732100Z"
    }
   }
  },
  {
   "cell_type": "code",
   "execution_count": 5,
   "outputs": [
    {
     "name": "stdout",
     "output_type": "stream",
     "text": [
      "Number of drug-pairs have 1 interaction: 114943\n",
      "Number of drug-pairs have >1 interactions: 121\n"
     ]
    },
    {
     "data": {
      "text/plain": "       Unnamed: 0.1  Unnamed: 0       d1       d2  type     split  \\\n23245         38857       38858  DB00176  DB00997     9  training   \n23244         38856       38857  DB00176  DB00997     5  training   \n18541         31102       31103  DB00213  DB00884    12  training   \n18542         31103       31104  DB00213  DB00884     9  training   \n23250         38862       38863  DB00215  DB00997     9  training   \n...             ...         ...      ...      ...   ...       ...   \n23189         38769       38770  DB09167  DB00997     5  training   \n23334         39017       39018  DB09238  DB00997     5  training   \n23335         39018       39019  DB09238  DB00997     9  training   \n32213         53628       53630  DB09241  DB00327    66  training   \n32212         53627       53629  DB09241  DB00327    25  training   \n\n                                                                                        smiles1  \\\n23245                                                      COCCCCC(=NOCCN)C1=CC=C(C=C1)C(F)(F)F   \n23244                                                      COCCCCC(=NOCCN)C1=CC=C(C=C1)C(F)(F)F   \n18541                                      COC1=C(OC)C(CS(=O)C2=NC3=C(N2)C=C(OC(F)F)C=C3)=NC=C1   \n18542                                      COC1=C(OC)C(CS(=O)C2=NC3=C(N2)C=C(OC(F)F)C=C3)=NC=C1   \n23250                                             CN(C)CCCC1(OCC2=C1C=CC(=C2)C#N)C1=CC=C(F)C=C1   \n...                                                                                         ...   \n23189                                                    CN(C)CC\\C=C1/C2=CC=CC=C2CSC2=CC=CC=C12   \n23334  COC(=O)C1=C(C)NC(C)=C(C1C1=CC(=CC=C1)N(=O)=O)C(=O)OCCN1CCN(CC1)C(C1=CC=CC=C1)C1=CC=CC=C1   \n23335  COC(=O)C1=C(C)NC(C)=C(C1C1=CC(=CC=C1)N(=O)=O)C(=O)OCCN1CCN(CC1)C(C1=CC=CC=C1)C1=CC=CC=C1   \n32213                                        [Cl-].CN(C)C1=CC2=[S+]C3=C(C=CC(=C3)N(C)C)N=C2C=C1   \n32212                                        [Cl-].CN(C)C1=CC2=[S+]C3=C(C=CC(=C3)N(C)C)N=C2C=C1   \n\n                                                                                                      smiles2  \\\n23245  COC1=CC=CC2=C1C(=O)C1=C(O)C3=C(C[C@](O)(C[C@@H]3O[C@H]3C[C@H](N)[C@H](O)[C@H](C)O3)C(=O)CO)C(O)=C1C2=O   \n23244  COC1=CC=CC2=C1C(=O)C1=C(O)C3=C(C[C@](O)(C[C@@H]3O[C@H]3C[C@H](N)[C@H](O)[C@H](C)O3)C(=O)CO)C(O)=C1C2=O   \n18541                                                                    OC(CC1=CN=CC=C1)(P(O)(O)=O)P(O)(O)=O   \n18542                                                                    OC(CC1=CN=CC=C1)(P(O)(O)=O)P(O)(O)=O   \n23250  COC1=CC=CC2=C1C(=O)C1=C(O)C3=C(C[C@](O)(C[C@@H]3O[C@H]3C[C@H](N)[C@H](O)[C@H](C)O3)C(=O)CO)C(O)=C1C2=O   \n...                                                                                                       ...   \n23189  COC1=CC=CC2=C1C(=O)C1=C(O)C3=C(C[C@](O)(C[C@@H]3O[C@H]3C[C@H](N)[C@H](O)[C@H](C)O3)C(=O)CO)C(O)=C1C2=O   \n23334  COC1=CC=CC2=C1C(=O)C1=C(O)C3=C(C[C@](O)(C[C@@H]3O[C@H]3C[C@H](N)[C@H](O)[C@H](C)O3)C(=O)CO)C(O)=C1C2=O   \n23335  COC1=CC=CC2=C1C(=O)C1=C(O)C3=C(C[C@](O)(C[C@@H]3O[C@H]3C[C@H](N)[C@H](O)[C@H](C)O3)C(=O)CO)C(O)=C1C2=O   \n32213                                    [H][C@@]12OC3=C(O)C=CC4=C3[C@@]11CCN(C)[C@]([H])(C4)[C@]1([H])CCC2=O   \n32212                                    [H][C@@]12OC3=C(O)C=CC4=C3[C@@]11CCN(C)[C@]([H])(C4)[C@]1([H])CCC2=O   \n\n                        d1_d2               drug_pair  count_pair  \n23245  ['DB00176', 'DB00997']  {'DB00997', 'DB00176'}           2  \n23244  ['DB00176', 'DB00997']  {'DB00997', 'DB00176'}           2  \n18541  ['DB00213', 'DB00884']  {'DB00884', 'DB00213'}           2  \n18542  ['DB00213', 'DB00884']  {'DB00884', 'DB00213'}           2  \n23250  ['DB00215', 'DB00997']  {'DB00215', 'DB00997'}           2  \n...                       ...                     ...         ...  \n23189  ['DB09167', 'DB00997']  {'DB00997', 'DB09167'}           2  \n23334  ['DB09238', 'DB00997']  {'DB00997', 'DB09238'}           2  \n23335  ['DB09238', 'DB00997']  {'DB00997', 'DB09238'}           2  \n32213  ['DB09241', 'DB00327']  {'DB00327', 'DB09241'}           2  \n32212  ['DB09241', 'DB00327']  {'DB00327', 'DB09241'}           2  \n\n[242 rows x 11 columns]",
      "text/html": "<div>\n<style scoped>\n    .dataframe tbody tr th:only-of-type {\n        vertical-align: middle;\n    }\n\n    .dataframe tbody tr th {\n        vertical-align: top;\n    }\n\n    .dataframe thead th {\n        text-align: right;\n    }\n</style>\n<table border=\"1\" class=\"dataframe\">\n  <thead>\n    <tr style=\"text-align: right;\">\n      <th></th>\n      <th>Unnamed: 0.1</th>\n      <th>Unnamed: 0</th>\n      <th>d1</th>\n      <th>d2</th>\n      <th>type</th>\n      <th>split</th>\n      <th>smiles1</th>\n      <th>smiles2</th>\n      <th>d1_d2</th>\n      <th>drug_pair</th>\n      <th>count_pair</th>\n    </tr>\n  </thead>\n  <tbody>\n    <tr>\n      <th>23245</th>\n      <td>38857</td>\n      <td>38858</td>\n      <td>DB00176</td>\n      <td>DB00997</td>\n      <td>9</td>\n      <td>training</td>\n      <td>COCCCCC(=NOCCN)C1=CC=C(C=C1)C(F)(F)F</td>\n      <td>COC1=CC=CC2=C1C(=O)C1=C(O)C3=C(C[C@](O)(C[C@@H]3O[C@H]3C[C@H](N)[C@H](O)[C@H](C)O3)C(=O)CO)C(O)=C1C2=O</td>\n      <td>['DB00176', 'DB00997']</td>\n      <td>{'DB00997', 'DB00176'}</td>\n      <td>2</td>\n    </tr>\n    <tr>\n      <th>23244</th>\n      <td>38856</td>\n      <td>38857</td>\n      <td>DB00176</td>\n      <td>DB00997</td>\n      <td>5</td>\n      <td>training</td>\n      <td>COCCCCC(=NOCCN)C1=CC=C(C=C1)C(F)(F)F</td>\n      <td>COC1=CC=CC2=C1C(=O)C1=C(O)C3=C(C[C@](O)(C[C@@H]3O[C@H]3C[C@H](N)[C@H](O)[C@H](C)O3)C(=O)CO)C(O)=C1C2=O</td>\n      <td>['DB00176', 'DB00997']</td>\n      <td>{'DB00997', 'DB00176'}</td>\n      <td>2</td>\n    </tr>\n    <tr>\n      <th>18541</th>\n      <td>31102</td>\n      <td>31103</td>\n      <td>DB00213</td>\n      <td>DB00884</td>\n      <td>12</td>\n      <td>training</td>\n      <td>COC1=C(OC)C(CS(=O)C2=NC3=C(N2)C=C(OC(F)F)C=C3)=NC=C1</td>\n      <td>OC(CC1=CN=CC=C1)(P(O)(O)=O)P(O)(O)=O</td>\n      <td>['DB00213', 'DB00884']</td>\n      <td>{'DB00884', 'DB00213'}</td>\n      <td>2</td>\n    </tr>\n    <tr>\n      <th>18542</th>\n      <td>31103</td>\n      <td>31104</td>\n      <td>DB00213</td>\n      <td>DB00884</td>\n      <td>9</td>\n      <td>training</td>\n      <td>COC1=C(OC)C(CS(=O)C2=NC3=C(N2)C=C(OC(F)F)C=C3)=NC=C1</td>\n      <td>OC(CC1=CN=CC=C1)(P(O)(O)=O)P(O)(O)=O</td>\n      <td>['DB00213', 'DB00884']</td>\n      <td>{'DB00884', 'DB00213'}</td>\n      <td>2</td>\n    </tr>\n    <tr>\n      <th>23250</th>\n      <td>38862</td>\n      <td>38863</td>\n      <td>DB00215</td>\n      <td>DB00997</td>\n      <td>9</td>\n      <td>training</td>\n      <td>CN(C)CCCC1(OCC2=C1C=CC(=C2)C#N)C1=CC=C(F)C=C1</td>\n      <td>COC1=CC=CC2=C1C(=O)C1=C(O)C3=C(C[C@](O)(C[C@@H]3O[C@H]3C[C@H](N)[C@H](O)[C@H](C)O3)C(=O)CO)C(O)=C1C2=O</td>\n      <td>['DB00215', 'DB00997']</td>\n      <td>{'DB00215', 'DB00997'}</td>\n      <td>2</td>\n    </tr>\n    <tr>\n      <th>...</th>\n      <td>...</td>\n      <td>...</td>\n      <td>...</td>\n      <td>...</td>\n      <td>...</td>\n      <td>...</td>\n      <td>...</td>\n      <td>...</td>\n      <td>...</td>\n      <td>...</td>\n      <td>...</td>\n    </tr>\n    <tr>\n      <th>23189</th>\n      <td>38769</td>\n      <td>38770</td>\n      <td>DB09167</td>\n      <td>DB00997</td>\n      <td>5</td>\n      <td>training</td>\n      <td>CN(C)CC\\C=C1/C2=CC=CC=C2CSC2=CC=CC=C12</td>\n      <td>COC1=CC=CC2=C1C(=O)C1=C(O)C3=C(C[C@](O)(C[C@@H]3O[C@H]3C[C@H](N)[C@H](O)[C@H](C)O3)C(=O)CO)C(O)=C1C2=O</td>\n      <td>['DB09167', 'DB00997']</td>\n      <td>{'DB00997', 'DB09167'}</td>\n      <td>2</td>\n    </tr>\n    <tr>\n      <th>23334</th>\n      <td>39017</td>\n      <td>39018</td>\n      <td>DB09238</td>\n      <td>DB00997</td>\n      <td>5</td>\n      <td>training</td>\n      <td>COC(=O)C1=C(C)NC(C)=C(C1C1=CC(=CC=C1)N(=O)=O)C(=O)OCCN1CCN(CC1)C(C1=CC=CC=C1)C1=CC=CC=C1</td>\n      <td>COC1=CC=CC2=C1C(=O)C1=C(O)C3=C(C[C@](O)(C[C@@H]3O[C@H]3C[C@H](N)[C@H](O)[C@H](C)O3)C(=O)CO)C(O)=C1C2=O</td>\n      <td>['DB09238', 'DB00997']</td>\n      <td>{'DB00997', 'DB09238'}</td>\n      <td>2</td>\n    </tr>\n    <tr>\n      <th>23335</th>\n      <td>39018</td>\n      <td>39019</td>\n      <td>DB09238</td>\n      <td>DB00997</td>\n      <td>9</td>\n      <td>training</td>\n      <td>COC(=O)C1=C(C)NC(C)=C(C1C1=CC(=CC=C1)N(=O)=O)C(=O)OCCN1CCN(CC1)C(C1=CC=CC=C1)C1=CC=CC=C1</td>\n      <td>COC1=CC=CC2=C1C(=O)C1=C(O)C3=C(C[C@](O)(C[C@@H]3O[C@H]3C[C@H](N)[C@H](O)[C@H](C)O3)C(=O)CO)C(O)=C1C2=O</td>\n      <td>['DB09238', 'DB00997']</td>\n      <td>{'DB00997', 'DB09238'}</td>\n      <td>2</td>\n    </tr>\n    <tr>\n      <th>32213</th>\n      <td>53628</td>\n      <td>53630</td>\n      <td>DB09241</td>\n      <td>DB00327</td>\n      <td>66</td>\n      <td>training</td>\n      <td>[Cl-].CN(C)C1=CC2=[S+]C3=C(C=CC(=C3)N(C)C)N=C2C=C1</td>\n      <td>[H][C@@]12OC3=C(O)C=CC4=C3[C@@]11CCN(C)[C@]([H])(C4)[C@]1([H])CCC2=O</td>\n      <td>['DB09241', 'DB00327']</td>\n      <td>{'DB00327', 'DB09241'}</td>\n      <td>2</td>\n    </tr>\n    <tr>\n      <th>32212</th>\n      <td>53627</td>\n      <td>53629</td>\n      <td>DB09241</td>\n      <td>DB00327</td>\n      <td>25</td>\n      <td>training</td>\n      <td>[Cl-].CN(C)C1=CC2=[S+]C3=C(C=CC(=C3)N(C)C)N=C2C=C1</td>\n      <td>[H][C@@]12OC3=C(O)C=CC4=C3[C@@]11CCN(C)[C@]([H])(C4)[C@]1([H])CCC2=O</td>\n      <td>['DB09241', 'DB00327']</td>\n      <td>{'DB00327', 'DB09241'}</td>\n      <td>2</td>\n    </tr>\n  </tbody>\n</table>\n<p>242 rows × 11 columns</p>\n</div>"
     },
     "execution_count": 5,
     "metadata": {},
     "output_type": "execute_result"
    }
   ],
   "source": [
    "# Count the number of repeated pairs in the dataset\n",
    "count_pair = dict(raw_train.d1_d2.value_counts())\n",
    "\n",
    "# Display drug-pairs that have more than 1 interaction in the dataset\n",
    "raw_train['count_pair'] = raw_train.d1_d2.map(count_pair)\n",
    "\n",
    "pair_1count = len(raw_train[raw_train.count_pair == 1]['d1_d2'].unique())\n",
    "pair_2count = len(raw_train[raw_train.count_pair > 1]['d1_d2'].unique())\n",
    "print('Number of drug-pairs have 1 interaction:', pair_1count)\n",
    "print('Number of drug-pairs have >1 interactions:', pair_2count)\n",
    "raw_train[raw_train.count_pair > 1].sort_values('d1_d2')"
   ],
   "metadata": {
    "collapsed": false,
    "ExecuteTime": {
     "end_time": "2023-06-25T16:31:10.489419800Z",
     "start_time": "2023-06-25T16:31:09.359047600Z"
    }
   }
  },
  {
   "cell_type": "code",
   "execution_count": null,
   "outputs": [],
   "source": [
    "# API Interaction Scraping data\n",
    "raw_data = pd.read_csv('data/ddis_from_api.csv', delimiter='\\t')\n",
    "# Filter out drug_pairs without SMILES data\n",
    "# raw_data = raw_data.dropna(subset=['smiles1', 'smiles2'], how='any')\n",
    "raw_data = raw_data.drop_duplicates()\n",
    "\n",
    "# Add a drug-pair column\n",
    "raw_data['d1_d2'] = raw_data.apply(lambda x: str([x['d1'], x['d2']]), axis=1)\n",
    "raw_data['drug_pair'] = raw_data.apply(lambda x: str(set(sorted([x['d1'], x['d2']]))), axis=1)\n",
    "\n",
    "print('Raw data dimension:', raw_data.shape)\n",
    "print('Number of distinct drugs in d1:', len(raw_data['d1'].unique()))\n",
    "print('Number of distinct drugs in d2:', len(raw_data['d2'].unique()))\n",
    "print('Number of distinct d1-d2 sequence:', len(raw_data['d1_d2'].unique()))\n",
    "print('Number of distinct drug-pair:', len(raw_data['drug_pair'].unique()))\n",
    "raw_data.head()"
   ],
   "metadata": {
    "collapsed": false
   }
  }
 ],
 "metadata": {
  "kernelspec": {
   "display_name": "Python 3",
   "language": "python",
   "name": "python3"
  },
  "language_info": {
   "codemirror_mode": {
    "name": "ipython",
    "version": 2
   },
   "file_extension": ".py",
   "mimetype": "text/x-python",
   "name": "python",
   "nbconvert_exporter": "python",
   "pygments_lexer": "ipython2",
   "version": "2.7.6"
  }
 },
 "nbformat": 4,
 "nbformat_minor": 0
}
