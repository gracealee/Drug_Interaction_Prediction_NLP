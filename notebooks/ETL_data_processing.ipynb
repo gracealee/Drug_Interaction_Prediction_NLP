{
 "cells": [
  {
   "cell_type": "markdown",
   "id": "4fec4e9c",
   "metadata": {},
   "source": [
    "# ETL & Data Processing"
   ]
  },
  {
   "cell_type": "markdown",
   "id": "008ac8db",
   "metadata": {},
   "source": [
    "## 1. Set up"
   ]
  },
  {
   "cell_type": "code",
   "execution_count": 1,
   "id": "3dfb5dce",
   "metadata": {},
   "outputs": [],
   "source": [
    "# from google.colab import drive\n",
    "# drive.mount('/content/drive')"
   ]
  },
  {
   "cell_type": "code",
   "execution_count": 1,
   "id": "222c9873",
   "metadata": {
    "ExecuteTime": {
     "end_time": "2023-08-06T19:03:18.275446700Z",
     "start_time": "2023-08-06T19:03:18.260946400Z"
    }
   },
   "outputs": [
    {
     "name": "stdout",
     "output_type": "stream",
     "text": [
      "D:\\OneDrive\\w210\\capstone-project\n"
     ]
    }
   ],
   "source": [
    "%cd ..\n",
    "# %cd media/capstone-project"
   ]
  },
  {
   "cell_type": "code",
   "execution_count": 2,
   "id": "dab0db74",
   "metadata": {
    "ExecuteTime": {
     "end_time": "2023-08-06T19:05:30.062219200Z",
     "start_time": "2023-08-06T19:05:27.052459400Z"
    }
   },
   "outputs": [],
   "source": [
    "import random\n",
    "import pandas as pd\n",
    "import seaborn as sns\n",
    "import numpy as np\n",
    "import matplotlib.pyplot as plt\n",
    "import itertools\n",
    "import re\n",
    "\n",
    "%matplotlib inline\n",
    "sns.set_theme(color_codes=True)\n",
    "\n",
    "pd.set_option('display.max_rows', 50)\n",
    "pd.set_option('display.max_columns', None)\n",
    "pd.set_option('display.max_colwidth', 200)"
   ]
  },
  {
   "cell_type": "code",
   "execution_count": 1,
   "id": "8673cdaf-982a-42ad-a53b-52c6dbd2ae47",
   "metadata": {
    "ExecuteTime": {
     "end_time": "2023-06-16T01:22:46.777859600Z",
     "start_time": "2023-06-16T01:22:44.457858700Z"
    }
   },
   "outputs": [
    {
     "name": "stdout",
     "output_type": "stream",
     "text": [
      "starting Spark\n"
     ]
    },
    {
     "ename": "RuntimeError",
     "evalue": "Java gateway process exited before sending its port number",
     "output_type": "error",
     "traceback": [
      "\u001B[1;31m---------------------------------------------------------------------------\u001B[0m",
      "\u001B[1;31mNameError\u001B[0m                                 Traceback (most recent call last)",
      "Cell \u001B[1;32mIn[1], line 4\u001B[0m\n\u001B[0;32m      3\u001B[0m \u001B[38;5;28;01mtry\u001B[39;00m:\n\u001B[1;32m----> 4\u001B[0m     \u001B[43mspark\u001B[49m\n\u001B[0;32m      5\u001B[0m     \u001B[38;5;28mprint\u001B[39m(\u001B[38;5;124m\"\u001B[39m\u001B[38;5;124mSpark is already running\u001B[39m\u001B[38;5;124m\"\u001B[39m)\n",
      "\u001B[1;31mNameError\u001B[0m: name 'spark' is not defined",
      "\nDuring handling of the above exception, another exception occurred:\n",
      "\u001B[1;31mRuntimeError\u001B[0m                              Traceback (most recent call last)",
      "Cell \u001B[1;32mIn[1], line 15\u001B[0m\n\u001B[0;32m      9\u001B[0m     app_name \u001B[38;5;241m=\u001B[39m \u001B[38;5;124m'\u001B[39m\u001B[38;5;124mnotebook\u001B[39m\u001B[38;5;124m'\u001B[39m\n\u001B[0;32m     10\u001B[0m     master \u001B[38;5;241m=\u001B[39m \u001B[38;5;124m\"\u001B[39m\u001B[38;5;124mlocal[*]\u001B[39m\u001B[38;5;124m\"\u001B[39m\n\u001B[0;32m     11\u001B[0m     spark \u001B[38;5;241m=\u001B[39m \u001B[43mSparkSession\u001B[49m\u001B[43m\\\u001B[49m\n\u001B[0;32m     12\u001B[0m \u001B[43m            \u001B[49m\u001B[38;5;241;43m.\u001B[39;49m\u001B[43mbuilder\u001B[49m\u001B[43m\\\u001B[49m\n\u001B[0;32m     13\u001B[0m \u001B[43m            \u001B[49m\u001B[38;5;241;43m.\u001B[39;49m\u001B[43mappName\u001B[49m\u001B[43m(\u001B[49m\u001B[43mapp_name\u001B[49m\u001B[43m)\u001B[49m\u001B[43m\\\u001B[49m\n\u001B[0;32m     14\u001B[0m \u001B[43m            \u001B[49m\u001B[38;5;241;43m.\u001B[39;49m\u001B[43mmaster\u001B[49m\u001B[43m(\u001B[49m\u001B[43mmaster\u001B[49m\u001B[43m)\u001B[49m\u001B[43m\\\u001B[49m\n\u001B[1;32m---> 15\u001B[0m \u001B[43m            \u001B[49m\u001B[38;5;241;43m.\u001B[39;49m\u001B[43mgetOrCreate\u001B[49m\u001B[43m(\u001B[49m\u001B[43m)\u001B[49m\n\u001B[0;32m     16\u001B[0m sc \u001B[38;5;241m=\u001B[39m spark\u001B[38;5;241m.\u001B[39msparkContext\n",
      "File \u001B[1;32m~\\.conda\\envs\\env310\\lib\\site-packages\\pyspark\\sql\\session.py:228\u001B[0m, in \u001B[0;36mSparkSession.Builder.getOrCreate\u001B[1;34m(self)\u001B[0m\n\u001B[0;32m    226\u001B[0m         sparkConf\u001B[38;5;241m.\u001B[39mset(key, value)\n\u001B[0;32m    227\u001B[0m     \u001B[38;5;66;03m# This SparkContext may be an existing one.\u001B[39;00m\n\u001B[1;32m--> 228\u001B[0m     sc \u001B[38;5;241m=\u001B[39m \u001B[43mSparkContext\u001B[49m\u001B[38;5;241;43m.\u001B[39;49m\u001B[43mgetOrCreate\u001B[49m\u001B[43m(\u001B[49m\u001B[43msparkConf\u001B[49m\u001B[43m)\u001B[49m\n\u001B[0;32m    229\u001B[0m \u001B[38;5;66;03m# Do not update `SparkConf` for existing `SparkContext`, as it's shared\u001B[39;00m\n\u001B[0;32m    230\u001B[0m \u001B[38;5;66;03m# by all sessions.\u001B[39;00m\n\u001B[0;32m    231\u001B[0m session \u001B[38;5;241m=\u001B[39m SparkSession(sc)\n",
      "File \u001B[1;32m~\\.conda\\envs\\env310\\lib\\site-packages\\pyspark\\context.py:392\u001B[0m, in \u001B[0;36mSparkContext.getOrCreate\u001B[1;34m(cls, conf)\u001B[0m\n\u001B[0;32m    390\u001B[0m \u001B[38;5;28;01mwith\u001B[39;00m SparkContext\u001B[38;5;241m.\u001B[39m_lock:\n\u001B[0;32m    391\u001B[0m     \u001B[38;5;28;01mif\u001B[39;00m SparkContext\u001B[38;5;241m.\u001B[39m_active_spark_context \u001B[38;5;129;01mis\u001B[39;00m \u001B[38;5;28;01mNone\u001B[39;00m:\n\u001B[1;32m--> 392\u001B[0m         \u001B[43mSparkContext\u001B[49m\u001B[43m(\u001B[49m\u001B[43mconf\u001B[49m\u001B[38;5;241;43m=\u001B[39;49m\u001B[43mconf\u001B[49m\u001B[43m \u001B[49m\u001B[38;5;129;43;01mor\u001B[39;49;00m\u001B[43m \u001B[49m\u001B[43mSparkConf\u001B[49m\u001B[43m(\u001B[49m\u001B[43m)\u001B[49m\u001B[43m)\u001B[49m\n\u001B[0;32m    393\u001B[0m     \u001B[38;5;28;01mreturn\u001B[39;00m SparkContext\u001B[38;5;241m.\u001B[39m_active_spark_context\n",
      "File \u001B[1;32m~\\.conda\\envs\\env310\\lib\\site-packages\\pyspark\\context.py:144\u001B[0m, in \u001B[0;36mSparkContext.__init__\u001B[1;34m(self, master, appName, sparkHome, pyFiles, environment, batchSize, serializer, conf, gateway, jsc, profiler_cls)\u001B[0m\n\u001B[0;32m    139\u001B[0m \u001B[38;5;28;01mif\u001B[39;00m gateway \u001B[38;5;129;01mis\u001B[39;00m \u001B[38;5;129;01mnot\u001B[39;00m \u001B[38;5;28;01mNone\u001B[39;00m \u001B[38;5;129;01mand\u001B[39;00m gateway\u001B[38;5;241m.\u001B[39mgateway_parameters\u001B[38;5;241m.\u001B[39mauth_token \u001B[38;5;129;01mis\u001B[39;00m \u001B[38;5;28;01mNone\u001B[39;00m:\n\u001B[0;32m    140\u001B[0m     \u001B[38;5;28;01mraise\u001B[39;00m \u001B[38;5;167;01mValueError\u001B[39;00m(\n\u001B[0;32m    141\u001B[0m         \u001B[38;5;124m\"\u001B[39m\u001B[38;5;124mYou are trying to pass an insecure Py4j gateway to Spark. This\u001B[39m\u001B[38;5;124m\"\u001B[39m\n\u001B[0;32m    142\u001B[0m         \u001B[38;5;124m\"\u001B[39m\u001B[38;5;124m is not allowed as it is a security risk.\u001B[39m\u001B[38;5;124m\"\u001B[39m)\n\u001B[1;32m--> 144\u001B[0m \u001B[43mSparkContext\u001B[49m\u001B[38;5;241;43m.\u001B[39;49m\u001B[43m_ensure_initialized\u001B[49m\u001B[43m(\u001B[49m\u001B[38;5;28;43mself\u001B[39;49m\u001B[43m,\u001B[49m\u001B[43m \u001B[49m\u001B[43mgateway\u001B[49m\u001B[38;5;241;43m=\u001B[39;49m\u001B[43mgateway\u001B[49m\u001B[43m,\u001B[49m\u001B[43m \u001B[49m\u001B[43mconf\u001B[49m\u001B[38;5;241;43m=\u001B[39;49m\u001B[43mconf\u001B[49m\u001B[43m)\u001B[49m\n\u001B[0;32m    145\u001B[0m \u001B[38;5;28;01mtry\u001B[39;00m:\n\u001B[0;32m    146\u001B[0m     \u001B[38;5;28mself\u001B[39m\u001B[38;5;241m.\u001B[39m_do_init(master, appName, sparkHome, pyFiles, environment, batchSize, serializer,\n\u001B[0;32m    147\u001B[0m                   conf, jsc, profiler_cls)\n",
      "File \u001B[1;32m~\\.conda\\envs\\env310\\lib\\site-packages\\pyspark\\context.py:339\u001B[0m, in \u001B[0;36mSparkContext._ensure_initialized\u001B[1;34m(cls, instance, gateway, conf)\u001B[0m\n\u001B[0;32m    337\u001B[0m \u001B[38;5;28;01mwith\u001B[39;00m SparkContext\u001B[38;5;241m.\u001B[39m_lock:\n\u001B[0;32m    338\u001B[0m     \u001B[38;5;28;01mif\u001B[39;00m \u001B[38;5;129;01mnot\u001B[39;00m SparkContext\u001B[38;5;241m.\u001B[39m_gateway:\n\u001B[1;32m--> 339\u001B[0m         SparkContext\u001B[38;5;241m.\u001B[39m_gateway \u001B[38;5;241m=\u001B[39m gateway \u001B[38;5;129;01mor\u001B[39;00m \u001B[43mlaunch_gateway\u001B[49m\u001B[43m(\u001B[49m\u001B[43mconf\u001B[49m\u001B[43m)\u001B[49m\n\u001B[0;32m    340\u001B[0m         SparkContext\u001B[38;5;241m.\u001B[39m_jvm \u001B[38;5;241m=\u001B[39m SparkContext\u001B[38;5;241m.\u001B[39m_gateway\u001B[38;5;241m.\u001B[39mjvm\n\u001B[0;32m    342\u001B[0m     \u001B[38;5;28;01mif\u001B[39;00m instance:\n",
      "File \u001B[1;32m~\\.conda\\envs\\env310\\lib\\site-packages\\pyspark\\java_gateway.py:108\u001B[0m, in \u001B[0;36mlaunch_gateway\u001B[1;34m(conf, popen_kwargs)\u001B[0m\n\u001B[0;32m    105\u001B[0m     time\u001B[38;5;241m.\u001B[39msleep(\u001B[38;5;241m0.1\u001B[39m)\n\u001B[0;32m    107\u001B[0m \u001B[38;5;28;01mif\u001B[39;00m \u001B[38;5;129;01mnot\u001B[39;00m os\u001B[38;5;241m.\u001B[39mpath\u001B[38;5;241m.\u001B[39misfile(conn_info_file):\n\u001B[1;32m--> 108\u001B[0m     \u001B[38;5;28;01mraise\u001B[39;00m \u001B[38;5;167;01mRuntimeError\u001B[39;00m(\u001B[38;5;124m\"\u001B[39m\u001B[38;5;124mJava gateway process exited before sending its port number\u001B[39m\u001B[38;5;124m\"\u001B[39m)\n\u001B[0;32m    110\u001B[0m \u001B[38;5;28;01mwith\u001B[39;00m \u001B[38;5;28mopen\u001B[39m(conn_info_file, \u001B[38;5;124m\"\u001B[39m\u001B[38;5;124mrb\u001B[39m\u001B[38;5;124m\"\u001B[39m) \u001B[38;5;28;01mas\u001B[39;00m info:\n\u001B[0;32m    111\u001B[0m     gateway_port \u001B[38;5;241m=\u001B[39m read_int(info)\n",
      "\u001B[1;31mRuntimeError\u001B[0m: Java gateway process exited before sending its port number"
     ]
    }
   ],
   "source": [
    "from pyspark.sql import SparkSession\n",
    "\n",
    "try:\n",
    "    spark\n",
    "    print(\"Spark is already running\")\n",
    "    print(f\"{sc.master} appName: {sc.appName}\")\n",
    "except NameError:\n",
    "    print('starting Spark')\n",
    "    app_name = 'notebook'\n",
    "    master = \"local[*]\"\n",
    "    spark = SparkSession\\\n",
    "            .builder\\\n",
    "            .appName(app_name)\\\n",
    "            .master(master)\\\n",
    "            .getOrCreate()\n",
    "sc = spark.sparkContext"
   ]
  },
  {
   "cell_type": "code",
   "execution_count": 5,
   "id": "8ccf58e5-260b-4b88-ba7e-c02057d2a218",
   "metadata": {},
   "outputs": [
    {
     "data": {
      "text/html": [
       "\n",
       "            <div>\n",
       "                <p><b>SparkSession - hive</b></p>\n",
       "                \n",
       "        <div>\n",
       "            <p><b>SparkContext</b></p>\n",
       "\n",
       "            <p><a href=\"http://w261-m.us-central1-b.c.w261-student-349401.internal:4040\">Spark UI</a></p>\n",
       "\n",
       "            <dl>\n",
       "              <dt>Version</dt>\n",
       "                <dd><code>v3.1.3</code></dd>\n",
       "              <dt>Master</dt>\n",
       "                <dd><code>local[*]</code></dd>\n",
       "              <dt>AppName</dt>\n",
       "                <dd><code>notebook</code></dd>\n",
       "            </dl>\n",
       "        </div>\n",
       "        \n",
       "            </div>\n",
       "        "
      ],
      "text/plain": [
       "<pyspark.sql.session.SparkSession at 0x7f949fcff7f0>"
      ]
     },
     "execution_count": 5,
     "metadata": {},
     "output_type": "execute_result"
    }
   ],
   "source": [
    "spark"
   ]
  },
  {
   "cell_type": "code",
   "execution_count": 3,
   "id": "949106f3",
   "metadata": {
    "ExecuteTime": {
     "end_time": "2023-06-16T04:23:13.952247800Z",
     "start_time": "2023-06-16T04:23:13.933247900Z"
    }
   },
   "outputs": [],
   "source": [
    "RANDOM_SEED = 42\n",
    "np.random.seed(RANDOM_SEED)"
   ]
  },
  {
   "cell_type": "markdown",
   "id": "0c559410",
   "metadata": {},
   "source": [
    "## 2. EDA"
   ]
  },
  {
   "cell_type": "code",
   "execution_count": 12,
   "id": "8e9b2d88",
   "metadata": {},
   "outputs": [
    {
     "name": "stdout",
     "output_type": "stream",
     "text": [
      "Raw data dimension: (1357134, 11)\n",
      "Number of distinct drugs in d1: 2407\n",
      "Number of distinct drugs in d2: 2441\n",
      "Number of distinct d1-d2 sequence: 1357134\n",
      "Number of distinct drug-pair: 731443\n"
     ]
    },
    {
     "data": {
      "text/html": [
       "<div>\n",
       "<style scoped>\n",
       "    .dataframe tbody tr th:only-of-type {\n",
       "        vertical-align: middle;\n",
       "    }\n",
       "\n",
       "    .dataframe tbody tr th {\n",
       "        vertical-align: top;\n",
       "    }\n",
       "\n",
       "    .dataframe thead th {\n",
       "        text-align: right;\n",
       "    }\n",
       "</style>\n",
       "<table border=\"1\" class=\"dataframe\">\n",
       "  <thead>\n",
       "    <tr style=\"text-align: right;\">\n",
       "      <th></th>\n",
       "      <th>d1</th>\n",
       "      <th>d2</th>\n",
       "      <th>d1_name</th>\n",
       "      <th>d2_name</th>\n",
       "      <th>interaction</th>\n",
       "      <th>severity</th>\n",
       "      <th>smiles1</th>\n",
       "      <th>smiles2</th>\n",
       "      <th>interaction_type</th>\n",
       "      <th>d1_d2</th>\n",
       "      <th>drug_pair</th>\n",
       "    </tr>\n",
       "  </thead>\n",
       "  <tbody>\n",
       "    <tr>\n",
       "      <th>0</th>\n",
       "      <td>DB00006</td>\n",
       "      <td>DB02709</td>\n",
       "      <td>Bivalirudin</td>\n",
       "      <td>Resveratrol</td>\n",
       "      <td>The risk or severity of bleeding can be increased when #Drug1 is combined with #Drug2.</td>\n",
       "      <td>high</td>\n",
       "      <td>CC[C@H](C)[C@H](NC(=O)[C@H](CCC(O)=O)NC(=O)[C@H](CCC(O)=O)NC(=O)[C@H](CC1=CC=CC=C1)NC(=O)[C@H](C...</td>\n",
       "      <td>OC1=CC=C(\\C=C\\C2=CC(O)=CC(O)=C2)C=C1</td>\n",
       "      <td>1</td>\n",
       "      <td>['DB00006', 'DB02709']</td>\n",
       "      <td>{'DB02709', 'DB00006'}</td>\n",
       "    </tr>\n",
       "    <tr>\n",
       "      <th>1</th>\n",
       "      <td>DB00006</td>\n",
       "      <td>DB01435</td>\n",
       "      <td>Bivalirudin</td>\n",
       "      <td>Antipyrine</td>\n",
       "      <td>The risk or severity of bleeding and hemorrhage can be increased when #Drug1 is combined with #D...</td>\n",
       "      <td>high</td>\n",
       "      <td>CC[C@H](C)[C@H](NC(=O)[C@H](CCC(O)=O)NC(=O)[C@H](CCC(O)=O)NC(=O)[C@H](CC1=CC=CC=C1)NC(=O)[C@H](C...</td>\n",
       "      <td>CN1N(C(=O)C=C1C)C1=CC=CC=C1</td>\n",
       "      <td>2</td>\n",
       "      <td>['DB00006', 'DB01435']</td>\n",
       "      <td>{'DB00006', 'DB01435'}</td>\n",
       "    </tr>\n",
       "    <tr>\n",
       "      <th>2</th>\n",
       "      <td>DB00006</td>\n",
       "      <td>DB08867</td>\n",
       "      <td>Bivalirudin</td>\n",
       "      <td>Ulipristal</td>\n",
       "      <td>The therapeutic efficacy of #Drug1 can be decreased when used in combination with #Drug2.</td>\n",
       "      <td>unknown</td>\n",
       "      <td>CC[C@H](C)[C@H](NC(=O)[C@H](CCC(O)=O)NC(=O)[C@H](CCC(O)=O)NC(=O)[C@H](CC1=CC=CC=C1)NC(=O)[C@H](C...</td>\n",
       "      <td>CN(C)C1=CC=C(C=C1)[C@H]1C[C@@]2(C)[C@@H](CC[C@]2(O)C(C)=O)[C@@H]2CCC3=CC(=O)CCC3=C12</td>\n",
       "      <td>3</td>\n",
       "      <td>['DB00006', 'DB08867']</td>\n",
       "      <td>{'DB08867', 'DB00006'}</td>\n",
       "    </tr>\n",
       "    <tr>\n",
       "      <th>3</th>\n",
       "      <td>DB00006</td>\n",
       "      <td>DB00428</td>\n",
       "      <td>Bivalirudin</td>\n",
       "      <td>Streptozocin</td>\n",
       "      <td>The risk or severity of bleeding can be increased when #Drug1 is combined with #Drug2.</td>\n",
       "      <td>high</td>\n",
       "      <td>CC[C@H](C)[C@H](NC(=O)[C@H](CCC(O)=O)NC(=O)[C@H](CCC(O)=O)NC(=O)[C@H](CC1=CC=CC=C1)NC(=O)[C@H](C...</td>\n",
       "      <td>CN(N=O)C(=O)N[C@H]1[C@@H](O)O[C@H](CO)[C@@H](O)[C@@H]1O</td>\n",
       "      <td>1</td>\n",
       "      <td>['DB00006', 'DB00428']</td>\n",
       "      <td>{'DB00428', 'DB00006'}</td>\n",
       "    </tr>\n",
       "    <tr>\n",
       "      <th>4</th>\n",
       "      <td>DB00006</td>\n",
       "      <td>DB01138</td>\n",
       "      <td>Bivalirudin</td>\n",
       "      <td>Sulfinpyrazone</td>\n",
       "      <td>The risk or severity of bleeding can be increased when #Drug1 is combined with #Drug2.</td>\n",
       "      <td>high</td>\n",
       "      <td>CC[C@H](C)[C@H](NC(=O)[C@H](CCC(O)=O)NC(=O)[C@H](CCC(O)=O)NC(=O)[C@H](CC1=CC=CC=C1)NC(=O)[C@H](C...</td>\n",
       "      <td>O=C1C(CCS(=O)C2=CC=CC=C2)C(=O)N(N1C1=CC=CC=C1)C1=CC=CC=C1</td>\n",
       "      <td>1</td>\n",
       "      <td>['DB00006', 'DB01138']</td>\n",
       "      <td>{'DB01138', 'DB00006'}</td>\n",
       "    </tr>\n",
       "  </tbody>\n",
       "</table>\n",
       "</div>"
      ],
      "text/plain": [
       "        d1       d2      d1_name         d2_name  \\\n",
       "0  DB00006  DB02709  Bivalirudin     Resveratrol   \n",
       "1  DB00006  DB01435  Bivalirudin      Antipyrine   \n",
       "2  DB00006  DB08867  Bivalirudin      Ulipristal   \n",
       "3  DB00006  DB00428  Bivalirudin    Streptozocin   \n",
       "4  DB00006  DB01138  Bivalirudin  Sulfinpyrazone   \n",
       "\n",
       "                                                                                           interaction  \\\n",
       "0               The risk or severity of bleeding can be increased when #Drug1 is combined with #Drug2.   \n",
       "1  The risk or severity of bleeding and hemorrhage can be increased when #Drug1 is combined with #D...   \n",
       "2            The therapeutic efficacy of #Drug1 can be decreased when used in combination with #Drug2.   \n",
       "3               The risk or severity of bleeding can be increased when #Drug1 is combined with #Drug2.   \n",
       "4               The risk or severity of bleeding can be increased when #Drug1 is combined with #Drug2.   \n",
       "\n",
       "  severity  \\\n",
       "0     high   \n",
       "1     high   \n",
       "2  unknown   \n",
       "3     high   \n",
       "4     high   \n",
       "\n",
       "                                                                                               smiles1  \\\n",
       "0  CC[C@H](C)[C@H](NC(=O)[C@H](CCC(O)=O)NC(=O)[C@H](CCC(O)=O)NC(=O)[C@H](CC1=CC=CC=C1)NC(=O)[C@H](C...   \n",
       "1  CC[C@H](C)[C@H](NC(=O)[C@H](CCC(O)=O)NC(=O)[C@H](CCC(O)=O)NC(=O)[C@H](CC1=CC=CC=C1)NC(=O)[C@H](C...   \n",
       "2  CC[C@H](C)[C@H](NC(=O)[C@H](CCC(O)=O)NC(=O)[C@H](CCC(O)=O)NC(=O)[C@H](CC1=CC=CC=C1)NC(=O)[C@H](C...   \n",
       "3  CC[C@H](C)[C@H](NC(=O)[C@H](CCC(O)=O)NC(=O)[C@H](CCC(O)=O)NC(=O)[C@H](CC1=CC=CC=C1)NC(=O)[C@H](C...   \n",
       "4  CC[C@H](C)[C@H](NC(=O)[C@H](CCC(O)=O)NC(=O)[C@H](CCC(O)=O)NC(=O)[C@H](CC1=CC=CC=C1)NC(=O)[C@H](C...   \n",
       "\n",
       "                                                                                smiles2  \\\n",
       "0                                                  OC1=CC=C(\\C=C\\C2=CC(O)=CC(O)=C2)C=C1   \n",
       "1                                                           CN1N(C(=O)C=C1C)C1=CC=CC=C1   \n",
       "2  CN(C)C1=CC=C(C=C1)[C@H]1C[C@@]2(C)[C@@H](CC[C@]2(O)C(C)=O)[C@@H]2CCC3=CC(=O)CCC3=C12   \n",
       "3                               CN(N=O)C(=O)N[C@H]1[C@@H](O)O[C@H](CO)[C@@H](O)[C@@H]1O   \n",
       "4                             O=C1C(CCS(=O)C2=CC=CC=C2)C(=O)N(N1C1=CC=CC=C1)C1=CC=CC=C1   \n",
       "\n",
       "   interaction_type                   d1_d2               drug_pair  \n",
       "0                 1  ['DB00006', 'DB02709']  {'DB02709', 'DB00006'}  \n",
       "1                 2  ['DB00006', 'DB01435']  {'DB00006', 'DB01435'}  \n",
       "2                 3  ['DB00006', 'DB08867']  {'DB08867', 'DB00006'}  \n",
       "3                 1  ['DB00006', 'DB00428']  {'DB00428', 'DB00006'}  \n",
       "4                 1  ['DB00006', 'DB01138']  {'DB01138', 'DB00006'}  "
      ]
     },
     "execution_count": 12,
     "metadata": {},
     "output_type": "execute_result"
    }
   ],
   "source": [
    "raw_data = pd.read_csv('data/ddis_from_api.csv', delimiter='\\t')\n",
    "# Filter out drug_pairs without SMILES data\n",
    "# raw_data = raw_data.dropna(subset=['smiles1', 'smiles2'], how='any')\n",
    "raw_data = raw_data.drop_duplicates()\n",
    "\n",
    "# Add a drug-pair column \n",
    "raw_data['d1_d2'] = raw_data.apply(lambda x: str([x['d1'], x['d2']]), axis=1)\n",
    "raw_data['drug_pair'] = raw_data.apply(lambda x: str(set(sorted([x['d1'], x['d2']]))), axis=1)\n",
    "\n",
    "print('Raw data dimension:', raw_data.shape)\n",
    "print('Number of distinct drugs in d1:', len(raw_data['d1'].unique()))\n",
    "print('Number of distinct drugs in d2:', len(raw_data['d2'].unique()))\n",
    "print('Number of distinct d1-d2 sequence:', len(raw_data['d1_d2'].unique()))\n",
    "print('Number of distinct drug-pair:', len(raw_data['drug_pair'].unique()))\n",
    "raw_data.head()"
   ]
  },
  {
   "cell_type": "code",
   "execution_count": 13,
   "id": "7c2f7fd0",
   "metadata": {},
   "outputs": [
    {
     "name": "stdout",
     "output_type": "stream",
     "text": [
      "Number of drug-pairs have 1 interaction: 1357134\n",
      "Number of drug-pairs have >1 interactions: 0\n"
     ]
    }
   ],
   "source": [
    "# Count the number of repeated pairs in the dataset\n",
    "count_pair = dict(raw_data.d1_d2.value_counts())\n",
    "\n",
    "# Display drug-pairs that have more than 1 interaction in the dataset\n",
    "raw_data['count_pair'] = raw_data.d1_d2.map(count_pair)\n",
    "\n",
    "pair_1count = len(raw_data[raw_data.count_pair == 1]['d1_d2'].unique())\n",
    "pair_2count = len(raw_data[raw_data.count_pair > 1]['d1_d2'].unique())\n",
    "print('Number of drug-pairs have 1 interaction:', pair_1count)\n",
    "print('Number of drug-pairs have >1 interactions:', pair_2count)\n",
    "# raw_data[raw_data.count_pair > 1].sort_values('d1_d2')"
   ]
  },
  {
   "cell_type": "code",
   "execution_count": 14,
   "id": "0066c00c",
   "metadata": {},
   "outputs": [
    {
     "name": "stdout",
     "output_type": "stream",
     "text": [
      "Number of distinct drugs: 2441\n"
     ]
    }
   ],
   "source": [
    "# Number of distinct Drugs in the dataset\n",
    "all_drug_id = set(raw_data['d1'].unique()) | set(raw_data['d2'].unique())\n",
    "print('Number of distinct drugs:', len(all_drug_id))"
   ]
  },
  {
   "cell_type": "markdown",
   "id": "58b71a6c",
   "metadata": {},
   "source": [
    "## 3. Extract Drug-Pair With Unknown-Interaction (Negative Control)"
   ]
  },
  {
   "cell_type": "code",
   "execution_count": 15,
   "id": "7f2fa709-13ce-42c2-8f75-bb6396e8d30d",
   "metadata": {},
   "outputs": [
    {
     "name": "stdout",
     "output_type": "stream",
     "text": [
      "Drug Smiles dimension: (1704, 2)\n"
     ]
    },
    {
     "data": {
      "text/html": [
       "<div>\n",
       "<style scoped>\n",
       "    .dataframe tbody tr th:only-of-type {\n",
       "        vertical-align: middle;\n",
       "    }\n",
       "\n",
       "    .dataframe tbody tr th {\n",
       "        vertical-align: top;\n",
       "    }\n",
       "\n",
       "    .dataframe thead th {\n",
       "        text-align: right;\n",
       "    }\n",
       "</style>\n",
       "<table border=\"1\" class=\"dataframe\">\n",
       "  <thead>\n",
       "    <tr style=\"text-align: right;\">\n",
       "      <th></th>\n",
       "      <th>drug_id</th>\n",
       "      <th>smiles</th>\n",
       "    </tr>\n",
       "  </thead>\n",
       "  <tbody>\n",
       "    <tr>\n",
       "      <th>0</th>\n",
       "      <td>DB04571</td>\n",
       "      <td>CC1=CC2=CC3=C(OC(=O)C=C3C)C(C)=C2O1</td>\n",
       "    </tr>\n",
       "    <tr>\n",
       "      <th>1</th>\n",
       "      <td>DB00855</td>\n",
       "      <td>NCC(=O)CCC(O)=O</td>\n",
       "    </tr>\n",
       "    <tr>\n",
       "      <th>2</th>\n",
       "      <td>DB09536</td>\n",
       "      <td>O=[Ti]=O</td>\n",
       "    </tr>\n",
       "    <tr>\n",
       "      <th>3</th>\n",
       "      <td>DB01878</td>\n",
       "      <td>O=C(C1=CC=CC=C1)C1=CC=CC=C1</td>\n",
       "    </tr>\n",
       "    <tr>\n",
       "      <th>4</th>\n",
       "      <td>DB00140</td>\n",
       "      <td>CC1=C(C)C=C2N(C[C@H](O)[C@H](O)[C@H](O)CO)C3=NC(=O)NC(=O)C3=NC2=C1</td>\n",
       "    </tr>\n",
       "  </tbody>\n",
       "</table>\n",
       "</div>"
      ],
      "text/plain": [
       "   drug_id                                                              smiles\n",
       "0  DB04571                                 CC1=CC2=CC3=C(OC(=O)C=C3C)C(C)=C2O1\n",
       "1  DB00855                                                     NCC(=O)CCC(O)=O\n",
       "2  DB09536                                                            O=[Ti]=O\n",
       "3  DB01878                                         O=C(C1=CC=CC=C1)C1=CC=CC=C1\n",
       "4  DB00140  CC1=C(C)C=C2N(C[C@H](O)[C@H](O)[C@H](O)CO)C3=NC(=O)NC(=O)C3=NC2=C1"
      ]
     },
     "execution_count": 15,
     "metadata": {},
     "output_type": "execute_result"
    }
   ],
   "source": [
    "# SMILES dataset\n",
    "drug_smiles = pd.read_csv('data/archive/drug_smiles.csv')\n",
    "drug_smiles = drug_smiles[['drug_id', 'smiles']]\n",
    "\n",
    "print('Drug Smiles dimension:', drug_smiles.shape)\n",
    "drug_smiles.head()"
   ]
  },
  {
   "cell_type": "code",
   "execution_count": 16,
   "id": "f463972d",
   "metadata": {},
   "outputs": [
    {
     "name": "stdout",
     "output_type": "stream",
     "text": [
      "Total pairs could be formed: 1450956\n",
      "Number of pairs have interactions: 731443\n",
      "Number of pairs with NO interactions found: 1036287\n",
      "Quick look of negative control drug pairs:\n"
     ]
    },
    {
     "data": {
      "text/plain": [
       "[\"{'DB01033', 'DB00542'}\",\n",
       " \"{'DB00637', 'DB00240'}\",\n",
       " \"{'DB00839', 'DB00963'}\",\n",
       " \"{'DB09069', 'DB09090'}\",\n",
       " \"{'DB06216', 'DB08895'}\",\n",
       " \"{'DB01227', 'DB00905'}\",\n",
       " \"{'DB04878', 'DB01610'}\",\n",
       " \"{'DB00454', 'DB00417'}\",\n",
       " \"{'DB01612', 'DB00728'}\",\n",
       " \"{'DB00976', 'DB06704'}\"]"
      ]
     },
     "execution_count": 16,
     "metadata": {},
     "output_type": "execute_result"
    }
   ],
   "source": [
    "# All potential Drug-Pair could be formed in the database\n",
    "all_pairs = {str(set(pair)) for pair in itertools.combinations(sorted(drug_smiles.drug_id), 2)}\n",
    "# all_pairs = {str(set(pair)) for pair in itertools.combinations(sorted(all_drug_id), 2)}\n",
    "print(\"Total pairs could be formed:\", len(all_pairs))\n",
    "\n",
    "# All drug-pair with known interactions\n",
    "interact_pairs = {pair for pair in raw_data.drug_pair.unique()}\n",
    "print(\"Number of pairs have interactions:\", len(interact_pairs))\n",
    "\n",
    "# All drug-pair with NO interactions found\n",
    "# negative_pairs = [pair for pair in all_pairs if pair not in interact_pairs]\n",
    "negative_pairs = all_pairs - interact_pairs\n",
    "print(\"Number of pairs with NO interactions found:\", len(negative_pairs))\n",
    "\n",
    "print(\"Quick look of negative control drug pairs:\")\n",
    "list(negative_pairs)[:10]"
   ]
  },
  {
   "cell_type": "code",
   "execution_count": 17,
   "id": "08215aa5-7104-444c-90b4-86be4ad6e89a",
   "metadata": {
    "tags": []
   },
   "outputs": [],
   "source": [
    "def convert_pair_to_df(negative_pairs):\n",
    "    string_rdd = sc.parallelize(list(negative_pairs))\n",
    "    negative_rdd = string_rdd.map(lambda x: re.sub('[{}\\']', '', x).split(\", \"))\n",
    "    negative_df = negative_rdd.toDF([\"d1\", \"d2\"]).toPandas()\n",
    "    return negative_df\n",
    "    \n",
    "# negative_df = convert_pair_to_df(negative_pairs)\n",
    "# negative_df"
   ]
  },
  {
   "cell_type": "code",
   "execution_count": 18,
   "id": "692bafef-7c80-4644-9ba4-9e01dc5a0425",
   "metadata": {},
   "outputs": [
    {
     "data": {
      "text/html": [
       "<div>\n",
       "<style scoped>\n",
       "    .dataframe tbody tr th:only-of-type {\n",
       "        vertical-align: middle;\n",
       "    }\n",
       "\n",
       "    .dataframe tbody tr th {\n",
       "        vertical-align: top;\n",
       "    }\n",
       "\n",
       "    .dataframe thead th {\n",
       "        text-align: right;\n",
       "    }\n",
       "</style>\n",
       "<table border=\"1\" class=\"dataframe\">\n",
       "  <thead>\n",
       "    <tr style=\"text-align: right;\">\n",
       "      <th></th>\n",
       "      <th>d1</th>\n",
       "      <th>d2</th>\n",
       "    </tr>\n",
       "  </thead>\n",
       "  <tbody>\n",
       "    <tr>\n",
       "      <th>0</th>\n",
       "      <td>DB01033</td>\n",
       "      <td>DB00542</td>\n",
       "    </tr>\n",
       "    <tr>\n",
       "      <th>1</th>\n",
       "      <td>DB00637</td>\n",
       "      <td>DB00240</td>\n",
       "    </tr>\n",
       "    <tr>\n",
       "      <th>2</th>\n",
       "      <td>DB00839</td>\n",
       "      <td>DB00963</td>\n",
       "    </tr>\n",
       "    <tr>\n",
       "      <th>3</th>\n",
       "      <td>DB09069</td>\n",
       "      <td>DB09090</td>\n",
       "    </tr>\n",
       "    <tr>\n",
       "      <th>4</th>\n",
       "      <td>DB06216</td>\n",
       "      <td>DB08895</td>\n",
       "    </tr>\n",
       "    <tr>\n",
       "      <th>...</th>\n",
       "      <td>...</td>\n",
       "      <td>...</td>\n",
       "    </tr>\n",
       "    <tr>\n",
       "      <th>1036282</th>\n",
       "      <td>DB08871</td>\n",
       "      <td>DB11574</td>\n",
       "    </tr>\n",
       "    <tr>\n",
       "      <th>1036283</th>\n",
       "      <td>DB00428</td>\n",
       "      <td>DB01070</td>\n",
       "    </tr>\n",
       "    <tr>\n",
       "      <th>1036284</th>\n",
       "      <td>DB12483</td>\n",
       "      <td>DB12598</td>\n",
       "    </tr>\n",
       "    <tr>\n",
       "      <th>1036285</th>\n",
       "      <td>DB12070</td>\n",
       "      <td>DB00443</td>\n",
       "    </tr>\n",
       "    <tr>\n",
       "      <th>1036286</th>\n",
       "      <td>DB08797</td>\n",
       "      <td>DB01400</td>\n",
       "    </tr>\n",
       "  </tbody>\n",
       "</table>\n",
       "<p>1036287 rows × 2 columns</p>\n",
       "</div>"
      ],
      "text/plain": [
       "              d1       d2\n",
       "0        DB01033  DB00542\n",
       "1        DB00637  DB00240\n",
       "2        DB00839  DB00963\n",
       "3        DB09069  DB09090\n",
       "4        DB06216  DB08895\n",
       "...          ...      ...\n",
       "1036282  DB08871  DB11574\n",
       "1036283  DB00428  DB01070\n",
       "1036284  DB12483  DB12598\n",
       "1036285  DB12070  DB00443\n",
       "1036286  DB08797  DB01400\n",
       "\n",
       "[1036287 rows x 2 columns]"
      ]
     },
     "execution_count": 18,
     "metadata": {},
     "output_type": "execute_result"
    }
   ],
   "source": [
    "negative_df = pd.DataFrame(negative_pairs)\n",
    "negative_df.columns = ['drug_pair']\n",
    "negative_df['d1'] = negative_df['drug_pair'].apply(lambda x: re.sub('[{}\\']', '', x).split(\", \")[0])\n",
    "negative_df['d2'] = negative_df['drug_pair'].apply(lambda x: re.sub('[{}\\']', '', x).split(\", \")[1])\n",
    "negative_df = negative_df.drop('drug_pair', axis=1)\n",
    "negative_df"
   ]
  },
  {
   "cell_type": "code",
   "execution_count": 27,
   "id": "e89e8462-11c3-4e75-ade6-02e2932c59e0",
   "metadata": {},
   "outputs": [
    {
     "name": "stdout",
     "output_type": "stream",
     "text": [
      "Drug Names dimension: (15235, 2)\n"
     ]
    },
    {
     "data": {
      "text/html": [
       "<div>\n",
       "<style scoped>\n",
       "    .dataframe tbody tr th:only-of-type {\n",
       "        vertical-align: middle;\n",
       "    }\n",
       "\n",
       "    .dataframe tbody tr th {\n",
       "        vertical-align: top;\n",
       "    }\n",
       "\n",
       "    .dataframe thead th {\n",
       "        text-align: right;\n",
       "    }\n",
       "</style>\n",
       "<table border=\"1\" class=\"dataframe\">\n",
       "  <thead>\n",
       "    <tr style=\"text-align: right;\">\n",
       "      <th></th>\n",
       "      <th>drug_id</th>\n",
       "      <th>name</th>\n",
       "    </tr>\n",
       "  </thead>\n",
       "  <tbody>\n",
       "    <tr>\n",
       "      <th>0</th>\n",
       "      <td>DB00001</td>\n",
       "      <td>Lepirudin</td>\n",
       "    </tr>\n",
       "    <tr>\n",
       "      <th>1</th>\n",
       "      <td>DB00002</td>\n",
       "      <td>Cetuximab</td>\n",
       "    </tr>\n",
       "    <tr>\n",
       "      <th>2</th>\n",
       "      <td>DB00003</td>\n",
       "      <td>Dornase alfa</td>\n",
       "    </tr>\n",
       "    <tr>\n",
       "      <th>3</th>\n",
       "      <td>DB00004</td>\n",
       "      <td>Denileukin diftitox</td>\n",
       "    </tr>\n",
       "    <tr>\n",
       "      <th>4</th>\n",
       "      <td>DB00005</td>\n",
       "      <td>Etanercept</td>\n",
       "    </tr>\n",
       "  </tbody>\n",
       "</table>\n",
       "</div>"
      ],
      "text/plain": [
       "   drug_id                 name\n",
       "0  DB00001            Lepirudin\n",
       "1  DB00002            Cetuximab\n",
       "2  DB00003         Dornase alfa\n",
       "3  DB00004  Denileukin diftitox\n",
       "4  DB00005           Etanercept"
      ]
     },
     "execution_count": 27,
     "metadata": {},
     "output_type": "execute_result"
    }
   ],
   "source": [
    "# Drug Name\n",
    "drug_names = pd.read_csv('data/archive/drugbank vocabulary.csv')\n",
    "drug_names = drug_names[['DrugBank ID', 'Common name']]\n",
    "# drug_names = pd.read_csv('data/scraping_drug_info.csv', delimiter='\\t')\n",
    "# drug_names = drug_names[['drug_id', 'generic_name', 'SMILES']]\n",
    "drug_names = drug_names.rename(columns={'DrugBank ID': 'drug_id', 'Common name':'name'})\n",
    "\n",
    "print('Drug Names dimension:', drug_names.shape)\n",
    "drug_names.head()"
   ]
  },
  {
   "cell_type": "code",
   "execution_count": 50,
   "id": "25d4d664-9a2b-41ca-98b5-30f52ac76978",
   "metadata": {},
   "outputs": [
    {
     "name": "stdout",
     "output_type": "stream",
     "text": [
      "Drug Smiles dimension From Web Scraping: (2567, 3)\n"
     ]
    },
    {
     "data": {
      "text/html": [
       "<div>\n",
       "<style scoped>\n",
       "    .dataframe tbody tr th:only-of-type {\n",
       "        vertical-align: middle;\n",
       "    }\n",
       "\n",
       "    .dataframe tbody tr th {\n",
       "        vertical-align: top;\n",
       "    }\n",
       "\n",
       "    .dataframe thead th {\n",
       "        text-align: right;\n",
       "    }\n",
       "</style>\n",
       "<table border=\"1\" class=\"dataframe\">\n",
       "  <thead>\n",
       "    <tr style=\"text-align: right;\">\n",
       "      <th></th>\n",
       "      <th>drug_id</th>\n",
       "      <th>generic_name</th>\n",
       "      <th>SMILES</th>\n",
       "    </tr>\n",
       "  </thead>\n",
       "  <tbody>\n",
       "    <tr>\n",
       "      <th>0</th>\n",
       "      <td>DB00006</td>\n",
       "      <td>Bivalirudin</td>\n",
       "      <td>CC[C@H](C)[C@H](NC(=O)[C@H](CCC(O)=O)NC(=O)[C@H](CCC(O)=O)NC(=O)[C@H](CC1=CC=CC=C1)NC(=O)[C@H](C...</td>\n",
       "    </tr>\n",
       "    <tr>\n",
       "      <th>1</th>\n",
       "      <td>DB00007</td>\n",
       "      <td>Leuprolide</td>\n",
       "      <td>CCNC(=O)[C@@H]1CCCN1C(=O)[C@H](CCCNC(N)=N)NC(=O)[C@H](CC(C)C)NC(=O)[C@@H](CC(C)C)NC(=O)[C@H](CC1...</td>\n",
       "    </tr>\n",
       "    <tr>\n",
       "      <th>2</th>\n",
       "      <td>DB00014</td>\n",
       "      <td>Goserelin</td>\n",
       "      <td>CC(C)C[C@H](NC(=O)[C@@H](COC(C)(C)C)NC(=O)[C@H](CC1=CC=C(O)C=C1)NC(=O)[C@H](CO)NC(=O)[C@H](CC1=C...</td>\n",
       "    </tr>\n",
       "    <tr>\n",
       "      <th>3</th>\n",
       "      <td>DB00027</td>\n",
       "      <td>Gramicidin D</td>\n",
       "      <td>CC(C)C[C@@H](NC(=O)CNC(=O)[C@@H](NC=O)C(C)C)C(=O)N[C@@H](C)C(=O)N[C@H](C(C)C)C(=O)N[C@@H](C(C)C)...</td>\n",
       "    </tr>\n",
       "    <tr>\n",
       "      <th>4</th>\n",
       "      <td>DB00035</td>\n",
       "      <td>Desmopressin</td>\n",
       "      <td>NC(=O)CC[C@@H]1NC(=O)[C@H](CC2=CC=CC=C2)NC(=O)[C@H](CC2=CC=C(O)C=C2)NC(=O)CCSSC[C@H](NC(=O)[C@H]...</td>\n",
       "    </tr>\n",
       "  </tbody>\n",
       "</table>\n",
       "</div>"
      ],
      "text/plain": [
       "   drug_id  generic_name  \\\n",
       "0  DB00006   Bivalirudin   \n",
       "1  DB00007    Leuprolide   \n",
       "2  DB00014     Goserelin   \n",
       "3  DB00027  Gramicidin D   \n",
       "4  DB00035  Desmopressin   \n",
       "\n",
       "                                                                                                SMILES  \n",
       "0  CC[C@H](C)[C@H](NC(=O)[C@H](CCC(O)=O)NC(=O)[C@H](CCC(O)=O)NC(=O)[C@H](CC1=CC=CC=C1)NC(=O)[C@H](C...  \n",
       "1  CCNC(=O)[C@@H]1CCCN1C(=O)[C@H](CCCNC(N)=N)NC(=O)[C@H](CC(C)C)NC(=O)[C@@H](CC(C)C)NC(=O)[C@H](CC1...  \n",
       "2  CC(C)C[C@H](NC(=O)[C@@H](COC(C)(C)C)NC(=O)[C@H](CC1=CC=C(O)C=C1)NC(=O)[C@H](CO)NC(=O)[C@H](CC1=C...  \n",
       "3  CC(C)C[C@@H](NC(=O)CNC(=O)[C@@H](NC=O)C(C)C)C(=O)N[C@@H](C)C(=O)N[C@H](C(C)C)C(=O)N[C@@H](C(C)C)...  \n",
       "4  NC(=O)CC[C@@H]1NC(=O)[C@H](CC2=CC=CC=C2)NC(=O)[C@H](CC2=CC=C(O)C=C2)NC(=O)CCSSC[C@H](NC(=O)[C@H]...  "
      ]
     },
     "execution_count": 50,
     "metadata": {},
     "output_type": "execute_result"
    }
   ],
   "source": [
    "# SMILES dataset\n",
    "drug_smiles2 = pd.read_csv('data/scraping_drug_smiles.csv')\n",
    "drug_smiles2 = drug_smiles2[drug_smiles2[\"SMILES\"] != \"Not Available\"]\n",
    "# drug_smiles2 = drug_smiles2[['drug_id', 'smiles']]\n",
    "\n",
    "print('Drug Smiles dimension From Web Scraping:', drug_smiles2.shape)\n",
    "drug_smiles2.head()"
   ]
  },
  {
   "cell_type": "code",
   "execution_count": 51,
   "id": "4c8ddcc2",
   "metadata": {},
   "outputs": [
    {
     "data": {
      "text/html": [
       "<div>\n",
       "<style scoped>\n",
       "    .dataframe tbody tr th:only-of-type {\n",
       "        vertical-align: middle;\n",
       "    }\n",
       "\n",
       "    .dataframe tbody tr th {\n",
       "        vertical-align: top;\n",
       "    }\n",
       "\n",
       "    .dataframe thead th {\n",
       "        text-align: right;\n",
       "    }\n",
       "</style>\n",
       "<table border=\"1\" class=\"dataframe\">\n",
       "  <thead>\n",
       "    <tr style=\"text-align: right;\">\n",
       "      <th></th>\n",
       "      <th>d1</th>\n",
       "      <th>d2</th>\n",
       "      <th>d1_name</th>\n",
       "      <th>d2_name</th>\n",
       "      <th>interaction</th>\n",
       "      <th>interaction_type</th>\n",
       "      <th>severity</th>\n",
       "      <th>smiles1</th>\n",
       "      <th>smiles2</th>\n",
       "    </tr>\n",
       "  </thead>\n",
       "  <tbody>\n",
       "    <tr>\n",
       "      <th>0</th>\n",
       "      <td>DB01033</td>\n",
       "      <td>DB00542</td>\n",
       "      <td>Mercaptopurine</td>\n",
       "      <td>Benazepril</td>\n",
       "      <td>Unknown</td>\n",
       "      <td>0</td>\n",
       "      <td>unknown</td>\n",
       "      <td>S=C1N=CNC2=C1NC=N2</td>\n",
       "      <td>[H][C@@]1(CCC2=CC=CC=C2N(CC(O)=O)C1=O)N[C@@H](CCC1=CC=CC=C1)C(=O)OCC</td>\n",
       "    </tr>\n",
       "    <tr>\n",
       "      <th>1</th>\n",
       "      <td>DB00637</td>\n",
       "      <td>DB00240</td>\n",
       "      <td>Astemizole</td>\n",
       "      <td>Alclometasone</td>\n",
       "      <td>Unknown</td>\n",
       "      <td>0</td>\n",
       "      <td>unknown</td>\n",
       "      <td>COC1=CC=C(CCN2CCC(CC2)NC2=NC3=CC=CC=C3N2CC2=CC=C(F)C=C2)C=C1</td>\n",
       "      <td>[H][C@@]12C[C@@H](C)[C@](O)(C(=O)CO)[C@@]1(C)C[C@H](O)[C@@]1([H])[C@@]2([H])[C@H](Cl)CC2=CC(=O)C...</td>\n",
       "    </tr>\n",
       "    <tr>\n",
       "      <th>2</th>\n",
       "      <td>DB00839</td>\n",
       "      <td>DB00963</td>\n",
       "      <td>Tolazamide</td>\n",
       "      <td>Bromfenac</td>\n",
       "      <td>Unknown</td>\n",
       "      <td>0</td>\n",
       "      <td>unknown</td>\n",
       "      <td>CC1=CC=C(C=C1)S(=O)(=O)NC(=O)NN1CCCCCC1</td>\n",
       "      <td>NC1=C(CC(O)=O)C=CC=C1C(=O)C1=CC=C(Br)C=C1</td>\n",
       "    </tr>\n",
       "    <tr>\n",
       "      <th>3</th>\n",
       "      <td>DB09069</td>\n",
       "      <td>DB09090</td>\n",
       "      <td>Trimetazidine</td>\n",
       "      <td>Pinaverium</td>\n",
       "      <td>Unknown</td>\n",
       "      <td>0</td>\n",
       "      <td>unknown</td>\n",
       "      <td>COC1=C(OC)C(OC)=C(CN2CCNCC2)C=C1</td>\n",
       "      <td>COC1=C(OC)C=C(C[N+]2(CCOCCC3CCC4CC3C4(C)C)CCOCC2)C(Br)=C1</td>\n",
       "    </tr>\n",
       "    <tr>\n",
       "      <th>4</th>\n",
       "      <td>DB06216</td>\n",
       "      <td>DB08895</td>\n",
       "      <td>Asenapine</td>\n",
       "      <td>Tofacitinib</td>\n",
       "      <td>Unknown</td>\n",
       "      <td>0</td>\n",
       "      <td>unknown</td>\n",
       "      <td>CN1CC2C(C1)C1=C(OC3=CC=C(Cl)C=C23)C=CC=C1</td>\n",
       "      <td>C[C@@H]1CCN(C[C@@H]1N(C)C1=NC=NC2=C1C=CN2)C(=O)CC#N</td>\n",
       "    </tr>\n",
       "    <tr>\n",
       "      <th>...</th>\n",
       "      <td>...</td>\n",
       "      <td>...</td>\n",
       "      <td>...</td>\n",
       "      <td>...</td>\n",
       "      <td>...</td>\n",
       "      <td>...</td>\n",
       "      <td>...</td>\n",
       "      <td>...</td>\n",
       "      <td>...</td>\n",
       "    </tr>\n",
       "    <tr>\n",
       "      <th>1036282</th>\n",
       "      <td>DB08871</td>\n",
       "      <td>DB11574</td>\n",
       "      <td>Eribulin</td>\n",
       "      <td>Elbasvir</td>\n",
       "      <td>Unknown</td>\n",
       "      <td>0</td>\n",
       "      <td>unknown</td>\n",
       "      <td>[H][C@@]12CC(=C)[C@]([H])(CC[C@@]3([H])C[C@@H](C)C(=C)[C@@]([H])(C[C@]4([H])O[C@H](C[C@H](O)CN)[...</td>\n",
       "      <td>[H][C@]1(CCCN1C(=O)[C@@H](NC(=O)OC)C(C)C)C1=NC=C(N1)C1=CC2=C(C=C1)N1[C@@H](OC3=C(C=CC(=C3)C3=CN=...</td>\n",
       "    </tr>\n",
       "    <tr>\n",
       "      <th>1036283</th>\n",
       "      <td>DB00428</td>\n",
       "      <td>DB01070</td>\n",
       "      <td>Streptozocin</td>\n",
       "      <td>Dihydrotachysterol</td>\n",
       "      <td>Unknown</td>\n",
       "      <td>0</td>\n",
       "      <td>unknown</td>\n",
       "      <td>CN(N=O)C(=O)N[C@H]1[C@@H](O)O[C@H](CO)[C@@H](O)[C@@H]1O</td>\n",
       "      <td>CC(C)[C@@H](C)\\C=C\\[C@@H](C)[C@@]1([H])CC[C@@]2([H])\\C(CCC[C@]12C)=C\\C=C1/C[C@@H](O)CC[C@@H]1C</td>\n",
       "    </tr>\n",
       "    <tr>\n",
       "      <th>1036284</th>\n",
       "      <td>DB12483</td>\n",
       "      <td>DB12598</td>\n",
       "      <td>Copanlisib</td>\n",
       "      <td>Nafamostat</td>\n",
       "      <td>Unknown</td>\n",
       "      <td>0</td>\n",
       "      <td>unknown</td>\n",
       "      <td>COC1=C(OCCCN2CCOCC2)C=CC2=C1N=C(NC(=O)C1=CN=C(N)N=C1)N1CCN=C21</td>\n",
       "      <td>NC(=N)NC1=CC=C(C=C1)C(=O)OC1=CC2=C(C=C1)C=C(C=C2)C(N)=N</td>\n",
       "    </tr>\n",
       "    <tr>\n",
       "      <th>1036285</th>\n",
       "      <td>DB12070</td>\n",
       "      <td>DB00443</td>\n",
       "      <td>Letermovir</td>\n",
       "      <td>Betamethasone</td>\n",
       "      <td>Unknown</td>\n",
       "      <td>0</td>\n",
       "      <td>unknown</td>\n",
       "      <td>COC1=CC=CC(=C1)N1CCN(CC1)C1=NC2=C(C=CC=C2F)[C@H](CC(O)=O)N1C1=CC(=CC=C1OC)C(F)(F)F</td>\n",
       "      <td>[H][C@@]12C[C@H](C)[C@](O)(C(=O)CO)[C@@]1(C)C[C@H](O)[C@@]1(F)[C@@]2([H])CCC2=CC(=O)C=C[C@]12C</td>\n",
       "    </tr>\n",
       "    <tr>\n",
       "      <th>1036286</th>\n",
       "      <td>DB08797</td>\n",
       "      <td>DB01400</td>\n",
       "      <td>Salicylamide</td>\n",
       "      <td>Neostigmine</td>\n",
       "      <td>Unknown</td>\n",
       "      <td>0</td>\n",
       "      <td>unknown</td>\n",
       "      <td>NC(=O)C1=CC=CC=C1O</td>\n",
       "      <td>CN(C)C(=O)OC1=CC(=CC=C1)[N+](C)(C)C</td>\n",
       "    </tr>\n",
       "  </tbody>\n",
       "</table>\n",
       "<p>1036287 rows × 9 columns</p>\n",
       "</div>"
      ],
      "text/plain": [
       "              d1       d2         d1_name             d2_name interaction  \\\n",
       "0        DB01033  DB00542  Mercaptopurine          Benazepril     Unknown   \n",
       "1        DB00637  DB00240      Astemizole       Alclometasone     Unknown   \n",
       "2        DB00839  DB00963      Tolazamide           Bromfenac     Unknown   \n",
       "3        DB09069  DB09090   Trimetazidine          Pinaverium     Unknown   \n",
       "4        DB06216  DB08895       Asenapine         Tofacitinib     Unknown   \n",
       "...          ...      ...             ...                 ...         ...   \n",
       "1036282  DB08871  DB11574        Eribulin            Elbasvir     Unknown   \n",
       "1036283  DB00428  DB01070    Streptozocin  Dihydrotachysterol     Unknown   \n",
       "1036284  DB12483  DB12598      Copanlisib          Nafamostat     Unknown   \n",
       "1036285  DB12070  DB00443      Letermovir       Betamethasone     Unknown   \n",
       "1036286  DB08797  DB01400    Salicylamide         Neostigmine     Unknown   \n",
       "\n",
       "         interaction_type severity  \\\n",
       "0                       0  unknown   \n",
       "1                       0  unknown   \n",
       "2                       0  unknown   \n",
       "3                       0  unknown   \n",
       "4                       0  unknown   \n",
       "...                   ...      ...   \n",
       "1036282                 0  unknown   \n",
       "1036283                 0  unknown   \n",
       "1036284                 0  unknown   \n",
       "1036285                 0  unknown   \n",
       "1036286                 0  unknown   \n",
       "\n",
       "                                                                                                     smiles1  \\\n",
       "0                                                                                         S=C1N=CNC2=C1NC=N2   \n",
       "1                                               COC1=CC=C(CCN2CCC(CC2)NC2=NC3=CC=CC=C3N2CC2=CC=C(F)C=C2)C=C1   \n",
       "2                                                                    CC1=CC=C(C=C1)S(=O)(=O)NC(=O)NN1CCCCCC1   \n",
       "3                                                                           COC1=C(OC)C(OC)=C(CN2CCNCC2)C=C1   \n",
       "4                                                                  CN1CC2C(C1)C1=C(OC3=CC=C(Cl)C=C23)C=CC=C1   \n",
       "...                                                                                                      ...   \n",
       "1036282  [H][C@@]12CC(=C)[C@]([H])(CC[C@@]3([H])C[C@@H](C)C(=C)[C@@]([H])(C[C@]4([H])O[C@H](C[C@H](O)CN)[...   \n",
       "1036283                                              CN(N=O)C(=O)N[C@H]1[C@@H](O)O[C@H](CO)[C@@H](O)[C@@H]1O   \n",
       "1036284                                       COC1=C(OCCCN2CCOCC2)C=CC2=C1N=C(NC(=O)C1=CN=C(N)N=C1)N1CCN=C21   \n",
       "1036285                   COC1=CC=CC(=C1)N1CCN(CC1)C1=NC2=C(C=CC=C2F)[C@H](CC(O)=O)N1C1=CC(=CC=C1OC)C(F)(F)F   \n",
       "1036286                                                                                   NC(=O)C1=CC=CC=C1O   \n",
       "\n",
       "                                                                                                     smiles2  \n",
       "0                                       [H][C@@]1(CCC2=CC=CC=C2N(CC(O)=O)C1=O)N[C@@H](CCC1=CC=CC=C1)C(=O)OCC  \n",
       "1        [H][C@@]12C[C@@H](C)[C@](O)(C(=O)CO)[C@@]1(C)C[C@H](O)[C@@]1([H])[C@@]2([H])[C@H](Cl)CC2=CC(=O)C...  \n",
       "2                                                                  NC1=C(CC(O)=O)C=CC=C1C(=O)C1=CC=C(Br)C=C1  \n",
       "3                                                  COC1=C(OC)C=C(C[N+]2(CCOCCC3CCC4CC3C4(C)C)CCOCC2)C(Br)=C1  \n",
       "4                                                        C[C@@H]1CCN(C[C@@H]1N(C)C1=NC=NC2=C1C=CN2)C(=O)CC#N  \n",
       "...                                                                                                      ...  \n",
       "1036282  [H][C@]1(CCCN1C(=O)[C@@H](NC(=O)OC)C(C)C)C1=NC=C(N1)C1=CC2=C(C=C1)N1[C@@H](OC3=C(C=CC(=C3)C3=CN=...  \n",
       "1036283       CC(C)[C@@H](C)\\C=C\\[C@@H](C)[C@@]1([H])CC[C@@]2([H])\\C(CCC[C@]12C)=C\\C=C1/C[C@@H](O)CC[C@@H]1C  \n",
       "1036284                                              NC(=N)NC1=CC=C(C=C1)C(=O)OC1=CC2=C(C=C1)C=C(C=C2)C(N)=N  \n",
       "1036285       [H][C@@]12C[C@H](C)[C@](O)(C(=O)CO)[C@@]1(C)C[C@H](O)[C@@]1(F)[C@@]2([H])CCC2=CC(=O)C=C[C@]12C  \n",
       "1036286                                                                  CN(C)C(=O)OC1=CC(=CC=C1)[N+](C)(C)C  \n",
       "\n",
       "[1036287 rows x 9 columns]"
      ]
     },
     "execution_count": 51,
     "metadata": {},
     "output_type": "execute_result"
    }
   ],
   "source": [
    "# Add Interaction Type and Smiles1, Smiles 2 into negative_df\n",
    "merged_df = pd.merge(negative_df, drug_smiles2, left_on=\"d1\", right_on=\"drug_id\", how=\"left\")\n",
    "merged_df = merged_df.rename(columns={\"generic_name\": \"d1_name\", \"SMILES\": \"smiles1\"})\n",
    "# merged_df = pd.merge(negative_df, drug_names, left_on=\"d1\", right_on=\"drug_id\", how=\"left\")\n",
    "# merged_df = merged_df.rename(columns={\"name\": \"d1_name\"})\n",
    "\n",
    "merged_df = pd.merge(merged_df, drug_smiles2, left_on=\"d2\", right_on=\"drug_id\", how=\"left\")\n",
    "merged_df = merged_df.rename(columns={\"generic_name\": \"d2_name\", \"SMILES\": \"smiles2\"})\n",
    "# merged_df = pd.merge(merged_df, drug_names, left_on=\"d2\", right_on=\"drug_id\", how=\"left\")\n",
    "# merged_df = merged_df.rename(columns={\"name\": \"d2_name\"})                                      \n",
    "\n",
    "merged_df['interaction'] = 'Unknown'\n",
    "merged_df['interaction_type'] = 0\n",
    "merged_df['severity'] = 'unknown'\n",
    "\n",
    "# merged_df = pd.merge(merged_df, drug_smiles, left_on=\"d1\", right_on=\"drug_id\", how=\"left\")\n",
    "# merged_df = merged_df.rename(columns={\"smiles\": \"smiles1\"})\n",
    "\n",
    "# merged_df = pd.merge(merged_df, drug_smiles, left_on=\"d2\", right_on=\"drug_id\", how=\"left\")\n",
    "# merged_df = merged_df.rename(columns={\"smiles\": \"smiles2\"})\n",
    "\n",
    "merged_df = merged_df[['d1', 'd2', 'd1_name', 'd2_name', 'interaction','interaction_type', 'severity', 'smiles1', 'smiles2']]\n",
    "merged_df"
   ]
  },
  {
   "cell_type": "markdown",
   "id": "ff830fc7",
   "metadata": {},
   "source": [
    "## 4. Combine Interaction Data & Negative Control Data"
   ]
  },
  {
   "cell_type": "code",
   "execution_count": 84,
   "id": "8c42ec53",
   "metadata": {},
   "outputs": [
    {
     "name": "stdout",
     "output_type": "stream",
     "text": [
      "Shape of Master data: (2373051, 9)\n",
      "Number of distinct drugs in d1: 2536\n",
      "Number of distinct drugs in d2: 2566\n",
      "Number of distinct drugs: 2566\n",
      "Value Count of Interaction Type\n",
      "0     1015917\n",
      "6      180527\n",
      "10     122789\n",
      "11     116559\n",
      "29     106829\n",
      "       ...   \n",
      "53        863\n",
      "30        841\n",
      "61        837\n",
      "80        833\n",
      "42        826\n",
      "Name: interaction_type, Length: 87, dtype: int64\n",
      "Number of missing values:\n",
      " d1                  0\n",
      "d2                  0\n",
      "d1_name             0\n",
      "d2_name             0\n",
      "interaction         0\n",
      "interaction_type    0\n",
      "severity            0\n",
      "smiles1             0\n",
      "smiles2             0\n",
      "dtype: int64\n"
     ]
    }
   ],
   "source": [
    "raw_data = raw_data[['d1', 'd2', 'd1_name', 'd2_name', 'interaction','interaction_type', 'severity', 'smiles1', 'smiles2']]\n",
    "master_df = pd.concat([merged_df, raw_data])\n",
    "master_df = master_df.dropna(subset=['smiles1', 'smiles2'], how='any')\n",
    "master_df = master_df.drop_duplicates()\n",
    "master_df = master_df.sort_values(by='d1')\n",
    "\n",
    "master_df.reset_index(inplace=True)\n",
    "master_df = master_df.drop('index', axis=1)\n",
    "\n",
    "print(\"Shape of Master data:\", master_df.shape)\n",
    "print('Number of distinct drugs in d1:', len(master_df['d1'].unique()))\n",
    "print('Number of distinct drugs in d2:', len(master_df['d2'].unique()))\n",
    "total_drugs = set(master_df['d1'].unique()) | set(master_df['d2'].unique())\n",
    "print('Number of distinct drugs:', len(total_drugs))\n",
    "print(\"Value Count of Interaction Type\")\n",
    "print(master_df['interaction_type'].value_counts())\n",
    "# print(\"Value Count of Interaction Type - Bottom 20:\")\n",
    "# print(master_df['interaction_type'].value_counts()[-20:])\n",
    "print('Number of missing values:\\n', master_df.isnull().sum())"
   ]
  },
  {
   "cell_type": "code",
   "execution_count": 58,
   "id": "57442b46-e88c-4212-bd21-012776938bb0",
   "metadata": {},
   "outputs": [
    {
     "data": {
      "text/html": [
       "<div>\n",
       "<style scoped>\n",
       "    .dataframe tbody tr th:only-of-type {\n",
       "        vertical-align: middle;\n",
       "    }\n",
       "\n",
       "    .dataframe tbody tr th {\n",
       "        vertical-align: top;\n",
       "    }\n",
       "\n",
       "    .dataframe thead th {\n",
       "        text-align: right;\n",
       "    }\n",
       "</style>\n",
       "<table border=\"1\" class=\"dataframe\">\n",
       "  <thead>\n",
       "    <tr style=\"text-align: right;\">\n",
       "      <th></th>\n",
       "      <th>d1</th>\n",
       "      <th>d2</th>\n",
       "      <th>d1_name</th>\n",
       "      <th>d2_name</th>\n",
       "      <th>interaction</th>\n",
       "      <th>interaction_type</th>\n",
       "      <th>severity</th>\n",
       "      <th>smiles1</th>\n",
       "      <th>smiles2</th>\n",
       "    </tr>\n",
       "  </thead>\n",
       "  <tbody>\n",
       "    <tr>\n",
       "      <th>0</th>\n",
       "      <td>DB00006</td>\n",
       "      <td>DB04552</td>\n",
       "      <td>Bivalirudin</td>\n",
       "      <td>Niflumic acid</td>\n",
       "      <td>The risk or severity of bleeding and hemorrhage can be increased when #Drug1 is combined with #D...</td>\n",
       "      <td>2</td>\n",
       "      <td>high</td>\n",
       "      <td>CC[C@H](C)[C@H](NC(=O)[C@H](CCC(O)=O)NC(=O)[C@H](CCC(O)=O)NC(=O)[C@H](CC1=CC=CC=C1)NC(=O)[C@H](C...</td>\n",
       "      <td>OC(=O)C1=C(NC2=CC=CC(=C2)C(F)(F)F)N=CC=C1</td>\n",
       "    </tr>\n",
       "    <tr>\n",
       "      <th>1</th>\n",
       "      <td>DB00006</td>\n",
       "      <td>DB00244</td>\n",
       "      <td>Bivalirudin</td>\n",
       "      <td>Mesalazine</td>\n",
       "      <td>The risk or severity of bleeding and hemorrhage can be increased when #Drug1 is combined with #D...</td>\n",
       "      <td>2</td>\n",
       "      <td>high</td>\n",
       "      <td>CC[C@H](C)[C@H](NC(=O)[C@H](CCC(O)=O)NC(=O)[C@H](CCC(O)=O)NC(=O)[C@H](CC1=CC=CC=C1)NC(=O)[C@H](C...</td>\n",
       "      <td>NC1=CC(C(O)=O)=C(O)C=C1</td>\n",
       "    </tr>\n",
       "    <tr>\n",
       "      <th>2</th>\n",
       "      <td>DB00006</td>\n",
       "      <td>DB00488</td>\n",
       "      <td>Bivalirudin</td>\n",
       "      <td>Altretamine</td>\n",
       "      <td>The risk or severity of bleeding can be increased when #Drug1 is combined with #Drug2.</td>\n",
       "      <td>1</td>\n",
       "      <td>high</td>\n",
       "      <td>CC[C@H](C)[C@H](NC(=O)[C@H](CCC(O)=O)NC(=O)[C@H](CCC(O)=O)NC(=O)[C@H](CC1=CC=CC=C1)NC(=O)[C@H](C...</td>\n",
       "      <td>CN(C)C1=NC(=NC(=N1)N(C)C)N(C)C</td>\n",
       "    </tr>\n",
       "    <tr>\n",
       "      <th>3</th>\n",
       "      <td>DB00006</td>\n",
       "      <td>DB04743</td>\n",
       "      <td>Bivalirudin</td>\n",
       "      <td>Nimesulide</td>\n",
       "      <td>The risk or severity of bleeding and hemorrhage can be increased when #Drug1 is combined with #D...</td>\n",
       "      <td>2</td>\n",
       "      <td>high</td>\n",
       "      <td>CC[C@H](C)[C@H](NC(=O)[C@H](CCC(O)=O)NC(=O)[C@H](CCC(O)=O)NC(=O)[C@H](CC1=CC=CC=C1)NC(=O)[C@H](C...</td>\n",
       "      <td>CS(=O)(=O)NC1=C(OC2=CC=CC=C2)C=C(C=C1)[N+]([O-])=O</td>\n",
       "    </tr>\n",
       "    <tr>\n",
       "      <th>4</th>\n",
       "      <td>DB00006</td>\n",
       "      <td>DB00999</td>\n",
       "      <td>Bivalirudin</td>\n",
       "      <td>Hydrochlorothiazide</td>\n",
       "      <td>The therapeutic efficacy of #Drug1 can be decreased when used in combination with #Drug2.</td>\n",
       "      <td>3</td>\n",
       "      <td>unknown</td>\n",
       "      <td>CC[C@H](C)[C@H](NC(=O)[C@H](CCC(O)=O)NC(=O)[C@H](CCC(O)=O)NC(=O)[C@H](CC1=CC=CC=C1)NC(=O)[C@H](C...</td>\n",
       "      <td>NS(=O)(=O)C1=C(Cl)C=C2NCNS(=O)(=O)C2=C1</td>\n",
       "    </tr>\n",
       "  </tbody>\n",
       "</table>\n",
       "</div>"
      ],
      "text/plain": [
       "        d1       d2      d1_name              d2_name  \\\n",
       "0  DB00006  DB04552  Bivalirudin        Niflumic acid   \n",
       "1  DB00006  DB00244  Bivalirudin           Mesalazine   \n",
       "2  DB00006  DB00488  Bivalirudin          Altretamine   \n",
       "3  DB00006  DB04743  Bivalirudin           Nimesulide   \n",
       "4  DB00006  DB00999  Bivalirudin  Hydrochlorothiazide   \n",
       "\n",
       "                                                                                           interaction  \\\n",
       "0  The risk or severity of bleeding and hemorrhage can be increased when #Drug1 is combined with #D...   \n",
       "1  The risk or severity of bleeding and hemorrhage can be increased when #Drug1 is combined with #D...   \n",
       "2               The risk or severity of bleeding can be increased when #Drug1 is combined with #Drug2.   \n",
       "3  The risk or severity of bleeding and hemorrhage can be increased when #Drug1 is combined with #D...   \n",
       "4            The therapeutic efficacy of #Drug1 can be decreased when used in combination with #Drug2.   \n",
       "\n",
       "   interaction_type severity  \\\n",
       "0                 2     high   \n",
       "1                 2     high   \n",
       "2                 1     high   \n",
       "3                 2     high   \n",
       "4                 3  unknown   \n",
       "\n",
       "                                                                                               smiles1  \\\n",
       "0  CC[C@H](C)[C@H](NC(=O)[C@H](CCC(O)=O)NC(=O)[C@H](CCC(O)=O)NC(=O)[C@H](CC1=CC=CC=C1)NC(=O)[C@H](C...   \n",
       "1  CC[C@H](C)[C@H](NC(=O)[C@H](CCC(O)=O)NC(=O)[C@H](CCC(O)=O)NC(=O)[C@H](CC1=CC=CC=C1)NC(=O)[C@H](C...   \n",
       "2  CC[C@H](C)[C@H](NC(=O)[C@H](CCC(O)=O)NC(=O)[C@H](CCC(O)=O)NC(=O)[C@H](CC1=CC=CC=C1)NC(=O)[C@H](C...   \n",
       "3  CC[C@H](C)[C@H](NC(=O)[C@H](CCC(O)=O)NC(=O)[C@H](CCC(O)=O)NC(=O)[C@H](CC1=CC=CC=C1)NC(=O)[C@H](C...   \n",
       "4  CC[C@H](C)[C@H](NC(=O)[C@H](CCC(O)=O)NC(=O)[C@H](CCC(O)=O)NC(=O)[C@H](CC1=CC=CC=C1)NC(=O)[C@H](C...   \n",
       "\n",
       "                                              smiles2  \n",
       "0           OC(=O)C1=C(NC2=CC=CC(=C2)C(F)(F)F)N=CC=C1  \n",
       "1                             NC1=CC(C(O)=O)=C(O)C=C1  \n",
       "2                      CN(C)C1=NC(=NC(=N1)N(C)C)N(C)C  \n",
       "3  CS(=O)(=O)NC1=C(OC2=CC=CC=C2)C=C(C=C1)[N+]([O-])=O  \n",
       "4             NS(=O)(=O)C1=C(Cl)C=C2NCNS(=O)(=O)C2=C1  "
      ]
     },
     "execution_count": 58,
     "metadata": {},
     "output_type": "execute_result"
    }
   ],
   "source": [
    "master_df.head()"
   ]
  },
  {
   "cell_type": "code",
   "execution_count": 86,
   "id": "261ef1f2-5792-44be-bbd1-ebdedee0980a",
   "metadata": {},
   "outputs": [
    {
     "data": {
      "text/html": [
       "<div>\n",
       "<style scoped>\n",
       "    .dataframe tbody tr th:only-of-type {\n",
       "        vertical-align: middle;\n",
       "    }\n",
       "\n",
       "    .dataframe tbody tr th {\n",
       "        vertical-align: top;\n",
       "    }\n",
       "\n",
       "    .dataframe thead th {\n",
       "        text-align: right;\n",
       "    }\n",
       "</style>\n",
       "<table border=\"1\" class=\"dataframe\">\n",
       "  <thead>\n",
       "    <tr style=\"text-align: right;\">\n",
       "      <th></th>\n",
       "      <th>d1</th>\n",
       "      <th>d2</th>\n",
       "      <th>d1_name</th>\n",
       "      <th>d2_name</th>\n",
       "      <th>interaction</th>\n",
       "      <th>interaction_type</th>\n",
       "      <th>severity</th>\n",
       "      <th>smiles1</th>\n",
       "      <th>smiles2</th>\n",
       "    </tr>\n",
       "  </thead>\n",
       "  <tbody>\n",
       "  </tbody>\n",
       "</table>\n",
       "</div>"
      ],
      "text/plain": [
       "Empty DataFrame\n",
       "Columns: [d1, d2, d1_name, d2_name, interaction, interaction_type, severity, smiles1, smiles2]\n",
       "Index: []"
      ]
     },
     "execution_count": 86,
     "metadata": {},
     "output_type": "execute_result"
    }
   ],
   "source": [
    "master_df[master_df[\"smiles2\"].isnull()]"
   ]
  },
  {
   "cell_type": "code",
   "execution_count": 4,
   "id": "cce9b667-83f5-4ab6-846a-782e7d93eeec",
   "metadata": {},
   "outputs": [],
   "source": [
    "# Save data\n",
    "# master_df.to_csv(\"data/ddis_from_api_negative_control.csv\", index=False, sep='\\t')\n",
    "master_df = pd.read_csv('data/ddis_from_api_negative_control.csv', sep='\\t')"
   ]
  },
  {
   "cell_type": "code",
   "execution_count": 88,
   "id": "67f9d5a7",
   "metadata": {},
   "outputs": [
    {
     "name": "stdout",
     "output_type": "stream",
     "text": [
      "(1263, 9)\n"
     ]
    },
    {
     "name": "stderr",
     "output_type": "stream",
     "text": [
      "C:\\Users\\ltmai\\AppData\\Local\\Temp\\ipykernel_14440\\4120952950.py:4: UserWarning: Boolean Series key will be reindexed to match DataFrame index.\n",
      "  test_drug[test_drug['interaction_type'] != 0][test_drug['severity'] == 'high'].head(2)\n"
     ]
    },
    {
     "data": {
      "text/html": [
       "<div>\n",
       "<style scoped>\n",
       "    .dataframe tbody tr th:only-of-type {\n",
       "        vertical-align: middle;\n",
       "    }\n",
       "\n",
       "    .dataframe tbody tr th {\n",
       "        vertical-align: top;\n",
       "    }\n",
       "\n",
       "    .dataframe thead th {\n",
       "        text-align: right;\n",
       "    }\n",
       "</style>\n",
       "<table border=\"1\" class=\"dataframe\">\n",
       "  <thead>\n",
       "    <tr style=\"text-align: right;\">\n",
       "      <th></th>\n",
       "      <th>d1</th>\n",
       "      <th>d2</th>\n",
       "      <th>d1_name</th>\n",
       "      <th>d2_name</th>\n",
       "      <th>interaction</th>\n",
       "      <th>interaction_type</th>\n",
       "      <th>severity</th>\n",
       "      <th>smiles1</th>\n",
       "      <th>smiles2</th>\n",
       "    </tr>\n",
       "  </thead>\n",
       "  <tbody>\n",
       "    <tr>\n",
       "      <th>227476</th>\n",
       "      <td>DB00338</td>\n",
       "      <td>DB01166</td>\n",
       "      <td>Omeprazole</td>\n",
       "      <td>Cilostazol</td>\n",
       "      <td>The serum concentration of #Drug2 can be increased when it is combined with #Drug1.</td>\n",
       "      <td>16</td>\n",
       "      <td>high</td>\n",
       "      <td>COC1=CC2=C(C=C1)N=C(N2)S(=O)CC1=NC=C(C)C(OC)=C1C</td>\n",
       "      <td>O=C1CCC2=C(N1)C=CC(OCCCCC1=NN=NN1C1CCCCC1)=C2</td>\n",
       "    </tr>\n",
       "    <tr>\n",
       "      <th>227483</th>\n",
       "      <td>DB00338</td>\n",
       "      <td>DB01244</td>\n",
       "      <td>Omeprazole</td>\n",
       "      <td>Bepridil</td>\n",
       "      <td>The metabolism of #Drug2 can be decreased when combined with #Drug1.</td>\n",
       "      <td>29</td>\n",
       "      <td>high</td>\n",
       "      <td>COC1=CC2=C(C=C1)N=C(N2)S(=O)CC1=NC=C(C)C(OC)=C1C</td>\n",
       "      <td>CC(C)COCC(CN(CC1=CC=CC=C1)C1=CC=CC=C1)N1CCCC1</td>\n",
       "    </tr>\n",
       "  </tbody>\n",
       "</table>\n",
       "</div>"
      ],
      "text/plain": [
       "             d1       d2     d1_name     d2_name  \\\n",
       "227476  DB00338  DB01166  Omeprazole  Cilostazol   \n",
       "227483  DB00338  DB01244  Omeprazole    Bepridil   \n",
       "\n",
       "                                                                                interaction  \\\n",
       "227476  The serum concentration of #Drug2 can be increased when it is combined with #Drug1.   \n",
       "227483                 The metabolism of #Drug2 can be decreased when combined with #Drug1.   \n",
       "\n",
       "        interaction_type severity  \\\n",
       "227476                16     high   \n",
       "227483                29     high   \n",
       "\n",
       "                                                 smiles1  \\\n",
       "227476  COC1=CC2=C(C=C1)N=C(N2)S(=O)CC1=NC=C(C)C(OC)=C1C   \n",
       "227483  COC1=CC2=C(C=C1)N=C(N2)S(=O)CC1=NC=C(C)C(OC)=C1C   \n",
       "\n",
       "                                              smiles2  \n",
       "227476  O=C1CCC2=C(N1)C=CC(OCCCCC1=NN=NN1C1CCCCC1)=C2  \n",
       "227483  CC(C)COCC(CN(CC1=CC=CC=C1)C1=CC=CC=C1)N1CCCC1  "
      ]
     },
     "execution_count": 88,
     "metadata": {},
     "output_type": "execute_result"
    }
   ],
   "source": [
    "test_drug = master_df[master_df['d1']=='DB00338']\n",
    "print(test_drug.shape)\n",
    "# test_drug.head(2)\n",
    "test_drug[test_drug['interaction_type'] != 0][test_drug['severity'] == 'high'].head(2)"
   ]
  },
  {
   "cell_type": "code",
   "execution_count": 103,
   "id": "2bd39da0-e428-4b35-a5a8-d97ebf1c43c6",
   "metadata": {},
   "outputs": [
    {
     "data": {
      "text/html": [
       "<div>\n",
       "<style scoped>\n",
       "    .dataframe tbody tr th:only-of-type {\n",
       "        vertical-align: middle;\n",
       "    }\n",
       "\n",
       "    .dataframe tbody tr th {\n",
       "        vertical-align: top;\n",
       "    }\n",
       "\n",
       "    .dataframe thead th {\n",
       "        text-align: right;\n",
       "    }\n",
       "</style>\n",
       "<table border=\"1\" class=\"dataframe\">\n",
       "  <thead>\n",
       "    <tr style=\"text-align: right;\">\n",
       "      <th></th>\n",
       "      <th>d1</th>\n",
       "      <th>d2</th>\n",
       "      <th>d1_name</th>\n",
       "      <th>d2_name</th>\n",
       "      <th>interaction</th>\n",
       "      <th>interaction_type</th>\n",
       "      <th>severity</th>\n",
       "      <th>smiles1</th>\n",
       "      <th>smiles2</th>\n",
       "    </tr>\n",
       "  </thead>\n",
       "  <tbody>\n",
       "    <tr>\n",
       "      <th>228060</th>\n",
       "      <td>DB00338</td>\n",
       "      <td>DB00624</td>\n",
       "      <td>Omeprazole</td>\n",
       "      <td>Testosterone</td>\n",
       "      <td>#Drug1 may decrease the excretion rate of #Drug2 which could result in a higher serum level.</td>\n",
       "      <td>11</td>\n",
       "      <td>unknown</td>\n",
       "      <td>COC1=CC2=C(C=C1)N=C(N2)S(=O)CC1=NC=C(C)C(OC)=C1C</td>\n",
       "      <td>[H][C@@]12CC[C@H](O)[C@@]1(C)CC[C@@]1([H])[C@@]2([H])CCC2=CC(=O)CC[C@]12C</td>\n",
       "    </tr>\n",
       "  </tbody>\n",
       "</table>\n",
       "</div>"
      ],
      "text/plain": [
       "             d1       d2     d1_name       d2_name  \\\n",
       "228060  DB00338  DB00624  Omeprazole  Testosterone   \n",
       "\n",
       "                                                                                         interaction  \\\n",
       "228060  #Drug1 may decrease the excretion rate of #Drug2 which could result in a higher serum level.   \n",
       "\n",
       "        interaction_type severity  \\\n",
       "228060                11  unknown   \n",
       "\n",
       "                                                 smiles1  \\\n",
       "228060  COC1=CC2=C(C=C1)N=C(N2)S(=O)CC1=NC=C(C)C(OC)=C1C   \n",
       "\n",
       "                                                                          smiles2  \n",
       "228060  [H][C@@]12CC[C@H](O)[C@@]1(C)CC[C@@]1([H])[C@@]2([H])CCC2=CC(=O)CC[C@]12C  "
      ]
     },
     "execution_count": 103,
     "metadata": {},
     "output_type": "execute_result"
    }
   ],
   "source": [
    "test_drug[test_drug['d2_name'] == \"Testosterone\"]"
   ]
  },
  {
   "cell_type": "code",
   "execution_count": 89,
   "id": "9da07113-878d-466f-9419-b9ee2298d732",
   "metadata": {},
   "outputs": [
    {
     "name": "stdout",
     "output_type": "stream",
     "text": [
      "Raw data dimension: (2373051, 10)\n",
      "Number of distinct drugs in d1: 2536\n",
      "Number of distinct drugs in d2: 2566\n",
      "Number of distinct d1-d2 sequence: 2373051\n"
     ]
    }
   ],
   "source": [
    "# Add a drug-pair column \n",
    "master_df['d1_d2'] = master_df.apply(lambda x: str([x['d1'], x['d2']]), axis=1)\n",
    "# raw_data['drug_pair'] = raw_data.apply(lambda x: str(set(sorted([x['d1'], x['d2']]))), axis=1)\n",
    "\n",
    "print('Raw data dimension:', master_df.shape)\n",
    "print('Number of distinct drugs in d1:', len(master_df['d1'].unique()))\n",
    "print('Number of distinct drugs in d2:', len(master_df['d2'].unique()))\n",
    "print('Number of distinct d1-d2 sequence:', len(master_df['d1_d2'].unique()))"
   ]
  },
  {
   "cell_type": "code",
   "execution_count": 90,
   "id": "8d00e0f2-6d7f-4b30-8070-a13a4416607a",
   "metadata": {},
   "outputs": [
    {
     "data": {
      "image/png": "[encoded data removed]",
      "text/plain": [
       "<Figure size 432x288 with 1 Axes>"
      ]
     },
     "metadata": {},
     "output_type": "display_data"
    }
   ],
   "source": [
    "master_df['interaction_type'].value_counts().plot(kind='bar', logy=True)\n",
    "sns.set_style('white')\n",
    "\n",
    "plt.ylabel('Count')\n",
    "plt.xlabel('Interaction Type')\n",
    "plt.title('Distribution of Interaction Types')\n",
    "labels = list(range(0, 90, 5))\n",
    "plt.xticks(labels)\n",
    "plt.ylim(bottom=1) \n",
    "plt.show()"
   ]
  },
  {
   "cell_type": "code",
   "execution_count": 105,
   "id": "c603b389-77da-4515-8f42-a7c83e2b10c1",
   "metadata": {},
   "outputs": [
    {
     "data": {
      "image/png": "[encoded data removed]",
      "text/plain": [
       "<Figure size 576x576 with 1 Axes>"
      ]
     },
     "metadata": {},
     "output_type": "display_data"
    }
   ],
   "source": [
    "fig = plt.figure(figsize=(8,8))\n",
    "sns.set_style('white')\n",
    "sns.histplot(data=master_df, x='interaction_type', bins = 30, alpha=1, hue=\"severity\", multiple=\"stack\", palette='cool_r')\n",
    "plt.ylabel('Count', fontsize=14)\n",
    "plt.xlabel('Interaction Type', fontsize=14)\n",
    "plt.title('Distribution of Interaction Types by Severity', fontsize=16)\n",
    "# plt.xticks(rotation=0)\n",
    "labels = list(range(0, 90, 5))\n",
    "plt.xticks(labels)\n",
    "plt.show()"
   ]
  },
  {
   "cell_type": "code",
   "execution_count": 92,
   "id": "686f2729-dc98-496f-981d-7a23e8683803",
   "metadata": {},
   "outputs": [
    {
     "data": {
      "image/png": "[encoded data removed]",
      "text/plain": [
       "<Figure size 720x432 with 1 Axes>"
      ]
     },
     "metadata": {},
     "output_type": "display_data"
    }
   ],
   "source": [
    "data = [master_df[master_df['interaction_type'] != 0].shape[0], master_df[master_df['interaction_type'] == 0].shape[0]]\n",
    "labels = ['Top 86 Interactions', 'Negative Control/UNK']\n",
    "\n",
    "\n",
    "def func(pct, allvals):                    \n",
    "    absolute = int(pct/100.*np.sum(allvals))\n",
    "    return \"{:.1f}%\\n({:,})\".format(pct, absolute)\n",
    "\n",
    "\n",
    "fig, ax = plt.subplots(figsize=(10, 6), subplot_kw=dict(aspect=\"equal\"))\n",
    "wedges, texts, autotexts = ax.pie(data, \n",
    "                                  autopct=lambda pct: func(pct, data),\n",
    "                                  textprops=dict(color=\"w\"),\n",
    "                                  explode=(0.03, 0),\n",
    "                                  colors=['royalblue', 'lightsteelblue'],\n",
    "                                  startangle=90\n",
    "                                 )\n",
    "ax.legend(wedges, labels,\n",
    "          title=\"Interaction Type\",\n",
    "          loc=\"lower center\",\n",
    "          bbox_to_anchor=(0.25, -0.1, 0.5, 1)\n",
    "         )\n",
    "\n",
    "plt.setp(autotexts, size=12, weight=\"bold\")\n",
    "ax.set_title(\"Interaction Types\", fontsize=16, y=0.95)\n",
    "plt.show()"
   ]
  },
  {
   "cell_type": "code",
   "execution_count": 93,
   "id": "74321479-ec62-4b12-a5d1-ce97f4dc7edd",
   "metadata": {},
   "outputs": [
    {
     "data": {
      "image/png": "[encoded data removed]",
      "text/plain": [
       "<Figure size 720x432 with 1 Axes>"
      ]
     },
     "metadata": {},
     "output_type": "display_data"
    }
   ],
   "source": [
    "data = [master_df[master_df['severity'] == 'high'].shape[0], master_df[master_df['severity'] != 'high'].shape[0]]\n",
    "labels = ['High', 'Unknown']\n",
    "\n",
    "\n",
    "def func(pct, allvals):                    \n",
    "    absolute = int(pct/100.*np.sum(allvals))\n",
    "    return \"{:.1f}%\\n({:,})\".format(pct, absolute)\n",
    "\n",
    "\n",
    "fig, ax = plt.subplots(figsize=(10, 6), subplot_kw=dict(aspect=\"equal\"))\n",
    "wedges, texts, autotexts = ax.pie(data, \n",
    "                                  autopct=lambda pct: func(pct, data),\n",
    "                                  textprops=dict(color=\"w\"),\n",
    "                                  explode=(0.03, 0),\n",
    "                                  colors=['royalblue', 'lightsteelblue'],\n",
    "                                  startangle=90\n",
    "                                 )\n",
    "ax.legend(wedges, labels,\n",
    "          title=\"Severity\",\n",
    "          loc=\"lower center\",\n",
    "          bbox_to_anchor=(0.25, -0.1, 0.5, 1))\n",
    "\n",
    "plt.setp(autotexts, size=12, weight=\"bold\")\n",
    "ax.set_title(\"Interaction Severity\", fontsize=16, y=0.95)\n",
    "plt.show()"
   ]
  },
  {
   "cell_type": "code",
   "execution_count": 94,
   "id": "53a44b41-b2ee-4345-b0f1-ca5ed00d829e",
   "metadata": {},
   "outputs": [
    {
     "data": {
      "text/html": [
       "<div>\n",
       "<style scoped>\n",
       "    .dataframe tbody tr th:only-of-type {\n",
       "        vertical-align: middle;\n",
       "    }\n",
       "\n",
       "    .dataframe tbody tr th {\n",
       "        vertical-align: top;\n",
       "    }\n",
       "\n",
       "    .dataframe thead th {\n",
       "        text-align: right;\n",
       "    }\n",
       "</style>\n",
       "<table border=\"1\" class=\"dataframe\">\n",
       "  <thead>\n",
       "    <tr style=\"text-align: right;\">\n",
       "      <th></th>\n",
       "      <th>interaction_type</th>\n",
       "      <th>interaction</th>\n",
       "    </tr>\n",
       "  </thead>\n",
       "  <tbody>\n",
       "    <tr>\n",
       "      <th>0</th>\n",
       "      <td>0</td>\n",
       "      <td>Unknown</td>\n",
       "    </tr>\n",
       "    <tr>\n",
       "      <th>1</th>\n",
       "      <td>1</td>\n",
       "      <td>The risk or severity of bleeding can be increased when #Drug1 is combined with #Drug2.</td>\n",
       "    </tr>\n",
       "    <tr>\n",
       "      <th>2</th>\n",
       "      <td>2</td>\n",
       "      <td>The risk or severity of bleeding and hemorrhage can be increased when #Drug1 is combined with #Drug2.</td>\n",
       "    </tr>\n",
       "    <tr>\n",
       "      <th>3</th>\n",
       "      <td>3</td>\n",
       "      <td>The therapeutic efficacy of #Drug1 can be decreased when used in combination with #Drug2.</td>\n",
       "    </tr>\n",
       "    <tr>\n",
       "      <th>4</th>\n",
       "      <td>4</td>\n",
       "      <td>#Drug2 may increase the anticoagulant activities of #Drug1.</td>\n",
       "    </tr>\n",
       "    <tr>\n",
       "      <th>...</th>\n",
       "      <td>...</td>\n",
       "      <td>...</td>\n",
       "    </tr>\n",
       "    <tr>\n",
       "      <th>82</th>\n",
       "      <td>82</td>\n",
       "      <td>#Drug2 may increase the neuroexcitatory activities of #Drug1.</td>\n",
       "    </tr>\n",
       "    <tr>\n",
       "      <th>83</th>\n",
       "      <td>83</td>\n",
       "      <td>#Drug2 may increase the orthostatic hypotensive activities of #Drug1.</td>\n",
       "    </tr>\n",
       "    <tr>\n",
       "      <th>84</th>\n",
       "      <td>84</td>\n",
       "      <td>#Drug1 may increase the orthostatic hypotensive, hypotensive, and antihypertensive activities of #Drug2.</td>\n",
       "    </tr>\n",
       "    <tr>\n",
       "      <th>85</th>\n",
       "      <td>85</td>\n",
       "      <td>The risk or severity of hypotension and CNS depression can be increased when #Drug1 is combined with #Drug2.</td>\n",
       "    </tr>\n",
       "    <tr>\n",
       "      <th>86</th>\n",
       "      <td>86</td>\n",
       "      <td>#Drug2 may increase the orthostatic hypotensive, hypotensive, and antihypertensive activities of #Drug1.</td>\n",
       "    </tr>\n",
       "  </tbody>\n",
       "</table>\n",
       "<p>87 rows × 2 columns</p>\n",
       "</div>"
      ],
      "text/plain": [
       "    interaction_type  \\\n",
       "0                  0   \n",
       "1                  1   \n",
       "2                  2   \n",
       "3                  3   \n",
       "4                  4   \n",
       "..               ...   \n",
       "82                82   \n",
       "83                83   \n",
       "84                84   \n",
       "85                85   \n",
       "86                86   \n",
       "\n",
       "                                                                                                     interaction  \n",
       "0                                                                                                        Unknown  \n",
       "1                         The risk or severity of bleeding can be increased when #Drug1 is combined with #Drug2.  \n",
       "2          The risk or severity of bleeding and hemorrhage can be increased when #Drug1 is combined with #Drug2.  \n",
       "3                      The therapeutic efficacy of #Drug1 can be decreased when used in combination with #Drug2.  \n",
       "4                                                    #Drug2 may increase the anticoagulant activities of #Drug1.  \n",
       "..                                                                                                           ...  \n",
       "82                                                 #Drug2 may increase the neuroexcitatory activities of #Drug1.  \n",
       "83                                         #Drug2 may increase the orthostatic hypotensive activities of #Drug1.  \n",
       "84      #Drug1 may increase the orthostatic hypotensive, hypotensive, and antihypertensive activities of #Drug2.  \n",
       "85  The risk or severity of hypotension and CNS depression can be increased when #Drug1 is combined with #Drug2.  \n",
       "86      #Drug2 may increase the orthostatic hypotensive, hypotensive, and antihypertensive activities of #Drug1.  \n",
       "\n",
       "[87 rows x 2 columns]"
      ]
     },
     "execution_count": 94,
     "metadata": {},
     "output_type": "execute_result"
    }
   ],
   "source": [
    "# Save new interaction_information\n",
    "interaction_df = master_df[['interaction_type', 'interaction']]\n",
    "interaction_df = interaction_df.drop_duplicates().sort_values('interaction_type')\n",
    "interaction_df.reset_index(inplace=True)\n",
    "interaction_df = interaction_df.drop('index', axis=1)\n",
    "interaction_df"
   ]
  },
  {
   "cell_type": "code",
   "execution_count": 95,
   "id": "c47f1ba8-ff94-4352-af72-a9dcdf1fb2dc",
   "metadata": {},
   "outputs": [],
   "source": [
    "# save the dataframe to csv file\n",
    "interaction_df.to_csv('data/interaction_information_api.csv', index=False, sep='\\t')"
   ]
  },
  {
   "cell_type": "markdown",
   "id": "b4907edb-f31f-4508-95e0-b462da81dbc5",
   "metadata": {},
   "source": [
    "## 5. Train / Test Split"
   ]
  },
  {
   "cell_type": "code",
   "execution_count": 6,
   "id": "3539e325-938f-455a-bcce-75d0d4727dc5",
   "metadata": {},
   "outputs": [
    {
     "data": {
      "text/html": [
       "<div>\n",
       "<style scoped>\n",
       "    .dataframe tbody tr th:only-of-type {\n",
       "        vertical-align: middle;\n",
       "    }\n",
       "\n",
       "    .dataframe tbody tr th {\n",
       "        vertical-align: top;\n",
       "    }\n",
       "\n",
       "    .dataframe thead th {\n",
       "        text-align: right;\n",
       "    }\n",
       "</style>\n",
       "<table border=\"1\" class=\"dataframe\">\n",
       "  <thead>\n",
       "    <tr style=\"text-align: right;\">\n",
       "      <th></th>\n",
       "      <th>d1</th>\n",
       "      <th>d2</th>\n",
       "      <th>d1_name</th>\n",
       "      <th>d2_name</th>\n",
       "      <th>interaction</th>\n",
       "      <th>interaction_type</th>\n",
       "      <th>severity</th>\n",
       "      <th>smiles1</th>\n",
       "      <th>smiles2</th>\n",
       "    </tr>\n",
       "  </thead>\n",
       "  <tbody>\n",
       "    <tr>\n",
       "      <th>0</th>\n",
       "      <td>DB00006</td>\n",
       "      <td>DB04552</td>\n",
       "      <td>Bivalirudin</td>\n",
       "      <td>Niflumic acid</td>\n",
       "      <td>The risk or severity of bleeding and hemorrhage can be increased when #Drug1 is combined with #Drug2.</td>\n",
       "      <td>2</td>\n",
       "      <td>high</td>\n",
       "      <td>CC[C@H](C)[C@H](NC(=O)[C@H](CCC(O)=O)NC(=O)[C@H](CCC(O)=O)NC(=O)[C@H](CC1=CC=CC=C1)NC(=O)[C@H](CC(O)=O)NC(=O)CNC(=O)[C@H](CC(N)=O)NC(=O)CNC(=O)CNC(=O)CNC(=O)CNC(=O)[C@@H]1CCCN1C(=O)[C@H](CCCNC(N)=...</td>\n",
       "      <td>OC(=O)C1=C(NC2=CC=CC(=C2)C(F)(F)F)N=CC=C1</td>\n",
       "    </tr>\n",
       "    <tr>\n",
       "      <th>1</th>\n",
       "      <td>DB00006</td>\n",
       "      <td>DB00244</td>\n",
       "      <td>Bivalirudin</td>\n",
       "      <td>Mesalazine</td>\n",
       "      <td>The risk or severity of bleeding and hemorrhage can be increased when #Drug1 is combined with #Drug2.</td>\n",
       "      <td>2</td>\n",
       "      <td>high</td>\n",
       "      <td>CC[C@H](C)[C@H](NC(=O)[C@H](CCC(O)=O)NC(=O)[C@H](CCC(O)=O)NC(=O)[C@H](CC1=CC=CC=C1)NC(=O)[C@H](CC(O)=O)NC(=O)CNC(=O)[C@H](CC(N)=O)NC(=O)CNC(=O)CNC(=O)CNC(=O)CNC(=O)[C@@H]1CCCN1C(=O)[C@H](CCCNC(N)=...</td>\n",
       "      <td>NC1=CC(C(O)=O)=C(O)C=C1</td>\n",
       "    </tr>\n",
       "  </tbody>\n",
       "</table>\n",
       "</div>"
      ],
      "text/plain": [
       "        d1       d2      d1_name        d2_name  \\\n",
       "0  DB00006  DB04552  Bivalirudin  Niflumic acid   \n",
       "1  DB00006  DB00244  Bivalirudin     Mesalazine   \n",
       "\n",
       "                                                                                             interaction  \\\n",
       "0  The risk or severity of bleeding and hemorrhage can be increased when #Drug1 is combined with #Drug2.   \n",
       "1  The risk or severity of bleeding and hemorrhage can be increased when #Drug1 is combined with #Drug2.   \n",
       "\n",
       "   interaction_type severity  \\\n",
       "0                 2     high   \n",
       "1                 2     high   \n",
       "\n",
       "                                                                                                                                                                                                   smiles1  \\\n",
       "0  CC[C@H](C)[C@H](NC(=O)[C@H](CCC(O)=O)NC(=O)[C@H](CCC(O)=O)NC(=O)[C@H](CC1=CC=CC=C1)NC(=O)[C@H](CC(O)=O)NC(=O)CNC(=O)[C@H](CC(N)=O)NC(=O)CNC(=O)CNC(=O)CNC(=O)CNC(=O)[C@@H]1CCCN1C(=O)[C@H](CCCNC(N)=...   \n",
       "1  CC[C@H](C)[C@H](NC(=O)[C@H](CCC(O)=O)NC(=O)[C@H](CCC(O)=O)NC(=O)[C@H](CC1=CC=CC=C1)NC(=O)[C@H](CC(O)=O)NC(=O)CNC(=O)[C@H](CC(N)=O)NC(=O)CNC(=O)CNC(=O)CNC(=O)CNC(=O)[C@@H]1CCCN1C(=O)[C@H](CCCNC(N)=...   \n",
       "\n",
       "                                     smiles2  \n",
       "0  OC(=O)C1=C(NC2=CC=CC(=C2)C(F)(F)F)N=CC=C1  \n",
       "1                    NC1=CC(C(O)=O)=C(O)C=C1  "
      ]
     },
     "execution_count": 6,
     "metadata": {},
     "output_type": "execute_result"
    }
   ],
   "source": [
    "master_df.head(2)"
   ]
  },
  {
   "cell_type": "code",
   "execution_count": 12,
   "id": "c7b3683f-9cec-4edb-9a69-312561a3014c",
   "metadata": {
    "ExecuteTime": {
     "end_time": "2023-06-16T04:35:22.956805200Z",
     "start_time": "2023-06-16T04:35:22.854307Z"
    }
   },
   "outputs": [
    {
     "name": "stdout",
     "output_type": "stream",
     "text": [
      "Number of approved drugs: 2040\n",
      "Number of not approved drugs: 527\n"
     ]
    }
   ],
   "source": [
    "## Extract Bit in the Approved Group\n",
    "drug_info_df = pd.read_csv('data/scraping_drug_info.csv', delimiter='\\t')\n",
    "approved_drugs = drug_info_df[drug_info_df[\"approved_drug\"] == 1][\"drug_id\"].values\n",
    "not_approved_drugs = drug_info_df[drug_info_df[\"approved_drug\"] == 0][\"drug_id\"].values\n",
    "print(\"Number of approved drugs:\", len(approved_drugs))\n",
    "print(\"Number of not approved drugs:\", len(not_approved_drugs))\n",
    "\n",
    "# Extract DDI for approved drugs for train set\n",
    "not_approved_df = master_df[master_df[\"d1\"].isin(not_approved_drugs) | master_df[\"d2\"].isin(not_approved_drugs)]\n",
    "approved_df = master_df[master_df[\"d1\"].isin(approved_drugs) & master_df[\"d2\"].isin(approved_drugs)]\n",
    "print(\"Approved drugs DDIS: \", approved_df.shape)\n",
    "print(\"Not Approved Drugs DDIS: \", not_approved_df.shape)\n"
   ]
  },
  {
   "cell_type": "code",
   "execution_count": 121,
   "id": "01ed2419-5b40-4115-84df-ec26c240168b",
   "metadata": {},
   "outputs": [
    {
     "name": "stdout",
     "output_type": "stream",
     "text": [
      "['DB00006' 'DB00007' 'DB00014' 'DB00027' 'DB00035' 'DB00067' 'DB00080'\n",
      " 'DB00091' 'DB00115' 'DB00118']\n"
     ]
    },
    {
     "data": {
      "text/plain": [
       "array(['DB00127', 'DB00155', 'DB00168', 'DB00212', 'DB00232', 'DB00269',\n",
       "       'DB00453', 'DB00463', 'DB00505', 'DB00546'], dtype=object)"
      ]
     },
     "execution_count": 121,
     "metadata": {},
     "output_type": "execute_result"
    }
   ],
   "source": [
    "print(approved_drugs[:10])\n",
    "not_approved_drugs[:10]"
   ]
  },
  {
   "cell_type": "code",
   "execution_count": 12,
   "id": "2ba65320-4fc3-4a64-8b01-2df41a109ad3",
   "metadata": {},
   "outputs": [
    {
     "data": {
      "image/png": "[encoded data removed]",
      "text/plain": [
       "<Figure size 720x432 with 1 Axes>"
      ]
     },
     "metadata": {},
     "output_type": "display_data"
    }
   ],
   "source": [
    "data = [approved_df.shape[0], not_approved_df.shape[0]]\n",
    "labels = ['Approved Drugs', 'Other Drugs']\n",
    "\n",
    "\n",
    "def func(pct, allvals):                    \n",
    "    absolute = int(pct/100.*np.sum(allvals))\n",
    "    return \"{:.1f}%\\n({:,})\".format(pct, absolute)\n",
    "\n",
    "\n",
    "fig, ax = plt.subplots(figsize=(10, 6), subplot_kw=dict(aspect=\"equal\"))\n",
    "wedges, texts, autotexts = ax.pie(data, \n",
    "                                  autopct=lambda pct: func(pct, data),\n",
    "                                  textprops=dict(color=\"w\"),\n",
    "                                  explode=(0.03, 0),\n",
    "                                  colors=['royalblue', 'lightsteelblue'],\n",
    "                                  startangle=90\n",
    "                                 )\n",
    "ax.legend(wedges, labels,\n",
    "          title=\"Group Type\",\n",
    "          loc=\"lower center\",\n",
    "          bbox_to_anchor=(0.25, -0.1, 0.5, 1))\n",
    "\n",
    "plt.setp(autotexts, size=12, weight=\"bold\")\n",
    "ax.set_title(\"Number of Interactions\", fontsize=16, y=0.95)\n",
    "plt.show()"
   ]
  },
  {
   "cell_type": "code",
   "execution_count": 107,
   "id": "886f3175-02ae-41c2-b280-78bb451fda78",
   "metadata": {},
   "outputs": [
    {
     "name": "stderr",
     "output_type": "stream",
     "text": [
      "C:\\Users\\ltmai\\AppData\\Local\\Temp\\ipykernel_21160\\3514456395.py:6: UserWarning: Boolean Series key will be reindexed to match DataFrame index.\n",
      "  val_df = not_approved_df[not_approved_df[\"d1\"].isin(val_drugs) | master_df[\"d2\"].isin(val_drugs)]\n",
      "C:\\Users\\ltmai\\AppData\\Local\\Temp\\ipykernel_21160\\3514456395.py:7: UserWarning: Boolean Series key will be reindexed to match DataFrame index.\n",
      "  test_df = not_approved_df[~(not_approved_df[\"d1\"].isin(val_drugs) | master_df[\"d2\"].isin(val_drugs))]\n"
     ]
    }
   ],
   "source": [
    "# Save Not Approved Drugs for test set\n",
    "val_test_drug_split = round(len(not_approved_drugs)/2)\n",
    "np.random.shuffle(not_approved_drugs)\n",
    "val_drugs = not_approved_drugs[:val_test_drug_split]\n",
    "\n",
    "val_df = not_approved_df[not_approved_df[\"d1\"].isin(val_drugs) | master_df[\"d2\"].isin(val_drugs)]\n",
    "test_df = not_approved_df[~(not_approved_df[\"d1\"].isin(val_drugs) | master_df[\"d2\"].isin(val_drugs))]\n",
    "\n",
    "val_df = val_df.sample(frac=1, random_state=42)\n",
    "val_df = val_df.reset_index()\n",
    "val_df = val_df.drop('index', axis=1)\n",
    "test_df = test_df.sample(frac=1, random_state=42)\n",
    "test_df = test_df.reset_index()\n",
    "test_df = test_df.drop('index', axis=1)\n",
    "\n",
    "# Save test set\n",
    "# save the dataframe to csv file\n",
    "# not_approved_df.to_csv('data/ddi_test_api.csv', index=False)"
   ]
  },
  {
   "cell_type": "code",
   "execution_count": 114,
   "id": "9ec26d93-50c9-466a-bbcc-c1b156f464ba",
   "metadata": {},
   "outputs": [
    {
     "name": "stdout",
     "output_type": "stream",
     "text": [
      "Test dataset shape: (214302, 9)\n",
      "Number of interaction types in test set: 87\n",
      "Interaction type distribution in test set, Bottom 10:\n",
      "81    91\n",
      "53    75\n",
      "37    72\n",
      "5     55\n",
      "38    54\n",
      "30    49\n",
      "42    41\n",
      "69    40\n",
      "75    31\n",
      "80    26\n",
      "Name: interaction_type, dtype: int64\n"
     ]
    },
    {
     "data": {
      "text/html": [
       "<div>\n",
       "<style scoped>\n",
       "    .dataframe tbody tr th:only-of-type {\n",
       "        vertical-align: middle;\n",
       "    }\n",
       "\n",
       "    .dataframe tbody tr th {\n",
       "        vertical-align: top;\n",
       "    }\n",
       "\n",
       "    .dataframe thead th {\n",
       "        text-align: right;\n",
       "    }\n",
       "</style>\n",
       "<table border=\"1\" class=\"dataframe\">\n",
       "  <thead>\n",
       "    <tr style=\"text-align: right;\">\n",
       "      <th></th>\n",
       "      <th>d1</th>\n",
       "      <th>d2</th>\n",
       "      <th>d1_name</th>\n",
       "      <th>d2_name</th>\n",
       "      <th>interaction</th>\n",
       "      <th>interaction_type</th>\n",
       "      <th>severity</th>\n",
       "      <th>smiles1</th>\n",
       "      <th>smiles2</th>\n",
       "    </tr>\n",
       "  </thead>\n",
       "  <tbody>\n",
       "    <tr>\n",
       "      <th>0</th>\n",
       "      <td>DB13868</td>\n",
       "      <td>DB00319</td>\n",
       "      <td>Adefovir</td>\n",
       "      <td>Piperacillin</td>\n",
       "      <td>#Drug1 may decrease the excretion rate of #Drug2 which could result in a higher serum level.</td>\n",
       "      <td>11</td>\n",
       "      <td>unknown</td>\n",
       "      <td>NC1=C2N=CN(CCOCP(O)(O)=O)C2=NC=N1</td>\n",
       "      <td>[H][C@]12SC(C)(C)[C@@H](N1C(=O)[C@H]2NC(=O)[C@H](NC(=O)N1CCN(CC)C(=O)C1=O)C1=CC=CC=C1)C(O)=O</td>\n",
       "    </tr>\n",
       "  </tbody>\n",
       "</table>\n",
       "</div>"
      ],
      "text/plain": [
       "        d1       d2   d1_name       d2_name  \\\n",
       "0  DB13868  DB00319  Adefovir  Piperacillin   \n",
       "\n",
       "                                                                                    interaction  \\\n",
       "0  #Drug1 may decrease the excretion rate of #Drug2 which could result in a higher serum level.   \n",
       "\n",
       "   interaction_type severity                            smiles1  \\\n",
       "0                11  unknown  NC1=C2N=CN(CCOCP(O)(O)=O)C2=NC=N1   \n",
       "\n",
       "                                                                                        smiles2  \n",
       "0  [H][C@]12SC(C)(C)[C@@H](N1C(=O)[C@H]2NC(=O)[C@H](NC(=O)N1CCN(CC)C(=O)C1=O)C1=CC=CC=C1)C(O)=O  "
      ]
     },
     "execution_count": 114,
     "metadata": {},
     "output_type": "execute_result"
    }
   ],
   "source": [
    "print('Test dataset shape:', test_df.shape)\n",
    "print('Number of interaction types in test set:', len(test_df.interaction_type.unique()))\n",
    "print('Interaction type distribution in test set, Bottom 10:')\n",
    "print(test_df.interaction_type.value_counts()[-10:])\n",
    "test_df.head(1)"
   ]
  },
  {
   "cell_type": "code",
   "execution_count": 115,
   "id": "16828eb4-cf17-46c0-acc2-a2677e21b979",
   "metadata": {},
   "outputs": [
    {
     "name": "stdout",
     "output_type": "stream",
     "text": [
      "Validation dataset shape: (202633, 9)\n",
      "Number of interaction types in Validation set: 87\n",
      "Interaction type distribution in Validation set, Bottom 10:\n",
      "53    60\n",
      "37    53\n",
      "80    52\n",
      "69    52\n",
      "84    37\n",
      "30    26\n",
      "44    25\n",
      "17    22\n",
      "42    19\n",
      "86    12\n",
      "Name: interaction_type, dtype: int64\n"
     ]
    },
    {
     "data": {
      "text/html": [
       "<div>\n",
       "<style scoped>\n",
       "    .dataframe tbody tr th:only-of-type {\n",
       "        vertical-align: middle;\n",
       "    }\n",
       "\n",
       "    .dataframe tbody tr th {\n",
       "        vertical-align: top;\n",
       "    }\n",
       "\n",
       "    .dataframe thead th {\n",
       "        text-align: right;\n",
       "    }\n",
       "</style>\n",
       "<table border=\"1\" class=\"dataframe\">\n",
       "  <thead>\n",
       "    <tr style=\"text-align: right;\">\n",
       "      <th></th>\n",
       "      <th>d1</th>\n",
       "      <th>d2</th>\n",
       "      <th>d1_name</th>\n",
       "      <th>d2_name</th>\n",
       "      <th>interaction</th>\n",
       "      <th>interaction_type</th>\n",
       "      <th>severity</th>\n",
       "      <th>smiles1</th>\n",
       "      <th>smiles2</th>\n",
       "    </tr>\n",
       "  </thead>\n",
       "  <tbody>\n",
       "    <tr>\n",
       "      <th>0</th>\n",
       "      <td>DB00770</td>\n",
       "      <td>DB01094</td>\n",
       "      <td>Alprostadil</td>\n",
       "      <td>Hesperetin</td>\n",
       "      <td>Unknown</td>\n",
       "      <td>0</td>\n",
       "      <td>unknown</td>\n",
       "      <td>CCCCC[C@H](O)\\C=C\\[C@H]1[C@H](O)CC(=O)[C@@H]1CCCCCCC(O)=O</td>\n",
       "      <td>COC1=C(O)C=C(C=C1)[C@@H]1CC(=O)C2=C(O)C=C(O)C=C2O1</td>\n",
       "    </tr>\n",
       "  </tbody>\n",
       "</table>\n",
       "</div>"
      ],
      "text/plain": [
       "        d1       d2      d1_name     d2_name interaction  interaction_type  \\\n",
       "0  DB00770  DB01094  Alprostadil  Hesperetin     Unknown                 0   \n",
       "\n",
       "  severity                                                    smiles1  \\\n",
       "0  unknown  CCCCC[C@H](O)\\C=C\\[C@H]1[C@H](O)CC(=O)[C@@H]1CCCCCCC(O)=O   \n",
       "\n",
       "                                              smiles2  \n",
       "0  COC1=C(O)C=C(C=C1)[C@@H]1CC(=O)C2=C(O)C=C(O)C=C2O1  "
      ]
     },
     "execution_count": 115,
     "metadata": {},
     "output_type": "execute_result"
    }
   ],
   "source": [
    "print('Validation dataset shape:', val_df.shape)\n",
    "print('Number of interaction types in Validation set:', len(val_df.interaction_type.unique()))\n",
    "print('Interaction type distribution in Validation set, Bottom 10:')\n",
    "print(val_df.interaction_type.value_counts()[-10:])\n",
    "val_df.head(1)"
   ]
  },
  {
   "cell_type": "code",
   "execution_count": 117,
   "id": "8ac28bc7-71ad-4f93-8a0d-aa380421734b",
   "metadata": {},
   "outputs": [
    {
     "data": {
      "text/html": [
       "<div>\n",
       "<style scoped>\n",
       "    .dataframe tbody tr th:only-of-type {\n",
       "        vertical-align: middle;\n",
       "    }\n",
       "\n",
       "    .dataframe tbody tr th {\n",
       "        vertical-align: top;\n",
       "    }\n",
       "\n",
       "    .dataframe thead th {\n",
       "        text-align: right;\n",
       "    }\n",
       "</style>\n",
       "<table border=\"1\" class=\"dataframe\">\n",
       "  <thead>\n",
       "    <tr style=\"text-align: right;\">\n",
       "      <th></th>\n",
       "      <th>d1</th>\n",
       "      <th>d2</th>\n",
       "      <th>d1_name</th>\n",
       "      <th>d2_name</th>\n",
       "      <th>interaction</th>\n",
       "      <th>interaction_type</th>\n",
       "      <th>severity</th>\n",
       "      <th>smiles1</th>\n",
       "      <th>smiles2</th>\n",
       "    </tr>\n",
       "  </thead>\n",
       "  <tbody>\n",
       "    <tr>\n",
       "      <th>1</th>\n",
       "      <td>DB00006</td>\n",
       "      <td>DB00244</td>\n",
       "      <td>Bivalirudin</td>\n",
       "      <td>Mesalazine</td>\n",
       "      <td>The risk or severity of bleeding and hemorrhage can be increased when #Drug1 is combined with #Drug2.</td>\n",
       "      <td>2</td>\n",
       "      <td>high</td>\n",
       "      <td>CC[C@H](C)[C@H](NC(=O)[C@H](CCC(O)=O)NC(=O)[C@H](CCC(O)=O)NC(=O)[C@H](CC1=CC=CC=C1)NC(=O)[C@H](CC(O)=O)NC(=O)CNC(=O)[C@H](CC(N)=O)NC(=O)CNC(=O)CNC(=O)CNC(=O)CNC(=O)[C@@H]1CCCN1C(=O)[C@H](CCCNC(N)=...</td>\n",
       "      <td>NC1=CC(C(O)=O)=C(O)C=C1</td>\n",
       "    </tr>\n",
       "  </tbody>\n",
       "</table>\n",
       "</div>"
      ],
      "text/plain": [
       "        d1       d2      d1_name     d2_name  \\\n",
       "1  DB00006  DB00244  Bivalirudin  Mesalazine   \n",
       "\n",
       "                                                                                             interaction  \\\n",
       "1  The risk or severity of bleeding and hemorrhage can be increased when #Drug1 is combined with #Drug2.   \n",
       "\n",
       "   interaction_type severity  \\\n",
       "1                 2     high   \n",
       "\n",
       "                                                                                                                                                                                                   smiles1  \\\n",
       "1  CC[C@H](C)[C@H](NC(=O)[C@H](CCC(O)=O)NC(=O)[C@H](CCC(O)=O)NC(=O)[C@H](CC1=CC=CC=C1)NC(=O)[C@H](CC(O)=O)NC(=O)CNC(=O)[C@H](CC(N)=O)NC(=O)CNC(=O)CNC(=O)CNC(=O)CNC(=O)[C@@H]1CCCN1C(=O)[C@H](CCCNC(N)=...   \n",
       "\n",
       "                   smiles2  \n",
       "1  NC1=CC(C(O)=O)=C(O)C=C1  "
      ]
     },
     "execution_count": 117,
     "metadata": {},
     "output_type": "execute_result"
    }
   ],
   "source": [
    "approved_df.head(1)"
   ]
  },
  {
   "cell_type": "code",
   "execution_count": 119,
   "id": "ec2bc8a2-306e-41b9-82d1-a373ba5b5f60",
   "metadata": {},
   "outputs": [],
   "source": [
    "# save the dataframe to csv file\n",
    "test_df.to_csv('data/ddi_test_api.csv', index=False, sep='\\t')\n",
    "val_df.to_csv('data/ddi_val_api.csv', index=False, sep='\\t')\n",
    "approved_df.to_csv('data/ddi_train_api.csv', index=False, sep='\\t')"
   ]
  },
  {
   "cell_type": "code",
   "execution_count": 4,
   "outputs": [],
   "source": [
    "approved_df = pd.read_csv('data/ddi_train_api.csv', sep='\\t')"
   ],
   "metadata": {
    "collapsed": false,
    "ExecuteTime": {
     "end_time": "2023-06-16T04:25:08.183914100Z",
     "start_time": "2023-06-16T04:25:04.710412200Z"
    }
   }
  },
  {
   "cell_type": "markdown",
   "id": "41493d9a-7ced-4183-bd8b-98744388b75b",
   "metadata": {},
   "source": [
    "## 6. Under-Sampling & Up-Sampling"
   ]
  },
  {
   "cell_type": "code",
   "execution_count": 5,
   "id": "c03005c2-ee1c-4ee9-8038-1f82ad950864",
   "metadata": {
    "ExecuteTime": {
     "end_time": "2023-06-16T04:25:51.479100200Z",
     "start_time": "2023-06-16T04:25:51.369099300Z"
    }
   },
   "outputs": [
    {
     "name": "stdout",
     "output_type": "stream",
     "text": [
      "Training set label distribution:\n"
     ]
    },
    {
     "data": {
      "text/plain": "0     848461\n6     125863\n10    108931\n11    108926\n28     96455\n29     96452\n12     48208\n3      30934\n7      30934\n24     28478\n16     28477\n49     28345\n48     28344\n40     26142\n35     26139\n19     24466\n14     23847\n15     14737\n22     14736\n20     12338\n21     12338\n25     10388\n26     10385\n1       9097\n59      8021\n60      8021\n33      7686\n68      6724\n31      6696\n8       6696\n27      6609\n34      6609\n36      6598\n13      5338\n23      4540\n41      4430\n47      4429\n50      4420\n55      4166\n64      4038\n58      4024\n2       3536\n9       3396\n51      3366\n73      2913\n76      2913\n56      2910\n46      2860\n39      2218\n62      2218\n72      1681\n71      1681\n52      1544\n54      1314\n70      1314\n45      1303\n44      1303\n79      1277\n32      1277\n67      1256\n38      1255\n43      1128\n18      1089\n78      1089\n17      1010\n66      1008\n5        954\n4        953\n86       943\n84       942\n37       932\n83       895\n74       895\n63       814\n82       792\n57       792\n75       776\n69       776\n42       766\n30       766\n80       755\n81       755\n53       728\n65       680\n85       666\n77       610\n61       601\nName: interaction_type, dtype: int64"
     },
     "execution_count": 5,
     "metadata": {},
     "output_type": "execute_result"
    }
   ],
   "source": [
    "# Set the display.max_rows option to None\n",
    "pd.set_option(\"display.max_rows\", None)\n",
    "\n",
    "print('Training set label distribution:')\n",
    "approved_df = approved_df[[\"d1\", \"d2\", \"interaction_type\", \"severity\"]]\n",
    "approved_df.interaction_type.value_counts()"
   ]
  },
  {
   "cell_type": "code",
   "execution_count": 122,
   "id": "8354a6ff-4ff0-4fe0-88d9-ce1e40f3c862",
   "metadata": {},
   "outputs": [
    {
     "data": {
      "image/png": "[encoded data removed]",
      "text/plain": [
       "<Figure size 576x576 with 1 Axes>"
      ]
     },
     "metadata": {},
     "output_type": "display_data"
    }
   ],
   "source": [
    "fig = plt.figure(figsize=(8,8))\n",
    "sns.set_style('white')\n",
    "sns.histplot(data=approved_df, x='interaction_type', bins = 30, alpha=1, \n",
    "             hue=\"severity\", multiple=\"stack\", palette='cool_r', stat='density')\n",
    "plt.ylabel('Density', fontsize=14)\n",
    "plt.xlabel('Interaction Type', fontsize=14)\n",
    "plt.title('Training Set - Distribution of Interaction Types', fontsize=16)\n",
    "# plt.xticks(rotation=0)\n",
    "labels = list(range(0, 90, 5))\n",
    "plt.xticks(labels)\n",
    "plt.show()"
   ]
  },
  {
   "cell_type": "code",
   "execution_count": 6,
   "id": "ee66a92f-191c-404d-8299-7934f18d97b6",
   "metadata": {
    "ExecuteTime": {
     "end_time": "2023-06-16T04:31:28.561593100Z",
     "start_time": "2023-06-16T04:31:28.397093500Z"
    }
   },
   "outputs": [],
   "source": [
    "from sklearn.utils import resample\n",
    "\n",
    "def balance_dataset(df, n_samples=10000, random_state=42):\n",
    "    label_counts = df.interaction_type.value_counts()\n",
    "    \n",
    "    ## Downsample Majority cClasses\n",
    "    # Get majority classes (all labels >= n_samples)\n",
    "    majority_classes = approved_df.interaction_type.value_counts()\\\n",
    "        [approved_df.interaction_type.value_counts() >= n_samples].index\n",
    "    \n",
    "    # Initialize\n",
    "    df_majorities = pd.DataFrame(data=[], columns=[\"d1\", \"d2\", \"interaction_type\", \"severity\"])\n",
    "    \n",
    "    for i in range(len(majority_classes)):\n",
    "        label = majority_classes[i]\n",
    "        df_majority = df[df[\"interaction_type\"] == label]\n",
    "        df_downsample = resample(df_majority,\n",
    "                                replace=False,     # sample without replacement\n",
    "                                n_samples=n_samples,    # change majority to minority clas\n",
    "                                random_state=random_state)\n",
    "        # Add each majority class to down_sample df:\n",
    "        # Combine all downsampled majority classes\n",
    "        df_majorities = pd.concat([df_majorities, df_downsample])\n",
    "        \n",
    "        \n",
    "    ## Upsample Minority Classes\n",
    "    # Get majority classes (all labels < n_samples)\n",
    "    minority_classes = approved_df.interaction_type.value_counts()\\\n",
    "        [approved_df.interaction_type.value_counts() < n_samples].index\n",
    "    \n",
    "    # Initialize\n",
    "    df_minorities = pd.DataFrame(data=[], columns=[\"d1\", \"d2\", \"interaction_type\", \"severity\"])\n",
    "    \n",
    "    for i in range(len(minority_classes)):\n",
    "        label = minority_classes[i]\n",
    "        df_minority = df[df[\"interaction_type\"] == label]\n",
    "        df_upsample = resample(df_minority,\n",
    "                                replace=True,     # sample WITH replacement\n",
    "                                n_samples=n_samples,    # change majority to minority clas\n",
    "                                random_state=random_state)\n",
    "        # Add each minority class to up-sample df:\n",
    "        # Combine all Up-sampled minority classes\n",
    "        df_minorities = pd.concat([df_minorities, df_upsample])\n",
    "       \n",
    "    ## Combine Upsample & Downsample data\n",
    "    df = pd.concat([df_majorities, df_minorities])\n",
    "    df = df.sample(frac=1, random_state=42)\n",
    "    df = df.reset_index()\n",
    "    df = df.drop('index', axis=1)\n",
    "    \n",
    "    return df"
   ]
  },
  {
   "cell_type": "markdown",
   "id": "8dede9d1-8862-4b04-b683-b458a99a5c75",
   "metadata": {},
   "source": [
    "### Balance to have 10,000 each label"
   ]
  },
  {
   "cell_type": "code",
   "execution_count": 7,
   "outputs": [
    {
     "name": "stdout",
     "output_type": "stream",
     "text": [
      "(261000, 4)\n"
     ]
    },
    {
     "data": {
      "text/plain": "        d1       d2 interaction_type severity\n0  DB00460  DB08913                0  unknown\n1  DB08893  DB13345               80  unknown",
      "text/html": "<div>\n<style scoped>\n    .dataframe tbody tr th:only-of-type {\n        vertical-align: middle;\n    }\n\n    .dataframe tbody tr th {\n        vertical-align: top;\n    }\n\n    .dataframe thead th {\n        text-align: right;\n    }\n</style>\n<table border=\"1\" class=\"dataframe\">\n  <thead>\n    <tr style=\"text-align: right;\">\n      <th></th>\n      <th>d1</th>\n      <th>d2</th>\n      <th>interaction_type</th>\n      <th>severity</th>\n    </tr>\n  </thead>\n  <tbody>\n    <tr>\n      <th>0</th>\n      <td>DB00460</td>\n      <td>DB08913</td>\n      <td>0</td>\n      <td>unknown</td>\n    </tr>\n    <tr>\n      <th>1</th>\n      <td>DB08893</td>\n      <td>DB13345</td>\n      <td>80</td>\n      <td>unknown</td>\n    </tr>\n  </tbody>\n</table>\n</div>"
     },
     "execution_count": 7,
     "metadata": {},
     "output_type": "execute_result"
    }
   ],
   "source": [
    "## Balance data with each label = 3,000 samples\n",
    "balance_df_3000 = balance_dataset(approved_df, n_samples=3000)\n",
    "print(balance_df_3000.shape)\n",
    "balance_df_3000.head(2)"
   ],
   "metadata": {
    "collapsed": false,
    "ExecuteTime": {
     "end_time": "2023-06-16T04:32:29.980316700Z",
     "start_time": "2023-06-16T04:32:28.653857800Z"
    }
   }
  },
  {
   "cell_type": "code",
   "execution_count": 71,
   "id": "f4937b4a-bb4b-4758-8f7b-b49980d46d47",
   "metadata": {},
   "outputs": [
    {
     "name": "stdout",
     "output_type": "stream",
     "text": [
      "(870000, 4)\n"
     ]
    },
    {
     "data": {
      "text/html": [
       "<div>\n",
       "<style scoped>\n",
       "    .dataframe tbody tr th:only-of-type {\n",
       "        vertical-align: middle;\n",
       "    }\n",
       "\n",
       "    .dataframe tbody tr th {\n",
       "        vertical-align: top;\n",
       "    }\n",
       "\n",
       "    .dataframe thead th {\n",
       "        text-align: right;\n",
       "    }\n",
       "</style>\n",
       "<table border=\"1\" class=\"dataframe\">\n",
       "  <thead>\n",
       "    <tr style=\"text-align: right;\">\n",
       "      <th></th>\n",
       "      <th>d1</th>\n",
       "      <th>d2</th>\n",
       "      <th>interaction_type</th>\n",
       "      <th>severity</th>\n",
       "    </tr>\n",
       "  </thead>\n",
       "  <tbody>\n",
       "    <tr>\n",
       "      <th>0</th>\n",
       "      <td>DB06723</td>\n",
       "      <td>DB14489</td>\n",
       "      <td>47</td>\n",
       "      <td>unknown</td>\n",
       "    </tr>\n",
       "    <tr>\n",
       "      <th>1</th>\n",
       "      <td>DB04821</td>\n",
       "      <td>DB00193</td>\n",
       "      <td>51</td>\n",
       "      <td>high</td>\n",
       "    </tr>\n",
       "  </tbody>\n",
       "</table>\n",
       "</div>"
      ],
      "text/plain": [
       "        d1       d2 interaction_type severity\n",
       "0  DB06723  DB14489               47  unknown\n",
       "1  DB04821  DB00193               51     high"
      ]
     },
     "execution_count": 71,
     "metadata": {},
     "output_type": "execute_result"
    }
   ],
   "source": [
    "## Balance data with each label = 10,000 samples\n",
    "balance_df_10000 = balance_dataset(approved_df, n_samples=10000)\n",
    "print(balance_df_10000.shape)\n",
    "balance_df_10000.head(2)"
   ]
  },
  {
   "cell_type": "code",
   "execution_count": 10,
   "id": "86837987-58de-4ef3-8038-b91e864f7333",
   "metadata": {
    "ExecuteTime": {
     "end_time": "2023-06-16T04:33:57.448806Z",
     "start_time": "2023-06-16T04:33:57.436807300Z"
    }
   },
   "outputs": [],
   "source": [
    "interaction_df = pd.read_csv('data/interaction_information_api.csv', delimiter='\\t')\n",
    "# interaction_df.head()"
   ]
  },
  {
   "cell_type": "code",
   "execution_count": 13,
   "id": "2cd08945-64d7-4252-a3af-41d6b882226f",
   "metadata": {
    "ExecuteTime": {
     "end_time": "2023-06-16T04:36:05.898804700Z",
     "start_time": "2023-06-16T04:36:05.878305800Z"
    }
   },
   "outputs": [],
   "source": [
    "# Add Interaction Type and Smiles1, Smiles 2 into negative_df\n",
    "def add_smiles_to_df(df, drug_info_df=drug_info_df, interaction_df=interaction_df):\n",
    "    drug_info_df = drug_info_df[[\"drug_id\", \"generic_name\", \"SMILES\"]]\n",
    "    df = pd.merge(df, drug_info_df, left_on=\"d1\", right_on=\"drug_id\", how=\"left\")\n",
    "    df = df.rename(columns={\"generic_name\": \"d1_name\", \"SMILES\": \"smiles1\"})\n",
    "\n",
    "    df = pd.merge(df, drug_info_df, left_on=\"d2\", right_on=\"drug_id\", how=\"left\")\n",
    "    df = df.rename(columns={\"generic_name\": \"d2_name\", \"SMILES\": \"smiles2\"})\n",
    "    \n",
    "    df = pd.merge(df, interaction_df, left_on=\"interaction_type\", right_on=\"interaction_type\", how=\"left\")\n",
    "    df = df.rename(columns={\"interaction_type_x\": \"interaction_type\"})\n",
    "\n",
    "    df = df[['d1', 'd2', 'd1_name', 'd2_name', 'interaction','interaction_type', 'severity', 'smiles1', 'smiles2']]\n",
    "    return df"
   ]
  },
  {
   "cell_type": "code",
   "execution_count": 14,
   "outputs": [
    {
     "name": "stdout",
     "output_type": "stream",
     "text": [
      "Balance data dimension: (261000, 9)\n",
      "Number of distinct drugs in d1: 2002\n",
      "Number of distinct drugs in d2: 1998\n",
      "Missing value: d1                  0\n",
      "d2                  0\n",
      "d1_name             0\n",
      "d2_name             0\n",
      "interaction         0\n",
      "interaction_type    0\n",
      "severity            0\n",
      "smiles1             0\n",
      "smiles2             0\n",
      "dtype: int64\n"
     ]
    },
    {
     "data": {
      "text/plain": "        d1       d2      d1_name                   d2_name  \\\n0  DB00460  DB08913  Verteporfin  Radium Ra 223 dichloride   \n1  DB08893  DB13345   Mirabegron       Dihydroergocristine   \n\n                                                                       interaction  \\\n0                                                                          Unknown   \n1  #Drug2 may increase the hypertensive and vasoconstricting activities of #Drug1.   \n\n  interaction_type severity  \\\n0                0  unknown   \n1               80  unknown   \n\n                                                                                                                        smiles1  \\\n0  COC(=O)CCC1=C2NC(\\C=C3/N=C(/C=C4\\N\\C(=C/C5=N/C(=C\\2)/C(CCC(O)=O)=C5C)C(C=C)=C4C)C2=CC=C([C@@H](C(=O)OC)[C@@]32C)C(=O)OC)=C1C   \n1                                                                       NC1=NC(CC(=O)NC2=CC=C(CCNC[C@H](O)C3=CC=CC=C3)C=C2)=CS1   \n\n                                                                                                                            smiles2  \n0                                                                                                             [Cl-].[Cl-].[223Ra++]  \n1  [H][C@@]12CCCN1C(=O)[C@H](CC1=CC=CC=C1)N1C(=O)[C@](NC(=O)[C@H]3CN(C)[C@]4([H])CC5=CNC6=CC=CC(=C56)[C@@]4([H])C3)(O[C@@]21O)C(C)C  ",
      "text/html": "<div>\n<style scoped>\n    .dataframe tbody tr th:only-of-type {\n        vertical-align: middle;\n    }\n\n    .dataframe tbody tr th {\n        vertical-align: top;\n    }\n\n    .dataframe thead th {\n        text-align: right;\n    }\n</style>\n<table border=\"1\" class=\"dataframe\">\n  <thead>\n    <tr style=\"text-align: right;\">\n      <th></th>\n      <th>d1</th>\n      <th>d2</th>\n      <th>d1_name</th>\n      <th>d2_name</th>\n      <th>interaction</th>\n      <th>interaction_type</th>\n      <th>severity</th>\n      <th>smiles1</th>\n      <th>smiles2</th>\n    </tr>\n  </thead>\n  <tbody>\n    <tr>\n      <th>0</th>\n      <td>DB00460</td>\n      <td>DB08913</td>\n      <td>Verteporfin</td>\n      <td>Radium Ra 223 dichloride</td>\n      <td>Unknown</td>\n      <td>0</td>\n      <td>unknown</td>\n      <td>COC(=O)CCC1=C2NC(\\C=C3/N=C(/C=C4\\N\\C(=C/C5=N/C(=C\\2)/C(CCC(O)=O)=C5C)C(C=C)=C4C)C2=CC=C([C@@H](C(=O)OC)[C@@]32C)C(=O)OC)=C1C</td>\n      <td>[Cl-].[Cl-].[223Ra++]</td>\n    </tr>\n    <tr>\n      <th>1</th>\n      <td>DB08893</td>\n      <td>DB13345</td>\n      <td>Mirabegron</td>\n      <td>Dihydroergocristine</td>\n      <td>#Drug2 may increase the hypertensive and vasoconstricting activities of #Drug1.</td>\n      <td>80</td>\n      <td>unknown</td>\n      <td>NC1=NC(CC(=O)NC2=CC=C(CCNC[C@H](O)C3=CC=CC=C3)C=C2)=CS1</td>\n      <td>[H][C@@]12CCCN1C(=O)[C@H](CC1=CC=CC=C1)N1C(=O)[C@](NC(=O)[C@H]3CN(C)[C@]4([H])CC5=CNC6=CC=CC(=C56)[C@@]4([H])C3)(O[C@@]21O)C(C)C</td>\n    </tr>\n  </tbody>\n</table>\n</div>"
     },
     "execution_count": 14,
     "metadata": {},
     "output_type": "execute_result"
    }
   ],
   "source": [
    "balance_df_3000 = add_smiles_to_df(balance_df_3000)\n",
    "print('Balance data dimension:', balance_df_3000.shape)\n",
    "print('Number of distinct drugs in d1:', len(balance_df_3000['d1'].unique()))\n",
    "print('Number of distinct drugs in d2:', len(balance_df_3000['d2'].unique()))\n",
    "print('Missing value:', balance_df_3000.isnull().sum())\n",
    "balance_df_3000.head(2)"
   ],
   "metadata": {
    "collapsed": false,
    "ExecuteTime": {
     "end_time": "2023-06-16T04:36:50.213306Z",
     "start_time": "2023-06-16T04:36:49.506808900Z"
    }
   }
  },
  {
   "cell_type": "code",
   "execution_count": 77,
   "id": "1fa79ad6-1b16-4cda-b59b-527ab83cb5df",
   "metadata": {},
   "outputs": [
    {
     "name": "stdout",
     "output_type": "stream",
     "text": [
      "Balance data dimension: (870000, 9)\n",
      "Number of distinct drugs in d1: 2025\n",
      "Number of distinct drugs in d2: 2025\n",
      "Missing value: d1                  0\n",
      "d2                  0\n",
      "d1_name             0\n",
      "d2_name             0\n",
      "interaction         0\n",
      "interaction_type    0\n",
      "severity            0\n",
      "smiles1             0\n",
      "smiles2             0\n",
      "dtype: int64\n"
     ]
    },
    {
     "data": {
      "text/html": [
       "<div>\n",
       "<style scoped>\n",
       "    .dataframe tbody tr th:only-of-type {\n",
       "        vertical-align: middle;\n",
       "    }\n",
       "\n",
       "    .dataframe tbody tr th {\n",
       "        vertical-align: top;\n",
       "    }\n",
       "\n",
       "    .dataframe thead th {\n",
       "        text-align: right;\n",
       "    }\n",
       "</style>\n",
       "<table border=\"1\" class=\"dataframe\">\n",
       "  <thead>\n",
       "    <tr style=\"text-align: right;\">\n",
       "      <th></th>\n",
       "      <th>d1</th>\n",
       "      <th>d2</th>\n",
       "      <th>d1_name</th>\n",
       "      <th>d2_name</th>\n",
       "      <th>interaction</th>\n",
       "      <th>interaction_type</th>\n",
       "      <th>severity</th>\n",
       "      <th>smiles1</th>\n",
       "      <th>smiles2</th>\n",
       "    </tr>\n",
       "  </thead>\n",
       "  <tbody>\n",
       "    <tr>\n",
       "      <th>0</th>\n",
       "      <td>DB06723</td>\n",
       "      <td>DB14489</td>\n",
       "      <td>Aluminum hydroxide</td>\n",
       "      <td>Ferrous succinate</td>\n",
       "      <td>#Drug1 can cause a decrease in the absorption of #Drug2 resulting in a reduced serum concentration and potentially a decrease in efficacy.</td>\n",
       "      <td>47</td>\n",
       "      <td>unknown</td>\n",
       "      <td>[OH-].[OH-].[OH-].[Al+3]</td>\n",
       "      <td>[Fe++].[O-]C(=O)CCC([O-])=O</td>\n",
       "    </tr>\n",
       "    <tr>\n",
       "      <th>1</th>\n",
       "      <td>DB04821</td>\n",
       "      <td>DB00193</td>\n",
       "      <td>Nomifensine</td>\n",
       "      <td>Tramadol</td>\n",
       "      <td>The risk or severity of CNS depression can be increased when #Drug1 is combined with #Drug2.</td>\n",
       "      <td>51</td>\n",
       "      <td>high</td>\n",
       "      <td>CN1CC(C2=CC=CC=C2)C2=C(C1)C(N)=CC=C2</td>\n",
       "      <td>COC1=CC=CC(=C1)C1(O)CCCCC1CN(C)C</td>\n",
       "    </tr>\n",
       "  </tbody>\n",
       "</table>\n",
       "</div>"
      ],
      "text/plain": [
       "        d1       d2             d1_name            d2_name  \\\n",
       "0  DB06723  DB14489  Aluminum hydroxide  Ferrous succinate   \n",
       "1  DB04821  DB00193         Nomifensine           Tramadol   \n",
       "\n",
       "                                                                                                                                  interaction  \\\n",
       "0  #Drug1 can cause a decrease in the absorption of #Drug2 resulting in a reduced serum concentration and potentially a decrease in efficacy.   \n",
       "1                                                The risk or severity of CNS depression can be increased when #Drug1 is combined with #Drug2.   \n",
       "\n",
       "  interaction_type severity                               smiles1  \\\n",
       "0               47  unknown              [OH-].[OH-].[OH-].[Al+3]   \n",
       "1               51     high  CN1CC(C2=CC=CC=C2)C2=C(C1)C(N)=CC=C2   \n",
       "\n",
       "                            smiles2  \n",
       "0       [Fe++].[O-]C(=O)CCC([O-])=O  \n",
       "1  COC1=CC=CC(=C1)C1(O)CCCCC1CN(C)C  "
      ]
     },
     "execution_count": 77,
     "metadata": {},
     "output_type": "execute_result"
    }
   ],
   "source": [
    "balance_df_10000 = add_smiles_to_df(balance_df_10000)\n",
    "print('Balance data dimension:', balance_df_10000.shape)\n",
    "print('Number of distinct drugs in d1:', len(balance_df_10000['d1'].unique()))\n",
    "print('Number of distinct drugs in d2:', len(balance_df_10000['d2'].unique()))\n",
    "print('Missing value:', balance_df_10000.isnull().sum())\n",
    "balance_df_10000.head(2)"
   ]
  },
  {
   "cell_type": "code",
   "execution_count": 124,
   "id": "c4d7191c-736e-4e80-826b-11033d977dea",
   "metadata": {},
   "outputs": [
    {
     "data": {
      "image/png": "[encoded data removed]",
      "text/plain": [
       "<Figure size 576x576 with 1 Axes>"
      ]
     },
     "metadata": {},
     "output_type": "display_data"
    }
   ],
   "source": [
    "fig = plt.figure(figsize=(8,8))\n",
    "sns.set_style('white')\n",
    "sns.histplot(data=balance_df_10000, x='interaction_type',bins = 87, alpha=1, \n",
    "             hue=\"severity\", multiple=\"stack\", palette='cool')\n",
    "plt.ylabel('Count', fontsize=12)\n",
    "plt.xlabel('Interaction Type', fontsize=12)\n",
    "plt.title('Balanced Training Set - Distribution of Interaction Types', fontsize=16)\n",
    "# plt.xticks(rotation=0)\n",
    "labels = list(range(0, 90, 5))\n",
    "plt.xticks(labels)\n",
    "plt.show()"
   ]
  },
  {
   "cell_type": "code",
   "execution_count": 15,
   "outputs": [],
   "source": [
    "# Save Balance Training Data\n",
    "# save the dataframe to csv file\n",
    "balance_df_3000.to_csv('data/ddi_train_balanced_3000.csv', index=False, sep='\\t')"
   ],
   "metadata": {
    "collapsed": false,
    "ExecuteTime": {
     "end_time": "2023-06-16T04:37:44.538306200Z",
     "start_time": "2023-06-16T04:37:42.898805500Z"
    }
   }
  },
  {
   "cell_type": "code",
   "execution_count": 84,
   "id": "3c15cc80-182c-4928-9a2d-ebd417f5301c",
   "metadata": {},
   "outputs": [],
   "source": [
    "# Save Balance Training Data\n",
    "# save the dataframe to csv file\n",
    "balance_df_10000.to_csv('data/ddi_train_balanced_10000.csv', index=False, sep='\\t')"
   ]
  },
  {
   "cell_type": "markdown",
   "id": "2baacf4b-423e-4bf1-a8b2-960cdaa6a468",
   "metadata": {},
   "source": [
    "### Balance to have 20,000 each label"
   ]
  },
  {
   "cell_type": "code",
   "execution_count": 79,
   "id": "1d9e040d-fcfc-4f8d-9e6b-9d930003ca1c",
   "metadata": {},
   "outputs": [
    {
     "name": "stdout",
     "output_type": "stream",
     "text": [
      "Balance data dimension: (1740000, 9)\n",
      "Number of distinct drugs in d1: 2035\n",
      "Number of distinct drugs in d2: 2030\n",
      "Missing value: d1                  0\n",
      "d2                  0\n",
      "d1_name             0\n",
      "d2_name             0\n",
      "interaction         0\n",
      "interaction_type    0\n",
      "severity            0\n",
      "smiles1             0\n",
      "smiles2             0\n",
      "dtype: int64\n"
     ]
    },
    {
     "data": {
      "text/html": [
       "<div>\n",
       "<style scoped>\n",
       "    .dataframe tbody tr th:only-of-type {\n",
       "        vertical-align: middle;\n",
       "    }\n",
       "\n",
       "    .dataframe tbody tr th {\n",
       "        vertical-align: top;\n",
       "    }\n",
       "\n",
       "    .dataframe thead th {\n",
       "        text-align: right;\n",
       "    }\n",
       "</style>\n",
       "<table border=\"1\" class=\"dataframe\">\n",
       "  <thead>\n",
       "    <tr style=\"text-align: right;\">\n",
       "      <th></th>\n",
       "      <th>d1</th>\n",
       "      <th>d2</th>\n",
       "      <th>d1_name</th>\n",
       "      <th>d2_name</th>\n",
       "      <th>interaction</th>\n",
       "      <th>interaction_type</th>\n",
       "      <th>severity</th>\n",
       "      <th>smiles1</th>\n",
       "      <th>smiles2</th>\n",
       "    </tr>\n",
       "  </thead>\n",
       "  <tbody>\n",
       "    <tr>\n",
       "      <th>0</th>\n",
       "      <td>DB00450</td>\n",
       "      <td>DB00692</td>\n",
       "      <td>Droperidol</td>\n",
       "      <td>Phentolamine</td>\n",
       "      <td>#Drug1 may increase the orthostatic hypotensive, hypotensive, and antihypertensive activities of #Drug2.</td>\n",
       "      <td>84</td>\n",
       "      <td>unknown</td>\n",
       "      <td>FC1=CC=C(C=C1)C(=O)CCCN1CCC(=CC1)N1C(=O)NC2=CC=CC=C12</td>\n",
       "      <td>CC1=CC=C(C=C1)N(CC1=NCCN1)C1=CC(O)=CC=C1</td>\n",
       "    </tr>\n",
       "    <tr>\n",
       "      <th>1</th>\n",
       "      <td>DB00222</td>\n",
       "      <td>DB04820</td>\n",
       "      <td>Glimepiride</td>\n",
       "      <td>Nialamide</td>\n",
       "      <td>#Drug2 may increase the hypoglycemic activities of #Drug1.</td>\n",
       "      <td>45</td>\n",
       "      <td>unknown</td>\n",
       "      <td>CCC1=C(C)CN(C(=O)NCCC2=CC=C(C=C2)S(=O)(=O)NC(=O)N[C@H]2CC[C@H](C)CC2)C1=O</td>\n",
       "      <td>O=C(CCNNC(=O)C1=CC=NC=C1)NCC1=CC=CC=C1</td>\n",
       "    </tr>\n",
       "  </tbody>\n",
       "</table>\n",
       "</div>"
      ],
      "text/plain": [
       "        d1       d2      d1_name       d2_name  \\\n",
       "0  DB00450  DB00692   Droperidol  Phentolamine   \n",
       "1  DB00222  DB04820  Glimepiride     Nialamide   \n",
       "\n",
       "                                                                                                interaction  \\\n",
       "0  #Drug1 may increase the orthostatic hypotensive, hypotensive, and antihypertensive activities of #Drug2.   \n",
       "1                                                #Drug2 may increase the hypoglycemic activities of #Drug1.   \n",
       "\n",
       "  interaction_type severity  \\\n",
       "0               84  unknown   \n",
       "1               45  unknown   \n",
       "\n",
       "                                                                     smiles1  \\\n",
       "0                      FC1=CC=C(C=C1)C(=O)CCCN1CCC(=CC1)N1C(=O)NC2=CC=CC=C12   \n",
       "1  CCC1=C(C)CN(C(=O)NCCC2=CC=C(C=C2)S(=O)(=O)NC(=O)N[C@H]2CC[C@H](C)CC2)C1=O   \n",
       "\n",
       "                                    smiles2  \n",
       "0  CC1=CC=C(C=C1)N(CC1=NCCN1)C1=CC(O)=CC=C1  \n",
       "1    O=C(CCNNC(=O)C1=CC=NC=C1)NCC1=CC=CC=C1  "
      ]
     },
     "execution_count": 79,
     "metadata": {},
     "output_type": "execute_result"
    }
   ],
   "source": [
    "## Balance data with each label = 10,000 samples\n",
    "balance_df_20000 = balance_dataset(approved_df, n_samples=20000)\n",
    "balance_df_20000 = add_smiles_to_df(balance_df_20000)\n",
    "print('Balance data dimension:', balance_df_20000.shape)\n",
    "print('Number of distinct drugs in d1:', len(balance_df_20000['d1'].unique()))\n",
    "print('Number of distinct drugs in d2:', len(balance_df_20000['d2'].unique()))\n",
    "print('Missing value:', balance_df_20000.isnull().sum())\n",
    "balance_df_20000.head(2)"
   ]
  },
  {
   "cell_type": "code",
   "execution_count": 85,
   "id": "bf513784-c324-43a0-a222-cf3b113e7656",
   "metadata": {},
   "outputs": [],
   "source": [
    "# save the dataframe to csv file\n",
    "balance_df_20000.to_csv('data/ddi_train_balanced_20000.csv', index=False, sep='\\t')"
   ]
  },
  {
   "cell_type": "code",
   "execution_count": 125,
   "id": "7629b581-ae9c-4cdc-b49f-e5449f43f1c5",
   "metadata": {},
   "outputs": [
    {
     "data": {
      "image/png": "[encoded data removed]",
      "text/plain": [
       "<Figure size 576x576 with 1 Axes>"
      ]
     },
     "metadata": {},
     "output_type": "display_data"
    }
   ],
   "source": [
    "fig = plt.figure(figsize=(8,8))\n",
    "sns.set_style('white')\n",
    "sns.histplot(data=balance_df_20000, x='interaction_type',bins = 87, alpha=1, \n",
    "             hue=\"severity\", multiple=\"stack\", palette='cool')\n",
    "plt.ylabel('Count', fontsize=12)\n",
    "plt.xlabel('Interaction Type', fontsize=12)\n",
    "plt.title('Balanced Training Set - Distribution of Interaction Types', fontsize=16)\n",
    "# plt.xticks(rotation=0)\n",
    "labels = list(range(0, 90, 5))\n",
    "plt.xticks(labels)\n",
    "plt.show()"
   ]
  },
  {
   "cell_type": "markdown",
   "id": "51c6077d-b4a5-4677-9b4b-f79077d96c24",
   "metadata": {},
   "source": [
    "### Balance to have 40,000 each label"
   ]
  },
  {
   "cell_type": "code",
   "execution_count": 81,
   "id": "cd7b7b90-94a7-41c5-b6ef-346725655b26",
   "metadata": {},
   "outputs": [
    {
     "name": "stdout",
     "output_type": "stream",
     "text": [
      "Balance data dimension: (3480000, 9)\n",
      "Number of distinct drugs in d1: 2037\n",
      "Number of distinct drugs in d2: 2034\n",
      "Missing value: d1                  0\n",
      "d2                  0\n",
      "d1_name             0\n",
      "d2_name             0\n",
      "interaction         0\n",
      "interaction_type    0\n",
      "severity            0\n",
      "smiles1             0\n",
      "smiles2             0\n",
      "dtype: int64\n"
     ]
    },
    {
     "data": {
      "text/html": [
       "<div>\n",
       "<style scoped>\n",
       "    .dataframe tbody tr th:only-of-type {\n",
       "        vertical-align: middle;\n",
       "    }\n",
       "\n",
       "    .dataframe tbody tr th {\n",
       "        vertical-align: top;\n",
       "    }\n",
       "\n",
       "    .dataframe thead th {\n",
       "        text-align: right;\n",
       "    }\n",
       "</style>\n",
       "<table border=\"1\" class=\"dataframe\">\n",
       "  <thead>\n",
       "    <tr style=\"text-align: right;\">\n",
       "      <th></th>\n",
       "      <th>d1</th>\n",
       "      <th>d2</th>\n",
       "      <th>d1_name</th>\n",
       "      <th>d2_name</th>\n",
       "      <th>interaction</th>\n",
       "      <th>interaction_type</th>\n",
       "      <th>severity</th>\n",
       "      <th>smiles1</th>\n",
       "      <th>smiles2</th>\n",
       "    </tr>\n",
       "  </thead>\n",
       "  <tbody>\n",
       "    <tr>\n",
       "      <th>0</th>\n",
       "      <td>DB00255</td>\n",
       "      <td>DB01017</td>\n",
       "      <td>Diethylstilbestrol</td>\n",
       "      <td>Minocycline</td>\n",
       "      <td>The serum concentration of #Drug1 can be decreased when it is combined with #Drug2.</td>\n",
       "      <td>26</td>\n",
       "      <td>unknown</td>\n",
       "      <td>CC\\C(=C(\\CC)C1=CC=C(O)C=C1)C1=CC=C(O)C=C1</td>\n",
       "      <td>[H][C@@]12CC3=C(C(O)=CC=C3N(C)C)C(=O)C1=C(O)[C@]1(O)C(=O)C(C(N)=O)=C(O)[C@@H](N(C)C)[C@]1([H])C2</td>\n",
       "    </tr>\n",
       "    <tr>\n",
       "      <th>1</th>\n",
       "      <td>DB11921</td>\n",
       "      <td>DB01108</td>\n",
       "      <td>Deflazacort</td>\n",
       "      <td>Trilostane</td>\n",
       "      <td>The risk or severity of edema formation can be increased when #Drug1 is combined with #Drug2.</td>\n",
       "      <td>65</td>\n",
       "      <td>high</td>\n",
       "      <td>[H][C@@]12C[C@@]3([H])[C@]4([H])CCC5=CC(=O)C=C[C@]5(C)[C@@]4([H])[C@@]([H])(O)C[C@]3(C)[C@@]1(N=C(C)O2)C(=O)COC(C)=O</td>\n",
       "      <td>[H][C@@]12CC[C@H](O)[C@@]1(C)CC[C@@]1([H])[C@@]2([H])CC[C@@]23O[C@@H]2C(O)=C(C[C@]13C)C#N</td>\n",
       "    </tr>\n",
       "  </tbody>\n",
       "</table>\n",
       "</div>"
      ],
      "text/plain": [
       "        d1       d2             d1_name      d2_name  \\\n",
       "0  DB00255  DB01017  Diethylstilbestrol  Minocycline   \n",
       "1  DB11921  DB01108         Deflazacort   Trilostane   \n",
       "\n",
       "                                                                                     interaction  \\\n",
       "0            The serum concentration of #Drug1 can be decreased when it is combined with #Drug2.   \n",
       "1  The risk or severity of edema formation can be increased when #Drug1 is combined with #Drug2.   \n",
       "\n",
       "  interaction_type severity  \\\n",
       "0               26  unknown   \n",
       "1               65     high   \n",
       "\n",
       "                                                                                                                smiles1  \\\n",
       "0                                                                             CC\\C(=C(\\CC)C1=CC=C(O)C=C1)C1=CC=C(O)C=C1   \n",
       "1  [H][C@@]12C[C@@]3([H])[C@]4([H])CCC5=CC(=O)C=C[C@]5(C)[C@@]4([H])[C@@]([H])(O)C[C@]3(C)[C@@]1(N=C(C)O2)C(=O)COC(C)=O   \n",
       "\n",
       "                                                                                            smiles2  \n",
       "0  [H][C@@]12CC3=C(C(O)=CC=C3N(C)C)C(=O)C1=C(O)[C@]1(O)C(=O)C(C(N)=O)=C(O)[C@@H](N(C)C)[C@]1([H])C2  \n",
       "1         [H][C@@]12CC[C@H](O)[C@@]1(C)CC[C@@]1([H])[C@@]2([H])CC[C@@]23O[C@@H]2C(O)=C(C[C@]13C)C#N  "
      ]
     },
     "execution_count": 81,
     "metadata": {},
     "output_type": "execute_result"
    }
   ],
   "source": [
    "## Balance data with each label = 40,000 samples\n",
    "balance_df_40000 = balance_dataset(approved_df, n_samples=40000)\n",
    "balance_df_40000 = add_smiles_to_df(balance_df_40000)\n",
    "print('Balance data dimension:', balance_df_40000.shape)\n",
    "print('Number of distinct drugs in d1:', len(balance_df_40000['d1'].unique()))\n",
    "print('Number of distinct drugs in d2:', len(balance_df_40000['d2'].unique()))\n",
    "print('Missing value:', balance_df_40000.isnull().sum())\n",
    "balance_df_40000.head(2)"
   ]
  },
  {
   "cell_type": "code",
   "execution_count": 126,
   "id": "63ea756f-7b9e-4ce5-9903-64aec592401e",
   "metadata": {},
   "outputs": [
    {
     "data": {
      "image/png": "[encoded data removed]",
      "text/plain": [
       "<Figure size 576x576 with 1 Axes>"
      ]
     },
     "metadata": {},
     "output_type": "display_data"
    }
   ],
   "source": [
    "fig = plt.figure(figsize=(8,8))\n",
    "sns.set_style('white')\n",
    "sns.histplot(data=balance_df_40000, x='interaction_type',bins = 87, alpha=1, \n",
    "             hue=\"severity\", multiple=\"stack\", palette='cool')\n",
    "plt.ylabel('Count', fontsize=12)\n",
    "plt.xlabel('Interaction Type', fontsize=12)\n",
    "plt.title('Balanced Training Set - Distribution of Interaction Types', fontsize=16)\n",
    "# plt.xticks(rotation=0)\n",
    "labels = list(range(0, 90, 5))\n",
    "plt.xticks(labels)\n",
    "plt.show()"
   ]
  },
  {
   "cell_type": "code",
   "execution_count": 86,
   "id": "17e0e23e-d456-4dca-83d3-573f25639f93",
   "metadata": {},
   "outputs": [],
   "source": [
    "# save the dataframe to csv file\n",
    "balance_df_40000.to_csv('data/ddi_train_balanced_40000.csv', index=False, sep='\\t')"
   ]
  }
 ],
 "metadata": {
  "kernelspec": {
   "display_name": "Python 3 (ipykernel)",
   "language": "python",
   "name": "python3"
  },
  "language_info": {
   "codemirror_mode": {
    "name": "ipython",
    "version": 3
   },
   "file_extension": ".py",
   "mimetype": "text/x-python",
   "name": "python",
   "nbconvert_exporter": "python",
   "pygments_lexer": "ipython3",
   "version": "3.8.12"
  }
 },
 "nbformat": 4,
 "nbformat_minor": 5
}
