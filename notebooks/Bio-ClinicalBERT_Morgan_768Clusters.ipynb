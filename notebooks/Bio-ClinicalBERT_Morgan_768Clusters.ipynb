{
 "cells": [
  {
   "cell_type": "markdown",
   "metadata": {
    "id": "WJBcLN0Pbhb-"
   },
   "source": [
    "# Bio-BERT Transformer Trainer\n"
   ]
  },
  {
   "cell_type": "markdown",
   "metadata": {
    "id": "xXRFpxN6az7l"
   },
   "source": [
    "## Set Up"
   ]
  },
  {
   "cell_type": "code",
   "execution_count": 1,
   "metadata": {
    "colab": {
     "base_uri": "https://localhost:8080/"
    },
    "id": "Bzze1tEbzyZ0",
    "outputId": "4bfdc40d-4ad6-4fa1-b950-6281a13fe217"
   },
   "outputs": [
    {
     "name": "stdout",
     "output_type": "stream",
     "text": [
      "Requirement already satisfied: transformers in /opt/conda/envs/pytorch/lib/python3.10/site-packages (4.30.2)\n",
      "Requirement already satisfied: datasets in /opt/conda/envs/pytorch/lib/python3.10/site-packages (2.13.1)\n",
      "Requirement already satisfied: accelerate in /opt/conda/envs/pytorch/lib/python3.10/site-packages (0.20.3)\n",
      "Requirement already satisfied: evaluate in /opt/conda/envs/pytorch/lib/python3.10/site-packages (0.4.0)\n",
      "Collecting gensim==4.2.0\n",
      "  Downloading gensim-4.2.0-cp310-cp310-manylinux_2_17_x86_64.manylinux2014_x86_64.whl (24.0 MB)\n",
      "\u001B[2K     \u001B[90m━━━━━━━━━━━━━━━━━━━━━━━━━━━━━━━━━━━━━━━━\u001B[0m \u001B[32m24.0/24.0 MB\u001B[0m \u001B[31m37.5 MB/s\u001B[0m eta \u001B[36m0:00:00\u001B[0m00:01\u001B[0m00:01\u001B[0m\n",
      "\u001B[?25hCollecting numpy==1.22.4\n",
      "  Downloading numpy-1.22.4-cp310-cp310-manylinux_2_17_x86_64.manylinux2014_x86_64.whl (16.8 MB)\n",
      "\u001B[2K     \u001B[90m━━━━━━━━━━━━━━━━━━━━━━━━━━━━━━━━━━━━━━━━\u001B[0m \u001B[32m16.8/16.8 MB\u001B[0m \u001B[31m98.1 MB/s\u001B[0m eta \u001B[36m0:00:00\u001B[0m00:01\u001B[0m00:01\u001B[0m\n",
      "\u001B[?25hCollecting rdkit==2023.3.1\n",
      "  Downloading rdkit-2023.3.1-cp310-cp310-manylinux_2_17_x86_64.manylinux2014_x86_64.whl (29.7 MB)\n",
      "\u001B[2K     \u001B[90m━━━━━━━━━━━━━━━━━━━━━━━━━━━━━━━━━━━━━━━━\u001B[0m \u001B[32m29.7/29.7 MB\u001B[0m \u001B[31m62.5 MB/s\u001B[0m eta \u001B[36m0:00:00\u001B[0m00:01\u001B[0m00:01\u001B[0m\n",
      "\u001B[?25hRequirement already satisfied: scipy>=0.18.1 in /opt/conda/envs/pytorch/lib/python3.10/site-packages (from gensim==4.2.0) (1.11.0)\n",
      "Collecting smart-open>=1.8.1 (from gensim==4.2.0)\n",
      "  Downloading smart_open-6.3.0-py3-none-any.whl (56 kB)\n",
      "\u001B[2K     \u001B[90m━━━━━━━━━━━━━━━━━━━━━━━━━━━━━━━━━━━━━━━━\u001B[0m \u001B[32m56.8/56.8 kB\u001B[0m \u001B[31m15.1 MB/s\u001B[0m eta \u001B[36m0:00:00\u001B[0m\n",
      "\u001B[?25hRequirement already satisfied: Pillow in /opt/conda/envs/pytorch/lib/python3.10/site-packages (from rdkit==2023.3.1) (9.5.0)\n",
      "Requirement already satisfied: filelock in /opt/conda/envs/pytorch/lib/python3.10/site-packages (from transformers) (3.12.2)\n",
      "Requirement already satisfied: huggingface-hub<1.0,>=0.14.1 in /opt/conda/envs/pytorch/lib/python3.10/site-packages (from transformers) (0.15.1)\n",
      "Requirement already satisfied: packaging>=20.0 in /opt/conda/envs/pytorch/lib/python3.10/site-packages (from transformers) (21.3)\n",
      "Requirement already satisfied: pyyaml>=5.1 in /opt/conda/envs/pytorch/lib/python3.10/site-packages (from transformers) (6.0)\n",
      "Requirement already satisfied: regex!=2019.12.17 in /opt/conda/envs/pytorch/lib/python3.10/site-packages (from transformers) (2023.6.3)\n",
      "Requirement already satisfied: requests in /opt/conda/envs/pytorch/lib/python3.10/site-packages (from transformers) (2.31.0)\n",
      "Requirement already satisfied: tokenizers!=0.11.3,<0.14,>=0.11.1 in /opt/conda/envs/pytorch/lib/python3.10/site-packages (from transformers) (0.13.3)\n",
      "Requirement already satisfied: safetensors>=0.3.1 in /opt/conda/envs/pytorch/lib/python3.10/site-packages (from transformers) (0.3.1)\n",
      "Requirement already satisfied: tqdm>=4.27 in /opt/conda/envs/pytorch/lib/python3.10/site-packages (from transformers) (4.65.0)\n",
      "Requirement already satisfied: pyarrow>=8.0.0 in /opt/conda/envs/pytorch/lib/python3.10/site-packages (from datasets) (12.0.1)\n",
      "Requirement already satisfied: dill<0.3.7,>=0.3.0 in /opt/conda/envs/pytorch/lib/python3.10/site-packages (from datasets) (0.3.6)\n",
      "Requirement already satisfied: pandas in /opt/conda/envs/pytorch/lib/python3.10/site-packages (from datasets) (2.0.2)\n",
      "Requirement already satisfied: xxhash in /opt/conda/envs/pytorch/lib/python3.10/site-packages (from datasets) (3.2.0)\n",
      "Requirement already satisfied: multiprocess in /opt/conda/envs/pytorch/lib/python3.10/site-packages (from datasets) (0.70.14)\n",
      "Requirement already satisfied: fsspec[http]>=2021.11.1 in /opt/conda/envs/pytorch/lib/python3.10/site-packages (from datasets) (2023.6.0)\n",
      "Requirement already satisfied: aiohttp in /opt/conda/envs/pytorch/lib/python3.10/site-packages (from datasets) (3.8.4)\n",
      "Requirement already satisfied: psutil in /opt/conda/envs/pytorch/lib/python3.10/site-packages (from accelerate) (5.9.5)\n",
      "Requirement already satisfied: torch>=1.6.0 in /opt/conda/envs/pytorch/lib/python3.10/site-packages (from accelerate) (2.0.1)\n",
      "Requirement already satisfied: responses<0.19 in /opt/conda/envs/pytorch/lib/python3.10/site-packages (from evaluate) (0.18.0)\n",
      "Requirement already satisfied: attrs>=17.3.0 in /opt/conda/envs/pytorch/lib/python3.10/site-packages (from aiohttp->datasets) (23.1.0)\n",
      "Requirement already satisfied: charset-normalizer<4.0,>=2.0 in /opt/conda/envs/pytorch/lib/python3.10/site-packages (from aiohttp->datasets) (3.1.0)\n",
      "Requirement already satisfied: multidict<7.0,>=4.5 in /opt/conda/envs/pytorch/lib/python3.10/site-packages (from aiohttp->datasets) (6.0.4)\n",
      "Requirement already satisfied: async-timeout<5.0,>=4.0.0a3 in /opt/conda/envs/pytorch/lib/python3.10/site-packages (from aiohttp->datasets) (4.0.2)\n",
      "Requirement already satisfied: yarl<2.0,>=1.0 in /opt/conda/envs/pytorch/lib/python3.10/site-packages (from aiohttp->datasets) (1.9.2)\n",
      "Requirement already satisfied: frozenlist>=1.1.1 in /opt/conda/envs/pytorch/lib/python3.10/site-packages (from aiohttp->datasets) (1.3.3)\n",
      "Requirement already satisfied: aiosignal>=1.1.2 in /opt/conda/envs/pytorch/lib/python3.10/site-packages (from aiohttp->datasets) (1.3.1)\n",
      "Requirement already satisfied: typing-extensions>=3.7.4.3 in /opt/conda/envs/pytorch/lib/python3.10/site-packages (from huggingface-hub<1.0,>=0.14.1->transformers) (4.6.3)\n",
      "Requirement already satisfied: pyparsing!=3.0.5,>=2.0.2 in /opt/conda/envs/pytorch/lib/python3.10/site-packages (from packaging>=20.0->transformers) (3.1.0)\n",
      "Requirement already satisfied: idna<4,>=2.5 in /opt/conda/envs/pytorch/lib/python3.10/site-packages (from requests->transformers) (3.4)\n",
      "Requirement already satisfied: urllib3<3,>=1.21.1 in /opt/conda/envs/pytorch/lib/python3.10/site-packages (from requests->transformers) (1.26.15)\n",
      "Requirement already satisfied: certifi>=2017.4.17 in /opt/conda/envs/pytorch/lib/python3.10/site-packages (from requests->transformers) (2023.5.7)\n",
      "Requirement already satisfied: sympy in /opt/conda/envs/pytorch/lib/python3.10/site-packages (from torch>=1.6.0->accelerate) (1.12)\n",
      "Requirement already satisfied: networkx in /opt/conda/envs/pytorch/lib/python3.10/site-packages (from torch>=1.6.0->accelerate) (3.1)\n",
      "Requirement already satisfied: jinja2 in /opt/conda/envs/pytorch/lib/python3.10/site-packages (from torch>=1.6.0->accelerate) (3.1.2)\n",
      "Requirement already satisfied: python-dateutil>=2.8.2 in /opt/conda/envs/pytorch/lib/python3.10/site-packages (from pandas->datasets) (2.8.2)\n",
      "Requirement already satisfied: pytz>=2020.1 in /opt/conda/envs/pytorch/lib/python3.10/site-packages (from pandas->datasets) (2023.3)\n",
      "Requirement already satisfied: tzdata>=2022.1 in /opt/conda/envs/pytorch/lib/python3.10/site-packages (from pandas->datasets) (2023.3)\n",
      "Requirement already satisfied: six>=1.5 in /opt/conda/envs/pytorch/lib/python3.10/site-packages (from python-dateutil>=2.8.2->pandas->datasets) (1.16.0)\n",
      "Requirement already satisfied: MarkupSafe>=2.0 in /opt/conda/envs/pytorch/lib/python3.10/site-packages (from jinja2->torch>=1.6.0->accelerate) (2.1.3)\n",
      "Requirement already satisfied: mpmath>=0.19 in /opt/conda/envs/pytorch/lib/python3.10/site-packages (from sympy->torch>=1.6.0->accelerate) (1.3.0)\n",
      "Installing collected packages: smart-open, numpy, rdkit, gensim\n",
      "  Attempting uninstall: numpy\n",
      "    Found existing installation: numpy 1.24.4\n",
      "    Uninstalling numpy-1.24.4:\n",
      "      Successfully uninstalled numpy-1.24.4\n",
      "Successfully installed gensim-4.2.0 numpy-1.22.4 rdkit-2023.3.1 smart-open-6.3.0\n"
     ]
    }
   ],
   "source": [
    "# !pip install transformers datasets accelerate evaluate gensim==4.2.0 numpy==1.22.4 rdkit==2023.3.1"
   ]
  },
  {
   "cell_type": "code",
   "execution_count": 2,
   "metadata": {
    "colab": {
     "base_uri": "https://localhost:8080/"
    },
    "id": "GFoFGOtwnw4l",
    "outputId": "84152a8b-de3b-48d8-b4d5-9c68c53c0060"
   },
   "outputs": [],
   "source": [
    "# from google.colab import drive\n",
    "# drive.mount('/content/drive', force_remount=True)"
   ]
  },
  {
   "cell_type": "code",
   "execution_count": 1,
   "metadata": {
    "colab": {
     "base_uri": "https://localhost:8080/"
    },
    "id": "oPctZrfioRL2",
    "outputId": "a93f746f-6db7-4606-83d4-6ce59fc0737d"
   },
   "outputs": [
    {
     "name": "stdout",
     "output_type": "stream",
     "text": [
      "/home/ubuntu/capstone-project\n"
     ]
    }
   ],
   "source": [
    "# cd drive/MyDrive/w210_Capstone/\n",
    "%cd .."
   ]
  },
  {
   "cell_type": "code",
   "execution_count": 2,
   "metadata": {
    "id": "tTc68Jv4qX-Z"
   },
   "outputs": [],
   "source": [
    "import torch\n",
    "import torch.nn as nn\n",
    "from torch.utils.data import Dataset, DataLoader, TensorDataset\n",
    "import torch.backends.cudnn as cudnn\n",
    "import torch.optim as optim\n",
    "\n",
    "from transformers import AutoTokenizer, AutoModel, Trainer, TrainingArguments, AutoConfig\n",
    "from transformers import AdamW, get_cosine_schedule_with_warmup\n",
    "from transformers import BertConfig, BertModel\n",
    "from datasets import load_metric, load_dataset\n",
    "\n",
    "import gensim\n",
    "import re\n",
    "import random\n",
    "import pandas as pd\n",
    "import seaborn as sns\n",
    "import numpy as np\n",
    "import matplotlib.pyplot as plt\n",
    "import pprint\n",
    "import os\n",
    "import shutil\n",
    "import time\n",
    "import datetime\n",
    "\n",
    "from sklearn import metrics\n",
    "from sklearn.metrics import confusion_matrix, classification_report\n",
    "from sklearn.metrics import precision_recall_curve, average_precision_score, auc\n",
    "\n",
    "# from logging import warning\n",
    "import warnings\n",
    "warnings.filterwarnings('ignore')"
   ]
  },
  {
   "cell_type": "code",
   "execution_count": 3,
   "metadata": {
    "colab": {
     "base_uri": "https://localhost:8080/"
    },
    "id": "T3R6Dk4z4aFV",
    "outputId": "69cf9163-496a-4314-f1bf-668ed0788719"
   },
   "outputs": [
    {
     "name": "stdout",
     "output_type": "stream",
     "text": [
      "Number of GPU(s) available: 1\n",
      "GPU device name: NVIDIA A10G\n"
     ]
    }
   ],
   "source": [
    "if torch.cuda.is_available():\n",
    "    device = \"cuda\"\n",
    "    print('Number of GPU(s) available:', torch.cuda.device_count())\n",
    "    print('GPU device name:', torch.cuda.get_device_name(0))\n",
    "\n",
    "else:\n",
    "    print('No GPU available')\n",
    "    device = \"cpu\""
   ]
  },
  {
   "cell_type": "code",
   "execution_count": 4,
   "metadata": {},
   "outputs": [
    {
     "data": {
      "application/vnd.jupyter.widget-view+json": {
       "model_id": "59e2d74cf26e4ff78145dcd5862e0e4d",
       "version_major": 2,
       "version_minor": 0
      },
      "text/plain": [
       "VBox(children=(HTML(value='<center> <img\\nsrc=https://huggingface.co/front/assets/huggingface_logo-noborder.sv…"
      ]
     },
     "metadata": {},
     "output_type": "display_data"
    }
   ],
   "source": [
    "from huggingface_hub import notebook_login\n",
    "\n",
    "notebook_login()"
   ]
  },
  {
   "cell_type": "code",
   "execution_count": 53,
   "metadata": {},
   "outputs": [],
   "source": [
    "RANDOM_SEED = 40\n",
    "np.random.seed(RANDOM_SEED)\n",
    "torch.manual_seed(RANDOM_SEED)\n",
    "torch.cuda.manual_seed_all(RANDOM_SEED)"
   ]
  },
  {
   "cell_type": "markdown",
   "metadata": {
    "id": "OFFMQfFsaNfa"
   },
   "source": [
    "## Training Bio-BERT with Trainer & Hugging Face"
   ]
  },
  {
   "cell_type": "markdown",
   "metadata": {
    "id": "ha7MK613sVtZ"
   },
   "source": [
    "### Build DataSet"
   ]
  },
  {
   "cell_type": "code",
   "execution_count": 6,
   "metadata": {},
   "outputs": [],
   "source": [
    "## Define hyperparameters\n",
    "BATCH_SIZE = 32\n",
    "EPOCHS = 4\n",
    "# LEARNING_RATE = 1e-3\n",
    "LEARNING_RATE = 0.01\n",
    "# LEARNING_RATE = 0.0963\n",
    "WEIGHT_DECAY = 1e-4\n",
    "# WEIGHT_DECAY = 0.01\n",
    "WORKERS = int(os.cpu_count())"
   ]
  },
  {
   "cell_type": "code",
   "execution_count": 7,
   "metadata": {
    "colab": {
     "base_uri": "https://localhost:8080/",
     "height": 87,
     "referenced_widgets": [
      "76ae6df4a5f846dc8d3871bc4b695b3a",
      "820536d02b474b34a0c14e26ae0129db",
      "99e02af33a854247ba87458257c55488",
      "196df6ab8c19433cb69b87303bfabb61",
      "f7210c082d0145bfbb9937861c4766be",
      "9a8e91550af74c2fbc753aed53708ba6",
      "a72fa699908a41f9b4036ec26515afd2",
      "db110dfbde7d4bdf87c0200fc93fa44d",
      "2d1e06c7c1a143d0886f43f3bf63dbe6",
      "a36d87bc8b034bf889bb6867eda2761e",
      "f0074a44d3a4499881c56f89b6f68223"
     ]
    },
    "id": "M5Z9Y31ZaaNW",
    "outputId": "6d338a6b-a2f0-4e67-a51c-f64092acaf58"
   },
   "outputs": [
    {
     "name": "stderr",
     "output_type": "stream",
     "text": [
      "Found cached dataset csv (/home/ubuntu/.cache/huggingface/datasets/csv/default-7c7fda65b4fd85b3/0.0.0/eea64c71ca8b46dd3f537ed218fc9bf495d5707789152eb2764f5c78fa66d59d)\n"
     ]
    },
    {
     "data": {
      "application/vnd.jupyter.widget-view+json": {
       "model_id": "0502cd00a4a947b499c66f0b497339f6",
       "version_major": 2,
       "version_minor": 0
      },
      "text/plain": [
       "  0%|          | 0/3 [00:00<?, ?it/s]"
      ]
     },
     "metadata": {},
     "output_type": "display_data"
    }
   ],
   "source": [
    "# Import data\n",
    "train_file = 'data/binary_ddi/ddi_train_balanced_150k.csv'\n",
    "dev_file = 'data/binary_ddi/ddi_val_binary.csv'\n",
    "test_file = 'data/binary_ddi/ddi_test_binary.csv'\n",
    "\n",
    "dataset = load_dataset('csv',\n",
    "                       sep=\"\\t\",\n",
    "                       data_files={'train': train_file, 'validation': dev_file,'test': test_file})"
   ]
  },
  {
   "cell_type": "code",
   "execution_count": 8,
   "metadata": {
    "colab": {
     "base_uri": "https://localhost:8080/"
    },
    "id": "-y5M5LKoicUv",
    "outputId": "668220e4-b264-433e-ef6d-1b29f7d2877f"
   },
   "outputs": [
    {
     "data": {
      "text/plain": [
       "DatasetDict({\n",
       "    train: Dataset({\n",
       "        features: ['d1', 'd2', 'd1_name', 'd2_name', 'interaction', 'interaction_type', 'severity', 'smiles1', 'smiles2'],\n",
       "        num_rows: 300000\n",
       "    })\n",
       "    validation: Dataset({\n",
       "        features: ['d1', 'd2', 'd1_name', 'd2_name', 'interaction', 'interaction_type', 'severity', 'smiles1', 'smiles2'],\n",
       "        num_rows: 238072\n",
       "    })\n",
       "    test: Dataset({\n",
       "        features: ['d1', 'd2', 'd1_name', 'd2_name', 'interaction', 'interaction_type', 'severity', 'smiles1', 'smiles2'],\n",
       "        num_rows: 186753\n",
       "    })\n",
       "})"
      ]
     },
     "execution_count": 8,
     "metadata": {},
     "output_type": "execute_result"
    }
   ],
   "source": [
    "dataset"
   ]
  },
  {
   "cell_type": "code",
   "execution_count": 10,
   "metadata": {
    "colab": {
     "base_uri": "https://localhost:8080/"
    },
    "id": "Xee1rWQnk9k_",
    "outputId": "dfed798d-5321-456c-bac3-fdfea6350d87"
   },
   "outputs": [
    {
     "name": "stdout",
     "output_type": "stream",
     "text": [
      "mean length of smiles1: 62.479706666666665\n",
      "min length of smiles1: 2\n",
      "max length of smiles1: 748\n",
      "mean length of smiles2: 62.77145\n",
      "min length of smiles2: 3\n",
      "max length of smiles2: 748\n",
      "Value Counts of Labels in Train Set:\n"
     ]
    },
    {
     "data": {
      "text/plain": [
       "interaction_type\n",
       "1    150000\n",
       "0    150000\n",
       "Name: count, dtype: int64"
      ]
     },
     "execution_count": 10,
     "metadata": {},
     "output_type": "execute_result"
    }
   ],
   "source": [
    "df_train = pd.read_csv(train_file, sep='\\t')\n",
    "df_dev = pd.read_csv(dev_file, sep='\\t')\n",
    "df_test = pd.read_csv(test_file, sep='\\t')\n",
    "print(f'''mean length of smiles1: {df_train['smiles1'].map(len).mean()}''')\n",
    "print(f'''min length of smiles1: {df_train['smiles1'].map(len).min()}''')\n",
    "print(f'''max length of smiles1: {df_train['smiles1'].map(len).max()}''')\n",
    "print(f'''mean length of smiles2: {df_train['smiles2'].map(len).mean()}''')\n",
    "print(f'''min length of smiles2: {df_train['smiles2'].map(len).min()}''')\n",
    "print(f'''max length of smiles2: {df_train['smiles2'].map(len).max()}''')\n",
    "print('Value Counts of Labels in Train Set:')\n",
    "df_train.interaction_type.value_counts()"
   ]
  },
  {
   "cell_type": "code",
   "execution_count": 8,
   "metadata": {},
   "outputs": [],
   "source": [
    "## Load the pre-trained BioBERT tokenizer\n",
    "# model_checkpoint = \"dmis-lab/biobert-base-cased-v1.1\"\n",
    "model_checkpoint = \"emilyalsentzer/Bio_ClinicalBERT\"\n",
    "\n",
    "# Tokenize & Pre-process Data\n",
    "tokenizer = AutoTokenizer.from_pretrained(model_checkpoint)"
   ]
  },
  {
   "cell_type": "code",
   "execution_count": 9,
   "metadata": {},
   "outputs": [],
   "source": [
    "from transformers import PretrainedConfig\n",
    "\n",
    "class BioClinicalBertConfig(PretrainedConfig):\n",
    "    model_type = \"bert\"\n",
    "\n",
    "    def __init__(\n",
    "        self,\n",
    "        hidden_size1: int = 68, \n",
    "        hidden_size2: int = 54, \n",
    "        hidden_size3: int = 40, \n",
    "        hidden3_dropout: float = 0.1, \n",
    "        unfreeze: bool = False,\n",
    "        layer_norm_eps: float = 1e-12,\n",
    "        pad_token_id: int = 0,\n",
    "        position_embedding_type: str = \"absolute\",\n",
    "        use_cache: bool = True,\n",
    "        **kwargs,\n",
    "    ):\n",
    "        self.hidden_size1 = hidden_size1\n",
    "        self.hidden_size2 = hidden_size2\n",
    "        self.hidden_size3 = hidden_size3\n",
    "        self.hidden3_dropout = hidden3_dropout\n",
    "        self.unfreeze = unfreeze\n",
    "        self.layer_norm_eps = layer_norm_eps\n",
    "        self.pad_token_id = pad_token_id\n",
    "        self.position_embedding_type = position_embedding_type\n",
    "        self.use_cache = use_cache\n",
    "        super().__init__(**kwargs)\n",
    "\n",
    "config = BioClinicalBertConfig.from_pretrained(\n",
    "    model_checkpoint,\n",
    "    label2id={\"NEGATIVE\": 0, \"POSITIVE\": 1},\n",
    "    id2label={0: \"NEGATIVE\", 1: \"POSITIVE\"},\n",
    "    unfreeze=False,\n",
    "    \n",
    ")"
   ]
  },
  {
   "cell_type": "code",
   "execution_count": 10,
   "metadata": {},
   "outputs": [
    {
     "name": "stdout",
     "output_type": "stream",
     "text": [
      "BioClinicalBertConfig {\n",
      "  \"attention_probs_dropout_prob\": 0.1,\n",
      "  \"hidden3_dropout\": 0.1,\n",
      "  \"hidden_act\": \"gelu\",\n",
      "  \"hidden_dropout_prob\": 0.1,\n",
      "  \"hidden_size\": 768,\n",
      "  \"hidden_size1\": 68,\n",
      "  \"hidden_size2\": 54,\n",
      "  \"hidden_size3\": 40,\n",
      "  \"id2label\": {\n",
      "    \"0\": \"NEGATIVE\",\n",
      "    \"1\": \"POSITIVE\"\n",
      "  },\n",
      "  \"initializer_range\": 0.02,\n",
      "  \"intermediate_size\": 3072,\n",
      "  \"label2id\": {\n",
      "    \"NEGATIVE\": 0,\n",
      "    \"POSITIVE\": 1\n",
      "  },\n",
      "  \"layer_norm_eps\": 1e-12,\n",
      "  \"max_position_embeddings\": 512,\n",
      "  \"model_type\": \"bert\",\n",
      "  \"num_attention_heads\": 12,\n",
      "  \"num_hidden_layers\": 12,\n",
      "  \"position_embedding_type\": \"absolute\",\n",
      "  \"transformers_version\": \"4.30.2\",\n",
      "  \"type_vocab_size\": 2,\n",
      "  \"unfreeze\": false,\n",
      "  \"use_cache\": true,\n",
      "  \"vocab_size\": 28996\n",
      "}\n",
      "\n"
     ]
    }
   ],
   "source": [
    "print(config)"
   ]
  },
  {
   "cell_type": "code",
   "execution_count": 11,
   "metadata": {
    "id": "LLoQ-3MNiqbg"
   },
   "outputs": [],
   "source": [
    "# Create Combined SMILES column, seperated by [SEP] token between SMILES1 & SMILES2\n",
    "def preprocess_data(examples):\n",
    "    source_inputs = []\n",
    "    for sm1, sm2 in zip(examples['smiles1'], examples['smiles2']):\n",
    "        # Ensure feeding both smile 1 & smiles 2 into input by truncating if the smiles are too loong\n",
    "        source_input = \"[CLS]\" + sm1[:250] + \"[SEP]\" + sm2[:250] + \"[SEP]\"\n",
    "        source_inputs.append(source_input)\n",
    "    model_inputs = tokenizer(source_inputs,\n",
    "                             max_length=512,\n",
    "                             padding=\"max_length\",\n",
    "                             truncation=True,\n",
    "                             return_token_type_ids=False,\n",
    "                             return_tensors='pt'\n",
    "                             )\n",
    "\n",
    "    model_inputs[\"labels\"] = examples['interaction_type']\n",
    "\n",
    "    return model_inputs"
   ]
  },
  {
   "cell_type": "code",
   "execution_count": 12,
   "metadata": {
    "colab": {
     "base_uri": "https://localhost:8080/",
     "height": 17,
     "referenced_widgets": [
      "5818bab97ad94b5c93e774e6c9c545d8",
      "097ef633e83343e1a40a0b860b0279b4",
      "98a98588193948c38b3727d35a1ee0bf",
      "e0cc1cf6d0a942c3987f5ca2de7bf910",
      "6dba82586eeb4cd193f857706bf21dbd",
      "898055f1e82d4188abb75beac211ff3b",
      "007b1fb1d03d433387c5f394485d75cd",
      "f07d75c06b9e4ba7a445bed142643e94",
      "757c7f1330184e7d95008950c805ccb0",
      "b2a19d1ba5e54048884adee46a58ed80",
      "d518b869420e45849a9c21840efae484",
      "404bfceb697342a3a2f90db43fc79aac",
      "20c0885b542d4592bc82f9dbc95f2967",
      "6ed68724fa3443f0a01911b77fd76c17",
      "8bb576c1c5444ebb8eb1390468720f9d",
      "c54d39bf63a44ca8a7b0c0d00bd8deb5",
      "56a0098d47674ae09cb4c412345a4468",
      "c76764720a6f44dcb967ecce4c151faf",
      "137bb4b8f3fb41c8a6b7f4dac3c5472b",
      "eeac483e4beb4e3896af7caea41c674d",
      "c650b3b8ba514f0b9709bfdf9545ddca",
      "c9f2f317092848ed9585601925c7ecb5",
      "f15fd9aeb5fd4178bd0af9c55ee28750",
      "36ea4a3c568f4831905834e5c5b0d03a",
      "96f62dc6ed08480ab0758377d003a0a3",
      "dfec57bc90384adcb9e122edb0bccebc",
      "35b2002728b9472d869a90b58b064bcf",
      "1c613814b0ce4d348f8d4c5d4f547324",
      "af8e311a99774dbe9f814aa242772264",
      "6050f464fa194b3b9f44b9fb1d563c6f",
      "03b91f9d7549487f8a108585a6a45a24",
      "22d025d278634f8585ac8227e752d177",
      "60499b5778ba4f6590d11beaf10de5e8"
     ]
    },
    "id": "7oIAe5EBjiaX",
    "outputId": "b158da6c-4bee-4a16-df56-c755694b2c19"
   },
   "outputs": [
    {
     "name": "stderr",
     "output_type": "stream",
     "text": [
      "Loading cached processed dataset at /home/ubuntu/.cache/huggingface/datasets/csv/default-7c7fda65b4fd85b3/0.0.0/eea64c71ca8b46dd3f537ed218fc9bf495d5707789152eb2764f5c78fa66d59d/cache-302195fe960a0721.arrow\n"
     ]
    },
    {
     "data": {
      "application/vnd.jupyter.widget-view+json": {
       "model_id": "",
       "version_major": 2,
       "version_minor": 0
      },
      "text/plain": [
       "Map:   0%|          | 0/238072 [00:00<?, ? examples/s]"
      ]
     },
     "metadata": {},
     "output_type": "display_data"
    },
    {
     "name": "stderr",
     "output_type": "stream",
     "text": [
      "Loading cached processed dataset at /home/ubuntu/.cache/huggingface/datasets/csv/default-7c7fda65b4fd85b3/0.0.0/eea64c71ca8b46dd3f537ed218fc9bf495d5707789152eb2764f5c78fa66d59d/cache-88c4a77060bf653b.arrow\n"
     ]
    },
    {
     "data": {
      "text/plain": [
       "Dataset({\n",
       "    features: ['input_ids', 'attention_mask', 'labels'],\n",
       "    num_rows: 30000\n",
       "})"
      ]
     },
     "execution_count": 12,
     "metadata": {},
     "output_type": "execute_result"
    }
   ],
   "source": [
    "encoded_train_ds = dataset['train'].map(preprocess_data, batched=True, remove_columns=dataset['train'].column_names)\n",
    "encoded_val_ds_full = dataset['validation'].map(preprocess_data, batched=True, remove_columns=dataset['validation'].column_names)\n",
    "encoded_val_ds = encoded_val_ds_full.select(indices=range(30000))  # Subset to smaller valset for faster training\n",
    "encoded_test_ds = dataset['test'].map(preprocess_data, batched=True, remove_columns=dataset['test'].column_names)\n",
    "\n",
    "encoded_val_ds"
   ]
  },
  {
   "cell_type": "code",
   "execution_count": 13,
   "metadata": {},
   "outputs": [
    {
     "data": {
      "text/plain": [
       "1"
      ]
     },
     "execution_count": 13,
     "metadata": {},
     "output_type": "execute_result"
    }
   ],
   "source": [
    "encoded_val_ds[0]['labels']"
   ]
  },
  {
   "cell_type": "code",
   "execution_count": 15,
   "metadata": {},
   "outputs": [
    {
     "data": {
      "text/plain": [
       "2343.75"
      ]
     },
     "execution_count": 15,
     "metadata": {},
     "output_type": "execute_result"
    }
   ],
   "source": [
    "len(encoded_train_ds)/BATCH_SIZE"
   ]
  },
  {
   "cell_type": "markdown",
   "metadata": {
    "id": "Xy16VEjasbQP"
   },
   "source": [
    "### Build Model, Set up Trainer"
   ]
  },
  {
   "cell_type": "code",
   "execution_count": 13,
   "metadata": {
    "id": "31jV6ksxreLS"
   },
   "outputs": [],
   "source": [
    "from transformers import BertPreTrainedModel, BertModel\n",
    "\n",
    "class BioClinicalBertClassification(BertPreTrainedModel):\n",
    "    config_class = BioClinicalBertConfig\n",
    "    \n",
    "    def __init__(self, config, num_labels=2):\n",
    "        super(BioClinicalBertClassification, self).__init__(config)\n",
    "        self.bert_model = BertModel(config=config)\n",
    "        self.num_labels = num_labels\n",
    "\n",
    "        # Unfreeze the last BERT transformer layer\n",
    "        if config.unfreeze == \"last layer\":\n",
    "            for name, param in self.bert_model.named_parameters():\n",
    "                if 'bert_model.encoder.layer.11' in name:\n",
    "                    param.requires_grad = True\n",
    "                else:\n",
    "                    param.requires_grad = False\n",
    "        if config.unfreeze == \"all layers\":\n",
    "            for name, param in self.bert_model.named_parameters():\n",
    "                param.requires_grad = True\n",
    "        else:\n",
    "            for name, param in self.bert_model.named_parameters():\n",
    "                param.requires_grad = False\n",
    "\n",
    "        self.bert_hidden_size = self.bert_model.config.hidden_size\n",
    "        self.hidden_layer = nn.Linear(self.bert_hidden_size, config.hidden_size1)\n",
    "        self.hidden_layer2 = nn.Linear(config.hidden_size1, config.hidden_size2)\n",
    "        self.hidden_layer3 = nn.Linear(config.hidden_size2, config.hidden_size3)\n",
    "\n",
    "        self.drop_out = nn.Dropout(config.hidden3_dropout)\n",
    "\n",
    "        if self.num_labels >= 2:\n",
    "            self.classification = nn.Linear(config.hidden_size3, self.num_labels)\n",
    "        else:\n",
    "            self.classification = nn.Linear(config.hidden_size3, 1)\n",
    "            \n",
    "        self.GeLU = nn.GELU()\n",
    "        self.Sigmoid = nn.Sigmoid()\n",
    "\n",
    "    def forward(self, input_ids=None, attention_mask=None, labels=None):\n",
    "        bert_output = self.bert_model(input_ids=input_ids,\n",
    "                                      attention_mask=attention_mask)\n",
    "        \n",
    "        # pooler_token = bert_output[1]\n",
    "        pooler_token = bert_output[0][:,0]\n",
    "\n",
    "        hidden_ouput = self.GeLU(self.hidden_layer(pooler_token))\n",
    "        hidden_ouput = self.drop_out(hidden_ouput)\n",
    "        hidden_ouput = self.GeLU(self.hidden_layer2(hidden_ouput))\n",
    "        hidden_ouput = self.drop_out(hidden_ouput)\n",
    "        hidden_ouput = self.GeLU(self.hidden_layer3(hidden_ouput))\n",
    "        hidden_ouput = self.drop_out(hidden_ouput)      \n",
    "\n",
    "        if self.num_labels >= 2:\n",
    "            logits = self.classification(hidden_ouput)\n",
    "\n",
    "        else:           \n",
    "            logits = self.Sigmoid(self.classification(hidden_ouput))\n",
    "            logits = logits.flatten()\n",
    "        \n",
    "        if self.num_labels == 1 and labels is not None:\n",
    "            loss_fct = nn.BCELoss()\n",
    "            loss = loss_fct(logits, labels.float())\n",
    "            return {\"loss\": loss, \"logits\": logits}\n",
    "        \n",
    "        if self.num_labels >= 2 and labels is not None:\n",
    "            loss_fct = nn.CrossEntropyLoss()\n",
    "            loss = loss_fct(logits.view(-1, self.num_labels), labels.view(-1))\n",
    "            return {\"loss\": loss, \"logits\": logits}\n",
    "\n",
    "        return {\"logits\": logits}"
   ]
  },
  {
   "cell_type": "code",
   "execution_count": 14,
   "metadata": {},
   "outputs": [],
   "source": [
    "BioClinicalBertConfig.register_for_auto_class()\n",
    "BioClinicalBertClassification.register_for_auto_class(\"AutoModelForSequenceClassification\")"
   ]
  },
  {
   "cell_type": "code",
   "execution_count": 15,
   "metadata": {
    "colab": {
     "base_uri": "https://localhost:8080/"
    },
    "id": "sdVLCLOBzgdO",
    "outputId": "9fefd8b5-95c2-4dc4-8477-1cfcab1aa389"
   },
   "outputs": [
    {
     "data": {
      "text/plain": [
       "Metric(name: \"glue\", features: {'predictions': Value(dtype='int64', id=None), 'references': Value(dtype='int64', id=None)}, usage: \"\"\"\n",
       "Compute GLUE evaluation metric associated to each GLUE dataset.\n",
       "Args:\n",
       "    predictions: list of predictions to score.\n",
       "        Each translation should be tokenized into a list of tokens.\n",
       "    references: list of lists of references for each translation.\n",
       "        Each reference should be tokenized into a list of tokens.\n",
       "Returns: depending on the GLUE subset, one or several of:\n",
       "    \"accuracy\": Accuracy\n",
       "    \"f1\": F1 score\n",
       "    \"pearson\": Pearson Correlation\n",
       "    \"spearmanr\": Spearman Correlation\n",
       "    \"matthews_correlation\": Matthew Correlation\n",
       "Examples:\n",
       "\n",
       "    >>> glue_metric = datasets.load_metric('glue', 'sst2')  # 'sst2' or any of [\"mnli\", \"mnli_mismatched\", \"mnli_matched\", \"qnli\", \"rte\", \"wnli\", \"hans\"]\n",
       "    >>> references = [0, 1]\n",
       "    >>> predictions = [0, 1]\n",
       "    >>> results = glue_metric.compute(predictions=predictions, references=references)\n",
       "    >>> print(results)\n",
       "    {'accuracy': 1.0}\n",
       "\n",
       "    >>> glue_metric = datasets.load_metric('glue', 'mrpc')  # 'mrpc' or 'qqp'\n",
       "    >>> references = [0, 1]\n",
       "    >>> predictions = [0, 1]\n",
       "    >>> results = glue_metric.compute(predictions=predictions, references=references)\n",
       "    >>> print(results)\n",
       "    {'accuracy': 1.0, 'f1': 1.0}\n",
       "\n",
       "    >>> glue_metric = datasets.load_metric('glue', 'stsb')\n",
       "    >>> references = [0., 1., 2., 3., 4., 5.]\n",
       "    >>> predictions = [0., 1., 2., 3., 4., 5.]\n",
       "    >>> results = glue_metric.compute(predictions=predictions, references=references)\n",
       "    >>> print({\"pearson\": round(results[\"pearson\"], 2), \"spearmanr\": round(results[\"spearmanr\"], 2)})\n",
       "    {'pearson': 1.0, 'spearmanr': 1.0}\n",
       "\n",
       "    >>> glue_metric = datasets.load_metric('glue', 'cola')\n",
       "    >>> references = [0, 1]\n",
       "    >>> predictions = [0, 1]\n",
       "    >>> results = glue_metric.compute(predictions=predictions, references=references)\n",
       "    >>> print(results)\n",
       "    {'matthews_correlation': 1.0}\n",
       "\"\"\", stored examples: 0)"
      ]
     },
     "execution_count": 15,
     "metadata": {},
     "output_type": "execute_result"
    }
   ],
   "source": [
    "# Load Metric\n",
    "metric = load_metric('glue', 'sst2')\n",
    "metric"
   ]
  },
  {
   "cell_type": "code",
   "execution_count": 16,
   "metadata": {
    "colab": {
     "base_uri": "https://localhost:8080/"
    },
    "id": "qT2dFzLK12bl",
    "outputId": "226669f4-7c34-4b22-ac25-f615ae402c92"
   },
   "outputs": [
    {
     "data": {
      "text/plain": [
       "{'accuracy': 0.53125}"
      ]
     },
     "execution_count": 16,
     "metadata": {},
     "output_type": "execute_result"
    }
   ],
   "source": [
    "# Test metric calculation\n",
    "fake_preds = np.random.randint(0, 2, size=(64,))\n",
    "fake_labels = np.random.randint(0, 2, size=(64,))\n",
    "metric.compute(predictions=fake_preds, references=fake_labels)"
   ]
  },
  {
   "cell_type": "code",
   "execution_count": 17,
   "metadata": {},
   "outputs": [],
   "source": [
    "def compute_metrics(eval_pred, num_labels=2):\n",
    "    predictions, labels = eval_pred\n",
    "        \n",
    "    if num_labels >= 2:\n",
    "        # probability\n",
    "        # softmax = np.exp(predictions) / np.sum(np.exp(predictions), axis=1, keepdims=True)\n",
    "        # scores = softmax[:, 1]\n",
    "        predictions = np.argmax(predictions, axis=1)\n",
    "    else:\n",
    "        predictions =(np.array(predictions) >= 0.5).astype(float)\n",
    "        # scores = np.array(predictions)\n",
    "\n",
    "    # Accuracy\n",
    "    result = metric.compute(predictions=predictions, references=labels)\n",
    "\n",
    "    # Add F2 Score\n",
    "    result[\"f2\"] = metrics.fbeta_score(labels, predictions, average=\"binary\", pos_label=1, beta=2)\n",
    "\n",
    "    # Add Recall\n",
    "    result[\"recall\"] = metrics.recall_score(labels, predictions, average=\"binary\", pos_label=1)\n",
    "\n",
    "    # Add Precision\n",
    "    result[\"precision\"] = metrics.precision_score(labels, predictions, average=\"binary\", pos_label=1)\n",
    "\n",
    "    # Matthew Correlation\n",
    "    result[\"mcc\"] = metrics.matthews_corrcoef(labels, predictions)\n",
    "\n",
    "    # Area Under Precision, Recall Curve\n",
    "    # precisions, recalls, thresholds = precision_recall_curve(labels, scores)\n",
    "    # result[\"AUPRC\"] = auc(precisions, recalls)\n",
    "    \n",
    "    return {k: round(v, 4) for k, v in result.items()}"
   ]
  },
  {
   "cell_type": "code",
   "execution_count": 18,
   "metadata": {
    "id": "NuIuh85eGQ1D"
   },
   "outputs": [],
   "source": [
    "# Clear out cuda before training\n",
    "torch.cuda.empty_cache()"
   ]
  },
  {
   "cell_type": "code",
   "execution_count": 19,
   "metadata": {
    "colab": {
     "base_uri": "https://localhost:8080/"
    },
    "id": "udBZi20U5TCz",
    "outputId": "491c340e-92ae-4296-bcea-b58d835e4d34"
   },
   "outputs": [
    {
     "name": "stdout",
     "output_type": "stream",
     "text": [
      "bert_model.encoder.layer.11.attention.output.dense.weight   (768, 768)\n",
      "bert_model.encoder.layer.11.attention.output.dense.bias       (768,)\n",
      "bert_model.encoder.layer.11.attention.output.LayerNorm.weight       (768,)\n",
      "bert_model.encoder.layer.11.attention.output.LayerNorm.bias       (768,)\n",
      "bert_model.encoder.layer.11.intermediate.dense.weight    (3072, 768)\n",
      "bert_model.encoder.layer.11.intermediate.dense.bias          (3072,)\n",
      "bert_model.encoder.layer.11.output.dense.weight          (768, 3072)\n",
      "bert_model.encoder.layer.11.output.dense.bias                 (768,)\n",
      "bert_model.encoder.layer.11.output.LayerNorm.weight           (768,)\n",
      "bert_model.encoder.layer.11.output.LayerNorm.bias             (768,)\n",
      "bert_model.pooler.dense.weight                            (768, 768)\n",
      "bert_model.pooler.dense.bias                                  (768,)\n",
      "hidden_layer.weight                                        (68, 768)\n",
      "hidden_layer.bias                                              (68,)\n",
      "hidden_layer2.weight                                        (54, 68)\n",
      "hidden_layer2.bias                                             (54,)\n",
      "hidden_layer3.weight                                        (40, 54)\n",
      "hidden_layer3.bias                                             (40,)\n",
      "classification.weight                                        (2, 40)\n",
      "classification.bias                                             (2,)\n",
      "Number of steps: 37500\n"
     ]
    }
   ],
   "source": [
    "# Model Initilization\n",
    "model = BioClinicalBertClassification(config)\n",
    "\n",
    "# # Pretrain model weights\n",
    "# pretrained_model = AutoModel.from_pretrained(model_checkpoint)\n",
    "# # Load pre-train weights to BioBert model\n",
    "# model.bert_model.load_state_dict(pretrained_model.state_dict())\n",
    "\n",
    "# Load training weights checkpoint, for continue training\n",
    "# pretrained_weights = torch.load('models/BioBERTFrozen.pth')\n",
    "pretrained_weights = torch.load('models/Bio_ClinicalBERT_DDI_2heads2.pth')\n",
    "model.load_state_dict(pretrained_weights )\n",
    "\n",
    "\n",
    "\n",
    "# from transformers import AutoModelForSequenceClassification\n",
    "# model = AutoModelForSequenceClassification.from_pretrained(\n",
    "#     model_checkpoint, config=config\n",
    "# )\n",
    "\n",
    "# Print out models params for checking\n",
    "params = list(model.named_parameters())\n",
    "for p in params[-20:]:\n",
    "    print(\"{:<55} {:>12}\".format(p[0], str(tuple(p[1].size()))))\n",
    "\n",
    "# Optimizer & Schedular\n",
    "# optimizer = AdamW(model.parameters(), lr=LEARNING_RATE, \n",
    "#                   weight_decay=WEIGHT_DECAY)\n",
    "# scheduler = get_cosine_schedule_with_warmup(optimizer,\n",
    "#                                             num_warmup_steps=10,\n",
    "#                                             num_training_steps=30000)\n",
    "\n",
    "# Optimizer\n",
    "optimizer = optim.Adadelta(model.parameters(), lr=LEARNING_RATE, weight_decay=WEIGHT_DECAY)\n",
    "\n",
    "# Create learning rate scheduler.\n",
    "T_max = round(EPOCHS*len(encoded_train_ds)/BATCH_SIZE)\n",
    "print('Number of steps:', T_max)\n",
    "scheduler = optim.lr_scheduler.CosineAnnealingLR(optimizer, T_max=T_max)"
   ]
  },
  {
   "cell_type": "markdown",
   "metadata": {
    "id": "SK4dmr6bAQ_l"
   },
   "source": [
    "### Training with Trainer"
   ]
  },
  {
   "cell_type": "code",
   "execution_count": 20,
   "metadata": {
    "id": "QJjQAs32vvaN"
   },
   "outputs": [],
   "source": [
    "# Training Arguments\n",
    "model_dir = \"Bio_ClinicalBERT_DDI_finetuned\"\n",
    "\n",
    "args = TrainingArguments(\n",
    "    output_dir=model_dir,\n",
    "    overwrite_output_dir=True,\n",
    "    do_train=True,\n",
    "    evaluation_strategy=\"epoch\",\n",
    "    save_strategy=\"epoch\",\n",
    "    # evaluation_strategy=\"steps\",\n",
    "    # eval_steps=1000,\n",
    "    # logging_strategy=\"steps\",\n",
    "    # logging_steps=1000,\n",
    "    learning_rate=LEARNING_RATE,\n",
    "    per_device_train_batch_size=BATCH_SIZE,\n",
    "    per_device_eval_batch_size=BATCH_SIZE,\n",
    "    weight_decay=WEIGHT_DECAY,\n",
    "    num_train_epochs=EPOCHS,\n",
    "    load_best_model_at_end=True,\n",
    "    metric_for_best_model=\"accuracy\",\n",
    "    remove_unused_columns=True,\n",
    "    push_to_hub=True,\n",
    ")"
   ]
  },
  {
   "cell_type": "code",
   "execution_count": 21,
   "metadata": {
    "id": "s_VoRJsF6e2A"
   },
   "outputs": [
    {
     "name": "stderr",
     "output_type": "stream",
     "text": [
      "/home/ubuntu/capstone-project/Bio_ClinicalBERT_DDI_finetuned is already a clone of https://huggingface.co/ltmai/Bio_ClinicalBERT_DDI_finetuned. Make sure you pull the latest changes with `repo.git_pull()`.\n"
     ]
    }
   ],
   "source": [
    "trainer = Trainer(\n",
    "    model,\n",
    "    args,\n",
    "    train_dataset=encoded_train_ds,\n",
    "    eval_dataset=encoded_val_ds,\n",
    "    tokenizer=tokenizer,\n",
    "    optimizers=(optimizer, scheduler),\n",
    "    compute_metrics=compute_metrics,\n",
    ")"
   ]
  },
  {
   "cell_type": "code",
   "execution_count": 27,
   "metadata": {},
   "outputs": [
    {
     "name": "stderr",
     "output_type": "stream",
     "text": [
      "You're using a BertTokenizerFast tokenizer. Please note that with a fast tokenizer, using the `__call__` method is faster than using a method to encode the text followed by a call to the `pad` method to get a padded encoding.\n"
     ]
    },
    {
     "data": {
      "text/html": [
       "\n",
       "    <div>\n",
       "      \n",
       "      <progress value='469' max='469' style='width:300px; height:20px; vertical-align: middle;'></progress>\n",
       "      [469/469 04:32]\n",
       "    </div>\n",
       "    "
      ],
      "text/plain": [
       "<IPython.core.display.HTML object>"
      ]
     },
     "metadata": {},
     "output_type": "display_data"
    },
    {
     "data": {
      "text/plain": [
       "{'eval_loss': 0.683655321598053,\n",
       " 'eval_accuracy': 0.5625,\n",
       " 'eval_f2': 0.8649,\n",
       " 'eval_recall': 0.9991,\n",
       " 'eval_precision': 0.5626,\n",
       " 'eval_mcc': -0.0005,\n",
       " 'eval_runtime': 274.3033,\n",
       " 'eval_samples_per_second': 109.368,\n",
       " 'eval_steps_per_second': 1.71}"
      ]
     },
     "execution_count": 27,
     "metadata": {},
     "output_type": "execute_result"
    }
   ],
   "source": [
    "# Starting metrics from last checkpoint training\n",
    "# EVALUATION BEFORE TRAINING\n",
    "trainer.evaluate()"
   ]
  },
  {
   "cell_type": "code",
   "execution_count": 22,
   "metadata": {
    "colab": {
     "base_uri": "https://localhost:8080/",
     "height": 907
    },
    "id": "ZjDRxNmC_-wL",
    "outputId": "1a60180c-50f4-49da-9f8a-2d40aa58fddc",
    "scrolled": true
   },
   "outputs": [
    {
     "name": "stderr",
     "output_type": "stream",
     "text": [
      "You're using a BertTokenizerFast tokenizer. Please note that with a fast tokenizer, using the `__call__` method is faster than using a method to encode the text followed by a call to the `pad` method to get a padded encoding.\n"
     ]
    },
    {
     "data": {
      "text/html": [
       "\n",
       "    <div>\n",
       "      \n",
       "      <progress value='37500' max='37500' style='width:300px; height:20px; vertical-align: middle;'></progress>\n",
       "      [37500/37500 3:42:04, Epoch 4/4]\n",
       "    </div>\n",
       "    <table border=\"1\" class=\"dataframe\">\n",
       "  <thead>\n",
       " <tr style=\"text-align: left;\">\n",
       "      <th>Epoch</th>\n",
       "      <th>Training Loss</th>\n",
       "      <th>Validation Loss</th>\n",
       "      <th>Accuracy</th>\n",
       "      <th>F2</th>\n",
       "      <th>Recall</th>\n",
       "      <th>Precision</th>\n",
       "      <th>Mcc</th>\n",
       "    </tr>\n",
       "  </thead>\n",
       "  <tbody>\n",
       "    <tr>\n",
       "      <td>1</td>\n",
       "      <td>0.678500</td>\n",
       "      <td>0.685292</td>\n",
       "      <td>0.555000</td>\n",
       "      <td>0.717400</td>\n",
       "      <td>0.762900</td>\n",
       "      <td>0.579400</td>\n",
       "      <td>0.057200</td>\n",
       "    </tr>\n",
       "    <tr>\n",
       "      <td>2</td>\n",
       "      <td>0.676800</td>\n",
       "      <td>0.686711</td>\n",
       "      <td>0.551900</td>\n",
       "      <td>0.688000</td>\n",
       "      <td>0.720800</td>\n",
       "      <td>0.582200</td>\n",
       "      <td>0.059800</td>\n",
       "    </tr>\n",
       "    <tr>\n",
       "      <td>3</td>\n",
       "      <td>0.677700</td>\n",
       "      <td>0.687498</td>\n",
       "      <td>0.550100</td>\n",
       "      <td>0.670300</td>\n",
       "      <td>0.696100</td>\n",
       "      <td>0.584000</td>\n",
       "      <td>0.061600</td>\n",
       "    </tr>\n",
       "    <tr>\n",
       "      <td>4</td>\n",
       "      <td>0.679000</td>\n",
       "      <td>0.687751</td>\n",
       "      <td>0.548200</td>\n",
       "      <td>0.658300</td>\n",
       "      <td>0.679800</td>\n",
       "      <td>0.584700</td>\n",
       "      <td>0.061200</td>\n",
       "    </tr>\n",
       "  </tbody>\n",
       "</table><p>"
      ],
      "text/plain": [
       "<IPython.core.display.HTML object>"
      ]
     },
     "metadata": {},
     "output_type": "display_data"
    },
    {
     "name": "stderr",
     "output_type": "stream",
     "text": [
      "We can't save the code defining BioClinicalBertClassification(\n",
      "  (bert_model): BertModel(\n",
      "    (embeddings): BertEmbeddings(\n",
      "      (word_embeddings): Embedding(28996, 768)\n",
      "      (position_embeddings): Embedding(512, 768)\n",
      "      (token_type_embeddings): Embedding(2, 768)\n",
      "      (LayerNorm): LayerNorm((768,), eps=1e-12, elementwise_affine=True)\n",
      "      (dropout): Dropout(p=0.1, inplace=False)\n",
      "    )\n",
      "    (encoder): BertEncoder(\n",
      "      (layer): ModuleList(\n",
      "        (0-11): 12 x BertLayer(\n",
      "          (attention): BertAttention(\n",
      "            (self): BertSelfAttention(\n",
      "              (query): Linear(in_features=768, out_features=768, bias=True)\n",
      "              (key): Linear(in_features=768, out_features=768, bias=True)\n",
      "              (value): Linear(in_features=768, out_features=768, bias=True)\n",
      "              (dropout): Dropout(p=0.1, inplace=False)\n",
      "            )\n",
      "            (output): BertSelfOutput(\n",
      "              (dense): Linear(in_features=768, out_features=768, bias=True)\n",
      "              (LayerNorm): LayerNorm((768,), eps=1e-12, elementwise_affine=True)\n",
      "              (dropout): Dropout(p=0.1, inplace=False)\n",
      "            )\n",
      "          )\n",
      "          (intermediate): BertIntermediate(\n",
      "            (dense): Linear(in_features=768, out_features=3072, bias=True)\n",
      "            (intermediate_act_fn): GELUActivation()\n",
      "          )\n",
      "          (output): BertOutput(\n",
      "            (dense): Linear(in_features=3072, out_features=768, bias=True)\n",
      "            (LayerNorm): LayerNorm((768,), eps=1e-12, elementwise_affine=True)\n",
      "            (dropout): Dropout(p=0.1, inplace=False)\n",
      "          )\n",
      "        )\n",
      "      )\n",
      "    )\n",
      "    (pooler): BertPooler(\n",
      "      (dense): Linear(in_features=768, out_features=768, bias=True)\n",
      "      (activation): Tanh()\n",
      "    )\n",
      "  )\n",
      "  (hidden_layer): Linear(in_features=768, out_features=68, bias=True)\n",
      "  (hidden_layer2): Linear(in_features=68, out_features=54, bias=True)\n",
      "  (hidden_layer3): Linear(in_features=54, out_features=40, bias=True)\n",
      "  (drop_out): Dropout(p=0.1, inplace=False)\n",
      "  (classification): Linear(in_features=40, out_features=2, bias=True)\n",
      "  (GeLU): GELU(approximate='none')\n",
      "  (Sigmoid): Sigmoid()\n",
      ") in Bio_ClinicalBERT_DDI_finetuned/checkpoint-9375 as it's been defined in __main__. You should put this code in a separate module so we can include it in the saved folder and make it easier to share via the Hub.\n",
      "We can't save the code defining BioClinicalBertConfig {\n",
      "  \"architectures\": [\n",
      "    \"BioClinicalBertClassification\"\n",
      "  ],\n",
      "  \"attention_probs_dropout_prob\": 0.1,\n",
      "  \"hidden3_dropout\": 0.1,\n",
      "  \"hidden_act\": \"gelu\",\n",
      "  \"hidden_dropout_prob\": 0.1,\n",
      "  \"hidden_size\": 768,\n",
      "  \"hidden_size1\": 68,\n",
      "  \"hidden_size2\": 54,\n",
      "  \"hidden_size3\": 40,\n",
      "  \"id2label\": {\n",
      "    \"0\": \"NEGATIVE\",\n",
      "    \"1\": \"POSITIVE\"\n",
      "  },\n",
      "  \"initializer_range\": 0.02,\n",
      "  \"intermediate_size\": 3072,\n",
      "  \"label2id\": {\n",
      "    \"NEGATIVE\": 0,\n",
      "    \"POSITIVE\": 1\n",
      "  },\n",
      "  \"layer_norm_eps\": 1e-12,\n",
      "  \"max_position_embeddings\": 512,\n",
      "  \"model_type\": \"bert\",\n",
      "  \"num_attention_heads\": 12,\n",
      "  \"num_hidden_layers\": 12,\n",
      "  \"position_embedding_type\": \"absolute\",\n",
      "  \"torch_dtype\": \"float32\",\n",
      "  \"transformers_version\": \"4.30.2\",\n",
      "  \"type_vocab_size\": 2,\n",
      "  \"unfreeze\": false,\n",
      "  \"use_cache\": true,\n",
      "  \"vocab_size\": 28996\n",
      "}\n",
      " in Bio_ClinicalBERT_DDI_finetuned/checkpoint-9375 as it's been defined in __main__. You should put this code in a separate module so we can include it in the saved folder and make it easier to share via the Hub.\n",
      "We can't save the code defining BioClinicalBertClassification(\n",
      "  (bert_model): BertModel(\n",
      "    (embeddings): BertEmbeddings(\n",
      "      (word_embeddings): Embedding(28996, 768)\n",
      "      (position_embeddings): Embedding(512, 768)\n",
      "      (token_type_embeddings): Embedding(2, 768)\n",
      "      (LayerNorm): LayerNorm((768,), eps=1e-12, elementwise_affine=True)\n",
      "      (dropout): Dropout(p=0.1, inplace=False)\n",
      "    )\n",
      "    (encoder): BertEncoder(\n",
      "      (layer): ModuleList(\n",
      "        (0-11): 12 x BertLayer(\n",
      "          (attention): BertAttention(\n",
      "            (self): BertSelfAttention(\n",
      "              (query): Linear(in_features=768, out_features=768, bias=True)\n",
      "              (key): Linear(in_features=768, out_features=768, bias=True)\n",
      "              (value): Linear(in_features=768, out_features=768, bias=True)\n",
      "              (dropout): Dropout(p=0.1, inplace=False)\n",
      "            )\n",
      "            (output): BertSelfOutput(\n",
      "              (dense): Linear(in_features=768, out_features=768, bias=True)\n",
      "              (LayerNorm): LayerNorm((768,), eps=1e-12, elementwise_affine=True)\n",
      "              (dropout): Dropout(p=0.1, inplace=False)\n",
      "            )\n",
      "          )\n",
      "          (intermediate): BertIntermediate(\n",
      "            (dense): Linear(in_features=768, out_features=3072, bias=True)\n",
      "            (intermediate_act_fn): GELUActivation()\n",
      "          )\n",
      "          (output): BertOutput(\n",
      "            (dense): Linear(in_features=3072, out_features=768, bias=True)\n",
      "            (LayerNorm): LayerNorm((768,), eps=1e-12, elementwise_affine=True)\n",
      "            (dropout): Dropout(p=0.1, inplace=False)\n",
      "          )\n",
      "        )\n",
      "      )\n",
      "    )\n",
      "    (pooler): BertPooler(\n",
      "      (dense): Linear(in_features=768, out_features=768, bias=True)\n",
      "      (activation): Tanh()\n",
      "    )\n",
      "  )\n",
      "  (hidden_layer): Linear(in_features=768, out_features=68, bias=True)\n",
      "  (hidden_layer2): Linear(in_features=68, out_features=54, bias=True)\n",
      "  (hidden_layer3): Linear(in_features=54, out_features=40, bias=True)\n",
      "  (drop_out): Dropout(p=0.1, inplace=False)\n",
      "  (classification): Linear(in_features=40, out_features=2, bias=True)\n",
      "  (GeLU): GELU(approximate='none')\n",
      "  (Sigmoid): Sigmoid()\n",
      ") in Bio_ClinicalBERT_DDI_finetuned/checkpoint-18750 as it's been defined in __main__. You should put this code in a separate module so we can include it in the saved folder and make it easier to share via the Hub.\n",
      "We can't save the code defining BioClinicalBertConfig {\n",
      "  \"architectures\": [\n",
      "    \"BioClinicalBertClassification\"\n",
      "  ],\n",
      "  \"attention_probs_dropout_prob\": 0.1,\n",
      "  \"hidden3_dropout\": 0.1,\n",
      "  \"hidden_act\": \"gelu\",\n",
      "  \"hidden_dropout_prob\": 0.1,\n",
      "  \"hidden_size\": 768,\n",
      "  \"hidden_size1\": 68,\n",
      "  \"hidden_size2\": 54,\n",
      "  \"hidden_size3\": 40,\n",
      "  \"id2label\": {\n",
      "    \"0\": \"NEGATIVE\",\n",
      "    \"1\": \"POSITIVE\"\n",
      "  },\n",
      "  \"initializer_range\": 0.02,\n",
      "  \"intermediate_size\": 3072,\n",
      "  \"label2id\": {\n",
      "    \"NEGATIVE\": 0,\n",
      "    \"POSITIVE\": 1\n",
      "  },\n",
      "  \"layer_norm_eps\": 1e-12,\n",
      "  \"max_position_embeddings\": 512,\n",
      "  \"model_type\": \"bert\",\n",
      "  \"num_attention_heads\": 12,\n",
      "  \"num_hidden_layers\": 12,\n",
      "  \"position_embedding_type\": \"absolute\",\n",
      "  \"torch_dtype\": \"float32\",\n",
      "  \"transformers_version\": \"4.30.2\",\n",
      "  \"type_vocab_size\": 2,\n",
      "  \"unfreeze\": false,\n",
      "  \"use_cache\": true,\n",
      "  \"vocab_size\": 28996\n",
      "}\n",
      " in Bio_ClinicalBERT_DDI_finetuned/checkpoint-18750 as it's been defined in __main__. You should put this code in a separate module so we can include it in the saved folder and make it easier to share via the Hub.\n",
      "We can't save the code defining BioClinicalBertClassification(\n",
      "  (bert_model): BertModel(\n",
      "    (embeddings): BertEmbeddings(\n",
      "      (word_embeddings): Embedding(28996, 768)\n",
      "      (position_embeddings): Embedding(512, 768)\n",
      "      (token_type_embeddings): Embedding(2, 768)\n",
      "      (LayerNorm): LayerNorm((768,), eps=1e-12, elementwise_affine=True)\n",
      "      (dropout): Dropout(p=0.1, inplace=False)\n",
      "    )\n",
      "    (encoder): BertEncoder(\n",
      "      (layer): ModuleList(\n",
      "        (0-11): 12 x BertLayer(\n",
      "          (attention): BertAttention(\n",
      "            (self): BertSelfAttention(\n",
      "              (query): Linear(in_features=768, out_features=768, bias=True)\n",
      "              (key): Linear(in_features=768, out_features=768, bias=True)\n",
      "              (value): Linear(in_features=768, out_features=768, bias=True)\n",
      "              (dropout): Dropout(p=0.1, inplace=False)\n",
      "            )\n",
      "            (output): BertSelfOutput(\n",
      "              (dense): Linear(in_features=768, out_features=768, bias=True)\n",
      "              (LayerNorm): LayerNorm((768,), eps=1e-12, elementwise_affine=True)\n",
      "              (dropout): Dropout(p=0.1, inplace=False)\n",
      "            )\n",
      "          )\n",
      "          (intermediate): BertIntermediate(\n",
      "            (dense): Linear(in_features=768, out_features=3072, bias=True)\n",
      "            (intermediate_act_fn): GELUActivation()\n",
      "          )\n",
      "          (output): BertOutput(\n",
      "            (dense): Linear(in_features=3072, out_features=768, bias=True)\n",
      "            (LayerNorm): LayerNorm((768,), eps=1e-12, elementwise_affine=True)\n",
      "            (dropout): Dropout(p=0.1, inplace=False)\n",
      "          )\n",
      "        )\n",
      "      )\n",
      "    )\n",
      "    (pooler): BertPooler(\n",
      "      (dense): Linear(in_features=768, out_features=768, bias=True)\n",
      "      (activation): Tanh()\n",
      "    )\n",
      "  )\n",
      "  (hidden_layer): Linear(in_features=768, out_features=68, bias=True)\n",
      "  (hidden_layer2): Linear(in_features=68, out_features=54, bias=True)\n",
      "  (hidden_layer3): Linear(in_features=54, out_features=40, bias=True)\n",
      "  (drop_out): Dropout(p=0.1, inplace=False)\n",
      "  (classification): Linear(in_features=40, out_features=2, bias=True)\n",
      "  (GeLU): GELU(approximate='none')\n",
      "  (Sigmoid): Sigmoid()\n",
      ") in Bio_ClinicalBERT_DDI_finetuned/checkpoint-28125 as it's been defined in __main__. You should put this code in a separate module so we can include it in the saved folder and make it easier to share via the Hub.\n",
      "We can't save the code defining BioClinicalBertConfig {\n",
      "  \"architectures\": [\n",
      "    \"BioClinicalBertClassification\"\n",
      "  ],\n",
      "  \"attention_probs_dropout_prob\": 0.1,\n",
      "  \"hidden3_dropout\": 0.1,\n",
      "  \"hidden_act\": \"gelu\",\n",
      "  \"hidden_dropout_prob\": 0.1,\n",
      "  \"hidden_size\": 768,\n",
      "  \"hidden_size1\": 68,\n",
      "  \"hidden_size2\": 54,\n",
      "  \"hidden_size3\": 40,\n",
      "  \"id2label\": {\n",
      "    \"0\": \"NEGATIVE\",\n",
      "    \"1\": \"POSITIVE\"\n",
      "  },\n",
      "  \"initializer_range\": 0.02,\n",
      "  \"intermediate_size\": 3072,\n",
      "  \"label2id\": {\n",
      "    \"NEGATIVE\": 0,\n",
      "    \"POSITIVE\": 1\n",
      "  },\n",
      "  \"layer_norm_eps\": 1e-12,\n",
      "  \"max_position_embeddings\": 512,\n",
      "  \"model_type\": \"bert\",\n",
      "  \"num_attention_heads\": 12,\n",
      "  \"num_hidden_layers\": 12,\n",
      "  \"position_embedding_type\": \"absolute\",\n",
      "  \"torch_dtype\": \"float32\",\n",
      "  \"transformers_version\": \"4.30.2\",\n",
      "  \"type_vocab_size\": 2,\n",
      "  \"unfreeze\": false,\n",
      "  \"use_cache\": true,\n",
      "  \"vocab_size\": 28996\n",
      "}\n",
      " in Bio_ClinicalBERT_DDI_finetuned/checkpoint-28125 as it's been defined in __main__. You should put this code in a separate module so we can include it in the saved folder and make it easier to share via the Hub.\n",
      "We can't save the code defining BioClinicalBertClassification(\n",
      "  (bert_model): BertModel(\n",
      "    (embeddings): BertEmbeddings(\n",
      "      (word_embeddings): Embedding(28996, 768)\n",
      "      (position_embeddings): Embedding(512, 768)\n",
      "      (token_type_embeddings): Embedding(2, 768)\n",
      "      (LayerNorm): LayerNorm((768,), eps=1e-12, elementwise_affine=True)\n",
      "      (dropout): Dropout(p=0.1, inplace=False)\n",
      "    )\n",
      "    (encoder): BertEncoder(\n",
      "      (layer): ModuleList(\n",
      "        (0-11): 12 x BertLayer(\n",
      "          (attention): BertAttention(\n",
      "            (self): BertSelfAttention(\n",
      "              (query): Linear(in_features=768, out_features=768, bias=True)\n",
      "              (key): Linear(in_features=768, out_features=768, bias=True)\n",
      "              (value): Linear(in_features=768, out_features=768, bias=True)\n",
      "              (dropout): Dropout(p=0.1, inplace=False)\n",
      "            )\n",
      "            (output): BertSelfOutput(\n",
      "              (dense): Linear(in_features=768, out_features=768, bias=True)\n",
      "              (LayerNorm): LayerNorm((768,), eps=1e-12, elementwise_affine=True)\n",
      "              (dropout): Dropout(p=0.1, inplace=False)\n",
      "            )\n",
      "          )\n",
      "          (intermediate): BertIntermediate(\n",
      "            (dense): Linear(in_features=768, out_features=3072, bias=True)\n",
      "            (intermediate_act_fn): GELUActivation()\n",
      "          )\n",
      "          (output): BertOutput(\n",
      "            (dense): Linear(in_features=3072, out_features=768, bias=True)\n",
      "            (LayerNorm): LayerNorm((768,), eps=1e-12, elementwise_affine=True)\n",
      "            (dropout): Dropout(p=0.1, inplace=False)\n",
      "          )\n",
      "        )\n",
      "      )\n",
      "    )\n",
      "    (pooler): BertPooler(\n",
      "      (dense): Linear(in_features=768, out_features=768, bias=True)\n",
      "      (activation): Tanh()\n",
      "    )\n",
      "  )\n",
      "  (hidden_layer): Linear(in_features=768, out_features=68, bias=True)\n",
      "  (hidden_layer2): Linear(in_features=68, out_features=54, bias=True)\n",
      "  (hidden_layer3): Linear(in_features=54, out_features=40, bias=True)\n",
      "  (drop_out): Dropout(p=0.1, inplace=False)\n",
      "  (classification): Linear(in_features=40, out_features=2, bias=True)\n",
      "  (GeLU): GELU(approximate='none')\n",
      "  (Sigmoid): Sigmoid()\n",
      ") in Bio_ClinicalBERT_DDI_finetuned/checkpoint-37500 as it's been defined in __main__. You should put this code in a separate module so we can include it in the saved folder and make it easier to share via the Hub.\n",
      "We can't save the code defining BioClinicalBertConfig {\n",
      "  \"architectures\": [\n",
      "    \"BioClinicalBertClassification\"\n",
      "  ],\n",
      "  \"attention_probs_dropout_prob\": 0.1,\n",
      "  \"hidden3_dropout\": 0.1,\n",
      "  \"hidden_act\": \"gelu\",\n",
      "  \"hidden_dropout_prob\": 0.1,\n",
      "  \"hidden_size\": 768,\n",
      "  \"hidden_size1\": 68,\n",
      "  \"hidden_size2\": 54,\n",
      "  \"hidden_size3\": 40,\n",
      "  \"id2label\": {\n",
      "    \"0\": \"NEGATIVE\",\n",
      "    \"1\": \"POSITIVE\"\n",
      "  },\n",
      "  \"initializer_range\": 0.02,\n",
      "  \"intermediate_size\": 3072,\n",
      "  \"label2id\": {\n",
      "    \"NEGATIVE\": 0,\n",
      "    \"POSITIVE\": 1\n",
      "  },\n",
      "  \"layer_norm_eps\": 1e-12,\n",
      "  \"max_position_embeddings\": 512,\n",
      "  \"model_type\": \"bert\",\n",
      "  \"num_attention_heads\": 12,\n",
      "  \"num_hidden_layers\": 12,\n",
      "  \"position_embedding_type\": \"absolute\",\n",
      "  \"torch_dtype\": \"float32\",\n",
      "  \"transformers_version\": \"4.30.2\",\n",
      "  \"type_vocab_size\": 2,\n",
      "  \"unfreeze\": false,\n",
      "  \"use_cache\": true,\n",
      "  \"vocab_size\": 28996\n",
      "}\n",
      " in Bio_ClinicalBERT_DDI_finetuned/checkpoint-37500 as it's been defined in __main__. You should put this code in a separate module so we can include it in the saved folder and make it easier to share via the Hub.\n"
     ]
    },
    {
     "data": {
      "text/plain": [
       "TrainOutput(global_step=37500, training_loss=0.6782601220703125, metrics={'train_runtime': 13325.0567, 'train_samples_per_second': 90.056, 'train_steps_per_second': 2.814, 'total_flos': 3.159425138688e+17, 'train_loss': 0.6782601220703125, 'epoch': 4.0})"
      ]
     },
     "execution_count": 22,
     "metadata": {},
     "output_type": "execute_result"
    }
   ],
   "source": [
    "# TRANING\n",
    "trainer.train()"
   ]
  },
  {
   "cell_type": "markdown",
   "metadata": {},
   "source": [
    "### Evaluation"
   ]
  },
  {
   "cell_type": "code",
   "execution_count": 23,
   "metadata": {},
   "outputs": [
    {
     "data": {
      "text/html": [
       "\n",
       "    <div>\n",
       "      \n",
       "      <progress value='5837' max='5837' style='width:300px; height:20px; vertical-align: middle;'></progress>\n",
       "      [5837/5837 28:22]\n",
       "    </div>\n",
       "    "
      ],
      "text/plain": [
       "<IPython.core.display.HTML object>"
      ]
     },
     "metadata": {},
     "output_type": "display_data"
    },
    {
     "data": {
      "text/plain": [
       "{'eval_loss': 0.6686776280403137,\n",
       " 'eval_accuracy': 0.592,\n",
       " 'eval_f2': 0.7169,\n",
       " 'eval_recall': 0.7257,\n",
       " 'eval_precision': 0.6836,\n",
       " 'eval_mcc': 0.0495,\n",
       " 'eval_runtime': 1703.9991,\n",
       " 'eval_samples_per_second': 109.597,\n",
       " 'eval_steps_per_second': 3.425,\n",
       " 'epoch': 4.0}"
      ]
     },
     "execution_count": 23,
     "metadata": {},
     "output_type": "execute_result"
    }
   ],
   "source": [
    "# EVALUATION AFTER TRAINING\n",
    "trainer.evaluate(encoded_test_ds)"
   ]
  },
  {
   "cell_type": "code",
   "execution_count": 24,
   "metadata": {
    "scrolled": true
   },
   "outputs": [
    {
     "name": "stderr",
     "output_type": "stream",
     "text": [
      "We can't save the code defining BioClinicalBertClassification(\n",
      "  (bert_model): BertModel(\n",
      "    (embeddings): BertEmbeddings(\n",
      "      (word_embeddings): Embedding(28996, 768)\n",
      "      (position_embeddings): Embedding(512, 768)\n",
      "      (token_type_embeddings): Embedding(2, 768)\n",
      "      (LayerNorm): LayerNorm((768,), eps=1e-12, elementwise_affine=True)\n",
      "      (dropout): Dropout(p=0.1, inplace=False)\n",
      "    )\n",
      "    (encoder): BertEncoder(\n",
      "      (layer): ModuleList(\n",
      "        (0-11): 12 x BertLayer(\n",
      "          (attention): BertAttention(\n",
      "            (self): BertSelfAttention(\n",
      "              (query): Linear(in_features=768, out_features=768, bias=True)\n",
      "              (key): Linear(in_features=768, out_features=768, bias=True)\n",
      "              (value): Linear(in_features=768, out_features=768, bias=True)\n",
      "              (dropout): Dropout(p=0.1, inplace=False)\n",
      "            )\n",
      "            (output): BertSelfOutput(\n",
      "              (dense): Linear(in_features=768, out_features=768, bias=True)\n",
      "              (LayerNorm): LayerNorm((768,), eps=1e-12, elementwise_affine=True)\n",
      "              (dropout): Dropout(p=0.1, inplace=False)\n",
      "            )\n",
      "          )\n",
      "          (intermediate): BertIntermediate(\n",
      "            (dense): Linear(in_features=768, out_features=3072, bias=True)\n",
      "            (intermediate_act_fn): GELUActivation()\n",
      "          )\n",
      "          (output): BertOutput(\n",
      "            (dense): Linear(in_features=3072, out_features=768, bias=True)\n",
      "            (LayerNorm): LayerNorm((768,), eps=1e-12, elementwise_affine=True)\n",
      "            (dropout): Dropout(p=0.1, inplace=False)\n",
      "          )\n",
      "        )\n",
      "      )\n",
      "    )\n",
      "    (pooler): BertPooler(\n",
      "      (dense): Linear(in_features=768, out_features=768, bias=True)\n",
      "      (activation): Tanh()\n",
      "    )\n",
      "  )\n",
      "  (hidden_layer): Linear(in_features=768, out_features=68, bias=True)\n",
      "  (hidden_layer2): Linear(in_features=68, out_features=54, bias=True)\n",
      "  (hidden_layer3): Linear(in_features=54, out_features=40, bias=True)\n",
      "  (drop_out): Dropout(p=0.1, inplace=False)\n",
      "  (classification): Linear(in_features=40, out_features=2, bias=True)\n",
      "  (GeLU): GELU(approximate='none')\n",
      "  (Sigmoid): Sigmoid()\n",
      ") in Bio_ClinicalBERT_DDI_finetuned as it's been defined in __main__. You should put this code in a separate module so we can include it in the saved folder and make it easier to share via the Hub.\n",
      "We can't save the code defining BioClinicalBertConfig {\n",
      "  \"architectures\": [\n",
      "    \"BioClinicalBertClassification\"\n",
      "  ],\n",
      "  \"attention_probs_dropout_prob\": 0.1,\n",
      "  \"hidden3_dropout\": 0.1,\n",
      "  \"hidden_act\": \"gelu\",\n",
      "  \"hidden_dropout_prob\": 0.1,\n",
      "  \"hidden_size\": 768,\n",
      "  \"hidden_size1\": 68,\n",
      "  \"hidden_size2\": 54,\n",
      "  \"hidden_size3\": 40,\n",
      "  \"id2label\": {\n",
      "    \"0\": \"NEGATIVE\",\n",
      "    \"1\": \"POSITIVE\"\n",
      "  },\n",
      "  \"initializer_range\": 0.02,\n",
      "  \"intermediate_size\": 3072,\n",
      "  \"label2id\": {\n",
      "    \"NEGATIVE\": 0,\n",
      "    \"POSITIVE\": 1\n",
      "  },\n",
      "  \"layer_norm_eps\": 1e-12,\n",
      "  \"max_position_embeddings\": 512,\n",
      "  \"model_type\": \"bert\",\n",
      "  \"num_attention_heads\": 12,\n",
      "  \"num_hidden_layers\": 12,\n",
      "  \"position_embedding_type\": \"absolute\",\n",
      "  \"torch_dtype\": \"float32\",\n",
      "  \"transformers_version\": \"4.30.2\",\n",
      "  \"type_vocab_size\": 2,\n",
      "  \"unfreeze\": false,\n",
      "  \"use_cache\": true,\n",
      "  \"vocab_size\": 28996\n",
      "}\n",
      " in Bio_ClinicalBERT_DDI_finetuned as it's been defined in __main__. You should put this code in a separate module so we can include it in the saved folder and make it easier to share via the Hub.\n",
      "To https://huggingface.co/ltmai/Bio_ClinicalBERT_DDI_finetuned\n",
      "   5c3c426..18c5dee  main -> main\n",
      "\n",
      "To https://huggingface.co/ltmai/Bio_ClinicalBERT_DDI_finetuned\n",
      "   18c5dee..de11cf9  main -> main\n",
      "\n"
     ]
    },
    {
     "data": {
      "text/plain": [
       "'https://huggingface.co/ltmai/Bio_ClinicalBERT_DDI_finetuned/commit/18c5deeab17f9dcb4f1e422f1f1f76a077e69617'"
      ]
     },
     "execution_count": 24,
     "metadata": {},
     "output_type": "execute_result"
    }
   ],
   "source": [
    "trainer.push_to_hub()\n",
    "#model.push_to_hub()"
   ]
  },
  {
   "cell_type": "code",
   "execution_count": null,
   "metadata": {
    "id": "fWFn2oQqAfd5"
   },
   "outputs": [],
   "source": [
    "# save training weights\n",
    "# trainer.save_pretrain('Bio_ClinicalBERT_DDI_finetuned')\n",
    "torch.save(model.state_dict(), 'models/Bio_ClinicalBERT_DDI_2heads3.pth')"
   ]
  },
  {
   "cell_type": "markdown",
   "metadata": {},
   "source": [
    "## Training Manually - SMILES Morgan & Action + Target BioClinicalBERT"
   ]
  },
  {
   "cell_type": "markdown",
   "metadata": {},
   "source": [
    "### Build Model"
   ]
  },
  {
   "cell_type": "code",
   "execution_count": 86,
   "metadata": {},
   "outputs": [],
   "source": [
    "# Define hyperparameters\n",
    "BATCH_SIZE = 16\n",
    "EPOCHS = 30\n",
    "LEARNING_RATE = 0.001\n",
    "# MOMENTUM = 0.9\n",
    "WEIGHT_DECAY = 0.01\n",
    "WORKERS = int(os.cpu_count())"
   ]
  },
  {
   "cell_type": "code",
   "execution_count": 87,
   "metadata": {},
   "outputs": [],
   "source": [
    "# Clear out cuda before training\n",
    "torch.cuda.empty_cache()"
   ]
  },
  {
   "cell_type": "code",
   "execution_count": 88,
   "metadata": {},
   "outputs": [],
   "source": [
    "# BERT Model\n",
    "class MorganBioBertClassification(nn.Module):\n",
    "    def __init__(self,output_dim=1,\n",
    "                 hidden_size=68, hidden_size2=54, hidden_size3=40,\n",
    "                 dropout=0.1, unfreeze=False):\n",
    "        super(MorganBioBertClassification, self).__init__()\n",
    "        self.bert_model = AutoModel.from_pretrained(\"emilyalsentzer/Bio_ClinicalBERT\")\n",
    "\n",
    "        # Unfreeze the last BERT transformer layer\n",
    "        if unfreeze == \"last layer\":\n",
    "            for name, param in self.bert_model.named_parameters():\n",
    "                if 'bert_model.encoder.layer.11' in name:\n",
    "                    param.requires_grad = True\n",
    "                else:\n",
    "                    param.requires_grad = False\n",
    "        if unfreeze == \"last two\":\n",
    "            for name, param in self.bert_model.named_parameters():\n",
    "                if 'bert_model.encoder.layer.11' in name or 'bert_model.encoder.layer.10' in name:\n",
    "                    param.requires_grad = True\n",
    "                else:\n",
    "                    param.requires_grad = False\n",
    "        if unfreeze == \"all layers\":\n",
    "            for name, param in self.bert_model.named_parameters():\n",
    "                param.requires_grad = True\n",
    "        else:\n",
    "            for name, param in self.bert_model.named_parameters():\n",
    "                param.requires_grad = False\n",
    "\n",
    "        self.bert_hidden_size = self.bert_model.config.hidden_size\n",
    "        self.hidden_size = hidden_size\n",
    "        self.hidden_size2 = hidden_size2\n",
    "        self.hidden_size3 = hidden_size3\n",
    "        self.hidden_layer = nn.Linear(self.bert_hidden_size, self.hidden_size)\n",
    "        self.hidden_layer2 = nn.Linear(self.hidden_size, self.hidden_size2)\n",
    "        self.hidden_layer3 = nn.Linear(self.hidden_size2, self.hidden_size3)\n",
    "\n",
    "        # Morgan Embedding First hidden layer\n",
    "        self.hidden_layer_morgan = nn.Linear(1536, self.hidden_size)\n",
    "        self.hidden_layer2_morgan = nn.Linear(self.hidden_size, self.hidden_size2)\n",
    "        self.hidden_layer3_morgan = nn.Linear(self.hidden_size2, self.hidden_size3)\n",
    "\n",
    "        self.drop_out = nn.Dropout(dropout)\n",
    "\n",
    "        self.classification = nn.Linear(self.hidden_size3, output_dim)\n",
    "\n",
    "        self.GeLU = nn.GELU()\n",
    "        self.Sigmoid = nn.Sigmoid()\n",
    "\n",
    "    def forward(self, input_ids, attention_mask, morgan_embedding):\n",
    "        # Output for target data\n",
    "        bert_output = self.bert_model(input_ids=input_ids,\n",
    "                                      attention_mask=attention_mask)\n",
    "\n",
    "        pooler_token = bert_output[1]\n",
    "\n",
    "        hidden_ouput = self.GeLU(self.hidden_layer(pooler_token))\n",
    "        hidden_ouput = self.drop_out(hidden_ouput)\n",
    "        hidden_ouput = self.GeLU(self.hidden_layer2(hidden_ouput))\n",
    "        hidden_ouput = self.drop_out(hidden_ouput)\n",
    "        hidden_ouput = self.GeLU(self.hidden_layer3(hidden_ouput))\n",
    "        hidden_ouput = self.drop_out(hidden_ouput)\n",
    "\n",
    "        # Output for SMILES Morgan Embedding\n",
    "        hidden_morgan_output = self.GeLU(self.hidden_layer_morgan(morgan_embedding))\n",
    "        hidden_morgan_output = self.drop_out(hidden_morgan_output)\n",
    "        hidden_morgan_output = self.GeLU(self.hidden_layer2_morgan(hidden_morgan_output))\n",
    "        hidden_morgan_output = self.drop_out(hidden_morgan_output)\n",
    "        hidden_morgan_output = self.GeLU(self.hidden_layer3_morgan(hidden_morgan_output))\n",
    "        hidden_morgan_output = self.drop_out(hidden_morgan_output)\n",
    "\n",
    "        # Concatenate hidden_output and morgan_output\n",
    "        concat_output = torch.cat((hidden_morgan_output, hidden_ouput), 1)\n",
    "\n",
    "        # logits = self.classification(x)\n",
    "        output = self.Sigmoid(self.classification(concat_output))\n",
    "        output = output.flatten()\n",
    "\n",
    "        # return logits\n",
    "        return output"
   ]
  },
  {
   "cell_type": "code",
   "execution_count": 89,
   "metadata": {},
   "outputs": [
    {
     "name": "stderr",
     "output_type": "stream",
     "text": [
      "Some weights of the model checkpoint at emilyalsentzer/Bio_ClinicalBERT were not used when initializing BertModel: ['cls.seq_relationship.weight', 'cls.predictions.transform.dense.weight', 'cls.predictions.transform.dense.bias', 'cls.seq_relationship.bias', 'cls.predictions.transform.LayerNorm.weight', 'cls.predictions.transform.LayerNorm.bias', 'cls.predictions.bias', 'cls.predictions.decoder.weight']\n",
      "- This IS expected if you are initializing BertModel from the checkpoint of a model trained on another task or with another architecture (e.g. initializing a BertForSequenceClassification model from a BertForPreTraining model).\n",
      "- This IS NOT expected if you are initializing BertModel from the checkpoint of a model that you expect to be exactly identical (initializing a BertForSequenceClassification model from a BertForSequenceClassification model).\n"
     ]
    },
    {
     "name": "stdout",
     "output_type": "stream",
     "text": [
      "bert_model.encoder.layer.11.output.dense.weight          (768, 3072)\n",
      "bert_model.encoder.layer.11.output.dense.bias                 (768,)\n",
      "bert_model.encoder.layer.11.output.LayerNorm.weight           (768,)\n",
      "bert_model.encoder.layer.11.output.LayerNorm.bias             (768,)\n",
      "bert_model.pooler.dense.weight                            (768, 768)\n",
      "bert_model.pooler.dense.bias                                  (768,)\n",
      "hidden_layer.weight                                        (68, 768)\n",
      "hidden_layer.bias                                              (68,)\n",
      "hidden_layer2.weight                                        (54, 68)\n",
      "hidden_layer2.bias                                             (54,)\n",
      "hidden_layer3.weight                                        (40, 54)\n",
      "hidden_layer3.bias                                             (40,)\n",
      "hidden_layer_morgan.weight                                (68, 1536)\n",
      "hidden_layer_morgan.bias                                       (68,)\n",
      "hidden_layer2_morgan.weight                                 (54, 68)\n",
      "hidden_layer2_morgan.bias                                      (54,)\n",
      "hidden_layer3_morgan.weight                                 (40, 54)\n",
      "hidden_layer3_morgan.bias                                      (40,)\n",
      "classification.weight                                        (1, 80)\n",
      "classification.bias                                             (1,)\n"
     ]
    }
   ],
   "source": [
    "# Initialize model\n",
    "model = MorganBioBertClassification()\n",
    "model = model.to(device)\n",
    "\n",
    "#load the pre-trained Bio-ClinicalBERT model and tokenizer\n",
    "tokenizer = AutoTokenizer.from_pretrained('emilyalsentzer/Bio_ClinicalBERT')\n",
    "\n",
    "# Print out models params for checking\n",
    "params = list(model.named_parameters())\n",
    "for p in params[-30:]:\n",
    "    print(\"{:<55} {:>12}\".format(p[0], str(tuple(p[1].size()))))"
   ]
  },
  {
   "cell_type": "markdown",
   "metadata": {},
   "source": [
    "### Build DataLoader"
   ]
  },
  {
   "cell_type": "code",
   "execution_count": 92,
   "metadata": {},
   "outputs": [
    {
     "name": "stdout",
     "output_type": "stream",
     "text": [
      "mean length of smiles1: 62.47947666666666\n",
      "min length of smiles1: 2\n",
      "max length of smiles1: 748\n",
      "mean length of smiles2: 62.731\n",
      "min length of smiles2: 2\n",
      "max length of smiles2: 748\n",
      "mean length of target1: 249.94\n",
      "min length of target1: 13\n",
      "max length of target1: 24879\n",
      "Value Counts of Labels in Train Set:\n"
     ]
    },
    {
     "data": {
      "text/html": [
       "<div>\n",
       "<style scoped>\n",
       "    .dataframe tbody tr th:only-of-type {\n",
       "        vertical-align: middle;\n",
       "    }\n",
       "\n",
       "    .dataframe tbody tr th {\n",
       "        vertical-align: top;\n",
       "    }\n",
       "\n",
       "    .dataframe thead th {\n",
       "        text-align: right;\n",
       "    }\n",
       "</style>\n",
       "<table border=\"1\" class=\"dataframe\">\n",
       "  <thead>\n",
       "    <tr style=\"text-align: right;\">\n",
       "      <th></th>\n",
       "      <th>d1</th>\n",
       "      <th>d2</th>\n",
       "      <th>d1_name</th>\n",
       "      <th>d2_name</th>\n",
       "      <th>interaction</th>\n",
       "      <th>interaction_type</th>\n",
       "      <th>severity</th>\n",
       "      <th>smiles1</th>\n",
       "      <th>smiles2</th>\n",
       "      <th>d1_target</th>\n",
       "      <th>d1_action</th>\n",
       "      <th>d2_target</th>\n",
       "      <th>d2_action</th>\n",
       "    </tr>\n",
       "  </thead>\n",
       "  <tbody>\n",
       "    <tr>\n",
       "      <th>0</th>\n",
       "      <td>DB01501</td>\n",
       "      <td>DB00356</td>\n",
       "      <td>Difenoxin</td>\n",
       "      <td>Chlorzoxazone</td>\n",
       "      <td>The risk or severity of adverse effects can be...</td>\n",
       "      <td>1</td>\n",
       "      <td>high</td>\n",
       "      <td>OC(=O)C1(CCN(CCC(C#N)(C2=CC=CC=C2)C2=CC=CC=C2)...</td>\n",
       "      <td>ClC1=CC2=C(OC(=O)N2)C=C1</td>\n",
       "      <td>Not Available</td>\n",
       "      <td>Difenoxin acts as an antidiarrheal by activati...</td>\n",
       "      <td>Not Available</td>\n",
       "      <td>Chlorzoxazone inhibits degranulation of mast c...</td>\n",
       "    </tr>\n",
       "    <tr>\n",
       "      <th>1</th>\n",
       "      <td>DB00208</td>\n",
       "      <td>DB00242</td>\n",
       "      <td>Ticlopidine</td>\n",
       "      <td>Cladribine</td>\n",
       "      <td>The risk or severity of bleeding can be increa...</td>\n",
       "      <td>1</td>\n",
       "      <td>high</td>\n",
       "      <td>ClC1=CC=CC=C1CN1CCC2=C(C1)C=CS2</td>\n",
       "      <td>NC1=C2N=CN([C@H]3C[C@H](O)[C@@H](CO)O3)C2=NC(C...</td>\n",
       "      <td>Category: A, Protein: P2Y purinoceptor 12, Act...</td>\n",
       "      <td>The active metabolite of ticlopidine prevents ...</td>\n",
       "      <td>Category: A, Protein: Ribonucleoside-diphospha...</td>\n",
       "      <td>Cladribine is structurally related to fludarab...</td>\n",
       "    </tr>\n",
       "  </tbody>\n",
       "</table>\n",
       "</div>"
      ],
      "text/plain": [
       "        d1       d2      d1_name        d2_name  \\\n",
       "0  DB01501  DB00356    Difenoxin  Chlorzoxazone   \n",
       "1  DB00208  DB00242  Ticlopidine     Cladribine   \n",
       "\n",
       "                                         interaction  interaction_type  \\\n",
       "0  The risk or severity of adverse effects can be...                 1   \n",
       "1  The risk or severity of bleeding can be increa...                 1   \n",
       "\n",
       "  severity                                            smiles1  \\\n",
       "0     high  OC(=O)C1(CCN(CCC(C#N)(C2=CC=CC=C2)C2=CC=CC=C2)...   \n",
       "1     high                    ClC1=CC=CC=C1CN1CCC2=C(C1)C=CS2   \n",
       "\n",
       "                                             smiles2  \\\n",
       "0                           ClC1=CC2=C(OC(=O)N2)C=C1   \n",
       "1  NC1=C2N=CN([C@H]3C[C@H](O)[C@@H](CO)O3)C2=NC(C...   \n",
       "\n",
       "                                           d1_target  \\\n",
       "0                                      Not Available   \n",
       "1  Category: A, Protein: P2Y purinoceptor 12, Act...   \n",
       "\n",
       "                                           d1_action  \\\n",
       "0  Difenoxin acts as an antidiarrheal by activati...   \n",
       "1  The active metabolite of ticlopidine prevents ...   \n",
       "\n",
       "                                           d2_target  \\\n",
       "0                                      Not Available   \n",
       "1  Category: A, Protein: Ribonucleoside-diphospha...   \n",
       "\n",
       "                                           d2_action  \n",
       "0  Chlorzoxazone inhibits degranulation of mast c...  \n",
       "1  Cladribine is structurally related to fludarab...  "
      ]
     },
     "execution_count": 92,
     "metadata": {},
     "output_type": "execute_result"
    }
   ],
   "source": [
    "# Import data\n",
    "train_file = 'data/binary_ddi/ddi_train_balanced_with_target_150k.csv'\n",
    "dev_file = 'data/binary_ddi/ddi_val_binary_with_target.csv'\n",
    "test_file = 'data/binary_ddi/ddi_test_binary_with_target.csv'\n",
    "action_file = 'data/scraping_action_pathways.csv'\n",
    "\n",
    "df_train = pd.read_csv(train_file, sep='\\t')\n",
    "# df_train = df_train[[\"d1\", \"d2\", \"interaction_type\", \"smiles1\", \"smiles2\", \"d1_target\", \"d2_target\"]]\n",
    "df_val= pd.read_csv(dev_file, sep='\\t')\n",
    "# df_val = df_val[[\"d1\", \"d2\", \"interaction_type\", \"smiles1\", \"smiles2\", \"d1_target\", \"d2_target\"]]\n",
    "df_test = pd.read_csv(test_file, sep='\\t')\n",
    "# df_test = df_test[[\"d1\", \"d2\", \"interaction_type\", \"smiles1\", \"smiles2\", \"d1_target\", \"d2_target\"]]\n",
    "df_action  =  pd.read_csv(action_file,  sep='\\t')\n",
    "\n",
    "print(f'''mean length of smiles1: {df_train['smiles1'].map(len).mean()}''')\n",
    "print(f'''min length of smiles1: {df_train['smiles1'].map(len).min()}''')\n",
    "print(f'''max length of smiles1: {df_train['smiles1'].map(len).max()}''')\n",
    "print(f'''mean length of smiles2: {df_train['smiles2'].map(len).mean()}''')\n",
    "print(f'''min length of smiles2: {df_train['smiles2'].map(len).min()}''')\n",
    "print(f'''max length of smiles2: {df_train['smiles2'].map(len).max()}''')\n",
    "print(f'''mean length of target1: {df_train['d1_target'].map(len).mean()}''')\n",
    "print(f'''min length of target1: {df_train['d1_target'].map(len).min()}''')\n",
    "print(f'''max length of target1: {df_train['d1_target'].map(len).max()}''')\n",
    "print('Value Counts of Labels in Train Set:')\n",
    "df_train.interaction_type.value_counts()\n",
    "df_train.head(2)"
   ]
  },
  {
   "cell_type": "code",
   "execution_count": 93,
   "metadata": {},
   "outputs": [
    {
     "data": {
      "text/html": [
       "<div>\n",
       "<style scoped>\n",
       "    .dataframe tbody tr th:only-of-type {\n",
       "        vertical-align: middle;\n",
       "    }\n",
       "\n",
       "    .dataframe tbody tr th {\n",
       "        vertical-align: top;\n",
       "    }\n",
       "\n",
       "    .dataframe thead th {\n",
       "        text-align: right;\n",
       "    }\n",
       "</style>\n",
       "<table border=\"1\" class=\"dataframe\">\n",
       "  <thead>\n",
       "    <tr style=\"text-align: right;\">\n",
       "      <th></th>\n",
       "      <th>url</th>\n",
       "      <th>action_pathway</th>\n",
       "      <th>drug_id</th>\n",
       "    </tr>\n",
       "  </thead>\n",
       "  <tbody>\n",
       "    <tr>\n",
       "      <th>0</th>\n",
       "      <td>http://smpdb.ca/view/SMP0000277?highlight[comp...</td>\n",
       "      <td>Bivalirudin, trade name angiomax, is a direct ...</td>\n",
       "      <td>DB00006</td>\n",
       "    </tr>\n",
       "    <tr>\n",
       "      <th>1</th>\n",
       "      <td>http://smpdb.ca/view/SMP0000429?highlight[comp...</td>\n",
       "      <td>Disulfiram is a drug used in the treatment of ...</td>\n",
       "      <td>DB00118</td>\n",
       "    </tr>\n",
       "    <tr>\n",
       "      <th>2</th>\n",
       "      <td>http://smpdb.ca/view/SMP0000429?highlight[comp...</td>\n",
       "      <td>Disulfiram is a drug used in the treatment of ...</td>\n",
       "      <td>DB00126</td>\n",
       "    </tr>\n",
       "    <tr>\n",
       "      <th>3</th>\n",
       "      <td>http://smpdb.ca/view/SMP0000428?highlight[comp...</td>\n",
       "      <td>Mercaptopurine is a purine antimetabolite prod...</td>\n",
       "      <td>DB00130</td>\n",
       "    </tr>\n",
       "    <tr>\n",
       "      <th>4</th>\n",
       "      <td>http://smpdb.ca/view/SMP0000729?highlight[comp...</td>\n",
       "      <td>Chloramphenicol, trade names Pentamycetin and ...</td>\n",
       "      <td>DB00134</td>\n",
       "    </tr>\n",
       "  </tbody>\n",
       "</table>\n",
       "</div>"
      ],
      "text/plain": [
       "                                                 url  \\\n",
       "0  http://smpdb.ca/view/SMP0000277?highlight[comp...   \n",
       "1  http://smpdb.ca/view/SMP0000429?highlight[comp...   \n",
       "2  http://smpdb.ca/view/SMP0000429?highlight[comp...   \n",
       "3  http://smpdb.ca/view/SMP0000428?highlight[comp...   \n",
       "4  http://smpdb.ca/view/SMP0000729?highlight[comp...   \n",
       "\n",
       "                                      action_pathway  drug_id  \n",
       "0  Bivalirudin, trade name angiomax, is a direct ...  DB00006  \n",
       "1  Disulfiram is a drug used in the treatment of ...  DB00118  \n",
       "2  Disulfiram is a drug used in the treatment of ...  DB00126  \n",
       "3  Mercaptopurine is a purine antimetabolite prod...  DB00130  \n",
       "4  Chloramphenicol, trade names Pentamycetin and ...  DB00134  "
      ]
     },
     "execution_count": 93,
     "metadata": {},
     "output_type": "execute_result"
    }
   ],
   "source": [
    "import string\n",
    "def get_drug_id(url):\n",
    "    words = url.split('=')\n",
    "    # w = words[0].translate(str.maketrans('', '', string.punctuation))\n",
    "    w = words[-1].strip()\n",
    "    return w\n",
    "df_action['drug_id'] = df_action['url'].apply(get_drug_id)\n",
    "df_action.head()"
   ]
  },
  {
   "cell_type": "code",
   "execution_count": 94,
   "metadata": {},
   "outputs": [
    {
     "data": {
      "text/html": [
       "<div>\n",
       "<style scoped>\n",
       "    .dataframe tbody tr th:only-of-type {\n",
       "        vertical-align: middle;\n",
       "    }\n",
       "\n",
       "    .dataframe tbody tr th {\n",
       "        vertical-align: top;\n",
       "    }\n",
       "\n",
       "    .dataframe thead th {\n",
       "        text-align: right;\n",
       "    }\n",
       "</style>\n",
       "<table border=\"1\" class=\"dataframe\">\n",
       "  <thead>\n",
       "    <tr style=\"text-align: right;\">\n",
       "      <th></th>\n",
       "      <th>d1</th>\n",
       "      <th>d2</th>\n",
       "      <th>interaction_type</th>\n",
       "      <th>smiles1</th>\n",
       "      <th>smiles2</th>\n",
       "      <th>d1_target_action</th>\n",
       "      <th>d2_target_action</th>\n",
       "    </tr>\n",
       "  </thead>\n",
       "  <tbody>\n",
       "    <tr>\n",
       "      <th>0</th>\n",
       "      <td>DB01501</td>\n",
       "      <td>DB00356</td>\n",
       "      <td>1</td>\n",
       "      <td>OC(=O)C1(CCN(CCC(C#N)(C2=CC=CC=C2)C2=CC=CC=C2)...</td>\n",
       "      <td>ClC1=CC2=C(OC(=O)N2)C=C1</td>\n",
       "      <td>Target Not Available Pathway not available Dif...</td>\n",
       "      <td>Target Not Available. Pathway not available Ch...</td>\n",
       "    </tr>\n",
       "    <tr>\n",
       "      <th>1</th>\n",
       "      <td>DB00208</td>\n",
       "      <td>DB00242</td>\n",
       "      <td>1</td>\n",
       "      <td>ClC1=CC=CC=C1CN1CCC2=C(C1)C=CS2</td>\n",
       "      <td>NC1=C2N=CN([C@H]3C[C@H](O)[C@@H](CO)O3)C2=NC(C...</td>\n",
       "      <td>Target Category A Protein P2Y purinoceptor 12 ...</td>\n",
       "      <td>Target Category A Protein Ribonucleoside-dipho...</td>\n",
       "    </tr>\n",
       "  </tbody>\n",
       "</table>\n",
       "</div>"
      ],
      "text/plain": [
       "        d1       d2  interaction_type  \\\n",
       "0  DB01501  DB00356                 1   \n",
       "1  DB00208  DB00242                 1   \n",
       "\n",
       "                                             smiles1  \\\n",
       "0  OC(=O)C1(CCN(CCC(C#N)(C2=CC=CC=C2)C2=CC=CC=C2)...   \n",
       "1                    ClC1=CC=CC=C1CN1CCC2=C(C1)C=CS2   \n",
       "\n",
       "                                             smiles2  \\\n",
       "0                           ClC1=CC2=C(OC(=O)N2)C=C1   \n",
       "1  NC1=C2N=CN([C@H]3C[C@H](O)[C@@H](CO)O3)C2=NC(C...   \n",
       "\n",
       "                                    d1_target_action  \\\n",
       "0  Target Not Available Pathway not available Dif...   \n",
       "1  Target Category A Protein P2Y purinoceptor 12 ...   \n",
       "\n",
       "                                    d2_target_action  \n",
       "0  Target Not Available. Pathway not available Ch...  \n",
       "1  Target Category A Protein Ribonucleoside-dipho...  "
      ]
     },
     "execution_count": 94,
     "metadata": {},
     "output_type": "execute_result"
    }
   ],
   "source": [
    "## Data Clean Up\n",
    "import re\n",
    "\n",
    "def clean_up_text(x):\n",
    "  \"\"\"Remove line breaks, special characters, punctuations within each post\"\"\"\n",
    "  # Remove special characters and punctuations\n",
    "  x = str(x)\n",
    "  if not x or x == \"nan\":\n",
    "      x = \"Pathway not available\"\n",
    "  SPECIAL_CHARS_PATTERN = re.compile(r\"(\\*)|(\\=\\=)|(\\~)|(\\=)|(\\.\\.\\.)|(\\;)|(\\:)|(\\!)|(\\?)|(\\,)|(\\\")|(\\|)|(\\()|(\\))|(\\[)|(\\])|(\\%)|(\\$)|(\\>)|(\\<)|(\\{)|(\\})\")\n",
    "  x = SPECIAL_CHARS_PATTERN.sub(\"\", x)\n",
    "\n",
    "  # Remove different types of line breaks and white spaces\n",
    "  x = re.sub(r\"\\n|\\r|\\r\\n|<br\\s*/?>\", \" \", x)\n",
    "  \n",
    "  # Remove extra white spaces\n",
    "  x = re.sub(r\"\\s+\", \" \", x.strip())\n",
    "\n",
    "  return x\n",
    "\n",
    "def trim_to_125_words(text):\n",
    "    words = text.split()\n",
    "    return \" \".join(words[:125])\n",
    "\n",
    "def trim_to_250_words(text):\n",
    "    words = text.split()\n",
    "    return \" \".join(words[:250])\n",
    "    \n",
    "def extract_action_pathway(df, df_action=df_action):\n",
    "    # Drug 1 action pathway\n",
    "    df = pd.merge(df, df_action, left_on='d1', right_on='drug_id', how='left')\n",
    "    df = df.rename(columns={\"action_pathway\": \"d1_pathway\"})\n",
    "    # Add action pathway to target\n",
    "    df[\"d1_target\"] = df[\"d1_target\"].apply(clean_up_text)\n",
    "    df[\"d1_target\"] = df[\"d1_target\"].apply(trim_to_125_words) #Trim down target to include pathway infor if available\n",
    "    df[\"d1_pathway\"] = df[\"d1_pathway\"].apply(clean_up_text)\n",
    "    df[\"d1_action\"] = df[\"d1_action\"].apply(clean_up_text)\n",
    "    df[\"d1_target_action\"] = \"Target \" + df[\"d1_target\"] + \" \" + df[\"d1_pathway\"] + \" \" + df[\"d1_action\"]\n",
    "    df[\"d1_target_action\"] = df[\"d1_target_action\"].apply(trim_to_250_words) #Trim down to include drug 2\n",
    "\n",
    "    # Drug 2 action pathway\n",
    "    df = pd.merge(df, df_action, left_on='d2', right_on ='drug_id', how='left')\n",
    "    df = df.rename(columns={\"action_pathway\": \"d2_pathway\"})\n",
    "        # Add action pathway to target\n",
    "    df[\"d2_target\"] = df[\"d2_target\"].apply(clean_up_text)\n",
    "    df[\"d2_target\"] = df[\"d2_target\"].apply(trim_to_125_words) #Trim down target to include pathway infor if available\n",
    "    df[\"d2_pathway\"] = df[\"d2_pathway\"].apply(clean_up_text)\n",
    "    df[\"d2_action\"] = df[\"d2_action\"].apply(clean_up_text)\n",
    "    df[\"d2_target_action\"] = \"Target \" + df[\"d2_target\"] + \". \" + df[\"d2_pathway\"] + \" \" + df[\"d2_action\"]\n",
    "    df[\"d2_target_action\"] = df[\"d2_target_action\"].apply(trim_to_250_words) \n",
    "    \n",
    "    df = df[[\"d1\", \"d2\", \"interaction_type\", \"smiles1\", \"smiles2\", \"d1_target_action\", \"d2_target_action\"]]\n",
    "    return df\n",
    "\n",
    "df_train = extract_action_pathway(df_train)\n",
    "df_val = extract_action_pathway(df_val)\n",
    "df_test = extract_action_pathway(df_test)\n",
    "df_train.head(2)"
   ]
  },
  {
   "cell_type": "code",
   "execution_count": 96,
   "metadata": {},
   "outputs": [
    {
     "name": "stdout",
     "output_type": "stream",
     "text": [
      "(30000, 7)\n"
     ]
    },
    {
     "data": {
      "text/html": [
       "<div>\n",
       "<style scoped>\n",
       "    .dataframe tbody tr th:only-of-type {\n",
       "        vertical-align: middle;\n",
       "    }\n",
       "\n",
       "    .dataframe tbody tr th {\n",
       "        vertical-align: top;\n",
       "    }\n",
       "\n",
       "    .dataframe thead th {\n",
       "        text-align: right;\n",
       "    }\n",
       "</style>\n",
       "<table border=\"1\" class=\"dataframe\">\n",
       "  <thead>\n",
       "    <tr style=\"text-align: right;\">\n",
       "      <th></th>\n",
       "      <th>d1</th>\n",
       "      <th>d2</th>\n",
       "      <th>interaction_type</th>\n",
       "      <th>smiles1</th>\n",
       "      <th>smiles2</th>\n",
       "      <th>d1_target_action</th>\n",
       "      <th>d2_target_action</th>\n",
       "    </tr>\n",
       "  </thead>\n",
       "  <tbody>\n",
       "    <tr>\n",
       "      <th>100113</th>\n",
       "      <td>DB01628</td>\n",
       "      <td>DB13406</td>\n",
       "      <td>1</td>\n",
       "      <td>CC1=NC=C(C=C1)C1=C(C=C(Cl)C=N1)C1=CC=C(C=C1)S(...</td>\n",
       "      <td>CCCCNC(=O)NS(=O)(=O)C1=CC=C(N)C=C1</td>\n",
       "      <td>Target Category A Protein Prostaglandin G/H sy...</td>\n",
       "      <td>Target Not Available. Pathway not available No...</td>\n",
       "    </tr>\n",
       "    <tr>\n",
       "      <th>70844</th>\n",
       "      <td>DB09091</td>\n",
       "      <td>DB13868</td>\n",
       "      <td>1</td>\n",
       "      <td>[H][C@@]12CC[C@](O)(C(=O)CS)[C@@]1(C)C[C@H](O)...</td>\n",
       "      <td>NC1=C2N=CN(CCOCP(O)(O)=O)C2=NC=N1</td>\n",
       "      <td>Target Category A Protein Glucocorticoid recep...</td>\n",
       "      <td>Target Category A Protein DNA polymerase/rever...</td>\n",
       "    </tr>\n",
       "  </tbody>\n",
       "</table>\n",
       "</div>"
      ],
      "text/plain": [
       "             d1       d2  interaction_type  \\\n",
       "100113  DB01628  DB13406                 1   \n",
       "70844   DB09091  DB13868                 1   \n",
       "\n",
       "                                                  smiles1  \\\n",
       "100113  CC1=NC=C(C=C1)C1=C(C=C(Cl)C=N1)C1=CC=C(C=C1)S(...   \n",
       "70844   [H][C@@]12CC[C@](O)(C(=O)CS)[C@@]1(C)C[C@H](O)...   \n",
       "\n",
       "                                   smiles2  \\\n",
       "100113  CCCCNC(=O)NS(=O)(=O)C1=CC=C(N)C=C1   \n",
       "70844    NC1=C2N=CN(CCOCP(O)(O)=O)C2=NC=N1   \n",
       "\n",
       "                                         d1_target_action  \\\n",
       "100113  Target Category A Protein Prostaglandin G/H sy...   \n",
       "70844   Target Category A Protein Glucocorticoid recep...   \n",
       "\n",
       "                                         d2_target_action  \n",
       "100113  Target Not Available. Pathway not available No...  \n",
       "70844   Target Category A Protein DNA polymerase/rever...  "
      ]
     },
     "execution_count": 96,
     "metadata": {},
     "output_type": "execute_result"
    }
   ],
   "source": [
    "from sklearn.utils import resample\n",
    "\n",
    "# Choose a smaller subset of val data for faster training\n",
    "df_val_small = resample(df_val,\n",
    "                        replace=False,     # sample without replacement\n",
    "                        n_samples=30000,\n",
    "                        # random_state=1\n",
    "                       ) \n",
    "print(df_val_small.shape)\n",
    "df_val_small.head(2)"
   ]
  },
  {
   "cell_type": "code",
   "execution_count": 97,
   "metadata": {},
   "outputs": [
    {
     "name": "stdout",
     "output_type": "stream",
     "text": [
      "Number of drugs available: 2563\n",
      "Example - top 10 keys: ['DB00006', 'DB00007', 'DB00014', 'DB00027', 'DB00035', 'DB00067', 'DB00080', 'DB00091', 'DB00115', 'DB00118']\n",
      "Embedding dimension: 768\n"
     ]
    }
   ],
   "source": [
    "# Import Drug2Vec Embedding - Morgan Fingerprints, Cosine Similarity\n",
    "# drug2vec_model = gensim.models.KeyedVectors.load_word2vec_format(fname=f\"data/binary_ddi/drug2vec_300clusters_morgan_cosine.txt\", binary=False)\n",
    "# Import Drug2Vec Embedding - Morgan Fingerprints, Tanimoto Similarity, 768 clusters\n",
    "drug2vec_model = gensim.models.KeyedVectors.load_word2vec_format(fname=f\"data/binary_ddi/drug2vec_768clusters_maccs_tanimoto.txt\", binary=False)\n",
    "\n",
    "print('Number of drugs available:', len(drug2vec_model.index_to_key))\n",
    "print('Example - top 10 keys:', drug2vec_model.index_to_key[:10])\n",
    "print('Embedding dimension:', len(drug2vec_model[drug2vec_model.index_to_key[0]]))"
   ]
  },
  {
   "cell_type": "code",
   "execution_count": 98,
   "metadata": {},
   "outputs": [],
   "source": [
    "def build_data_loader(df, shuffle=True, verbose=False):\n",
    "    # Extract Morgan Fingerprint Embedding\n",
    "    # Remove the 4 SMILES causing error, only include SMILES in drug2vec.txt\n",
    "    valid_smiles = drug2vec_model.index_to_key\n",
    "    df = df[df['d1'].isin(valid_smiles) & df['d2'].isin(valid_smiles)]\n",
    "\n",
    "    # Extract embedding\n",
    "    df['d1_embedding'] = df['d1'].apply(lambda x: drug2vec_model[x])\n",
    "    df['d2_embedding'] = df['d2'].apply(lambda x: drug2vec_model[x])\n",
    "\n",
    "    # Drop all records that could not extract embedding (SMILES errors)\n",
    "    df = df.dropna(subset=['d1_embedding', 'd2_embedding'], how='any')\n",
    "    d1_embed = np.array(df['d1_embedding'].tolist())\n",
    "    d2_embed = np.array(df['d2_embedding'].tolist())\n",
    "    X_smiles = np.hstack((d1_embed, d2_embed))\n",
    "    morgan_embedding = torch.from_numpy(X_smiles)\n",
    "    if verbose:\n",
    "        print('Drug1 Embedding Dimension:',d1_embed.shape)\n",
    "        print('Drug2 Embedding Dimension:',d2_embed.shape)\n",
    "        print('Drug 1 Concatenate with Drug 2 Embedding Dimension:', X_smiles.shape)\n",
    "        print('Torch tensor Embedding Dimension:', morgan_embedding.shape)\n",
    "\n",
    "    # Combine Target2 and Target2 Together, using [SEP] token to distingush between drug1 & drug2\n",
    "    # df[\"d1_target\"] = df[\"d1_target\"].str.replace('|', '.').str.replace(':','')\n",
    "    # df[\"d1_target\"] = df[\"d1_target\"].apply(trim_to_250_words)\n",
    "    # df[\"d2_target\"] = df[\"d2_target\"].str.replace('|', '.').str.replace(':','')\n",
    "    # df[\"d2_target\"] = df[\"d2_target\"].apply(trim_to_250_words)\n",
    "    df[\"target_features\"] = \"Drug1: \" + df[\"d1_target_action\"] + \" [SEP] \" + \"Drug2: \" + df[\"d2_target_action\"] + \" [SEP]\"\n",
    "\n",
    "    X_target = df[\"target_features\"]\n",
    "    y = df[\"interaction_type\"]\n",
    "\n",
    "    # Tokenize Target\n",
    "    _encodings = tokenizer(\n",
    "        list(X_target.values),\n",
    "        max_length=512,\n",
    "        truncation=True,\n",
    "        pad_to_max_length=True,\n",
    "        return_token_type_ids=False,\n",
    "        return_tensors='pt'\n",
    "    )\n",
    "\n",
    "    _ids = _encodings.input_ids\n",
    "    _mask = _encodings.attention_mask\n",
    "    _labels = torch.tensor(y.values)\n",
    "    if verbose:\n",
    "        print('Torch tensor target_ids Dimension:', _ids.shape)\n",
    "        print('Torch tensor labels Dimension:', _labels.shape)\n",
    "\n",
    "    _dataset = TensorDataset(_ids, _mask, _labels, morgan_embedding)\n",
    "    _loader = DataLoader(_dataset, batch_size=BATCH_SIZE, shuffle=shuffle, num_workers=WORKERS)\n",
    "\n",
    "    return _loader\n",
    "    # return X_smiles, X_target, y"
   ]
  },
  {
   "cell_type": "code",
   "execution_count": 99,
   "metadata": {},
   "outputs": [
    {
     "name": "stdout",
     "output_type": "stream",
     "text": [
      "Validation Data Loader:\n",
      "Drug1 Embedding Dimension: (29959, 768)\n",
      "Drug2 Embedding Dimension: (29959, 768)\n",
      "Drug 1 Concatenate with Drug 2 Embedding Dimension: (29959, 1536)\n",
      "Torch tensor Embedding Dimension: torch.Size([29959, 1536])\n",
      "Torch tensor target_ids Dimension: torch.Size([29959, 512])\n",
      "Torch tensor labels Dimension: torch.Size([29959])\n"
     ]
    }
   ],
   "source": [
    "# Val Data Loader\n",
    "print('Validation Data Loader:')\n",
    "val_loader = build_data_loader(df_val_small, shuffle=False, verbose=True)"
   ]
  },
  {
   "cell_type": "code",
   "execution_count": 100,
   "metadata": {},
   "outputs": [
    {
     "name": "stdout",
     "output_type": "stream",
     "text": [
      "Testing Data Loader:\n",
      "Drug1 Embedding Dimension: (216063, 768)\n",
      "Drug2 Embedding Dimension: (216063, 768)\n",
      "Drug 1 Concatenate with Drug 2 Embedding Dimension: (216063, 1536)\n",
      "Torch tensor Embedding Dimension: torch.Size([216063, 1536])\n",
      "Torch tensor target_ids Dimension: torch.Size([216063, 512])\n",
      "Torch tensor labels Dimension: torch.Size([216063])\n"
     ]
    }
   ],
   "source": [
    "# Test Data Loader\n",
    "print('Testing Data Loader:')\n",
    "test_loader = build_data_loader(df_test, shuffle=False, verbose=True)"
   ]
  },
  {
   "cell_type": "code",
   "execution_count": 101,
   "metadata": {},
   "outputs": [
    {
     "name": "stdout",
     "output_type": "stream",
     "text": [
      "Training Data Loader:\n",
      "Drug1 Embedding Dimension: (299076, 768)\n",
      "Drug2 Embedding Dimension: (299076, 768)\n",
      "Drug 1 Concatenate with Drug 2 Embedding Dimension: (299076, 1536)\n",
      "Torch tensor Embedding Dimension: torch.Size([299076, 1536])\n",
      "Torch tensor target_ids Dimension: torch.Size([299076, 512])\n",
      "Torch tensor labels Dimension: torch.Size([299076])\n"
     ]
    }
   ],
   "source": [
    "# Train Data Loader\n",
    "print('Training Data Loader:')\n",
    "train_loader = build_data_loader(df_train, verbose=True)"
   ]
  },
  {
   "cell_type": "code",
   "execution_count": 102,
   "metadata": {},
   "outputs": [
    {
     "name": "stdout",
     "output_type": "stream",
     "text": [
      "Train batches: 18693\n",
      "Val subset batches: 1873\n",
      "Test batches: 13504\n"
     ]
    }
   ],
   "source": [
    "print('Train batches:', len(train_loader))\n",
    "print('Val subset batches:', len(val_loader))\n",
    "# print('Val Full batches:', len(val_loader_full))\n",
    "print('Test batches:', len(test_loader))"
   ]
  },
  {
   "cell_type": "markdown",
   "metadata": {},
   "source": [
    "### Training"
   ]
  },
  {
   "cell_type": "code",
   "execution_count": 103,
   "metadata": {},
   "outputs": [],
   "source": [
    "# Initiate loss to Binary Cross Entropy\n",
    "from transformers import get_linear_schedule_with_warmup\n",
    "\n",
    "criterion = nn.BCELoss()  # 1 head\n",
    "# criterion = nn.CrossEntropyLoss().to(device)  # 2 heads\n",
    "\n",
    "# Optimizer\n",
    "optimizer = optim.Adadelta(model.parameters(), lr=LEARNING_RATE, weight_decay=WEIGHT_DECAY)\n",
    "\n",
    "# Create learning rate scheduler.\n",
    "T_max = EPOCHS*len(train_loader)\n",
    "scheduler = optim.lr_scheduler.CosineAnnealingLR(optimizer, T_max=T_max, eta_min = 1e-5)\n",
    "# scheduler = get_linear_schedule_with_warmup(optimizer, num_warmup_steps=0.1*T_max, num_training_steps=T_max)"
   ]
  },
  {
   "cell_type": "code",
   "execution_count": 104,
   "metadata": {},
   "outputs": [],
   "source": [
    "def format_time(seconds):\n",
    "    return str(datetime.timedelta(seconds=int(round(seconds))))"
   ]
  },
  {
   "cell_type": "code",
   "execution_count": 105,
   "metadata": {},
   "outputs": [],
   "source": [
    "## Define train function\n",
    "def train(train_loader, model, criterion, optimizer, verbose=True):  \n",
    "    # reset total loss for each epoch\n",
    "    total_loss = 0\n",
    "\n",
    "    # switch model to train mode\n",
    "    model.train()\n",
    "\n",
    "    # start time\n",
    "    t0 = time.time()\n",
    "\n",
    "    for step, data in enumerate(train_loader): \n",
    "        # send the data to cuda device\n",
    "        ids = data[0].to(device, dtype = torch.long)\n",
    "        mask = data[1].to(device, dtype = torch.long)\n",
    "        target = data[2].float().to(device)   # 1 head\n",
    "        # target = data[2].to(device, dtype = torch.long)   # 2 heads\n",
    "        morgan_embedding = data[3].to(device)\n",
    "    \n",
    "        # compute output\n",
    "        output = model(input_ids=ids, \n",
    "                       attention_mask=mask,\n",
    "                       morgan_embedding=morgan_embedding\n",
    "                      )\n",
    "\n",
    "        # compute loss \n",
    "        # loss = criterion(output.view(-1, 2), target.view(-1))\n",
    "        loss = criterion(output, target)\n",
    "\n",
    "        # Accumulate the training loss over all of the batches \n",
    "        total_loss += loss.item()\n",
    "\n",
    "        # zero out gradients in the optimizer each step\n",
    "        optimizer.zero_grad()\n",
    "\n",
    "        # Report progress every 200 batches\n",
    "        if step % 2000 == 0 and not step == 0 and verbose==True:\n",
    "            print('Batch {:>5,}  of  {:>5,}.  Loss {:0.4f}  Elapsed: {:}.'.format(\n",
    "                 step, \n",
    "                 len(train_loader),\n",
    "                 loss.item(),\n",
    "                 format_time(time.time() - t0))) \n",
    "        \n",
    "        # compute gradient and do SGD\n",
    "        # backprop!\n",
    "        loss.backward()\n",
    "        \n",
    "        # update the weights!\n",
    "        optimizer.step()\n",
    "\n",
    "        # update learning rate\n",
    "        scheduler.step()\n",
    "\n",
    "    avg_train_loss = total_loss / len(train_loader) \n",
    "    elapsed_time = time.time() - t0\n",
    "    if verbose:\n",
    "      print (\"\\nAvg Training Loss {:0.4f}, Completed in {:} \\n\".format(\n",
    "          avg_train_loss,\n",
    "          format_time(elapsed_time)\n",
    "            ))\n",
    "    \n",
    "    # return model, avg_train_loss, elapsed_time\n",
    "    return avg_train_loss, elapsed_time"
   ]
  },
  {
   "cell_type": "code",
   "execution_count": 106,
   "metadata": {},
   "outputs": [],
   "source": [
    "## Define validate function\n",
    "def validate(val_loader, model, criterion, verbose=True):\n",
    "    # Initialize\n",
    "    targets=[]\n",
    "    outputs=[]\n",
    "    t0 = time.time()\n",
    "    total_val_loss = 0\n",
    "\n",
    "    # switch to evaluate mode\n",
    "    model.eval()\n",
    "\n",
    "    with torch.no_grad():\n",
    "        for step, data in enumerate(val_loader):\n",
    "            \n",
    "            # send the data to cuda device\n",
    "            ids = data[0].to(device, dtype = torch.long)\n",
    "            mask = data[1].to(device, dtype = torch.long)\n",
    "            target = data[2].float().to(device) # 1 head\n",
    "            # target = data[2].to(device, dtype = torch.long)  # 2 heads\n",
    "            morgan_embedding = data[3].to(device)\n",
    "    \n",
    "            # compute output\n",
    "            output = model(input_ids=ids, \n",
    "                           attention_mask=mask,\n",
    "                           morgan_embedding=morgan_embedding\n",
    "                          )\n",
    "\n",
    "            # compute loss\n",
    "            loss = criterion(output, target)\n",
    "            # loss = criterion(output.view(-1, 2), target.view(-1))\n",
    "\n",
    "            # Accumulate the validation loss over all of the batches to calculate average loss\n",
    "            total_val_loss += loss.item()\n",
    "\n",
    "            targets.extend(target.cpu().detach().numpy().tolist())\n",
    "            outputs.extend(output.cpu().detach().numpy().tolist())\n",
    "\n",
    "            if step % 2000 == 0 and not step == 0 and verbose==True:\n",
    "                print('Batch {:>5,}  of  {:>5,}.  Loss {:0.4f}  Elapsed: {:}.'.format(\n",
    "                    step, \n",
    "                    len(val_loader),\n",
    "                    loss.item(),\n",
    "                    format_time(time.time() - t0)))        \n",
    "\n",
    "    avg_val_loss = total_val_loss / len(val_loader)\n",
    "    elapsed_time = time.time() - t0\n",
    "    if verbose:\n",
    "      print (\"\\nAvg Validation Loss {:0.4f}, Completed in {:}\".format(\n",
    "          avg_val_loss,\n",
    "          format_time(elapsed_time)\n",
    "            ))\n",
    "    \n",
    "    return outputs, targets, avg_val_loss, elapsed_time\n"
   ]
  },
  {
   "cell_type": "code",
   "execution_count": 107,
   "metadata": {},
   "outputs": [],
   "source": [
    "# calculate the F1 score, auc, accuracy of our predictions vs labels\n",
    "def compute_metrics(outputs, targets, prefix=\"Training\"):\n",
    "    y_pred = (np.array(outputs) >= 0.5).astype(float)  # 1 head\n",
    "    y_score = np.array(outputs)  # 1 head\n",
    "    # y_pred = np.argmax(outputs, axis=1)\n",
    "    # softmax = np.exp(outputs) / np.sum(np.exp(outputs), axis=1, keepdims=True)\n",
    "    # y_score = softmax[:, 1]\n",
    "    y_true = np.array(targets)\n",
    "\n",
    "    f2 =  metrics.fbeta_score(y_true, y_pred, average=\"binary\", pos_label=1, beta=2)\n",
    "    print(f\"{prefix} F2-score: {round(f2,4)}\")\n",
    "\n",
    "    mcc = metrics.matthews_corrcoef(y_true, y_pred)\n",
    "    print(f\"{prefix} Matthew Correlation Coefficient: {round(mcc,4)}\")\n",
    "\n",
    "    recall_macro = metrics.recall_score(y_true, y_pred, average=\"binary\", pos_label=1)\n",
    "    print(f\"{prefix} Recall: {round(recall_macro,4)}\")\n",
    "\n",
    "    precision_macro = metrics.precision_score(y_true, y_pred, average=\"binary\", pos_label=1)\n",
    "    print(f\"{prefix} Precision: {round(precision_macro,4)}\")\n",
    "\n",
    "    accuracy_macro = metrics.accuracy_score(y_true, y_pred)\n",
    "    print(f\"{prefix} Accuracy: {round(accuracy_macro,4)}\")\n",
    "    \n",
    "    return y_true, y_score, y_pred"
   ]
  },
  {
   "cell_type": "code",
   "execution_count": 108,
   "metadata": {},
   "outputs": [],
   "source": [
    "os.environ[\"TOKENIZERS_PARALLELISM\"] = \"TRUE\""
   ]
  },
  {
   "cell_type": "code",
   "execution_count": 109,
   "metadata": {},
   "outputs": [
    {
     "name": "stdout",
     "output_type": "stream",
     "text": [
      "######  Epoch 1/5 ######\n",
      "-----  Training -----\n",
      "Batch 2,000  of  18,693.  Loss 0.6320  Elapsed: 0:05:21.\n",
      "Batch 4,000  of  18,693.  Loss 0.7045  Elapsed: 0:10:34.\n",
      "Batch 6,000  of  18,693.  Loss 0.6316  Elapsed: 0:15:46.\n",
      "Batch 8,000  of  18,693.  Loss 0.6775  Elapsed: 0:20:58.\n",
      "Batch 10,000  of  18,693.  Loss 0.6116  Elapsed: 0:26:11.\n",
      "Batch 12,000  of  18,693.  Loss 0.6475  Elapsed: 0:31:23.\n",
      "Batch 14,000  of  18,693.  Loss 0.7384  Elapsed: 0:36:36.\n",
      "Batch 16,000  of  18,693.  Loss 0.7518  Elapsed: 0:41:49.\n",
      "Batch 18,000  of  18,693.  Loss 0.6613  Elapsed: 0:47:01.\n",
      "\n",
      "Avg Training Loss 0.6729, Completed in 0:49:00 \n",
      "\n",
      "-----  Validation -----\n",
      "\n",
      "Avg Validation Loss 0.6807, Completed in 0:04:44\n",
      "Validation F2-score: 0.7179\n",
      "Validation Matthew Correlation Coefficient: 0.065\n",
      "Validation Recall: 0.7513\n",
      "Validation Precision: 0.6095\n",
      "Validation Accuracy: 0.5693\n",
      "######  Epoch 2/5 ######\n",
      "-----  Training -----\n",
      "Batch 2,000  of  18,693.  Loss 0.6819  Elapsed: 0:05:22.\n",
      "Batch 4,000  of  18,693.  Loss 0.6470  Elapsed: 0:10:34.\n",
      "Batch 6,000  of  18,693.  Loss 0.6720  Elapsed: 0:15:47.\n",
      "Batch 8,000  of  18,693.  Loss 0.7338  Elapsed: 0:21:00.\n",
      "Batch 10,000  of  18,693.  Loss 0.5963  Elapsed: 0:26:14.\n",
      "Batch 12,000  of  18,693.  Loss 0.7653  Elapsed: 0:31:27.\n",
      "Batch 14,000  of  18,693.  Loss 0.7159  Elapsed: 0:36:39.\n",
      "Batch 16,000  of  18,693.  Loss 0.7512  Elapsed: 0:41:52.\n",
      "Batch 18,000  of  18,693.  Loss 0.6778  Elapsed: 0:47:04.\n",
      "\n",
      "Avg Training Loss 0.6565, Completed in 0:49:03 \n",
      "\n",
      "-----  Validation -----\n",
      "\n",
      "Avg Validation Loss 0.7660, Completed in 0:04:43\n",
      "Validation F2-score: 0.2928\n",
      "Validation Matthew Correlation Coefficient: 0.1652\n",
      "Validation Recall: 0.254\n",
      "Validation Precision: 0.7529\n",
      "Validation Accuracy: 0.5108\n",
      "######  Epoch 3/5 ######\n",
      "-----  Training -----\n",
      "Batch 2,000  of  18,693.  Loss 0.6597  Elapsed: 0:05:22.\n",
      "Batch 4,000  of  18,693.  Loss 0.5607  Elapsed: 0:10:35.\n",
      "Batch 6,000  of  18,693.  Loss 0.7498  Elapsed: 0:15:48.\n",
      "Batch 8,000  of  18,693.  Loss 0.5436  Elapsed: 0:21:01.\n",
      "Batch 10,000  of  18,693.  Loss 0.4606  Elapsed: 0:26:15.\n",
      "Batch 12,000  of  18,693.  Loss 0.6275  Elapsed: 0:31:27.\n",
      "Batch 14,000  of  18,693.  Loss 0.7099  Elapsed: 0:36:40.\n",
      "Batch 16,000  of  18,693.  Loss 0.6030  Elapsed: 0:41:54.\n",
      "Batch 18,000  of  18,693.  Loss 0.7517  Elapsed: 0:47:09.\n",
      "\n",
      "Avg Training Loss 0.6472, Completed in 0:49:08 \n",
      "\n",
      "-----  Validation -----\n",
      "\n",
      "Avg Validation Loss 0.6619, Completed in 0:04:45\n",
      "Validation F2-score: 0.6846\n",
      "Validation Matthew Correlation Coefficient: 0.1656\n",
      "Validation Recall: 0.693\n",
      "Validation Precision: 0.6528\n",
      "Validation Accuracy: 0.6015\n",
      "######  Epoch 4/5 ######\n",
      "-----  Training -----\n",
      "Batch 2,000  of  18,693.  Loss 0.7041  Elapsed: 0:05:24.\n",
      "Batch 4,000  of  18,693.  Loss 0.7326  Elapsed: 0:10:38.\n",
      "Batch 6,000  of  18,693.  Loss 0.8964  Elapsed: 0:15:53.\n",
      "Batch 8,000  of  18,693.  Loss 0.6763  Elapsed: 0:21:07.\n",
      "Batch 10,000  of  18,693.  Loss 0.6358  Elapsed: 0:26:22.\n",
      "Batch 12,000  of  18,693.  Loss 0.5766  Elapsed: 0:31:37.\n",
      "Batch 14,000  of  18,693.  Loss 0.6488  Elapsed: 0:36:52.\n",
      "Batch 16,000  of  18,693.  Loss 0.6391  Elapsed: 0:42:07.\n",
      "Batch 18,000  of  18,693.  Loss 0.5856  Elapsed: 0:47:22.\n",
      "\n",
      "Avg Training Loss 0.6399, Completed in 0:49:22 \n",
      "\n",
      "-----  Validation -----\n",
      "\n",
      "Avg Validation Loss 0.6541, Completed in 0:04:45\n",
      "Validation F2-score: 0.6352\n",
      "Validation Matthew Correlation Coefficient: 0.2137\n",
      "Validation Recall: 0.6233\n",
      "Validation Precision: 0.688\n",
      "Validation Accuracy: 0.611\n",
      "######  Epoch 5/5 ######\n",
      "-----  Training -----\n",
      "Batch 2,000  of  18,693.  Loss 0.6238  Elapsed: 0:05:24.\n",
      "Batch 4,000  of  18,693.  Loss 0.5899  Elapsed: 0:10:39.\n",
      "Batch 6,000  of  18,693.  Loss 0.7418  Elapsed: 0:15:53.\n",
      "Batch 8,000  of  18,693.  Loss 0.5394  Elapsed: 0:21:08.\n",
      "Batch 10,000  of  18,693.  Loss 0.6373  Elapsed: 0:26:22.\n",
      "Batch 12,000  of  18,693.  Loss 0.4950  Elapsed: 0:31:38.\n",
      "Batch 14,000  of  18,693.  Loss 0.6755  Elapsed: 0:36:53.\n",
      "Batch 16,000  of  18,693.  Loss 0.5545  Elapsed: 0:42:08.\n",
      "Batch 18,000  of  18,693.  Loss 0.5615  Elapsed: 0:47:23.\n",
      "\n",
      "Avg Training Loss 0.6357, Completed in 0:49:23 \n",
      "\n",
      "-----  Validation -----\n",
      "\n",
      "Avg Validation Loss 0.6525, Completed in 0:04:46\n",
      "Validation F2-score: 0.6602\n",
      "Validation Matthew Correlation Coefficient: 0.2061\n",
      "Validation Recall: 0.6559\n",
      "Validation Precision: 0.6778\n",
      "Validation Accuracy: 0.6131\n"
     ]
    }
   ],
   "source": [
    "# Store the average loss after each epoch so we can plot them.\n",
    "train_loss_values = []\n",
    "val_loss_values = []\n",
    "\n",
    "for epoch in range(EPOCHS):\n",
    "    print ('######  Epoch {}/{} ######'.format(epoch+1, EPOCHS))\n",
    "    print ('-----  Training -----')\n",
    "    train_loss, train_time = train(train_loader, model, criterion, optimizer)\n",
    "    train_loss_values.append(train_loss)\n",
    "\n",
    "    print ('-----  Validation -----')\n",
    "    val_outputs, val_targets, val_loss, val_time = validate(val_loader, model, criterion)\n",
    "    val_loss_values.append(val_loss)\n",
    "    y_val_true, y_val_score, y_val_pred = compute_metrics(val_outputs, val_targets, prefix=\"Validation\")"
   ]
  },
  {
   "cell_type": "code",
   "execution_count": 110,
   "metadata": {},
   "outputs": [
    {
     "data": {
      "image/png": "[encoded data removed]",
      "text/plain": [
       "<Figure size 1000x600 with 1 Axes>"
      ]
     },
     "metadata": {},
     "output_type": "display_data"
    }
   ],
   "source": [
    "### Plot Training & Validation Loss\n",
    "data = {'Epoch': range(1, 6), 'Training Loss': train_loss_values, 'Validation Loss': val_loss_values}\n",
    "df = pd.DataFrame(data)\n",
    "\n",
    "fig, ax = plt.subplots(figsize=(10, 6))\n",
    "sns.set_style('whitegrid')\n",
    "sns.set(font_scale=1.5)\n",
    "\n",
    "# Plot train & val loss\n",
    "sns.lineplot(data=df, x=\"Epoch\", y=\"Training Loss\", label=\"Training Loss\", marker='o')\n",
    "sns.lineplot(data=df, x=\"Epoch\", y=\"Validation Loss\", label=\"Validation Loss\", marker='o')\n",
    "\n",
    "# set the axis labels and title\n",
    "ax.set(xlabel='Epoch', ylabel='Loss')\n",
    "ax.set_title('Training and Validation Loss', fontsize=18)\n",
    "ax.set_ylim(0)\n",
    "\n",
    "# set the legend and adjust its position\n",
    "plt.legend(fontsize=14)\n",
    "\n",
    "# set the ticks fontsize\n",
    "ax.tick_params(axis='both', which='major', labelsize=14)"
   ]
  },
  {
   "cell_type": "code",
   "execution_count": 111,
   "metadata": {
    "id": "iQDSVwgdAiIc"
   },
   "outputs": [],
   "source": [
    "torch.save(model.state_dict(), 'models/BioClinicalBertMorgan768Clusters.pth')"
   ]
  },
  {
   "cell_type": "markdown",
   "metadata": {
    "id": "OGDGA3AYKNSi"
   },
   "source": [
    "### Evaluation"
   ]
  },
  {
   "cell_type": "code",
   "execution_count": 112,
   "metadata": {
    "id": "5Rv-OvFkAaKp"
   },
   "outputs": [
    {
     "name": "stdout",
     "output_type": "stream",
     "text": [
      "\n",
      "Evaluation metrics for Test Set:\n",
      "Batch 2,000  of  13,504.  Loss 0.5495  Elapsed: 0:04:54.\n",
      "Batch 4,000  of  13,504.  Loss 0.6929  Elapsed: 0:09:40.\n",
      "Batch 6,000  of  13,504.  Loss 0.4974  Elapsed: 0:14:25.\n",
      "Batch 8,000  of  13,504.  Loss 0.6313  Elapsed: 0:19:11.\n",
      "Batch 10,000  of  13,504.  Loss 0.7052  Elapsed: 0:23:56.\n",
      "Batch 12,000  of  13,504.  Loss 0.7650  Elapsed: 0:28:42.\n",
      "\n",
      "Avg Validation Loss 0.6323, Completed in 0:32:27\n",
      "\n",
      "Testing F2-score: 0.7065\n",
      "Testing Matthew Correlation Coefficient: 0.2276\n",
      "Testing Recall: 0.7045\n",
      "Testing Precision: 0.7148\n",
      "Testing Accuracy: 0.6375\n"
     ]
    }
   ],
   "source": [
    "# Predicting with Test Set\n",
    "print('\\nEvaluation metrics for Test Set:')\n",
    "test_outputs, test_targets, test_loss, test_time = validate(test_loader, model, criterion, verbose=True)\n",
    "print()\n",
    "y_test_true, y_test_score, y_test_pred = compute_metrics(test_outputs, test_targets, prefix=\"Testing\")"
   ]
  },
  {
   "cell_type": "code",
   "execution_count": 117,
   "metadata": {},
   "outputs": [
    {
     "data": {
      "image/png": "[encoded data removed]",
      "text/plain": [
       "<Figure size 800x800 with 1 Axes>"
      ]
     },
     "metadata": {},
     "output_type": "display_data"
    }
   ],
   "source": [
    "# Extract AUPRC & AP\n",
    "def plot_AUPRC(y_true, y_score, title='Area Under Precision Recall Curve'):\n",
    "    sns.set_style('white')\n",
    "    plt.figure(figsize=(8,8))\n",
    "\n",
    "    # Compute precision-recall pairs\n",
    "    precision, recall, thresholds = precision_recall_curve(y_true, y_score)\n",
    "    # Compute AUPRC\n",
    "    auprc = auc(recall, precision)\n",
    "    plt.plot(recall, precision, color=\"#663399\", lw=2, alpha=0.9,\n",
    "             label=f'AUPRC = {round(auprc, 3)})'\n",
    "             )\n",
    "    plt.xlabel('Recall', fontsize=14)\n",
    "    plt.ylabel('Precision', fontsize=14)\n",
    "    plt.ylim(bottom=0)\n",
    "    plt.title(title, fontsize=16)\n",
    "    plt.legend()\n",
    "    plt.show()\n",
    "\n",
    "plot_AUPRC(y_test_true, y_test_score)"
   ]
  },
  {
   "cell_type": "code",
   "execution_count": 114,
   "metadata": {
    "id": "v1s-IIn7J-mR"
   },
   "outputs": [
    {
     "name": "stdout",
     "output_type": "stream",
     "text": [
      "Validation Set - Classification Report:\n",
      "              precision    recall  f1-score   support\n",
      "\n",
      "     class 0       0.51      0.52      0.52     80235\n",
      "     class 1       0.71      0.70      0.71    135828\n",
      "\n",
      "    accuracy                           0.64    216063\n",
      "   macro avg       0.61      0.61      0.61    216063\n",
      "weighted avg       0.64      0.64      0.64    216063\n",
      "\n"
     ]
    }
   ],
   "source": [
    "target_names = ['class ' + str(x) for x in range(2)]\n",
    "val_classification_report = classification_report(y_test_true, y_test_pred, target_names=target_names)\n",
    "print(\"Validation Set - Classification Report:\")\n",
    "print(val_classification_report)"
   ]
  },
  {
   "cell_type": "code",
   "execution_count": 115,
   "metadata": {
    "id": "_nKsz6FeVbCr"
   },
   "outputs": [
    {
     "data": {
      "text/plain": [
       "array([[52.42101327, 47.57898673],\n",
       "       [29.5528168 , 70.4471832 ]])"
      ]
     },
     "execution_count": 115,
     "metadata": {},
     "output_type": "execute_result"
    }
   ],
   "source": [
    "conf_matrix = confusion_matrix(y_test_true, y_test_pred)\n",
    "conf_matrix = conf_matrix/conf_matrix.sum(axis=1, keepdims=True) * 100 #Convert to percentage\n",
    "conf_matrix"
   ]
  },
  {
   "cell_type": "code",
   "execution_count": 116,
   "metadata": {},
   "outputs": [
    {
     "data": {
      "image/png": "[encoded data removed]",
      "text/plain": [
       "<Figure size 600x600 with 2 Axes>"
      ]
     },
     "metadata": {},
     "output_type": "display_data"
    }
   ],
   "source": [
    "def plot_conf_matrix_high(conf_matrix):\n",
    "    \"\"\"Plot confusion matrix\"\"\"\n",
    "    fig, ax = plt.subplots(figsize=(6, 6))\n",
    "    sns.heatmap(\n",
    "        conf_matrix, annot=True,\n",
    "        cmap=sns.cubehelix_palette(as_cmap=True),\n",
    "        xticklabels= ['Negative', 'Positive'],\n",
    "        yticklabels= ['Negative', 'Positive'],\n",
    "        # fmt=',.0f'\n",
    "        fmt='.1f'\n",
    "    )\n",
    "    ax.set_xlabel(\"Predicted Label\", fontsize=16)\n",
    "    ax.set_ylabel(\"True Label\", fontsize=16)\n",
    "    ax.set_title(\"Normalized Confusion Matrix (%)\", fontsize=18)\n",
    "    plt.show()\n",
    "\n",
    "plot_conf_matrix_high(conf_matrix)"
   ]
  },
  {
   "cell_type": "markdown",
   "source": [
    "## Training Manually_ SMILES Two Branches Morgan & BioClinicalBERT"
   ],
   "metadata": {
    "collapsed": false
   }
  },
  {
   "cell_type": "markdown",
   "source": [
    "### Build Model"
   ],
   "metadata": {
    "collapsed": false
   }
  },
  {
   "cell_type": "code",
   "execution_count": null,
   "outputs": [],
   "source": [
    "# Define hyperparameters\n",
    "BATCH_SIZE = 16\n",
    "EPOCHS = 30\n",
    "LEARNING_RATE = 0.001\n",
    "# MOMENTUM = 0.9\n",
    "WEIGHT_DECAY = 0.01\n",
    "WORKERS = int(os.cpu_count())"
   ],
   "metadata": {
    "collapsed": false
   }
  },
  {
   "cell_type": "code",
   "execution_count": null,
   "outputs": [],
   "source": [
    "# BERT Model\n",
    "class MorganBioBertClassification(nn.Module):\n",
    "    def __init__(self,output_dim=1,\n",
    "                 hidden_size=68, hidden_size2=54, hidden_size3=40,\n",
    "                 dropout=0.1, unfreeze=False):\n",
    "        super(MorganBioBertClassification, self).__init__()\n",
    "        self.bert_model = AutoModel.from_pretrained(\"emilyalsentzer/Bio_ClinicalBERT\")\n",
    "\n",
    "        # Unfreeze the last BERT transformer layer\n",
    "        if unfreeze == \"last layer\":\n",
    "            for name, param in self.bert_model.named_parameters():\n",
    "                if 'bert_model.encoder.layer.11' in name:\n",
    "                    param.requires_grad = True\n",
    "                else:\n",
    "                    param.requires_grad = False\n",
    "        if unfreeze == \"last two\":\n",
    "            for name, param in self.bert_model.named_parameters():\n",
    "                if 'bert_model.encoder.layer.11' in name or 'bert_model.encoder.layer.10' in name:\n",
    "                    param.requires_grad = True\n",
    "                else:\n",
    "                    param.requires_grad = False\n",
    "        if unfreeze == \"all layers\":\n",
    "            for name, param in self.bert_model.named_parameters():\n",
    "                param.requires_grad = True\n",
    "        else:\n",
    "            for name, param in self.bert_model.named_parameters():\n",
    "                param.requires_grad = False\n",
    "\n",
    "        self.bert_hidden_size = self.bert_model.config.hidden_size\n",
    "        self.hidden_size = hidden_size\n",
    "        self.hidden_size2 = hidden_size2\n",
    "        self.hidden_size3 = hidden_size3\n",
    "        self.hidden_layer = nn.Linear(self.bert_hidden_size, self.hidden_size)\n",
    "        self.hidden_layer2 = nn.Linear(self.hidden_size, self.hidden_size2)\n",
    "        self.hidden_layer3 = nn.Linear(self.hidden_size2, self.hidden_size3)\n",
    "\n",
    "        # Morgan Embedding First hidden layer\n",
    "        self.hidden_layer_morgan = nn.Linear(1536, self.hidden_size)\n",
    "        self.hidden_layer2_morgan = nn.Linear(self.hidden_size, self.hidden_size2)\n",
    "        self.hidden_layer3_morgan = nn.Linear(self.hidden_size2, self.hidden_size3)\n",
    "\n",
    "        # One hidden Layer after combining both branches\n",
    "        self.hidden_layer_combine = nn.Linear(2*self.hidden_size3, self.hidden_size3)\n",
    "\n",
    "        self.drop_out = nn.Dropout(dropout)\n",
    "\n",
    "        self.classification = nn.Linear(self.hidden_size3, output_dim)\n",
    "\n",
    "        self.GeLU = nn.GELU()\n",
    "        self.Sigmoid = nn.Sigmoid()\n",
    "\n",
    "    def forward(self, input_ids, attention_mask, morgan_embedding):\n",
    "        # Output for target data\n",
    "        bert_output = self.bert_model(input_ids=input_ids,\n",
    "                                      attention_mask=attention_mask)\n",
    "\n",
    "        pooler_token = bert_output[1]\n",
    "\n",
    "        hidden_ouput = self.GeLU(self.hidden_layer(pooler_token))\n",
    "        hidden_ouput = self.drop_out(hidden_ouput)\n",
    "        hidden_ouput = self.GeLU(self.hidden_layer2(hidden_ouput))\n",
    "        hidden_ouput = self.drop_out(hidden_ouput)\n",
    "        hidden_ouput = self.GeLU(self.hidden_layer3(hidden_ouput))\n",
    "        hidden_ouput = self.drop_out(hidden_ouput)\n",
    "\n",
    "        # Output for SMILES Morgan Embedding\n",
    "        hidden_morgan_output = self.GeLU(self.hidden_layer_morgan(morgan_embedding))\n",
    "        hidden_morgan_output = self.drop_out(hidden_morgan_output)\n",
    "        hidden_morgan_output = self.GeLU(self.hidden_layer2_morgan(hidden_morgan_output))\n",
    "        hidden_morgan_output = self.drop_out(hidden_morgan_output)\n",
    "        hidden_morgan_output = self.GeLU(self.hidden_layer3_morgan(hidden_morgan_output))\n",
    "        hidden_morgan_output = self.drop_out(hidden_morgan_output)\n",
    "\n",
    "        # Concatenate hidden_output and morgan_output\n",
    "        concat_output = torch.cat((hidden_morgan_output, hidden_ouput), 1)\n",
    "        hidden_concat_output = self.GeLU(self.hidden_layer_combine(concat_output))\n",
    "        hidden_concat_output = self.drop_out(hidden_concat_output)\n",
    "\n",
    "        # logits = self.classification(x)\n",
    "        output = self.Sigmoid(self.classification(hidden_concat_output))\n",
    "        output = output.flatten()\n",
    "\n",
    "        # return logits\n",
    "        return output"
   ],
   "metadata": {
    "collapsed": false
   }
  },
  {
   "cell_type": "code",
   "execution_count": null,
   "outputs": [],
   "source": [
    "# Initialize model\n",
    "model = MorganBioBertClassification()\n",
    "model = model.to(device)\n",
    "\n",
    "#load the pre-trained Bio-ClinicalBERT model and tokenizer\n",
    "tokenizer = AutoTokenizer.from_pretrained('emilyalsentzer/Bio_ClinicalBERT')\n",
    "\n",
    "# Print out models params for checking\n",
    "params = list(model.named_parameters())\n",
    "for p in params[-30:]:\n",
    "    print(\"{:<55} {:>12}\".format(p[0], str(tuple(p[1].size()))))"
   ],
   "metadata": {
    "collapsed": false
   }
  },
  {
   "cell_type": "markdown",
   "source": [
    "### Build DataLoader"
   ],
   "metadata": {
    "collapsed": false
   }
  },
  {
   "cell_type": "code",
   "execution_count": null,
   "outputs": [],
   "source": [
    "# Import data\n",
    "train_file = 'data/binary_ddi/ddi_train_balanced_with_target_150k.csv'\n",
    "dev_file = 'data/binary_ddi/ddi_val_binary_with_target.csv'\n",
    "test_file = 'data/binary_ddi/ddi_test_binary_with_target.csv'\n",
    "\n",
    "df_train = pd.read_csv(train_file, sep='\\t')\n",
    "df_val= pd.read_csv(dev_file, sep='\\t')\n",
    "df_test = pd.read_csv(test_file, sep='\\t')\n",
    "\n",
    "print(f'''mean length of smiles1: {df_train['smiles1'].map(len).mean()}''')\n",
    "print(f'''min length of smiles1: {df_train['smiles1'].map(len).min()}''')\n",
    "print(f'''max length of smiles1: {df_train['smiles1'].map(len).max()}''')\n",
    "print(f'''mean length of smiles2: {df_train['smiles2'].map(len).mean()}''')\n",
    "print(f'''min length of smiles2: {df_train['smiles2'].map(len).min()}''')\n",
    "print(f'''max length of smiles2: {df_train['smiles2'].map(len).max()}''')\n",
    "print(f'''mean length of target1: {df_train['d1_target'].map(len).mean()}''')\n",
    "print(f'''min length of target1: {df_train['d1_target'].map(len).min()}''')\n",
    "print(f'''max length of target1: {df_train['d1_target'].map(len).max()}''')\n",
    "print('Value Counts of Labels in Train Set:')\n",
    "df_train.interaction_type.value_counts()\n",
    "df_train.head(2)"
   ],
   "metadata": {
    "collapsed": false
   }
  },
  {
   "cell_type": "code",
   "execution_count": null,
   "outputs": [],
   "source": [
    "from sklearn.utils import resample\n",
    "\n",
    "# Choose a smaller subset of val data for faster training\n",
    "df_val_small = resample(df_val,\n",
    "                        replace=False,     # sample without replacement\n",
    "                        n_samples=30000,\n",
    "                        # random_state=1\n",
    "                        )\n",
    "print(df_val_small.shape)\n",
    "df_val_small.head(2)"
   ],
   "metadata": {
    "collapsed": false
   }
  },
  {
   "cell_type": "code",
   "execution_count": null,
   "outputs": [],
   "source": [
    "# Import Drug2Vec Embedding - Morgan Fingerprints, Cosine Similarity\n",
    "# drug2vec_model = gensim.models.KeyedVectors.load_word2vec_format(fname=f\"data/binary_ddi/drug2vec_300clusters_morgan_cosine.txt\", binary=False)\n",
    "# Import Drug2Vec Embedding - Morgan Fingerprints, Tanimoto Similarity, 768 clusters\n",
    "drug2vec_model = gensim.models.KeyedVectors.load_word2vec_format(fname=f\"data/binary_ddi/drug2vec_768clusters_maccs_tanimoto.txt\", binary=False)\n",
    "\n",
    "print('Number of drugs available:', len(drug2vec_model.index_to_key))\n",
    "print('Example - top 10 keys:', drug2vec_model.index_to_key[:10])\n",
    "print('Embedding dimension:', len(drug2vec_model[drug2vec_model.index_to_key[0]]))"
   ],
   "metadata": {
    "collapsed": false
   }
  },
  {
   "cell_type": "code",
   "execution_count": null,
   "outputs": [],
   "source": [
    "def build_data_loader(df, shuffle=True, verbose=False):\n",
    "    # Extract Morgan Fingerprint Embedding\n",
    "    # Remove the 4 SMILES causing error, only include SMILES in drug2vec.txt\n",
    "    valid_smiles = drug2vec_model.index_to_key\n",
    "    df = df[df['d1'].isin(valid_smiles) & df['d2'].isin(valid_smiles)]\n",
    "\n",
    "    # Extract embedding\n",
    "    df['d1_embedding'] = df['d1'].apply(lambda x: drug2vec_model[x])\n",
    "    df['d2_embedding'] = df['d2'].apply(lambda x: drug2vec_model[x])\n",
    "\n",
    "    # Drop all records that could not extract embedding (SMILES errors)\n",
    "    df = df.dropna(subset=['d1_embedding', 'd2_embedding'], how='any')\n",
    "    d1_embed = np.array(df['d1_embedding'].tolist())\n",
    "    d2_embed = np.array(df['d2_embedding'].tolist())\n",
    "    X_smiles = np.hstack((d1_embed, d2_embed))\n",
    "    morgan_embedding = torch.from_numpy(X_smiles)\n",
    "    if verbose:\n",
    "        print('Drug1 Embedding Dimension:',d1_embed.shape)\n",
    "        print('Drug2 Embedding Dimension:',d2_embed.shape)\n",
    "        print('Drug 1 Concatenate with Drug 2 Embedding Dimension:', X_smiles.shape)\n",
    "        print('Torch tensor Embedding Dimension:', morgan_embedding.shape)\n",
    "\n",
    "    # Combine SMILES1 & SMILE2 Together, using [SEP] token to distingush between drug1 & drug2\n",
    "    df[\"features\"] = df[\"smiles1\"].str[:254] + \" [SEP] \" + df[\"smiles2\"].str[:254]\n",
    "    X = df[\"features\"]\n",
    "    y = df[\"interaction_type\"]\n",
    "\n",
    "    # Combine Target2 and Target2 Together, using [SEP] token to distingush between drug1 & drug2\n",
    "    # df[\"target_features\"] = \"Drug1: \" + df[\"d1_target_action\"] + \" [SEP] \" + \"Drug2: \" + df[\"d2_target_action\"] + \" [SEP]\"\n",
    "    # X_target = df[\"target_features\"]\n",
    "\n",
    "    # Tokenize Target\n",
    "    _encodings = tokenizer(\n",
    "        list(X.values),\n",
    "        max_length=512,\n",
    "        truncation=True,\n",
    "        pad_to_max_length=True,\n",
    "        return_token_type_ids=False,\n",
    "        return_tensors='pt'\n",
    "    )\n",
    "\n",
    "    _ids = _encodings.input_ids\n",
    "    _mask = _encodings.attention_mask\n",
    "    _labels = torch.tensor(y.values)\n",
    "    if verbose:\n",
    "        print('Torch tensor target_ids Dimension:', _ids.shape)\n",
    "        print('Torch tensor labels Dimension:', _labels.shape)\n",
    "\n",
    "    _dataset = TensorDataset(_ids, _mask, _labels, morgan_embedding)\n",
    "    _loader = DataLoader(_dataset, batch_size=BATCH_SIZE, shuffle=shuffle, num_workers=WORKERS)\n",
    "\n",
    "    return _loader"
   ],
   "metadata": {
    "collapsed": false
   }
  },
  {
   "cell_type": "code",
   "execution_count": null,
   "outputs": [],
   "source": [
    "# Val Data Loader\n",
    "print('Validation Data Loader:')\n",
    "val_loader = build_data_loader(df_val_small, shuffle=False, verbose=True)"
   ],
   "metadata": {
    "collapsed": false
   }
  },
  {
   "cell_type": "code",
   "execution_count": null,
   "outputs": [],
   "source": [
    "# Train Data Loader\n",
    "print('Training Data Loader:')\n",
    "train_loader = build_data_loader(df_train, verbose=True)"
   ],
   "metadata": {
    "collapsed": false
   }
  },
  {
   "cell_type": "code",
   "execution_count": null,
   "outputs": [],
   "source": [
    "print('Train batches:', len(train_loader))\n",
    "print('Val subset batches:', len(val_loader))\n",
    "# print('Val Full batches:', len(val_loader_full))\n",
    "print('Test batches:', len(test_loader))"
   ],
   "metadata": {
    "collapsed": false
   }
  },
  {
   "cell_type": "markdown",
   "source": [
    "### Training\n",
    "#### Learning Rate Finder"
   ],
   "metadata": {
    "collapsed": false
   }
  },
  {
   "cell_type": "code",
   "execution_count": null,
   "outputs": [],
   "source": [
    "# Initialize Model\n",
    "model = MorganBioBertClassification(unfreeze=False)\n",
    "model = model.to(device)\n",
    "\n",
    "# Initiate loss to Binary Cross Entropy\n",
    "criterion = nn.BCELoss()\n",
    "\n",
    "# Optimizer\n",
    "# optimizer = optim.Adadelta(model.parameters(), lr=1e-7, weight_decay=1e-2)\n",
    "optimizer = optim.AdamW(model.parameters(), lr=1e-7, weight_decay=1e-2)"
   ],
   "metadata": {
    "collapsed": false
   }
  },
  {
   "cell_type": "code",
   "execution_count": null,
   "outputs": [],
   "source": [
    "# Function to adjust the Learning Rate manually for Finding a good learning rate\n",
    "# Increase LR from 1e-7 to 10 in exponential manner\n",
    "n_step_lr = 100\n",
    "learning_rates = np.logspace(-7, 1, n_step_lr)\n",
    "\n",
    "def adjust_learning_rate(optimizer, step):\n",
    "    \"\"\"This function is for testing different learning rate in an epoch to find the best LR range\"\"\"\n",
    "    for param_group in optimizer.param_groups:\n",
    "        param_group['lr'] = learning_rates[step]\n",
    "\n",
    "learning_rates"
   ],
   "metadata": {
    "collapsed": false
   }
  },
  {
   "cell_type": "code",
   "execution_count": null,
   "outputs": [],
   "source": [
    "def format_time(seconds):\n",
    "    return str(datetime.timedelta(seconds=int(round(seconds))))"
   ],
   "metadata": {
    "collapsed": false
   }
  },
  {
   "cell_type": "code",
   "execution_count": null,
   "outputs": [],
   "source": [
    "## Define Learning Rate Finding fuction\n",
    "def train_LRFinder(train_loader, model, criterion, optimizer, verbose=True):\n",
    "    # reset total loss for each epoch\n",
    "    total_loss = 0\n",
    "\n",
    "    # LR Finding initialization\n",
    "    losses = []\n",
    "    lrs = []\n",
    "    loss_100iters = 0\n",
    "\n",
    "\n",
    "    # switch model to train mode\n",
    "    model.train()\n",
    "\n",
    "    # start time\n",
    "    t0 = time.time()\n",
    "\n",
    "    for step, data in enumerate(train_loader):\n",
    "        # zero out gradients in the optimizer each step\n",
    "        optimizer.zero_grad()\n",
    "\n",
    "        # send the data to cuda device\n",
    "        ids = data[0].to(device, dtype = torch.long)\n",
    "        mask = data[1].to(device, dtype = torch.long)\n",
    "        target = data[2].float().to(device)\n",
    "\n",
    "        # compute output\n",
    "        output = model(input_ids=ids,\n",
    "                       attention_mask=mask)\n",
    "\n",
    "        # compute loss\n",
    "        loss = criterion(output, target)\n",
    "\n",
    "        # Accumulate the training loss over all of the batches\n",
    "        total_loss += loss.item()\n",
    "        loss_100iters += loss.item()\n",
    "\n",
    "        # compute gradient\n",
    "        # backprop!\n",
    "        loss.backward()\n",
    "\n",
    "        # update the weights!\n",
    "        optimizer.step()\n",
    "\n",
    "        # Report progress\n",
    "        update_lr_step = len(train_loader)/n_step_lr  #step = 250\n",
    "        if step % update_lr_step == 0 and not step == 0 and verbose==True:\n",
    "            n_iter_lr = int(step//update_lr_step)\n",
    "            # Average loss for the current LR\n",
    "            loss_100iters = loss_100iters / update_lr_step\n",
    "            lr = learning_rates[n_iter_lr]\n",
    "\n",
    "            print('Batch {:>5,}  of  {:>5,}.   Step Loss {:0.4f}   Avg Loss {:0.4f}   Learning Rate {:}    Elapsed: {:}.'.format(\n",
    "                step,\n",
    "                len(train_loader),\n",
    "                loss.item(),\n",
    "                loss_100iters,\n",
    "                lr,\n",
    "                format_time(time.time() - t0)))\n",
    "\n",
    "            # Add loss & lr to list for ploting later\n",
    "            losses.append(loss_100iters)\n",
    "            lrs.append(lr)\n",
    "\n",
    "            # update learning rate\n",
    "            # scheduler.step()\n",
    "            adjust_learning_rate(optimizer, n_iter_lr)\n",
    "\n",
    "            # Reset loss for next lr\n",
    "            loss_100iters = 0\n",
    "\n",
    "    # Last iteration\n",
    "    loss_100iters = loss_100iters / update_lr_step\n",
    "    # Add loss & lr to list for ploting later\n",
    "    losses.append(loss_100iters)\n",
    "    lrs.append(learning_rates[-1])\n",
    "\n",
    "    avg_train_loss = total_loss / len(train_loader)\n",
    "    elapsed_time = time.time() - t0\n",
    "    if verbose:\n",
    "        print (\"\\nAvg Training Loss {:0.4f}, Completed in {:} \\n\".format(\n",
    "            avg_train_loss,\n",
    "            format_time(elapsed_time)\n",
    "        ))\n",
    "\n",
    "    # return model, avg_train_loss, elapsed_time\n",
    "    return losses, lrs"
   ],
   "metadata": {
    "collapsed": false
   }
  },
  {
   "cell_type": "code",
   "execution_count": null,
   "outputs": [],
   "source": [
    "print ('-----  Learning Rate Finder -----')\n",
    "losses, lrs = train_LRFinder(train_loader, model, criterion, optimizer)\n",
    "print('Losses Dim:', len(losses))\n",
    "print('LR Dim:', len(lrs))"
   ],
   "metadata": {
    "collapsed": false
   }
  },
  {
   "cell_type": "code",
   "execution_count": null,
   "outputs": [],
   "source": [
    "plt.title(\"Learning Rate Finder\")\n",
    "plt.ylabel(\"Loss\")\n",
    "plt.xlabel(\"Learning Rate (log scale)\")\n",
    "plt.plot(lrs[:71], losses[:71])\n",
    "plt.xscale('log')"
   ],
   "metadata": {
    "collapsed": false
   }
  },
  {
   "cell_type": "markdown",
   "source": [
    "#### Training with Best LR"
   ],
   "metadata": {
    "collapsed": false
   }
  },
  {
   "cell_type": "code",
   "execution_count": null,
   "outputs": [],
   "source": [
    "# Define hyperparameters\n",
    "BATCH_SIZE = 24\n",
    "EPOCHS = 30\n",
    "LEARNING_RATE = 6.28e-4\n",
    "WEIGHT_DECAY = 1e-2\n",
    "WORKERS = int(os.cpu_count())"
   ],
   "metadata": {
    "collapsed": false
   }
  },
  {
   "cell_type": "code",
   "execution_count": null,
   "outputs": [],
   "source": [
    "# from transformers import get_linear_schedule_with_warmup\n",
    "# Initialize Model\n",
    "model = MorganBioBertClassification(unfreeze=False)\n",
    "model = model.to(device)\n",
    "\n",
    "# Initiate loss to Binary Cross Entropy\n",
    "criterion = nn.BCELoss()\n",
    "\n",
    "# Optimizer\n",
    "# optimizer = optim.Adadelta(model.parameters(), lr=LEARNING_RATE, weight_decay=WEIGHT_DECAY)\n",
    "optimizer = optim.AdamW(model.parameters(), lr=LEARNING_RATE, weight_decay=WEIGHT_DECAY)\n",
    "\n",
    "# Create learning rate scheduler.\n",
    "T_max = EPOCHS*len(train_loader)\n",
    "scheduler = optim.lr_scheduler.CosineAnnealingLR(optimizer, T_max=T_max, eta_min = 1e-7)\n",
    "# scheduler = get_linear_schedule_with_warmup(optimizer, num_warmup_steps=0.1*T_max, num_training_steps=T_max)"
   ],
   "metadata": {
    "collapsed": false
   }
  },
  {
   "cell_type": "code",
   "execution_count": null,
   "outputs": [],
   "source": [
    "## Define train function\n",
    "def train(train_loader, model, criterion, optimizer, verbose=True):\n",
    "    # reset total loss for each epoch\n",
    "    total_loss = 0\n",
    "\n",
    "    # switch model to train mode\n",
    "    model.train()\n",
    "\n",
    "    # start time\n",
    "    t0 = time.time()\n",
    "\n",
    "    for step, data in enumerate(train_loader):\n",
    "        # zero out gradients in the optimizer each step\n",
    "        optimizer.zero_grad()\n",
    "\n",
    "        # send the data to cuda device\n",
    "        ids = data[0].to(device, dtype = torch.long)\n",
    "        mask = data[1].to(device, dtype = torch.long)\n",
    "        target = data[2].float().to(device)\n",
    "\n",
    "        # compute output\n",
    "        output = model(input_ids=ids,\n",
    "                       attention_mask=mask)\n",
    "\n",
    "        # compute loss\n",
    "        loss = criterion(output, target)\n",
    "\n",
    "        # Accumulate the training loss over all of the batches\n",
    "        total_loss += loss.item()\n",
    "\n",
    "        # Report progress every 200 batches\n",
    "        if step % 1000 == 0 and not step == 0 and verbose==True:\n",
    "            print('Batch {:>5,}  of  {:>5,}.  Loss {:0.4f}  Elapsed: {:}.'.format(\n",
    "                step,\n",
    "                len(train_loader),\n",
    "                loss.item(),\n",
    "                format_time(time.time() - t0)))\n",
    "\n",
    "            # compute gradient and do SGD\n",
    "        # backprop!\n",
    "        loss.backward()\n",
    "\n",
    "        # update the weights!\n",
    "        optimizer.step()\n",
    "\n",
    "        # update learning rate with scheduler\n",
    "        scheduler.step()\n",
    "\n",
    "    avg_train_loss = total_loss / len(train_loader)\n",
    "    elapsed_time = time.time() - t0\n",
    "    if verbose:\n",
    "        print (\"\\nAvg Training Loss {:0.4f}, Completed in {:} \\n\".format(\n",
    "            avg_train_loss,\n",
    "            format_time(elapsed_time)\n",
    "        ))\n",
    "\n",
    "    # return model, avg_train_loss, elapsed_time\n",
    "    return avg_train_loss, elapsed_time"
   ],
   "metadata": {
    "collapsed": false
   }
  },
  {
   "cell_type": "code",
   "execution_count": null,
   "outputs": [],
   "source": [
    "## Define validate function\n",
    "def validate(val_loader, model, criterion, verbose=True):\n",
    "    # Initialize\n",
    "    targets=[]\n",
    "    outputs=[]\n",
    "    t0 = time.time()\n",
    "    total_val_loss = 0\n",
    "\n",
    "    # switch to evaluate mode\n",
    "    model.eval()\n",
    "\n",
    "    with torch.no_grad():\n",
    "        for step, data in enumerate(val_loader):\n",
    "\n",
    "            # send the data to cuda device\n",
    "            ids = data[0].to(device, dtype = torch.long)\n",
    "            mask = data[1].to(device, dtype = torch.long)\n",
    "            target = data[2].float().to(device)\n",
    "\n",
    "            # compute output\n",
    "            output = model(input_ids=ids,\n",
    "                           attention_mask=mask)\n",
    "\n",
    "            # compute loss\n",
    "            loss = criterion(output, target)\n",
    "\n",
    "            # Accumulate the validation loss over all of the batches to calculate average loss\n",
    "            total_val_loss += loss.item()\n",
    "\n",
    "            targets.extend(target.cpu().detach().numpy().tolist())\n",
    "            outputs.extend(output.cpu().detach().numpy().tolist())\n",
    "\n",
    "            if step % 1000 == 0 and not step == 0 and verbose==True:\n",
    "                print('Batch {:>5,}  of  {:>5,}.  Loss {:0.4f}  Elapsed: {:}.'.format(\n",
    "                    step,\n",
    "                    len(val_loader),\n",
    "                    loss.item(),\n",
    "                    format_time(time.time() - t0)))\n",
    "\n",
    "    avg_val_loss = total_val_loss / len(val_loader)\n",
    "    elapsed_time = time.time() - t0\n",
    "    if verbose:\n",
    "        print (\"\\nAvg Validation Loss {:0.4f}, Completed in {:}\".format(\n",
    "            avg_val_loss,\n",
    "            format_time(elapsed_time)\n",
    "        ))\n",
    "\n",
    "    return outputs, targets, avg_val_loss, elapsed_time\n"
   ],
   "metadata": {
    "collapsed": false
   }
  },
  {
   "cell_type": "code",
   "execution_count": null,
   "outputs": [],
   "source": [
    "# calculate the F1 score, auc, accuracy of our predictions vs labels\n",
    "def compute_metrics(outputs, targets, prefix=\"Training\"):\n",
    "    y_pred = (np.array(outputs) >= 0.5).astype(float)\n",
    "    y_score = np.array(outputs)\n",
    "    y_true = np.array(targets)\n",
    "\n",
    "    f2 =  metrics.fbeta_score(y_true, y_pred, average=\"binary\", pos_label=1, beta=2)\n",
    "    print(f\"{prefix} F2-score: {round(f2,4)}\")\n",
    "\n",
    "    mcc = metrics.matthews_corrcoef(y_true, y_pred)\n",
    "    print(f\"{prefix} Matthew Correlation Coefficient: {round(mcc,4)}\")\n",
    "\n",
    "    recall_macro = metrics.recall_score(y_true, y_pred, average=\"binary\", pos_label=1)\n",
    "    print(f\"{prefix} Recall: {round(recall_macro,4)}\")\n",
    "\n",
    "    precision_macro = metrics.precision_score(y_true, y_pred, average=\"binary\", pos_label=1)\n",
    "    print(f\"{prefix} Precision: {round(precision_macro,4)}\")\n",
    "\n",
    "    accuracy_macro = metrics.accuracy_score(y_true, y_pred)\n",
    "    print(f\"{prefix} Accuracy: {round(accuracy_macro,4)}\")\n",
    "\n",
    "    return y_true, y_score, y_pred"
   ],
   "metadata": {
    "collapsed": false
   }
  },
  {
   "cell_type": "code",
   "execution_count": null,
   "outputs": [],
   "source": [
    "os.environ[\"TOKENIZERS_PARALLELISM\"] = \"TRUE\""
   ],
   "metadata": {
    "collapsed": false
   }
  },
  {
   "cell_type": "code",
   "execution_count": null,
   "outputs": [],
   "source": [
    "filename = \"models/checkpoint.pth.tar\"\n",
    "\n",
    "def save_checkpoint(state, is_best, filename=filename):\n",
    "    torch.save(state, filename)\n",
    "\n",
    "    if is_best:\n",
    "        shutil.copyfile(filename, 'model_best.pth.tar')\n"
   ],
   "metadata": {
    "collapsed": false
   }
  },
  {
   "cell_type": "code",
   "execution_count": null,
   "outputs": [],
   "source": [
    "# Test LR = 6.28e-4, Optim = AdamW\n",
    "# Store the average loss after each epoch so we can plot them.\n",
    "best_train_loss = 1e5\n",
    "train_loss_values = []\n",
    "val_loss_values = []\n",
    "learning_rates = []\n",
    "\n",
    "for epoch in range(EPOCHS):\n",
    "    print ('######  Epoch {}/{} ######'.format(epoch+1, EPOCHS))\n",
    "    print('Learning rate:', str(scheduler.get_last_lr()[0]))\n",
    "    print()\n",
    "    learning_rates.append(scheduler.get_last_lr())\n",
    "\n",
    "    print ('-----  Training -----')\n",
    "    train_loss, train_time = train(train_loader, model, criterion, optimizer)\n",
    "    train_loss_values.append(train_loss)\n",
    "\n",
    "    print ('-----  Validation -----')\n",
    "    val_outputs, val_targets, val_loss, val_time = validate(val_loader, model, criterion)\n",
    "    val_loss_values.append(val_loss)\n",
    "    y_val_true, y_val_score, y_val_pred = compute_metrics(val_outputs, val_targets, prefix=\"Validation\")\n",
    "    print()\n",
    "\n",
    "    # Get the best loss\n",
    "    is_best = train_loss < best_train_loss\n",
    "    best_train_loss = max(train_loss, best_train_loss)\n",
    "\n",
    "    # Save Checkpoint\n",
    "    save_checkpoint(\n",
    "        {'epoch': epoch+1,\n",
    "         'state_dict': model.state_dict(),\n",
    "         'best_train_loss': best_train_loss,\n",
    "         'optimizer': optimizer.state_dict()\n",
    "         },\n",
    "        is_best\n",
    "    )\n",
    "\n",
    "    if best_train_loss < 0.2:\n",
    "        break\n",
    "\n"
   ],
   "metadata": {
    "collapsed": false
   }
  }
 ],
 "metadata": {
  "accelerator": "GPU",
  "colab": {
   "gpuType": "T4",
   "provenance": [],
   "toc_visible": true
  },
  "kernelspec": {
   "display_name": "Python 3 (ipykernel)",
   "language": "python",
   "name": "python3"
  },
  "language_info": {
   "codemirror_mode": {
    "name": "ipython",
    "version": 3
   },
   "file_extension": ".py",
   "mimetype": "text/x-python",
   "name": "python",
   "nbconvert_exporter": "python",
   "pygments_lexer": "ipython3",
   "version": "3.10.12"
  },
  "widgets": {
   "application/vnd.jupyter.widget-state+json": {
    "007b1fb1d03d433387c5f394485d75cd": {
     "model_module": "@jupyter-widgets/controls",
     "model_module_version": "1.5.0",
     "model_name": "DescriptionStyleModel",
     "state": {
      "_model_module": "@jupyter-widgets/controls",
      "_model_module_version": "1.5.0",
      "_model_name": "DescriptionStyleModel",
      "_view_count": null,
      "_view_module": "@jupyter-widgets/base",
      "_view_module_version": "1.2.0",
      "_view_name": "StyleView",
      "description_width": ""
     }
    },
    "03b91f9d7549487f8a108585a6a45a24": {
     "model_module": "@jupyter-widgets/controls",
     "model_module_version": "1.5.0",
     "model_name": "ProgressStyleModel",
     "state": {
      "_model_module": "@jupyter-widgets/controls",
      "_model_module_version": "1.5.0",
      "_model_name": "ProgressStyleModel",
      "_view_count": null,
      "_view_module": "@jupyter-widgets/base",
      "_view_module_version": "1.2.0",
      "_view_name": "StyleView",
      "bar_color": null,
      "description_width": ""
     }
    },
    "097ef633e83343e1a40a0b860b0279b4": {
     "model_module": "@jupyter-widgets/controls",
     "model_module_version": "1.5.0",
     "model_name": "HTMLModel",
     "state": {
      "_dom_classes": [],
      "_model_module": "@jupyter-widgets/controls",
      "_model_module_version": "1.5.0",
      "_model_name": "HTMLModel",
      "_view_count": null,
      "_view_module": "@jupyter-widgets/controls",
      "_view_module_version": "1.5.0",
      "_view_name": "HTMLView",
      "description": "",
      "description_tooltip": null,
      "layout": "IPY_MODEL_898055f1e82d4188abb75beac211ff3b",
      "placeholder": "​",
      "style": "IPY_MODEL_007b1fb1d03d433387c5f394485d75cd",
      "value": "Map: 100%"
     }
    },
    "137bb4b8f3fb41c8a6b7f4dac3c5472b": {
     "model_module": "@jupyter-widgets/base",
     "model_module_version": "1.2.0",
     "model_name": "LayoutModel",
     "state": {
      "_model_module": "@jupyter-widgets/base",
      "_model_module_version": "1.2.0",
      "_model_name": "LayoutModel",
      "_view_count": null,
      "_view_module": "@jupyter-widgets/base",
      "_view_module_version": "1.2.0",
      "_view_name": "LayoutView",
      "align_content": null,
      "align_items": null,
      "align_self": null,
      "border": null,
      "bottom": null,
      "display": null,
      "flex": null,
      "flex_flow": null,
      "grid_area": null,
      "grid_auto_columns": null,
      "grid_auto_flow": null,
      "grid_auto_rows": null,
      "grid_column": null,
      "grid_gap": null,
      "grid_row": null,
      "grid_template_areas": null,
      "grid_template_columns": null,
      "grid_template_rows": null,
      "height": null,
      "justify_content": null,
      "justify_items": null,
      "left": null,
      "margin": null,
      "max_height": null,
      "max_width": null,
      "min_height": null,
      "min_width": null,
      "object_fit": null,
      "object_position": null,
      "order": null,
      "overflow": null,
      "overflow_x": null,
      "overflow_y": null,
      "padding": null,
      "right": null,
      "top": null,
      "visibility": null,
      "width": null
     }
    },
    "196df6ab8c19433cb69b87303bfabb61": {
     "model_module": "@jupyter-widgets/controls",
     "model_module_version": "1.5.0",
     "model_name": "HTMLModel",
     "state": {
      "_dom_classes": [],
      "_model_module": "@jupyter-widgets/controls",
      "_model_module_version": "1.5.0",
      "_model_name": "HTMLModel",
      "_view_count": null,
      "_view_module": "@jupyter-widgets/controls",
      "_view_module_version": "1.5.0",
      "_view_name": "HTMLView",
      "description": "",
      "description_tooltip": null,
      "layout": "IPY_MODEL_a36d87bc8b034bf889bb6867eda2761e",
      "placeholder": "​",
      "style": "IPY_MODEL_f0074a44d3a4499881c56f89b6f68223",
      "value": " 3/3 [00:00&lt;00:00, 41.69it/s]"
     }
    },
    "1c613814b0ce4d348f8d4c5d4f547324": {
     "model_module": "@jupyter-widgets/base",
     "model_module_version": "1.2.0",
     "model_name": "LayoutModel",
     "state": {
      "_model_module": "@jupyter-widgets/base",
      "_model_module_version": "1.2.0",
      "_model_name": "LayoutModel",
      "_view_count": null,
      "_view_module": "@jupyter-widgets/base",
      "_view_module_version": "1.2.0",
      "_view_name": "LayoutView",
      "align_content": null,
      "align_items": null,
      "align_self": null,
      "border": null,
      "bottom": null,
      "display": null,
      "flex": null,
      "flex_flow": null,
      "grid_area": null,
      "grid_auto_columns": null,
      "grid_auto_flow": null,
      "grid_auto_rows": null,
      "grid_column": null,
      "grid_gap": null,
      "grid_row": null,
      "grid_template_areas": null,
      "grid_template_columns": null,
      "grid_template_rows": null,
      "height": null,
      "justify_content": null,
      "justify_items": null,
      "left": null,
      "margin": null,
      "max_height": null,
      "max_width": null,
      "min_height": null,
      "min_width": null,
      "object_fit": null,
      "object_position": null,
      "order": null,
      "overflow": null,
      "overflow_x": null,
      "overflow_y": null,
      "padding": null,
      "right": null,
      "top": null,
      "visibility": null,
      "width": null
     }
    },
    "20c0885b542d4592bc82f9dbc95f2967": {
     "model_module": "@jupyter-widgets/controls",
     "model_module_version": "1.5.0",
     "model_name": "HTMLModel",
     "state": {
      "_dom_classes": [],
      "_model_module": "@jupyter-widgets/controls",
      "_model_module_version": "1.5.0",
      "_model_name": "HTMLModel",
      "_view_count": null,
      "_view_module": "@jupyter-widgets/controls",
      "_view_module_version": "1.5.0",
      "_view_name": "HTMLView",
      "description": "",
      "description_tooltip": null,
      "layout": "IPY_MODEL_56a0098d47674ae09cb4c412345a4468",
      "placeholder": "​",
      "style": "IPY_MODEL_c76764720a6f44dcb967ecce4c151faf",
      "value": "Map: 100%"
     }
    },
    "22d025d278634f8585ac8227e752d177": {
     "model_module": "@jupyter-widgets/base",
     "model_module_version": "1.2.0",
     "model_name": "LayoutModel",
     "state": {
      "_model_module": "@jupyter-widgets/base",
      "_model_module_version": "1.2.0",
      "_model_name": "LayoutModel",
      "_view_count": null,
      "_view_module": "@jupyter-widgets/base",
      "_view_module_version": "1.2.0",
      "_view_name": "LayoutView",
      "align_content": null,
      "align_items": null,
      "align_self": null,
      "border": null,
      "bottom": null,
      "display": null,
      "flex": null,
      "flex_flow": null,
      "grid_area": null,
      "grid_auto_columns": null,
      "grid_auto_flow": null,
      "grid_auto_rows": null,
      "grid_column": null,
      "grid_gap": null,
      "grid_row": null,
      "grid_template_areas": null,
      "grid_template_columns": null,
      "grid_template_rows": null,
      "height": null,
      "justify_content": null,
      "justify_items": null,
      "left": null,
      "margin": null,
      "max_height": null,
      "max_width": null,
      "min_height": null,
      "min_width": null,
      "object_fit": null,
      "object_position": null,
      "order": null,
      "overflow": null,
      "overflow_x": null,
      "overflow_y": null,
      "padding": null,
      "right": null,
      "top": null,
      "visibility": null,
      "width": null
     }
    },
    "2d1e06c7c1a143d0886f43f3bf63dbe6": {
     "model_module": "@jupyter-widgets/controls",
     "model_module_version": "1.5.0",
     "model_name": "ProgressStyleModel",
     "state": {
      "_model_module": "@jupyter-widgets/controls",
      "_model_module_version": "1.5.0",
      "_model_name": "ProgressStyleModel",
      "_view_count": null,
      "_view_module": "@jupyter-widgets/base",
      "_view_module_version": "1.2.0",
      "_view_name": "StyleView",
      "bar_color": null,
      "description_width": ""
     }
    },
    "35b2002728b9472d869a90b58b064bcf": {
     "model_module": "@jupyter-widgets/base",
     "model_module_version": "1.2.0",
     "model_name": "LayoutModel",
     "state": {
      "_model_module": "@jupyter-widgets/base",
      "_model_module_version": "1.2.0",
      "_model_name": "LayoutModel",
      "_view_count": null,
      "_view_module": "@jupyter-widgets/base",
      "_view_module_version": "1.2.0",
      "_view_name": "LayoutView",
      "align_content": null,
      "align_items": null,
      "align_self": null,
      "border": null,
      "bottom": null,
      "display": null,
      "flex": null,
      "flex_flow": null,
      "grid_area": null,
      "grid_auto_columns": null,
      "grid_auto_flow": null,
      "grid_auto_rows": null,
      "grid_column": null,
      "grid_gap": null,
      "grid_row": null,
      "grid_template_areas": null,
      "grid_template_columns": null,
      "grid_template_rows": null,
      "height": null,
      "justify_content": null,
      "justify_items": null,
      "left": null,
      "margin": null,
      "max_height": null,
      "max_width": null,
      "min_height": null,
      "min_width": null,
      "object_fit": null,
      "object_position": null,
      "order": null,
      "overflow": null,
      "overflow_x": null,
      "overflow_y": null,
      "padding": null,
      "right": null,
      "top": null,
      "visibility": "hidden",
      "width": null
     }
    },
    "36ea4a3c568f4831905834e5c5b0d03a": {
     "model_module": "@jupyter-widgets/controls",
     "model_module_version": "1.5.0",
     "model_name": "HTMLModel",
     "state": {
      "_dom_classes": [],
      "_model_module": "@jupyter-widgets/controls",
      "_model_module_version": "1.5.0",
      "_model_name": "HTMLModel",
      "_view_count": null,
      "_view_module": "@jupyter-widgets/controls",
      "_view_module_version": "1.5.0",
      "_view_name": "HTMLView",
      "description": "",
      "description_tooltip": null,
      "layout": "IPY_MODEL_1c613814b0ce4d348f8d4c5d4f547324",
      "placeholder": "​",
      "style": "IPY_MODEL_af8e311a99774dbe9f814aa242772264",
      "value": "Map: 100%"
     }
    },
    "404bfceb697342a3a2f90db43fc79aac": {
     "model_module": "@jupyter-widgets/controls",
     "model_module_version": "1.5.0",
     "model_name": "HBoxModel",
     "state": {
      "_dom_classes": [],
      "_model_module": "@jupyter-widgets/controls",
      "_model_module_version": "1.5.0",
      "_model_name": "HBoxModel",
      "_view_count": null,
      "_view_module": "@jupyter-widgets/controls",
      "_view_module_version": "1.5.0",
      "_view_name": "HBoxView",
      "box_style": "",
      "children": [
       "IPY_MODEL_20c0885b542d4592bc82f9dbc95f2967",
       "IPY_MODEL_6ed68724fa3443f0a01911b77fd76c17",
       "IPY_MODEL_8bb576c1c5444ebb8eb1390468720f9d"
      ],
      "layout": "IPY_MODEL_c54d39bf63a44ca8a7b0c0d00bd8deb5"
     }
    },
    "56a0098d47674ae09cb4c412345a4468": {
     "model_module": "@jupyter-widgets/base",
     "model_module_version": "1.2.0",
     "model_name": "LayoutModel",
     "state": {
      "_model_module": "@jupyter-widgets/base",
      "_model_module_version": "1.2.0",
      "_model_name": "LayoutModel",
      "_view_count": null,
      "_view_module": "@jupyter-widgets/base",
      "_view_module_version": "1.2.0",
      "_view_name": "LayoutView",
      "align_content": null,
      "align_items": null,
      "align_self": null,
      "border": null,
      "bottom": null,
      "display": null,
      "flex": null,
      "flex_flow": null,
      "grid_area": null,
      "grid_auto_columns": null,
      "grid_auto_flow": null,
      "grid_auto_rows": null,
      "grid_column": null,
      "grid_gap": null,
      "grid_row": null,
      "grid_template_areas": null,
      "grid_template_columns": null,
      "grid_template_rows": null,
      "height": null,
      "justify_content": null,
      "justify_items": null,
      "left": null,
      "margin": null,
      "max_height": null,
      "max_width": null,
      "min_height": null,
      "min_width": null,
      "object_fit": null,
      "object_position": null,
      "order": null,
      "overflow": null,
      "overflow_x": null,
      "overflow_y": null,
      "padding": null,
      "right": null,
      "top": null,
      "visibility": null,
      "width": null
     }
    },
    "5818bab97ad94b5c93e774e6c9c545d8": {
     "model_module": "@jupyter-widgets/controls",
     "model_module_version": "1.5.0",
     "model_name": "HBoxModel",
     "state": {
      "_dom_classes": [],
      "_model_module": "@jupyter-widgets/controls",
      "_model_module_version": "1.5.0",
      "_model_name": "HBoxModel",
      "_view_count": null,
      "_view_module": "@jupyter-widgets/controls",
      "_view_module_version": "1.5.0",
      "_view_name": "HBoxView",
      "box_style": "",
      "children": [
       "IPY_MODEL_097ef633e83343e1a40a0b860b0279b4",
       "IPY_MODEL_98a98588193948c38b3727d35a1ee0bf",
       "IPY_MODEL_e0cc1cf6d0a942c3987f5ca2de7bf910"
      ],
      "layout": "IPY_MODEL_6dba82586eeb4cd193f857706bf21dbd"
     }
    },
    "60499b5778ba4f6590d11beaf10de5e8": {
     "model_module": "@jupyter-widgets/controls",
     "model_module_version": "1.5.0",
     "model_name": "DescriptionStyleModel",
     "state": {
      "_model_module": "@jupyter-widgets/controls",
      "_model_module_version": "1.5.0",
      "_model_name": "DescriptionStyleModel",
      "_view_count": null,
      "_view_module": "@jupyter-widgets/base",
      "_view_module_version": "1.2.0",
      "_view_name": "StyleView",
      "description_width": ""
     }
    },
    "6050f464fa194b3b9f44b9fb1d563c6f": {
     "model_module": "@jupyter-widgets/base",
     "model_module_version": "1.2.0",
     "model_name": "LayoutModel",
     "state": {
      "_model_module": "@jupyter-widgets/base",
      "_model_module_version": "1.2.0",
      "_model_name": "LayoutModel",
      "_view_count": null,
      "_view_module": "@jupyter-widgets/base",
      "_view_module_version": "1.2.0",
      "_view_name": "LayoutView",
      "align_content": null,
      "align_items": null,
      "align_self": null,
      "border": null,
      "bottom": null,
      "display": null,
      "flex": null,
      "flex_flow": null,
      "grid_area": null,
      "grid_auto_columns": null,
      "grid_auto_flow": null,
      "grid_auto_rows": null,
      "grid_column": null,
      "grid_gap": null,
      "grid_row": null,
      "grid_template_areas": null,
      "grid_template_columns": null,
      "grid_template_rows": null,
      "height": null,
      "justify_content": null,
      "justify_items": null,
      "left": null,
      "margin": null,
      "max_height": null,
      "max_width": null,
      "min_height": null,
      "min_width": null,
      "object_fit": null,
      "object_position": null,
      "order": null,
      "overflow": null,
      "overflow_x": null,
      "overflow_y": null,
      "padding": null,
      "right": null,
      "top": null,
      "visibility": null,
      "width": null
     }
    },
    "6dba82586eeb4cd193f857706bf21dbd": {
     "model_module": "@jupyter-widgets/base",
     "model_module_version": "1.2.0",
     "model_name": "LayoutModel",
     "state": {
      "_model_module": "@jupyter-widgets/base",
      "_model_module_version": "1.2.0",
      "_model_name": "LayoutModel",
      "_view_count": null,
      "_view_module": "@jupyter-widgets/base",
      "_view_module_version": "1.2.0",
      "_view_name": "LayoutView",
      "align_content": null,
      "align_items": null,
      "align_self": null,
      "border": null,
      "bottom": null,
      "display": null,
      "flex": null,
      "flex_flow": null,
      "grid_area": null,
      "grid_auto_columns": null,
      "grid_auto_flow": null,
      "grid_auto_rows": null,
      "grid_column": null,
      "grid_gap": null,
      "grid_row": null,
      "grid_template_areas": null,
      "grid_template_columns": null,
      "grid_template_rows": null,
      "height": null,
      "justify_content": null,
      "justify_items": null,
      "left": null,
      "margin": null,
      "max_height": null,
      "max_width": null,
      "min_height": null,
      "min_width": null,
      "object_fit": null,
      "object_position": null,
      "order": null,
      "overflow": null,
      "overflow_x": null,
      "overflow_y": null,
      "padding": null,
      "right": null,
      "top": null,
      "visibility": "hidden",
      "width": null
     }
    },
    "6ed68724fa3443f0a01911b77fd76c17": {
     "model_module": "@jupyter-widgets/controls",
     "model_module_version": "1.5.0",
     "model_name": "FloatProgressModel",
     "state": {
      "_dom_classes": [],
      "_model_module": "@jupyter-widgets/controls",
      "_model_module_version": "1.5.0",
      "_model_name": "FloatProgressModel",
      "_view_count": null,
      "_view_module": "@jupyter-widgets/controls",
      "_view_module_version": "1.5.0",
      "_view_name": "ProgressView",
      "bar_style": "",
      "description": "",
      "description_tooltip": null,
      "layout": "IPY_MODEL_137bb4b8f3fb41c8a6b7f4dac3c5472b",
      "max": 238072,
      "min": 0,
      "orientation": "horizontal",
      "style": "IPY_MODEL_eeac483e4beb4e3896af7caea41c674d",
      "value": 238072
     }
    },
    "757c7f1330184e7d95008950c805ccb0": {
     "model_module": "@jupyter-widgets/controls",
     "model_module_version": "1.5.0",
     "model_name": "ProgressStyleModel",
     "state": {
      "_model_module": "@jupyter-widgets/controls",
      "_model_module_version": "1.5.0",
      "_model_name": "ProgressStyleModel",
      "_view_count": null,
      "_view_module": "@jupyter-widgets/base",
      "_view_module_version": "1.2.0",
      "_view_name": "StyleView",
      "bar_color": null,
      "description_width": ""
     }
    },
    "76ae6df4a5f846dc8d3871bc4b695b3a": {
     "model_module": "@jupyter-widgets/controls",
     "model_module_version": "1.5.0",
     "model_name": "HBoxModel",
     "state": {
      "_dom_classes": [],
      "_model_module": "@jupyter-widgets/controls",
      "_model_module_version": "1.5.0",
      "_model_name": "HBoxModel",
      "_view_count": null,
      "_view_module": "@jupyter-widgets/controls",
      "_view_module_version": "1.5.0",
      "_view_name": "HBoxView",
      "box_style": "",
      "children": [
       "IPY_MODEL_820536d02b474b34a0c14e26ae0129db",
       "IPY_MODEL_99e02af33a854247ba87458257c55488",
       "IPY_MODEL_196df6ab8c19433cb69b87303bfabb61"
      ],
      "layout": "IPY_MODEL_f7210c082d0145bfbb9937861c4766be"
     }
    },
    "820536d02b474b34a0c14e26ae0129db": {
     "model_module": "@jupyter-widgets/controls",
     "model_module_version": "1.5.0",
     "model_name": "HTMLModel",
     "state": {
      "_dom_classes": [],
      "_model_module": "@jupyter-widgets/controls",
      "_model_module_version": "1.5.0",
      "_model_name": "HTMLModel",
      "_view_count": null,
      "_view_module": "@jupyter-widgets/controls",
      "_view_module_version": "1.5.0",
      "_view_name": "HTMLView",
      "description": "",
      "description_tooltip": null,
      "layout": "IPY_MODEL_9a8e91550af74c2fbc753aed53708ba6",
      "placeholder": "​",
      "style": "IPY_MODEL_a72fa699908a41f9b4036ec26515afd2",
      "value": "100%"
     }
    },
    "898055f1e82d4188abb75beac211ff3b": {
     "model_module": "@jupyter-widgets/base",
     "model_module_version": "1.2.0",
     "model_name": "LayoutModel",
     "state": {
      "_model_module": "@jupyter-widgets/base",
      "_model_module_version": "1.2.0",
      "_model_name": "LayoutModel",
      "_view_count": null,
      "_view_module": "@jupyter-widgets/base",
      "_view_module_version": "1.2.0",
      "_view_name": "LayoutView",
      "align_content": null,
      "align_items": null,
      "align_self": null,
      "border": null,
      "bottom": null,
      "display": null,
      "flex": null,
      "flex_flow": null,
      "grid_area": null,
      "grid_auto_columns": null,
      "grid_auto_flow": null,
      "grid_auto_rows": null,
      "grid_column": null,
      "grid_gap": null,
      "grid_row": null,
      "grid_template_areas": null,
      "grid_template_columns": null,
      "grid_template_rows": null,
      "height": null,
      "justify_content": null,
      "justify_items": null,
      "left": null,
      "margin": null,
      "max_height": null,
      "max_width": null,
      "min_height": null,
      "min_width": null,
      "object_fit": null,
      "object_position": null,
      "order": null,
      "overflow": null,
      "overflow_x": null,
      "overflow_y": null,
      "padding": null,
      "right": null,
      "top": null,
      "visibility": null,
      "width": null
     }
    },
    "8bb576c1c5444ebb8eb1390468720f9d": {
     "model_module": "@jupyter-widgets/controls",
     "model_module_version": "1.5.0",
     "model_name": "HTMLModel",
     "state": {
      "_dom_classes": [],
      "_model_module": "@jupyter-widgets/controls",
      "_model_module_version": "1.5.0",
      "_model_name": "HTMLModel",
      "_view_count": null,
      "_view_module": "@jupyter-widgets/controls",
      "_view_module_version": "1.5.0",
      "_view_name": "HTMLView",
      "description": "",
      "description_tooltip": null,
      "layout": "IPY_MODEL_c650b3b8ba514f0b9709bfdf9545ddca",
      "placeholder": "​",
      "style": "IPY_MODEL_c9f2f317092848ed9585601925c7ecb5",
      "value": " 238000/238072 [01:54&lt;00:00, 2407.19 examples/s]"
     }
    },
    "96f62dc6ed08480ab0758377d003a0a3": {
     "model_module": "@jupyter-widgets/controls",
     "model_module_version": "1.5.0",
     "model_name": "FloatProgressModel",
     "state": {
      "_dom_classes": [],
      "_model_module": "@jupyter-widgets/controls",
      "_model_module_version": "1.5.0",
      "_model_name": "FloatProgressModel",
      "_view_count": null,
      "_view_module": "@jupyter-widgets/controls",
      "_view_module_version": "1.5.0",
      "_view_name": "ProgressView",
      "bar_style": "",
      "description": "",
      "description_tooltip": null,
      "layout": "IPY_MODEL_6050f464fa194b3b9f44b9fb1d563c6f",
      "max": 186753,
      "min": 0,
      "orientation": "horizontal",
      "style": "IPY_MODEL_03b91f9d7549487f8a108585a6a45a24",
      "value": 186753
     }
    },
    "98a98588193948c38b3727d35a1ee0bf": {
     "model_module": "@jupyter-widgets/controls",
     "model_module_version": "1.5.0",
     "model_name": "FloatProgressModel",
     "state": {
      "_dom_classes": [],
      "_model_module": "@jupyter-widgets/controls",
      "_model_module_version": "1.5.0",
      "_model_name": "FloatProgressModel",
      "_view_count": null,
      "_view_module": "@jupyter-widgets/controls",
      "_view_module_version": "1.5.0",
      "_view_name": "ProgressView",
      "bar_style": "",
      "description": "",
      "description_tooltip": null,
      "layout": "IPY_MODEL_f07d75c06b9e4ba7a445bed142643e94",
      "max": 300000,
      "min": 0,
      "orientation": "horizontal",
      "style": "IPY_MODEL_757c7f1330184e7d95008950c805ccb0",
      "value": 300000
     }
    },
    "99e02af33a854247ba87458257c55488": {
     "model_module": "@jupyter-widgets/controls",
     "model_module_version": "1.5.0",
     "model_name": "FloatProgressModel",
     "state": {
      "_dom_classes": [],
      "_model_module": "@jupyter-widgets/controls",
      "_model_module_version": "1.5.0",
      "_model_name": "FloatProgressModel",
      "_view_count": null,
      "_view_module": "@jupyter-widgets/controls",
      "_view_module_version": "1.5.0",
      "_view_name": "ProgressView",
      "bar_style": "success",
      "description": "",
      "description_tooltip": null,
      "layout": "IPY_MODEL_db110dfbde7d4bdf87c0200fc93fa44d",
      "max": 3,
      "min": 0,
      "orientation": "horizontal",
      "style": "IPY_MODEL_2d1e06c7c1a143d0886f43f3bf63dbe6",
      "value": 3
     }
    },
    "9a8e91550af74c2fbc753aed53708ba6": {
     "model_module": "@jupyter-widgets/base",
     "model_module_version": "1.2.0",
     "model_name": "LayoutModel",
     "state": {
      "_model_module": "@jupyter-widgets/base",
      "_model_module_version": "1.2.0",
      "_model_name": "LayoutModel",
      "_view_count": null,
      "_view_module": "@jupyter-widgets/base",
      "_view_module_version": "1.2.0",
      "_view_name": "LayoutView",
      "align_content": null,
      "align_items": null,
      "align_self": null,
      "border": null,
      "bottom": null,
      "display": null,
      "flex": null,
      "flex_flow": null,
      "grid_area": null,
      "grid_auto_columns": null,
      "grid_auto_flow": null,
      "grid_auto_rows": null,
      "grid_column": null,
      "grid_gap": null,
      "grid_row": null,
      "grid_template_areas": null,
      "grid_template_columns": null,
      "grid_template_rows": null,
      "height": null,
      "justify_content": null,
      "justify_items": null,
      "left": null,
      "margin": null,
      "max_height": null,
      "max_width": null,
      "min_height": null,
      "min_width": null,
      "object_fit": null,
      "object_position": null,
      "order": null,
      "overflow": null,
      "overflow_x": null,
      "overflow_y": null,
      "padding": null,
      "right": null,
      "top": null,
      "visibility": null,
      "width": null
     }
    },
    "a36d87bc8b034bf889bb6867eda2761e": {
     "model_module": "@jupyter-widgets/base",
     "model_module_version": "1.2.0",
     "model_name": "LayoutModel",
     "state": {
      "_model_module": "@jupyter-widgets/base",
      "_model_module_version": "1.2.0",
      "_model_name": "LayoutModel",
      "_view_count": null,
      "_view_module": "@jupyter-widgets/base",
      "_view_module_version": "1.2.0",
      "_view_name": "LayoutView",
      "align_content": null,
      "align_items": null,
      "align_self": null,
      "border": null,
      "bottom": null,
      "display": null,
      "flex": null,
      "flex_flow": null,
      "grid_area": null,
      "grid_auto_columns": null,
      "grid_auto_flow": null,
      "grid_auto_rows": null,
      "grid_column": null,
      "grid_gap": null,
      "grid_row": null,
      "grid_template_areas": null,
      "grid_template_columns": null,
      "grid_template_rows": null,
      "height": null,
      "justify_content": null,
      "justify_items": null,
      "left": null,
      "margin": null,
      "max_height": null,
      "max_width": null,
      "min_height": null,
      "min_width": null,
      "object_fit": null,
      "object_position": null,
      "order": null,
      "overflow": null,
      "overflow_x": null,
      "overflow_y": null,
      "padding": null,
      "right": null,
      "top": null,
      "visibility": null,
      "width": null
     }
    },
    "a72fa699908a41f9b4036ec26515afd2": {
     "model_module": "@jupyter-widgets/controls",
     "model_module_version": "1.5.0",
     "model_name": "DescriptionStyleModel",
     "state": {
      "_model_module": "@jupyter-widgets/controls",
      "_model_module_version": "1.5.0",
      "_model_name": "DescriptionStyleModel",
      "_view_count": null,
      "_view_module": "@jupyter-widgets/base",
      "_view_module_version": "1.2.0",
      "_view_name": "StyleView",
      "description_width": ""
     }
    },
    "af8e311a99774dbe9f814aa242772264": {
     "model_module": "@jupyter-widgets/controls",
     "model_module_version": "1.5.0",
     "model_name": "DescriptionStyleModel",
     "state": {
      "_model_module": "@jupyter-widgets/controls",
      "_model_module_version": "1.5.0",
      "_model_name": "DescriptionStyleModel",
      "_view_count": null,
      "_view_module": "@jupyter-widgets/base",
      "_view_module_version": "1.2.0",
      "_view_name": "StyleView",
      "description_width": ""
     }
    },
    "b2a19d1ba5e54048884adee46a58ed80": {
     "model_module": "@jupyter-widgets/base",
     "model_module_version": "1.2.0",
     "model_name": "LayoutModel",
     "state": {
      "_model_module": "@jupyter-widgets/base",
      "_model_module_version": "1.2.0",
      "_model_name": "LayoutModel",
      "_view_count": null,
      "_view_module": "@jupyter-widgets/base",
      "_view_module_version": "1.2.0",
      "_view_name": "LayoutView",
      "align_content": null,
      "align_items": null,
      "align_self": null,
      "border": null,
      "bottom": null,
      "display": null,
      "flex": null,
      "flex_flow": null,
      "grid_area": null,
      "grid_auto_columns": null,
      "grid_auto_flow": null,
      "grid_auto_rows": null,
      "grid_column": null,
      "grid_gap": null,
      "grid_row": null,
      "grid_template_areas": null,
      "grid_template_columns": null,
      "grid_template_rows": null,
      "height": null,
      "justify_content": null,
      "justify_items": null,
      "left": null,
      "margin": null,
      "max_height": null,
      "max_width": null,
      "min_height": null,
      "min_width": null,
      "object_fit": null,
      "object_position": null,
      "order": null,
      "overflow": null,
      "overflow_x": null,
      "overflow_y": null,
      "padding": null,
      "right": null,
      "top": null,
      "visibility": null,
      "width": null
     }
    },
    "c54d39bf63a44ca8a7b0c0d00bd8deb5": {
     "model_module": "@jupyter-widgets/base",
     "model_module_version": "1.2.0",
     "model_name": "LayoutModel",
     "state": {
      "_model_module": "@jupyter-widgets/base",
      "_model_module_version": "1.2.0",
      "_model_name": "LayoutModel",
      "_view_count": null,
      "_view_module": "@jupyter-widgets/base",
      "_view_module_version": "1.2.0",
      "_view_name": "LayoutView",
      "align_content": null,
      "align_items": null,
      "align_self": null,
      "border": null,
      "bottom": null,
      "display": null,
      "flex": null,
      "flex_flow": null,
      "grid_area": null,
      "grid_auto_columns": null,
      "grid_auto_flow": null,
      "grid_auto_rows": null,
      "grid_column": null,
      "grid_gap": null,
      "grid_row": null,
      "grid_template_areas": null,
      "grid_template_columns": null,
      "grid_template_rows": null,
      "height": null,
      "justify_content": null,
      "justify_items": null,
      "left": null,
      "margin": null,
      "max_height": null,
      "max_width": null,
      "min_height": null,
      "min_width": null,
      "object_fit": null,
      "object_position": null,
      "order": null,
      "overflow": null,
      "overflow_x": null,
      "overflow_y": null,
      "padding": null,
      "right": null,
      "top": null,
      "visibility": "hidden",
      "width": null
     }
    },
    "c650b3b8ba514f0b9709bfdf9545ddca": {
     "model_module": "@jupyter-widgets/base",
     "model_module_version": "1.2.0",
     "model_name": "LayoutModel",
     "state": {
      "_model_module": "@jupyter-widgets/base",
      "_model_module_version": "1.2.0",
      "_model_name": "LayoutModel",
      "_view_count": null,
      "_view_module": "@jupyter-widgets/base",
      "_view_module_version": "1.2.0",
      "_view_name": "LayoutView",
      "align_content": null,
      "align_items": null,
      "align_self": null,
      "border": null,
      "bottom": null,
      "display": null,
      "flex": null,
      "flex_flow": null,
      "grid_area": null,
      "grid_auto_columns": null,
      "grid_auto_flow": null,
      "grid_auto_rows": null,
      "grid_column": null,
      "grid_gap": null,
      "grid_row": null,
      "grid_template_areas": null,
      "grid_template_columns": null,
      "grid_template_rows": null,
      "height": null,
      "justify_content": null,
      "justify_items": null,
      "left": null,
      "margin": null,
      "max_height": null,
      "max_width": null,
      "min_height": null,
      "min_width": null,
      "object_fit": null,
      "object_position": null,
      "order": null,
      "overflow": null,
      "overflow_x": null,
      "overflow_y": null,
      "padding": null,
      "right": null,
      "top": null,
      "visibility": null,
      "width": null
     }
    },
    "c76764720a6f44dcb967ecce4c151faf": {
     "model_module": "@jupyter-widgets/controls",
     "model_module_version": "1.5.0",
     "model_name": "DescriptionStyleModel",
     "state": {
      "_model_module": "@jupyter-widgets/controls",
      "_model_module_version": "1.5.0",
      "_model_name": "DescriptionStyleModel",
      "_view_count": null,
      "_view_module": "@jupyter-widgets/base",
      "_view_module_version": "1.2.0",
      "_view_name": "StyleView",
      "description_width": ""
     }
    },
    "c9f2f317092848ed9585601925c7ecb5": {
     "model_module": "@jupyter-widgets/controls",
     "model_module_version": "1.5.0",
     "model_name": "DescriptionStyleModel",
     "state": {
      "_model_module": "@jupyter-widgets/controls",
      "_model_module_version": "1.5.0",
      "_model_name": "DescriptionStyleModel",
      "_view_count": null,
      "_view_module": "@jupyter-widgets/base",
      "_view_module_version": "1.2.0",
      "_view_name": "StyleView",
      "description_width": ""
     }
    },
    "d518b869420e45849a9c21840efae484": {
     "model_module": "@jupyter-widgets/controls",
     "model_module_version": "1.5.0",
     "model_name": "DescriptionStyleModel",
     "state": {
      "_model_module": "@jupyter-widgets/controls",
      "_model_module_version": "1.5.0",
      "_model_name": "DescriptionStyleModel",
      "_view_count": null,
      "_view_module": "@jupyter-widgets/base",
      "_view_module_version": "1.2.0",
      "_view_name": "StyleView",
      "description_width": ""
     }
    },
    "db110dfbde7d4bdf87c0200fc93fa44d": {
     "model_module": "@jupyter-widgets/base",
     "model_module_version": "1.2.0",
     "model_name": "LayoutModel",
     "state": {
      "_model_module": "@jupyter-widgets/base",
      "_model_module_version": "1.2.0",
      "_model_name": "LayoutModel",
      "_view_count": null,
      "_view_module": "@jupyter-widgets/base",
      "_view_module_version": "1.2.0",
      "_view_name": "LayoutView",
      "align_content": null,
      "align_items": null,
      "align_self": null,
      "border": null,
      "bottom": null,
      "display": null,
      "flex": null,
      "flex_flow": null,
      "grid_area": null,
      "grid_auto_columns": null,
      "grid_auto_flow": null,
      "grid_auto_rows": null,
      "grid_column": null,
      "grid_gap": null,
      "grid_row": null,
      "grid_template_areas": null,
      "grid_template_columns": null,
      "grid_template_rows": null,
      "height": null,
      "justify_content": null,
      "justify_items": null,
      "left": null,
      "margin": null,
      "max_height": null,
      "max_width": null,
      "min_height": null,
      "min_width": null,
      "object_fit": null,
      "object_position": null,
      "order": null,
      "overflow": null,
      "overflow_x": null,
      "overflow_y": null,
      "padding": null,
      "right": null,
      "top": null,
      "visibility": null,
      "width": null
     }
    },
    "dfec57bc90384adcb9e122edb0bccebc": {
     "model_module": "@jupyter-widgets/controls",
     "model_module_version": "1.5.0",
     "model_name": "HTMLModel",
     "state": {
      "_dom_classes": [],
      "_model_module": "@jupyter-widgets/controls",
      "_model_module_version": "1.5.0",
      "_model_name": "HTMLModel",
      "_view_count": null,
      "_view_module": "@jupyter-widgets/controls",
      "_view_module_version": "1.5.0",
      "_view_name": "HTMLView",
      "description": "",
      "description_tooltip": null,
      "layout": "IPY_MODEL_22d025d278634f8585ac8227e752d177",
      "placeholder": "​",
      "style": "IPY_MODEL_60499b5778ba4f6590d11beaf10de5e8",
      "value": " 186753/186753 [01:34&lt;00:00, 1428.48 examples/s]"
     }
    },
    "e0cc1cf6d0a942c3987f5ca2de7bf910": {
     "model_module": "@jupyter-widgets/controls",
     "model_module_version": "1.5.0",
     "model_name": "HTMLModel",
     "state": {
      "_dom_classes": [],
      "_model_module": "@jupyter-widgets/controls",
      "_model_module_version": "1.5.0",
      "_model_name": "HTMLModel",
      "_view_count": null,
      "_view_module": "@jupyter-widgets/controls",
      "_view_module_version": "1.5.0",
      "_view_name": "HTMLView",
      "description": "",
      "description_tooltip": null,
      "layout": "IPY_MODEL_b2a19d1ba5e54048884adee46a58ed80",
      "placeholder": "​",
      "style": "IPY_MODEL_d518b869420e45849a9c21840efae484",
      "value": " 300000/300000 [02:30&lt;00:00, 2392.64 examples/s]"
     }
    },
    "eeac483e4beb4e3896af7caea41c674d": {
     "model_module": "@jupyter-widgets/controls",
     "model_module_version": "1.5.0",
     "model_name": "ProgressStyleModel",
     "state": {
      "_model_module": "@jupyter-widgets/controls",
      "_model_module_version": "1.5.0",
      "_model_name": "ProgressStyleModel",
      "_view_count": null,
      "_view_module": "@jupyter-widgets/base",
      "_view_module_version": "1.2.0",
      "_view_name": "StyleView",
      "bar_color": null,
      "description_width": ""
     }
    },
    "f0074a44d3a4499881c56f89b6f68223": {
     "model_module": "@jupyter-widgets/controls",
     "model_module_version": "1.5.0",
     "model_name": "DescriptionStyleModel",
     "state": {
      "_model_module": "@jupyter-widgets/controls",
      "_model_module_version": "1.5.0",
      "_model_name": "DescriptionStyleModel",
      "_view_count": null,
      "_view_module": "@jupyter-widgets/base",
      "_view_module_version": "1.2.0",
      "_view_name": "StyleView",
      "description_width": ""
     }
    },
    "f07d75c06b9e4ba7a445bed142643e94": {
     "model_module": "@jupyter-widgets/base",
     "model_module_version": "1.2.0",
     "model_name": "LayoutModel",
     "state": {
      "_model_module": "@jupyter-widgets/base",
      "_model_module_version": "1.2.0",
      "_model_name": "LayoutModel",
      "_view_count": null,
      "_view_module": "@jupyter-widgets/base",
      "_view_module_version": "1.2.0",
      "_view_name": "LayoutView",
      "align_content": null,
      "align_items": null,
      "align_self": null,
      "border": null,
      "bottom": null,
      "display": null,
      "flex": null,
      "flex_flow": null,
      "grid_area": null,
      "grid_auto_columns": null,
      "grid_auto_flow": null,
      "grid_auto_rows": null,
      "grid_column": null,
      "grid_gap": null,
      "grid_row": null,
      "grid_template_areas": null,
      "grid_template_columns": null,
      "grid_template_rows": null,
      "height": null,
      "justify_content": null,
      "justify_items": null,
      "left": null,
      "margin": null,
      "max_height": null,
      "max_width": null,
      "min_height": null,
      "min_width": null,
      "object_fit": null,
      "object_position": null,
      "order": null,
      "overflow": null,
      "overflow_x": null,
      "overflow_y": null,
      "padding": null,
      "right": null,
      "top": null,
      "visibility": null,
      "width": null
     }
    },
    "f15fd9aeb5fd4178bd0af9c55ee28750": {
     "model_module": "@jupyter-widgets/controls",
     "model_module_version": "1.5.0",
     "model_name": "HBoxModel",
     "state": {
      "_dom_classes": [],
      "_model_module": "@jupyter-widgets/controls",
      "_model_module_version": "1.5.0",
      "_model_name": "HBoxModel",
      "_view_count": null,
      "_view_module": "@jupyter-widgets/controls",
      "_view_module_version": "1.5.0",
      "_view_name": "HBoxView",
      "box_style": "",
      "children": [
       "IPY_MODEL_36ea4a3c568f4831905834e5c5b0d03a",
       "IPY_MODEL_96f62dc6ed08480ab0758377d003a0a3",
       "IPY_MODEL_dfec57bc90384adcb9e122edb0bccebc"
      ],
      "layout": "IPY_MODEL_35b2002728b9472d869a90b58b064bcf"
     }
    },
    "f7210c082d0145bfbb9937861c4766be": {
     "model_module": "@jupyter-widgets/base",
     "model_module_version": "1.2.0",
     "model_name": "LayoutModel",
     "state": {
      "_model_module": "@jupyter-widgets/base",
      "_model_module_version": "1.2.0",
      "_model_name": "LayoutModel",
      "_view_count": null,
      "_view_module": "@jupyter-widgets/base",
      "_view_module_version": "1.2.0",
      "_view_name": "LayoutView",
      "align_content": null,
      "align_items": null,
      "align_self": null,
      "border": null,
      "bottom": null,
      "display": null,
      "flex": null,
      "flex_flow": null,
      "grid_area": null,
      "grid_auto_columns": null,
      "grid_auto_flow": null,
      "grid_auto_rows": null,
      "grid_column": null,
      "grid_gap": null,
      "grid_row": null,
      "grid_template_areas": null,
      "grid_template_columns": null,
      "grid_template_rows": null,
      "height": null,
      "justify_content": null,
      "justify_items": null,
      "left": null,
      "margin": null,
      "max_height": null,
      "max_width": null,
      "min_height": null,
      "min_width": null,
      "object_fit": null,
      "object_position": null,
      "order": null,
      "overflow": null,
      "overflow_x": null,
      "overflow_y": null,
      "padding": null,
      "right": null,
      "top": null,
      "visibility": null,
      "width": null
     }
    }
   }
  }
 },
 "nbformat": 4,
 "nbformat_minor": 4
}
